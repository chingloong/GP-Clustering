{
 "metadata": {
  "name": ""
 },
 "nbformat": 3,
 "nbformat_minor": 0,
 "worksheets": [
  {
   "cells": [
    {
     "cell_type": "code",
     "collapsed": false,
     "input": [
      "import numpy as np\n",
      "import matplotlib\n",
      "import matplotlib.pyplot as plt\n",
      "import scipy\n",
      "\n",
      "#plot the scatter plot\n",
      "def plotScatter(X,Y,title,c):\n",
      "    fig = plt.figure()\n",
      "    ax = fig.add_subplot(111)\n",
      "    ax.plot(X,Y,c+'.')\n",
      "    ax.set_title(title)\n",
      "    plt.show()\n",
      "    \n",
      "#init parameters for the model\n",
      "alpha = 1"
     ],
     "language": "python",
     "metadata": {},
     "outputs": [],
     "prompt_number": 2
    },
    {
     "cell_type": "code",
     "collapsed": false,
     "input": [
      "#Calculate Covariance Matrix C\n",
      "def kernelFunction(x1, x2):\n",
      "    c = 0.;\n",
      "    for i in range(len(x1)):\n",
      "        c += alpha * (x1[i] - x2[i]) **2\n",
      "\n",
      "    c = math.exp(- 0.5 * c)\n",
      "    return c\n",
      "\n",
      "#calculate the whole covariance matrix \n",
      "def getCovarianceMatrix(data):\n",
      "    size = len(data[0,:])\n",
      "    C = [[ 0. for i in range (size)] for j in range (size)]\n",
      "    for i in range (size):\n",
      "        for j in range (size):\n",
      "            C[i][j] = kernelFunction(data[:,i], data[:,j])\n",
      "    return matrix(C)  \n",
      "\n",
      "\n",
      "#TODO check how to calculate the variance\n",
      "#calculate variance of dataset\n",
      "def getVariance(data):\n",
      "    return np.var(data)\n",
      "\n",
      "#calculate inversion of Matrix A\n",
      "def getInversionMatrix(data, C):\n",
      "    size = len(data[0,:])\n",
      "    var = getVariance(data)\n",
      "    return  (C + var * matrix(np.eye(size)) ).I \n",
      "\n",
      "#calcalate the variance for a given point x\n",
      "def varianceFunction(x, data, inv):\n",
      "    size = len(data[0,:])\n",
      "    k = matrix( [kernelFunction(x, data[:,i]) for i in range (size)]).T\n",
      "    result = kernelFunction(x,x) - k.T * inv * k\n",
      "    return result[0,0]"
     ],
     "language": "python",
     "metadata": {},
     "outputs": [],
     "prompt_number": 3
    },
    {
     "cell_type": "code",
     "collapsed": false,
     "input": [
      "#normalization of point delta value\n",
      "def normalizationPointDeltaValue(x):\n",
      "    tmp = math.sqrt( x[0] **2 + x[1] **2)\n",
      "    return [x[0]/tmp, x[1]/tmp]\n",
      "\n",
      "#nabla_variance_function\n",
      "def nablaVarianceFunction(x, data, inv):\n",
      "    size = len(data[0,:])\n",
      "    k = matrix( [kernelFunction(x, data[:,i]) for i in range (size)]).T\n",
      "    nablaK_x1 = matrix([ - kernelFunction(x, data[:,i]) * (x[0] - data[0,i]) for i in range (size)]).T\n",
      "    nablaK_x2 = matrix([ - kernelFunction(x, data[:,i]) * (x[1] - data[1,i]) for i in range (size)]).T\n",
      "    delta_x1 =  nablaK_x1.T * inv * k + k.T * inv * nablaK_x1 \n",
      "    delta_x2 =  nablaK_x2.T * inv * k + k.T * inv * nablaK_x2\n",
      "    return [delta_x1[0,0], delta_x2[0,0]]\n",
      "\n",
      "#gradient descent iteration\n",
      "def gradientDescentIteration(x, data, inv, ita):\n",
      "    delta_x = nablaVarianceFunction(x,data,inv)\n",
      "    #print \"delta_x:\" , delta_x\n",
      "    return [ x[i] + ita * delta_x[i] for i in range (len(x))]\n",
      "\n",
      "def getEquilibriumPoint(x,data,inv,ita,maxIteration):\n",
      "    x_old = x\n",
      "    iteration = 1\n",
      "    for i in range(maxIteration):\n",
      "        x_new = gradientDescentIteration(x_old,data,inv,ita)\n",
      "        if( (x_new[0] - x_old[0])/x_old[0] < 0.0001 and (x_new[1] - x_old[1])/x_old[1] < 0.0001):\n",
      "            break\n",
      "        else:\n",
      "            x_old = x_new\n",
      "            iteration += 1\n",
      "    print \"iteration: \" , iteration, \"x0: \", x, \"xt: \", x_new\n",
      "    return x_new,i"
     ],
     "language": "python",
     "metadata": {},
     "outputs": [],
     "prompt_number": 24
    },
    {
     "cell_type": "code",
     "collapsed": false,
     "input": [
      "dataset = loadtxt(\"dataset\\R15.txt\")\n",
      "data = array([dataset[:,0], dataset[:,1]])\n",
      "clusters = dataset[:,2]\n",
      "size = len(clusters)\n",
      "\n",
      "X = data[0,:]\n",
      "Y = data[1,:]\n",
      "\n",
      "plotScatter(X,Y,\"Scatter Plot\", 'g')"
     ],
     "language": "python",
     "metadata": {},
     "outputs": [
      {
       "metadata": {},
       "output_type": "display_data",
       "png": "[encoded data removed]",
       "text": [
        "<matplotlib.figure.Figure at 0x78868d0>"
       ]
      }
     ],
     "prompt_number": 22
    },
    {
     "cell_type": "code",
     "collapsed": false,
     "input": [
      "C = getCovarianceMatrix(data)\n",
      "invA = getInversionMatrix(data, C)\n",
      "SEPs = array([getEquilibriumPoint(data[:,i], data, invA, 1, 1000) for i in range (size) ])"
     ],
     "language": "python",
     "metadata": {},
     "outputs": [
      {
       "output_type": "stream",
       "stream": "stdout",
       "text": [
        "iteration:  7 x0:  [  9.802  10.132] xt:  [10.011285982943116, 10.086809987312852]\n",
        "iteration: "
       ]
      },
      {
       "output_type": "stream",
       "stream": "stdout",
       "text": [
        " 9 x0:  [ 10.35    9.768] xt:  [10.012342789602494, 10.085560960260306]\n",
        "iteration: "
       ]
      },
      {
       "output_type": "stream",
       "stream": "stdout",
       "text": [
        " 6 x0:  [ 10.098   9.988] xt:  [10.012613336907208, 10.085222770806357]\n",
        "iteration: "
       ]
      },
      {
       "output_type": "stream",
       "stream": "stdout",
       "text": [
        " 6 x0:  [ 9.73  9.91] xt:  [10.011287888547249, 10.086390193339186]\n",
        "iteration: "
       ]
      },
      {
       "output_type": "stream",
       "stream": "stdout",
       "text": [
        " 9 x0:  [  9.754  10.43 ] xt:  [10.011323931537746, 10.086846437515746]\n",
        "iteration: "
       ]
      },
      {
       "output_type": "stream",
       "stream": "stdout",
       "text": [
        " 5 x0:  [ 9.836  9.902] xt:  [10.011740301598332, 10.085397003518192]\n",
        "iteration: "
       ]
      },
      {
       "output_type": "stream",
       "stream": "stdout",
       "text": [
        " 8 x0:  [ 10.238   9.866] xt:  [10.012392320782764, 10.085500368310072]\n",
        "iteration: "
       ]
      },
      {
       "output_type": "stream",
       "stream": "stdout",
       "text": [
        " 8 x0:  [ 9.53   9.862] xt:  [10.011424651016586, 10.086555418419175]\n",
        "iteration: "
       ]
      },
      {
       "output_type": "stream",
       "stream": "stdout",
       "text": [
        " 8 x0:  [ 10.154   9.82 ] xt:  [10.012345901323926, 10.085539523632409]\n",
        "iteration: "
       ]
      },
      {
       "output_type": "stream",
       "stream": "stdout",
       "text": [
        " 11 x0:  [  9.336  10.456] xt:  [10.011130561781695, 10.087067061592835]\n",
        "iteration: "
       ]
      },
      {
       "output_type": "stream",
       "stream": "stdout",
       "text": [
        " 10 x0:  [  9.378  10.21 ] xt:  [10.011344848453582, 10.086778048639037]\n",
        "iteration: "
       ]
      },
      {
       "output_type": "stream",
       "stream": "stdout",
       "text": [
        " 8 x0:  [  9.712  10.264] xt:  [10.011192881162062, 10.086973143512816]\n",
        "iteration: "
       ]
      },
      {
       "output_type": "stream",
       "stream": "stdout",
       "text": [
        " 8 x0:  [  9.638  10.208] xt:  [10.011136935915342, 10.087015358770866]\n",
        "iteration: "
       ]
      },
      {
       "output_type": "stream",
       "stream": "stdout",
       "text": [
        " 8 x0:  [ 9.518  9.956] xt:  [10.011252957291271, 10.086784622769777]\n",
        "iteration: "
       ]
      },
      {
       "output_type": "stream",
       "stream": "stdout",
       "text": [
        " 8 x0:  [ 10.236   9.91 ] xt:  [10.012324402440324, 10.085590311478814]\n",
        "iteration: "
       ]
      },
      {
       "output_type": "stream",
       "stream": "stdout",
       "text": [
        " 9 x0:  [  9.4    10.086] xt:  [10.011161666088217, 10.086960741912685]\n",
        "iteration: "
       ]
      },
      {
       "output_type": "stream",
       "stream": "stdout",
       "text": [
        " 8 x0:  [ 10.196   9.746] xt:  [10.012539942632964, 10.085293536571236]\n",
        "iteration: "
       ]
      },
      {
       "output_type": "stream",
       "stream": "stdout",
       "text": [
        " 8 x0:  [ 10.138   9.828] xt:  [10.012312851597583, 10.085579595609991]\n",
        "iteration:  0 x0:  [ 10.062  10.26 ] xt:  [10.025647100402171, 10.173371021789206]\n",
        "iteration: "
       ]
      },
      {
       "output_type": "stream",
       "stream": "stdout",
       "text": [
        " 8 x0:  [ 10.394   9.984] xt:  [10.012486507327086, 10.085443266179821]\n",
        "iteration:  0 x0:  [ 10.284  10.348] xt:  [10.159992097530914, 10.244341799958733]\n",
        "iteration: "
       ]
      },
      {
       "output_type": "stream",
       "stream": "stdout",
       "text": [
        " 7 x0:  [ 9.706  9.978] xt:  [10.011378571754605, 10.086593931804472]\n",
        "iteration: "
       ]
      },
      {
       "output_type": "stream",
       "stream": "stdout",
       "text": [
        " 9 x0:  [  9.906  10.588] xt:  [10.011099534498076, 10.08720021193329]\n",
        "iteration: "
       ]
      },
      {
       "output_type": "stream",
       "stream": "stdout",
       "text": [
        " 13 x0:  [ 10.356   9.198] xt:  [10.012390577765846, 10.085487562452732]\n",
        "iteration: "
       ]
      },
      {
       "output_type": "stream",
       "stream": "stdout",
       "text": [
        " 8 x0:  [ 9.954  9.704] xt:  [10.012294895490221, 10.085558902911554]\n",
        "iteration: "
       ]
      },
      {
       "output_type": "stream",
       "stream": "stdout",
       "text": [
        " 8 x0:  [  9.796  10.378] xt:  [10.011086018045667, 10.087153923004452]\n",
        "iteration:  0 x0:  [ 10.386  10.608] xt:  [10.29377930077516, 10.522085272343904]\n",
        "iteration: "
       ]
      },
      {
       "output_type": "stream",
       "stream": "stdout",
       "text": [
        " 8 x0:  [ 10.41    9.912] xt:  [10.012640966429013, 10.085243496707184]\n",
        "iteration:  0 x0:  [ 10.172  10.598] xt:  [10.109574466027038, 10.470695816460205]\n",
        "iteration: "
       ]
      },
      {
       "output_type": "stream",
       "stream": "stdout",
       "text": [
        " 9 x0:  [ 10.286   9.712] xt:  [10.012340602815113, 10.085555133699465]\n",
        "iteration: "
       ]
      },
      {
       "output_type": "stream",
       "stream": "stdout",
       "text": [
        " 6 x0:  [  9.932  10.234] xt:  [10.010847314265016, 10.087499549707964]\n",
        "iteration: "
       ]
      },
      {
       "output_type": "stream",
       "stream": "stdout",
       "text": [
        " 8 x0:  [ 10.298   9.948] xt:  [10.012364220999917, 10.085559030547278]\n",
        "iteration: "
       ]
      },
      {
       "output_type": "stream",
       "stream": "stdout",
       "text": [
        " 8 x0:  [ 10.352   9.932] xt:  [10.012482565044008, 10.085423825665769]\n",
        "iteration: "
       ]
      },
      {
       "output_type": "stream",
       "stream": "stdout",
       "text": [
        " 8 x0:  [  9.848  10.328] xt:  [10.011310509732892, 10.086865973966407]\n",
        "iteration:  0 x0:  [ 10.514  10.498] xt:  [10.393225351743167, 10.430321992158721]\n",
        "iteration: "
       ]
      },
      {
       "output_type": "stream",
       "stream": "stdout",
       "text": [
        " 6 x0:  [ 9.944  9.934] xt:  [10.01220380099163, 10.085542880578851]\n",
        "iteration: "
       ]
      },
      {
       "output_type": "stream",
       "stream": "stdout",
       "text": [
        " 5 x0:  [  9.92   10.022] xt:  [10.011578856841901, 10.086116390366898]\n",
        "iteration: "
       ]
      },
      {
       "output_type": "stream",
       "stream": "stdout",
       "text": [
        " 9 x0:  [  9.908  10.606] xt:  [10.011029955819195, 10.087301423035145]\n",
        "iteration: "
       ]
      },
      {
       "output_type": "stream",
       "stream": "stdout",
       "text": [
        " 7 x0:  [ 10.182   9.99 ] xt:  [10.012429752451972, 10.085483428198732]\n",
        "iteration: "
       ]
      },
      {
       "output_type": "stream",
       "stream": "stdout",
       "text": [
        " 11 x0:  [ 10.256   9.25 ] xt:  [10.012678349647683, 10.085114260237035]\n",
        "iteration:  0 x0:  [ 12.04   10.028] xt:  [12.02900176060915, 9.9959586457616929]\n",
        "iteration: "
       ]
      },
      {
       "output_type": "stream",
       "stream": "stdout",
       "text": [
        " 0 x0:  [ 12.082  10.044] xt:  [12.038260650960192, 10.002063123131736]\n",
        "iteration:  0 x0:  [ 12.4    10.156] xt:  [12.093763640375299, 10.041454087367354]\n",
        "iteration: "
       ]
      },
      {
       "output_type": "stream",
       "stream": "stdout",
       "text": [
        " 5 x0:  [ 11.988   9.926] xt:  [12.024969464272118, 9.9719812430440324]\n",
        "iteration: "
       ]
      },
      {
       "output_type": "stream",
       "stream": "stdout",
       "text": [
        " 2 x0:  [ 12.34    9.918] xt:  [12.027786233262454, 9.9722386163002668]\n",
        "iteration: "
       ]
      },
      {
       "output_type": "stream",
       "stream": "stdout",
       "text": [
        " 1 x0:  [ 12.228   9.978] xt:  [12.033782740521215, 9.9763586667852806]\n",
        "iteration:  0 x0:  [ 12.348  10.488] xt:  [12.069918360592755, 10.229382617952098]\n",
        "iteration: "
       ]
      },
      {
       "output_type": "stream",
       "stream": "stdout",
       "text": [
        " 9 x0:  [ 12.044   9.358] xt:  [12.024958009096514, 9.9718780334782036]\n",
        "iteration: "
       ]
      },
      {
       "output_type": "stream",
       "stream": "stdout",
       "text": [
        " 5 x0:  [ 11.736  10.122] xt:  [12.024955732450316, 9.9738951434126299]\n",
        "iteration: "
       ]
      },
      {
       "output_type": "stream",
       "stream": "stdout",
       "text": [
        " 5 x0:  [ 12.35    9.798] xt:  [12.024998873052033, 9.9718511327999337]\n",
        "iteration: "
       ]
      },
      {
       "output_type": "stream",
       "stream": "stdout",
       "text": [
        " 8 x0:  [ 11.246  10.122] xt:  [12.024851211236271, 9.9736329956904015]\n",
        "iteration:  0 x0:  [ 12.276  10.99 ] xt:  [11.937984391753954, 10.773058467682301]\n",
        "iteration:  0 x0:  [ 12.374  10.018] xt:  [12.085604482346046, 9.9966488778731151]\n",
        "iteration: "
       ]
      },
      {
       "output_type": "stream",
       "stream": "stdout",
       "text": [
        " 0 x0:  [ 12.53  10.  ] xt:  [12.123067280957516, 9.9967304294485277]\n",
        "iteration: "
       ]
      },
      {
       "output_type": "stream",
       "stream": "stdout",
       "text": [
        " 5 x0:  [ 12.27    9.792] xt:  [12.024966322684117, 9.9716955626493462]\n",
        "iteration:  0 x0:  [ 12.364  10.176] xt:  [12.086290873818161, 10.048720801251827]\n",
        "iteration: "
       ]
      },
      {
       "output_type": "stream",
       "stream": "stdout",
       "text": [
        " 0 x0:  [ 12.458  10.18 ] xt:  [12.108426982851945, 10.051644812509844]\n",
        "iteration: "
       ]
      },
      {
       "output_type": "stream",
       "stream": "stdout",
       "text": [
        " 7 x0:  [ 11.952   9.682] xt:  [12.024947069938284, 9.9718056438198293]\n",
        "iteration: "
       ]
      },
      {
       "output_type": "stream",
       "stream": "stdout",
       "text": [
        " 5 x0:  [ 11.772   9.924] xt:  [12.02479748187031, 9.9715608675749294]\n",
        "iteration: "
       ]
      },
      {
       "output_type": "stream",
       "stream": "stdout",
       "text": [
        " 6 x0:  [ 11.502  10.008] xt:  [12.024787926526646, 9.972383740662865]\n",
        "iteration: "
       ]
      },
      {
       "output_type": "stream",
       "stream": "stdout",
       "text": [
        " 8 x0:  [ 12.134   9.482] xt:  [12.024965529543342, 9.9719216361576066]\n",
        "iteration: "
       ]
      },
      {
       "output_type": "stream",
       "stream": "stdout",
       "text": [
        " 6 x0:  [ 11.628  10.286] xt:  [12.02501856853287, 9.9751643507742322]\n",
        "iteration: "
       ]
      },
      {
       "output_type": "stream",
       "stream": "stdout",
       "text": [
        " 7 x0:  [ 12.064   9.616] xt:  [12.024942814302886, 9.9717719603615347]\n",
        "iteration: "
       ]
      },
      {
       "output_type": "stream",
       "stream": "stdout",
       "text": [
        " 6 x0:  [ 11.906   9.82 ] xt:  [12.024929478446978, 9.9717225541076644]\n",
        "iteration: "
       ]
      },
      {
       "output_type": "stream",
       "stream": "stdout",
       "text": [
        " 6 x0:  [ 11.736  10.29 ] xt:  [12.025089068320636, 9.9743576738955344]\n",
        "iteration:  0 x0:  [ 12.114  10.904] xt:  [11.859384087245184, 10.721220928389213]\n",
        "iteration: "
       ]
      },
      {
       "output_type": "stream",
       "stream": "stdout",
       "text": [
        " 8 x0:  [ 11.59    9.712] xt:  [12.024934309591393, 9.9717590068015838]\n",
        "iteration: "
       ]
      },
      {
       "output_type": "stream",
       "stream": "stdout",
       "text": [
        " 4 x0:  [ 12.648   9.814] xt:  [12.025379949910292, 9.9720924996876921]\n",
        "iteration:  0 x0:  [ 12.164  11.018] xt:  [11.850511951836969, 10.842283080219641]\n",
        "iteration: "
       ]
      },
      {
       "output_type": "stream",
       "stream": "stdout",
       "text": [
        " 5 x0:  [ 12.22    9.796] xt:  [12.02495028513999, 9.9716246379852205]\n",
        "iteration: "
       ]
      },
      {
       "output_type": "stream",
       "stream": "stdout",
       "text": [
        " 8 x0:  [ 11.846   9.634] xt:  [12.024967423021746, 9.9719396388917261]\n",
        "iteration: "
       ]
      },
      {
       "output_type": "stream",
       "stream": "stdout",
       "text": [
        " 4 x0:  [ 11.808  10.058] xt:  [12.024734224693981, 9.9738652558694199]\n",
        "iteration: "
       ]
      },
      {
       "output_type": "stream",
       "stream": "stdout",
       "text": [
        " 5 x0:  [ 12.096   9.846] xt:  [12.0249437640419, 9.9716672120487555]\n",
        "iteration: "
       ]
      },
      {
       "output_type": "stream",
       "stream": "stdout",
       "text": [
        " 6 x0:  [ 11.594  10.078] xt:  [12.024954146473108, 9.9729293724343311]\n",
        "iteration: "
       ]
      },
      {
       "output_type": "stream",
       "stream": "stdout",
       "text": [
        " 2 x0:  [ 12.252   9.938] xt:  [12.027184228050148, 9.9722982983331878]\n",
        "iteration: "
       ]
      },
      {
       "output_type": "stream",
       "stream": "stdout",
       "text": [
        " 7 x0:  [ 11.998   9.676] xt:  [12.024954184522018, 9.9718468386706078]\n",
        "iteration: "
       ]
      },
      {
       "output_type": "stream",
       "stream": "stdout",
       "text": [
        " 4 x0:  [ 11.894  10.012] xt:  [12.02489030228783, 9.9728058954379293]\n",
        "iteration: "
       ]
      },
      {
       "output_type": "stream",
       "stream": "stdout",
       "text": [
        " 2 x0:  [ 12.274   9.936] xt:  [12.027350394211291, 9.9724238230443696]\n",
        "iteration:  0 x0:  [ 12.176  10.364] xt:  [12.032525366878696, 10.159036250823213]\n",
        "iteration: "
       ]
      },
      {
       "output_type": "stream",
       "stream": "stdout",
       "text": [
        " 0 x0:  [ 12.104  10.388] xt:  [12.007516416924247, 10.188097634216733]\n",
        "iteration: "
       ]
      },
      {
       "output_type": "stream",
       "stream": "stdout",
       "text": [
        " 5 x0:  [ 11.372  11.466] xt:  [11.161442135691292, 11.584686647539813]\n",
        "iteration: "
       ]
      },
      {
       "output_type": "stream",
       "stream": "stdout",
       "text": [
        " 8 x0:  [ 10.94   11.482] xt:  [11.15822808614621, 11.585625033059936]\n",
        "iteration: "
       ]
      },
      {
       "output_type": "stream",
       "stream": "stdout",
       "text": [
        " 5 x0:  [ 11.084  11.554] xt:  [11.157710368202702, 11.585711706312704]\n",
        "iteration: "
       ]
      },
      {
       "output_type": "stream",
       "stream": "stdout",
       "text": [
        " 5 x0:  [ 11.232  11.374] xt:  [11.160624981758332, 11.584772542016317]\n",
        "iteration:  0 x0:  [ 11.22  11.64] xt:  [11.183542743098318, 11.598146114811609]\n",
        "iteration: "
       ]
      },
      {
       "output_type": "stream",
       "stream": "stdout",
       "text": [
        " 8 x0:  [ 10.962  11.75 ] xt:  [11.158200899808062, 11.585636745037938]\n",
        "iteration: "
       ]
      },
      {
       "output_type": "stream",
       "stream": "stdout",
       "text": [
        " 7 x0:  [ 11.014  11.746] xt:  [11.158004073147801, 11.585685616548155]\n",
        "iteration: "
       ]
      },
      {
       "output_type": "stream",
       "stream": "stdout",
       "text": [
        " 9 x0:  [ 11.524  10.982] xt:  [11.160248548417444, 11.585017602800397]\n",
        "iteration: "
       ]
      },
      {
       "output_type": "stream",
       "stream": "stdout",
       "text": [
        " 6 x0:  [ 11.012  11.364] xt:  [11.157792317663274, 11.585628156080608]\n",
        "iteration: "
       ]
      },
      {
       "output_type": "stream",
       "stream": "stdout",
       "text": [
        " 7 x0:  [ 11.2    11.062] xt:  [11.160183935764085, 11.584927017707964]\n",
        "iteration:  0 x0:  [ 11.626  11.894] xt:  [11.316704236285601, 11.659711527144239]\n",
        "iteration: "
       ]
      },
      {
       "output_type": "stream",
       "stream": "stdout",
       "text": [
        " 0 x0:  [ 11.23   11.728] xt:  [11.183795661305636, 11.61845692759173]\n",
        "iteration:  0 x0:  [ 11.144  11.91 ] xt:  [11.137642591575162, 11.65761624412038]\n",
        "iteration: "
       ]
      },
      {
       "output_type": "stream",
       "stream": "stdout",
       "text": [
        " 6 x0:  [ 11.106  11.868] xt:  [11.158017388269597, 11.585712304307876]\n",
        "iteration:  0 x0:  [ 11.53   11.918] xt:  [11.284070681685183, 11.662706580084096]\n",
        "iteration: "
       ]
      },
      {
       "output_type": "stream",
       "stream": "stdout",
       "text": [
        " 7 x0:  [ 11.21   11.114] xt:  [11.159930828277474, 11.5850604369521]\n",
        "iteration: "
       ]
      },
      {
       "output_type": "stream",
       "stream": "stdout",
       "text": [
        " 10 x0:  [ 10.746  11.702] xt:  [11.158160319343862, 11.585643897739201]\n",
        "iteration:  0 x0:  [ 11.154  11.692] xt:  [11.151869245570643, 11.613727057102496]\n",
        "iteration: "
       ]
      },
      {
       "output_type": "stream",
       "stream": "stdout",
       "text": [
        " 0 x0:  [ 11.412  11.924] xt:  [11.245888911082977, 11.65958110954959]\n",
        "iteration: "
       ]
      },
      {
       "output_type": "stream",
       "stream": "stdout",
       "text": [
        " 7 x0:  [ 10.948  11.532] xt:  [11.157698391090593, 11.585740049896549]\n",
        "iteration: "
       ]
      },
      {
       "output_type": "stream",
       "stream": "stdout",
       "text": [
        " 8 x0:  [ 10.988  12.298] xt:  [11.157860690702552, 11.585719673509624]\n",
        "iteration: "
       ]
      },
      {
       "output_type": "stream",
       "stream": "stdout",
       "text": [
        " 7 x0:  [ 10.96   11.392] xt:  [11.157894933186116, 11.585677869540854]\n",
        "iteration: "
       ]
      },
      {
       "output_type": "stream",
       "stream": "stdout",
       "text": [
        " 7 x0:  [ 11.656  11.346] xt:  [11.160523445278377, 11.584965938130777]\n",
        "iteration:  0 x0:  [ 11.178  12.062] xt:  [11.150655809189667, 11.69502308915861]\n",
        "iteration: "
       ]
      },
      {
       "output_type": "stream",
       "stream": "stdout",
       "text": [
        " 5 x0:  [ 11.368  11.56 ] xt:  [11.160895579255506, 11.584948194735592]\n",
        "iteration:  0 x0:  [ 11.264  11.724] xt:  [11.197179919033434, 11.616285905353294]\n",
        "iteration: "
       ]
      },
      {
       "output_type": "stream",
       "stream": "stdout",
       "text": [
        " 0 x0:  [ 11.554  11.576] xt:  [11.305959698139409, 11.548000376713182]\n",
        "iteration: "
       ]
      },
      {
       "output_type": "stream",
       "stream": "stdout",
       "text": [
        " 7 x0:  [ 10.974  11.114] xt:  [11.158246261023042, 11.585456867471128]\n",
        "iteration: "
       ]
      },
      {
       "output_type": "stream",
       "stream": "stdout",
       "text": [
        " 5 x0:  [ 11.12   11.634] xt:  [11.158079901190746, 11.585688938243869]\n",
        "iteration:  0 x0:  [ 11.51   12.052] xt:  [11.287509582476602, 11.705713543058028]\n",
        "iteration: "
       ]
      },
      {
       "output_type": "stream",
       "stream": "stdout",
       "text": [
        " 7 x0:  [ 10.95   11.402] xt:  [11.157804527056955, 11.585699334018697]\n",
        "iteration:  0 x0:  [ 11.864  12.406] xt:  [11.545999938442355, 12.001193596341034]\n",
        "iteration: "
       ]
      },
      {
       "output_type": "stream",
       "stream": "stdout",
       "text": [
        " 9 x0:  [ 11.198  10.854] xt:  [11.159895563346881, 11.585100242378914]\n",
        "iteration:  0 x0:  [ 11.65   11.496] xt:  [11.358251090466773, 11.490445766134741]\n",
        "iteration: "
       ]
      },
      {
       "output_type": "stream",
       "stream": "stdout",
       "text": [
        " 0 x0:  [ 11.248  11.722] xt:  [11.191148785040186, 11.616466495390725]\n",
        "iteration:  0 x0:  [ 11.602  11.888] xt:  [11.307553293908803, 11.656561156741651]\n",
        "iteration: "
       ]
      },
      {
       "output_type": "stream",
       "stream": "stdout",
       "text": [
        " 6 x0:  [ 11.424  11.454] xt:  [11.160347904889807, 11.585051202423163]\n",
        "iteration:  0 x0:  [ 11.312  11.718] xt:  [11.214663661596372, 11.613061517970285]\n",
        "iteration: "
       ]
      },
      {
       "output_type": "stream",
       "stream": "stdout",
       "text": [
        " 10 x0:  [ 10.736  11.68 ] xt:  [11.158125148510704, 11.585651753650092]\n",
        "iteration:  0 x0:  [ 11.56   11.798] xt:  [11.291518104145405, 11.627149237781676]\n",
        "iteration: "
       ]
      },
      {
       "output_type": "stream",
       "stream": "stdout",
       "text": [
        " 0 x0:  [ 10.028  12.268] xt:  [9.9077863299172559, 11.900663370404731]\n",
        "iteration: "
       ]
      },
      {
       "output_type": "stream",
       "stream": "stdout",
       "text": [
        " 10 x0:  [  9.282  11.976] xt:  [9.6325926840581246, 11.808675858329158]\n",
        "iteration: "
       ]
      },
      {
       "output_type": "stream",
       "stream": "stdout",
       "text": [
        " 13 x0:  [  9.178  11.53 ] xt:  [9.6329613072253935, 11.808691438014474]\n",
        "iteration:  0 x0:  [  9.954  12.398] xt:  [9.8424241592415189, 11.952150797609464]\n",
        "iteration: "
       ]
      },
      {
       "output_type": "stream",
       "stream": "stdout",
       "text": [
        " 6 x0:  [  9.622  11.558] xt:  [9.6328595044333696, 11.808441523896303]\n",
        "iteration:  0 x0:  [  9.914  11.844] xt:  [9.8374234103588449, 11.807100170083407]\n",
        "iteration: "
       ]
      },
      {
       "output_type": "stream",
       "stream": "stdout",
       "text": [
        " 23 x0:  [  9.07   11.092] xt:  [9.6326701107435806, 11.808677878182854]\n",
        "iteration: "
       ]
      },
      {
       "output_type": "stream",
       "stream": "stdout",
       "text": [
        " 11 x0:  [ 10.578  11.354] xt:  [11.157735455821916, 11.58573705537453]\n",
        "iteration: "
       ]
      },
      {
       "output_type": "stream",
       "stream": "stdout",
       "text": [
        " 6 x0:  [  9.582  12.14 ] xt:  [9.6327903552990932, 11.808762677618809]\n",
        "iteration: "
       ]
      },
      {
       "output_type": "stream",
       "stream": "stdout",
       "text": [
        " 6 x0:  [  9.622  11.528] xt:  [9.632736971012978, 11.808369893293797]\n",
        "iteration: "
       ]
      },
      {
       "output_type": "stream",
       "stream": "stdout",
       "text": [
        " 11 x0:  [  9.35  11.71] xt:  [9.6329921289441334, 11.80869299173812]\n",
        "iteration:  0 x0:  [ 10.234  11.974] xt:  [10.157589847277988, 11.801499349310914]\n",
        "iteration: "
       ]
      },
      {
       "output_type": "stream",
       "stream": "stdout",
       "text": [
        " 11 x0:  [  8.986  12.31 ] xt:  [9.632568363994416, 11.808674573653141]\n",
        "iteration: "
       ]
      },
      {
       "output_type": "stream",
       "stream": "stdout",
       "text": [
        " 9 x0:  [  9.438  12.11 ] xt:  [9.6328614149445073, 11.808690632977148]\n",
        "iteration: "
       ]
      },
      {
       "output_type": "stream",
       "stream": "stdout",
       "text": [
        " 6 x0:  [  9.592  12.012] xt:  [9.6329290457624523, 11.80874726274048]\n",
        "iteration:  0 x0:  [  9.666  11.88 ] xt:  [9.6539771755180421, 11.829522429567486]\n",
        "iteration: "
       ]
      },
      {
       "output_type": "stream",
       "stream": "stdout",
       "text": [
        " 10 x0:  [  9.364  12.012] xt:  [9.632960023296679, 11.808692724814323]\n",
        "iteration: "
       ]
      },
      {
       "output_type": "stream",
       "stream": "stdout",
       "text": [
        " 3 x0:  [  9.71   11.772] xt:  [9.6467920050862332, 11.808392149301101]\n",
        "iteration:  0 x0:  [  9.992  11.836] xt:  [9.9102641910743259, 11.79642264080867]\n",
        "iteration: "
       ]
      },
      {
       "output_type": "stream",
       "stream": "stdout",
       "text": [
        " 0 x0:  [  9.916  12.028] xt:  [9.8238272276073797, 11.850056894652347]\n",
        "iteration: "
       ]
      },
      {
       "output_type": "stream",
       "stream": "stdout",
       "text": [
        " 9 x0:  [  9.382  12.226] xt:  [9.6326358852011822, 11.808681385850209]\n",
        "iteration:  0 x0:  [  9.808  12.23 ] xt:  [9.7359530762452469, 11.895316939866678]\n",
        "iteration: "
       ]
      },
      {
       "output_type": "stream",
       "stream": "stdout",
       "text": [
        " 10 x0:  [  9.272  12.152] xt:  [9.6327444165984275, 11.808683449922206]\n",
        "iteration: "
       ]
      },
      {
       "output_type": "stream",
       "stream": "stdout",
       "text": [
        " 13 x0:  [  9.392  11.18 ] xt:  [9.6327161589331745, 11.808677754710912]\n",
        "iteration: "
       ]
      },
      {
       "output_type": "stream",
       "stream": "stdout",
       "text": [
        " 10 x0:  [  9.28   11.976] xt:  [9.6325841702136827, 11.808675457143808]\n",
        "iteration: "
       ]
      },
      {
       "output_type": "stream",
       "stream": "stdout",
       "text": [
        " 6 x0:  [  9.848  11.632] xt:  [9.6473086393594869, 11.80867598739712]\n",
        "iteration: "
       ]
      },
      {
       "output_type": "stream",
       "stream": "stdout",
       "text": [
        " 12 x0:  [  9.322  11.514] xt:  [9.6329789143732416, 11.808692028205877]\n",
        "iteration:  0 x0:  [  9.718  11.95 ] xt:  [9.6852284346161941, 11.844595407665141]\n",
        "iteration: "
       ]
      },
      {
       "output_type": "stream",
       "stream": "stdout",
       "text": [
        " 12 x0:  [  9.12  11.76] xt:  [9.6327881585053277, 11.808683753691557]\n",
        "iteration: "
       ]
      },
      {
       "output_type": "stream",
       "stream": "stdout",
       "text": [
        " 11 x0:  [  8.978  12.37 ] xt:  [9.6325856504228824, 11.808675517539729]\n",
        "iteration:  0 x0:  [ 10.072  12.202] xt:  [9.9528798174858792, 11.878388831407596]\n",
        "iteration: "
       ]
      },
      {
       "output_type": "stream",
       "stream": "stdout",
       "text": [
        " 0 x0:  [  9.966  11.822] xt:  [9.8869328459121011, 11.794843499479502]\n",
        "iteration: "
       ]
      },
      {
       "output_type": "stream",
       "stream": "stdout",
       "text": [
        " 9 x0:  [  9.506  11.648] xt:  [9.6326480210282739, 11.808674043404057]\n",
        "iteration: "
       ]
      },
      {
       "output_type": "stream",
       "stream": "stdout",
       "text": [
        " 6 x0:  [  9.702  11.536] xt:  [9.6373075080206849, 11.808527975004903]\n",
        "iteration: "
       ]
      },
      {
       "output_type": "stream",
       "stream": "stdout",
       "text": [
        " 9 x0:  [  9.45  11.96] xt:  [9.6327882919755918, 11.808686275489702]\n",
        "iteration:  0 x0:  [  9.916  11.962] xt:  [9.8288025290200665, 11.836732057241589]\n",
        "iteration: "
       ]
      },
      {
       "output_type": "stream",
       "stream": "stdout",
       "text": [
        " 7 x0:  [  9.96   11.538] xt:  [9.6541344304554801, 11.808484729476911]\n",
        "iteration: "
       ]
      },
      {
       "output_type": "stream",
       "stream": "stdout",
       "text": [
        " 13 x0:  [  9.014  11.744] xt:  [9.6328820980122316, 11.80868797132745]\n",
        "iteration: "
       ]
      },
      {
       "output_type": "stream",
       "stream": "stdout",
       "text": [
        " 12 x0:  [  9.024  11.846] xt:  [9.6326064701093035, 11.808675267213872]\n",
        "iteration: "
       ]
      },
      {
       "output_type": "stream",
       "stream": "stdout",
       "text": [
        " 16 x0:  [ 10.296  11.61 ] xt:  [9.6526324613558501, 11.808647934358799]\n",
        "iteration: "
       ]
      },
      {
       "output_type": "stream",
       "stream": "stdout",
       "text": [
        " 4 x0:  [  7.87   10.838] xt:  [8.1761006735560411, 10.819846292180067]\n",
        "iteration: "
       ]
      },
      {
       "output_type": "stream",
       "stream": "stdout",
       "text": [
        " 7 x0:  [  8.164  10.534] xt:  [8.1761605875396288, 10.819959670404838]\n",
        "iteration: "
       ]
      },
      {
       "output_type": "stream",
       "stream": "stdout",
       "text": [
        " 6 x0:  [  8.214  10.62 ] xt:  [8.1761115664721657, 10.819813698288556]\n",
        "iteration: "
       ]
      },
      {
       "output_type": "stream",
       "stream": "stdout",
       "text": [
        " 6 x0:  [  8.166  10.698] xt:  [8.1762255496605718, 10.820149804090667]\n",
        "iteration: "
       ]
      },
      {
       "output_type": "stream",
       "stream": "stdout",
       "text": [
        " 5 x0:  [  8.05   10.746] xt:  [8.1761255820616192, 10.819863095146975]\n",
        "iteration: "
       ]
      },
      {
       "output_type": "stream",
       "stream": "stdout",
       "text": [
        " 2 x0:  [  7.978  11.13 ] xt:  [8.1803804949957541, 10.832660690540591]\n",
        "iteration: "
       ]
      },
      {
       "output_type": "stream",
       "stream": "stdout",
       "text": [
        " 2 x0:  [  8.08   10.992] xt:  [8.1789004260247395, 10.828445051843126]\n",
        "iteration:  0 x0:  [  8.472  11.082] xt:  [8.3614060254765104, 10.984055548475112]\n",
        "iteration: "
       ]
      },
      {
       "output_type": "stream",
       "stream": "stdout",
       "text": [
        " 6 x0:  [  8.494  10.584] xt:  [8.1761369533686654, 10.819857919848127]\n",
        "iteration: "
       ]
      },
      {
       "output_type": "stream",
       "stream": "stdout",
       "text": [
        " 8 x0:  [  8.354  10.38 ] xt:  [8.1761352887005945, 10.819884720006186]\n",
        "iteration: "
       ]
      },
      {
       "output_type": "stream",
       "stream": "stdout",
       "text": [
        " 6 x0:  [  8.096  10.714] xt:  [8.1762314374943834, 10.820167840559483]\n",
        "iteration: "
       ]
      },
      {
       "output_type": "stream",
       "stream": "stdout",
       "text": [
        " 4 x0:  [  7.882  10.832] xt:  [8.1760854008350297, 10.819798722181496]\n",
        "iteration: "
       ]
      },
      {
       "output_type": "stream",
       "stream": "stdout",
       "text": [
        " 2 x0:  [  7.908  11.346] xt:  [8.1846726656783098, 10.842866330911729]\n",
        "iteration: "
       ]
      },
      {
       "output_type": "stream",
       "stream": "stdout",
       "text": [
        " 4 x0:  [  7.814  10.872] xt:  [8.176189263356104, 10.820121833679398]\n",
        "iteration: "
       ]
      },
      {
       "output_type": "stream",
       "stream": "stdout",
       "text": [
        " 11 x0:  [  8.28   10.104] xt:  [8.1761439526418727, 10.8199106858468]\n",
        "iteration: "
       ]
      },
      {
       "output_type": "stream",
       "stream": "stdout",
       "text": [
        " 6 x0:  [  8.082  10.676] xt:  [8.176177853117764, 10.820011386355926]\n",
        "iteration: "
       ]
      },
      {
       "output_type": "stream",
       "stream": "stdout",
       "text": [
        " 11 x0:  [  8.068  10.118] xt:  [8.176160289513863, 10.819958820143846]\n",
        "iteration: "
       ]
      },
      {
       "output_type": "stream",
       "stream": "stdout",
       "text": [
        " 6 x0:  [  8.116  10.698] xt:  [8.1762147943267074, 10.820119145723451]\n",
        "iteration: "
       ]
      },
      {
       "output_type": "stream",
       "stream": "stdout",
       "text": [
        " 5 x0:  [  8.042  10.79 ] xt:  [8.1762227996703771, 10.820148832523754]\n",
        "iteration: "
       ]
      },
      {
       "output_type": "stream",
       "stream": "stdout",
       "text": [
        " 2 x0:  [  8.096  10.878] xt:  [8.1766973963193745, 10.82259180025377]\n",
        "iteration: "
       ]
      },
      {
       "output_type": "stream",
       "stream": "stdout",
       "text": [
        " 2 x0:  [  8.124  10.932] xt:  [8.1782082100709239, 10.826382769264796]\n",
        "iteration:  0 x0:  [  8.632  11.124] xt:  [8.5181866599541696, 11.060628204216437]\n",
        "iteration: "
       ]
      },
      {
       "output_type": "stream",
       "stream": "stdout",
       "text": [
        " 5 x0:  [  8.27   10.716] xt:  [8.1761748439101165, 10.819985490292375]\n",
        "iteration: "
       ]
      },
      {
       "output_type": "stream",
       "stream": "stdout",
       "text": [
        " 11 x0:  [  7.622  10.148] xt:  [8.1761515018980688, 10.819932950055312]\n",
        "iteration: "
       ]
      },
      {
       "output_type": "stream",
       "stream": "stdout",
       "text": [
        " 1 x0:  [  8.198  11.398] xt:  [8.2482104235886258, 10.923411794008882]\n",
        "iteration:  0 x0:  [  8.582  11.064] xt:  [8.4497282837889838, 11.0071154242922]\n",
        "iteration: "
       ]
      },
      {
       "output_type": "stream",
       "stream": "stdout",
       "text": [
        " 2 x0:  [  7.942  11.076] xt:  [8.1789171626859911, 10.829518341982249]\n",
        "iteration: "
       ]
      },
      {
       "output_type": "stream",
       "stream": "stdout",
       "text": [
        " 7 x0:  [  8.004  10.574] xt:  [8.1761932666247379, 10.82005589509342]\n",
        "iteration: "
       ]
      },
      {
       "output_type": "stream",
       "stream": "stdout",
       "text": [
        " 1 x0:  [  8.504  11.378] xt:  [8.4174811308572561, 11.03896169522627]\n",
        "iteration: "
       ]
      },
      {
       "output_type": "stream",
       "stream": "stdout",
       "text": [
        " 1 x0:  [  8.118  11.012] xt:  [8.1838701962165885, 10.844063601612483]\n",
        "iteration: "
       ]
      },
      {
       "output_type": "stream",
       "stream": "stdout",
       "text": [
        " 2 x0:  [  7.874  11.296] xt:  [8.1824957835515324, 10.838973012229053]\n",
        "iteration: "
       ]
      },
      {
       "output_type": "stream",
       "stream": "stdout",
       "text": [
        " 4 x0:  [  7.668  10.924] xt:  [8.1762495925216871, 10.820363623771883]\n",
        "iteration: "
       ]
      },
      {
       "output_type": "stream",
       "stream": "stdout",
       "text": [
        " 6 x0:  [  7.966  10.72 ] xt:  [8.1762160689882215, 10.820123765593017]\n",
        "iteration: "
       ]
      },
      {
       "output_type": "stream",
       "stream": "stdout",
       "text": [
        " 3 x0:  [  7.94   10.996] xt:  [8.1770594189755474, 10.822851555206634]\n",
        "iteration: "
       ]
      },
      {
       "output_type": "stream",
       "stream": "stdout",
       "text": [
        " 2 x0:  [  7.988  11.228] xt:  [8.1829537264556365, 10.838026773834526]\n",
        "iteration: "
       ]
      },
      {
       "output_type": "stream",
       "stream": "stdout",
       "text": [
        " 1 x0:  [  8.164  11.112] xt:  [8.1949887379263888, 10.861034538096384]\n",
        "iteration: "
       ]
      },
      {
       "output_type": "stream",
       "stream": "stdout",
       "text": [
        " 2 x0:  [  8.386  10.772] xt:  [8.1806878667867853, 10.823401155877631]\n",
        "iteration:  0 x0:  [  8.248  10.994] xt:  [8.2172939645379266, 10.893413699949868]\n",
        "iteration: "
       ]
      },
      {
       "output_type": "stream",
       "stream": "stdout",
       "text": [
        " 5 x0:  [  8.286  10.734] xt:  [8.1762439186225926, 10.820183994929614]\n",
        "iteration: "
       ]
      },
      {
       "output_type": "stream",
       "stream": "stdout",
       "text": [
        " 9 x0:  [  8.224  10.316] xt:  [8.1762094041254993, 10.820102772981711]\n",
        "iteration: "
       ]
      },
      {
       "output_type": "stream",
       "stream": "stdout",
       "text": [
        " 8 x0:  [ 7.976  9.578] xt:  [8.1264638712185366, 9.1005628248045536]\n",
        "iteration: "
       ]
      },
      {
       "output_type": "stream",
       "stream": "stdout",
       "text": [
        " 6 x0:  [ 7.876  8.796] xt:  [8.1275021178464009, 9.0984057180143996]\n",
        "iteration: "
       ]
      },
      {
       "output_type": "stream",
       "stream": "stdout",
       "text": [
        " 6 x0:  [ 8.172  9.01 ] xt:  [8.1275058706228958, 9.0983983613528263]\n",
        "iteration: "
       ]
      },
      {
       "output_type": "stream",
       "stream": "stdout",
       "text": [
        " 5 x0:  [ 8.068  9.202] xt:  [8.1265248879689977, 9.1004332234080714]\n",
        "iteration: "
       ]
      },
      {
       "output_type": "stream",
       "stream": "stdout",
       "text": [
        " 10 x0:  [ 8.416  8.654] xt:  [8.1274258290801615, 9.098561550393951]\n",
        "iteration: "
       ]
      },
      {
       "output_type": "stream",
       "stream": "stdout",
       "text": [
        " 17 x0:  [ 8.71   8.458] xt:  [8.1275673250851188, 9.0982734345814489]\n",
        "iteration: "
       ]
      },
      {
       "output_type": "stream",
       "stream": "stdout",
       "text": [
        " 9 x0:  [ 8.056  8.434] xt:  [8.1274521446753099, 9.098507848868417]\n",
        "iteration: "
       ]
      },
      {
       "output_type": "stream",
       "stream": "stdout",
       "text": [
        " 7 x0:  [ 7.304  9.266] xt:  [8.1266278799359402, 9.100215925346987]\n",
        "iteration: "
       ]
      },
      {
       "output_type": "stream",
       "stream": "stdout",
       "text": [
        " 8 x0:  [ 8.118  8.608] xt:  [8.1275504970968413, 9.0983076151452789]\n",
        "iteration: "
       ]
      },
      {
       "output_type": "stream",
       "stream": "stdout",
       "text": [
        " 8 x0:  [ 7.616  9.446] xt:  [8.126790801539526, 9.0998741239812819]\n",
        "iteration: "
       ]
      },
      {
       "output_type": "stream",
       "stream": "stdout",
       "text": [
        " 6 x0:  [ 8.092  8.956] xt:  [8.1274978631978598, 9.0984145893265023]\n",
        "iteration: "
       ]
      },
      {
       "output_type": "stream",
       "stream": "stdout",
       "text": [
        " 8 x0:  [ 8.368  8.968] xt:  [8.1274441720881629, 9.0985241160969235]\n",
        "iteration: "
       ]
      },
      {
       "output_type": "stream",
       "stream": "stdout",
       "text": [
        " 7 x0:  [ 8.022  9.334] xt:  [8.126797413397183, 9.0998602894269904]\n",
        "iteration:  0 x0:  [ 8.32   9.062] xt:  [8.1920373986090702, 9.0499266408758263]\n",
        "iteration: "
       ]
      },
      {
       "output_type": "stream",
       "stream": "stdout",
       "text": [
        " 3 x0:  [ 7.832  8.952] xt:  [8.127064805537481, 9.0991708173843566]\n",
        "iteration: "
       ]
      },
      {
       "output_type": "stream",
       "stream": "stdout",
       "text": [
        " 6 x0:  [ 7.704  8.672] xt:  [8.1275241927564945, 9.098360393052694]\n",
        "iteration:  0 x0:  [ 8.236  9.108] xt:  [8.1529905404813938, 9.0870083879062094]\n",
        "iteration: "
       ]
      },
      {
       "output_type": "stream",
       "stream": "stdout",
       "text": [
        " 8 x0:  [ 8.37   8.904] xt:  [8.1275147814325948, 9.0983802470821189]\n",
        "iteration: "
       ]
      },
      {
       "output_type": "stream",
       "stream": "stdout",
       "text": [
        " 8 x0:  [ 8.352  8.896] xt:  [8.127502416667685, 9.0984054124024407]\n",
        "iteration: "
       ]
      },
      {
       "output_type": "stream",
       "stream": "stdout",
       "text": [
        " 6 x0:  [ 8.046  9.228] xt:  [8.1267812409514626, 9.0998940770257128]\n",
        "iteration: "
       ]
      },
      {
       "output_type": "stream",
       "stream": "stdout",
       "text": [
        " 8 x0:  [ 7.71   9.538] xt:  [8.1265894624256969, 9.1002971915840725]\n",
        "iteration: "
       ]
      },
      {
       "output_type": "stream",
       "stream": "stdout",
       "text": [
        " 11 x0:  [ 8.534  8.55 ] xt:  [8.1275340761656079, 9.098340999177049]\n",
        "iteration: "
       ]
      },
      {
       "output_type": "stream",
       "stream": "stdout",
       "text": [
        " 5 x0:  [ 7.996  9.172] xt:  [8.1265814350121914, 9.100313163768563]\n",
        "iteration: "
       ]
      },
      {
       "output_type": "stream",
       "stream": "stdout",
       "text": [
        " 5 x0:  [ 8.046  9.204] xt:  [8.1264780211621002, 9.1005322308196241]\n",
        "iteration:  0 x0:  [ 8.622  9.174] xt:  [8.385368940710201, 9.0837086789182884]\n",
        "iteration: "
       ]
      },
      {
       "output_type": "stream",
       "stream": "stdout",
       "text": [
        " 3 x0:  [ 7.776  8.898] xt:  [8.1273405055520804, 9.0985567117336839]\n",
        "iteration: "
       ]
      },
      {
       "output_type": "stream",
       "stream": "stdout",
       "text": [
        " 6 x0:  [ 8.226  9.038] xt:  [8.1275328657392922, 9.0983435167948628]\n",
        "iteration: "
       ]
      },
      {
       "output_type": "stream",
       "stream": "stdout",
       "text": [
        " 6 x0:  [ 7.904  9.194] xt:  [8.1267837137538805, 9.0998887647763205]\n",
        "iteration: "
       ]
      },
      {
       "output_type": "stream",
       "stream": "stdout",
       "text": [
        " 5 x0:  [ 7.874  8.856] xt:  [8.1275894544116412, 9.0982264343516803]\n",
        "iteration: "
       ]
      },
      {
       "output_type": "stream",
       "stream": "stdout",
       "text": [
        " 5 x0:  [ 7.992  8.952] xt:  [8.1275254698931008, 9.098357396038887]\n",
        "iteration:  0 x0:  [ 8.262  9.468] xt:  [8.1443581541047099, 9.3423100560448695]\n",
        "iteration: "
       ]
      },
      {
       "output_type": "stream",
       "stream": "stdout",
       "text": [
        " 6 x0:  [ 8.088  9.294] xt:  [8.1265721935036197, 9.1003336326641602]\n",
        "iteration: "
       ]
      },
      {
       "output_type": "stream",
       "stream": "stdout",
       "text": [
        " 2 x0:  [ 8.034  9.792] xt:  [8.1050020757131609, 9.4952728446256334]\n",
        "iteration: "
       ]
      },
      {
       "output_type": "stream",
       "stream": "stdout",
       "text": [
        " 7 x0:  [ 8.352  9.016] xt:  [8.127564134243455, 9.0982799423642025]\n",
        "iteration: "
       ]
      },
      {
       "output_type": "stream",
       "stream": "stdout",
       "text": [
        " 7 x0:  [ 7.85   9.334] xt:  [8.1267527289621508, 9.0999538390395074]\n",
        "iteration:  0 x0:  [ 8.404  9.366] xt:  [8.2106588164041483, 9.2522528993855708]\n",
        "iteration: "
       ]
      },
      {
       "output_type": "stream",
       "stream": "stdout",
       "text": [
        " 6 x0:  [ 7.892  8.808] xt:  [8.1275008066993237, 9.0984084130211631]\n",
        "iteration:  0 x0:  [ 8.202  9.232] xt:  [8.1291097320083487, 9.1576717558944729]\n",
        "iteration: "
       ]
      },
      {
       "output_type": "stream",
       "stream": "stdout",
       "text": [
        " 5 x0:  [ 7.668  9.026] xt:  [8.1266900740338848, 9.1000811061015856]\n",
        "iteration:  0 x0:  [ 8.242  9.308] xt:  [8.1364823461761695, 9.2058156227761554]\n",
        "iteration: "
       ]
      },
      {
       "output_type": "stream",
       "stream": "stdout",
       "text": [
        " 0 x0:  [ 9.432  8.61 ] xt:  [9.3934247466950378, 8.3713031615318734]\n",
        "iteration:  0 x0:  [ 10.066   8.19 ] xt:  [9.9407432383628773, 8.1437657189304122]\n",
        "iteration: "
       ]
      },
      {
       "output_type": "stream",
       "stream": "stdout",
       "text": [
        " 7 x0:  [ 9.146  8.044] xt:  [9.4742033440442874, 8.0179718638530684]\n",
        "iteration: "
       ]
      },
      {
       "output_type": "stream",
       "stream": "stdout",
       "text": [
        " 5 x0:  [ 9.662  7.866] xt:  [9.4754141476130229, 8.0174728872657308]\n",
        "iteration: "
       ]
      },
      {
       "output_type": "stream",
       "stream": "stdout",
       "text": [
        " 5 x0:  [ 9.6    7.874] xt:  [9.4751835920110139, 8.017565691153786]\n",
        "iteration: "
       ]
      },
      {
       "output_type": "stream",
       "stream": "stdout",
       "text": [
        " 12 x0:  [ 8.618  8.552] xt:  [8.1275270463197735, 9.0983552951669484]\n",
        "iteration: "
       ]
      },
      {
       "output_type": "stream",
       "stream": "stdout",
       "text": [
        " 4 x0:  [ 9.334  7.658] xt:  [9.4749156287072971, 8.0176664675785592]\n",
        "iteration: "
       ]
      },
      {
       "output_type": "stream",
       "stream": "stdout",
       "text": [
        " 3 x0:  [ 9.424  7.83 ] xt:  [9.4752666519406397, 8.01749785441074]\n",
        "iteration: "
       ]
      },
      {
       "output_type": "stream",
       "stream": "stdout",
       "text": [
        " 9 x0:  [ 8.892  8.166] xt:  [9.4741298310610933, 8.018002928087725]\n",
        "iteration: "
       ]
      },
      {
       "output_type": "stream",
       "stream": "stdout",
       "text": [
        " 3 x0:  [ 9.386  7.746] xt:  [9.4753696023048875, 8.0174443428292808]\n",
        "iteration:  0 x0:  [ 9.878  8.054] xt:  [9.7070381852154881, 8.0457736429648694]\n",
        "iteration: "
       ]
      },
      {
       "output_type": "stream",
       "stream": "stdout",
       "text": [
        " 4 x0:  [ 9.558  7.948] xt:  [9.4755667335728599, 8.0174100098225587]\n",
        "iteration: "
       ]
      },
      {
       "output_type": "stream",
       "stream": "stdout",
       "text": [
        " 6 x0:  [ 9.222  8.002] xt:  [9.4740650808325508, 8.0180303012760312]\n",
        "iteration:  0 x0:  [ 9.52   8.282] xt:  [9.4769316031443829, 8.1011341978230362]\n",
        "iteration: "
       ]
      },
      {
       "output_type": "stream",
       "stream": "stdout",
       "text": [
        " 5 x0:  [ 9.76   7.932] xt:  [9.4759201551068895, 8.0172736402428679]\n",
        "iteration:  0 x0:  [ 9.568  8.052] xt:  [9.5102266872536863, 8.0183117722240347]\n",
        "iteration: "
       ]
      },
      {
       "output_type": "stream",
       "stream": "stdout",
       "text": [
        " 5 x0:  [ 9.736  7.552] xt:  [9.4758214771741169, 8.0173089470072476]\n",
        "iteration:  0 x0:  [ 9.584  8.478] xt:  [9.5263069208167312, 8.2412356756719554]\n",
        "iteration: "
       ]
      },
      {
       "output_type": "stream",
       "stream": "stdout",
       "text": [
        " 6 x0:  [ 9.358  8.242] xt:  [9.4739572414771551, 8.0180762641895278]\n",
        "iteration: "
       ]
      },
      {
       "output_type": "stream",
       "stream": "stdout",
       "text": [
        " 3 x0:  [ 9.404  7.79 ] xt:  [9.4752775295560898, 8.0174886143151909]\n",
        "iteration:  0 x0:  [ 9.458  8.54 ] xt:  [9.4195278684371271, 8.2978166121418191]\n",
        "iteration: "
       ]
      },
      {
       "output_type": "stream",
       "stream": "stdout",
       "text": [
        " 4 x0:  [ 9.482  7.766] xt:  [9.4754154201590524, 8.0174658959644081]\n",
        "iteration: "
       ]
      },
      {
       "output_type": "stream",
       "stream": "stdout",
       "text": [
        " 9 x0:  [ 8.844  8.024] xt:  [9.4742668088813975, 8.0179451204715413]\n",
        "iteration:  0 x0:  [ 9.29   8.472] xt:  [9.2865650767758048, 8.2605136762970481]\n",
        "iteration: "
       ]
      },
      {
       "output_type": "stream",
       "stream": "stdout",
       "text": [
        " 4 x0:  [ 9.274  7.566] xt:  [9.4748872469498782, 8.0176728902457981]\n",
        "iteration: "
       ]
      },
      {
       "output_type": "stream",
       "stream": "stdout",
       "text": [
        " 7 x0:  [ 9.11   8.014] xt:  [9.47417099121059, 8.0179855216131202]\n",
        "iteration: "
       ]
      },
      {
       "output_type": "stream",
       "stream": "stdout",
       "text": [
        " 4 x0:  [ 9.542  7.688] xt:  [9.4759251023796889, 8.0172602473529455]\n",
        "iteration: "
       ]
      },
      {
       "output_type": "stream",
       "stream": "stdout",
       "text": [
        " 5 x0:  [ 9.432  8.122] xt:  [9.4741518355180769, 8.0179940534742986]\n",
        "iteration:  0 x0:  [ 9.786  8.066] xt:  [9.6355969741947138, 8.034076339183498]\n",
        "iteration: "
       ]
      },
      {
       "output_type": "stream",
       "stream": "stdout",
       "text": [
        " 4 x0:  [ 9.382  7.664] xt:  [9.4751573750340281, 8.0175677002766204]\n",
        "iteration: "
       ]
      },
      {
       "output_type": "stream",
       "stream": "stdout",
       "text": [
        " 6 x0:  [ 9.404  8.228] xt:  [9.4741611553557394, 8.0179898382007568]\n",
        "iteration: "
       ]
      },
      {
       "output_type": "stream",
       "stream": "stdout",
       "text": [
        " 7 x0:  [ 9.146  8.158] xt:  [9.4739910431060448, 8.0180617658053972]\n",
        "iteration: "
       ]
      },
      {
       "output_type": "stream",
       "stream": "stdout",
       "text": [
        " 5 x0:  [ 9.622  8.004] xt:  [9.4752167392218869, 8.0175531134903721]\n",
        "iteration: "
       ]
      },
      {
       "output_type": "stream",
       "stream": "stdout",
       "text": [
        " 2 x0:  [ 10.286   7.892] xt:  [9.8689838040751141, 8.1042592087521506]\n",
        "iteration: "
       ]
      },
      {
       "output_type": "stream",
       "stream": "stdout",
       "text": [
        " 4 x0:  [ 9.43   7.676] xt:  [9.4753680876545623, 8.0174825291519749]\n",
        "iteration: "
       ]
      },
      {
       "output_type": "stream",
       "stream": "stdout",
       "text": [
        " 4 x0:  [ 9.44   8.058] xt:  [9.4740314002695136, 8.0180453744109865]\n",
        "iteration: "
       ]
      },
      {
       "output_type": "stream",
       "stream": "stdout",
       "text": [
        " 5 x0:  [ 9.788  7.684] xt:  [9.4760016682725166, 8.0172398518675951]\n",
        "iteration: "
       ]
      },
      {
       "output_type": "stream",
       "stream": "stdout",
       "text": [
        " 4 x0:  [ 9.586  7.91 ] xt:  [9.4758707597192782, 8.0172883456519646]\n",
        "iteration: "
       ]
      },
      {
       "output_type": "stream",
       "stream": "stdout",
       "text": [
        " 5 x0:  [ 9.694  7.448] xt:  [9.4757730546475152, 8.0173267189238899]\n",
        "iteration: "
       ]
      },
      {
       "output_type": "stream",
       "stream": "stdout",
       "text": [
        " 4 x0:  [ 9.576  7.866] xt:  [9.4758496263328524, 8.0172952153254062]\n",
        "iteration:  0 x0:  [ 11.442   8.688] xt:  [11.33362949040726, 8.5855951129524364]\n",
        "iteration: "
       ]
      },
      {
       "output_type": "stream",
       "stream": "stdout",
       "text": [
        " 0 x0:  [ 11.466   8.558] xt:  [11.313634355651022, 8.5129944004510119]\n",
        "iteration: "
       ]
      },
      {
       "output_type": "stream",
       "stream": "stdout",
       "text": [
        " 8 x0:  [ 10.674   8.936] xt:  [11.231192299691832, 8.4381879761108198]\n",
        "iteration: "
       ]
      },
      {
       "output_type": "stream",
       "stream": "stdout",
       "text": [
        " 5 x0:  [ 11.23    8.126] xt:  [11.231357089484167, 8.4380990967574458]\n",
        "iteration:  0 x0:  [ 11.614   8.588] xt:  [11.363558774506116, 8.5639478686292794]\n",
        "iteration: "
       ]
      },
      {
       "output_type": "stream",
       "stream": "stdout",
       "text": [
        " 1 x0:  [ 11.59    8.496] xt:  [11.269714072999973, 8.4706227621271157]\n",
        "iteration: "
       ]
      },
      {
       "output_type": "stream",
       "stream": "stdout",
       "text": [
        " 6 x0:  [ 11.536   7.586] xt:  [11.231554120438116, 8.4382103024463078]\n",
        "iteration: "
       ]
      },
      {
       "output_type": "stream",
       "stream": "stdout",
       "text": [
        " 3 x0:  [ 11.638   8.266] xt:  [11.234666621420338, 8.4395689388437436]\n",
        "iteration: "
       ]
      },
      {
       "output_type": "stream",
       "stream": "stdout",
       "text": [
        " 4 x0:  [ 11.16   8.43] xt:  [11.231172282530897, 8.4380717850115818]\n",
        "iteration: "
       ]
      },
      {
       "output_type": "stream",
       "stream": "stdout",
       "text": [
        " 6 x0:  [ 10.904   8.532] xt:  [11.231136073203491, 8.438067899532399]\n",
        "iteration:  0 x0:  [ 11.284   8.742] xt:  [11.279519705528052, 8.5957087300671926]\n",
        "iteration: "
       ]
      },
      {
       "output_type": "stream",
       "stream": "stdout",
       "text": [
        " 5 x0:  [ 11.25    8.192] xt:  [11.23146441928218, 8.438177619299994]\n",
        "iteration: "
       ]
      },
      {
       "output_type": "stream",
       "stream": "stdout",
       "text": [
        " 7 x0:  [ 10.84    8.218] xt:  [11.231267564295866, 8.4381116747665388]\n",
        "iteration: "
       ]
      },
      {
       "output_type": "stream",
       "stream": "stdout",
       "text": [
        " 1 x0:  [ 11.798   8.836] xt:  [11.414595656484355, 8.7436844242522103]\n",
        "iteration: "
       ]
      },
      {
       "output_type": "stream",
       "stream": "stdout",
       "text": [
        " 4 x0:  [ 11.51    8.094] xt:  [11.231896536730858, 8.4381622265960701]\n",
        "iteration: "
       ]
      },
      {
       "output_type": "stream",
       "stream": "stdout",
       "text": [
        " 7 x0:  [ 10.932   7.796] xt:  [11.231217009980183, 8.4380716842632832]\n",
        "iteration: "
       ]
      },
      {
       "output_type": "stream",
       "stream": "stdout",
       "text": [
        " 4 x0:  [ 11.404   8.206] xt:  [11.231801859232233, 8.4382232327101043]\n",
        "iteration: "
       ]
      },
      {
       "output_type": "stream",
       "stream": "stdout",
       "text": [
        " 5 x0:  [ 11.088   8.326] xt:  [11.231125688576583, 8.4380059801656753]\n",
        "iteration: "
       ]
      },
      {
       "output_type": "stream",
       "stream": "stdout",
       "text": [
        " 4 x0:  [ 11.334   8.17 ] xt:  [11.231462961164484, 8.4379907173867306]\n",
        "iteration: "
       ]
      },
      {
       "output_type": "stream",
       "stream": "stdout",
       "text": [
        " 3 x0:  [ 11.272   8.394] xt:  [11.23193390121131, 8.4382976057708365]\n",
        "iteration: "
       ]
      },
      {
       "output_type": "stream",
       "stream": "stdout",
       "text": [
        " 1 x0:  [ 11.59    8.408] xt:  [11.261294785855764, 8.4547078363626049]\n",
        "iteration: "
       ]
      },
      {
       "output_type": "stream",
       "stream": "stdout",
       "text": [
        " 2 x0:  [ 11.212   8.516] xt:  [11.232512531495816, 8.4407841397194403]\n",
        "iteration: "
       ]
      },
      {
       "output_type": "stream",
       "stream": "stdout",
       "text": [
        " 5 x0:  [ 11.566   8.024] xt:  [11.231762996661852, 8.4383146489141883]\n",
        "iteration: "
       ]
      },
      {
       "output_type": "stream",
       "stream": "stdout",
       "text": [
        " 1 x0:  [ 11.246   8.584] xt:  [11.241057443965788, 8.4582934395204266]\n",
        "iteration:  0 x0:  [ 11.252   8.566] xt:  [11.248216719621167, 8.4874753890129533]\n",
        "iteration: "
       ]
      },
      {
       "output_type": "stream",
       "stream": "stdout",
       "text": [
        " 7 x0:  [ 10.78    8.294] xt:  [11.231124297371068, 8.4380311053945221]\n",
        "iteration: "
       ]
      },
      {
       "output_type": "stream",
       "stream": "stdout",
       "text": [
        " 6 x0:  [ 11.04    8.322] xt:  [11.231396423980136, 8.4381854982031115]\n",
        "iteration: "
       ]
      },
      {
       "output_type": "stream",
       "stream": "stdout",
       "text": [
        " 6 x0:  [ 11.198   7.886] xt:  [11.23141759567401, 8.4381703344430257]\n",
        "iteration: "
       ]
      },
      {
       "output_type": "stream",
       "stream": "stdout",
       "text": [
        " 5 x0:  [ 11.168   8.262] xt:  [11.231330647097279, 8.4381101766796665]\n",
        "iteration: "
       ]
      },
      {
       "output_type": "stream",
       "stream": "stdout",
       "text": [
        " 4 x0:  [ 11.88   8.08] xt:  [11.233200571120568, 8.438859812529234]\n",
        "iteration:  0 x0:  [ 11.356   8.586] xt:  [11.286157186768738, 8.5086837248782778]\n",
        "iteration: "
       ]
      },
      {
       "output_type": "stream",
       "stream": "stdout",
       "text": [
        " 4 x0:  [ 11.182   8.342] xt:  [11.231068298740505, 8.4379053355934648]\n",
        "iteration: "
       ]
      },
      {
       "output_type": "stream",
       "stream": "stdout",
       "text": [
        " 7 x0:  [ 10.836   8.664] xt:  [11.231394434707083, 8.4382173375157645]\n",
        "iteration:  0 x0:  [ 11.696   8.906] xt:  [11.514837461401786, 8.8749756742353441]\n",
        "iteration: "
       ]
      },
      {
       "output_type": "stream",
       "stream": "stdout",
       "text": [
        " 4 x0:  [ 11.282   8.28 ] xt:  [11.231490100589975, 8.4380936176519121]\n",
        "iteration: "
       ]
      },
      {
       "output_type": "stream",
       "stream": "stdout",
       "text": [
        " 8 x0:  [ 10.718   8.534] xt:  [11.231431038746431, 8.4382183388624288]\n",
        "iteration: "
       ]
      },
      {
       "output_type": "stream",
       "stream": "stdout",
       "text": [
        " 10 x0:  [ 10.444   8.684] xt:  [11.231334724295071, 8.438160979417141]\n",
        "iteration: "
       ]
      },
      {
       "output_type": "stream",
       "stream": "stdout",
       "text": [
        " 4 x0:  [ 11.124   8.618] xt:  [11.231674534706142, 8.4388412216490991]\n",
        "iteration:  0 x0:  [ 11.392   8.94 ] xt:  [11.373569544283828, 8.7977156702965917]\n",
        "iteration: "
       ]
      },
      {
       "output_type": "stream",
       "stream": "stdout",
       "text": [
        " 4 x0:  [ 11.212   8.308] xt:  [11.231176155288335, 8.437933864854875]\n",
        "iteration: "
       ]
      },
      {
       "output_type": "stream",
       "stream": "stdout",
       "text": [
        " 3 x0:  [ 16.674   9.638] xt:  [16.383083548732053, 9.9121546025698013]\n",
        "iteration: "
       ]
      },
      {
       "output_type": "stream",
       "stream": "stdout",
       "text": [
        " 1 x0:  [ 16.162  10.302] xt:  [16.383131942368138, 9.9183699903045461]\n",
        "iteration:  0 x0:  [ 16.612  10.218] xt:  [16.38874135846039, 9.9769388206941514]\n",
        "iteration: "
       ]
      },
      {
       "output_type": "stream",
       "stream": "stdout",
       "text": [
        " 3 x0:  [ 16.1     9.702] xt:  [16.382950431258873, 9.9121797192001893]\n",
        "iteration:  0 x0:  [ 16.404  10.072] xt:  [16.387448778579582, 9.928838959570145]\n",
        "iteration: "
       ]
      },
      {
       "output_type": "stream",
       "stream": "stdout",
       "text": [
        " 2 x0:  [ 15.93   10.106] xt:  [16.382769604256982, 9.9124062314463597]\n",
        "iteration: "
       ]
      },
      {
       "output_type": "stream",
       "stream": "stdout",
       "text": [
        " 3 x0:  [ 16.128   9.888] xt:  [16.382927821575965, 9.9121937830834987]\n",
        "iteration:  0 x0:  [ 16.41   10.188] xt:  [16.393576887640304, 9.9494353745756481]\n",
        "iteration: "
       ]
      },
      {
       "output_type": "stream",
       "stream": "stdout",
       "text": [
        " 3 x0:  [ 15.982   9.92 ] xt:  [16.38297697401763, 9.9121851511272379]\n",
        "iteration: "
       ]
      },
      {
       "output_type": "stream",
       "stream": "stdout",
       "text": [
        " 1 x0:  [ 16.224  10.02 ] xt:  [16.37961250673553, 9.9134706291417682]\n",
        "iteration: "
       ]
      },
      {
       "output_type": "stream",
       "stream": "stdout",
       "text": [
        " 3 x0:  [ 16.296   9.458] xt:  [16.383019663493304, 9.9121523061571395]\n",
        "iteration:  0 x0:  [ 16.586  10.174] xt:  [16.382614285913949, 9.9625857494188423]\n",
        "iteration: "
       ]
      },
      {
       "output_type": "stream",
       "stream": "stdout",
       "text": [
        " 1 x0:  [ 16.314  10.716] xt:  [16.395668185292074, 9.9544108268476439]\n",
        "iteration: "
       ]
      },
      {
       "output_type": "stream",
       "stream": "stdout",
       "text": [
        " 3 x0:  [ 16.278   9.452] xt:  [16.383017055658836, 9.9121515507501972]\n",
        "iteration: "
       ]
      },
      {
       "output_type": "stream",
       "stream": "stdout",
       "text": [
        " 3 x0:  [ 16.622   9.652] xt:  [16.383107278770936, 9.9121528667832379]\n",
        "iteration: "
       ]
      },
      {
       "output_type": "stream",
       "stream": "stdout",
       "text": [
        " 3 x0:  [ 16.22    9.494] xt:  [16.383004817385491, 9.9121571486556466]\n",
        "iteration:  0 x0:  [ 16.626  10.162] xt:  [16.381912865904791, 9.9647019873888656]\n",
        "iteration: "
       ]
      },
      {
       "output_type": "stream",
       "stream": "stdout",
       "text": [
        " 0 x0:  [ 16.982  10.596] xt:  [16.599826504707643, 10.247383127267939]\n",
        "iteration: "
       ]
      },
      {
       "output_type": "stream",
       "stream": "stdout",
       "text": [
        " 1 x0:  [ 16.27   10.128] xt:  [16.380662245429615, 9.9145631347002894]\n",
        "iteration: "
       ]
      },
      {
       "output_type": "stream",
       "stream": "stdout",
       "text": [
        " 3 x0:  [ 16.202   9.7  ] xt:  [16.382965107609149, 9.9121802052490171]\n",
        "iteration: "
       ]
      },
      {
       "output_type": "stream",
       "stream": "stdout",
       "text": [
        " 3 x0:  [ 16.532   9.776] xt:  [16.38312270505353, 9.9121584970220926]\n",
        "iteration: "
       ]
      },
      {
       "output_type": "stream",
       "stream": "stdout",
       "text": [
        " 3 x0:  [ 17.124   9.726] xt:  [16.382440041431316, 9.9122737331241648]\n",
        "iteration: "
       ]
      },
      {
       "output_type": "stream",
       "stream": "stdout",
       "text": [
        " 3 x0:  [ 16.47    9.698] xt:  [16.383095595181391, 9.9121596761640038]\n",
        "iteration: "
       ]
      },
      {
       "output_type": "stream",
       "stream": "stdout",
       "text": [
        " 2 x0:  [ 16.004  10.28 ] xt:  [16.382681383425158, 9.9127491381487296]\n",
        "iteration: "
       ]
      },
      {
       "output_type": "stream",
       "stream": "stdout",
       "text": [
        " 2 x0:  [ 16.366   9.796] xt:  [16.383028852594371, 9.9121276685940352]\n",
        "iteration: "
       ]
      },
      {
       "output_type": "stream",
       "stream": "stdout",
       "text": [
        " 3 x0:  [ 16.268   9.522] xt:  [16.383010557716137, 9.9121606939350784]\n",
        "iteration: "
       ]
      },
      {
       "output_type": "stream",
       "stream": "stdout",
       "text": [
        " 3 x0:  [ 16.13    9.748] xt:  [16.382941902079644, 9.9121848319029464]\n",
        "iteration:  0 x0:  [ 16.67   10.498] xt:  [16.444499020696068, 10.100103979656696]\n",
        "iteration: "
       ]
      },
      {
       "output_type": "stream",
       "stream": "stdout",
       "text": [
        " 0 x0:  [ 16.488  10.542] xt:  [16.424413369787928, 10.095742519691484]\n",
        "iteration:  0 x0:  [ 16.57  10.21] xt:  [16.38695568799465, 9.9694133707762873]\n",
        "iteration: "
       ]
      },
      {
       "output_type": "stream",
       "stream": "stdout",
       "text": [
        " 0 x0:  [ 16.456  10.112] xt:  [16.384003236492223, 9.9380885593853758]\n",
        "iteration:  0 x0:  [ 16.482   9.986] xt:  [16.372895609963074, 9.9231802988182256]\n",
        "iteration: "
       ]
      },
      {
       "output_type": "stream",
       "stream": "stdout",
       "text": [
        " 3 x0:  [ 16.584   9.754] xt:  [16.383131437569673, 9.9121557550908843]\n",
        "iteration: "
       ]
      },
      {
       "output_type": "stream",
       "stream": "stdout",
       "text": [
        " 3 x0:  [ 16.1    9.93] xt:  [16.382928404627325, 9.912195490493632]\n",
        "iteration: "
       ]
      },
      {
       "output_type": "stream",
       "stream": "stdout",
       "text": [
        " 3 x0:  [ 16.226   9.67 ] xt:  [16.382978084835379, 9.9121768681130824]\n",
        "iteration: "
       ]
      },
      {
       "output_type": "stream",
       "stream": "stdout",
       "text": [
        " 3 x0:  [ 16.448   9.566] xt:  [16.383070537464469, 9.9121554742856919]\n",
        "iteration: "
       ]
      },
      {
       "output_type": "stream",
       "stream": "stdout",
       "text": [
        " 3 x0:  [ 16.572   9.624] xt:  [16.383103954258619, 9.9121523407596577]\n",
        "iteration: "
       ]
      },
      {
       "output_type": "stream",
       "stream": "stdout",
       "text": [
        " 3 x0:  [ 16.436   9.41 ] xt:  [16.38302688454668, 9.9121449132717547]\n",
        "iteration:  0 x0:  [ 16.502   9.98 ] xt:  [16.37037005033287, 9.9237093439969719]\n",
        "iteration: "
       ]
      },
      {
       "output_type": "stream",
       "stream": "stdout",
       "text": [
        " 0 x0:  [ 16.418   9.966] xt:  [16.380161953166581, 9.9179260138435925]\n",
        "iteration: "
       ]
      },
      {
       "output_type": "stream",
       "stream": "stdout",
       "text": [
        " 3 x0:  [ 14.362  14.644] xt:  [13.958143251334381, 14.949538252620398]\n",
        "iteration: "
       ]
      },
      {
       "output_type": "stream",
       "stream": "stdout",
       "text": [
        " 2 x0:  [ 14.138  14.63 ] xt:  [13.958122972741336, 14.949491728789061]\n",
        "iteration:  0 x0:  [ 14.064  15.072] xt:  [13.948871333141023, 14.94157414876317]\n",
        "iteration: "
       ]
      },
      {
       "output_type": "stream",
       "stream": "stdout",
       "text": [
        " 1 x0:  [ 13.692  14.958] xt:  [13.957599724456271, 14.948964335312366]\n",
        "iteration:  0 x0:  [ 14.238  15.296] xt:  [13.965861455003541, 14.964396412664291]\n",
        "iteration: "
       ]
      },
      {
       "output_type": "stream",
       "stream": "stdout",
       "text": [
        " 2 x0:  [ 13.73   15.128] xt:  [13.958142159458982, 14.949547303081875]\n",
        "iteration: "
       ]
      },
      {
       "output_type": "stream",
       "stream": "stdout",
       "text": [
        " 1 x0:  [ 13.952  14.868] xt:  [13.95786467393974, 14.949246562183083]\n",
        "iteration: "
       ]
      },
      {
       "output_type": "stream",
       "stream": "stdout",
       "text": [
        " 1 x0:  [ 13.986  14.77 ] xt:  [13.957887239910267, 14.949240945373436]\n",
        "iteration: "
       ]
      },
      {
       "output_type": "stream",
       "stream": "stdout",
       "text": [
        " 2 x0:  [ 13.916  14.996] xt:  [13.958155952027036, 14.949538115180991]\n",
        "iteration: "
       ]
      },
      {
       "output_type": "stream",
       "stream": "stdout",
       "text": [
        " 1 x0:  [ 13.874  14.954] xt:  [13.957654887416226, 14.949286139598895]\n",
        "iteration:  0 x0:  [ 14.168  15.276] xt:  [13.956128029603114, 14.954484674618373]\n",
        "iteration: "
       ]
      },
      {
       "output_type": "stream",
       "stream": "stdout",
       "text": [
        " 0 x0:  [ 14.278  15.152] xt:  [13.957981184240531, 14.949666053949045]\n",
        "iteration: "
       ]
      },
      {
       "output_type": "stream",
       "stream": "stdout",
       "text": [
        " 2 x0:  [ 14.098  14.9  ] xt:  [13.958086909344262, 14.949505973828979]\n",
        "iteration: "
       ]
      },
      {
       "output_type": "stream",
       "stream": "stdout",
       "text": [
        " 2 x0:  [ 13.764  15.212] xt:  [13.958107477167886, 14.949532070048098]\n",
        "iteration: "
       ]
      },
      {
       "output_type": "stream",
       "stream": "stdout",
       "text": [
        " 2 x0:  [ 13.948  14.218] xt:  [13.957745510112057, 14.949198721994049]\n",
        "iteration: "
       ]
      },
      {
       "output_type": "stream",
       "stream": "stdout",
       "text": [
        " 2 x0:  [ 14.13   14.838] xt:  [13.958092382027798, 14.949509859581033]\n",
        "iteration: "
       ]
      },
      {
       "output_type": "stream",
       "stream": "stdout",
       "text": [
        " 2 x0:  [ 13.362  14.932] xt:  [13.957637983161533, 14.9492921212501]\n",
        "iteration: "
       ]
      },
      {
       "output_type": "stream",
       "stream": "stdout",
       "text": [
        " 2 x0:  [ 13.546  14.844] xt:  [13.95803630499673, 14.949494002885764]\n",
        "iteration:  0 x0:  [ 14.13  15.11] xt:  [13.947302438667784, 14.941451680399465]\n",
        "iteration: "
       ]
      },
      {
       "output_type": "stream",
       "stream": "stdout",
       "text": [
        " 2 x0:  [ 13.816  14.602] xt:  [13.958140435715293, 14.949501810899074]\n",
        "iteration: "
       ]
      },
      {
       "output_type": "stream",
       "stream": "stdout",
       "text": [
        " 3 x0:  [ 14.386  14.686] xt:  [13.958141222423137, 14.949536625577149]\n",
        "iteration: "
       ]
      },
      {
       "output_type": "stream",
       "stream": "stdout",
       "text": [
        " 1 x0:  [ 13.786  14.726] xt:  [13.957354764380819, 14.949174981405596]\n",
        "iteration: "
       ]
      },
      {
       "output_type": "stream",
       "stream": "stdout",
       "text": [
        " 2 x0:  [ 14.204  14.822] xt:  [13.958085083675122, 14.94949919016328]\n",
        "iteration: "
       ]
      },
      {
       "output_type": "stream",
       "stream": "stdout",
       "text": [
        " 2 x0:  [ 13.856  15.206] xt:  [13.958105416003619, 14.949513441598642]\n",
        "iteration: "
       ]
      },
      {
       "output_type": "stream",
       "stream": "stdout",
       "text": [
        " 2 x0:  [ 14.074  14.384] xt:  [13.95800362580135, 14.949298461338817]\n",
        "iteration: "
       ]
      },
      {
       "output_type": "stream",
       "stream": "stdout",
       "text": [
        " 1 x0:  [ 13.68   14.988] xt:  [13.957779662093763, 14.948998005702927]\n",
        "iteration:  0 x0:  [ 14.204  14.976] xt:  [13.946310914416827, 14.944697671116439]\n",
        "iteration: "
       ]
      },
      {
       "output_type": "stream",
       "stream": "stdout",
       "text": [
        " 2 x0:  [ 13.388  15.39 ] xt:  [13.957900508169685, 14.949441860671453]\n",
        "iteration: "
       ]
      },
      {
       "output_type": "stream",
       "stream": "stdout",
       "text": [
        " 1 x0:  [ 13.708  15.048] xt:  [13.957911367170091, 14.94913101657025]\n",
        "iteration:  0 x0:  [ 14.114  15.366] xt:  [13.957837773673274, 14.969157767863717]\n",
        "iteration: "
       ]
      },
      {
       "output_type": "stream",
       "stream": "stdout",
       "text": [
        " 0 x0:  [ 14.4   15.04] xt:  [13.975703947656319, 14.949983590289184]\n",
        "iteration:  0 x0:  [ 14.194  15.04 ] xt:  [13.946492695472344, 14.943359360045916]\n",
        "iteration: "
       ]
      },
      {
       "output_type": "stream",
       "stream": "stdout",
       "text": [
        " 3 x0:  [ 13.888  15.436] xt:  [13.958145703211203, 14.949532441701654]\n",
        "iteration:  0 x0:  [ 13.958  15.322] xt:  [13.948408562060395, 14.956583890797811]\n",
        "iteration: "
       ]
      },
      {
       "output_type": "stream",
       "stream": "stdout",
       "text": [
        " 1 x0:  [ 13.922  14.802] xt:  [13.957558204515298, 14.94906300180225]\n",
        "iteration: "
       ]
      },
      {
       "output_type": "stream",
       "stream": "stdout",
       "text": [
        " 2 x0:  [ 13.652  14.602] xt:  [13.957984005541059, 14.94939997447119]\n",
        "iteration:  0 x0:  [ 14.294  14.996] xt:  [13.953112971718809, 14.945056046051743]\n",
        "iteration: "
       ]
      },
      {
       "output_type": "stream",
       "stream": "stdout",
       "text": [
        " 2 x0:  [ 13.81   14.526] xt:  [13.958047142065636, 14.949413999687486]\n",
        "iteration: "
       ]
      },
      {
       "output_type": "stream",
       "stream": "stdout",
       "text": [
        " 2 x0:  [ 13.408  15.34 ] xt:  [13.957837295215343, 14.949454075693401]\n",
        "iteration: "
       ]
      },
      {
       "output_type": "stream",
       "stream": "stdout",
       "text": [
        " 1 x0:  [ 13.834  14.778] xt:  [13.957220695479871, 14.948952240729446]\n",
        "iteration:  0 x0:  [  8.826  16.474] xt:  [8.6197164743630932, 16.275383301868125]\n",
        "iteration: "
       ]
      },
      {
       "output_type": "stream",
       "stream": "stdout",
       "text": [
        " 1 x0:  [  8.33   16.488] xt:  [8.628443984821029, 16.267046241805669]\n",
        "iteration: "
       ]
      },
      {
       "output_type": "stream",
       "stream": "stdout",
       "text": [
        " 3 x0:  [  8.468  16.378] xt:  [8.6302046546244533, 16.26677846028781]\n",
        "iteration: "
       ]
      },
      {
       "output_type": "stream",
       "stream": "stdout",
       "text": [
        " 3 x0:  [  8.904  15.846] xt:  [8.6302022665928977, 16.266779862811291]\n",
        "iteration:  0 x0:  [  8.662  16.354] xt:  [8.6287113123259012, 16.265357200690925]\n",
        "iteration: "
       ]
      },
      {
       "output_type": "stream",
       "stream": "stdout",
       "text": [
        " 0 x0:  [  8.684  16.776] xt:  [8.6421411945368547, 16.333950825632755]\n",
        "iteration: "
       ]
      },
      {
       "output_type": "stream",
       "stream": "stdout",
       "text": [
        " 2 x0:  [  8.33   16.066] xt:  [8.6303526268510993, 16.266726072400559]\n",
        "iteration:  0 x0:  [  8.904  16.402] xt:  [8.6154805844835938, 16.275882906217991]\n",
        "iteration: "
       ]
      },
      {
       "output_type": "stream",
       "stream": "stdout",
       "text": [
        " 0 x0:  [  8.778  16.486] xt:  [8.6226390648209819, 16.273282197018091]\n",
        "iteration:  0 x0:  [  8.81   16.458] xt:  [8.6192889699833479, 16.273310117965373]\n",
        "iteration: "
       ]
      },
      {
       "output_type": "stream",
       "stream": "stdout",
       "text": [
        " 1 x0:  [  8.398  16.576] xt:  [8.6286916196572392, 16.266712843606982]\n",
        "iteration: "
       ]
      },
      {
       "output_type": "stream",
       "stream": "stdout",
       "text": [
        " 2 x0:  [  8.542  15.918] xt:  [8.6302243266863972, 16.266761796472792]\n",
        "iteration:  0 x0:  [  9.064  16.456] xt:  [8.6437392291339226, 16.293378549414793]\n",
        "iteration: "
       ]
      },
      {
       "output_type": "stream",
       "stream": "stdout",
       "text": [
        " 3 x0:  [  9.152  16.094] xt:  [8.6301431325109039, 16.266795641233866]\n",
        "iteration: "
       ]
      },
      {
       "output_type": "stream",
       "stream": "stdout",
       "text": [
        " 2 x0:  [  8.614  15.908] xt:  [8.6301947665084455, 16.266770315868317]\n",
        "iteration: "
       ]
      },
      {
       "output_type": "stream",
       "stream": "stdout",
       "text": [
        " 2 x0:  [  8.566  17.012] xt:  [8.629533478848856, 16.266926931424511]\n",
        "iteration: "
       ]
      },
      {
       "output_type": "stream",
       "stream": "stdout",
       "text": [
        " 2 x0:  [  8.12  16.11] xt:  [8.6297079352969224, 16.266886051013827]\n",
        "iteration: "
       ]
      },
      {
       "output_type": "stream",
       "stream": "stdout",
       "text": [
        " 2 x0:  [  8.844  16.026] xt:  [8.630040239172132, 16.266818883334182]\n",
        "iteration: "
       ]
      },
      {
       "output_type": "stream",
       "stream": "stdout",
       "text": [
        " 3 x0:  [  8.398  16.282] xt:  [8.6302030666577547, 16.266778932171785]\n",
        "iteration: "
       ]
      },
      {
       "output_type": "stream",
       "stream": "stdout",
       "text": [
        " 3 x0:  [  8.808  15.59 ] xt:  [8.6301215115331935, 16.266802737051119]\n",
        "iteration: "
       ]
      },
      {
       "output_type": "stream",
       "stream": "stdout",
       "text": [
        " 3 x0:  [  8.502  16.166] xt:  [8.6302268886115012, 16.266772284108058]\n",
        "iteration: "
       ]
      },
      {
       "output_type": "stream",
       "stream": "stdout",
       "text": [
        " 2 x0:  [  8.942  16.19 ] xt:  [8.6299761660464291, 16.266840424443423]\n",
        "iteration: "
       ]
      },
      {
       "output_type": "stream",
       "stream": "stdout",
       "text": [
        " 3 x0:  [  8.376  16.112] xt:  [8.630223356187912, 16.266773416416651]\n",
        "iteration: "
       ]
      },
      {
       "output_type": "stream",
       "stream": "stdout",
       "text": [
        " 2 x0:  [  8.518  15.84 ] xt:  [8.6302240122812837, 16.266748624569061]\n",
        "iteration: "
       ]
      },
      {
       "output_type": "stream",
       "stream": "stdout",
       "text": [
        " 2 x0:  [  8.878  16.004] xt:  [8.6301131179147301, 16.266795936406634]\n",
        "iteration: "
       ]
      },
      {
       "output_type": "stream",
       "stream": "stdout",
       "text": [
        " 1 x0:  [  8.582  16.774] xt:  [8.6307613699272352, 16.265151539984771]\n",
        "iteration: "
       ]
      },
      {
       "output_type": "stream",
       "stream": "stdout",
       "text": [
        " 2 x0:  [  8.248  16.154] xt:  [8.6303098984821371, 16.266735799021465]\n",
        "iteration: "
       ]
      },
      {
       "output_type": "stream",
       "stream": "stdout",
       "text": [
        " 1 x0:  [  8.588  16.24 ] xt:  [8.6296935524674012, 16.266896837709069]\n",
        "iteration:  0 x0:  [  8.706  16.374] xt:  [8.6241193615836202, 16.266546981909269]\n",
        "iteration: "
       ]
      },
      {
       "output_type": "stream",
       "stream": "stdout",
       "text": [
        " 3 x0:  [  8.524  16.392] xt:  [8.6302139161560572, 16.266775901070609]\n",
        "iteration: "
       ]
      },
      {
       "output_type": "stream",
       "stream": "stdout",
       "text": [
        " 3 x0:  [  8.458  16.452] xt:  [8.6302049191736501, 16.266778337299716]\n",
        "iteration:  0 x0:  [  8.83  16.36] xt:  [8.6135610089324235, 16.271066165457437]\n",
        "iteration: "
       ]
      },
      {
       "output_type": "stream",
       "stream": "stdout",
       "text": [
        " 2 x0:  [  8.616  16.112] xt:  [8.6301949792633597, 16.266782608953118]\n",
        "iteration:  0 x0:  [  8.844  16.362] xt:  [8.6131925342687801, 16.271648174229306]\n",
        "iteration: "
       ]
      },
      {
       "output_type": "stream",
       "stream": "stdout",
       "text": [
        " 2 x0:  [  8.468  15.928] xt:  [8.6302472328091806, 16.266753106276052]\n",
        "iteration: "
       ]
      },
      {
       "output_type": "stream",
       "stream": "stdout",
       "text": [
        " 1 x0:  [  8.62   16.674] xt:  [8.6298056337337474, 16.26607093886032]\n",
        "iteration:  0 x0:  [  8.974  16.53 ] xt:  [8.6327986357586095, 16.295132533805951]\n",
        "iteration: "
       ]
      },
      {
       "output_type": "stream",
       "stream": "stdout",
       "text": [
        " 2 x0:  [  8.826  16.084] xt:  [8.6299676128834832, 16.266842056457268]\n",
        "iteration: "
       ]
      },
      {
       "output_type": "stream",
       "stream": "stdout",
       "text": [
        " 2 x0:  [  8.104  15.962] xt:  [8.6294067972232984, 16.266956438721088]\n",
        "iteration: "
       ]
      },
      {
       "output_type": "stream",
       "stream": "stdout",
       "text": [
        " 3 x0:  [  8.386  16.24 ] xt:  [8.6302064250926023, 16.266778020183462]\n",
        "iteration:  0 x0:  [  4.576  12.878] xt:  [4.2424593081992681, 12.825555623683407]\n",
        "iteration: "
       ]
      },
      {
       "output_type": "stream",
       "stream": "stdout",
       "text": [
        " 0 x0:  [  4.46  13.16] xt:  [4.2521461420986881, 12.875579005665939]\n",
        "iteration: "
       ]
      },
      {
       "output_type": "stream",
       "stream": "stdout",
       "text": [
        " 4 x0:  [  3.632  12.862] xt:  [4.2384868176685222, 12.803723074735604]\n",
        "iteration: "
       ]
      },
      {
       "output_type": "stream",
       "stream": "stdout",
       "text": [
        " 3 x0:  [  4.238  12.506] xt:  [4.2384843360948015, 12.803671911579226]\n",
        "iteration:  0 x0:  [  4.348  13.268] xt:  [4.2534002927520653, 12.902379224623182]\n",
        "iteration: "
       ]
      },
      {
       "output_type": "stream",
       "stream": "stdout",
       "text": [
        " 4 x0:  [  3.788  12.372] xt:  [4.2384860323929843, 12.803703906809108]\n",
        "iteration: "
       ]
      },
      {
       "output_type": "stream",
       "stream": "stdout",
       "text": [
        " 2 x0:  [  4.19   12.772] xt:  [4.2385101933021856, 12.803668696421495]\n",
        "iteration: "
       ]
      },
      {
       "output_type": "stream",
       "stream": "stdout",
       "text": [
        " 3 x0:  [  3.86   12.706] xt:  [4.2384888303729333, 12.803680527862831]\n",
        "iteration: "
       ]
      },
      {
       "output_type": "stream",
       "stream": "stdout",
       "text": [
        " 2 x0:  [  3.978  13.308] xt:  [4.2385476758522014, 12.805355617310029]\n",
        "iteration:  0 x0:  [  4.336  12.854] xt:  [4.2329344652308034, 12.812321008749528]\n",
        "iteration: "
       ]
      },
      {
       "output_type": "stream",
       "stream": "stdout",
       "text": [
        " 1 x0:  [  4.218  13.03 ] xt:  [4.2387963936140736, 12.807033334250789]\n",
        "iteration:  0 x0:  [  4.25   13.002] xt:  [4.2438436734380076, 12.828837833772706]\n",
        "iteration: "
       ]
      },
      {
       "output_type": "stream",
       "stream": "stdout",
       "text": [
        " 0 x0:  [  4.334  13.06 ] xt:  [4.241850662495489, 12.842450718384107]\n",
        "iteration: "
       ]
      },
      {
       "output_type": "stream",
       "stream": "stdout",
       "text": [
        " 3 x0:  [  4.654  12.566] xt:  [4.2384627705429363, 12.803680613836619]\n",
        "iteration: "
       ]
      },
      {
       "output_type": "stream",
       "stream": "stdout",
       "text": [
        " 2 x0:  [  4.38   12.792] xt:  [4.2384198709102732, 12.803753983522485]\n",
        "iteration: "
       ]
      },
      {
       "output_type": "stream",
       "stream": "stdout",
       "text": [
        " 1 x0:  [  3.968  13.016] xt:  [4.2386399099367749, 12.806953967493179]\n",
        "iteration: "
       ]
      },
      {
       "output_type": "stream",
       "stream": "stdout",
       "text": [
        " 3 x0:  [  4.614  12.526] xt:  [4.2384647518737841, 12.803668757411872]\n",
        "iteration: "
       ]
      },
      {
       "output_type": "stream",
       "stream": "stdout",
       "text": [
        " 3 x0:  [  3.95  12.67] xt:  [4.2384827161842553, 12.803685755170934]\n",
        "iteration: "
       ]
      },
      {
       "output_type": "stream",
       "stream": "stdout",
       "text": [
        " 3 x0:  [  4.038  12.67 ] xt:  [4.2384820141505966, 12.803695813849671]\n",
        "iteration: "
       ]
      },
      {
       "output_type": "stream",
       "stream": "stdout",
       "text": [
        " 4 x0:  [  4.426  12.238] xt:  [4.2384907299897856, 12.803705338826898]\n",
        "iteration: "
       ]
      },
      {
       "output_type": "stream",
       "stream": "stdout",
       "text": [
        " 3 x0:  [  4.066  12.514] xt:  [4.2384810261260437, 12.803661727010654]\n",
        "iteration: "
       ]
      },
      {
       "output_type": "stream",
       "stream": "stdout",
       "text": [
        " 3 x0:  [  4.248  12.392] xt:  [4.2384757558212938, 12.803634530344917]\n",
        "iteration:  0 x0:  [  4.61  12.95] xt:  [4.2536763010545782, 12.841143709993382]\n",
        "iteration: "
       ]
      },
      {
       "output_type": "stream",
       "stream": "stdout",
       "text": [
        " 0 x0:  [  4.328  12.99 ] xt:  [4.2388275003041711, 12.829796065027953]\n",
        "iteration: "
       ]
      },
      {
       "output_type": "stream",
       "stream": "stdout",
       "text": [
        " 3 x0:  [  4.5    12.522] xt:  [4.2384795589295754, 12.803672022521921]\n",
        "iteration: "
       ]
      },
      {
       "output_type": "stream",
       "stream": "stdout",
       "text": [
        " 3 x0:  [  4.176  12.71 ] xt:  [4.2384875209824191, 12.803710757734995]\n",
        "iteration: "
       ]
      },
      {
       "output_type": "stream",
       "stream": "stdout",
       "text": [
        " 3 x0:  [  4.492  12.464] xt:  [4.2384727629862322, 12.80365442078517]\n",
        "iteration: "
       ]
      },
      {
       "output_type": "stream",
       "stream": "stdout",
       "text": [
        " 1 x0:  [  4.134  12.834] xt:  [4.2377614460696673, 12.803990794140905]\n",
        "iteration: "
       ]
      },
      {
       "output_type": "stream",
       "stream": "stdout",
       "text": [
        " 2 x0:  [  4.316  12.764] xt:  [4.2384361055154844, 12.803699465685805]\n",
        "iteration: "
       ]
      },
      {
       "output_type": "stream",
       "stream": "stdout",
       "text": [
        " 4 x0:  [  4.454  12.084] xt:  [4.2384883825636539, 12.803687287699629]\n",
        "iteration: "
       ]
      },
      {
       "output_type": "stream",
       "stream": "stdout",
       "text": [
        " 1 x0:  [  4.052  12.934] xt:  [4.2377345111052263, 12.805358329276968]\n",
        "iteration:  0 x0:  [  4.26   13.118] xt:  [4.246558021030161, 12.852299665678515]\n",
        "iteration: "
       ]
      },
      {
       "output_type": "stream",
       "stream": "stdout",
       "text": [
        " 2 x0:  [  4.058  13.718] xt:  [4.2401791129247588, 12.812290462870426]\n",
        "iteration: "
       ]
      },
      {
       "output_type": "stream",
       "stream": "stdout",
       "text": [
        " 3 x0:  [  4.24   12.626] xt:  [4.2384892430392123, 12.803698504780323]\n",
        "iteration: "
       ]
      },
      {
       "output_type": "stream",
       "stream": "stdout",
       "text": [
        " 4 x0:  [  3.838  12.232] xt:  [4.2384847934204508, 12.803693983683313]\n",
        "iteration: "
       ]
      },
      {
       "output_type": "stream",
       "stream": "stdout",
       "text": [
        " 2 x0:  [  4.128  13.4  ] xt:  [4.238703828555705, 12.805866043451363]\n",
        "iteration: "
       ]
      },
      {
       "output_type": "stream",
       "stream": "stdout",
       "text": [
        " 4 x0:  [  3.764  12.38 ] xt:  [4.2384856392258357, 12.803703209747894]\n",
        "iteration:  0 x0:  [  4.424  13.186] xt:  [4.2517387164055567, 12.879920893894868]\n",
        "iteration: "
       ]
      },
      {
       "output_type": "stream",
       "stream": "stdout",
       "text": [
        " 1 x0:  [  4.234  12.994] xt:  [4.2387593734052, 12.806366367710309]\n",
        "iteration:  0 x0:  [  5.13   13.296] xt:  [4.6633514343998748, 13.079737368811916]\n",
        "iteration: "
       ]
      },
      {
       "output_type": "stream",
       "stream": "stdout",
       "text": [
        " 3 x0:  [ 3.9    6.742] xt:  [4.2143785233327886, 7.1139377970259776]\n",
        "iteration: "
       ]
      },
      {
       "output_type": "stream",
       "stream": "stdout",
       "text": [
        " 3 x0:  [ 3.994  7.206] xt:  [4.2143925218913676, 7.1141200023830748]\n",
        "iteration:  0 x0:  [ 4.278  7.222] xt:  [4.2167990103328687, 7.0931606556173588]\n",
        "iteration: "
       ]
      },
      {
       "output_type": "stream",
       "stream": "stdout",
       "text": [
        " 1 x0:  [ 4.172  6.848] xt:  [4.2138496343922922, 7.1064058529491447]\n",
        "iteration: "
       ]
      },
      {
       "output_type": "stream",
       "stream": "stdout",
       "text": [
        " 3 x0:  [ 3.882  6.894] xt:  [4.2143727545872611, 7.1138293583249075]\n",
        "iteration: "
       ]
      },
      {
       "output_type": "stream",
       "stream": "stdout",
       "text": [
        " 3 x0:  [ 3.936  6.994] xt:  [4.2143754573851009, 7.1138512049961466]\n",
        "iteration: "
       ]
      },
      {
       "output_type": "stream",
       "stream": "stdout",
       "text": [
        " 1 x0:  [ 4.162  6.87 ] xt:  [4.2138235490291081, 7.1065643799842677]\n",
        "iteration: "
       ]
      },
      {
       "output_type": "stream",
       "stream": "stdout",
       "text": [
        " 3 x0:  [ 3.762  7.1  ] xt:  [4.2143785108848588, 7.1139601929739653]\n",
        "iteration:  0 x0:  [ 4.256  7.612] xt:  [4.2192998000152464, 7.1208511709604183]\n",
        "iteration: "
       ]
      },
      {
       "output_type": "stream",
       "stream": "stdout",
       "text": [
        " 1 x0:  [ 4.55   6.822] xt:  [4.2171985629266837, 7.1104920633347355]\n",
        "iteration: "
       ]
      },
      {
       "output_type": "stream",
       "stream": "stdout",
       "text": [
        " 3 x0:  [ 4.062  6.984] xt:  [4.2143748103763023, 7.1138203587882991]\n",
        "iteration: "
       ]
      },
      {
       "output_type": "stream",
       "stream": "stdout",
       "text": [
        " 2 x0:  [ 4.026  7.23 ] xt:  [4.214319111184599, 7.1133509343837318]\n",
        "iteration:  0 x0:  [ 4.364  7.184] xt:  [4.22381745526034, 7.0997143276143326]\n",
        "iteration: "
       ]
      },
      {
       "output_type": "stream",
       "stream": "stdout",
       "text": [
        " 0 x0:  [ 4.292  7.208] xt:  [4.2177973066714758, 7.0954597985078296]\n",
        "iteration: "
       ]
      },
      {
       "output_type": "stream",
       "stream": "stdout",
       "text": [
        " 1 x0:  [ 4.288  6.91 ] xt:  [4.214307014362551, 7.1074481896278465]\n",
        "iteration: "
       ]
      },
      {
       "output_type": "stream",
       "stream": "stdout",
       "text": [
        " 3 x0:  [ 4.018  7.062] xt:  [4.2143808855233118, 7.1139235042967535]\n",
        "iteration: "
       ]
      },
      {
       "output_type": "stream",
       "stream": "stdout",
       "text": [
        " 3 x0:  [ 4.07   7.104] xt:  [4.2143853703280429, 7.1139905843879889]\n",
        "iteration:  0 x0:  [ 4.548  7.654] xt:  [4.3096285118882234, 7.172283900074345]\n",
        "iteration: "
       ]
      },
      {
       "output_type": "stream",
       "stream": "stdout",
       "text": [
        " 1 x0:  [ 4.402  7.082] xt:  [4.214977208938798, 7.1131374003311345]\n",
        "iteration: "
       ]
      },
      {
       "output_type": "stream",
       "stream": "stdout",
       "text": [
        " 3 x0:  [ 3.692  7.49 ] xt:  [4.2143582590708224, 7.1137915911533325]\n",
        "iteration:  0 x0:  [ 4.888  7.194] xt:  [4.4074916568096398, 7.1159551199766859]\n",
        "iteration: "
       ]
      },
      {
       "output_type": "stream",
       "stream": "stdout",
       "text": [
        " 0 x0:  [ 4.456  7.146] xt:  [4.2354114372484135, 7.1063413703252492]\n",
        "iteration:  0 x0:  [ 4.732  7.154] xt:  [4.3179337943474145, 7.1088084411376231]\n",
        "iteration: "
       ]
      },
      {
       "output_type": "stream",
       "stream": "stdout",
       "text": [
        " 2 x0:  [ 4.088  7.212] xt:  [4.2143320454668034, 7.1133674872284303]\n",
        "iteration: "
       ]
      },
      {
       "output_type": "stream",
       "stream": "stdout",
       "text": [
        " 1 x0:  [ 4.502  6.928] xt:  [4.2159000819970096, 7.1097597850168324]\n",
        "iteration: "
       ]
      },
      {
       "output_type": "stream",
       "stream": "stdout",
       "text": [
        " 4 x0:  [ 3.402  7.434] xt:  [4.2143889862162753, 7.1140866848809923]\n",
        "iteration: "
       ]
      },
      {
       "output_type": "stream",
       "stream": "stdout",
       "text": [
        " 1 x0:  [ 4.246  6.692] xt:  [4.2145649732706767, 7.1094481581116433]\n",
        "iteration: "
       ]
      },
      {
       "output_type": "stream",
       "stream": "stdout",
       "text": [
        " 2 x0:  [ 4.166  7.256] xt:  [4.2143184335507398, 7.1130022043779526]\n",
        "iteration: "
       ]
      },
      {
       "output_type": "stream",
       "stream": "stdout",
       "text": [
        " 2 x0:  [ 4.852  6.83 ] xt:  [4.2150282850646787, 7.1130556412168735]\n",
        "iteration:  0 x0:  [ 4.398  7.428] xt:  [4.2375255266848866, 7.0856448543134816]\n",
        "iteration: "
       ]
      },
      {
       "output_type": "stream",
       "stream": "stdout",
       "text": [
        " 2 x0:  [ 5.016  7.054] xt:  [4.2157930564965618, 7.1137272493990542]\n",
        "iteration: "
       ]
      },
      {
       "output_type": "stream",
       "stream": "stdout",
       "text": [
        " 1 x0:  [ 4.25  6.76] xt:  [4.2143420138594614, 7.1072089399623026]\n",
        "iteration: "
       ]
      },
      {
       "output_type": "stream",
       "stream": "stdout",
       "text": [
        " 3 x0:  [ 3.738  7.082] xt:  [4.2143773313432584, 7.1139537069779699]\n",
        "iteration:  0 x0:  [ 4.254  7.264] xt:  [4.2150353475211846, 7.0869691590374257]\n",
        "iteration: "
       ]
      },
      {
       "output_type": "stream",
       "stream": "stdout",
       "text": [
        " 2 x0:  [ 4.122  7.238] xt:  [4.2143225667439141, 7.1131551817497369]\n",
        "iteration: "
       ]
      },
      {
       "output_type": "stream",
       "stream": "stdout",
       "text": [
        " 3 x0:  [ 3.878  7.232] xt:  [4.2143890834970001, 7.1140941330490044]\n",
        "iteration:  0 x0:  [ 4.55  7.29] xt:  [4.2600601998629983, 7.0947872515052852]\n",
        "iteration: "
       ]
      },
      {
       "output_type": "stream",
       "stream": "stdout",
       "text": [
        " 3 x0:  [ 4.03   7.126] xt:  [4.214386781274345, 7.1140183419727787]\n",
        "iteration: "
       ]
      },
      {
       "output_type": "stream",
       "stream": "stdout",
       "text": [
        " 1 x0:  [ 4.412  7.022] xt:  [4.2149694529376918, 7.1111601358489898]\n",
        "iteration:  0 x0:  [ 4.276  7.244] xt:  [4.2166487567038287, 7.0897597258510805]\n",
        "iteration: "
       ]
      },
      {
       "output_type": "stream",
       "stream": "stdout",
       "text": [
        " 3 x0:  [ 8.376  3.788] xt:  [8.6339380870794127, 3.748138209318066]\n",
        "iteration:  0 x0:  [ 8.81   3.864] xt:  [8.6357249114875874, 3.7516684858398963]\n",
        "iteration: "
       ]
      },
      {
       "output_type": "stream",
       "stream": "stdout",
       "text": [
        " 3 x0:  [ 8.218  3.548] xt:  [8.6339532650785866, 3.7481185111636326]\n",
        "iteration: "
       ]
      },
      {
       "output_type": "stream",
       "stream": "stdout",
       "text": [
        " 3 x0:  [ 8.374  3.748] xt:  [8.633939685607011, 3.7481361534718283]\n",
        "iteration: "
       ]
      },
      {
       "output_type": "stream",
       "stream": "stdout",
       "text": [
        " 4 x0:  [ 8.102  4.3  ] xt:  [8.6339335847374095, 3.7481440087576736]\n",
        "iteration: "
       ]
      },
      {
       "output_type": "stream",
       "stream": "stdout",
       "text": [
        " 2 x0:  [ 8.386  3.952] xt:  [8.6340311357671187, 3.7480177275800477]\n",
        "iteration: "
       ]
      },
      {
       "output_type": "stream",
       "stream": "stdout",
       "text": [
        " 4 x0:  [ 8.858  3.274] xt:  [8.633954709881575, 3.7481168954698649]\n",
        "iteration: "
       ]
      },
      {
       "output_type": "stream",
       "stream": "stdout",
       "text": [
        " 3 x0:  [ 8.884  3.504] xt:  [8.6339657070054603, 3.7481027854083484]\n",
        "iteration: "
       ]
      },
      {
       "output_type": "stream",
       "stream": "stdout",
       "text": [
        " 3 x0:  [ 8.294  3.38 ] xt:  [8.6339491827618193, 3.748123654438134]\n",
        "iteration: "
       ]
      },
      {
       "output_type": "stream",
       "stream": "stdout",
       "text": [
        " 4 x0:  [ 8.38   3.178] xt:  [8.6339542462019114, 3.7481174831696271]\n",
        "iteration:  0 x0:  [ 8.738  4.294] xt:  [8.6641851790447753, 3.8169572990034721]\n",
        "iteration: "
       ]
      },
      {
       "output_type": "stream",
       "stream": "stdout",
       "text": [
        " 0 x0:  [ 9.1   3.84] xt:  [8.6719640571704968, 3.7731199411980088]\n",
        "iteration: "
       ]
      },
      {
       "output_type": "stream",
       "stream": "stdout",
       "text": [
        " 1 x0:  [ 9.086  3.6  ] xt:  [8.633448885614456, 3.7491683825647955]\n",
        "iteration: "
       ]
      },
      {
       "output_type": "stream",
       "stream": "stdout",
       "text": [
        " 3 x0:  [ 8.616  3.45 ] xt:  [8.6339660333081181, 3.748102330360326]\n",
        "iteration: "
       ]
      },
      {
       "output_type": "stream",
       "stream": "stdout",
       "text": [
        " 3 x0:  [ 8.624  3.698] xt:  [8.6339548894389946, 3.7481166644987636]\n",
        "iteration: "
       ]
      },
      {
       "output_type": "stream",
       "stream": "stdout",
       "text": [
        " 2 x0:  [ 8.632  3.82 ] xt:  [8.634009159846082, 3.7480470650782669]\n",
        "iteration: "
       ]
      },
      {
       "output_type": "stream",
       "stream": "stdout",
       "text": [
        " 2 x0:  [ 8.286  3.704] xt:  [8.6339906086031544, 3.748063512925039]\n",
        "iteration: "
       ]
      },
      {
       "output_type": "stream",
       "stream": "stdout",
       "text": [
        " 3 x0:  [ 8.816  3.58 ] xt:  [8.6339720765705721, 3.7480946061469971]\n",
        "iteration:  0 x0:  [ 8.722  3.854] xt:  [8.6367983662938439, 3.7464363976764612]\n",
        "iteration: "
       ]
      },
      {
       "output_type": "stream",
       "stream": "stdout",
       "text": [
        " 3 x0:  [ 8.298  3.378] xt:  [8.6339491076631774, 3.7481237554835691]\n",
        "iteration:  0 x0:  [ 9.014  4.034] xt:  [8.6720475302928079, 3.7783654734148939]\n",
        "iteration: "
       ]
      },
      {
       "output_type": "stream",
       "stream": "stdout",
       "text": [
        " 3 x0:  [ 8.87   3.554] xt:  [8.6339699584028331, 3.7480973288111579]\n",
        "iteration: "
       ]
      },
      {
       "output_type": "stream",
       "stream": "stdout",
       "text": [
        " 2 x0:  [ 8.562  3.662] xt:  [8.6339263638512183, 3.7481527774931593]\n",
        "iteration: "
       ]
      },
      {
       "output_type": "stream",
       "stream": "stdout",
       "text": [
        " 2 x0:  [ 8.6    3.828] xt:  [8.6340330362607762, 3.7480163915927225]\n",
        "iteration:  0 x0:  [ 8.94   3.836] xt:  [8.6396935291871362, 3.7617674731031725]\n",
        "iteration: "
       ]
      },
      {
       "output_type": "stream",
       "stream": "stdout",
       "text": [
        " 0 x0:  [ 8.768  4.32 ] xt:  [8.6703945661736856, 3.8317399638028791]\n",
        "iteration:  0 x0:  [ 8.838  3.926] xt:  [8.6406933373984653, 3.7523018002799455]\n",
        "iteration: "
       ]
      },
      {
       "output_type": "stream",
       "stream": "stdout",
       "text": [
        " 3 x0:  [ 8.288  3.466] xt:  [8.6339516327555828, 3.7481206329323999]\n",
        "iteration:  0 x0:  [ 8.652  3.782] xt:  [8.6353005758466352, 3.7468298251624792]\n",
        "iteration: "
       ]
      },
      {
       "output_type": "stream",
       "stream": "stdout",
       "text": [
        " 2 x0:  [ 8.376  3.956] xt:  [8.6340187597914753, 3.7480334678002962]\n",
        "iteration: "
       ]
      },
      {
       "output_type": "stream",
       "stream": "stdout",
       "text": [
        " 4 x0:  [ 7.724  3.414] xt:  [8.6339530175197527, 3.7481188512269172]\n",
        "iteration: "
       ]
      },
      {
       "output_type": "stream",
       "stream": "stdout",
       "text": [
        " 3 x0:  [ 8.374  4.136] xt:  [8.6339779545518418, 3.7480870651007985]\n",
        "iteration: "
       ]
      },
      {
       "output_type": "stream",
       "stream": "stdout",
       "text": [
        " 2 x0:  [ 8.6    3.712] xt:  [8.6339424776220408, 3.7481324685774595]\n",
        "iteration:  0 x0:  [ 9.026  3.788] xt:  [8.6498750940222511, 3.767480901423899]\n",
        "iteration: "
       ]
      },
      {
       "output_type": "stream",
       "stream": "stdout",
       "text": [
        " 3 x0:  [ 8.534  3.252] xt:  [8.6339375331953505, 3.7481387215531816]\n",
        "iteration: "
       ]
      },
      {
       "output_type": "stream",
       "stream": "stdout",
       "text": [
        " 3 x0:  [ 8.874  3.602] xt:  [8.6339705876659139, 3.7480965224685212]\n",
        "iteration:  0 x0:  [ 8.796  3.888] xt:  [8.6374402512698705, 3.749803238973819]\n",
        "iteration: "
       ]
      },
      {
       "output_type": "stream",
       "stream": "stdout",
       "text": [
        " 3 x0:  [ 8.592  3.988] xt:  [8.6339352563792762, 3.7481418721928947]\n",
        "iteration:  0 x0:  [ 8.98   4.014] xt:  [8.6627493496198849, 3.7712455341600148]\n",
        "iteration: "
       ]
      },
      {
       "output_type": "stream",
       "stream": "stdout",
       "text": [
        " 3 x0:  [ 8.562  3.856] xt:  [8.633936671225646, 3.7481400497393951]\n",
        "iteration: "
       ]
      },
      {
       "output_type": "stream",
       "stream": "stdout",
       "text": [
        " 5 x0:  [ 13.894   4.16 ] xt:  [14.10163375813014, 5.0371560398620119]\n",
        "iteration:  0 x0:  [ 14.278   5.26 ] xt:  [14.111759758970196, 5.0575253703238676]\n",
        "iteration: "
       ]
      },
      {
       "output_type": "stream",
       "stream": "stdout",
       "text": [
        " 3 x0:  [ 14.364   4.748] xt:  [14.10163192424575, 5.0371388911680866]\n",
        "iteration: "
       ]
      },
      {
       "output_type": "stream",
       "stream": "stdout",
       "text": [
        " 3 x0:  [ 14.108   4.918] xt:  [14.101633437079842, 5.0371541224128551]\n",
        "iteration: "
       ]
      },
      {
       "output_type": "stream",
       "stream": "stdout",
       "text": [
        " 2 x0:  [ 13.998   5.498] xt:  [14.101668212577781, 5.037561871830829]\n",
        "iteration:  0 x0:  [ 14.4     5.296] xt:  [14.127036847332491, 5.0682906588334076]\n",
        "iteration: "
       ]
      },
      {
       "output_type": "stream",
       "stream": "stdout",
       "text": [
        " 0 x0:  [ 14.3     5.368] xt:  [14.118062157838022, 5.0754677375754707]\n",
        "iteration: "
       ]
      },
      {
       "output_type": "stream",
       "stream": "stdout",
       "text": [
        " 2 x0:  [ 13.958   5.35 ] xt:  [14.101640122109211, 5.037356965251222]\n",
        "iteration: "
       ]
      },
      {
       "output_type": "stream",
       "stream": "stdout",
       "text": [
        " 3 x0:  [ 13.842   4.984] xt:  [14.101629930862758, 5.0371501699562868]\n",
        "iteration: "
       ]
      },
      {
       "output_type": "stream",
       "stream": "stdout",
       "text": [
        " 4 x0:  [ 13.85    4.246] xt:  [14.101624929512987, 5.0371248718683335]\n",
        "iteration: "
       ]
      },
      {
       "output_type": "stream",
       "stream": "stdout",
       "text": [
        " 2 x0:  [ 13.978   5.356] xt:  [14.101645505120379, 5.0373608434033912]\n",
        "iteration:  0 x0:  [ 14.366   5.104] xt:  [14.115546387994396, 5.0440657511114111]\n",
        "iteration: "
       ]
      },
      {
       "output_type": "stream",
       "stream": "stdout",
       "text": [
        " 3 x0:  [ 14.272   4.94 ] xt:  [14.101634648995709, 5.0371566773287748]\n",
        "iteration:  0 x0:  [ 14.336   5.176] xt:  [14.114062884286394, 5.0501524541335527]\n",
        "iteration: "
       ]
      },
      {
       "output_type": "stream",
       "stream": "stdout",
       "text": [
        " 0 x0:  [ 14.744   5.248] xt:  [14.246240926141876, 5.0912326918500677]\n",
        "iteration:  0 x0:  [ 14.306   5.06 ] xt:  [14.110309678930879, 5.0398805066102259]\n",
        "iteration: "
       ]
      },
      {
       "output_type": "stream",
       "stream": "stdout",
       "text": [
        " 2 x0:  [ 13.986   5.05 ] xt:  [14.101618549118164, 5.037149598263305]\n",
        "iteration:  0 x0:  [ 14.44   5.33] xt:  [14.136900707071597, 5.0776424913675644]\n",
        "iteration: "
       ]
      },
      {
       "output_type": "stream",
       "stream": "stdout",
       "text": [
        " 3 x0:  [ 14.004   4.92 ] xt:  [14.101632303476835, 5.0371518905678094]\n",
        "iteration: "
       ]
      },
      {
       "output_type": "stream",
       "stream": "stdout",
       "text": [
        " 4 x0:  [ 13.332   4.592] xt:  [14.101619770403653, 5.0371228285941099]\n",
        "iteration:  0 x0:  [ 14.218   5.544] xt:  [14.116120166541187, 5.1220183737641012]\n",
        "iteration: "
       ]
      },
      {
       "output_type": "stream",
       "stream": "stdout",
       "text": [
        " 3 x0:  [ 14.154   4.768] xt:  [14.101630611269368, 5.0371410512955235]\n",
        "iteration: "
       ]
      },
      {
       "output_type": "stream",
       "stream": "stdout",
       "text": [
        " 4 x0:  [ 13.468   4.92 ] xt:  [14.101631797646572, 5.0371533183009971]\n",
        "iteration: "
       ]
      },
      {
       "output_type": "stream",
       "stream": "stdout",
       "text": [
        " 3 x0:  [ 13.67    5.406] xt:  [14.101629480057669, 5.0371859167567399]\n",
        "iteration: "
       ]
      },
      {
       "output_type": "stream",
       "stream": "stdout",
       "text": [
        " 3 x0:  [ 13.664   5.016] xt:  [14.101621390295117, 5.0371399562688142]\n",
        "iteration: "
       ]
      },
      {
       "output_type": "stream",
       "stream": "stdout",
       "text": [
        " 3 x0:  [ 14.12   4.87] xt:  [14.101632709750112, 5.0371508475752851]\n",
        "iteration: "
       ]
      },
      {
       "output_type": "stream",
       "stream": "stdout",
       "text": [
        " 4 x0:  [ 13.836   4.51 ] xt:  [14.101631816610841, 5.0371495482235966]\n",
        "iteration:  0 x0:  [ 14.204   5.064] xt:  [14.105557544698373, 5.0397975529549743]\n",
        "iteration: "
       ]
      },
      {
       "output_type": "stream",
       "stream": "stdout",
       "text": [
        " 2 x0:  [ 14.004   5.228] xt:  [14.101639467426116, 5.0372522036570171]\n",
        "iteration: "
       ]
      },
      {
       "output_type": "stream",
       "stream": "stdout",
       "text": [
        " 4 x0:  [ 13.266   4.858] xt:  [14.101624510732508, 5.0371390779531868]\n",
        "iteration: "
       ]
      },
      {
       "output_type": "stream",
       "stream": "stdout",
       "text": [
        " 3 x0:  [ 13.668   5.34 ] xt:  [14.101628586438222, 5.0371765507054089]\n",
        "iteration: "
       ]
      },
      {
       "output_type": "stream",
       "stream": "stdout",
       "text": [
        " 3 x0:  [ 14.528   4.812] xt:  [14.101635237668386, 5.0371442575857159]\n",
        "iteration: "
       ]
      },
      {
       "output_type": "stream",
       "stream": "stdout",
       "text": [
        " 4 x0:  [ 14.318   4.592] xt:  [14.101633937772027, 5.0371559563354404]\n",
        "iteration: "
       ]
      },
      {
       "output_type": "stream",
       "stream": "stdout",
       "text": [
        " 2 x0:  [ 14.018   5.182] xt:  [14.10163797544848, 5.0372250766052939]\n",
        "iteration: "
       ]
      },
      {
       "output_type": "stream",
       "stream": "stdout",
       "text": [
        " 3 x0:  [ 14.37    4.884] xt:  [14.1016345766937, 5.037152966931135]\n",
        "iteration: "
       ]
      },
      {
       "output_type": "stream",
       "stream": "stdout",
       "text": [
        " 3 x0:  [ 14.198   4.804] xt:  [14.10163197829457, 5.0371458451452158]\n",
        "iteration: "
       ]
      },
      {
       "output_type": "stream",
       "stream": "stdout",
       "text": [
        " 4 x0:  [ 14.32   4.59] xt:  [14.10163392860137, 5.0371559097418297]\n",
        "iteration: "
       ]
      },
      {
       "output_type": "stream",
       "stream": "stdout",
       "text": [
        " 3 x0:  [ 13.636   5.218] xt:  [14.101624561605542, 5.0371610694917548]\n",
        "iteration: "
       ]
      },
      {
       "output_type": "stream",
       "stream": "stdout",
       "text": [
        " 3 x0:  [ 14.41    4.656] xt:  [14.101629442211086, 5.0371220206892637]\n",
        "iteration: "
       ]
      },
      {
       "output_type": "stream",
       "stream": "stdout",
       "text": [
        " 2 x0:  [ 14.02    5.614] xt:  [14.101696292062053, 5.0378280943053699]\n"
       ]
      }
     ],
     "prompt_number": 23
    },
    {
     "cell_type": "code",
     "collapsed": false,
     "input": [
      "SEPs = array(SEPs)\n",
      "print SEPs"
     ],
     "language": "python",
     "metadata": {},
     "outputs": [
      {
       "output_type": "stream",
       "stream": "stdout",
       "text": [
        "[[ 10.8003414   10.07442879]\n",
        " [  9.5965793   10.42553878]\n",
        " [  9.431717    10.73369898]\n",
        " ..., \n",
        " [ 14.55898958   4.83317507]\n",
        " [ 13.74563199   5.40340561]\n",
        " [ 14.15453133   4.62309066]]\n"
       ]
      }
     ],
     "prompt_number": 123
    },
    {
     "cell_type": "code",
     "collapsed": false,
     "input": [
      "plotScatter(SEPs[:,0],SEPs[:,1],\"SEP Scatter Plot\" ,\"r\")"
     ],
     "language": "python",
     "metadata": {},
     "outputs": []
    },
    {
     "cell_type": "code",
     "collapsed": false,
     "input": [
      "print SEPs.shape\n",
      "print data.shape"
     ],
     "language": "python",
     "metadata": {},
     "outputs": [
      {
       "output_type": "stream",
       "stream": "stdout",
       "text": [
        "(600L, 2L)\n",
        "(2L, 600L)\n"
       ]
      }
     ],
     "prompt_number": 97
    },
    {
     "cell_type": "code",
     "collapsed": false,
     "input": [
      "getEquilibriumPoint(data[:,1], data, invA, 10, 1000)"
     ],
     "language": "python",
     "metadata": {},
     "outputs": [
      {
       "output_type": "stream",
       "stream": "stderr",
       "text": [
        "-c:4: RuntimeWarning: divide by zero encountered in double_scalars\n"
       ]
      },
      {
       "metadata": {},
       "output_type": "pyout",
       "prompt_number": 294,
       "text": [
        "([-inf, -inf], 4)"
       ]
      }
     ],
     "prompt_number": 294
    },
    {
     "cell_type": "code",
     "collapsed": false,
     "input": [
      "x_old = data[:,0]\n",
      "ita = 1\n",
      "for i in range(1000):\n",
      "    x_new = gradientDescentIteration(x_old,data,invA,ita)\n",
      "    if( (x_new[0] - x_old[0])/x_old[0] < 0.00001 and (x_new[1] - x_old[1])/x_old[1] < 0.00001):\n",
      "        break\n",
      "    else:\n",
      "        x_old = x_new\n",
      "        print x_old"
     ],
     "language": "python",
     "metadata": {},
     "outputs": [],
     "prompt_number": 307
    }
   ],
   "metadata": {}
  }
 ]
}