{
 "metadata": {
  "name": ""
 },
 "nbformat": 3,
 "nbformat_minor": 0,
 "worksheets": [
  {
   "cells": [
    {
     "cell_type": "code",
     "collapsed": false,
     "input": [
      "import numpy as np\n",
      "import matplotlib\n",
      "import matplotlib.pyplot as plt\n",
      "import scipy\n",
      "\n",
      "#plot the scatter plot\n",
      "def plotScatter(X,Y,title,c):\n",
      "    fig = plt.figure()\n",
      "    ax = fig.add_subplot(111)\n",
      "    ax.plot(X,Y,c+'.')\n",
      "    ax.set_title(title)\n",
      "    plt.show()\n",
      "    \n",
      "#init parameters for the model\n",
      "alpha = 1"
     ],
     "language": "python",
     "metadata": {},
     "outputs": [],
     "prompt_number": 2
    },
    {
     "cell_type": "code",
     "collapsed": false,
     "input": [
      "#Calculate Covariance Matrix C\n",
      "def kernelFunction(x1, x2):\n",
      "    c = 0.;\n",
      "    for i in range(len(x1)):\n",
      "        c += alpha * (x1[i] - x2[i]) **2\n",
      "\n",
      "    c = math.exp(- 0.5 * c)\n",
      "    return c\n",
      "\n",
      "#calculate the whole covariance matrix \n",
      "def getCovarianceMatrix(data):\n",
      "    size = len(data[0,:])\n",
      "    C = [[ 0. for i in range (size)] for j in range (size)]\n",
      "    for i in range (size):\n",
      "        for j in range (size):\n",
      "            C[i][j] = kernelFunction(data[:,i], data[:,j])\n",
      "    return matrix(C)  \n",
      "\n",
      "\n",
      "#TODO check how to calculate the variance\n",
      "#calculate variance of dataset\n",
      "def getVariance(data):\n",
      "    return np.var(data)\n",
      "\n",
      "#calculate inversion of Matrix A\n",
      "def getInversionMatrix(data, C):\n",
      "    size = len(data[0,:])\n",
      "    var = getVariance(data)\n",
      "    return  (C + var * matrix(np.eye(size)) ).I \n",
      "\n",
      "#calcalate the variance for a given point x\n",
      "def varianceFunction(x, data, inv):\n",
      "    size = len(data[0,:])\n",
      "    k = matrix( [kernelFunction(x, data[:,i]) for i in range (size)]).T\n",
      "    result = kernelFunction(x,x) - k.T * inv * k\n",
      "    return result[0,0]"
     ],
     "language": "python",
     "metadata": {},
     "outputs": [],
     "prompt_number": 3
    },
    {
     "cell_type": "code",
     "collapsed": false,
     "input": [
      "#normalization of point delta value\n",
      "def normalizationPointDeltaValue(x):\n",
      "    tmp = math.sqrt( x[0] **2 + x[1] **2)\n",
      "    return [x[0]/tmp, x[1]/tmp]\n",
      "\n",
      "#nabla_variance_function\n",
      "def nablaVarianceFunction(x, data, inv):\n",
      "    size = len(data[0,:])\n",
      "    k = matrix( [kernelFunction(x, data[:,i]) for i in range (size)]).T\n",
      "    nablaK_x1 = matrix([ - kernelFunction(x, data[:,i]) * (x[0] - data[0,i]) for i in range (size)]).T\n",
      "    nablaK_x2 = matrix([ - kernelFunction(x, data[:,i]) * (x[1] - data[1,i]) for i in range (size)]).T\n",
      "    delta_x1 =  nablaK_x1.T * inv * k + k.T * inv * nablaK_x1 \n",
      "    delta_x2 =  nablaK_x2.T * inv * k + k.T * inv * nablaK_x2\n",
      "    return [delta_x1[0,0], delta_x2[0,0]]\n",
      "\n",
      "#gradient descent iteration\n",
      "def gradientDescentIteration(x, data, inv, ita):\n",
      "    delta_x = nablaVarianceFunction(x,data,inv)\n",
      "    #print \"delta_x:\" , delta_x\n",
      "    return [ x[i] + ita * delta_x[i] for i in range (len(x))]\n",
      "\n",
      "def getEquilibriumPoint(x,data,inv,ita,maxIteration):\n",
      "    x_old = x\n",
      "    iteration = 1\n",
      "    for i in range(maxIteration):\n",
      "        x_new = gradientDescentIteration(x_old,data,inv,ita)\n",
      "        if( (x_new[0] - x_old[0])/x_old[0] < 0.0001 and (x_new[1] - x_old[1])/x_old[1] < 0.0001):\n",
      "            break\n",
      "        else:\n",
      "            x_old = x_new\n",
      "            iteration += 1\n",
      "    print \"iteration: \" , iteration, \"x0: \", x, \"xt: \", x_new\n",
      "    return x_new\n",
      "\n",
      "def getMaxVariance():\n",
      "    maxVars = 0.\n",
      "    maxIndex = 0\n",
      "    for i in range (size):\n",
      "        if(i == 0):\n",
      "            maxVar = varianceFunction(data[:,i], data, invA)\n",
      "            maxIndex = 0\n",
      "        else:\n",
      "            tmp = varianceFunction(data[:,i], data, invA)\n",
      "            if(tmp > maxVar):\n",
      "                maxVar = tmp\n",
      "                maxIndex = i\n",
      "    return maxVar, data[:,maxIndex]\n",
      "\n",
      "def getMaxVariances(num):\n",
      "    maxVars = [ 0. for i in range (num)]\n",
      "    variances = array([varianceFunction(data[:,i], data, invA) for i in range(size)])\n",
      "    sorted_vars = sort(variances)\n",
      "    for i in range (num):\n",
      "        maxVars[i] = sorted_vars[-1-i]\n",
      "    \n",
      "    return maxVars"
     ],
     "language": "python",
     "metadata": {},
     "outputs": [],
     "prompt_number": 282
    },
    {
     "cell_type": "code",
     "collapsed": false,
     "input": [
      "dataset = loadtxt(\"dataset\\R15.txt\")\n",
      "data = array([dataset[:,0], dataset[:,1]])\n",
      "clusters = dataset[:,2]\n",
      "size = len(clusters)\n",
      "\n",
      "X = data[0,:]\n",
      "Y = data[1,:]\n",
      "dimension = 2\n",
      "plotScatter(X,Y,\"Scatter Plot\", 'g')"
     ],
     "language": "python",
     "metadata": {},
     "outputs": [
      {
       "metadata": {},
       "output_type": "display_data",
       "png": "[encoded data removed]",
       "text": [
        "<matplotlib.figure.Figure at 0x7800ef0>"
       ]
      }
     ],
     "prompt_number": 162
    },
    {
     "cell_type": "code",
     "collapsed": false,
     "input": [
      "C = getCovarianceMatrix(data)\n",
      "invA = getInversionMatrix(data, C)\n",
      "SEPs = array([getEquilibriumPoint(data[:,i], data, invA, 0.5, 1000) for i in range (size) ])"
     ],
     "language": "python",
     "metadata": {},
     "outputs": [
      {
       "output_type": "stream",
       "stream": "stdout",
       "text": [
        "iteration:  14 x0:  [  9.802  10.132] xt:  [10.009139953096764, 10.088522688767966]\n",
        "iteration: "
       ]
      },
      {
       "output_type": "stream",
       "stream": "stdout",
       "text": [
        " 18 x0:  [ 10.35    9.768] xt:  [10.014147435695934, 10.083450092037612]\n",
        "iteration: "
       ]
      },
      {
       "output_type": "stream",
       "stream": "stdout",
       "text": [
        " 13 x0:  [ 10.098   9.988] xt:  [10.014024499977552, 10.08352056582372]\n",
        "iteration: "
       ]
      },
      {
       "output_type": "stream",
       "stream": "stdout",
       "text": [
        " 14 x0:  [ 9.73  9.91] xt:  [10.009998902191919, 10.08596499640141]\n",
        "iteration: "
       ]
      },
      {
       "output_type": "stream",
       "stream": "stdout",
       "text": [
        " 17 x0:  [  9.754  10.43 ] xt:  [10.008745850227323, 10.090257211772188]\n",
        "iteration: "
       ]
      },
      {
       "output_type": "stream",
       "stream": "stdout",
       "text": [
        " 12 x0:  [ 9.836  9.902] xt:  [10.010592363598523, 10.083800815307258]\n",
        "iteration: "
       ]
      },
      {
       "output_type": "stream",
       "stream": "stdout",
       "text": [
        " 16 x0:  [ 10.238   9.866] xt:  [10.014288319748916, 10.083285045600348]\n",
        "iteration: "
       ]
      },
      {
       "output_type": "stream",
       "stream": "stdout",
       "text": [
        " 16 x0:  [ 9.53   9.862] xt:  [10.009382456904149, 10.087013627298598]\n",
        "iteration: "
       ]
      },
      {
       "output_type": "stream",
       "stream": "stdout",
       "text": [
        " 16 x0:  [ 10.154   9.82 ] xt:  [10.013966865040084, 10.083341713312413]\n",
        "iteration: "
       ]
      },
      {
       "output_type": "stream",
       "stream": "stdout",
       "text": [
        " 22 x0:  [  9.336  10.456] xt:  [10.008858265052796, 10.089660579913819]\n",
        "iteration: "
       ]
      },
      {
       "output_type": "stream",
       "stream": "stdout",
       "text": [
        " 20 x0:  [  9.378  10.21 ] xt:  [10.009429742932207, 10.088635371063186]\n",
        "iteration: "
       ]
      },
      {
       "output_type": "stream",
       "stream": "stdout",
       "text": [
        " 17 x0:  [  9.712  10.264] xt:  [10.00959532461162, 10.088681638956327]\n",
        "iteration: "
       ]
      },
      {
       "output_type": "stream",
       "stream": "stdout",
       "text": [
        " 17 x0:  [  9.638  10.208] xt:  [10.009367447555285, 10.088679699100252]\n",
        "iteration: "
       ]
      },
      {
       "output_type": "stream",
       "stream": "stdout",
       "text": [
        " 17 x0:  [ 9.518  9.956] xt:  [10.009590604603092, 10.08760094800051]\n",
        "iteration: "
       ]
      },
      {
       "output_type": "stream",
       "stream": "stdout",
       "text": [
        " 16 x0:  [ 10.236   9.91 ] xt:  [10.014036889722629, 10.083690406377977]\n",
        "iteration: "
       ]
      },
      {
       "output_type": "stream",
       "stream": "stdout",
       "text": [
        " 19 x0:  [  9.4    10.086] xt:  [10.00945255741162, 10.08833021773143]\n",
        "iteration: "
       ]
      },
      {
       "output_type": "stream",
       "stream": "stdout",
       "text": [
        " 17 x0:  [ 10.196   9.746] xt:  [10.014031536759859, 10.083284654337234]\n",
        "iteration: "
       ]
      },
      {
       "output_type": "stream",
       "stream": "stdout",
       "text": [
        " 16 x0:  [ 10.138   9.828] xt:  [10.013817835713592, 10.083501696188936]\n",
        "iteration:  1 x0:  [ 10.062  10.26 ] xt:  [10.043823550201086, 10.216685510894603]\n",
        "iteration: "
       ]
      },
      {
       "output_type": "stream",
       "stream": "stdout",
       "text": [
        " 16 x0:  [ 10.394   9.984] xt:  [10.014923643113102, 10.08340199418058]\n",
        "iteration:  1 x0:  [ 10.284  10.348] xt:  [10.221996048765458, 10.296170899979368]\n",
        "iteration: "
       ]
      },
      {
       "output_type": "stream",
       "stream": "stdout",
       "text": [
        " 15 x0:  [ 9.706  9.978] xt:  [10.009897225587359, 10.086985882351636]\n",
        "iteration: "
       ]
      },
      {
       "output_type": "stream",
       "stream": "stdout",
       "text": [
        " 18 x0:  [  9.906  10.588] xt:  [10.009127174067169, 10.090599820811919]\n",
        "iteration: "
       ]
      },
      {
       "output_type": "stream",
       "stream": "stdout",
       "text": [
        " 26 x0:  [ 10.356   9.198] xt:  [10.013879161176884, 10.08352122938172]\n",
        "iteration: "
       ]
      },
      {
       "output_type": "stream",
       "stream": "stdout",
       "text": [
        " 16 x0:  [ 9.954  9.704] xt:  [10.013377774294613, 10.083273537601739]\n",
        "iteration: "
       ]
      },
      {
       "output_type": "stream",
       "stream": "stdout",
       "text": [
        " 17 x0:  [  9.796  10.378] xt:  [10.009457391983322, 10.089306065012483]\n",
        "iteration:  1 x0:  [ 10.386  10.608] xt:  [10.33988965038758, 10.565042636171952]\n",
        "iteration: "
       ]
      },
      {
       "output_type": "stream",
       "stream": "stdout",
       "text": [
        " 17 x0:  [ 10.41    9.912] xt:  [10.0145698943663, 10.083419291365393]\n",
        "iteration:  1 x0:  [ 10.172  10.598] xt:  [10.140787233013519, 10.534347908230103]\n",
        "iteration: "
       ]
      },
      {
       "output_type": "stream",
       "stream": "stdout",
       "text": [
        " 18 x0:  [ 10.286   9.712] xt:  [10.014074699451722, 10.083370755613654]\n",
        "iteration: "
       ]
      },
      {
       "output_type": "stream",
       "stream": "stdout",
       "text": [
        " 13 x0:  [  9.932  10.234] xt:  [10.009176024289602, 10.089957515953193]\n",
        "iteration: "
       ]
      },
      {
       "output_type": "stream",
       "stream": "stdout",
       "text": [
        " 15 x0:  [ 10.298   9.948] xt:  [10.015120807721763, 10.08290078009289]\n",
        "iteration: "
       ]
      },
      {
       "output_type": "stream",
       "stream": "stdout",
       "text": [
        " 16 x0:  [ 10.352   9.932] xt:  [10.014823355889666, 10.083187904998448]\n",
        "iteration: "
       ]
      },
      {
       "output_type": "stream",
       "stream": "stdout",
       "text": [
        " 15 x0:  [  9.848  10.328] xt:  [10.008770267811432, 10.090289055469905]\n",
        "iteration:  1 x0:  [ 10.514  10.498] xt:  [10.453612675871582, 10.464160996079361]\n",
        "iteration: "
       ]
      },
      {
       "output_type": "stream",
       "stream": "stdout",
       "text": [
        " 13 x0:  [ 9.944  9.934] xt:  [10.012335659034761, 10.084012742159718]\n",
        "iteration: "
       ]
      },
      {
       "output_type": "stream",
       "stream": "stdout",
       "text": [
        " 10 x0:  [  9.92   10.022] xt:  [10.009717443304814, 10.085065033986334]\n",
        "iteration: "
       ]
      },
      {
       "output_type": "stream",
       "stream": "stdout",
       "text": [
        " 18 x0:  [  9.908  10.606] xt:  [10.008948432570698, 10.090946664985545]\n",
        "iteration: "
       ]
      },
      {
       "output_type": "stream",
       "stream": "stdout",
       "text": [
        " 14 x0:  [ 10.182   9.99 ] xt:  [10.014414863254466, 10.083538854204756]\n",
        "iteration: "
       ]
      },
      {
       "output_type": "stream",
       "stream": "stdout",
       "text": [
        " 24 x0:  [ 10.256   9.25 ] xt:  [10.013607938151843, 10.083817718967873]\n",
        "iteration:  1 x0:  [ 12.04   10.028] xt:  [12.034500880304574, 10.011979322880846]\n",
        "iteration: "
       ]
      },
      {
       "output_type": "stream",
       "stream": "stdout",
       "text": [
        " 1 x0:  [ 12.082  10.044] xt:  [12.060130325480095, 10.023031561565869]\n",
        "iteration:  1 x0:  [ 12.4    10.156] xt:  [12.246881820187649, 10.098727043683677]\n",
        "iteration: "
       ]
      },
      {
       "output_type": "stream",
       "stream": "stdout",
       "text": [
        " 9 x0:  [ 11.988   9.926] xt:  [12.024213104668044, 9.9698540500919162]\n",
        "iteration: "
       ]
      },
      {
       "output_type": "stream",
       "stream": "stdout",
       "text": [
        " 7 x0:  [ 12.34    9.918] xt:  [12.034243810821724, 9.9707648688236912]\n",
        "iteration: "
       ]
      },
      {
       "output_type": "stream",
       "stream": "stdout",
       "text": [
        " 2 x0:  [ 12.228   9.978] xt:  [12.097166931667822, 9.9785474673864094]\n",
        "iteration:  1 x0:  [ 12.348  10.488] xt:  [12.208959180296377, 10.358691308976049]\n",
        "iteration: "
       ]
      },
      {
       "output_type": "stream",
       "stream": "stdout",
       "text": [
        " 19 x0:  [ 12.044   9.358] xt:  [12.024620270676387, 9.9702570107427917]\n",
        "iteration: "
       ]
      },
      {
       "output_type": "stream",
       "stream": "stdout",
       "text": [
        " 12 x0:  [ 11.736  10.122] xt:  [12.023552893518341, 9.9758493601006109]\n",
        "iteration: "
       ]
      },
      {
       "output_type": "stream",
       "stream": "stdout",
       "text": [
        " 12 x0:  [ 12.35    9.798] xt:  [12.025679345114435, 9.9705610803497962]\n",
        "iteration: "
       ]
      },
      {
       "output_type": "stream",
       "stream": "stdout",
       "text": [
        " 18 x0:  [ 11.246  10.122] xt:  [12.023300501048064, 9.9746848438929696]\n",
        "iteration:  1 x0:  [ 12.276  10.99 ] xt:  [12.106992195876977, 10.881529233841151]\n",
        "iteration: "
       ]
      },
      {
       "output_type": "stream",
       "stream": "stdout",
       "text": [
        " 1 x0:  [ 12.374  10.018] xt:  [12.229802241173022, 10.007324438936559]\n",
        "iteration:  1 x0:  [ 12.53  10.  ] xt:  [12.326533640478758, 9.998365214724263]\n",
        "iteration: "
       ]
      },
      {
       "output_type": "stream",
       "stream": "stdout",
       "text": [
        " 12 x0:  [ 12.27    9.792] xt:  [12.025423688754554, 9.9701958434607008]\n",
        "iteration:  1 x0:  [ 12.364  10.176] xt:  [12.225145436909081, 10.112360400625914]\n",
        "iteration: "
       ]
      },
      {
       "output_type": "stream",
       "stream": "stdout",
       "text": [
        " 1 x0:  [ 12.458  10.18 ] xt:  [12.283213491425974, 10.115822406254923]\n",
        "iteration: "
       ]
      },
      {
       "output_type": "stream",
       "stream": "stdout",
       "text": [
        " 15 x0:  [ 11.952   9.682] xt:  [12.024558945069403, 9.9699353870334164]\n",
        "iteration: "
       ]
      },
      {
       "output_type": "stream",
       "stream": "stdout",
       "text": [
        " 12 x0:  [ 11.772   9.924] xt:  [12.023595126857943, 9.9706256141704959]\n",
        "iteration: "
       ]
      },
      {
       "output_type": "stream",
       "stream": "stdout",
       "text": [
        " 14 x0:  [ 11.502  10.008] xt:  [12.023093925292736, 9.9724750112831213]\n",
        "iteration: "
       ]
      },
      {
       "output_type": "stream",
       "stream": "stdout",
       "text": [
        " 17 x0:  [ 12.134   9.482] xt:  [12.024690479642635, 9.9703094790282609]\n",
        "iteration: "
       ]
      },
      {
       "output_type": "stream",
       "stream": "stdout",
       "text": [
        " 14 x0:  [ 11.628  10.286] xt:  [12.023688208173356, 9.9784045044459599]\n",
        "iteration: "
       ]
      },
      {
       "output_type": "stream",
       "stream": "stdout",
       "text": [
        " 16 x0:  [ 12.064   9.616] xt:  [12.024728137393561, 9.9704585897604918]\n",
        "iteration: "
       ]
      },
      {
       "output_type": "stream",
       "stream": "stdout",
       "text": [
        " 13 x0:  [ 11.906   9.82 ] xt:  [12.024381062141066, 9.969870414354137]\n",
        "iteration: "
       ]
      },
      {
       "output_type": "stream",
       "stream": "stdout",
       "text": [
        " 13 x0:  [ 11.736  10.29 ] xt:  [12.023804426359931, 9.9791856254951323]\n",
        "iteration:  1 x0:  [ 12.114  10.904] xt:  [11.986692043622593, 10.812610464194606]\n",
        "iteration: "
       ]
      },
      {
       "output_type": "stream",
       "stream": "stdout",
       "text": [
        " 17 x0:  [ 11.59    9.712] xt:  [12.024336612258137, 9.9700070042576865]\n",
        "iteration: "
       ]
      },
      {
       "output_type": "stream",
       "stream": "stdout",
       "text": [
        " 10 x0:  [ 12.648   9.814] xt:  [12.029148142883011, 9.9706758760290146]\n",
        "iteration:  1 x0:  [ 12.164  11.018] xt:  [12.007255975918484, 10.930141540109821]\n",
        "iteration: "
       ]
      },
      {
       "output_type": "stream",
       "stream": "stdout",
       "text": [
        " 12 x0:  [ 12.22    9.796] xt:  [12.025276088009052, 9.9700640168671573]\n",
        "iteration: "
       ]
      },
      {
       "output_type": "stream",
       "stream": "stdout",
       "text": [
        " 17 x0:  [ 11.846   9.634] xt:  [12.02463337917469, 9.970481454262984]\n",
        "iteration: "
       ]
      },
      {
       "output_type": "stream",
       "stream": "stdout",
       "text": [
        " 11 x0:  [ 11.808  10.058] xt:  [12.023503619285268, 9.9745868245380915]\n",
        "iteration: "
       ]
      },
      {
       "output_type": "stream",
       "stream": "stdout",
       "text": [
        " 12 x0:  [ 12.096   9.846] xt:  [12.024993432177462, 9.970384785002663]\n",
        "iteration: "
       ]
      },
      {
       "output_type": "stream",
       "stream": "stdout",
       "text": [
        " 13 x0:  [ 11.594  10.078] xt:  [12.023106855148571, 9.9743637065746498]\n",
        "iteration: "
       ]
      },
      {
       "output_type": "stream",
       "stream": "stdout",
       "text": [
        " 6 x0:  [ 12.252   9.938] xt:  [12.036215039975367, 9.9708159939667524]\n",
        "iteration: "
       ]
      },
      {
       "output_type": "stream",
       "stream": "stdout",
       "text": [
        " 15 x0:  [ 11.998   9.676] xt:  [12.024625214795215, 9.9700618335450173]\n",
        "iteration: "
       ]
      },
      {
       "output_type": "stream",
       "stream": "stdout",
       "text": [
        " 10 x0:  [ 11.894  10.012] xt:  [12.023721891996287, 9.9734729858257491]\n",
        "iteration: "
       ]
      },
      {
       "output_type": "stream",
       "stream": "stdout",
       "text": [
        " 6 x0:  [ 12.274   9.936] xt:  [12.037183090322397, 9.9708760636082783]\n",
        "iteration:  1 x0:  [ 12.176  10.364] xt:  [12.104262683439348, 10.261518125411607]\n",
        "iteration: "
       ]
      },
      {
       "output_type": "stream",
       "stream": "stdout",
       "text": [
        " 1 x0:  [ 12.104  10.388] xt:  [12.055758208462123, 10.288048817108367]\n",
        "iteration: "
       ]
      },
      {
       "output_type": "stream",
       "stream": "stdout",
       "text": [
        " 12 x0:  [ 11.372  11.466] xt:  [11.164568959262242, 11.583350430447229]\n",
        "iteration: "
       ]
      },
      {
       "output_type": "stream",
       "stream": "stdout",
       "text": [
        " 16 x0:  [ 10.94   11.482] xt:  [11.156259949381438, 11.585871624164779]\n",
        "iteration: "
       ]
      },
      {
       "output_type": "stream",
       "stream": "stdout",
       "text": [
        " 11 x0:  [ 11.084  11.554] xt:  [11.155867439405084, 11.585726047130976]\n",
        "iteration: "
       ]
      },
      {
       "output_type": "stream",
       "stream": "stdout",
       "text": [
        " 12 x0:  [ 11.232  11.374] xt:  [11.162220164340878, 11.583133768211285]\n",
        "iteration:  1 x0:  [ 11.22  11.64] xt:  [11.201771371549158, 11.619073057405805]\n",
        "iteration: "
       ]
      },
      {
       "output_type": "stream",
       "stream": "stdout",
       "text": [
        " 16 x0:  [ 10.962  11.75 ] xt:  [11.156108883946125, 11.586180223017143]\n",
        "iteration: "
       ]
      },
      {
       "output_type": "stream",
       "stream": "stdout",
       "text": [
        " 15 x0:  [ 11.014  11.746] xt:  [11.156296879854334, 11.58621213164259]\n",
        "iteration: "
       ]
      },
      {
       "output_type": "stream",
       "stream": "stdout",
       "text": [
        " 19 x0:  [ 11.524  10.982] xt:  [11.162863855205007, 11.583313744676641]\n",
        "iteration: "
       ]
      },
      {
       "output_type": "stream",
       "stream": "stdout",
       "text": [
        " 13 x0:  [ 11.012  11.364] xt:  [11.15586002119549, 11.584894446495312]\n",
        "iteration: "
       ]
      },
      {
       "output_type": "stream",
       "stream": "stdout",
       "text": [
        " 16 x0:  [ 11.2    11.062] xt:  [11.161314373817296, 11.583434999062634]\n",
        "iteration:  1 x0:  [ 11.626  11.894] xt:  [11.4713521181428, 11.77685576357212]\n",
        "iteration: "
       ]
      },
      {
       "output_type": "stream",
       "stream": "stdout",
       "text": [
        " 1 x0:  [ 11.23   11.728] xt:  [11.206897830652817, 11.673228463795866]\n",
        "iteration:  1 x0:  [ 11.144  11.91 ] xt:  [11.14082129578758, 11.78380812206019]\n",
        "iteration: "
       ]
      },
      {
       "output_type": "stream",
       "stream": "stdout",
       "text": [
        " 12 x0:  [ 11.106  11.868] xt:  [11.155797465231368, 11.587364965727057]\n",
        "iteration:  1 x0:  [ 11.53   11.918] xt:  [11.40703534084259, 11.790353290042047]\n",
        "iteration: "
       ]
      },
      {
       "output_type": "stream",
       "stream": "stdout",
       "text": [
        " 15 x0:  [ 11.21   11.114] xt:  [11.161694232503358, 11.583072722573602]\n",
        "iteration: "
       ]
      },
      {
       "output_type": "stream",
       "stream": "stdout",
       "text": [
        " 20 x0:  [ 10.746  11.702] xt:  [11.155919657952872, 11.586101841723792]\n",
        "iteration:  1 x0:  [ 11.154  11.692] xt:  [11.152934622785322, 11.652863528551247]\n",
        "iteration: "
       ]
      },
      {
       "output_type": "stream",
       "stream": "stdout",
       "text": [
        " 1 x0:  [ 11.412  11.924] xt:  [11.328944455541489, 11.791790554774794]\n",
        "iteration: "
       ]
      },
      {
       "output_type": "stream",
       "stream": "stdout",
       "text": [
        " 16 x0:  [ 10.948  11.532] xt:  [11.156311910608753, 11.585928234884193]\n",
        "iteration: "
       ]
      },
      {
       "output_type": "stream",
       "stream": "stdout",
       "text": [
        " 17 x0:  [ 10.988  12.298] xt:  [11.155918227286525, 11.58643648944029]\n",
        "iteration: "
       ]
      },
      {
       "output_type": "stream",
       "stream": "stdout",
       "text": [
        " 15 x0:  [ 10.96   11.392] xt:  [11.156053958283433, 11.58561516048513]\n",
        "iteration: "
       ]
      },
      {
       "output_type": "stream",
       "stream": "stdout",
       "text": [
        " 15 x0:  [ 11.656  11.346] xt:  [11.164571743313521, 11.583137663556148]\n",
        "iteration:  1 x0:  [ 11.178  12.062] xt:  [11.164327904594835, 11.878511544579306]\n",
        "iteration: "
       ]
      },
      {
       "output_type": "stream",
       "stream": "stdout",
       "text": [
        " 9 x0:  [ 11.368  11.56 ] xt:  [11.170804876715053, 11.582482152906387]\n",
        "iteration:  1 x0:  [ 11.264  11.724] xt:  [11.230589959516717, 11.670142952676647]\n",
        "iteration: "
       ]
      },
      {
       "output_type": "stream",
       "stream": "stdout",
       "text": [
        " 1 x0:  [ 11.554  11.576] xt:  [11.429979849069705, 11.56200018835659]\n",
        "iteration: "
       ]
      },
      {
       "output_type": "stream",
       "stream": "stdout",
       "text": [
        " 15 x0:  [ 10.974  11.114] xt:  [11.157009942768951, 11.584026596448341]\n",
        "iteration: "
       ]
      },
      {
       "output_type": "stream",
       "stream": "stdout",
       "text": [
        " 9 x0:  [ 11.12   11.634] xt:  [11.155465315282994, 11.587017330387534]\n",
        "iteration:  1 x0:  [ 11.51   12.052] xt:  [11.398754791238302, 11.878856771529014]\n",
        "iteration: "
       ]
      },
      {
       "output_type": "stream",
       "stream": "stdout",
       "text": [
        " 15 x0:  [ 10.95   11.402] xt:  [11.155803540198407, 11.585686474726767]\n",
        "iteration:  1 x0:  [ 11.864  12.406] xt:  [11.704999969221179, 12.203596798170517]\n",
        "iteration: "
       ]
      },
      {
       "output_type": "stream",
       "stream": "stdout",
       "text": [
        " 19 x0:  [ 11.198  10.854] xt:  [11.161533250600826, 11.583471742055451]\n",
        "iteration:  1 x0:  [ 11.65   11.496] xt:  [11.504125545233387, 11.49322288306737]\n",
        "iteration: "
       ]
      },
      {
       "output_type": "stream",
       "stream": "stdout",
       "text": [
        " 1 x0:  [ 11.248  11.722] xt:  [11.219574392520093, 11.669233247695361]\n",
        "iteration:  1 x0:  [ 11.602  11.888] xt:  [11.454776646954402, 11.772280578370825]\n",
        "iteration: "
       ]
      },
      {
       "output_type": "stream",
       "stream": "stdout",
       "text": [
        " 12 x0:  [ 11.424  11.454] xt:  [11.165748574846042, 11.582894808748549]\n",
        "iteration:  1 x0:  [ 11.312  11.718] xt:  [11.263331830798185, 11.665530758985144]\n",
        "iteration: "
       ]
      },
      {
       "output_type": "stream",
       "stream": "stdout",
       "text": [
        " 20 x0:  [ 10.736  11.68 ] xt:  [11.155786732858664, 11.58612286448826]\n",
        "iteration:  1 x0:  [ 11.56   11.798] xt:  [11.425759052072703, 11.712574618890839]\n",
        "iteration: "
       ]
      },
      {
       "output_type": "stream",
       "stream": "stdout",
       "text": [
        " 1 x0:  [ 10.028  12.268] xt:  [9.9678931649586282, 12.084331685202365]\n",
        "iteration: "
       ]
      },
      {
       "output_type": "stream",
       "stream": "stdout",
       "text": [
        " 20 x0:  [  9.282  11.976] xt:  [9.6298651601125123, 11.808552872993451]\n",
        "iteration: "
       ]
      },
      {
       "output_type": "stream",
       "stream": "stdout",
       "text": [
        " 25 x0:  [  9.178  11.53 ] xt:  [9.6303889917205314, 11.808504014235847]\n",
        "iteration:  1 x0:  [  9.954  12.398] xt:  [9.8982120796207607, 12.175075398804733]\n",
        "iteration: "
       ]
      },
      {
       "output_type": "stream",
       "stream": "stdout",
       "text": [
        " 13 x0:  [  9.622  11.558] xt:  [9.63216302481902, 11.806713685602091]\n",
        "iteration:  1 x0:  [  9.914  11.844] xt:  [9.8757117051794232, 11.825550085041703]\n",
        "iteration: "
       ]
      },
      {
       "output_type": "stream",
       "stream": "stdout",
       "text": [
        " 45 x0:  [  9.07   11.092] xt:  [9.6305586606780338, 11.808516969213256]\n",
        "iteration: "
       ]
      },
      {
       "output_type": "stream",
       "stream": "stdout",
       "text": [
        " 23 x0:  [ 10.578  11.354] xt:  [11.155635657584517, 11.586105606947916]\n",
        "iteration: "
       ]
      },
      {
       "output_type": "stream",
       "stream": "stdout",
       "text": [
        " 11 x0:  [  9.582  12.14 ] xt:  [9.6305271346954164, 11.811348112618132]\n",
        "iteration: "
       ]
      },
      {
       "output_type": "stream",
       "stream": "stdout",
       "text": [
        " 14 x0:  [  9.622  11.528] xt:  [9.632353359990713, 11.807110546454167]\n",
        "iteration: "
       ]
      },
      {
       "output_type": "stream",
       "stream": "stdout",
       "text": [
        " 21 x0:  [  9.35  11.71] xt:  [9.6304280417622277, 11.80852153839726]\n",
        "iteration:  1 x0:  [ 10.234  11.974] xt:  [10.195794923638994, 11.887749674655458]\n",
        "iteration: "
       ]
      },
      {
       "output_type": "stream",
       "stream": "stdout",
       "text": [
        " 23 x0:  [  8.986  12.31 ] xt:  [9.6304845532466175, 11.808580473940973]\n",
        "iteration: "
       ]
      },
      {
       "output_type": "stream",
       "stream": "stdout",
       "text": [
        " 17 x0:  [  9.438  12.11 ] xt:  [9.6300235006428601, 11.808764598437442]\n",
        "iteration: "
       ]
      },
      {
       "output_type": "stream",
       "stream": "stdout",
       "text": [
        " 10 x0:  [  9.592  12.012] xt:  [9.6301700401655399, 11.811363036315594]\n",
        "iteration:  1 x0:  [  9.666  11.88 ] xt:  [9.6599885877590221, 11.854761214783744]\n",
        "iteration: "
       ]
      },
      {
       "output_type": "stream",
       "stream": "stdout",
       "text": [
        " 19 x0:  [  9.364  12.012] xt:  [9.6301899011759051, 11.808612698421904]\n",
        "iteration: "
       ]
      },
      {
       "output_type": "stream",
       "stream": "stdout",
       "text": [
        " 7 x0:  [  9.71   11.772] xt:  [9.6530207533707966, 11.806607350919107]\n",
        "iteration:  1 x0:  [  9.992  11.836] xt:  [9.9511320955371634, 11.816211320404335]\n",
        "iteration: "
       ]
      },
      {
       "output_type": "stream",
       "stream": "stdout",
       "text": [
        " 1 x0:  [  9.916  12.028] xt:  [9.8699136138036909, 11.939028447326175]\n",
        "iteration: "
       ]
      },
      {
       "output_type": "stream",
       "stream": "stdout",
       "text": [
        " 18 x0:  [  9.382  12.226] xt:  [9.6301248368766146, 11.808740067743589]\n",
        "iteration:  1 x0:  [  9.808  12.23 ] xt:  [9.7719765381226225, 12.062658469933339]\n",
        "iteration: "
       ]
      },
      {
       "output_type": "stream",
       "stream": "stdout",
       "text": [
        " 20 x0:  [  9.272  12.152] xt:  [9.630231576452255, 11.808615780785559]\n",
        "iteration: "
       ]
      },
      {
       "output_type": "stream",
       "stream": "stdout",
       "text": [
        " 25 x0:  [  9.392  11.18 ] xt:  [9.6300855749302468, 11.808354244590515]\n",
        "iteration: "
       ]
      },
      {
       "output_type": "stream",
       "stream": "stdout",
       "text": [
        " 21 x0:  [  9.28   11.976] xt:  [9.6306232501102009, 11.808587842923417]\n",
        "iteration: "
       ]
      },
      {
       "output_type": "stream",
       "stream": "stdout",
       "text": [
        " 12 x0:  [  9.848  11.632] xt:  [9.659978487246951, 11.806558601404971]\n",
        "iteration: "
       ]
      },
      {
       "output_type": "stream",
       "stream": "stdout",
       "text": [
        " 23 x0:  [  9.322  11.514] xt:  [9.6304969095713435, 11.808495538335601]\n",
        "iteration:  1 x0:  [  9.718  11.95 ] xt:  [9.7016142173080979, 11.897297703832571]\n",
        "iteration: "
       ]
      },
      {
       "output_type": "stream",
       "stream": "stdout",
       "text": [
        " 24 x0:  [  9.12  11.76] xt:  [9.6304702825750841, 11.808530878374825]\n",
        "iteration: "
       ]
      },
      {
       "output_type": "stream",
       "stream": "stdout",
       "text": [
        " 23 x0:  [  8.978  12.37 ] xt:  [9.6305251885672192, 11.808588181969908]\n",
        "iteration:  1 x0:  [ 10.072  12.202] xt:  [10.012439908742939, 12.040194415703798]\n",
        "iteration: "
       ]
      },
      {
       "output_type": "stream",
       "stream": "stdout",
       "text": [
        " 1 x0:  [  9.966  11.822] xt:  [9.9264664229560502, 11.80842174973975]\n",
        "iteration: "
       ]
      },
      {
       "output_type": "stream",
       "stream": "stdout",
       "text": [
        " 18 x0:  [  9.506  11.648] xt:  [9.6305691172255639, 11.808430133923656]\n",
        "iteration: "
       ]
      },
      {
       "output_type": "stream",
       "stream": "stdout",
       "text": [
        " 13 x0:  [  9.702  11.536] xt:  [9.6394731804589018, 11.806608884423538]\n",
        "iteration: "
       ]
      },
      {
       "output_type": "stream",
       "stream": "stdout",
       "text": [
        " 18 x0:  [  9.45  11.96] xt:  [9.6306173555288428, 11.808655251749132]\n",
        "iteration:  1 x0:  [  9.916  11.962] xt:  [9.8724012645100334, 11.899366028620795]\n",
        "iteration: "
       ]
      },
      {
       "output_type": "stream",
       "stream": "stdout",
       "text": [
        " 15 x0:  [  9.96   11.538] xt:  [9.664688746208709, 11.80686993184437]\n",
        "iteration: "
       ]
      },
      {
       "output_type": "stream",
       "stream": "stdout",
       "text": [
        " 25 x0:  [  9.014  11.744] xt:  [9.6300246769464888, 11.808489983653878]\n",
        "iteration: "
       ]
      },
      {
       "output_type": "stream",
       "stream": "stdout",
       "text": [
        " 24 x0:  [  9.024  11.846] xt:  [9.6299725754889192, 11.808496813721781]\n",
        "iteration: "
       ]
      },
      {
       "output_type": "stream",
       "stream": "stdout",
       "text": [
        " 30 x0:  [ 10.296  11.61 ] xt:  [9.6786785936126627, 11.806623669666891]\n",
        "iteration: "
       ]
      },
      {
       "output_type": "stream",
       "stream": "stdout",
       "text": [
        " 11 x0:  [  7.87   10.838] xt:  [8.1752181555787242, 10.819234902671894]\n",
        "iteration: "
       ]
      },
      {
       "output_type": "stream",
       "stream": "stdout",
       "text": [
        " 15 x0:  [  8.164  10.534] xt:  [8.1755793065090412, 10.817986273898045]\n",
        "iteration: "
       ]
      },
      {
       "output_type": "stream",
       "stream": "stdout",
       "text": [
        " 14 x0:  [  8.214  10.62 ] xt:  [8.175751902619254, 10.818465553720236]\n",
        "iteration: "
       ]
      },
      {
       "output_type": "stream",
       "stream": "stdout",
       "text": [
        " 12 x0:  [  8.166  10.698] xt:  [8.1756376857868194, 10.818176987076447]\n",
        "iteration: "
       ]
      },
      {
       "output_type": "stream",
       "stream": "stdout",
       "text": [
        " 11 x0:  [  8.05   10.746] xt:  [8.175255479020322, 10.817951988974349]\n",
        "iteration: "
       ]
      },
      {
       "output_type": "stream",
       "stream": "stdout",
       "text": [
        " 8 x0:  [  7.978  11.13 ] xt:  [8.1776540197302356, 10.833243076450465]\n",
        "iteration: "
       ]
      },
      {
       "output_type": "stream",
       "stream": "stdout",
       "text": [
        " 7 x0:  [  8.08   10.992] xt:  [8.1772584050370547, 10.831787795708189]\n",
        "iteration:  1 x0:  [  8.472  11.082] xt:  [8.4167030127382549, 11.033027774237556]\n",
        "iteration: "
       ]
      },
      {
       "output_type": "stream",
       "stream": "stdout",
       "text": [
        " 14 x0:  [  8.494  10.584] xt:  [8.1761938092554765, 10.818685722445485]\n",
        "iteration: "
       ]
      },
      {
       "output_type": "stream",
       "stream": "stdout",
       "text": [
        " 18 x0:  [  8.354  10.38 ] xt:  [8.1757693933248241, 10.818571164657428]\n",
        "iteration: "
       ]
      },
      {
       "output_type": "stream",
       "stream": "stdout",
       "text": [
        " 12 x0:  [  8.096  10.714] xt:  [8.1755331136600216, 10.818228563459504]\n",
        "iteration: "
       ]
      },
      {
       "output_type": "stream",
       "stream": "stdout",
       "text": [
        " 11 x0:  [  7.882  10.832] xt:  [8.1752225657065161, 10.819161794098074]\n",
        "iteration: "
       ]
      },
      {
       "output_type": "stream",
       "stream": "stdout",
       "text": [
        " 7 x0:  [  7.908  11.346] xt:  [8.1801427336132875, 10.851435691929867]\n",
        "iteration: "
       ]
      },
      {
       "output_type": "stream",
       "stream": "stdout",
       "text": [
        " 11 x0:  [  7.814  10.872] xt:  [8.1752280499877426, 10.819683393035167]\n",
        "iteration: "
       ]
      },
      {
       "output_type": "stream",
       "stream": "stdout",
       "text": [
        " 23 x0:  [  8.28   10.104] xt:  [8.1756094970279598, 10.818096855377236]\n",
        "iteration: "
       ]
      },
      {
       "output_type": "stream",
       "stream": "stdout",
       "text": [
        " 13 x0:  [  8.082  10.676] xt:  [8.1755772059859453, 10.81826035338365]\n",
        "iteration: "
       ]
      },
      {
       "output_type": "stream",
       "stream": "stdout",
       "text": [
        " 23 x0:  [  8.068  10.118] xt:  [8.1756488482559195, 10.81824222029292]\n",
        "iteration: "
       ]
      },
      {
       "output_type": "stream",
       "stream": "stdout",
       "text": [
        " 12 x0:  [  8.116  10.698] xt:  [8.1754932482021747, 10.817972818786151]\n",
        "iteration: "
       ]
      },
      {
       "output_type": "stream",
       "stream": "stdout",
       "text": [
        " 10 x0:  [  8.042  10.79 ] xt:  [8.1751237975351714, 10.818423361826961]\n",
        "iteration: "
       ]
      },
      {
       "output_type": "stream",
       "stream": "stdout",
       "text": [
        " 8 x0:  [  8.096  10.878] xt:  [8.1757987305819011, 10.822663370686309]\n",
        "iteration: "
       ]
      },
      {
       "output_type": "stream",
       "stream": "stdout",
       "text": [
        " 6 x0:  [  8.124  10.932] xt:  [8.1770746291118463, 10.831811970969072]\n",
        "iteration:  1 x0:  [  8.632  11.124] xt:  [8.5750933299770846, 11.092314102108219]\n",
        "iteration: "
       ]
      },
      {
       "output_type": "stream",
       "stream": "stdout",
       "text": [
        " 11 x0:  [  8.27   10.716] xt:  [8.1760956170201595, 10.818456174274743]\n",
        "iteration: "
       ]
      },
      {
       "output_type": "stream",
       "stream": "stdout",
       "text": [
        " 23 x0:  [  7.622  10.148] xt:  [8.1756443308718385, 10.81823644773146]\n",
        "iteration: "
       ]
      },
      {
       "output_type": "stream",
       "stream": "stdout",
       "text": [
        " 3 x0:  [  8.198  11.398] xt:  [8.2517408612687344, 11.017570105349147]\n",
        "iteration:  1 x0:  [  8.582  11.064] xt:  [8.5158641418944931, 11.035557712146099]\n",
        "iteration: "
       ]
      },
      {
       "output_type": "stream",
       "stream": "stdout",
       "text": [
        " 9 x0:  [  7.942  11.076] xt:  [8.1766464815735347, 10.827293149076061]\n",
        "iteration: "
       ]
      },
      {
       "output_type": "stream",
       "stream": "stdout",
       "text": [
        " 15 x0:  [  8.004  10.574] xt:  [8.1756079505902335, 10.818270851529405]\n",
        "iteration:  2 x0:  [  8.504  11.378] xt:  [8.482830675298592, 11.184667797695115]\n",
        "iteration: "
       ]
      },
      {
       "output_type": "stream",
       "stream": "stdout",
       "text": [
        " 6 x0:  [  8.118  11.012] xt:  [8.1793494594228466, 10.839938370242249]\n",
        "iteration: "
       ]
      },
      {
       "output_type": "stream",
       "stream": "stdout",
       "text": [
        " 8 x0:  [  7.874  11.296] xt:  [8.1782897108411259, 10.839145554359078]\n",
        "iteration: "
       ]
      },
      {
       "output_type": "stream",
       "stream": "stdout",
       "text": [
        " 12 x0:  [  7.668  10.924] xt:  [8.1755338699277971, 10.820166770729585]\n",
        "iteration: "
       ]
      },
      {
       "output_type": "stream",
       "stream": "stdout",
       "text": [
        " 12 x0:  [  7.966  10.72 ] xt:  [8.1752515031655655, 10.817874876478575]\n",
        "iteration: "
       ]
      },
      {
       "output_type": "stream",
       "stream": "stdout",
       "text": [
        " 9 x0:  [  7.94   10.996] xt:  [8.1757885061858016, 10.824628342213989]\n",
        "iteration: "
       ]
      },
      {
       "output_type": "stream",
       "stream": "stdout",
       "text": [
        " 7 x0:  [  7.988  11.228] xt:  [8.1799470183626557, 10.845441985397823]\n",
        "iteration: "
       ]
      },
      {
       "output_type": "stream",
       "stream": "stdout",
       "text": [
        " 3 x0:  [  8.164  11.112] xt:  [8.1952533361988991, 10.911727557041745]\n",
        "iteration: "
       ]
      },
      {
       "output_type": "stream",
       "stream": "stdout",
       "text": [
        " 6 x0:  [  8.386  10.772] xt:  [8.1897425431276254, 10.821378131194885]\n",
        "iteration:  1 x0:  [  8.248  10.994] xt:  [8.2326469822689621, 10.943706849974934]\n",
        "iteration: "
       ]
      },
      {
       "output_type": "stream",
       "stream": "stdout",
       "text": [
        " 10 x0:  [  8.286  10.734] xt:  [8.1764848800081555, 10.81850708646831]\n",
        "iteration: "
       ]
      },
      {
       "output_type": "stream",
       "stream": "stdout",
       "text": [
        " 19 x0:  [  8.224  10.316] xt:  [8.175733181761446, 10.818516107179493]\n",
        "iteration: "
       ]
      },
      {
       "output_type": "stream",
       "stream": "stdout",
       "text": [
        " 17 x0:  [ 7.976  9.578] xt:  [8.1250127748471357, 9.1039404429117781]\n",
        "iteration: "
       ]
      },
      {
       "output_type": "stream",
       "stream": "stdout",
       "text": [
        " 13 x0:  [ 7.876  8.796] xt:  [8.1281814760138484, 9.0966640960701408]\n",
        "iteration: "
       ]
      },
      {
       "output_type": "stream",
       "stream": "stdout",
       "text": [
        " 12 x0:  [ 8.172  9.01 ] xt:  [8.1285081300815261, 9.0964192608534553]\n",
        "iteration: "
       ]
      },
      {
       "output_type": "stream",
       "stream": "stdout",
       "text": [
        " 11 x0:  [ 8.068  9.202] xt:  [8.1252828609385794, 9.103128991848525]\n",
        "iteration: "
       ]
      },
      {
       "output_type": "stream",
       "stream": "stdout",
       "text": [
        " 20 x0:  [ 8.416  8.654] xt:  [8.1283546482703137, 9.0967492719347316]\n",
        "iteration: "
       ]
      },
      {
       "output_type": "stream",
       "stream": "stdout",
       "text": [
        " 34 x0:  [ 8.71   8.458] xt:  [8.1284166087965932, 9.0966349146351622]\n",
        "iteration: "
       ]
      },
      {
       "output_type": "stream",
       "stream": "stdout",
       "text": [
        " 18 x0:  [ 8.056  8.434] xt:  [8.1285428527236903, 9.0963617444344607]\n",
        "iteration: "
       ]
      },
      {
       "output_type": "stream",
       "stream": "stdout",
       "text": [
        " 15 x0:  [ 7.304  9.266] xt:  [8.1250906198946176, 9.1033125553786967]\n",
        "iteration: "
       ]
      },
      {
       "output_type": "stream",
       "stream": "stdout",
       "text": [
        " 17 x0:  [ 8.118  8.608] xt:  [8.128530210300795, 9.0963803856383976]\n",
        "iteration: "
       ]
      },
      {
       "output_type": "stream",
       "stream": "stdout",
       "text": [
        " 16 x0:  [ 7.616  9.446] xt:  [8.125183635759214, 9.1034055328890826]\n",
        "iteration: "
       ]
      },
      {
       "output_type": "stream",
       "stream": "stdout",
       "text": [
        " 13 x0:  [ 8.092  8.956] xt:  [8.1281519634860135, 9.0970042993829132]\n",
        "iteration: "
       ]
      },
      {
       "output_type": "stream",
       "stream": "stdout",
       "text": [
        " 16 x0:  [ 8.368  8.968] xt:  [8.128387516365505, 9.0967108666581868]\n",
        "iteration: "
       ]
      },
      {
       "output_type": "stream",
       "stream": "stdout",
       "text": [
        " 13 x0:  [ 8.022  9.334] xt:  [8.1247472007118713, 9.1044824018496833]\n",
        "iteration:  1 x0:  [ 8.32   9.062] xt:  [8.2560186993045352, 9.0559633204379129]\n",
        "iteration: "
       ]
      },
      {
       "output_type": "stream",
       "stream": "stdout",
       "text": [
        " 10 x0:  [ 7.832  8.952] xt:  [8.1263553848939001, 9.0986199995860257]\n",
        "iteration: "
       ]
      },
      {
       "output_type": "stream",
       "stream": "stdout",
       "text": [
        " 14 x0:  [ 7.704  8.672] xt:  [8.1279700732433895, 9.0971037250802027]\n",
        "iteration:  1 x0:  [ 8.236  9.108] xt:  [8.1944952702406972, 9.0975041939531049]\n",
        "iteration: "
       ]
      },
      {
       "output_type": "stream",
       "stream": "stdout",
       "text": [
        " 17 x0:  [ 8.37   8.904] xt:  [8.1283266582883016, 9.0968103242145322]\n",
        "iteration: "
       ]
      },
      {
       "output_type": "stream",
       "stream": "stdout",
       "text": [
        " 17 x0:  [ 8.352  8.896] xt:  [8.128291212089005, 9.0968753401464326]\n",
        "iteration: "
       ]
      },
      {
       "output_type": "stream",
       "stream": "stdout",
       "text": [
        " 12 x0:  [ 8.046  9.228] xt:  [8.1253756538057846, 9.1029324765947326]\n",
        "iteration: "
       ]
      },
      {
       "output_type": "stream",
       "stream": "stdout",
       "text": [
        " 17 x0:  [ 7.71   9.538] xt:  [8.1252190711918413, 9.1033966047884629]\n",
        "iteration: "
       ]
      },
      {
       "output_type": "stream",
       "stream": "stdout",
       "text": [
        " 23 x0:  [ 8.534  8.55 ] xt:  [8.1283322182243953, 9.0967943603650632]\n",
        "iteration: "
       ]
      },
      {
       "output_type": "stream",
       "stream": "stdout",
       "text": [
        " 11 x0:  [ 7.996  9.172] xt:  [8.1252394056791406, 9.1028884250289828]\n",
        "iteration: "
       ]
      },
      {
       "output_type": "stream",
       "stream": "stdout",
       "text": [
        " 11 x0:  [ 8.046  9.204] xt:  [8.125109842614032, 9.103436756865543]\n",
        "iteration:  1 x0:  [ 8.622  9.174] xt:  [8.5036844703551004, 9.1288543394591439]\n",
        "iteration: "
       ]
      },
      {
       "output_type": "stream",
       "stream": "stdout",
       "text": [
        " 10 x0:  [ 7.776  8.898] xt:  [8.1265238757801495, 9.0978005341557378]\n",
        "iteration: "
       ]
      },
      {
       "output_type": "stream",
       "stream": "stdout",
       "text": [
        " 13 x0:  [ 8.226  9.038] xt:  [8.1282580087857408, 9.0969877824946597]\n",
        "iteration: "
       ]
      },
      {
       "output_type": "stream",
       "stream": "stdout",
       "text": [
        " 12 x0:  [ 7.904  9.194] xt:  [8.1251477431307393, 9.1031067947370836]\n",
        "iteration: "
       ]
      },
      {
       "output_type": "stream",
       "stream": "stdout",
       "text": [
        " 12 x0:  [ 7.874  8.856] xt:  [8.12793720727257, 9.0968774754358588]\n",
        "iteration: "
       ]
      },
      {
       "output_type": "stream",
       "stream": "stdout",
       "text": [
        " 11 x0:  [ 7.992  8.952] xt:  [8.1279669397061465, 9.0968047303566149]\n",
        "iteration:  1 x0:  [ 8.262  9.468] xt:  [8.2031790770523543, 9.4051550280224347]\n",
        "iteration: "
       ]
      },
      {
       "output_type": "stream",
       "stream": "stdout",
       "text": [
        " 12 x0:  [ 8.088  9.294] xt:  [8.1247419658968987, 9.1045912034644001]\n",
        "iteration: "
       ]
      },
      {
       "output_type": "stream",
       "stream": "stdout",
       "text": [
        " 6 x0:  [ 8.034  9.792] xt:  [8.1007835376113295, 9.4747685775496446]\n",
        "iteration: "
       ]
      },
      {
       "output_type": "stream",
       "stream": "stdout",
       "text": [
        " 15 x0:  [ 8.352  9.016] xt:  [8.1284163791409902, 9.096684974084603]\n",
        "iteration: "
       ]
      },
      {
       "output_type": "stream",
       "stream": "stdout",
       "text": [
        " 14 x0:  [ 7.85   9.334] xt:  [8.125049195490277, 9.1036529673752256]\n",
        "iteration:  1 x0:  [ 8.404  9.366] xt:  [8.3073294082020741, 9.3091264496927852]\n",
        "iteration: "
       ]
      },
      {
       "output_type": "stream",
       "stream": "stdout",
       "text": [
        " 13 x0:  [ 7.892  8.808] xt:  [8.1281792722258732, 9.0966900414735985]\n",
        "iteration:  1 x0:  [ 8.202  9.232] xt:  [8.1655548660041752, 9.1948358779472361]\n",
        "iteration: "
       ]
      },
      {
       "output_type": "stream",
       "stream": "stdout",
       "text": [
        " 12 x0:  [ 7.668  9.026] xt:  [8.1256258903508574, 9.1013916090334952]\n",
        "iteration:  1 x0:  [ 8.242  9.308] xt:  [8.1892411730880852, 9.2569078113880785]\n",
        "iteration:  1 x0:  [ 9.432  8.61 ] xt:  [9.4127123733475191, 8.4906515807659364]\n",
        "iteration: "
       ]
      },
      {
       "output_type": "stream",
       "stream": "stdout",
       "text": [
        " 1 x0:  [ 10.066   8.19 ] xt:  [10.00337161918144, 8.1668828594652059]\n",
        "iteration: "
       ]
      },
      {
       "output_type": "stream",
       "stream": "stdout",
       "text": [
        " 15 x0:  [ 9.146  8.044] xt:  [9.4725657123872473, 8.0186880612498275]\n",
        "iteration: "
       ]
      },
      {
       "output_type": "stream",
       "stream": "stdout",
       "text": [
        " 11 x0:  [ 9.662  7.866] xt:  [9.4785808252462296, 8.0161643289419224]\n",
        "iteration: "
       ]
      },
      {
       "output_type": "stream",
       "stream": "stdout",
       "text": [
        " 11 x0:  [ 9.6    7.874] xt:  [9.4774832794675881, 8.0165154729715518]\n",
        "iteration: "
       ]
      },
      {
       "output_type": "stream",
       "stream": "stdout",
       "text": [
        " 25 x0:  [ 8.618  8.552] xt:  [8.1282598425554919, 9.0969328062333972]\n",
        "iteration: "
       ]
      },
      {
       "output_type": "stream",
       "stream": "stdout",
       "text": [
        " 11 x0:  [ 9.334  7.658] xt:  [9.4747338234339544, 8.0170987502379862]\n",
        "iteration: "
       ]
      },
      {
       "output_type": "stream",
       "stream": "stdout",
       "text": [
        " 10 x0:  [ 9.424  7.83 ] xt:  [9.4750776212858288, 8.0169983087111483]\n",
        "iteration: "
       ]
      },
      {
       "output_type": "stream",
       "stream": "stdout",
       "text": [
        " 19 x0:  [ 8.892  8.166] xt:  [9.4724076335965677, 8.0187879503677202]\n",
        "iteration: "
       ]
      },
      {
       "output_type": "stream",
       "stream": "stdout",
       "text": [
        " 10 x0:  [ 9.386  7.746] xt:  [9.4749928730218542, 8.0167736581963478]\n",
        "iteration:  1 x0:  [ 9.878  8.054] xt:  [9.7925190926077441, 8.0498868214824348]\n",
        "iteration: "
       ]
      },
      {
       "output_type": "stream",
       "stream": "stdout",
       "text": [
        " 9 x0:  [ 9.558  7.948] xt:  [9.4783661656796401, 8.0161267475119082]\n",
        "iteration: "
       ]
      },
      {
       "output_type": "stream",
       "stream": "stdout",
       "text": [
        " 14 x0:  [ 9.222  8.002] xt:  [9.4727980289195628, 8.0185603989897203]\n",
        "iteration:  1 x0:  [ 9.52   8.282] xt:  [9.4984658015721912, 8.1915670989115181]\n",
        "iteration: "
       ]
      },
      {
       "output_type": "stream",
       "stream": "stdout",
       "text": [
        " 11 x0:  [ 9.76   7.932] xt:  [9.4804992103173049, 8.0157886273300001]\n",
        "iteration:  1 x0:  [ 9.568  8.052] xt:  [9.5391133436268429, 8.0351558861120171]\n",
        "iteration: "
       ]
      },
      {
       "output_type": "stream",
       "stream": "stdout",
       "text": [
        " 13 x0:  [ 9.736  7.552] xt:  [9.4776159633066488, 8.0164521826053274]\n",
        "iteration:  1 x0:  [ 9.584  8.478] xt:  [9.5551534604083646, 8.3596178378359784]\n",
        "iteration: "
       ]
      },
      {
       "output_type": "stream",
       "stream": "stdout",
       "text": [
        " 14 x0:  [ 9.358  8.242] xt:  [9.4726945639179938, 8.0187076624908222]\n",
        "iteration: "
       ]
      },
      {
       "output_type": "stream",
       "stream": "stdout",
       "text": [
        " 10 x0:  [ 9.404  7.79 ] xt:  [9.4749924219522406, 8.0169073790978338]\n",
        "iteration:  1 x0:  [ 9.458  8.54 ] xt:  [9.4387639342185636, 8.4189083060709091]\n",
        "iteration: "
       ]
      },
      {
       "output_type": "stream",
       "stream": "stdout",
       "text": [
        " 11 x0:  [ 9.482  7.766] xt:  [9.4761494014521279, 8.0167660709853799]\n",
        "iteration: "
       ]
      },
      {
       "output_type": "stream",
       "stream": "stdout",
       "text": [
        " 19 x0:  [ 8.844  8.024] xt:  [9.4729050331088871, 8.0185536203254557]\n",
        "iteration:  1 x0:  [ 9.29   8.472] xt:  [9.288282538387902, 8.3662568381485247]\n",
        "iteration: "
       ]
      },
      {
       "output_type": "stream",
       "stream": "stdout",
       "text": [
        " 11 x0:  [ 9.274  7.566] xt:  [9.4744973554123693, 8.0170157711947105]\n",
        "iteration: "
       ]
      },
      {
       "output_type": "stream",
       "stream": "stdout",
       "text": [
        " 15 x0:  [ 9.11   8.014] xt:  [9.4724226223278638, 8.0187478142146045]\n",
        "iteration: "
       ]
      },
      {
       "output_type": "stream",
       "stream": "stdout",
       "text": [
        " 11 x0:  [ 9.542  7.688] xt:  [9.4773165261850458, 8.016228352955121]\n",
        "iteration: "
       ]
      },
      {
       "output_type": "stream",
       "stream": "stdout",
       "text": [
        " 11 x0:  [ 9.432  8.122] xt:  [9.4728565934433018, 8.018727162015681]\n",
        "iteration:  1 x0:  [ 9.786  8.066] xt:  [9.7107984870973567, 8.0500381695917493]\n",
        "iteration: "
       ]
      },
      {
       "output_type": "stream",
       "stream": "stdout",
       "text": [
        " 11 x0:  [ 9.382  7.664] xt:  [9.4753332734434714, 8.0168839749094509]\n",
        "iteration: "
       ]
      },
      {
       "output_type": "stream",
       "stream": "stdout",
       "text": [
        " 13 x0:  [ 9.404  8.228] xt:  [9.4727083615036758, 8.0187543930946905]\n",
        "iteration: "
       ]
      },
      {
       "output_type": "stream",
       "stream": "stdout",
       "text": [
        " 16 x0:  [ 9.146  8.158] xt:  [9.4726107734831331, 8.018688674985615]\n",
        "iteration: "
       ]
      },
      {
       "output_type": "stream",
       "stream": "stdout",
       "text": [
        " 9 x0:  [ 9.622  8.004] xt:  [9.4803758817095041, 8.0159456006985295]\n",
        "iteration: "
       ]
      },
      {
       "output_type": "stream",
       "stream": "stdout",
       "text": [
        " 5 x0:  [ 10.286   7.892] xt:  [9.9210631785998853, 8.0896712969422762]\n",
        "iteration: "
       ]
      },
      {
       "output_type": "stream",
       "stream": "stdout",
       "text": [
        " 11 x0:  [ 9.43   7.676] xt:  [9.475894502873869, 8.0166998876349069]\n",
        "iteration: "
       ]
      },
      {
       "output_type": "stream",
       "stream": "stdout",
       "text": [
        " 9 x0:  [ 9.44   8.058] xt:  [9.4726560931594896, 8.0187898432624056]\n",
        "iteration: "
       ]
      },
      {
       "output_type": "stream",
       "stream": "stdout",
       "text": [
        " 13 x0:  [ 9.788  7.684] xt:  [9.4779285950020853, 8.016444347148175]\n",
        "iteration: "
       ]
      },
      {
       "output_type": "stream",
       "stream": "stdout",
       "text": [
        " 10 x0:  [ 9.586  7.91 ] xt:  [9.4781630620690045, 8.0162218664600644]\n",
        "iteration: "
       ]
      },
      {
       "output_type": "stream",
       "stream": "stdout",
       "text": [
        " 13 x0:  [ 9.694  7.448] xt:  [9.4774748286538308, 8.0164236972147727]\n",
        "iteration: "
       ]
      },
      {
       "output_type": "stream",
       "stream": "stdout",
       "text": [
        " 11 x0:  [ 9.576  7.866] xt:  [9.477118595106635, 8.0166175046000276]\n",
        "iteration:  1 x0:  [ 11.442   8.688] xt:  [11.387814745203631, 8.6367975564762194]\n",
        "iteration:  1 x0:  [ 11.466   8.558]"
       ]
      },
      {
       "output_type": "stream",
       "stream": "stdout",
       "text": [
        " xt:  [11.38981717782551, 8.5354972002255067]\n",
        "iteration: "
       ]
      },
      {
       "output_type": "stream",
       "stream": "stdout",
       "text": [
        " 18 x0:  [ 10.674   8.936] xt:  [11.229899388820684, 8.4385019514418005]\n",
        "iteration: "
       ]
      },
      {
       "output_type": "stream",
       "stream": "stdout",
       "text": [
        " 12 x0:  [ 11.23    8.126] xt:  [11.230590397892026, 8.4367139829356557]\n",
        "iteration:  1 x0:  [ 11.614   8.588] xt:  [11.488779387253057, 8.5759739343146393]\n",
        "iteration: "
       ]
      },
      {
       "output_type": "stream",
       "stream": "stdout",
       "text": [
        " 2 x0:  [ 11.59    8.496] xt:  [11.382587926916212, 8.4936601228700397]\n",
        "iteration: "
       ]
      },
      {
       "output_type": "stream",
       "stream": "stdout",
       "text": [
        " 14 x0:  [ 11.536   7.586] xt:  [11.231477442199179, 8.4368314787784122]\n",
        "iteration: "
       ]
      },
      {
       "output_type": "stream",
       "stream": "stdout",
       "text": [
        " 9 x0:  [ 11.638   8.266] xt:  [11.239238524223932, 8.4387255654471822]\n",
        "iteration: "
       ]
      },
      {
       "output_type": "stream",
       "stream": "stdout",
       "text": [
        " 9 x0:  [ 11.16   8.43] xt:  [11.229324212776861, 8.4374205316696287]\n",
        "iteration: "
       ]
      },
      {
       "output_type": "stream",
       "stream": "stdout",
       "text": [
        " 14 x0:  [ 10.904   8.532] xt:  [11.229585237915316, 8.4377418936131292]\n",
        "iteration:  1 x0:  [ 11.284   8.742] xt:  [11.281759852764027, 8.6688543650335959]\n",
        "iteration: "
       ]
      },
      {
       "output_type": "stream",
       "stream": "stdout",
       "text": [
        " 12 x0:  [ 11.25    8.192] xt:  [11.230980255447447, 8.4371001542889648]\n",
        "iteration: "
       ]
      },
      {
       "output_type": "stream",
       "stream": "stdout",
       "text": [
        " 16 x0:  [ 10.84    8.218] xt:  [11.229933825701309, 8.4374244443393742]\n",
        "iteration:  2 x0:  [ 11.798   8.836] xt:  [11.567649092044704, 8.8161029054194131]\n",
        "iteration: "
       ]
      },
      {
       "output_type": "stream",
       "stream": "stdout",
       "text": [
        " 12 x0:  [ 11.51    8.094] xt:  [11.232575395241181, 8.4374303751228474]\n",
        "iteration: "
       ]
      },
      {
       "output_type": "stream",
       "stream": "stdout",
       "text": [
        " 16 x0:  [ 10.932   7.796] xt:  [11.22981937495755, 8.4371116872807193]\n",
        "iteration: "
       ]
      },
      {
       "output_type": "stream",
       "stream": "stdout",
       "text": [
        " 11 x0:  [ 11.404   8.206] xt:  [11.232527855352489, 8.4372680836875364]\n",
        "iteration: "
       ]
      },
      {
       "output_type": "stream",
       "stream": "stdout",
       "text": [
        " 12 x0:  [ 11.088   8.326] xt:  [11.229697690346596, 8.4370793500343897]\n",
        "iteration: "
       ]
      },
      {
       "output_type": "stream",
       "stream": "stdout",
       "text": [
        " 12 x0:  [ 11.334   8.17 ] xt:  [11.231598465201658, 8.4372860352579657]\n",
        "iteration: "
       ]
      },
      {
       "output_type": "stream",
       "stream": "stdout",
       "text": [
        " 8 x0:  [ 11.272   8.394] xt:  [11.232754444411492, 8.4375063222101296]\n",
        "iteration: "
       ]
      },
      {
       "output_type": "stream",
       "stream": "stdout",
       "text": [
        " 4 x0:  [ 11.59    8.408] xt:  [11.292109123678676, 8.4505595291331801]\n",
        "iteration: "
       ]
      },
      {
       "output_type": "stream",
       "stream": "stdout",
       "text": [
        " 5 x0:  [ 11.212   8.516] xt:  [11.231392829511202, 8.4477084692905713]\n",
        "iteration: "
       ]
      },
      {
       "output_type": "stream",
       "stream": "stdout",
       "text": [
        " 12 x0:  [ 11.566   8.024] xt:  [11.232730751263407, 8.4372202239568743]\n",
        "iteration:  1 x0:  [ 11.246   8.584] xt:  [11.246693688677441, 8.5397209496446198]\n",
        "iteration: "
       ]
      },
      {
       "output_type": "stream",
       "stream": "stdout",
       "text": [
        " 1 x0:  [ 11.252   8.566] xt:  [11.250108359810584, 8.5267376945064761]\n",
        "iteration: "
       ]
      },
      {
       "output_type": "stream",
       "stream": "stdout",
       "text": [
        " 16 x0:  [ 10.78    8.294] xt:  [11.229513023831034, 8.4373093241072343]\n",
        "iteration: "
       ]
      },
      {
       "output_type": "stream",
       "stream": "stdout",
       "text": [
        " 13 x0:  [ 11.04    8.322] xt:  [11.229841001865063, 8.4372745445118493]\n",
        "iteration: "
       ]
      },
      {
       "output_type": "stream",
       "stream": "stdout",
       "text": [
        " 14 x0:  [ 11.198   7.886] xt:  [11.230567216702724, 8.4370494339560373]\n",
        "iteration: "
       ]
      },
      {
       "output_type": "stream",
       "stream": "stdout",
       "text": [
        " 12 x0:  [ 11.168   8.262] xt:  [11.230417578252482, 8.4371165727448876]\n",
        "iteration: "
       ]
      },
      {
       "output_type": "stream",
       "stream": "stdout",
       "text": [
        " 11 x0:  [ 11.88   8.08] xt:  [11.236504203645785, 8.4380880387190729]\n",
        "iteration:  1 x0:  [ 11.356   8.586] xt:  [11.321078593384369, 8.54734186243914]\n",
        "iteration: "
       ]
      },
      {
       "output_type": "stream",
       "stream": "stdout",
       "text": [
        " 10 x0:  [ 11.182   8.342] xt:  [11.229954051063173, 8.4366885815332306]\n",
        "iteration: "
       ]
      },
      {
       "output_type": "stream",
       "stream": "stdout",
       "text": [
        " 15 x0:  [ 10.836   8.664] xt:  [11.229783362657994, 8.4380572501122337]\n",
        "iteration:  1 x0:  [ 11.696   8.906] xt:  [11.605418730700894, 8.8904878371176732]\n",
        "iteration: "
       ]
      },
      {
       "output_type": "stream",
       "stream": "stdout",
       "text": [
        " 11 x0:  [ 11.282   8.28 ] xt:  [11.231520530407312, 8.4372707945429326]\n",
        "iteration: "
       ]
      },
      {
       "output_type": "stream",
       "stream": "stdout",
       "text": [
        " 17 x0:  [ 10.718   8.534] xt:  [11.229960136802697, 8.4376941461965753]\n",
        "iteration: "
       ]
      },
      {
       "output_type": "stream",
       "stream": "stdout",
       "text": [
        " 21 x0:  [ 10.444   8.684] xt:  [11.22968075156302, 8.4375828290691324]\n",
        "iteration: "
       ]
      },
      {
       "output_type": "stream",
       "stream": "stdout",
       "text": [
        " 9 x0:  [ 11.124   8.618] xt:  [11.23007162093157, 8.4420951611243691]\n",
        "iteration:  1 x0:  [ 11.392   8.94 ] xt:  [11.382784772141914, 8.8688578351482956]\n",
        "iteration: "
       ]
      },
      {
       "output_type": "stream",
       "stream": "stdout",
       "text": [
        " 11 x0:  [ 11.212   8.308] xt:  [11.230742425518105, 8.4371228844208854]\n",
        "iteration: "
       ]
      },
      {
       "output_type": "stream",
       "stream": "stdout",
       "text": [
        " 9 x0:  [ 16.674   9.638] xt:  [16.38304914899205, 9.9112474376954651]\n",
        "iteration: "
       ]
      },
      {
       "output_type": "stream",
       "stream": "stdout",
       "text": [
        " 6 x0:  [ 16.162  10.302] xt:  [16.382848878412283, 9.9225478895251751]\n",
        "iteration:  1 x0:  [ 16.612  10.218] xt:  [16.500370679230194, 10.097469410347076]\n",
        "iteration: "
       ]
      },
      {
       "output_type": "stream",
       "stream": "stdout",
       "text": [
        " 9 x0:  [ 16.1     9.702] xt:  [16.382768161114065, 9.9112274959147424]\n",
        "iteration:  1 x0:  [ 16.404  10.072] xt:  [16.395724389289793, 10.000419479785073]\n",
        "iteration: "
       ]
      },
      {
       "output_type": "stream",
       "stream": "stdout",
       "text": [
        " 8 x0:  [ 15.93   10.106] xt:  [16.3826030694091, 9.9132812886364512]\n",
        "iteration: "
       ]
      },
      {
       "output_type": "stream",
       "stream": "stdout",
       "text": [
        " 7 x0:  [ 16.128   9.888] xt:  [16.382293948297821, 9.9114288812712363]\n",
        "iteration:  1 x0:  [ 16.41   10.188] xt:  [16.401788443820152, 10.068717687287824]\n",
        "iteration: "
       ]
      },
      {
       "output_type": "stream",
       "stream": "stdout",
       "text": [
        " 7 x0:  [ 15.982   9.92 ] xt:  [16.381837619372842, 9.9115993055817473]\n",
        "iteration: "
       ]
      },
      {
       "output_type": "stream",
       "stream": "stdout",
       "text": [
        " 6 x0:  [ 16.224  10.02 ] xt:  [16.382385339103987, 9.9143499145137994]\n",
        "iteration: "
       ]
      },
      {
       "output_type": "stream",
       "stream": "stdout",
       "text": [
        " 10 x0:  [ 16.296   9.458] xt:  [16.382874022488004, 9.9111955878950262]\n",
        "iteration:  1 x0:  [ 16.586  10.174] xt:  [16.484307142956975, 10.068292874709421]\n",
        "iteration: "
       ]
      },
      {
       "output_type": "stream",
       "stream": "stdout",
       "text": [
        " 4 x0:  [ 16.314  10.716] xt:  [16.391188659342269, 10.021309083242864]\n",
        "iteration: "
       ]
      },
      {
       "output_type": "stream",
       "stream": "stdout",
       "text": [
        " 10 x0:  [ 16.278   9.452] xt:  [16.382866972725594, 9.9111740208475716]\n",
        "iteration: "
       ]
      },
      {
       "output_type": "stream",
       "stream": "stdout",
       "text": [
        " 9 x0:  [ 16.622   9.652] xt:  [16.383024372764979, 9.911294236240737]\n",
        "iteration: "
       ]
      },
      {
       "output_type": "stream",
       "stream": "stdout",
       "text": [
        " 10 x0:  [ 16.22    9.494] xt:  [16.382867033407809, 9.9112546001613833]\n",
        "iteration:  1 x0:  [ 16.626  10.162] xt:  [16.503956432952396, 10.063350993694433]\n",
        "iteration: "
       ]
      },
      {
       "output_type": "stream",
       "stream": "stdout",
       "text": [
        " 1 x0:  [ 16.982  10.596] xt:  [16.790913252353821, 10.421691563633969]\n",
        "iteration: "
       ]
      },
      {
       "output_type": "stream",
       "stream": "stdout",
       "text": [
        " 5 x0:  [ 16.27   10.128] xt:  [16.382590764398351, 9.9218266164077118]\n",
        "iteration: "
       ]
      },
      {
       "output_type": "stream",
       "stream": "stdout",
       "text": [
        " 9 x0:  [ 16.202   9.7  ] xt:  [16.382828590041413, 9.9112934316940091]\n",
        "iteration: "
       ]
      },
      {
       "output_type": "stream",
       "stream": "stdout",
       "text": [
        " 8 x0:  [ 16.532   9.776] xt:  [16.383079632662906, 9.9113723693734688]\n",
        "iteration: "
       ]
      },
      {
       "output_type": "stream",
       "stream": "stdout",
       "text": [
        " 8 x0:  [ 17.124   9.726] xt:  [16.384428764797082, 9.9114169309438438]\n",
        "iteration: "
       ]
      },
      {
       "output_type": "stream",
       "stream": "stdout",
       "text": [
        " 9 x0:  [ 16.47    9.698] xt:  [16.382965859369968, 9.9114246587259753]\n",
        "iteration: "
       ]
      },
      {
       "output_type": "stream",
       "stream": "stdout",
       "text": [
        " 7 x0:  [ 16.004  10.28 ] xt:  [16.382512101175138, 9.9173002439482421]\n",
        "iteration: "
       ]
      },
      {
       "output_type": "stream",
       "stream": "stdout",
       "text": [
        " 8 x0:  [ 16.366   9.796] xt:  [16.382905344888581, 9.9113660911114732]\n",
        "iteration: "
       ]
      },
      {
       "output_type": "stream",
       "stream": "stdout",
       "text": [
        " 10 x0:  [ 16.268   9.522] xt:  [16.382890108581119, 9.9113400913570509]\n",
        "iteration: "
       ]
      },
      {
       "output_type": "stream",
       "stream": "stdout",
       "text": [
        " 9 x0:  [ 16.13    9.748] xt:  [16.382813918374158, 9.9114256587173912]\n",
        "iteration:  1 x0:  [ 16.67   10.498] xt:  [16.557249510348033, 10.299051989828348]\n",
        "iteration:  1 x0:  [ 16.488  10.542] xt:  [16.456206684893964, 10.318871259845743]\n",
        "iteration: "
       ]
      },
      {
       "output_type": "stream",
       "stream": "stdout",
       "text": [
        " 1 x0:  [ 16.57  10.21] xt:  [16.478477843997325, 10.089706685388144]\n",
        "iteration:  1 x0:  [ 16.456  10.112] xt:  [16.420001618246111, 10.025044279692688]\n",
        "iteration: "
       ]
      },
      {
       "output_type": "stream",
       "stream": "stdout",
       "text": [
        " 1 x0:  [ 16.482   9.986] xt:  [16.427447804981536, 9.954590149409114]\n",
        "iteration: "
       ]
      },
      {
       "output_type": "stream",
       "stream": "stdout",
       "text": [
        " 8 x0:  [ 16.584   9.754] xt:  [16.383124698862634, 9.9112568699222781]\n",
        "iteration: "
       ]
      },
      {
       "output_type": "stream",
       "stream": "stdout",
       "text": [
        " 7 x0:  [ 16.1    9.93] xt:  [16.382276946949805, 9.9119321641328497]\n",
        "iteration: "
       ]
      },
      {
       "output_type": "stream",
       "stream": "stdout",
       "text": [
        " 9 x0:  [ 16.226   9.67 ] xt:  [16.382824811942399, 9.9111949532632284]\n",
        "iteration: "
       ]
      },
      {
       "output_type": "stream",
       "stream": "stdout",
       "text": [
        " 10 x0:  [ 16.448   9.566] xt:  [16.382947604018536, 9.911487843689784]\n",
        "iteration: "
       ]
      },
      {
       "output_type": "stream",
       "stream": "stdout",
       "text": [
        " 9 x0:  [ 16.572   9.624] xt:  [16.382980526056446, 9.9111677606176105]\n",
        "iteration: "
       ]
      },
      {
       "output_type": "stream",
       "stream": "stdout",
       "text": [
        " 10 x0:  [ 16.436   9.41 ] xt:  [16.382891402170493, 9.9111067823720536]\n",
        "iteration:  1 x0:  [ 16.502   9.98 ] xt:  [16.436185025166434, 9.9518546719984862]\n",
        "iteration: "
       ]
      },
      {
       "output_type": "stream",
       "stream": "stdout",
       "text": [
        " 1 x0:  [ 16.418   9.966] xt:  [16.399080976583292, 9.9419630069217959]\n",
        "iteration: "
       ]
      },
      {
       "output_type": "stream",
       "stream": "stdout",
       "text": [
        " 8 x0:  [ 14.362  14.644] xt:  [13.959307402299549, 14.948385239160121]\n",
        "iteration: "
       ]
      },
      {
       "output_type": "stream",
       "stream": "stdout",
       "text": [
        " 8 x0:  [ 14.138  14.63 ] xt:  [13.958710373880878, 14.948541017833813]\n",
        "iteration:  1 x0:  [ 14.064  15.072] xt:  [14.006435666570511, 15.006787074381585]\n",
        "iteration: "
       ]
      },
      {
       "output_type": "stream",
       "stream": "stdout",
       "text": [
        " 8 x0:  [ 13.692  14.958] xt:  [13.957535357196205, 14.9497045138015]\n",
        "iteration:  1 x0:  [ 14.238  15.296] xt:  [14.10193072750177, 15.130198206332146]\n",
        "iteration: "
       ]
      },
      {
       "output_type": "stream",
       "stream": "stdout",
       "text": [
        " 8 x0:  [ 13.73   15.128] xt:  [13.957521814607517, 14.95013908947235]\n",
        "iteration: "
       ]
      },
      {
       "output_type": "stream",
       "stream": "stdout",
       "text": [
        " 6 x0:  [ 13.952  14.868] xt:  [13.958219684618795, 14.948630017362513]\n",
        "iteration: "
       ]
      },
      {
       "output_type": "stream",
       "stream": "stdout",
       "text": [
        " 7 x0:  [ 13.986  14.77 ] xt:  [13.958432833745116, 14.948527619109983]\n",
        "iteration: "
       ]
      },
      {
       "output_type": "stream",
       "stream": "stdout",
       "text": [
        " 5 x0:  [ 13.916  14.996] xt:  [13.957118388697005, 14.95075449063075]\n",
        "iteration: "
       ]
      },
      {
       "output_type": "stream",
       "stream": "stdout",
       "text": [
        " 6 x0:  [ 13.874  14.954] xt:  [13.957312180522171, 14.949729016545692]\n",
        "iteration:  1 x0:  [ 14.168  15.276] xt:  [14.062064014801557, 15.115242337309185]\n",
        "iteration: "
       ]
      },
      {
       "output_type": "stream",
       "stream": "stdout",
       "text": [
        " 1 x0:  [ 14.278  15.152] xt:  [14.117990592120265, 15.050833026974523]\n",
        "iteration: "
       ]
      },
      {
       "output_type": "stream",
       "stream": "stdout",
       "text": [
        " 6 x0:  [ 14.098  14.9  ] xt:  [13.959586059829618, 14.948764032394518]\n",
        "iteration: "
       ]
      },
      {
       "output_type": "stream",
       "stream": "stdout",
       "text": [
        " 7 x0:  [ 13.764  15.212] xt:  [13.956883288171591, 14.951236329998682]\n",
        "iteration: "
       ]
      },
      {
       "output_type": "stream",
       "stream": "stdout",
       "text": [
        " 10 x0:  [ 13.948  14.218] xt:  [13.958276529767161, 14.948851275369297]\n",
        "iteration: "
       ]
      },
      {
       "output_type": "stream",
       "stream": "stdout",
       "text": [
        " 7 x0:  [ 14.13   14.838] xt:  [13.959026396393725, 14.9487844733648]\n",
        "iteration: "
       ]
      },
      {
       "output_type": "stream",
       "stream": "stdout",
       "text": [
        " 9 x0:  [ 13.362  14.932] xt:  [13.957313610557273, 14.949735867932359]\n",
        "iteration: "
       ]
      },
      {
       "output_type": "stream",
       "stream": "stdout",
       "text": [
        " 8 x0:  [ 13.546  14.844] xt:  [13.95716162641212, 14.949470817616813]\n",
        "iteration:  1 x0:  [ 14.13  15.11] xt:  [14.038651219333893, 15.025725840199733]\n",
        "iteration: "
       ]
      },
      {
       "output_type": "stream",
       "stream": "stdout",
       "text": [
        " 8 x0:  [ 13.816  14.602] xt:  [13.957996731954506, 14.948596663788543]\n",
        "iteration: "
       ]
      },
      {
       "output_type": "stream",
       "stream": "stdout",
       "text": [
        " 8 x0:  [ 14.386  14.686] xt:  [13.959342313877004, 14.948513128556053]\n",
        "iteration: "
       ]
      },
      {
       "output_type": "stream",
       "stream": "stdout",
       "text": [
        " 7 x0:  [ 13.786  14.726] xt:  [13.957527289768949, 14.948407901304485]\n",
        "iteration: "
       ]
      },
      {
       "output_type": "stream",
       "stream": "stdout",
       "text": [
        " 7 x0:  [ 14.204  14.822] xt:  [13.95940532865322, 14.948615645374487]\n",
        "iteration: "
       ]
      },
      {
       "output_type": "stream",
       "stream": "stdout",
       "text": [
        " 7 x0:  [ 13.856  15.206] xt:  [13.957393981382827, 14.951057309370162]\n",
        "iteration: "
       ]
      },
      {
       "output_type": "stream",
       "stream": "stdout",
       "text": [
        " 9 x0:  [ 14.074  14.384] xt:  [13.958460689415244, 14.948577168045182]\n",
        "iteration: "
       ]
      },
      {
       "output_type": "stream",
       "stream": "stdout",
       "text": [
        " 8 x0:  [ 13.68   14.988] xt:  [13.957485156025694, 14.949793882018763]\n",
        "iteration:  1 x0:  [ 14.204  14.976] xt:  [14.075155457208414, 14.96034883555822]\n",
        "iteration: "
       ]
      },
      {
       "output_type": "stream",
       "stream": "stdout",
       "text": [
        " 9 x0:  [ 13.388  15.39 ] xt:  [13.957014357995298, 14.95059639926194]\n",
        "iteration: "
       ]
      },
      {
       "output_type": "stream",
       "stream": "stdout",
       "text": [
        " 8 x0:  [ 13.708  15.048] xt:  [13.95752121841579, 14.949935879151923]\n",
        "iteration:  1 x0:  [ 14.114  15.366] xt:  [14.035918886836638, 15.167578883931858]\n",
        "iteration: "
       ]
      },
      {
       "output_type": "stream",
       "stream": "stdout",
       "text": [
        " 1 x0:  [ 14.4   15.04] xt:  [14.18785197382816, 14.994991795144593]\n",
        "iteration:  1 x0:  [ 14.194  15.04 ] xt:  [14.070246347736173, 14.991679680022957]\n",
        "iteration: "
       ]
      },
      {
       "output_type": "stream",
       "stream": "stdout",
       "text": [
        " 7 x0:  [ 13.888  15.436] xt:  [13.95721082581476, 14.952673094214706]\n",
        "iteration:  1 x0:  [ 13.958  15.322] xt:  [13.953204281030198, 15.139291945398904]\n",
        "iteration: "
       ]
      },
      {
       "output_type": "stream",
       "stream": "stdout",
       "text": [
        " 7 x0:  [ 13.922  14.802] xt:  [13.958114872131329, 14.948766667900417]\n",
        "iteration: "
       ]
      },
      {
       "output_type": "stream",
       "stream": "stdout",
       "text": [
        " 8 x0:  [ 13.652  14.602] xt:  [13.957566926833673, 14.948626074673502]\n",
        "iteration:  1 x0:  [ 14.294  14.996] xt:  [14.123556485859405, 14.970528023025871]\n",
        "iteration: "
       ]
      },
      {
       "output_type": "stream",
       "stream": "stdout",
       "text": [
        " 8 x0:  [ 13.81   14.526] xt:  [13.958012989597465, 14.948306222838081]\n",
        "iteration: "
       ]
      },
      {
       "output_type": "stream",
       "stream": "stdout",
       "text": [
        " 9 x0:  [ 13.408  15.34 ] xt:  [13.95713123691052, 14.95044623002355]\n",
        "iteration: "
       ]
      },
      {
       "output_type": "stream",
       "stream": "stdout",
       "text": [
        " 7 x0:  [ 13.834  14.778] xt:  [13.957724960116124, 14.948695277115222]\n",
        "iteration:  1 x0:  [  8.826  16.474] xt:  [8.722858237181546, 16.374691650934061]\n",
        "iteration: "
       ]
      },
      {
       "output_type": "stream",
       "stream": "stdout",
       "text": [
        " 8 x0:  [  8.33   16.488] xt:  [8.6298978139849929, 16.267351877477253]\n",
        "iteration: "
       ]
      },
      {
       "output_type": "stream",
       "stream": "stdout",
       "text": [
        " 7 x0:  [  8.468  16.378] xt:  [8.6298292960254415, 16.267324617075609]\n",
        "iteration: "
       ]
      },
      {
       "output_type": "stream",
       "stream": "stdout",
       "text": [
        " 8 x0:  [  8.904  15.846] xt:  [8.6305175698437235, 16.265348723527996]\n",
        "iteration:  1 x0:  [  8.662  16.354] xt:  [8.6453556561629519, 16.309678600345464]\n",
        "iteration:  1 x0:  [  8.684  16.776] xt:  [8.6630705972684279, 16.554975412816379]\n",
        "iteration: "
       ]
      },
      {
       "output_type": "stream",
       "stream": "stdout",
       "text": [
        " 8 x0:  [  8.33   16.066] xt:  [8.6296505481598871, 16.265918334159128]\n",
        "iteration:  1 x0:  [  8.904  16.402] xt:  [8.7597402922417977, 16.338941453108998]\n",
        "iteration: "
       ]
      },
      {
       "output_type": "stream",
       "stream": "stdout",
       "text": [
        " 1 x0:  [  8.778  16.486] xt:  [8.7003195324104912, 16.379641098509044]\n",
        "iteration:  1 x0:  [  8.81   16.458] xt:  [8.7146444849916751, 16.365655058982686]\n",
        "iteration: "
       ]
      },
      {
       "output_type": "stream",
       "stream": "stdout",
       "text": [
        " 7 x0:  [  8.398  16.576] xt:  [8.6297480494703063, 16.268738477740083]\n",
        "iteration: "
       ]
      },
      {
       "output_type": "stream",
       "stream": "stdout",
       "text": [
        " 8 x0:  [  8.542  15.918] xt:  [8.6299217820021568, 16.265557745462075]\n",
        "iteration:  1 x0:  [  9.064  16.456] xt:  [8.8538696145669604, 16.374689274707396]\n",
        "iteration: "
       ]
      },
      {
       "output_type": "stream",
       "stream": "stdout",
       "text": [
        " 7 x0:  [  9.152  16.094] xt:  [8.632304184568067, 16.265867219749154]\n",
        "iteration: "
       ]
      },
      {
       "output_type": "stream",
       "stream": "stdout",
       "text": [
        " 8 x0:  [  8.614  15.908] xt:  [8.6300352344385178, 16.265562591830431]\n",
        "iteration: "
       ]
      },
      {
       "output_type": "stream",
       "stream": "stdout",
       "text": [
        " 5 x0:  [  8.566  17.012] xt:  [8.6317312052967097, 16.298922362180562]\n",
        "iteration: "
       ]
      },
      {
       "output_type": "stream",
       "stream": "stdout",
       "text": [
        " 9 x0:  [  8.12  16.11] xt:  [8.6297679050115264, 16.266291931898081]\n",
        "iteration: "
       ]
      },
      {
       "output_type": "stream",
       "stream": "stdout",
       "text": [
        " 7 x0:  [  8.844  16.026] xt:  [8.6307788083211197, 16.265327509771446]\n",
        "iteration: "
       ]
      },
      {
       "output_type": "stream",
       "stream": "stdout",
       "text": [
        " 8 x0:  [  8.398  16.282] xt:  [8.6299132412179684, 16.266686196078975]\n",
        "iteration: "
       ]
      },
      {
       "output_type": "stream",
       "stream": "stdout",
       "text": [
        " 9 x0:  [  8.808  15.59 ] xt:  [8.6302018844674624, 16.265355875749883]\n",
        "iteration: "
       ]
      },
      {
       "output_type": "stream",
       "stream": "stdout",
       "text": [
        " 7 x0:  [  8.502  16.166] xt:  [8.629732830120675, 16.265998439399567]\n",
        "iteration: "
       ]
      },
      {
       "output_type": "stream",
       "stream": "stdout",
       "text": [
        " 6 x0:  [  8.942  16.19 ] xt:  [8.6325936343697176, 16.266191107998278]\n",
        "iteration: "
       ]
      },
      {
       "output_type": "stream",
       "stream": "stdout",
       "text": [
        " 8 x0:  [  8.376  16.112] xt:  [8.6297717871766686, 16.266120999219762]\n",
        "iteration: "
       ]
      },
      {
       "output_type": "stream",
       "stream": "stdout",
       "text": [
        " 9 x0:  [  8.518  15.84 ] xt:  [8.6300401227381887, 16.266007763226]\n",
        "iteration: "
       ]
      },
      {
       "output_type": "stream",
       "stream": "stdout",
       "text": [
        " 8 x0:  [  8.878  16.004] xt:  [8.6305124685981625, 16.266003397619283]\n",
        "iteration: "
       ]
      },
      {
       "output_type": "stream",
       "stream": "stdout",
       "text": [
        " 5 x0:  [  8.582  16.774] xt:  [8.6311370772497327, 16.283680979647894]\n",
        "iteration: "
       ]
      },
      {
       "output_type": "stream",
       "stream": "stdout",
       "text": [
        " 9 x0:  [  8.248  16.154] xt:  [8.6299332403541289, 16.266454842781357]\n",
        "iteration: "
       ]
      },
      {
       "output_type": "stream",
       "stream": "stdout",
       "text": [
        " 6 x0:  [  8.588  16.24 ] xt:  [8.6298995224945667, 16.266346659025785]\n",
        "iteration:  1 x0:  [  8.706  16.374] xt:  [8.6650596807918099, 16.320273490954634]\n",
        "iteration: "
       ]
      },
      {
       "output_type": "stream",
       "stream": "stdout",
       "text": [
        " 6 x0:  [  8.524  16.392] xt:  [8.6297006893057837, 16.268232955103947]\n",
        "iteration: "
       ]
      },
      {
       "output_type": "stream",
       "stream": "stdout",
       "text": [
        " 7 x0:  [  8.458  16.452] xt:  [8.6298625636136137, 16.267823023017527]\n",
        "iteration:  1 x0:  [  8.83  16.36] xt:  [8.7217805044662118, 16.31553308272872]\n",
        "iteration: "
       ]
      },
      {
       "output_type": "stream",
       "stream": "stdout",
       "text": [
        " 7 x0:  [  8.616  16.112] xt:  [8.6300580949745989, 16.265771500763599]\n",
        "iteration:  1 x0:  [  8.844  16.362] xt:  [8.7285962671343889, 16.31682408711465]\n",
        "iteration: "
       ]
      },
      {
       "output_type": "stream",
       "stream": "stdout",
       "text": [
        " 8 x0:  [  8.468  15.928] xt:  [8.6298001992021067, 16.265538385279122]\n",
        "iteration: "
       ]
      },
      {
       "output_type": "stream",
       "stream": "stdout",
       "text": [
        " 3 x0:  [  8.62   16.674] xt:  [8.633057411982076, 16.320325825489046]\n",
        "iteration:  1 x0:  [  8.974  16.53 ] xt:  [8.8033993178793057, 16.412566266902974]\n",
        "iteration: "
       ]
      },
      {
       "output_type": "stream",
       "stream": "stdout",
       "text": [
        " 7 x0:  [  8.826  16.084] xt:  [8.6307481144667815, 16.265733765929632]\n",
        "iteration: "
       ]
      },
      {
       "output_type": "stream",
       "stream": "stdout",
       "text": [
        " 9 x0:  [  8.104  15.962] xt:  [8.629660144805186, 16.265967836603785]\n",
        "iteration: "
       ]
      },
      {
       "output_type": "stream",
       "stream": "stdout",
       "text": [
        " 8 x0:  [  8.386  16.24 ] xt:  [8.6298696262899188, 16.266544848241203]\n",
        "iteration:  1 x0:  [  4.576  12.878] xt:  [4.4092296540996339, 12.851777811841703]\n",
        "iteration: "
       ]
      },
      {
       "output_type": "stream",
       "stream": "stdout",
       "text": [
        " 1 x0:  [  4.46  13.16] xt:  [4.3560730710493436, 13.01778950283297]\n",
        "iteration: "
       ]
      },
      {
       "output_type": "stream",
       "stream": "stdout",
       "text": [
        " 10 x0:  [  3.632  12.862] xt:  [4.2381263635208128, 12.803584551010784]\n",
        "iteration: "
       ]
      },
      {
       "output_type": "stream",
       "stream": "stdout",
       "text": [
        " 9 x0:  [  4.238  12.506] xt:  [4.238276837115496, 12.802226612972822]\n",
        "iteration:  1 x0:  [  4.348  13.268] xt:  [4.300700146376033, 13.085189612311591]\n",
        "iteration: "
       ]
      },
      {
       "output_type": "stream",
       "stream": "stdout",
       "text": [
        " 11 x0:  [  3.788  12.372] xt:  [4.2382258739779433, 12.802782191515631]\n",
        "iteration: "
       ]
      },
      {
       "output_type": "stream",
       "stream": "stdout",
       "text": [
        " 7 x0:  [  4.19   12.772] xt:  [4.2382096326343941, 12.803123810813407]\n",
        "iteration: "
       ]
      },
      {
       "output_type": "stream",
       "stream": "stdout",
       "text": [
        " 10 x0:  [  3.86   12.706] xt:  [4.2382452326321793, 12.803254916060538]\n",
        "iteration: "
       ]
      },
      {
       "output_type": "stream",
       "stream": "stdout",
       "text": [
        " 8 x0:  [  3.978  13.308] xt:  [4.2385095671288724, 12.808874823339755]\n",
        "iteration:  1 x0:  [  4.336  12.854] xt:  [4.2844672326154019, 12.833160504374764]\n",
        "iteration: "
       ]
      },
      {
       "output_type": "stream",
       "stream": "stdout",
       "text": [
        " 4 x0:  [  4.218  13.03 ] xt:  [4.2395000510743026, 12.825449758673267]\n",
        "iteration:  1 x0:  [  4.25   13.002] xt:  [4.2469218367190038, 12.915418916886354]\n",
        "iteration:  1 x0:  [  4.334  13.06 ] xt:  [4.2879253312477443, 12.951225359192053]\n",
        "iteration: "
       ]
      },
      {
       "output_type": "stream",
       "stream": "stdout",
       "text": [
        " 9 x0:  [  4.654  12.566] xt:  [4.2388156866991586, 12.802718572127798]\n",
        "iteration: "
       ]
      },
      {
       "output_type": "stream",
       "stream": "stdout",
       "text": [
        " 3 x0:  [  4.38   12.792] xt:  [4.2524202884119635, 12.803475314518497]\n",
        "iteration: "
       ]
      },
      {
       "output_type": "stream",
       "stream": "stdout",
       "text": [
        " 9 x0:  [  3.968  13.016] xt:  [4.2383616945723546, 12.804643754013711]\n",
        "iteration: "
       ]
      },
      {
       "output_type": "stream",
       "stream": "stdout",
       "text": [
        " 9 x0:  [  4.614  12.526] xt:  [4.2387323974884303, 12.802478947436718]\n",
        "iteration: "
       ]
      },
      {
       "output_type": "stream",
       "stream": "stdout",
       "text": [
        " 10 x0:  [  3.95  12.67] xt:  [4.2382871449746533, 12.8032126321186]\n",
        "iteration: "
       ]
      },
      {
       "output_type": "stream",
       "stream": "stdout",
       "text": [
        " 9 x0:  [  4.038  12.67 ] xt:  [4.2381863864865608, 12.802904842718966]\n",
        "iteration: "
       ]
      },
      {
       "output_type": "stream",
       "stream": "stdout",
       "text": [
        " 11 x0:  [  4.426  12.238] xt:  [4.2383955996578857, 12.802759555180081]\n",
        "iteration: "
       ]
      },
      {
       "output_type": "stream",
       "stream": "stdout",
       "text": [
        " 10 x0:  [  4.066  12.514] xt:  [4.2382797539961947, 12.802827017211614]\n",
        "iteration: "
       ]
      },
      {
       "output_type": "stream",
       "stream": "stdout",
       "text": [
        " 10 x0:  [  4.248  12.392] xt:  [4.238319915280802, 12.80253209779845]\n",
        "iteration:  1 x0:  [  4.61  12.95] xt:  [4.4318381505272892, 12.895571854996691]\n",
        "iteration:  1 x0:  [  4.328  12.99 ]"
       ]
      },
      {
       "output_type": "stream",
       "stream": "stdout",
       "text": [
        " xt:  [4.2834137501520857, 12.909898032513977]\n",
        "iteration: "
       ]
      },
      {
       "output_type": "stream",
       "stream": "stdout",
       "text": [
        " 9 x0:  [  4.5    12.522] xt:  [4.23857959007562, 12.802436930289323]\n",
        "iteration: "
       ]
      },
      {
       "output_type": "stream",
       "stream": "stdout",
       "text": [
        " 8 x0:  [  4.176  12.71 ] xt:  [4.2382464405191289, 12.802825784020861]\n",
        "iteration: "
       ]
      },
      {
       "output_type": "stream",
       "stream": "stdout",
       "text": [
        " 10 x0:  [  4.492  12.464] xt:  [4.2384836525379246, 12.802829399749934]\n",
        "iteration: "
       ]
      },
      {
       "output_type": "stream",
       "stream": "stdout",
       "text": [
        " 8 x0:  [  4.134  12.834] xt:  [4.2383090505655181, 12.803864788210022]\n",
        "iteration: "
       ]
      },
      {
       "output_type": "stream",
       "stream": "stdout",
       "text": [
        " 6 x0:  [  4.316  12.764] xt:  [4.2391104806615543, 12.802850655364921]\n",
        "iteration: "
       ]
      },
      {
       "output_type": "stream",
       "stream": "stdout",
       "text": [
        " 11 x0:  [  4.454  12.084] xt:  [4.2383522501490773, 12.802328225964667]\n",
        "iteration: "
       ]
      },
      {
       "output_type": "stream",
       "stream": "stdout",
       "text": [
        " 8 x0:  [  4.052  12.934] xt:  [4.2382497934834458, 12.804678376477037]\n",
        "iteration:  1 x0:  [  4.26   13.118] xt:  [4.2532790105150804, 12.985149832839259]\n",
        "iteration: "
       ]
      },
      {
       "output_type": "stream",
       "stream": "stdout",
       "text": [
        " 7 x0:  [  4.058  13.718] xt:  [4.2395149806431505, 12.828735662316975]\n",
        "iteration: "
       ]
      },
      {
       "output_type": "stream",
       "stream": "stdout",
       "text": [
        " 8 x0:  [  4.24   12.626] xt:  [4.2382800891927594, 12.802156642425865]\n",
        "iteration: "
       ]
      },
      {
       "output_type": "stream",
       "stream": "stdout",
       "text": [
        " 11 x0:  [  3.838  12.232] xt:  [4.2381837627315653, 12.802482515021799]\n",
        "iteration: "
       ]
      },
      {
       "output_type": "stream",
       "stream": "stdout",
       "text": [
        " 6 x0:  [  4.128  13.4  ] xt:  [4.2393677901095996, 12.824972310000373]\n",
        "iteration: "
       ]
      },
      {
       "output_type": "stream",
       "stream": "stdout",
       "text": [
        " 11 x0:  [  3.764  12.38 ] xt:  [4.2382169299230359, 12.802778276442252]\n",
        "iteration:  1 x0:  [  4.424  13.186] xt:  [4.3378693582027781, 13.032960446947435]\n",
        "iteration: "
       ]
      },
      {
       "output_type": "stream",
       "stream": "stdout",
       "text": [
        " 3 x0:  [  4.234  12.994] xt:  [4.2404391352459818, 12.836589432654961]\n",
        "iteration:  1 x0:  [  5.13   13.296] xt:  [4.8966757171999369, 13.187868684405958]\n",
        "iteration: "
       ]
      },
      {
       "output_type": "stream",
       "stream": "stdout",
       "text": [
        " 11 x0:  [ 3.9    6.742] xt:  [4.2141265657347207, 7.1140200154754645]\n",
        "iteration: "
       ]
      },
      {
       "output_type": "stream",
       "stream": "stdout",
       "text": [
        " 10 x0:  [ 3.994  7.206] xt:  [4.21403610309416, 7.1140550780262046]\n",
        "iteration:  1 x0:  [ 4.278  7.222] xt:  [4.2473995051664346, 7.15758032780868]\n",
        "iteration: "
       ]
      },
      {
       "output_type": "stream",
       "stream": "stdout",
       "text": [
        " 7 x0:  [ 4.172  6.848] xt:  [4.2140802066174388, 7.1135735137923302]\n",
        "iteration: "
       ]
      },
      {
       "output_type": "stream",
       "stream": "stdout",
       "text": [
        " 11 x0:  [ 3.882  6.894] xt:  [4.2141167079925372, 7.1140299072104538]\n",
        "iteration: "
       ]
      },
      {
       "output_type": "stream",
       "stream": "stdout",
       "text": [
        " 10 x0:  [ 3.936  6.994] xt:  [4.2139630304629625, 7.1140359229051455]\n",
        "iteration: "
       ]
      },
      {
       "output_type": "stream",
       "stream": "stdout",
       "text": [
        " 7 x0:  [ 4.162  6.87 ] xt:  [4.2139599468534064, 7.1136241054495528]\n",
        "iteration: "
       ]
      },
      {
       "output_type": "stream",
       "stream": "stdout",
       "text": [
        " 11 x0:  [ 3.762  7.1  ] xt:  [4.2139902342180413, 7.114047724142206]\n",
        "iteration:  1 x0:  [ 4.256  7.612] xt:  [4.2376499000076233, 7.3664255854802096]\n",
        "iteration: "
       ]
      },
      {
       "output_type": "stream",
       "stream": "stdout",
       "text": [
        " 8 x0:  [ 4.55   6.822] xt:  [4.2166938379367762, 7.1136681466341125]\n",
        "iteration: "
       ]
      },
      {
       "output_type": "stream",
       "stream": "stdout",
       "text": [
        " 9 x0:  [ 4.062  6.984] xt:  [4.2139647044440736, 7.1140138956670658]\n",
        "iteration: "
       ]
      },
      {
       "output_type": "stream",
       "stream": "stdout",
       "text": [
        " 10 x0:  [ 4.026  7.23 ] xt:  [4.2140842103323646, 7.1140547217985777]\n",
        "iteration:  1 x0:  [ 4.364  7.184] xt:  [4.2939087276301695, 7.1418571638071668]\n",
        "iteration: "
       ]
      },
      {
       "output_type": "stream",
       "stream": "stdout",
       "text": [
        " 1 x0:  [ 4.292  7.208] xt:  [4.2548986533357382, 7.1517298992539153]\n",
        "iteration: "
       ]
      },
      {
       "output_type": "stream",
       "stream": "stdout",
       "text": [
        " 7 x0:  [ 4.288  6.91 ] xt:  [4.2153167136858016, 7.1136289597329849]\n",
        "iteration: "
       ]
      },
      {
       "output_type": "stream",
       "stream": "stdout",
       "text": [
        " 10 x0:  [ 4.018  7.062] xt:  [4.2140925005951946, 7.1140361636621634]\n",
        "iteration: "
       ]
      },
      {
       "output_type": "stream",
       "stream": "stdout",
       "text": [
        " 9 x0:  [ 4.07   7.104] xt:  [4.2139702910777839, 7.1140456845792519]\n",
        "iteration:  1 x0:  [ 4.548  7.654] xt:  [4.4288142559441113, 7.413141950037172]\n",
        "iteration: "
       ]
      },
      {
       "output_type": "stream",
       "stream": "stdout",
       "text": [
        " 6 x0:  [ 4.402  7.082] xt:  [4.2184033926301874, 7.1137015572656077]\n",
        "iteration: "
       ]
      },
      {
       "output_type": "stream",
       "stream": "stdout",
       "text": [
        " 12 x0:  [ 3.692  7.49 ] xt:  [4.2140867894137388, 7.1140526281799712]\n",
        "iteration:  1 x0:  [ 4.888  7.194] xt:  [4.6477458284048199, 7.1549775599883434]\n",
        "iteration: "
       ]
      },
      {
       "output_type": "stream",
       "stream": "stdout",
       "text": [
        " 1 x0:  [ 4.456  7.146] xt:  [4.345705718624207, 7.1261706851626245]\n",
        "iteration:  1 x0:  [ 4.732  7.154] xt:  [4.5249668971737069, 7.131404220568812]\n",
        "iteration: "
       ]
      },
      {
       "output_type": "stream",
       "stream": "stdout",
       "text": [
        " 9 x0:  [ 4.088  7.212] xt:  [4.2140000071115091, 7.1140724234159176]\n",
        "iteration: "
       ]
      },
      {
       "output_type": "stream",
       "stream": "stdout",
       "text": [
        " 7 x0:  [ 4.502  6.928] xt:  [4.2178998262670895, 7.1135069398723001]\n",
        "iteration: "
       ]
      },
      {
       "output_type": "stream",
       "stream": "stdout",
       "text": [
        " 13 x0:  [ 3.402  7.434] xt:  [4.2140844266102109, 7.1140481387538719]\n",
        "iteration: "
       ]
      },
      {
       "output_type": "stream",
       "stream": "stdout",
       "text": [
        " 8 x0:  [ 4.246  6.692] xt:  [4.2147364959656315, 7.1136684597143764]\n",
        "iteration: "
       ]
      },
      {
       "output_type": "stream",
       "stream": "stdout",
       "text": [
        " 8 x0:  [ 4.166  7.256] xt:  [4.214070462478416, 7.1141360699099794]\n",
        "iteration: "
       ]
      },
      {
       "output_type": "stream",
       "stream": "stdout",
       "text": [
        " 8 x0:  [ 4.852  6.83 ] xt:  [4.2197812105517336, 7.1134421009608921]\n",
        "iteration:  1 x0:  [ 4.398  7.428] xt:  [4.3177627633424427, 7.2568224271567408]\n",
        "iteration: "
       ]
      },
      {
       "output_type": "stream",
       "stream": "stdout",
       "text": [
        " 8 x0:  [ 5.016  7.054] xt:  [4.2219326320886958, 7.113589399347612]\n",
        "iteration: "
       ]
      },
      {
       "output_type": "stream",
       "stream": "stdout",
       "text": [
        " 8 x0:  [ 4.25  6.76] xt:  [4.2147243094881546, 7.1137408807867102]\n",
        "iteration: "
       ]
      },
      {
       "output_type": "stream",
       "stream": "stdout",
       "text": [
        " 11 x0:  [ 3.738  7.082] xt:  [4.2139644503119023, 7.1140483643818584]\n",
        "iteration:  1 x0:  [ 4.254  7.264] xt:  [4.2345176737605916, 7.175484579518713]\n",
        "iteration: "
       ]
      },
      {
       "output_type": "stream",
       "stream": "stdout",
       "text": [
        " 9 x0:  [ 4.122  7.238] xt:  [4.2140948150052697, 7.1140738357762672]\n",
        "iteration: "
       ]
      },
      {
       "output_type": "stream",
       "stream": "stdout",
       "text": [
        " 11 x0:  [ 3.878  7.232] xt:  [4.2140960053515322, 7.1140474466913011]\n",
        "iteration:  1 x0:  [ 4.55  7.29] xt:  [4.4050300999314995, 7.1923936257526426]\n",
        "iteration: "
       ]
      },
      {
       "output_type": "stream",
       "stream": "stdout",
       "text": [
        " 10 x0:  [ 4.03   7.126] xt:  [4.2141050101077102, 7.1140422248307553]\n",
        "iteration: "
       ]
      },
      {
       "output_type": "stream",
       "stream": "stdout",
       "text": [
        " 7 x0:  [ 4.412  7.022] xt:  [4.2166487541783928, 7.113754060726718]\n",
        "iteration:  1 x0:  [ 4.276  7.244] xt:  [4.2463243783519138, 7.1668798629255397]\n",
        "iteration: "
       ]
      },
      {
       "output_type": "stream",
       "stream": "stdout",
       "text": [
        " 9 x0:  [ 8.376  3.788] xt:  [8.6335413639593312, 3.7479664681764895]\n",
        "iteration:  1 x0:  [ 8.81   3.864] xt:  [8.7228624557437939, 3.8078342429199479]\n",
        "iteration: "
       ]
      },
      {
       "output_type": "stream",
       "stream": "stdout",
       "text": [
        " 10 x0:  [ 8.218  3.548] xt:  [8.6334400120580295, 3.7477677344681144]\n",
        "iteration: "
       ]
      },
      {
       "output_type": "stream",
       "stream": "stdout",
       "text": [
        " 9 x0:  [ 8.374  3.748] xt:  [8.6335046970771732, 3.7479114888065883]\n",
        "iteration: "
       ]
      },
      {
       "output_type": "stream",
       "stream": "stdout",
       "text": [
        " 10 x0:  [ 8.102  4.3  ] xt:  [8.6335875750733333, 3.7483521086525062]\n",
        "iteration: "
       ]
      },
      {
       "output_type": "stream",
       "stream": "stdout",
       "text": [
        " 8 x0:  [ 8.386  3.952] xt:  [8.633379069997682, 3.7483178603762699]\n",
        "iteration: "
       ]
      },
      {
       "output_type": "stream",
       "stream": "stdout",
       "text": [
        " 10 x0:  [ 8.858  3.274] xt:  [8.6339361475181988, 3.7478843137349589]\n",
        "iteration: "
       ]
      },
      {
       "output_type": "stream",
       "stream": "stdout",
       "text": [
        " 9 x0:  [ 8.884  3.504] xt:  [8.6341814699832273, 3.7480018612552159]\n",
        "iteration: "
       ]
      },
      {
       "output_type": "stream",
       "stream": "stdout",
       "text": [
        " 11 x0:  [ 8.294  3.38 ] xt:  [8.6336785852770586, 3.7478951272779453]\n",
        "iteration: "
       ]
      },
      {
       "output_type": "stream",
       "stream": "stdout",
       "text": [
        " 11 x0:  [ 8.38   3.178] xt:  [8.6336345993212866, 3.7478125148286106]\n",
        "iteration:  1 x0:  [ 8.738  4.294] xt:  [8.7010925895223874, 4.0554786495017359]\n",
        "iteration: "
       ]
      },
      {
       "output_type": "stream",
       "stream": "stdout",
       "text": [
        " 1 x0:  [ 9.1   3.84] xt:  [8.8859820285852482, 3.8065599705990043]\n",
        "iteration: "
       ]
      },
      {
       "output_type": "stream",
       "stream": "stdout",
       "text": [
        " 7 x0:  [ 9.086  3.6  ] xt:  [8.6368831428357442, 3.7484622359150119]\n",
        "iteration: "
       ]
      },
      {
       "output_type": "stream",
       "stream": "stdout",
       "text": [
        " 10 x0:  [ 8.616  3.45 ] xt:  [8.63380476416466, 3.7479252527636815]\n",
        "iteration: "
       ]
      },
      {
       "output_type": "stream",
       "stream": "stdout",
       "text": [
        " 7 x0:  [ 8.624  3.698] xt:  [8.6337584746653206, 3.7478372451644306]\n",
        "iteration: "
       ]
      },
      {
       "output_type": "stream",
       "stream": "stdout",
       "text": [
        " 2 x0:  [ 8.632  3.82 ] xt:  [8.6355613945457694, 3.7637171715113475]\n",
        "iteration: "
       ]
      },
      {
       "output_type": "stream",
       "stream": "stdout",
       "text": [
        " 9 x0:  [ 8.286  3.704] xt:  [8.6332793108751869, 3.7477620834967618]\n",
        "iteration: "
       ]
      },
      {
       "output_type": "stream",
       "stream": "stdout",
       "text": [
        " 8 x0:  [ 8.816  3.58 ] xt:  [8.6343098290364448, 3.7479468583186959]\n",
        "iteration:  1 x0:  [ 8.722  3.854] xt:  [8.6793991831469217, 3.8002181988382304]\n",
        "iteration: "
       ]
      },
      {
       "output_type": "stream",
       "stream": "stdout",
       "text": [
        " 11 x0:  [ 8.298  3.378] xt:  [8.6336804054352427, 3.7478957794297387]\n",
        "iteration:  1 x0:  [ 9.014  4.034] xt:  [8.8430237651464036, 3.9061827367074469]\n",
        "iteration: "
       ]
      },
      {
       "output_type": "stream",
       "stream": "stdout",
       "text": [
        " 8 x0:  [ 8.87   3.554] xt:  [8.6344627443513051, 3.7479495315307361]\n",
        "iteration: "
       ]
      },
      {
       "output_type": "stream",
       "stream": "stdout",
       "text": [
        " 8 x0:  [ 8.562  3.662] xt:  [8.633594161411386, 3.7478019302362071]\n",
        "iteration: "
       ]
      },
      {
       "output_type": "stream",
       "stream": "stdout",
       "text": [
        " 5 x0:  [ 8.6    3.828] xt:  [8.6336664590072694, 3.7496810386055648]\n",
        "iteration:  1 x0:  [ 8.94   3.836] xt:  [8.7898467645935678, 3.7988837365515864]\n",
        "iteration: "
       ]
      },
      {
       "output_type": "stream",
       "stream": "stdout",
       "text": [
        " 1 x0:  [ 8.768  4.32 ] xt:  [8.7191972830868423, 4.0758699819014401]\n",
        "iteration:  1 x0:  [ 8.838  3.926] xt:  [8.7393466686992323, 3.8391509001399728]\n",
        "iteration: "
       ]
      },
      {
       "output_type": "stream",
       "stream": "stdout",
       "text": [
        " 10 x0:  [ 8.288  3.466] xt:  [8.6334744624618303, 3.7477482436441485]\n",
        "iteration:  1 x0:  [ 8.652  3.782] xt:  [8.6436502879233164, 3.7644149125812398]\n",
        "iteration: "
       ]
      },
      {
       "output_type": "stream",
       "stream": "stdout",
       "text": [
        " 8 x0:  [ 8.376  3.956] xt:  [8.6333454244819503, 3.7483158912194279]\n",
        "iteration: "
       ]
      },
      {
       "output_type": "stream",
       "stream": "stdout",
       "text": [
        " 12 x0:  [ 7.724  3.414] xt:  [8.6334422034638489, 3.7477798005035452]\n",
        "iteration: "
       ]
      },
      {
       "output_type": "stream",
       "stream": "stdout",
       "text": [
        " 8 x0:  [ 8.374  4.136] xt:  [8.6335521445624739, 3.748897897224527]\n",
        "iteration: "
       ]
      },
      {
       "output_type": "stream",
       "stream": "stdout",
       "text": [
        " 7 x0:  [ 8.6    3.712] xt:  [8.6336383806625907, 3.747848017772013]\n",
        "iteration:  1 x0:  [ 9.026  3.788] xt:  [8.8379375470111246, 3.7777404507119496]\n",
        "iteration: "
       ]
      },
      {
       "output_type": "stream",
       "stream": "stdout",
       "text": [
        " 11 x0:  [ 8.534  3.252] xt:  [8.6337677336312506, 3.7479165331832958]\n",
        "iteration: "
       ]
      },
      {
       "output_type": "stream",
       "stream": "stdout",
       "text": [
        " 7 x0:  [ 8.874  3.602] xt:  [8.6351814553193762, 3.7479518568096517]\n",
        "iteration:  1 x0:  [ 8.796  3.888] xt:  [8.7167201256349358, 3.8189016194869096]\n",
        "iteration: "
       ]
      },
      {
       "output_type": "stream",
       "stream": "stdout",
       "text": [
        " 5 x0:  [ 8.592  3.988] xt:  [8.6346330511793941, 3.7535284616920803]\n",
        "iteration:  1 x0:  [ 8.98   4.014] xt:  [8.8213746748099418, 3.8926227670800073]\n",
        "iteration: "
       ]
      },
      {
       "output_type": "stream",
       "stream": "stdout",
       "text": [
        " 6 x0:  [ 8.562  3.856] xt:  [8.6334819496790711, 3.7489823514637242]\n",
        "iteration: "
       ]
      },
      {
       "output_type": "stream",
       "stream": "stdout",
       "text": [
        " 14 x0:  [ 13.894   4.16 ] xt:  [14.101544146899776, 5.0368369012153362]\n",
        "iteration:  1 x0:  [ 14.278   5.26 ] xt:  [14.194879879485098, 5.1587626851619337]\n",
        "iteration: "
       ]
      },
      {
       "output_type": "stream",
       "stream": "stdout",
       "text": [
        " 11 x0:  [ 14.364   4.748] xt:  [14.101823217422449, 5.0368177108917385]\n",
        "iteration: "
       ]
      },
      {
       "output_type": "stream",
       "stream": "stdout",
       "text": [
        " 9 x0:  [ 14.108   4.918] xt:  [14.10161816793469, 5.0366860540034484]\n",
        "iteration: "
       ]
      },
      {
       "output_type": "stream",
       "stream": "stdout",
       "text": [
        " 7 x0:  [ 13.998   5.498] xt:  [14.10057306214725, 5.0436718433201753]\n",
        "iteration:  1 x0:  [ 14.4     5.296] xt:  [14.263518423666245, 5.1821453294167039]\n",
        "iteration:  1 x0:  [ 14.3     5.368] xt:  [14.209031078919011, 5.2217338687877355]\n",
        "iteration: "
       ]
      },
      {
       "output_type": "stream",
       "stream": "stdout",
       "text": [
        " 8 x0:  [ 13.958   5.35 ] xt:  [14.100872904747542, 5.0394124265108848]\n",
        "iteration: "
       ]
      },
      {
       "output_type": "stream",
       "stream": "stdout",
       "text": [
        " 9 x0:  [ 13.842   4.984] xt:  [14.100764820578762, 5.036841634872701]\n",
        "iteration: "
       ]
      },
      {
       "output_type": "stream",
       "stream": "stdout",
       "text": [
        " 13 x0:  [ 13.85    4.246] xt:  [14.101471048641219, 5.0366622004204649]\n",
        "iteration: "
       ]
      },
      {
       "output_type": "stream",
       "stream": "stdout",
       "text": [
        " 7 x0:  [ 13.978   5.356] xt:  [14.100379119049244, 5.0414325407125293]\n",
        "iteration:  1 x0:  [ 14.366   5.104] xt:  [14.240773193997198, 5.0740328755557051]\n",
        "iteration: "
       ]
      },
      {
       "output_type": "stream",
       "stream": "stdout",
       "text": [
        " 9 x0:  [ 14.272   4.94 ] xt:  [14.102098218792278, 5.0368165180187887]\n",
        "iteration:  1 x0:  [ 14.336   5.176] xt:  [14.225031442143196, 5.1130762270667764]\n",
        "iteration: "
       ]
      },
      {
       "output_type": "stream",
       "stream": "stdout",
       "text": [
        " 1 x0:  [ 14.744   5.248] xt:  [14.495120463070938, 5.1696163459250339]\n",
        "iteration:  1 x0:  [ 14.306   5.06 ] xt:  [14.208154839465438, 5.0499402533051132]\n",
        "iteration: "
       ]
      },
      {
       "output_type": "stream",
       "stream": "stdout",
       "text": [
        " 7 x0:  [ 13.986   5.05 ] xt:  [14.100367944984376, 5.0372386140087455]\n",
        "iteration:  1 x0:  [ 14.44   5.33] xt:  [14.288450353535799, 5.2038212456837822]\n",
        "iteration: "
       ]
      },
      {
       "output_type": "stream",
       "stream": "stdout",
       "text": [
        " 9 x0:  [ 14.004   4.92 ] xt:  [14.101299187562461, 5.0366530812332249]\n",
        "iteration: "
       ]
      },
      {
       "output_type": "stream",
       "stream": "stdout",
       "text": [
        " 13 x0:  [ 13.332   4.592] xt:  [14.101233053819856, 5.0367991719305705]\n",
        "iteration:  1 x0:  [ 14.218   5.544] xt:  [14.167060083270593, 5.3330091868820499]\n",
        "iteration: "
       ]
      },
      {
       "output_type": "stream",
       "stream": "stdout",
       "text": [
        " 11 x0:  [ 14.154   4.768] xt:  [14.101647674937631, 5.0368326077342012]\n",
        "iteration: "
       ]
      },
      {
       "output_type": "stream",
       "stream": "stdout",
       "text": [
        " 11 x0:  [ 13.468   4.92 ] xt:  [14.100819578459225, 5.0368422988906687]\n",
        "iteration: "
       ]
      },
      {
       "output_type": "stream",
       "stream": "stdout",
       "text": [
        " 10 x0:  [ 13.67    5.406] xt:  [14.100822756782023, 5.0379832806316385]\n",
        "iteration: "
       ]
      },
      {
       "output_type": "stream",
       "stream": "stdout",
       "text": [
        " 10 x0:  [ 13.664   5.016] xt:  [14.10077826170868, 5.0369932930775301]\n",
        "iteration: "
       ]
      },
      {
       "output_type": "stream",
       "stream": "stdout",
       "text": [
        " 10 x0:  [ 14.12   4.87] xt:  [14.101633034489451, 5.0367968829499876]\n",
        "iteration: "
       ]
      },
      {
       "output_type": "stream",
       "stream": "stdout",
       "text": [
        " 12 x0:  [ 13.836   4.51 ] xt:  [14.10142348843079, 5.036677722567318]\n",
        "iteration:  1 x0:  [ 14.204   5.064] xt:  [14.154778772349186, 5.0518987764774872]\n",
        "iteration: "
       ]
      },
      {
       "output_type": "stream",
       "stream": "stdout",
       "text": [
        " 7 x0:  [ 14.004   5.228] xt:  [14.100672097695883, 5.0396347700792559]\n",
        "iteration: "
       ]
      },
      {
       "output_type": "stream",
       "stream": "stdout",
       "text": [
        " 11 x0:  [ 13.266   4.858] xt:  [14.100219540048842, 5.0365572779715464]\n",
        "iteration: "
       ]
      },
      {
       "output_type": "stream",
       "stream": "stdout",
       "text": [
        " 10 x0:  [ 13.668   5.34 ] xt:  [14.100827250990738, 5.0378051110248618]\n",
        "iteration: "
       ]
      },
      {
       "output_type": "stream",
       "stream": "stdout",
       "text": [
        " 10 x0:  [ 14.528   4.812] xt:  [14.102292680289885, 5.0366799708480707]\n",
        "iteration: "
       ]
      },
      {
       "output_type": "stream",
       "stream": "stdout",
       "text": [
        " 12 x0:  [ 14.318   4.592] xt:  [14.101703903607817, 5.0368398834236823]\n",
        "iteration: "
       ]
      },
      {
       "output_type": "stream",
       "stream": "stdout",
       "text": [
        " 7 x0:  [ 14.018   5.182] xt:  [14.100813476360541, 5.0390227100705447]\n",
        "iteration: "
       ]
      },
      {
       "output_type": "stream",
       "stream": "stdout",
       "text": [
        " 9 x0:  [ 14.37    4.884] xt:  [14.102378689901297, 5.0365957634578633]\n",
        "iteration: "
       ]
      },
      {
       "output_type": "stream",
       "stream": "stdout",
       "text": [
        " 10 x0:  [ 14.198   4.804] xt:  [14.101742106552743, 5.0366523851075877]\n",
        "iteration: "
       ]
      },
      {
       "output_type": "stream",
       "stream": "stdout",
       "text": [
        " 12 x0:  [ 14.32   4.59] xt:  [14.101704785474031, 5.0368379372869292]\n",
        "iteration: "
       ]
      },
      {
       "output_type": "stream",
       "stream": "stdout",
       "text": [
        " 10 x0:  [ 13.636   5.218] xt:  [14.100743887611696, 5.0374919778614657]\n",
        "iteration: "
       ]
      },
      {
       "output_type": "stream",
       "stream": "stdout",
       "text": [
        " 11 x0:  [ 14.41    4.656] xt:  [14.101861839063698, 5.0366744345341887]\n",
        "iteration: "
       ]
      },
      {
       "output_type": "stream",
       "stream": "stdout",
       "text": [
        " 7 x0:  [ 14.02    5.614] xt:  [14.100781765246042, 5.0458273668782079]\n"
       ]
      }
     ],
     "prompt_number": 143
    },
    {
     "cell_type": "code",
     "collapsed": false,
     "input": [
      "plotScatter(X,Y,\"Scatter Plot\", 'g')"
     ],
     "language": "python",
     "metadata": {},
     "outputs": [
      {
       "metadata": {},
       "output_type": "display_data",
       "png": "[encoded data removed]",
       "text": [
        "<matplotlib.figure.Figure at 0x7b605c0>"
       ]
      }
     ],
     "prompt_number": 20
    },
    {
     "cell_type": "code",
     "collapsed": false,
     "input": [
      "plotScatter(SEPs[:,0],SEPs[:,1],\"SEP Scatter Plot\" ,\"r\")"
     ],
     "language": "python",
     "metadata": {},
     "outputs": [
      {
       "metadata": {},
       "output_type": "display_data",
       "png": "[encoded data removed]",
       "text": [
        "<matplotlib.figure.Figure at 0x77db240>"
       ]
      }
     ],
     "prompt_number": 43
    },
    {
     "cell_type": "code",
     "collapsed": false,
     "input": [
      "print SEPs.shape\n",
      "print data.shape"
     ],
     "language": "python",
     "metadata": {},
     "outputs": [
      {
       "output_type": "stream",
       "stream": "stdout",
       "text": [
        "(600L, 2L)\n",
        "(2L, 600L)\n"
       ]
      }
     ],
     "prompt_number": 8
    },
    {
     "cell_type": "code",
     "collapsed": false,
     "input": [
      "maxVar, point = getMaxVariance()\n",
      "print \"max variance: \", maxVar, \"data point: \", point"
     ],
     "language": "python",
     "metadata": {},
     "outputs": [
      {
       "output_type": "stream",
       "stream": "stdout",
       "text": [
        "max variance:  0.6248753698 data point:  [  5.13   13.296]\n"
       ]
      }
     ],
     "prompt_number": 280
    },
    {
     "cell_type": "code",
     "collapsed": false,
     "input": [
      "maxVars = getMaxVariances(100)\n",
      "print \"max variances: \", maxVars"
     ],
     "language": "python",
     "metadata": {},
     "outputs": [
      {
       "output_type": "stream",
       "stream": "stdout",
       "text": [
        "max variances:  [0.6248753698004017, 0.59229137285890066, 0.58340267392951928, 0.55819896065380847, 0.54687763425269864, 0.53773462345133283, 0.53419591906653985, 0.52992851621306114, 0.5269725899308072, 0.51444228549424365, 0.51223153769899921, 0.50351431386634826, 0.49842556036434549, 0.49395143731910429, 0.49023717992969984, 0.48988654009168264, 0.4790188660457555, 0.47488510043238197, 0.47263398560048353, 0.47258398896217846, 0.46643837656294629, 0.46364248126396768, 0.45771502888425819, 0.44953987005338725, 0.44933358308377103, 0.44808231078995742, 0.44371982392799825, 0.44343096410476379, 0.43984362451079506, 0.43614299330978201, 0.43547377296207856, 0.42848284818783222, 0.4243806869926372, 0.4243798223425006, 0.41850370246802893, 0.4161699878795162, 0.41557349555486678, 0.41243582239876098, 0.41184209611790634, 0.4118309947891573, 0.41124160551386157, 0.40939654221314858, 0.40620771920640553, 0.40411516301631489, 0.40339084715788132, 0.40207470583053029, 0.40080773252634583, 0.40006460398162913, 0.39913063196188825, 0.39716479523477499, 0.39701145045196529, 0.39691971945162785, 0.39310375392249552, 0.38974632744007665, 0.38886271802385208, 0.3881879658040075, 0.3869477351344236, 0.38666356880907005, 0.38631865534512722, 0.38263906315927632, 0.38220930329135894, 0.37986148948263498, 0.37807333599146364, 0.37800062626264019, 0.3739897982503686, 0.37152838963305845, 0.36959055884453895, 0.36849969082596656, 0.3644216114861395, 0.36308800037707933, 0.36188180773067546, 0.36179563478398113, 0.36163485066894896, 0.36154337216249721, 0.36142028066475185, 0.36018999092294202, 0.36007948050925631, 0.3600469876750938, 0.35877966959024665, 0.35830082957231646, 0.35826087646775306, 0.35759176097825418, 0.35720158570917904, 0.35651244104504176, 0.35642882681674037, 0.35616190291417149, 0.35610665987080636, 0.35609524495505174, 0.35575920829957974, 0.35574105785871912, 0.35571617506922237, 0.35567637692493603, 0.35395127678649763, 0.3524213663072655, 0.35199597907549085, 0.35176843555864923, 0.3515486962652753, 0.35091165449731654, 0.35077671845094249, 0.35020482472780101]\n"
       ]
      }
     ],
     "prompt_number": 325
    },
    {
     "cell_type": "code",
     "collapsed": false,
     "input": [
      "def isExistInList(sepList, point, min_accepted_covariance):\n",
      "    for i in range (len(sepList)):\n",
      "        covariance = kernelFunction(sepList[i], point)\n",
      "        if(covariance > min_accepted_covariance):\n",
      "            return i\n",
      "    return -1\n",
      "\n",
      "def reduceSEPs(seps, min_accepted_covariance):\n",
      "    sepList = []\n",
      "    sepIndexMap = {}\n",
      "    for i in range (len(seps)):\n",
      "        index = isExistInList(sepList, [seps[i,0],seps[i,1]], min_accepted_covariance)\n",
      "        if index == -1 :\n",
      "            index = len(sepList)\n",
      "            sepList.append([seps[i,0],seps[i,1]])\n",
      "        sepIndexMap[i] = index\n",
      "    return array(sepList), sepIndexMap\n",
      "            "
     ],
     "language": "python",
     "metadata": {},
     "outputs": [],
     "prompt_number": 145
    },
    {
     "cell_type": "code",
     "collapsed": false,
     "input": [
      "sepList, sepIndexMap = reduceSEPs(SEPs, 0.99)"
     ],
     "language": "python",
     "metadata": {},
     "outputs": [],
     "prompt_number": 158
    },
    {
     "cell_type": "code",
     "collapsed": false,
     "input": [
      "plotScatter(sepList[:,0],sepList[:,1],\"reduced SEPs Scatter Plot\" ,\"r\")"
     ],
     "language": "python",
     "metadata": {},
     "outputs": [
      {
       "metadata": {},
       "output_type": "display_data",
       "png": "[encoded data removed]",
       "text": [
        "<matplotlib.figure.Figure at 0x779ca58>"
       ]
      }
     ],
     "prompt_number": 160
    },
    {
     "cell_type": "code",
     "collapsed": false,
     "input": [
      "def getGeometricDistance(x1, x2):\n",
      "    d = 0.\n",
      "    for i in range (len(x1)):\n",
      "        d += (x1[i] - x2[i])**2\n",
      "    return math.sqrt(d)\n",
      "\n",
      "def getAdjacencyMatrix(sepList, maxVar, pointsNumPerDistanceUnit):\n",
      "    A = [[ -1 for i in range (len(sepList))] for j in range (len(sepList)) ]\n",
      "    for i in range (len(sepList)):\n",
      "        for j in range (len(sepList)):\n",
      "            if(i == j ):\n",
      "                A[i][j] = 1\n",
      "            elif( i < j ):\n",
      "                isConnected = True\n",
      "                delta = sepList[i] - sepList[j]\n",
      "                distance = getGeometricDistance(sepList[i], sepList[j])\n",
      "                pointsNum = pointsNumPerDistanceUnit * distance\n",
      "                for m in range ((int)(pointsNum)):\n",
      "                    testPoint = sepList[j] + (m+1) * delta/pointsNum\n",
      "                    testVar = varianceFunction(testPoint, data, invA)\n",
      "                    if(testVar > maxVar):\n",
      "                        isConnected = False\n",
      "                        break\n",
      "                if isConnected is True:\n",
      "                    A[i][j] = 1\n",
      "                else:\n",
      "                    A[i][j] = 0\n",
      "            elif (i > j ):\n",
      "                A[i][j] = A[j][i]\n",
      "    return array(A)"
     ],
     "language": "python",
     "metadata": {},
     "outputs": [],
     "prompt_number": 340
    },
    {
     "cell_type": "code",
     "collapsed": false,
     "input": [
      "A = getAdjacencyMatrix(sepList, maxVars[50], 20)"
     ],
     "language": "python",
     "metadata": {},
     "outputs": [],
     "prompt_number": 347
    },
    {
     "cell_type": "code",
     "collapsed": false,
     "input": [
      "def getSEPsClusters(adjacencyMatrix, sepList):\n",
      "    assignedSEPs = []\n",
      "    clusters = [ -1 for i in range (len(sepList))]\n",
      "    clusterIndex = 1\n",
      "    for i in range (len(sepList)):\n",
      "        if not i in assignedSEPs:\n",
      "            cluster_seps = []\n",
      "            for j in range (len(sepList)):\n",
      "                if(adjacencyMatrix[i][j] == 1):\n",
      "                    clusters[j] = clusterIndex\n",
      "                    assignedSEPs.append(j)\n",
      "            clusterIndex += 1\n",
      "    return clusters                "
     ],
     "language": "python",
     "metadata": {},
     "outputs": [],
     "prompt_number": 348
    },
    {
     "cell_type": "code",
     "collapsed": false,
     "input": [
      "sepsClusters = getSEPsClusters(A, sepList)"
     ],
     "language": "python",
     "metadata": {},
     "outputs": [],
     "prompt_number": 349
    },
    {
     "cell_type": "code",
     "collapsed": false,
     "input": [
      "print sepsClusters"
     ],
     "language": "python",
     "metadata": {},
     "outputs": [
      {
       "output_type": "stream",
       "stream": "stdout",
       "text": [
        "[1, 1, 1, 3, 1, 1, 1, 1, 1, 1, 3, 3, 3, 3, 3, 2, 3, 3, 3, 3, 3, 3, 3, 3, 3, 3, 3, 3, 3, 3, 3, 3, 3, 3, 3, 3, 3, 3, 3, 1, 1, 4, 4, 4, 4, 5, 5, 5, 5, 6, 6, 6, 7, 7, 7, 8, 9, 9, 9, 9, 9, 10, 10, 10, 11, 11, 11, 11]\n"
       ]
      }
     ],
     "prompt_number": 350
    },
    {
     "cell_type": "code",
     "collapsed": false,
     "input": [
      "def plotCluster(X,Y,clusters,title):\n",
      "    fig = plt.figure()\n",
      "    ax = fig.add_subplot(111)\n",
      "        \n",
      "    colors = ['r','g','b','c','m','y']   \n",
      "    c = [colors[((int)(clusters[i])-1) % len(colors)]  + '.' for i in range (len(clusters))]\n",
      "    \n",
      "    for i in range (len(X)):\n",
      "        ax.plot(X[i],Y[i],c[i])\n",
      "    ax.set_title(title)\n",
      "    plt.show()"
     ],
     "language": "python",
     "metadata": {},
     "outputs": [],
     "prompt_number": 351
    },
    {
     "cell_type": "code",
     "collapsed": false,
     "input": [
      "plotCluster(sepList[:,0],sepList[:,1],sepsClusters,\"Scatter Plot\")"
     ],
     "language": "python",
     "metadata": {},
     "outputs": [
      {
       "metadata": {},
       "output_type": "display_data",
       "png": "[encoded data removed]",
       "text": [
        "<matplotlib.figure.Figure at 0x8aa7ef0>"
       ]
      }
     ],
     "prompt_number": 352
    },
    {
     "cell_type": "code",
     "collapsed": false,
     "input": [
      "dataset = loadtxt(\"dataset\\jain.txt\")\n",
      "data = array([dataset[:,0], dataset[:,1]])\n",
      "clusters = dataset[:,2]\n",
      "size = len(clusters)\n",
      "\n",
      "X = data[0,:]\n",
      "Y = data[1,:]\n",
      "print \"size: \", len(data[0,:])\n",
      "#plotScatter(X,Y,\"Scatter Plot\", 'g')\n",
      "plotCluster(X,Y,clusters,\"Scatter Plot\")"
     ],
     "language": "python",
     "metadata": {},
     "outputs": [
      {
       "output_type": "stream",
       "stream": "stdout",
       "text": [
        "size:  373\n"
       ]
      },
      {
       "metadata": {},
       "output_type": "display_data",
       "png": "[encoded data removed]",
       "text": [
        "<matplotlib.figure.Figure at 0x8a33390>"
       ]
      }
     ],
     "prompt_number": 361
    },
    {
     "cell_type": "code",
     "collapsed": false,
     "input": [
      "C = getCovarianceMatrix(data)\n",
      "invA = getInversionMatrix(data, C)\n",
      "SEPs = array([getEquilibriumPoint(data[:,i], data, invA, 0.5, 1000) for i in range (size) ])"
     ],
     "language": "python",
     "metadata": {},
     "outputs": [
      {
       "output_type": "stream",
       "stream": "stdout",
       "text": [
        "iteration:  1 x0:  [  0.85  17.45] xt:  [0.8499718742685789, 17.449452638960413]\n",
        "iteration:  1 x0:  [  0.75  15.6 ] xt:  [0.75006375859632213, 15.600544804276955]\n",
        "iteration: "
       ]
      },
      {
       "output_type": "stream",
       "stream": "stdout",
       "text": [
        " 1001 x0:  [  3.3   15.45] xt:  [4.0199288554754595, 15.518846571038001]\n",
        "iteration: "
       ]
      },
      {
       "output_type": "stream",
       "stream": "stdout",
       "text": [
        " 514 x0:  [  5.25  14.2 ] xt:  [5.1014878875431462, 15.530358623409569]\n",
        "iteration: "
       ]
      },
      {
       "output_type": "stream",
       "stream": "stdout",
       "text": [
        " 124 x0:  [  4.9   15.65] xt:  [5.0598092667103565, 15.655460176773188]\n",
        "iteration:  1 x0:  [  5.35  15.85] xt:  [5.3465942251802083, 15.847805214670545]\n",
        "iteration: "
       ]
      },
      {
       "output_type": "stream",
       "stream": "stdout",
       "text": [
        " 92 x0:  [  5.1  17.9] xt:  [4.8015852258239828, 18.132332659368544]\n",
        "iteration:  1 x0:  [  4.6   18.25] xt:  [4.5999516346164411, 18.251362768335195]\n",
        "iteration: "
       ]
      },
      {
       "output_type": "stream",
       "stream": "stdout",
       "text": [
        " 347 x0:  [  4.05  18.75] xt:  [4.4389922195914515, 18.501907528111584]\n",
        "iteration: "
       ]
      },
      {
       "output_type": "stream",
       "stream": "stdout",
       "text": [
        " 345 x0:  [  3.4  19.7] xt:  [3.9620213119000862, 19.451172067278403]\n",
        "iteration: "
       ]
      },
      {
       "output_type": "stream",
       "stream": "stdout",
       "text": [
        " 245 x0:  [  2.9   21.15] xt:  [3.2579492882238958, 21.557341628080771]\n",
        "iteration: "
       ]
      },
      {
       "output_type": "stream",
       "stream": "stdout",
       "text": [
        " 138 x0:  [  3.1   21.85] xt:  [3.2702395879647956, 21.62082597478123]\n",
        "iteration:  1 x0:  [  3.9   21.85] xt:  [3.8958476423545614, 21.848302050029346]\n",
        "iteration:  1 x0:  [  4.4   20.05] xt:  [4.3974124694989207, 20.047910431212625]\n",
        "iteration:  1 x0:  [  7.2  14.5] xt:  [7.1995825322488241, 14.500295995490777]\n",
        "iteration: "
       ]
      },
      {
       "output_type": "stream",
       "stream": "stdout",
       "text": [
        " 1 x0:  [  7.65  16.5 ] xt:  [7.6498211866998256, 16.499850358367731]\n",
        "iteration: "
       ]
      },
      {
       "output_type": "stream",
       "stream": "stdout",
       "text": [
        " 48 x0:  [  7.1   18.65] xt:  [7.0858773309206278, 18.748900139527073]\n",
        "iteration:  1 x0:  [  7.05  19.9 ] xt:  [7.0482716632739502, 19.898973581970402]\n",
        "iteration: "
       ]
      },
      {
       "output_type": "stream",
       "stream": "stdout",
       "text": [
        " 361 x0:  [  5.85  20.55] xt:  [5.9659720592852405, 21.751016998496098]\n",
        "iteration: "
       ]
      },
      {
       "output_type": "stream",
       "stream": "stdout",
       "text": [
        " 185 x0:  [  5.5  21.8] xt:  [5.9332341019945112, 21.925743402438226]\n",
        "iteration:  1 x0:  [  6.55  21.8 ] xt:  [6.5432077532971915, 21.80111598713648]\n",
        "iteration:  1 x0:  [  6.05  22.3 ] xt:  [6.0483886246639589, 22.295515807169693]\n",
        "iteration: "
       ]
      },
      {
       "output_type": "stream",
       "stream": "stdout",
       "text": [
        " 78 x0:  [  5.2  23.4] xt:  [5.0641735476529659, 23.608846530072015]\n",
        "iteration: "
       ]
      },
      {
       "output_type": "stream",
       "stream": "stdout",
       "text": [
        " 157 x0:  [  4.55  23.9 ] xt:  [4.9144042913210493, 23.876000679873219]\n",
        "iteration:  1 x0:  [  5.1  24.4] xt:  [5.0974915244914527, 24.3939544306422]\n",
        "iteration:  1 x0:  [  8.1   26.35] xt:  [8.1005267601326505, 26.34978166760818]\n",
        "iteration: "
       ]
      },
      {
       "output_type": "stream",
       "stream": "stdout",
       "text": [
        " 1 x0:  [ 10.15  27.7 ] xt:  [10.150734438641493, 27.699431129853611]\n",
        "iteration:  1 x0:  [  9.75  25.5 ] xt:  [9.7496201868702403, 25.500435267714664]\n",
        "iteration:  1 x0:  [  9.2  21.1] xt:  [9.1999656765947737, 21.099993456232792]\n",
        "iteration: "
       ]
      },
      {
       "output_type": "stream",
       "stream": "stdout",
       "text": [
        " 459 x0:  [ 11.2  22.8] xt:  [13.783001112656065, 22.082669569280526]\n",
        "iteration: "
       ]
      },
      {
       "output_type": "stream",
       "stream": "stdout",
       "text": [
        " 209 x0:  [ 12.6  23.1] xt:  [13.784677351023113, 22.103141173909858]\n",
        "iteration:  1 x0:  [ 13.25  23.5 ] xt:  [13.250821286646577, 23.490301623481834]\n",
        "iteration: "
       ]
      },
      {
       "output_type": "stream",
       "stream": "stdout",
       "text": [
        " 648 x0:  [ 11.65  26.85] xt:  [13.430639725336018, 27.53689022856716]\n",
        "iteration: "
       ]
      },
      {
       "output_type": "stream",
       "stream": "stdout",
       "text": [
        " 293 x0:  [ 12.45  27.55] xt:  [13.429923032840493, 27.538283844041977]\n",
        "iteration: "
       ]
      },
      {
       "output_type": "stream",
       "stream": "stdout",
       "text": [
        " 47 x0:  [ 13.3   27.85] xt:  [13.366706102995018, 27.679251626542598]\n",
        "iteration:  1 x0:  [ 13.7   27.75] xt:  [13.696827020140789, 27.745050485336833]\n",
        "iteration:  1 x0:  [ 14.15  26.9 ] xt:  [14.145610232475708, 26.902070906588797]\n",
        "iteration: "
       ]
      },
      {
       "output_type": "stream",
       "stream": "stdout",
       "text": [
        " 99 x0:  [ 14.05  26.55] xt:  [13.934941866109849, 26.969976798058156]\n",
        "iteration: "
       ]
      },
      {
       "output_type": "stream",
       "stream": "stdout",
       "text": [
        " 5 x0:  [ 15.15  24.2 ] xt:  [15.148058215978885, 24.212255818770682]\n",
        "iteration:  1 x0:  [ 15.2   24.75] xt:  [15.199811653352697, 24.746332201024149]\n",
        "iteration: "
       ]
      },
      {
       "output_type": "stream",
       "stream": "stdout",
       "text": [
        " 316 x0:  [ 12.2  20.9] xt:  [13.783450942911619, 22.076106171761353]\n",
        "iteration: "
       ]
      },
      {
       "output_type": "stream",
       "stream": "stdout",
       "text": [
        " 277 x0:  [ 12.15  21.45] xt:  [13.782897911787156, 22.076439069660427]\n",
        "iteration: "
       ]
      },
      {
       "output_type": "stream",
       "stream": "stdout",
       "text": [
        " 173 x0:  [ 12.75  22.05] xt:  [13.783085519574879, 22.080019467451585]\n",
        "iteration: "
       ]
      },
      {
       "output_type": "stream",
       "stream": "stdout",
       "text": [
        " 129 x0:  [ 13.15  21.85] xt:  [13.782500200013796, 22.074810019240854]\n",
        "iteration: "
       ]
      },
      {
       "output_type": "stream",
       "stream": "stdout",
       "text": [
        " 18 x0:  [ 13.75  22.  ] xt:  [13.779744595793932, 22.03496202715186]\n",
        "iteration:  1 x0:  [ 13.95  22.7 ] xt:  [13.947620533325935, 22.687525128414833]\n",
        "iteration:  1 x0:  [ 14.4   22.65] xt:  [14.388383693101126, 22.639973982579718]\n",
        "iteration:  1 x0:  [ 14.2   22.15] xt:  [14.19033258330203, 22.148813367623141]\n",
        "iteration: "
       ]
      },
      {
       "output_type": "stream",
       "stream": "stdout",
       "text": [
        " 52 x0:  [ 14.1   21.75] xt:  [13.900279339974974, 22.018399196236103]\n",
        "iteration: "
       ]
      },
      {
       "output_type": "stream",
       "stream": "stdout",
       "text": [
        " 79 x0:  [ 14.05  21.4 ] xt:  [13.860764674681825, 22.018383629430783]\n",
        "iteration: "
       ]
      },
      {
       "output_type": "stream",
       "stream": "stdout",
       "text": [
        " 88 x0:  [ 17.2  24.8] xt:  [17.53544784144032, 24.939724343959366]\n",
        "iteration: "
       ]
      },
      {
       "output_type": "stream",
       "stream": "stdout",
       "text": [
        " 3 x0:  [ 17.7   24.85] xt:  [17.69790078215242, 24.857616168669324]\n",
        "iteration:  1 x0:  [ 17.55  25.2 ] xt:  [17.551272056979542, 25.194762848683503]\n",
        "iteration:  1 x0:  [ 17.    26.85] xt:  [16.997184332931873, 26.850538834555309]\n",
        "iteration: "
       ]
      },
      {
       "output_type": "stream",
       "stream": "stdout",
       "text": [
        " 52 x0:  [ 16.55  27.1 ] xt:  [16.672483829018642, 27.01979722447976]\n",
        "iteration:  1 x0:  [ 19.15  25.35] xt:  [19.145637433455764, 25.345993191070818]\n",
        "iteration: "
       ]
      },
      {
       "output_type": "stream",
       "stream": "stdout",
       "text": [
        " 40 x0:  [ 18.8  24.7] xt:  [18.649102902301038, 24.837527520210131]\n",
        "iteration:  1 x0:  [ 21.4   25.85] xt:  [21.39993767850169, 25.849922813646543]\n",
        "iteration: "
       ]
      },
      {
       "output_type": "stream",
       "stream": "stdout",
       "text": [
        " 769 x0:  [ 15.8   21.35] xt:  [17.644409289115497, 20.916349134782759]\n",
        "iteration: "
       ]
      },
      {
       "output_type": "stream",
       "stream": "stdout",
       "text": [
        " 382 x0:  [ 16.6   21.15] xt:  [17.643655928002651, 20.916489822173613]\n",
        "iteration: "
       ]
      },
      {
       "output_type": "stream",
       "stream": "stdout",
       "text": [
        " 80 x0:  [ 17.45  20.75] xt:  [17.651207110588814, 20.852783088945888]\n",
        "iteration:  1 x0:  [ 18.    20.95] xt:  [17.998616599660885, 20.949752590278599]\n",
        "iteration: "
       ]
      },
      {
       "output_type": "stream",
       "stream": "stdout",
       "text": [
        " 131 x0:  [ 18.25  20.2 ] xt:  [17.98137235503853, 20.712211164915008]\n",
        "iteration: "
       ]
      },
      {
       "output_type": "stream",
       "stream": "stdout",
       "text": [
        " 234 x0:  [ 18.   22.3] xt:  [18.915956352068282, 21.984923745788436]\n",
        "iteration: "
       ]
      },
      {
       "output_type": "stream",
       "stream": "stdout",
       "text": [
        " 118 x0:  [ 18.6   22.25] xt:  [18.90574289191677, 22.007200972091788]\n",
        "iteration:  1 x0:  [ 19.2   21.95] xt:  [19.199959986840959, 21.949198351314198]\n",
        "iteration:  1 x0:  [ 19.45  22.1 ] xt:  [19.446810931912292, 22.094673823566122]\n",
        "iteration:  1 x0:  [ 20.1  21.6] xt:  [20.093850874667424, 21.598589181771366]\n",
        "iteration: "
       ]
      },
      {
       "output_type": "stream",
       "stream": "stdout",
       "text": [
        " 199 x0:  [ 20.1  20.9] xt:  [19.750859309022207, 21.447757812679274]\n",
        "iteration: "
       ]
      },
      {
       "output_type": "stream",
       "stream": "stdout",
       "text": [
        " 315 x0:  [ 19.9   20.35] xt:  [19.732182170917099, 21.465031980134917]\n",
        "iteration:  1 x0:  [ 19.45  19.05] xt:  [19.449215120871962, 19.049750753728798]\n",
        "iteration: "
       ]
      },
      {
       "output_type": "stream",
       "stream": "stdout",
       "text": [
        " 58 x0:  [ 19.25  18.7 ] xt:  [19.335011595567789, 18.858028743941489]\n",
        "iteration:  1 x0:  [ 21.3  22.3] xt:  [21.297559810887527, 22.298534616547066]\n",
        "iteration: "
       ]
      },
      {
       "output_type": "stream",
       "stream": "stdout",
       "text": [
        " 11 x0:  [ 22.9   23.65] xt:  [22.926908491531101, 23.674790707103252]\n",
        "iteration:  1 x0:  [ 23.15  24.1 ] xt:  [23.148813698757436, 24.096149806807713]\n",
        "iteration:  1 x0:  [ 24.25  22.85] xt:  [24.248324916978117, 22.851307471034982]\n",
        "iteration: "
       ]
      },
      {
       "output_type": "stream",
       "stream": "stdout",
       "text": [
        " 354 x0:  [ 22.05  20.25] xt:  [23.282150058698207, 19.70062505514737]\n",
        "iteration: "
       ]
      },
      {
       "output_type": "stream",
       "stream": "stdout",
       "text": [
        " 208 x0:  [ 20.95  18.25] xt:  [21.710206814017194, 17.428295191880686]\n",
        "iteration: "
       ]
      },
      {
       "output_type": "stream",
       "stream": "stdout",
       "text": [
        " 17 x0:  [ 21.65  17.25] xt:  [21.692927398025386, 17.173384120409043]\n",
        "iteration: "
       ]
      },
      {
       "output_type": "stream",
       "stream": "stdout",
       "text": [
        " 37 x0:  [ 21.55  16.7 ] xt:  [21.676496410693076, 16.681515408927712]\n",
        "iteration: "
       ]
      },
      {
       "output_type": "stream",
       "stream": "stdout",
       "text": [
        " 82 x0:  [ 21.6  16.3] xt:  [21.73326492171968, 16.529148577163458]\n",
        "iteration: "
       ]
      },
      {
       "output_type": "stream",
       "stream": "stdout",
       "text": [
        " 196 x0:  [ 21.5  15.5] xt:  [21.748949967861321, 16.530728697532034]\n",
        "iteration: "
       ]
      },
      {
       "output_type": "stream",
       "stream": "stdout",
       "text": [
        " 30 x0:  [ 22.4  16.5] xt:  [22.141924475539053, 16.556083313537542]\n",
        "iteration:  1 x0:  [ 22.25  18.1 ] xt:  [22.251627685166355, 18.096355780478206]\n",
        "iteration:  1 x0:  [ 23.15  19.05] xt:  [23.150811020874357, 19.050314042265548]\n",
        "iteration: "
       ]
      },
      {
       "output_type": "stream",
       "stream": "stdout",
       "text": [
        " 1 x0:  [ 23.5  19.8] xt:  [23.499958903946396, 19.798959771582005]\n",
        "iteration:  1 x0:  [ 23.75  20.2 ] xt:  [23.748224525754836, 20.19443462872913]\n",
        "iteration:  1 x0:  [ 25.15  19.8 ] xt:  [25.149802790401047, 19.797719521232473]\n",
        "iteration: "
       ]
      },
      {
       "output_type": "stream",
       "stream": "stdout",
       "text": [
        " 16 x0:  [ 25.5   19.45] xt:  [25.451555686139617, 19.483370268807327]\n",
        "iteration:  1 x0:  [ 23.  18.] xt:  [22.997922579532705, 18.001406023064284]\n",
        "iteration: "
       ]
      },
      {
       "output_type": "stream",
       "stream": "stdout",
       "text": [
        " 105 x0:  [ 23.95  17.75] xt:  [23.479597323119972, 17.963430413509915]\n",
        "iteration:  1 x0:  [ 25.9   17.55] xt:  [25.899522494801559, 17.550488814903179]\n",
        "iteration:  1 x0:  [ 27.65  15.65] xt:  [27.649979126523981, 15.650021812959942]\n",
        "iteration: "
       ]
      },
      {
       "output_type": "stream",
       "stream": "stdout",
       "text": [
        " 114 x0:  [ 23.1  14.6] xt:  [23.604211573671449, 14.877754830479052]\n",
        "iteration: "
       ]
      },
      {
       "output_type": "stream",
       "stream": "stdout",
       "text": [
        " 30 x0:  [ 23.5  15.2] xt:  [23.577603495099563, 15.066375669459562]\n",
        "iteration:  1 x0:  [ 24.05  14.9 ] xt:  [24.04656693191453, 14.899496047787332]\n",
        "iteration: "
       ]
      },
      {
       "output_type": "stream",
       "stream": "stdout",
       "text": [
        " 50 x0:  [ 24.5  14.7] xt:  [24.186592847323329, 14.801942718776132]\n",
        "iteration: "
       ]
      },
      {
       "output_type": "stream",
       "stream": "stdout",
       "text": [
        " 15 x0:  [ 14.15  17.35] xt:  [14.172279333768836, 17.277780582020981]\n",
        "iteration:  1 x0:  [ 14.3  16.8] xt:  [14.300851153289516, 16.798871081038541]\n",
        "iteration: "
       ]
      },
      {
       "output_type": "stream",
       "stream": "stdout",
       "text": [
        " 405 x0:  [ 14.3   15.75] xt:  [17.005118891530188, 14.839480491100627]\n",
        "iteration: "
       ]
      },
      {
       "output_type": "stream",
       "stream": "stdout",
       "text": [
        " 252 x0:  [ 14.75  15.1 ] xt:  [17.005161543650246, 14.829813157570687]\n",
        "iteration: "
       ]
      },
      {
       "output_type": "stream",
       "stream": "stdout",
       "text": [
        " 143 x0:  [ 15.35  15.5 ] xt:  [17.00380088349139, 14.844780341433411]\n",
        "iteration: "
       ]
      },
      {
       "output_type": "stream",
       "stream": "stdout",
       "text": [
        " 128 x0:  [ 15.95  16.45] xt:  [16.986374833546559, 15.021959756795413]\n",
        "iteration: "
       ]
      },
      {
       "output_type": "stream",
       "stream": "stdout",
       "text": [
        " 144 x0:  [ 16.5   17.05] xt:  [16.975075585559708, 15.128643705383839]\n",
        "iteration:  1 x0:  [ 17.35  17.05] xt:  [17.341911961153809, 17.039507924996375]\n",
        "iteration:  1 x0:  [ 17.15  16.3 ] xt:  [17.141174374637981, 16.285384612978191]\n",
        "iteration: "
       ]
      },
      {
       "output_type": "stream",
       "stream": "stdout",
       "text": [
        " 78 x0:  [ 16.65  16.1 ] xt:  [16.979918996844425, 15.08033764446]\n",
        "iteration: "
       ]
      },
      {
       "output_type": "stream",
       "stream": "stdout",
       "text": [
        " 62 x0:  [ 16.5   15.15] xt:  [17.005433887111934, 14.833245172342815]\n",
        "iteration: "
       ]
      },
      {
       "output_type": "stream",
       "stream": "stdout",
       "text": [
        " 71 x0:  [ 16.25  14.95] xt:  [17.01181570851378, 14.770695001062577]\n",
        "iteration: "
       ]
      },
      {
       "output_type": "stream",
       "stream": "stdout",
       "text": [
        " 84 x0:  [ 16.    14.25] xt:  [17.036167936604638, 14.604932927720467]\n",
        "iteration: "
       ]
      },
      {
       "output_type": "stream",
       "stream": "stdout",
       "text": [
        " 249 x0:  [ 15.9  13.2] xt:  [17.062820290510714, 14.59754041972546]\n",
        "iteration: "
       ]
      },
      {
       "output_type": "stream",
       "stream": "stdout",
       "text": [
        " 186 x0:  [ 15.15  12.05] xt:  [16.630643945418896, 12.102342943739368]\n",
        "iteration: "
       ]
      },
      {
       "output_type": "stream",
       "stream": "stdout",
       "text": [
        " 185 x0:  [ 15.2  11.7] xt:  [16.632449729022053, 12.076878036840647]\n",
        "iteration:  1 x0:  [ 17.    15.65] xt:  [16.997691052869961, 15.633856264202215]\n",
        "iteration: "
       ]
      },
      {
       "output_type": "stream",
       "stream": "stdout",
       "text": [
        " 31 x0:  [ 16.9   15.35] xt:  [16.983516685548448, 15.044542981743707]\n",
        "iteration:  1 x0:  [ 17.35  15.45] xt:  [17.332744762016464, 15.434916868909497]\n",
        "iteration:  1 x0:  [ 17.15  15.1 ] xt:  [17.142745533645066, 15.090778017871195]\n",
        "iteration: "
       ]
      },
      {
       "output_type": "stream",
       "stream": "stdout",
       "text": [
        " 1 x0:  [ 17.3  14.9] xt:  [17.285952551616244, 14.89410822720196]\n",
        "iteration:  1 x0:  [ 17.7  15. ] xt:  [17.671459334971701, 14.991644480032807]\n",
        "iteration: "
       ]
      },
      {
       "output_type": "stream",
       "stream": "stdout",
       "text": [
        " 12 x0:  [ 17.   14.6] xt:  [17.027123913454599, 14.617269948904831]\n",
        "iteration: "
       ]
      },
      {
       "output_type": "stream",
       "stream": "stdout",
       "text": [
        " 81 x0:  [ 16.85  14.3 ] xt:  [17.059199250753373, 14.599115354762475]\n",
        "iteration: "
       ]
      },
      {
       "output_type": "stream",
       "stream": "stdout",
       "text": [
        " 110 x0:  [ 16.6   14.05] xt:  [17.060859374949388, 14.598676575599173]\n",
        "iteration: "
       ]
      },
      {
       "output_type": "stream",
       "stream": "stdout",
       "text": [
        " 118 x0:  [ 17.1  14. ] xt:  [17.062782092637871, 14.598178666367147]\n",
        "iteration: "
       ]
      },
      {
       "output_type": "stream",
       "stream": "stdout",
       "text": [
        " 108 x0:  [ 17.45  14.15] xt:  [17.064000663344537, 14.59758167673416]\n",
        "iteration: "
       ]
      },
      {
       "output_type": "stream",
       "stream": "stdout",
       "text": [
        " 109 x0:  [ 17.8  14.2] xt:  [17.065315979699896, 14.596648798121945]\n",
        "iteration: "
       ]
      },
      {
       "output_type": "stream",
       "stream": "stdout",
       "text": [
        " 134 x0:  [ 17.6   13.85] xt:  [17.063468309104174, 14.596794184061197]\n",
        "iteration: "
       ]
      },
      {
       "output_type": "stream",
       "stream": "stdout",
       "text": [
        " 158 x0:  [ 17.2  13.5] xt:  [17.062845327719824, 14.598049689253546]\n",
        "iteration: "
       ]
      },
      {
       "output_type": "stream",
       "stream": "stdout",
       "text": [
        " 190 x0:  [ 17.25  13.15] xt:  [17.0628740400231, 14.597668354557117]\n",
        "iteration: "
       ]
      },
      {
       "output_type": "stream",
       "stream": "stdout",
       "text": [
        " 280 x0:  [ 17.1   12.75] xt:  [17.062900352751008, 14.59726251945653]\n",
        "iteration:  1 x0:  [ 16.95  12.35] xt:  [16.945128395066561, 12.350071539704134]\n",
        "iteration: "
       ]
      },
      {
       "output_type": "stream",
       "stream": "stdout",
       "text": [
        " 46 x0:  [ 16.5  12.2] xt:  [16.628418288963083, 12.176614092421795]\n",
        "iteration: "
       ]
      },
      {
       "output_type": "stream",
       "stream": "stdout",
       "text": [
        " 82 x0:  [ 16.25  12.5 ] xt:  [16.643502347411129, 12.33458837735979]\n",
        "iteration: "
       ]
      },
      {
       "output_type": "stream",
       "stream": "stdout",
       "text": [
        " 106 x0:  [ 16.05  11.9 ] xt:  [16.636361554621335, 12.043708737874315]\n",
        "iteration: "
       ]
      },
      {
       "output_type": "stream",
       "stream": "stdout",
       "text": [
        " 97 x0:  [ 16.65  10.9 ] xt:  [17.174784387018825, 10.950449632622668]\n",
        "iteration: "
       ]
      },
      {
       "output_type": "stream",
       "stream": "stdout",
       "text": [
        " 48 x0:  [ 16.7  11.4] xt:  [16.866044726326738, 11.48019690954839]\n",
        "iteration: "
       ]
      },
      {
       "output_type": "stream",
       "stream": "stdout",
       "text": [
        " 26 x0:  [ 16.95  11.25] xt:  [17.007640814449889, 11.248923827755657]\n",
        "iteration:  1 x0:  [ 17.3  11.2] xt:  [17.296420853014673, 11.196333022096123]\n",
        "iteration:  1 x0:  [ 18.05  11.9 ] xt:  [18.044646286568906, 11.896246840014445]\n",
        "iteration: "
       ]
      },
      {
       "output_type": "stream",
       "stream": "stdout",
       "text": [
        " 1 x0:  [ 18.6  12.5] xt:  [18.593182379927367, 12.493187818417335]\n",
        "iteration:  1 x0:  [ 18.9   12.05] xt:  [18.890280889295237, 12.047346374308052]\n",
        "iteration:  1 x0:  [ 18.7   11.25] xt:  [18.689177055045427, 11.25081769089249]\n",
        "iteration: "
       ]
      },
      {
       "output_type": "stream",
       "stream": "stdout",
       "text": [
        " 1 x0:  [ 17.95  10.9 ] xt:  [17.939292032671645, 10.895487405550623]\n",
        "iteration:  1 x0:  [ 18.4   10.05] xt:  [18.390861653568727, 10.047420690958202]\n",
        "iteration:  1 x0:  [ 17.45  10.4 ] xt:  [17.44884149673949, 10.39905538581772]\n",
        "iteration: "
       ]
      },
      {
       "output_type": "stream",
       "stream": "stdout",
       "text": [
        " 63 x0:  [ 17.6   10.15] xt:  [17.456596824016703, 10.248782860474005]\n",
        "iteration: "
       ]
      },
      {
       "output_type": "stream",
       "stream": "stdout",
       "text": [
        " 128 x0:  [ 17.7    9.85] xt:  [17.437563457034344, 10.252055335516539]\n",
        "iteration: "
       ]
      },
      {
       "output_type": "stream",
       "stream": "stdout",
       "text": [
        " 140 x0:  [ 17.3   9.7] xt:  [17.428342280397864, 10.254186294825789]\n",
        "iteration: "
       ]
      },
      {
       "output_type": "stream",
       "stream": "stdout",
       "text": [
        " 140 x0:  [ 16.95   9.7 ] xt:  [17.422961292021913, 10.255149208804303]\n",
        "iteration: "
       ]
      },
      {
       "output_type": "stream",
       "stream": "stdout",
       "text": [
        " 146 x0:  [ 16.75   9.65] xt:  [17.421315947510571, 10.255196629008067]\n",
        "iteration:  1 x0:  [ 19.8    9.95] xt:  [19.793068419049284, 9.9326960784197649]\n",
        "iteration: "
       ]
      },
      {
       "output_type": "stream",
       "stream": "stdout",
       "text": [
        " 63 x0:  [ 19.1    9.55] xt:  [19.312798468698176, 8.8552736168106136]\n",
        "iteration: "
       ]
      },
      {
       "output_type": "stream",
       "stream": "stdout",
       "text": [
        " 487 x0:  [ 17.5   8.3] xt:  [19.269589514900332, 8.6058125841401285]\n",
        "iteration: "
       ]
      },
      {
       "output_type": "stream",
       "stream": "stdout",
       "text": [
        " 502 x0:  [ 17.55   8.1 ] xt:  [19.269350285748185, 8.6055882579907301]\n",
        "iteration: "
       ]
      },
      {
       "output_type": "stream",
       "stream": "stdout",
       "text": [
        " 554 x0:  [ 17.85   7.55] xt:  [19.269807591430641, 8.606006296774833]\n",
        "iteration: "
       ]
      },
      {
       "output_type": "stream",
       "stream": "stdout",
       "text": [
        " 367 x0:  [ 18.2    8.35] xt:  [19.269565419976345, 8.6058197695096492]\n",
        "iteration: "
       ]
      },
      {
       "output_type": "stream",
       "stream": "stdout",
       "text": [
        " 13 x0:  [ 19.3   9.1] xt:  [19.32827338484816, 8.9720007266098527]\n",
        "iteration:  1 x0:  [ 19.4    8.85] xt:  [19.400008212711718, 8.8452833571168714]\n",
        "iteration: "
       ]
      },
      {
       "output_type": "stream",
       "stream": "stdout",
       "text": [
        " 52 x0:  [ 19.05   8.85] xt:  [19.257643688837625, 8.6830624361560655]\n",
        "iteration: "
       ]
      },
      {
       "output_type": "stream",
       "stream": "stdout",
       "text": [
        " 139 x0:  [ 18.9   8.5] xt:  [19.262113138205894, 8.6024984012792149]\n",
        "iteration: "
       ]
      },
      {
       "output_type": "stream",
       "stream": "stdout",
       "text": [
        " 450 x0:  [ 18.6    7.85] xt:  [19.269374659307488, 8.6056071266989882]\n",
        "iteration: "
       ]
      },
      {
       "output_type": "stream",
       "stream": "stdout",
       "text": [
        " 521 x0:  [ 18.7    7.65] xt:  [19.269143623271852, 8.6053925104984046]\n",
        "iteration: "
       ]
      },
      {
       "output_type": "stream",
       "stream": "stdout",
       "text": [
        " 129 x0:  [ 19.35   8.2 ] xt:  [19.286786323527817, 8.613023304993332]\n",
        "iteration: "
       ]
      },
      {
       "output_type": "stream",
       "stream": "stdout",
       "text": [
        " 79 x0:  [ 19.95   8.3 ] xt:  [19.512398564196324, 8.681128568115712]\n",
        "iteration:  1 x0:  [ 20.    8.9] xt:  [19.992041098486901, 8.894286387808366]\n",
        "iteration:  1 x0:  [ 20.3   8.9] xt:  [20.291908029211481, 8.8932967631446438]\n",
        "iteration:  1 x0:  [ 20.55   8.8 ] xt:  [20.543631242029491, 8.7952552749725061]\n",
        "iteration: "
       ]
      },
      {
       "output_type": "stream",
       "stream": "stdout",
       "text": [
        " 660 x0:  [ 18.35   6.95] xt:  [19.269600818112853, 8.6058147280516621]\n",
        "iteration: "
       ]
      },
      {
       "output_type": "stream",
       "stream": "stdout",
       "text": [
        " 678 x0:  [ 18.65   6.9 ] xt:  [19.269631629602614, 8.6058431569084437]\n",
        "iteration: "
       ]
      },
      {
       "output_type": "stream",
       "stream": "stdout",
       "text": [
        " 701 x0:  [ 19.3   7. ] xt:  [19.269201339370568, 8.6054457352347722]\n",
        "iteration: "
       ]
      },
      {
       "output_type": "stream",
       "stream": "stdout",
       "text": [
        " 703 x0:  [ 19.1    6.85] xt:  [19.268963807798343, 8.6052261807696357]\n",
        "iteration: "
       ]
      },
      {
       "output_type": "stream",
       "stream": "stdout",
       "text": [
        " 722 x0:  [ 19.15   6.65] xt:  [19.269388891816678, 8.6056190100864676]\n",
        "iteration:  1 x0:  [ 21.2   8.8] xt:  [21.194499561041354, 8.7906771811432627]\n",
        "iteration:  1 x0:  [ 21.4   8.8] xt:  [21.392900781996612, 8.789565674768415]\n",
        "iteration: "
       ]
      },
      {
       "output_type": "stream",
       "stream": "stdout",
       "text": [
        " 319 x0:  [ 21.1   8. ] xt:  [20.007323521010239, 8.7091618188772806]\n",
        "iteration: "
       ]
      },
      {
       "output_type": "stream",
       "stream": "stdout",
       "text": [
        " 86 x0:  [ 20.4   7. ] xt:  [20.631304197824186, 6.5587625496481996]\n",
        "iteration: "
       ]
      },
      {
       "output_type": "stream",
       "stream": "stdout",
       "text": [
        " 48 x0:  [ 20.5    6.35] xt:  [20.658574502687728, 6.3947273626498706]\n",
        "iteration: "
       ]
      },
      {
       "output_type": "stream",
       "stream": "stdout",
       "text": [
        " 100 x0:  [ 20.1    6.05] xt:  [20.661240859597704, 6.3843069414138007]\n",
        "iteration: "
       ]
      },
      {
       "output_type": "stream",
       "stream": "stdout",
       "text": [
        " 254 x0:  [ 20.45   5.15] xt:  [20.787253222080917, 6.3583527465276575]\n",
        "iteration: "
       ]
      },
      {
       "output_type": "stream",
       "stream": "stdout",
       "text": [
        " 246 x0:  [ 20.95   5.55] xt:  [20.792429586223609, 6.3573072008199762]\n",
        "iteration: "
       ]
      },
      {
       "output_type": "stream",
       "stream": "stdout",
       "text": [
        " 111 x0:  [ 20.95   6.2 ] xt:  [20.799476670076338, 6.3566263709325916]\n",
        "iteration:  1 x0:  [ 20.9   6.6] xt:  [20.897402902087705, 6.5963802178459456]\n",
        "iteration:  1 x0:  [ 21.05   7.  ] xt:  [21.046687041737719, 6.9932283508272137]\n",
        "iteration:  1 x0:  [ 21.85   8.5 ] xt:  [21.838558500800549, 8.4947931318823375]\n",
        "iteration: "
       ]
      },
      {
       "output_type": "stream",
       "stream": "stdout",
       "text": [
        " 1 x0:  [ 21.9   8.2] xt:  [21.88995857403772, 8.2002329776514884]\n",
        "iteration:  1 x0:  [ 22.3   7.7] xt:  [22.291114633634635, 7.6992741657860098]\n",
        "iteration:  1 x0:  [ 21.85   6.65] xt:  [21.847219803685352, 6.6450015464885777]\n",
        "iteration: "
       ]
      },
      {
       "output_type": "stream",
       "stream": "stdout",
       "text": [
        " 137 x0:  [ 21.3    5.05] xt:  [22.819663815559259, 4.9763955267522952]\n",
        "iteration:  1 x0:  [ 22.6   6.7] xt:  [22.599770352216041, 6.6886961669925666]\n",
        "iteration: "
       ]
      },
      {
       "output_type": "stream",
       "stream": "stdout",
       "text": [
        " 61 x0:  [ 22.5    6.15] xt:  [22.793190790590696, 5.2735343746894809]\n",
        "iteration:  1 x0:  [ 23.65   7.2 ] xt:  [23.650898098249876, 7.1873900386080782]\n",
        "iteration:  1 x0:  [ 24.1   7. ] xt:  [24.098733752696401, 6.986551547246286]\n",
        "iteration: "
       ]
      },
      {
       "output_type": "stream",
       "stream": "stdout",
       "text": [
        " 86 x0:  [ 21.95   4.8 ] xt:  [22.822690397097873, 4.9520749254283407]\n",
        "iteration: "
       ]
      },
      {
       "output_type": "stream",
       "stream": "stdout",
       "text": [
        " 78 x0:  [ 22.15   5.05] xt:  [22.820004075213614, 4.9679398108147135]\n",
        "iteration: "
       ]
      },
      {
       "output_type": "stream",
       "stream": "stdout",
       "text": [
        " 61 x0:  [ 22.45   5.3 ] xt:  [22.812683799250372, 5.0114459563300455]\n",
        "iteration: "
       ]
      },
      {
       "output_type": "stream",
       "stream": "stdout",
       "text": [
        " 58 x0:  [ 22.45   4.9 ] xt:  [22.825103319763652, 4.9436453296646112]\n",
        "iteration: "
       ]
      },
      {
       "output_type": "stream",
       "stream": "stdout",
       "text": [
        " 28 x0:  [ 22.7   5.5] xt:  [22.795736771983712, 5.2085184128382194]\n",
        "iteration:  1 x0:  [ 23.    5.6] xt:  [22.997459266139714, 5.5856654909209533]\n",
        "iteration:  1 x0:  [ 23.2   5.3] xt:  [23.191447895373525, 5.2913474962860443]\n",
        "iteration: "
       ]
      },
      {
       "output_type": "stream",
       "stream": "stdout",
       "text": [
        " 1 x0:  [ 23.45   5.95] xt:  [23.444643602323424, 5.9370134227716536]\n",
        "iteration:  1 x0:  [ 23.75   5.95] xt:  [23.743996673839316, 5.9411345201030326]\n",
        "iteration:  1 x0:  [ 24.45   6.15] xt:  [24.44499516311452, 6.1464206340199876]\n",
        "iteration: "
       ]
      },
      {
       "output_type": "stream",
       "stream": "stdout",
       "text": [
        " 1 x0:  [ 24.6    6.45] xt:  [24.594942744035009, 6.4423204397677774]\n",
        "iteration:  1 x0:  [ 25.2    6.55] xt:  [25.193080211926141, 6.5406393896601021]\n",
        "iteration:  1 x0:  [ 26.05   6.4 ] xt:  [26.047217339840678, 6.3898336164993097]\n",
        "iteration: "
       ]
      },
      {
       "output_type": "stream",
       "stream": "stdout",
       "text": [
        " 1 x0:  [ 25.3    5.75] xt:  [25.295224928281126, 5.7495859159823484]\n",
        "iteration:  1 x0:  [ 24.35   5.35] xt:  [24.341125527116013, 5.3452862560271788]\n",
        "iteration:  1 x0:  [ 23.3   4.9] xt:  [23.290498284899726, 4.8970631169136141]\n",
        "iteration: "
       ]
      },
      {
       "output_type": "stream",
       "stream": "stdout",
       "text": [
        " 93 x0:  [ 22.95   4.75] xt:  [22.917994237924109, 4.8875313839137728]\n",
        "iteration: "
       ]
      },
      {
       "output_type": "stream",
       "stream": "stdout",
       "text": [
        " 84 x0:  [ 22.4    4.55] xt:  [22.87895126167793, 4.9004212990451874]\n",
        "iteration: "
       ]
      },
      {
       "output_type": "stream",
       "stream": "stdout",
       "text": [
        " 178 x0:  [ 22.8   4.1] xt:  [22.920364794979712, 4.8865304786531949]\n",
        "iteration: "
       ]
      },
      {
       "output_type": "stream",
       "stream": "stdout",
       "text": [
        " 198 x0:  [ 22.9   4. ] xt:  [22.920992805858869, 4.8863301843998226]\n",
        "iteration: "
       ]
      },
      {
       "output_type": "stream",
       "stream": "stdout",
       "text": [
        " 246 x0:  [ 23.25   3.85] xt:  [22.921406243204949, 4.8863104195140554]\n",
        "iteration: "
       ]
      },
      {
       "output_type": "stream",
       "stream": "stdout",
       "text": [
        " 288 x0:  [ 23.45   3.6 ] xt:  [22.921403475789766, 4.8863951906023626]\n",
        "iteration: "
       ]
      },
      {
       "output_type": "stream",
       "stream": "stdout",
       "text": [
        " 252 x0:  [ 23.55   4.2 ] xt:  [22.92151807217931, 4.8862556452050256]\n",
        "iteration: "
       ]
      },
      {
       "output_type": "stream",
       "stream": "stdout",
       "text": [
        " 352 x0:  [ 23.8    3.65] xt:  [22.921535624224955, 4.8862560596023457]\n",
        "iteration:  1 x0:  [ 23.8    4.75] xt:  [23.789768089836191, 4.7434291326679547]\n",
        "iteration: "
       ]
      },
      {
       "output_type": "stream",
       "stream": "stdout",
       "text": [
        " 70 x0:  [ 24.2   4. ] xt:  [24.206401758877259, 4.120895499370822]\n",
        "iteration: "
       ]
      },
      {
       "output_type": "stream",
       "stream": "stdout",
       "text": [
        " 27 x0:  [ 24.55   4.  ] xt:  [24.567997470802609, 4.0219701372242547]\n",
        "iteration: "
       ]
      },
      {
       "output_type": "stream",
       "stream": "stdout",
       "text": [
        " 68 x0:  [ 24.7    3.85] xt:  [24.711135612694072, 3.9878140068726613]\n",
        "iteration:  1 x0:  [ 24.7   4.3] xt:  [24.697191417426737, 4.2898535096810786]\n",
        "iteration:  1 x0:  [ 24.9    4.75] xt:  [24.893996888796988, 4.7347808356209802]\n",
        "iteration: "
       ]
      },
      {
       "output_type": "stream",
       "stream": "stdout",
       "text": [
        " 75 x0:  [ 26.4   5.7] xt:  [26.824959993622244, 5.1761823159355309]\n",
        "iteration:  1 x0:  [ 27.15   5.95] xt:  [27.148000300745597, 5.9327053290468017]\n",
        "iteration:  1 x0:  [ 27.3    5.45] xt:  [27.29551083780866, 5.4427786449401792]\n",
        "iteration:  1 x0:  [ 27.5    5.45] xt:  [27.493620819310681, 5.4433810353269063]\n",
        "iteration: "
       ]
      },
      {
       "output_type": "stream",
       "stream": "stdout",
       "text": [
        " 42 x0:  [ 27.55   5.1 ] xt:  [27.278200393267902, 5.1629110175813535]\n",
        "iteration: "
       ]
      },
      {
       "output_type": "stream",
       "stream": "stdout",
       "text": [
        " 68 x0:  [ 26.85   4.95] xt:  [26.859358186303048, 5.0075928074705454]\n",
        "iteration: "
       ]
      },
      {
       "output_type": "stream",
       "stream": "stdout",
       "text": [
        " 11 x0:  [ 26.6   4.9] xt:  [26.631753328938839, 4.8909183178049513]\n",
        "iteration: "
       ]
      },
      {
       "output_type": "stream",
       "stream": "stdout",
       "text": [
        " 371 x0:  [ 26.85   4.4 ] xt:  [26.841069382442612, 4.9962665020020633]\n",
        "iteration:  1 x0:  [ 26.2   4.4] xt:  [26.19744405849471, 4.3978526594351859]\n",
        "iteration:  1 x0:  [ 26.     4.25] xt:  [25.994635609155296, 4.2467517119863265]\n",
        "iteration:  1 x0:  [ 25.15   4.1 ] xt:  [25.144362224374916, 4.0934897387527656]\n",
        "iteration: "
       ]
      },
      {
       "output_type": "stream",
       "stream": "stdout",
       "text": [
        " 14 x0:  [ 25.6   3.9] xt:  [25.473426894858644, 3.9101040980690556]\n",
        "iteration: "
       ]
      },
      {
       "output_type": "stream",
       "stream": "stdout",
       "text": [
        " 178 x0:  [ 25.85   3.6 ] xt:  [24.869586800348365, 3.9539611873490541]\n",
        "iteration: "
       ]
      },
      {
       "output_type": "stream",
       "stream": "stdout",
       "text": [
        " 125 x0:  [ 24.95   3.35] xt:  [24.812529626809933, 3.9654167004890892]\n",
        "iteration: "
       ]
      },
      {
       "output_type": "stream",
       "stream": "stdout",
       "text": [
        " 140 x0:  [ 25.1    3.25] xt:  [24.828931008042165, 3.962165449256323]\n",
        "iteration: "
       ]
      },
      {
       "output_type": "stream",
       "stream": "stdout",
       "text": [
        " 163 x0:  [ 25.45   3.15] xt:  [24.848959173778361, 3.9580567013799159]\n",
        "iteration: "
       ]
      },
      {
       "output_type": "stream",
       "stream": "stdout",
       "text": [
        " 275 x0:  [ 26.85   2.95] xt:  [26.041196130813017, 4.0932688102209669]\n",
        "iteration: "
       ]
      },
      {
       "output_type": "stream",
       "stream": "stdout",
       "text": [
        " 366 x0:  [ 27.15   3.15] xt:  [26.078226348210563, 4.1180432727222476]\n",
        "iteration: "
       ]
      },
      {
       "output_type": "stream",
       "stream": "stdout",
       "text": [
        " 403 x0:  [ 27.2   3. ] xt:  [26.079055279790389, 4.1192415361209438]\n",
        "iteration: "
       ]
      },
      {
       "output_type": "stream",
       "stream": "stdout",
       "text": [
        " 85 x0:  [ 27.95   3.25] xt:  [27.653584142331049, 3.4768620578332352]\n",
        "iteration: "
       ]
      },
      {
       "output_type": "stream",
       "stream": "stdout",
       "text": [
        " 342 x0:  [ 27.95   3.5 ] xt:  [29.309100934947697, 4.3660612383369388]\n",
        "iteration: "
       ]
      },
      {
       "output_type": "stream",
       "stream": "stdout",
       "text": [
        " 63 x0:  [ 28.8    4.05] xt:  [29.324300598755215, 4.3533634468657914]\n",
        "iteration: "
       ]
      },
      {
       "output_type": "stream",
       "stream": "stdout",
       "text": [
        " 65 x0:  [ 28.8   4.7] xt:  [29.295583685180805, 4.4141817334367275]\n",
        "iteration: "
       ]
      },
      {
       "output_type": "stream",
       "stream": "stdout",
       "text": [
        " 98 x0:  [ 28.75   5.45] xt:  [29.286737121234061, 4.4449230011267531]\n",
        "iteration:  1 x0:  [ 28.6    5.75] xt:  [28.602061492447351, 5.7366240213059072]\n",
        "iteration:  1 x0:  [ 29.25   6.3 ] xt:  [29.251756258921805, 6.2896761999353314]\n",
        "iteration: "
       ]
      },
      {
       "output_type": "stream",
       "stream": "stdout",
       "text": [
        " 160 x0:  [ 30.     6.55] xt:  [30.576103835831212, 5.8194918978513277]\n",
        "iteration: "
       ]
      },
      {
       "output_type": "stream",
       "stream": "stdout",
       "text": [
        " 215 x0:  [ 30.6   3.4] xt:  [29.442325128780109, 4.3257348184814104]\n",
        "iteration: "
       ]
      },
      {
       "output_type": "stream",
       "stream": "stdout",
       "text": [
        " 174 x0:  [ 30.05   3.45] xt:  [29.441929378903204, 4.3257146625337244]\n",
        "iteration: "
       ]
      },
      {
       "output_type": "stream",
       "stream": "stdout",
       "text": [
        " 149 x0:  [ 29.75   3.45] xt:  [29.439707347542537, 4.3262614076215611]\n",
        "iteration: "
       ]
      },
      {
       "output_type": "stream",
       "stream": "stdout",
       "text": [
        " 76 x0:  [ 29.2   4. ] xt:  [29.398874962979839, 4.3363652375486348]\n",
        "iteration: "
       ]
      },
      {
       "output_type": "stream",
       "stream": "stdout",
       "text": [
        " 86 x0:  [ 29.45   4.05] xt:  [29.42603415940679, 4.3295977328072164]\n",
        "iteration: "
       ]
      },
      {
       "output_type": "stream",
       "stream": "stdout",
       "text": [
        " 44 x0:  [ 29.05   4.55] xt:  [29.296670502748963, 4.4105698407072822]\n",
        "iteration:  1 x0:  [ 29.4    4.85] xt:  [29.395999342191082, 4.8334064919384545]\n",
        "iteration:  1 x0:  [ 29.5   4.7] xt:  [29.494410288879109, 4.6862622868270662]\n",
        "iteration: "
       ]
      },
      {
       "output_type": "stream",
       "stream": "stdout",
       "text": [
        " 1 x0:  [ 29.9    4.45] xt:  [29.890098956916965, 4.4414932371797669]\n",
        "iteration:  1 x0:  [ 30.75   4.45] xt:  [30.738521714515361, 4.4423350421288328]\n",
        "iteration: "
       ]
      },
      {
       "output_type": "stream",
       "stream": "stdout",
       "text": [
        " 185 x0:  [ 30.4    4.05] xt:  [29.44296970215375, 4.325480040239186]\n",
        "iteration: "
       ]
      },
      {
       "output_type": "stream",
       "stream": "stdout",
       "text": [
        " 218 x0:  [ 30.8    3.95] xt:  [29.443360481165598, 4.3252877486334675]\n",
        "iteration: "
       ]
      },
      {
       "output_type": "stream",
       "stream": "stdout",
       "text": [
        " 235 x0:  [ 31.05   3.95] xt:  [29.442712885121431, 4.325611383387006]\n",
        "iteration:  1 x0:  [ 30.9   5.2] xt:  [30.896578704429768, 5.1972214107584751]\n",
        "iteration: "
       ]
      },
      {
       "output_type": "stream",
       "stream": "stdout",
       "text": [
        " 3 x0:  [ 30.65   5.85] xt:  [30.659221384898842, 5.8466670106381144]\n",
        "iteration: "
       ]
      },
      {
       "output_type": "stream",
       "stream": "stdout",
       "text": [
        " 301 x0:  [ 30.7    6.15] xt:  [32.473996653418403, 6.2771583937994793]\n",
        "iteration: "
       ]
      },
      {
       "output_type": "stream",
       "stream": "stdout",
       "text": [
        " 127 x0:  [ 31.5    6.25] xt:  [32.468868750700558, 6.2854056583272797]\n",
        "iteration: "
       ]
      },
      {
       "output_type": "stream",
       "stream": "stdout",
       "text": [
        " 109 x0:  [ 31.65   6.55] xt:  [32.464556209872732, 6.306777470753441]\n",
        "iteration: "
       ]
      },
      {
       "output_type": "stream",
       "stream": "stdout",
       "text": [
        " 73 x0:  [ 32.   7.] xt:  [32.436575154649411, 6.4097708154818003]\n",
        "iteration: "
       ]
      },
      {
       "output_type": "stream",
       "stream": "stdout",
       "text": [
        " 12 x0:  [ 32.5    7.95] xt:  [32.539723626688485, 7.7848866862983481]\n",
        "iteration: "
       ]
      },
      {
       "output_type": "stream",
       "stream": "stdout",
       "text": [
        " 225 x0:  [ 33.35   7.45] xt:  [34.556848801348991, 7.1011046614061515]\n",
        "iteration:  1 x0:  [ 32.6    6.95] xt:  [32.600292358570059, 6.9362413949803958]\n",
        "iteration:  1 x0:  [ 32.65   6.6 ] xt:  [32.649163624173738, 6.5919833159133407]\n",
        "iteration:  1 x0:  [ 32.55   6.35] xt:  [32.551523175904499, 6.3476928249710864]\n",
        "iteration: "
       ]
      },
      {
       "output_type": "stream",
       "stream": "stdout",
       "text": [
        " 57 x0:  [ 32.35   6.1 ] xt:  [32.5641200668789, 6.2067675723662354]\n",
        "iteration: "
       ]
      },
      {
       "output_type": "stream",
       "stream": "stdout",
       "text": [
        " 135 x0:  [ 32.55   5.8 ] xt:  [32.752840663770961, 6.1323187051643364]\n",
        "iteration: "
       ]
      },
      {
       "output_type": "stream",
       "stream": "stdout",
       "text": [
        " 352 x0:  [ 32.2    5.05] xt:  [32.871655771776751, 6.0751431612646067]\n",
        "iteration: "
       ]
      },
      {
       "output_type": "stream",
       "stream": "stdout",
       "text": [
        " 473 x0:  [ 32.35   4.25] xt:  [32.905488021626127, 6.0580127272834288]\n",
        "iteration: "
       ]
      },
      {
       "output_type": "stream",
       "stream": "stdout",
       "text": [
        " 465 x0:  [ 32.9    4.15] xt:  [32.913392949723765, 6.0539171801027161]\n",
        "iteration: "
       ]
      },
      {
       "output_type": "stream",
       "stream": "stdout",
       "text": [
        " 433 x0:  [ 32.7   4.6] xt:  [32.909874207054507, 6.0556872519441312]\n",
        "iteration: "
       ]
      },
      {
       "output_type": "stream",
       "stream": "stdout",
       "text": [
        " 401 x0:  [ 32.75   4.85] xt:  [32.908868428777438, 6.0563324393173446]\n",
        "iteration: "
       ]
      },
      {
       "output_type": "stream",
       "stream": "stdout",
       "text": [
        " 251 x0:  [ 34.1   4.6] xt:  [33.512636176835635, 5.8812750188811567]\n",
        "iteration: "
       ]
      },
      {
       "output_type": "stream",
       "stream": "stdout",
       "text": [
        " 216 x0:  [ 34.1   5. ] xt:  [33.631581335140872, 5.9044407064139728]\n",
        "iteration: "
       ]
      },
      {
       "output_type": "stream",
       "stream": "stdout",
       "text": [
        " 217 x0:  [ 33.6    5.25] xt:  [33.381542668750065, 5.8816721922704289]\n",
        "iteration: "
       ]
      },
      {
       "output_type": "stream",
       "stream": "stdout",
       "text": [
        " 181 x0:  [ 33.35   5.65] xt:  [33.212016406722839, 5.9183455251514703]\n",
        "iteration: "
       ]
      },
      {
       "output_type": "stream",
       "stream": "stdout",
       "text": [
        " 8 x0:  [ 33.75   5.95] xt:  [33.748310931206909, 5.9549564698718473]\n",
        "iteration:  1 x0:  [ 33.4   6.2] xt:  [33.399141091035411, 6.1968589098080464]\n",
        "iteration: "
       ]
      },
      {
       "output_type": "stream",
       "stream": "stdout",
       "text": [
        " 377 x0:  [ 34.45   5.8 ] xt:  [34.560839480610561, 7.1031835035303894]\n",
        "iteration: "
       ]
      },
      {
       "output_type": "stream",
       "stream": "stdout",
       "text": [
        " 385 x0:  [ 34.65   5.65] xt:  [34.560890064833963, 7.103279066685011]\n",
        "iteration: "
       ]
      },
      {
       "output_type": "stream",
       "stream": "stdout",
       "text": [
        " 234 x0:  [ 34.65   6.25] xt:  [34.561026140206295, 7.1030025128101233]\n",
        "iteration: "
       ]
      },
      {
       "output_type": "stream",
       "stream": "stdout",
       "text": [
        " 196 x0:  [ 35.25   6.25] xt:  [34.56329878592522, 7.1041488310596774]\n",
        "iteration: "
       ]
      },
      {
       "output_type": "stream",
       "stream": "stdout",
       "text": [
        " 149 x0:  [ 34.35   6.8 ] xt:  [34.56012991926017, 7.1027607373680848]\n",
        "iteration: "
       ]
      },
      {
       "output_type": "stream",
       "stream": "stdout",
       "text": [
        " 50 x0:  [ 34.1    7.15] xt:  [34.458389967643264, 7.0847305093221342]\n",
        "iteration: "
       ]
      },
      {
       "output_type": "stream",
       "stream": "stdout",
       "text": [
        " 13 x0:  [ 34.45   7.3 ] xt:  [34.5055793778794, 7.2513449470637656]\n",
        "iteration:  1 x0:  [ 34.7   7.2] xt:  [34.697110524223014, 7.1999338130481636]\n",
        "iteration: "
       ]
      },
      {
       "output_type": "stream",
       "stream": "stdout",
       "text": [
        " 59 x0:  [ 34.85   7.  ] xt:  [34.619985927099791, 7.1292773376167631]\n",
        "iteration: "
       ]
      },
      {
       "output_type": "stream",
       "stream": "stdout",
       "text": [
        " 31 x0:  [ 34.35   7.75] xt:  [34.559403637864357, 7.4189680884391098]\n",
        "iteration: "
       ]
      },
      {
       "output_type": "stream",
       "stream": "stdout",
       "text": [
        " 17 x0:  [ 34.55   7.85] xt:  [34.64184090075107, 7.6267983436712798]\n",
        "iteration:  1 x0:  [ 35.05   8.  ] xt:  [35.052049821143264, 7.9893699008793115]\n",
        "iteration:  1 x0:  [ 35.5    8.05] xt:  [35.499963359790144, 8.0448486630187777]\n",
        "iteration: "
       ]
      },
      {
       "output_type": "stream",
       "stream": "stdout",
       "text": [
        " 82 x0:  [ 35.8   7.1] xt:  [35.317313726182419, 7.5513893535535059]\n",
        "iteration: "
       ]
      },
      {
       "output_type": "stream",
       "stream": "stdout",
       "text": [
        " 180 x0:  [ 36.6   6.7] xt:  [35.704118067951619, 7.7606705139239596]\n",
        "iteration: "
       ]
      },
      {
       "output_type": "stream",
       "stream": "stdout",
       "text": [
        " 164 x0:  [ 36.75   7.25] xt:  [35.747152924264732, 7.7725808075854612]\n",
        "iteration: "
       ]
      },
      {
       "output_type": "stream",
       "stream": "stdout",
       "text": [
        " 134 x0:  [ 36.5   7.4] xt:  [35.747690050823607, 7.7725611340288632]\n",
        "iteration:  1 x0:  [ 35.95   7.9 ] xt:  [35.945007821679582, 7.8991311260503512]\n",
        "iteration:  1 x0:  [ 36.1   8.1] xt:  [36.092668555727762, 8.0970344531313945]\n",
        "iteration:  1 x0:  [ 36.15   8.4 ] xt:  [36.14228536859153, 8.3974637753594639]\n",
        "iteration: "
       ]
      },
      {
       "output_type": "stream",
       "stream": "stdout",
       "text": [
        " 40 x0:  [ 37.6    7.35] xt:  [37.225321284199488, 7.4000732853040443]\n",
        "iteration:  1 x0:  [ 37.9    7.65] xt:  [37.891306779638718, 7.6475599890015333]\n",
        "iteration: "
       ]
      },
      {
       "output_type": "stream",
       "stream": "stdout",
       "text": [
        " 32 x0:  [ 29.15   4.4 ] xt:  [29.30542943385899, 4.3832519325735042]\n",
        "iteration: "
       ]
      },
      {
       "output_type": "stream",
       "stream": "stdout",
       "text": [
        " 81 x0:  [ 34.9   9. ] xt:  [35.588253678310409, 8.5399556713999107]\n",
        "iteration: "
       ]
      },
      {
       "output_type": "stream",
       "stream": "stdout",
       "text": [
        " 226 x0:  [ 35.3   9.4] xt:  [36.365454572191297, 9.8001643214568457]\n",
        "iteration: "
       ]
      },
      {
       "output_type": "stream",
       "stream": "stdout",
       "text": [
        " 175 x0:  [ 35.9    9.35] xt:  [36.365396047499303, 9.7999892159035191]\n",
        "iteration: "
       ]
      },
      {
       "output_type": "stream",
       "stream": "stdout",
       "text": [
        " 119 x0:  [ 36.     9.65] xt:  [36.359524565144646, 9.7967755778092673]\n",
        "iteration: "
       ]
      },
      {
       "output_type": "stream",
       "stream": "stdout",
       "text": [
        " 58 x0:  [ 35.75  10.  ] xt:  [36.254634277073158, 9.7847077462087739]\n",
        "iteration: "
       ]
      },
      {
       "output_type": "stream",
       "stream": "stdout",
       "text": [
        " 137 x0:  [ 36.7    9.15] xt:  [36.381169856832699, 9.8091263182007218]\n",
        "iteration: "
       ]
      },
      {
       "output_type": "stream",
       "stream": "stdout",
       "text": [
        " 35 x0:  [ 36.6   9.8] xt:  [36.498377269062019, 9.8746223089608947]\n",
        "iteration: "
       ]
      },
      {
       "output_type": "stream",
       "stream": "stdout",
       "text": [
        " 49 x0:  [ 36.9    9.75] xt:  [36.59448076741387, 9.9314302494475797]\n",
        "iteration: "
       ]
      },
      {
       "output_type": "stream",
       "stream": "stdout",
       "text": [
        " 38 x0:  [ 37.25  10.15] xt:  [36.974822195920773, 10.260649356131175]\n",
        "iteration: "
       ]
      },
      {
       "output_type": "stream",
       "stream": "stdout",
       "text": [
        " 7 x0:  [ 36.4   10.15] xt:  [36.428282976001356, 10.11003183975051]\n",
        "iteration: "
       ]
      },
      {
       "output_type": "stream",
       "stream": "stdout",
       "text": [
        " 36 x0:  [ 36.3  10.7] xt:  [36.595192327716482, 10.368202817873785]\n",
        "iteration: "
       ]
      },
      {
       "output_type": "stream",
       "stream": "stdout",
       "text": [
        " 34 x0:  [ 36.75  10.85] xt:  [36.951686798358459, 10.762946795466318]\n",
        "iteration: "
       ]
      },
      {
       "output_type": "stream",
       "stream": "stdout",
       "text": [
        " 139 x0:  [ 38.15   9.7 ] xt:  [37.062766168915132, 10.442123813514876]\n",
        "iteration: "
       ]
      },
      {
       "output_type": "stream",
       "stream": "stdout",
       "text": [
        " 171 x0:  [ 38.4    9.45] xt:  [37.063235691017383, 10.438955998882085]\n",
        "iteration: "
       ]
      },
      {
       "output_type": "stream",
       "stream": "stdout",
       "text": [
        " 281 x0:  [ 38.35  10.5 ] xt:  [37.476214482756546, 11.799995336230369]\n",
        "iteration: "
       ]
      },
      {
       "output_type": "stream",
       "stream": "stdout",
       "text": [
        " 226 x0:  [ 37.7  10.8] xt:  [37.476086171685907, 11.799457897910711]\n",
        "iteration: "
       ]
      },
      {
       "output_type": "stream",
       "stream": "stdout",
       "text": [
        " 172 x0:  [ 37.45  11.15] xt:  [37.476355775865187, 11.799840394650188]\n",
        "iteration: "
       ]
      },
      {
       "output_type": "stream",
       "stream": "stdout",
       "text": [
        " 133 x0:  [ 37.35  11.4 ] xt:  [37.475655591296899, 11.799900298651396]\n",
        "iteration: "
       ]
      },
      {
       "output_type": "stream",
       "stream": "stdout",
       "text": [
        " 45 x0:  [ 37.    11.75] xt:  [37.372986757931415, 11.778078706116357]\n",
        "iteration: "
       ]
      },
      {
       "output_type": "stream",
       "stream": "stdout",
       "text": [
        " 55 x0:  [ 36.8  12.2] xt:  [37.392861812753218, 11.972533531812946]\n",
        "iteration: "
       ]
      },
      {
       "output_type": "stream",
       "stream": "stdout",
       "text": [
        " 37 x0:  [ 37.15  12.55] xt:  [37.418474642607805, 12.222381882810982]\n",
        "iteration: "
       ]
      },
      {
       "output_type": "stream",
       "stream": "stdout",
       "text": [
        " 26 x0:  [ 37.25  12.15] xt:  [37.402013040373809, 12.037279398426438]\n",
        "iteration:  1 x0:  [ 37.65  11.95] xt:  [37.646334114140743, 11.949341168824082]\n",
        "iteration: "
       ]
      },
      {
       "output_type": "stream",
       "stream": "stdout",
       "text": [
        " 22 x0:  [ 37.95  11.85] xt:  [37.781074646571497, 11.893499266386243]\n",
        "iteration: "
       ]
      },
      {
       "output_type": "stream",
       "stream": "stdout",
       "text": [
        " 62 x0:  [ 38.6   11.75] xt:  [38.208348277372671, 12.084221600563414]\n",
        "iteration: "
       ]
      },
      {
       "output_type": "stream",
       "stream": "stdout",
       "text": [
        " 13 x0:  [ 38.5  12.2] xt:  [38.462616859841596, 12.220265051419265]\n",
        "iteration:  1 x0:  [ 38.    12.95] xt:  [37.999078779824572, 12.942010118240756]\n",
        "iteration: "
       ]
      },
      {
       "output_type": "stream",
       "stream": "stdout",
       "text": [
        " 28 x0:  [ 37.3  13. ] xt:  [37.475537150520523, 12.65437990651316]\n",
        "iteration: "
       ]
      },
      {
       "output_type": "stream",
       "stream": "stdout",
       "text": [
        " 28 x0:  [ 37.5  13.4] xt:  [37.671858885169947, 13.156197804057371]\n",
        "iteration: "
       ]
      },
      {
       "output_type": "stream",
       "stream": "stdout",
       "text": [
        " 47 x0:  [ 37.85  14.5 ] xt:  [38.240077221192649, 14.343622439343743]\n",
        "iteration:  1 x0:  [ 38.3  14.6] xt:  [38.303032274694687, 14.593013125213121]\n",
        "iteration: "
       ]
      },
      {
       "output_type": "stream",
       "stream": "stdout",
       "text": [
        " 30 x0:  [ 38.05  14.45] xt:  [38.239585298746633, 14.361219833492878]\n",
        "iteration:  1 x0:  [ 38.35  14.35] xt:  [38.350393951438264, 14.348975366557719]\n",
        "iteration:  1 x0:  [ 38.5   14.25] xt:  [38.496266111657839, 14.251254449340028]\n",
        "iteration: "
       ]
      },
      {
       "output_type": "stream",
       "stream": "stdout",
       "text": [
        " 1 x0:  [ 39.3  14.2] xt:  [39.292740758267456, 14.201148044811898]\n",
        "iteration:  1 x0:  [ 39.   13.2] xt:  [38.999577540888488, 13.191548576814396]\n",
        "iteration:  1 x0:  [ 38.95  12.9 ] xt:  [38.951896923925673, 12.892101973566009]\n",
        "iteration: "
       ]
      },
      {
       "output_type": "stream",
       "stream": "stdout",
       "text": [
        " 43 x0:  [ 39.2   12.35] xt:  [39.232616748426615, 12.450589866371788]\n",
        "iteration: "
       ]
      },
      {
       "output_type": "stream",
       "stream": "stdout",
       "text": [
        " 92 x0:  [ 39.5  11.8] xt:  [39.36948302028317, 12.465527747819428]\n",
        "iteration: "
       ]
      },
      {
       "output_type": "stream",
       "stream": "stdout",
       "text": [
        " 51 x0:  [ 39.55  12.3 ] xt:  [39.461982941839452, 12.473866193868037]\n",
        "iteration:  1 x0:  [ 39.75  12.75] xt:  [39.746001009079691, 12.743211549379827]\n",
        "iteration:  1 x0:  [ 40.2  12.8] xt:  [40.189418830512793, 12.793540754478114]\n",
        "iteration: "
       ]
      },
      {
       "output_type": "stream",
       "stream": "stdout",
       "text": [
        " 72 x0:  [ 40.4   12.05] xt:  [39.757387467451977, 12.499703010350171]\n",
        "iteration: "
       ]
      },
      {
       "output_type": "stream",
       "stream": "stdout",
       "text": [
        " 19 x0:  [ 40.45  12.5 ] xt:  [40.190391176857602, 12.537526742791806]\n",
        "iteration:  1 x0:  [ 40.55  13.15] xt:  [40.537031301616175, 13.141295992105027]\n",
        "iteration: "
       ]
      },
      {
       "output_type": "stream",
       "stream": "stdout",
       "text": [
        " 416 x0:  [ 40.45  14.5 ] xt:  [40.276440921364468, 16.062716928471936]\n",
        "iteration: "
       ]
      },
      {
       "output_type": "stream",
       "stream": "stdout",
       "text": [
        " 388 x0:  [ 40.2  14.8] xt:  [40.276072471755043, 16.063114332630374]\n",
        "iteration: "
       ]
      },
      {
       "output_type": "stream",
       "stream": "stdout",
       "text": [
        " 375 x0:  [ 40.65  14.9 ] xt:  [40.275925920852764, 16.063842406110869]\n",
        "iteration: "
       ]
      },
      {
       "output_type": "stream",
       "stream": "stdout",
       "text": [
        " 319 x0:  [ 40.6   15.25] xt:  [40.276892971455602, 16.062491500781249]\n",
        "iteration: "
       ]
      },
      {
       "output_type": "stream",
       "stream": "stdout",
       "text": [
        " 325 x0:  [ 41.3  15.3] xt:  [40.278172615685207, 16.062046639977684]\n",
        "iteration:  1 x0:  [ 40.95  15.7 ] xt:  [40.93765170606703, 15.700517483672023]\n",
        "iteration:  1 x0:  [ 41.25  16.8 ] xt:  [41.235805476969333, 16.792390686148131]\n",
        "iteration: "
       ]
      },
      {
       "output_type": "stream",
       "stream": "stdout",
       "text": [
        " 1 x0:  [ 40.95  17.05] xt:  [40.941354479483721, 17.036359216615764]\n",
        "iteration:  1 x0:  [ 40.7   16.45] xt:  [40.691604347362954, 16.444899003532974]\n",
        "iteration:  1 x0:  [ 40.45  16.3 ] xt:  [40.445641409883685, 16.297616759818634]\n",
        "iteration: "
       ]
      },
      {
       "output_type": "stream",
       "stream": "stdout",
       "text": [
        " 9 x0:  [ 39.9  16.2] xt:  [39.912603112204863, 16.215631190736403]\n",
        "iteration: "
       ]
      },
      {
       "output_type": "stream",
       "stream": "stdout",
       "text": [
        " 28 x0:  [ 39.65  16.2 ] xt:  [39.723261280333709, 16.262864485665421]\n",
        "iteration: "
       ]
      },
      {
       "output_type": "stream",
       "stream": "stdout",
       "text": [
        " 154 x0:  [ 39.25  15.5 ] xt:  [39.795789410969022, 16.246607165521294]\n",
        "iteration: "
       ]
      },
      {
       "output_type": "stream",
       "stream": "stdout",
       "text": [
        " 195 x0:  [ 38.85  15.5 ] xt:  [39.702106876143581, 16.266257872655846]\n",
        "iteration: "
       ]
      },
      {
       "output_type": "stream",
       "stream": "stdout",
       "text": [
        " 138 x0:  [ 38.3  16.5] xt:  [39.409147809799244, 16.437653806671232]\n",
        "iteration: "
       ]
      },
      {
       "output_type": "stream",
       "stream": "stdout",
       "text": [
        " 108 x0:  [ 38.75  16.85] xt:  [39.394719813309905, 16.464191688994745]\n",
        "iteration: "
       ]
      },
      {
       "output_type": "stream",
       "stream": "stdout",
       "text": [
        " 75 x0:  [ 39.   16.6] xt:  [39.40106236686389, 16.4529063351122]\n",
        "iteration: "
       ]
      },
      {
       "output_type": "stream",
       "stream": "stdout",
       "text": [
        " 163 x0:  [ 38.25  17.35] xt:  [39.395326848272582, 16.46362919167079]\n",
        "iteration:  1 x0:  [ 39.5   16.95] xt:  [39.500787690270684, 16.935834725302445]\n",
        "iteration:  1 x0:  [ 39.9   17.05] xt:  [39.898547947785133, 17.032908546478033]\n"
       ]
      }
     ],
     "prompt_number": 354
    },
    {
     "cell_type": "code",
     "collapsed": false,
     "input": [
      "maxVars = getMaxVariances(100)\n",
      "#print \"max variances: \", maxVars\n",
      "sepList, sepIndexMap = reduceSEPs(SEPs, 0.9)"
     ],
     "language": "python",
     "metadata": {},
     "outputs": [],
     "prompt_number": 381
    },
    {
     "cell_type": "code",
     "collapsed": false,
     "input": [
      "print len(sepList)"
     ],
     "language": "python",
     "metadata": {},
     "outputs": [
      {
       "output_type": "stream",
       "stream": "stdout",
       "text": [
        "149\n"
       ]
      }
     ],
     "prompt_number": 382
    },
    {
     "cell_type": "code",
     "collapsed": false,
     "input": [
      "plotScatter(sepList[:,0],sepList[:,1],\"reduced SEPs Scatter Plot\" ,\"r\")"
     ],
     "language": "python",
     "metadata": {},
     "outputs": [
      {
       "metadata": {},
       "output_type": "display_data",
       "png": "[encoded data removed]",
       "text": [
        "<matplotlib.figure.Figure at 0x8a40cc0>"
       ]
      }
     ],
     "prompt_number": 383
    },
    {
     "cell_type": "code",
     "collapsed": false,
     "input": [
      "A = getAdjacencyMatrix(sepList, maxVars[50], 20)\n",
      "sepsClusters = getSEPsClusters(A, sepList)\n",
      "plotCluster(sepList[:,0],sepList[:,1],sepsClusters,\"Scatter Plot\")"
     ],
     "language": "python",
     "metadata": {},
     "outputs": []
    },
    {
     "cell_type": "code",
     "collapsed": false,
     "input": [],
     "language": "python",
     "metadata": {},
     "outputs": []
    }
   ],
   "metadata": {}
  }
 ]
}