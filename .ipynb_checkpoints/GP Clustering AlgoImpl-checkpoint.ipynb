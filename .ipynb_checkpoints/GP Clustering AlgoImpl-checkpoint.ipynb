{
 "metadata": {
  "name": ""
 },
 "nbformat": 3,
 "nbformat_minor": 0,
 "worksheets": [
  {
   "cells": [
    {
     "cell_type": "markdown",
     "metadata": {},
     "source": [
      "#Algorithm Implementation"
     ]
    },
    {
     "cell_type": "code",
     "collapsed": false,
     "input": [
      "import numpy as np\n",
      "import matplotlib\n",
      "import matplotlib.pyplot as plt\n",
      "import scipy\n",
      "\n",
      "#plot the scatter plot\n",
      "def plotScatter(X,Y,title,c):\n",
      "    fig = plt.figure()\n",
      "    ax = fig.add_subplot(111)\n",
      "    ax.plot(X,Y,c+'.')\n",
      "    ax.set_title(title)\n",
      "    plt.show()\n",
      "\n",
      "def plotCluster(X,Y,clusters,title):\n",
      "#    fig = plt.figure()\n",
      " #   ax = fig.add_subplot(111)\n",
      "    \n",
      "    colors = np.arange(len(clusters))\n",
      "    t = [colors[(int)(clusters[i])]  for i in range (len(clusters))]\n",
      "    plt.scatter(X, Y, c=t)\n",
      "    plt.show()\n",
      "    \n",
      "def plotCluster2(X,Y,clusters,title):\n",
      "    fig = plt.figure()\n",
      "    ax = fig.add_subplot(111)\n",
      "\n",
      "    colors = ['r','g','b','c','m','y']   \n",
      "    c = [colors[((int)(clusters[i])-1) % len(colors)]  + '.' for i in range (len(clusters))]\n",
      "    \n",
      "    for i in range (len(X)):\n",
      "        ax.plot(X[i],Y[i],c[i])\n",
      "    ax.set_title(title)\n",
      "    plt.show() \n",
      "\n",
      "def plotHeatMap(heatmap, extent):\n",
      "    plt.clf()\n",
      "    plt.imshow(heatmap, extent=extent)\n",
      "    plt.colorbar()\n",
      "    plt.show()\n",
      "    \n",
      "#init parameters for the model\n",
      "# need to be determined for different dataset\n",
      "alpha = 1"
     ],
     "language": "python",
     "metadata": {},
     "outputs": [],
     "prompt_number": 23
    },
    {
     "cell_type": "markdown",
     "metadata": {},
     "source": [
      "##Step 1. Construct a variance function and compute the level value $r^* = max_{x_i} \\sigma ^2 (x_i) $"
     ]
    },
    {
     "cell_type": "code",
     "collapsed": false,
     "input": [
      "#Calculate Covariance Matrix C\n",
      "def kernelFunction(x1, x2):\n",
      "    c = 0.;\n",
      "    for i in range(len(x1)):\n",
      "        c += alpha * (x1[i] - x2[i]) **2\n",
      "\n",
      "    c = math.exp(- 0.5 * c)\n",
      "    return c\n",
      "\n",
      "#calculate the whole covariance matrix \n",
      "def getCovarianceMatrix(data):\n",
      "    size = len(data[0,:])\n",
      "    C = [[ 0. for i in range (size)] for j in range (size)]\n",
      "    for i in range (size):\n",
      "        for j in range (size):\n",
      "            C[i][j] = kernelFunction(data[:,i], data[:,j])\n",
      "    return matrix(C)  \n",
      "\n",
      "\n",
      "#TODO check how to calculate the variance\n",
      "#calculate variance of dataset\n",
      "def getVariance(data):\n",
      "    return np.var(data)\n",
      "\n",
      "#calculate inversion of Matrix A\n",
      "def getInversionMatrix(data, C):\n",
      "    size = len(data[0,:])\n",
      "    var = getVariance(data)\n",
      "    return  (C + var * matrix(np.eye(size)) ).I \n",
      "\n",
      "#calcalate the variance for a given point x\n",
      "def varianceFunction(x, data, inv):\n",
      "    size = len(data[0,:])\n",
      "    k = matrix( [kernelFunction(x, data[:,i]) for i in range (size)]).T\n",
      "    result = kernelFunction(x,x) - k.T * inv * k\n",
      "    return result[0,0]\n",
      "\n",
      "\n",
      "\n",
      "def getMaxVariance():\n",
      "    maxVars = 0.\n",
      "    maxIndex = 0\n",
      "    for i in range (size):\n",
      "        if(i == 0):\n",
      "            maxVar = varianceFunction(data[:,i], data, invA)\n",
      "            maxIndex = 0\n",
      "        else:\n",
      "            tmp = varianceFunction(data[:,i], data, invA)\n",
      "            if(tmp > maxVar):\n",
      "                maxVar = tmp\n",
      "                maxIndex = i\n",
      "    return maxVar, data[:,maxIndex]\n",
      "\n",
      "def getMaxVariances(num):\n",
      "    maxVars = [ 0. for i in range (num)]\n",
      "    variances = array([varianceFunction(data[:,i], data, invA) for i in range(size)])\n",
      "    sorted_vars = sort(variances)\n",
      "    for i in range (num):\n",
      "        maxVars[i] = sorted_vars[-1-i]\n",
      "    \n",
      "    return maxVars"
     ],
     "language": "python",
     "metadata": {},
     "outputs": [],
     "prompt_number": 13
    },
    {
     "cell_type": "markdown",
     "metadata": {},
     "source": [
      "##Step 2. Compute Stable Equilibrium Points"
     ]
    },
    {
     "cell_type": "code",
     "collapsed": false,
     "input": [
      "#nabla_variance_function\n",
      "def nablaVarianceFunction(x, data, inv):\n",
      "    size = len(data[0,:])\n",
      "    k = matrix( [kernelFunction(x, data[:,i]) for i in range (size)]).T\n",
      "    nablaK_x1 = matrix([ - kernelFunction(x, data[:,i]) * (x[0] - data[0,i]) for i in range (size)]).T\n",
      "    nablaK_x2 = matrix([ - kernelFunction(x, data[:,i]) * (x[1] - data[1,i]) for i in range (size)]).T\n",
      "    delta_x1 =  nablaK_x1.T * inv * k + k.T * inv * nablaK_x1 \n",
      "    delta_x2 =  nablaK_x2.T * inv * k + k.T * inv * nablaK_x2\n",
      "    return [delta_x1[0,0], delta_x2[0,0]]\n",
      "\n",
      "#gradient descent iteration\n",
      "def gradientDescentIteration(x, data, inv, ita):\n",
      "    delta_x = nablaVarianceFunction(x,data,inv)\n",
      "    #print \"delta_x:\" , delta_x\n",
      "    return [ x[i] + ita * delta_x[i] for i in range (len(x))]\n",
      "\n",
      "def getEquilibriumPoint(x,data,inv,ita,maxIteration):\n",
      "    x_old = x\n",
      "    iteration = 1\n",
      "    for i in range(maxIteration):\n",
      "        x_new = gradientDescentIteration(x_old,data,inv,ita)\n",
      "        if( (x_new[0] - x_old[0])/x_old[0] < 0.00001 and (x_new[1] - x_old[1])/x_old[1] < 0.00001):\n",
      "            break\n",
      "        else:\n",
      "            x_old = x_new\n",
      "            iteration += 1\n",
      "    print \"iteration: \" , iteration, \"x0: \", x, \"xt: \", x_new\n",
      "    return x_new\n",
      "\n",
      "def isExistInList(sepList, point, min_accepted_covariance):\n",
      "    for i in range (len(sepList)):\n",
      "        covariance = kernelFunction(sepList[i], point)\n",
      "        if(covariance > min_accepted_covariance):\n",
      "            return i\n",
      "    return -1\n",
      "\n",
      "def reduceSEPs(seps, min_accepted_covariance):\n",
      "    sepList = []\n",
      "    sepIndexMap = {}\n",
      "    for i in range (len(seps)):\n",
      "        index = isExistInList(sepList, [seps[i,0],seps[i,1]], min_accepted_covariance)\n",
      "        if index == -1 :\n",
      "            index = len(sepList)\n",
      "            sepList.append([seps[i,0],seps[i,1]])\n",
      "        sepIndexMap[i] = index\n",
      "    return array(sepList), sepIndexMap"
     ],
     "language": "python",
     "metadata": {},
     "outputs": [],
     "prompt_number": 14
    },
    {
     "cell_type": "markdown",
     "metadata": {},
     "source": [
      "##Step 3. Construct Adjacency Matrix A"
     ]
    },
    {
     "cell_type": "code",
     "collapsed": false,
     "input": [
      "def getGeometricDistance(x1, x2):\n",
      "    d = 0.\n",
      "    for i in range (len(x1)):\n",
      "        d += (x1[i] - x2[i])**2\n",
      "    return math.sqrt(d)\n",
      "\n",
      "def getAdjacencyMatrix(sepList, maxVar, pointsNumPerDistanceUnit):\n",
      "    A = [[ -1 for i in range (len(sepList))] for j in range (len(sepList)) ]\n",
      "    for i in range (len(sepList)):\n",
      "        for j in range (len(sepList)):\n",
      "            if(i == j ):\n",
      "                A[i][j] = 1\n",
      "            elif( i < j ):\n",
      "                isConnected = True\n",
      "                delta = sepList[i] - sepList[j]\n",
      "                distance = getGeometricDistance(sepList[i], sepList[j])\n",
      "                pointsNum = pointsNumPerDistanceUnit * distance\n",
      "                for m in range ((int)(pointsNum)):\n",
      "                    testPoint = sepList[j] + (m+1) * delta/pointsNum\n",
      "                    testVar = varianceFunction(testPoint, data, invA)\n",
      "                    if(testVar > maxVar):\n",
      "                        isConnected = False\n",
      "                        break\n",
      "                if isConnected is True:\n",
      "                    A[i][j] = 1\n",
      "                else:\n",
      "                    A[i][j] = 0\n",
      "            elif (i > j ):\n",
      "                A[i][j] = A[j][i]\n",
      "    return array(A)"
     ],
     "language": "python",
     "metadata": {},
     "outputs": [],
     "prompt_number": 15
    },
    {
     "cell_type": "markdown",
     "metadata": {},
     "source": [
      "##Step 4. Assign cluster Labels to training data Points"
     ]
    },
    {
     "cell_type": "code",
     "collapsed": false,
     "input": [
      "def getSEPsClusters(adjacencyMatrix, sepList):\n",
      "    assignedSEPs = []\n",
      "    clusters = [ -1 for i in range (len(sepList))]\n",
      "    clusterIndex = 1\n",
      "    for i in range (len(sepList)):\n",
      "        if not i in assignedSEPs:\n",
      "            cluster_seps = []\n",
      "            for j in range (len(sepList)):\n",
      "                if(adjacencyMatrix[i][j] == 1):\n",
      "                    clusters[j] = clusterIndex\n",
      "                    assignedSEPs.append(j)\n",
      "            clusterIndex += 1\n",
      "    return clusters    \n",
      "\n",
      "def getPointClusters(sepsClusters, sepIndexMap):\n",
      "    clusters = [-1 for i in range (len(sepIndexMap))]\n",
      "    for i in range (len(sepIndexMap)):\n",
      "        clusters[i] = sepsClusters[sepIndexMap[i]]\n",
      "    return clusters"
     ],
     "language": "python",
     "metadata": {},
     "outputs": [],
     "prompt_number": 16
    },
    {
     "cell_type": "markdown",
     "metadata": {},
     "source": [
      "# Algorithm Testing"
     ]
    },
    {
     "cell_type": "markdown",
     "metadata": {},
     "source": [
      "## Test with R15 Dataset"
     ]
    },
    {
     "cell_type": "code",
     "collapsed": false,
     "input": [
      "#init\n",
      "dataset = loadtxt(\"dataset\\R15.txt\")\n",
      "data = array([dataset[:,0], dataset[:,1]])\n",
      "clusters = dataset[:,2]\n",
      "size = len(clusters)\n",
      "\n",
      "X = data[0,:]\n",
      "Y = data[1,:]\n",
      "dimension = 2\n",
      "alpha = 2\n",
      "plotScatter(X,Y,\"Scatter Plot\", 'g')"
     ],
     "language": "python",
     "metadata": {},
     "outputs": [
      {
       "metadata": {},
       "output_type": "display_data",
       "png": "[encoded data removed]",
       "text": [
        "<matplotlib.figure.Figure at 0x7762f98>"
       ]
      }
     ],
     "prompt_number": 17
    },
    {
     "cell_type": "code",
     "collapsed": false,
     "input": [
      "#get stable equilibrium points\n",
      "C = getCovarianceMatrix(data)\n",
      "invA = getInversionMatrix(data, C)\n",
      "SEPs = array([getEquilibriumPoint(data[:,i], data, invA, 0.5, 1000) for i in range (size) ])\n",
      "sepList, sepIndexMap = reduceSEPs(SEPs, 0.99)\n",
      "print \"size of reduced SEPs: \" , len(sepList)\n",
      "plotScatter(sepList[:,0],sepList[:,1],\"reduced SEPs Scatter Plot\" ,\"r\")"
     ],
     "language": "python",
     "metadata": {},
     "outputs": [
      {
       "output_type": "stream",
       "stream": "stdout",
       "text": [
        "iteration:  23 x0:  [  9.802  10.132] xt:  [10.004066089718279, 10.055327150681562]\n",
        "iteration: "
       ]
      },
      {
       "output_type": "stream",
       "stream": "stdout",
       "text": [
        " 25 x0:  [ 10.35    9.768] xt:  [10.004698361695775, 10.054816896290264]\n",
        "iteration: "
       ]
      },
      {
       "output_type": "stream",
       "stream": "stdout",
       "text": [
        " 20 x0:  [ 10.098   9.988] xt:  [10.004686010772341, 10.054827800415064]\n",
        "iteration: "
       ]
      },
      {
       "output_type": "stream",
       "stream": "stdout",
       "text": [
        " 22 x0:  [ 9.73  9.91] xt:  [10.004095059246584, 10.055296617161813]\n",
        "iteration: "
       ]
      },
      {
       "output_type": "stream",
       "stream": "stdout",
       "text": [
        " 26 x0:  [  9.754  10.43 ] xt:  [10.004060152189483, 10.055334250607425]\n",
        "iteration: "
       ]
      },
      {
       "output_type": "stream",
       "stream": "stdout",
       "text": [
        " 18 x0:  [ 9.836  9.902] xt:  [10.004107388561545, 10.055251535329644]\n",
        "iteration: "
       ]
      },
      {
       "output_type": "stream",
       "stream": "stdout",
       "text": [
        " 24 x0:  [ 10.238   9.866] xt:  [10.004642249157936, 10.05486261485501]\n",
        "iteration: "
       ]
      },
      {
       "output_type": "stream",
       "stream": "stdout",
       "text": [
        " 25 x0:  [ 9.53   9.862] xt:  [10.004092167284531, 10.055303486160444]\n",
        "iteration: "
       ]
      },
      {
       "output_type": "stream",
       "stream": "stdout",
       "text": [
        " 23 x0:  [ 10.154   9.82 ] xt:  [10.004696157016458, 10.054817426083751]\n",
        "iteration: "
       ]
      },
      {
       "output_type": "stream",
       "stream": "stdout",
       "text": [
        " 30 x0:  [  9.336  10.456] xt:  [10.004086461543061, 10.055311828142893]\n",
        "iteration: "
       ]
      },
      {
       "output_type": "stream",
       "stream": "stdout",
       "text": [
        " 28 x0:  [  9.378  10.21 ] xt:  [10.004075407655119, 10.055320041452415]\n",
        "iteration: "
       ]
      },
      {
       "output_type": "stream",
       "stream": "stdout",
       "text": [
        " 25 x0:  [  9.712  10.264] xt:  [10.004051447864311, 10.055340062907959]\n",
        "iteration: "
       ]
      },
      {
       "output_type": "stream",
       "stream": "stdout",
       "text": [
        " 26 x0:  [  9.638  10.208] xt:  [10.004102511547069, 10.055298464596794]\n",
        "iteration: "
       ]
      },
      {
       "output_type": "stream",
       "stream": "stdout",
       "text": [
        " 25 x0:  [ 9.518  9.956] xt:  [10.004039144676691, 10.055346689527834]\n",
        "iteration: "
       ]
      },
      {
       "output_type": "stream",
       "stream": "stdout",
       "text": [
        " 23 x0:  [ 10.236   9.91 ] xt:  [10.004694765766075, 10.054820594265152]\n",
        "iteration: "
       ]
      },
      {
       "output_type": "stream",
       "stream": "stdout",
       "text": [
        " 27 x0:  [  9.4    10.086] xt:  [10.004055099237448, 10.055335688534658]\n",
        "iteration: "
       ]
      },
      {
       "output_type": "stream",
       "stream": "stdout",
       "text": [
        " 24 x0:  [ 10.196   9.746] xt:  [10.004702031681701, 10.054812773018124]\n",
        "iteration: "
       ]
      },
      {
       "output_type": "stream",
       "stream": "stdout",
       "text": [
        " 23 x0:  [ 10.138   9.828] xt:  [10.004672563751338, 10.054836539422954]\n",
        "iteration:  1 x0:  [ 10.062  10.26 ] xt:  [10.035451530635058, 10.198340375758722]\n",
        "iteration: "
       ]
      },
      {
       "output_type": "stream",
       "stream": "stdout",
       "text": [
        " 24 x0:  [ 10.394   9.984] xt:  [10.004686620320852, 10.054829046362336]\n",
        "iteration:  1 x0:  [ 10.284  10.348] xt:  [10.210526622557126, 10.275794350642199]\n",
        "iteration: "
       ]
      },
      {
       "output_type": "stream",
       "stream": "stdout",
       "text": [
        " 23 x0:  [ 9.706  9.978] xt:  [10.004072368747234, 10.055318678044031]\n",
        "iteration: "
       ]
      },
      {
       "output_type": "stream",
       "stream": "stdout",
       "text": [
        " 27 x0:  [  9.906  10.588] xt:  [10.004107954536362, 10.055296973644406]\n",
        "iteration: "
       ]
      },
      {
       "output_type": "stream",
       "stream": "stdout",
       "text": [
        " 32 x0:  [ 10.356   9.198] xt:  [10.004647329124587, 10.054857572905652]\n",
        "iteration: "
       ]
      },
      {
       "output_type": "stream",
       "stream": "stdout",
       "text": [
        " 22 x0:  [ 9.954  9.704] xt:  [10.004688421976635, 10.054816933968798]\n",
        "iteration: "
       ]
      },
      {
       "output_type": "stream",
       "stream": "stdout",
       "text": [
        " 25 x0:  [  9.796  10.378] xt:  [10.004041440115182, 10.055349601977831]\n",
        "iteration:  1 x0:  [ 10.386  10.608] xt:  [10.333877588358924, 10.547562009927109]\n",
        "iteration: "
       ]
      },
      {
       "output_type": "stream",
       "stream": "stdout",
       "text": [
        " 25 x0:  [ 10.41    9.912] xt:  [10.004651957636327, 10.05485582159246]\n",
        "iteration:  1 x0:  [ 10.172  10.598] xt:  [10.133275167141539, 10.511394285869338]\n",
        "iteration: "
       ]
      },
      {
       "output_type": "stream",
       "stream": "stdout",
       "text": [
        " 25 x0:  [ 10.286   9.712] xt:  [10.004695430597186, 10.054818687178319]\n",
        "iteration: "
       ]
      },
      {
       "output_type": "stream",
       "stream": "stdout",
       "text": [
        " 22 x0:  [  9.932  10.234] xt:  [10.004051314970946, 10.055343635507509]\n",
        "iteration: "
       ]
      },
      {
       "output_type": "stream",
       "stream": "stdout",
       "text": [
        " 23 x0:  [ 10.298   9.948] xt:  [10.004723913986856, 10.054798225061957]\n",
        "iteration: "
       ]
      },
      {
       "output_type": "stream",
       "stream": "stdout",
       "text": [
        " 24 x0:  [ 10.352   9.932] xt:  [10.004686076945308, 10.054828495393981]\n",
        "iteration: "
       ]
      },
      {
       "output_type": "stream",
       "stream": "stdout",
       "text": [
        " 24 x0:  [  9.848  10.328] xt:  [10.004036112661668, 10.055354377583082]\n",
        "iteration:  1 x0:  [ 10.514  10.498] xt:  [10.444978115067817, 10.449981475577447]\n",
        "iteration: "
       ]
      },
      {
       "output_type": "stream",
       "stream": "stdout",
       "text": [
        " 16 x0:  [ 9.944  9.934] xt:  [10.004574900413958, 10.054851609147844]\n",
        "iteration: "
       ]
      },
      {
       "output_type": "stream",
       "stream": "stdout",
       "text": [
        " 18 x0:  [  9.92   10.022] xt:  [10.004099121840737, 10.055286434153516]\n",
        "iteration: "
       ]
      },
      {
       "output_type": "stream",
       "stream": "stdout",
       "text": [
        " 27 x0:  [  9.908  10.606] xt:  [10.004095330872088, 10.055307389591846]\n",
        "iteration: "
       ]
      },
      {
       "output_type": "stream",
       "stream": "stdout",
       "text": [
        " 22 x0:  [ 10.182   9.99 ] xt:  [10.004646914886342, 10.054860664952015]\n",
        "iteration: "
       ]
      },
      {
       "output_type": "stream",
       "stream": "stdout",
       "text": [
        " 30 x0:  [ 10.256   9.25 ] xt:  [10.004657922895991, 10.054848773562915]\n",
        "iteration: "
       ]
      },
      {
       "output_type": "stream",
       "stream": "stdout",
       "text": [
        " 13 x0:  [ 12.04   10.028] xt:  [12.080093226978605, 9.9536817909780595]\n",
        "iteration: "
       ]
      },
      {
       "output_type": "stream",
       "stream": "stdout",
       "text": [
        " 2 x0:  [ 12.082  10.044] xt:  [12.082156464594444, 9.9929711015205189]\n",
        "iteration:  1 x0:  [ 12.4    10.156] xt:  [12.297420525452809, 10.098513853113872]\n",
        "iteration: "
       ]
      },
      {
       "output_type": "stream",
       "stream": "stdout",
       "text": [
        " 16 x0:  [ 11.988   9.926] xt:  [12.080061311461288, 9.9533444870584731]\n",
        "iteration: "
       ]
      },
      {
       "output_type": "stream",
       "stream": "stdout",
       "text": [
        " 7 x0:  [ 12.34    9.918] xt:  [12.094170832811958, 9.9543481592748329]\n",
        "iteration:  1 x0:  [ 12.228   9.978] xt:  [12.177598953798052, 9.9722324930659187]\n",
        "iteration: "
       ]
      },
      {
       "output_type": "stream",
       "stream": "stdout",
       "text": [
        " 1 x0:  [ 12.348  10.488] xt:  [12.270666203502298, 10.38466584042744]\n",
        "iteration: "
       ]
      },
      {
       "output_type": "stream",
       "stream": "stdout",
       "text": [
        " 21 x0:  [ 12.044   9.358] xt:  [12.080086052352319, 9.9532382108858695]\n",
        "iteration: "
       ]
      },
      {
       "output_type": "stream",
       "stream": "stdout",
       "text": [
        " 19 x0:  [ 11.736  10.122] xt:  [12.080010769946284, 9.9534389972394361]\n",
        "iteration: "
       ]
      },
      {
       "output_type": "stream",
       "stream": "stdout",
       "text": [
        " 14 x0:  [ 12.35    9.798] xt:  [12.080970480393116, 9.9532987888629787]\n",
        "iteration: "
       ]
      },
      {
       "output_type": "stream",
       "stream": "stdout",
       "text": [
        " 25 x0:  [ 11.246  10.122] xt:  [12.080055258092253, 9.9534080525382898]\n",
        "iteration:  1 x0:  [ 12.276  10.99 ] xt:  [12.196339328126603, 10.925004219841304]\n",
        "iteration: "
       ]
      },
      {
       "output_type": "stream",
       "stream": "stdout",
       "text": [
        " 1 x0:  [ 12.374  10.018] xt:  [12.274877759014469, 10.00218231675953]\n",
        "iteration:  1 x0:  [ 12.53  10.  ] xt:  [12.385721745087942, 9.9946539801309822]\n",
        "iteration: "
       ]
      },
      {
       "output_type": "stream",
       "stream": "stdout",
       "text": [
        " 15 x0:  [ 12.27    9.792] xt:  [12.080540968912571, 9.9532811000393657]\n",
        "iteration:  1 x0:  [ 12.364  10.176] xt:  [12.273380571587387, 10.111991031934139]\n",
        "iteration: "
       ]
      },
      {
       "output_type": "stream",
       "stream": "stdout",
       "text": [
        " 1 x0:  [ 12.458  10.18 ] xt:  [12.339404854020554, 10.118806086728661]\n",
        "iteration: "
       ]
      },
      {
       "output_type": "stream",
       "stream": "stdout",
       "text": [
        " 18 x0:  [ 11.952   9.682] xt:  [12.080042392498349, 9.9532244193120718]\n",
        "iteration: "
       ]
      },
      {
       "output_type": "stream",
       "stream": "stdout",
       "text": [
        " 19 x0:  [ 11.772   9.924] xt:  [12.080036773048036, 9.9533571679027872]\n",
        "iteration: "
       ]
      },
      {
       "output_type": "stream",
       "stream": "stdout",
       "text": [
        " 21 x0:  [ 11.502  10.008] xt:  [12.079990645658368, 9.9533806133229223]\n",
        "iteration: "
       ]
      },
      {
       "output_type": "stream",
       "stream": "stdout",
       "text": [
        " 20 x0:  [ 12.134   9.482] xt:  [12.080152817541117, 9.9532835682038741]\n",
        "iteration: "
       ]
      },
      {
       "output_type": "stream",
       "stream": "stdout",
       "text": [
        " 21 x0:  [ 11.628  10.286] xt:  [12.08005213197603, 9.9534714884417799]\n",
        "iteration: "
       ]
      },
      {
       "output_type": "stream",
       "stream": "stdout",
       "text": [
        " 19 x0:  [ 12.064   9.616] xt:  [12.080142922297268, 9.9532837275544122]\n",
        "iteration: "
       ]
      },
      {
       "output_type": "stream",
       "stream": "stdout",
       "text": [
        " 18 x0:  [ 11.906   9.82 ] xt:  [12.080056597896949, 9.9533038420433044]\n",
        "iteration: "
       ]
      },
      {
       "output_type": "stream",
       "stream": "stdout",
       "text": [
        " 20 x0:  [ 11.736  10.29 ] xt:  [12.080068982914138, 9.9535001028741696]\n",
        "iteration:  1 x0:  [ 12.114  10.904] xt:  [12.060547099385129, 10.847510976625713]\n",
        "iteration: "
       ]
      },
      {
       "output_type": "stream",
       "stream": "stdout",
       "text": [
        " 21 x0:  [ 11.59    9.712] xt:  [12.08003095079315, 9.953309560926721]\n",
        "iteration: "
       ]
      },
      {
       "output_type": "stream",
       "stream": "stdout",
       "text": [
        " 10 x0:  [ 12.648   9.814] xt:  [12.08974896598453, 9.9539488430070904]\n",
        "iteration:  1 x0:  [ 12.164  11.018] xt:  [12.091659176051261, 10.966247656113131]\n",
        "iteration: "
       ]
      },
      {
       "output_type": "stream",
       "stream": "stdout",
       "text": [
        " 15 x0:  [ 12.22    9.796] xt:  [12.080433554937743, 9.9532499419128282]\n",
        "iteration: "
       ]
      },
      {
       "output_type": "stream",
       "stream": "stdout",
       "text": [
        " 19 x0:  [ 11.846   9.634] xt:  [12.080010135652419, 9.9532271450548571]\n",
        "iteration: "
       ]
      },
      {
       "output_type": "stream",
       "stream": "stdout",
       "text": [
        " 18 x0:  [ 11.808  10.058] xt:  [12.079997976635839, 9.9534214920933195]\n",
        "iteration: "
       ]
      },
      {
       "output_type": "stream",
       "stream": "stdout",
       "text": [
        " 15 x0:  [ 12.096   9.846] xt:  [12.080192500482303, 9.9532436441992314]\n",
        "iteration: "
       ]
      },
      {
       "output_type": "stream",
       "stream": "stdout",
       "text": [
        " 21 x0:  [ 11.594  10.078] xt:  [12.080057694651046, 9.9534055264959278]\n",
        "iteration: "
       ]
      },
      {
       "output_type": "stream",
       "stream": "stdout",
       "text": [
        " 6 x0:  [ 12.252   9.938] xt:  [12.094397852959897, 9.9544701416062011]\n",
        "iteration: "
       ]
      },
      {
       "output_type": "stream",
       "stream": "stdout",
       "text": [
        " 18 x0:  [ 11.998   9.676] xt:  [12.080079617784691, 9.9532371693116559]\n",
        "iteration: "
       ]
      },
      {
       "output_type": "stream",
       "stream": "stdout",
       "text": [
        " 17 x0:  [ 11.894  10.012] xt:  [12.080014237379876, 9.9534096655473157]\n",
        "iteration: "
       ]
      },
      {
       "output_type": "stream",
       "stream": "stdout",
       "text": [
        " 6 x0:  [ 12.274   9.936] xt:  [12.096132881817063, 9.9546453847304495]\n",
        "iteration:  1 x0:  [ 12.176  10.364] xt:  [12.145856672125046, 10.26545150265656]\n",
        "iteration: "
       ]
      },
      {
       "output_type": "stream",
       "stream": "stdout",
       "text": [
        " 1 x0:  [ 12.104  10.388] xt:  [12.092512952220185, 10.289655976610533]\n",
        "iteration: "
       ]
      },
      {
       "output_type": "stream",
       "stream": "stdout",
       "text": [
        " 15 x0:  [ 11.372  11.466] xt:  [11.206146051431437, 11.619615357308243]\n",
        "iteration: "
       ]
      },
      {
       "output_type": "stream",
       "stream": "stdout",
       "text": [
        " 21 x0:  [ 10.94   11.482] xt:  [11.205575603533319, 11.619683917907864]\n",
        "iteration: "
       ]
      },
      {
       "output_type": "stream",
       "stream": "stdout",
       "text": [
        " 18 x0:  [ 11.084  11.554] xt:  [11.205547604425371, 11.619665485855794]\n",
        "iteration: "
       ]
      },
      {
       "output_type": "stream",
       "stream": "stdout",
       "text": [
        " 18 x0:  [ 11.232  11.374] xt:  [11.205648942331162, 11.619598396773375]\n",
        "iteration:  1 x0:  [ 11.22  11.64] xt:  [11.215989958316245, 11.633393304385837]\n",
        "iteration: "
       ]
      },
      {
       "output_type": "stream",
       "stream": "stdout",
       "text": [
        " 19 x0:  [ 10.962  11.75 ] xt:  [11.205519958263643, 11.619721182768373]\n",
        "iteration: "
       ]
      },
      {
       "output_type": "stream",
       "stream": "stdout",
       "text": [
        " 18 x0:  [ 11.014  11.746] xt:  [11.205523744394331, 11.619741749920891]\n",
        "iteration: "
       ]
      },
      {
       "output_type": "stream",
       "stream": "stdout",
       "text": [
        " 23 x0:  [ 11.524  10.982] xt:  [11.205759712696382, 11.619620815028185]\n",
        "iteration: "
       ]
      },
      {
       "output_type": "stream",
       "stream": "stdout",
       "text": [
        " 20 x0:  [ 11.012  11.364] xt:  [11.205526219043785, 11.619622398540539]\n",
        "iteration: "
       ]
      },
      {
       "output_type": "stream",
       "stream": "stdout",
       "text": [
        " 21 x0:  [ 11.2    11.062] xt:  [11.205591315397982, 11.619557727047827]\n",
        "iteration:  1 x0:  [ 11.626  11.894] xt:  [11.508692613568298, 11.823834771846139]\n",
        "iteration:  1 x0:  [ 11.23   11.728]"
       ]
      },
      {
       "output_type": "stream",
       "stream": "stdout",
       "text": [
        " xt:  [11.225315746266016, 11.690681221668159]\n",
        "iteration: "
       ]
      },
      {
       "output_type": "stream",
       "stream": "stdout",
       "text": [
        " 10 x0:  [ 11.144  11.91 ] xt:  [11.206182936112656, 11.62374392392756]\n",
        "iteration: "
       ]
      },
      {
       "output_type": "stream",
       "stream": "stdout",
       "text": [
        " 14 x0:  [ 11.106  11.868] xt:  [11.205630135863244, 11.620322097448124]\n",
        "iteration:  1 x0:  [ 11.53   11.918] xt:  [11.439585580936567, 11.834079316992783]\n",
        "iteration: "
       ]
      },
      {
       "output_type": "stream",
       "stream": "stdout",
       "text": [
        " 21 x0:  [ 11.21   11.114] xt:  [11.205622450957618, 11.619601440369593]\n",
        "iteration: "
       ]
      },
      {
       "output_type": "stream",
       "stream": "stdout",
       "text": [
        " 23 x0:  [ 10.746  11.702] xt:  [11.205563909550436, 11.619703845756577]\n",
        "iteration: "
       ]
      },
      {
       "output_type": "stream",
       "stream": "stdout",
       "text": [
        " 14 x0:  [ 11.154  11.692] xt:  [11.205602948675304, 11.619902519969731]\n",
        "iteration:  1 x0:  [ 11.412  11.924] xt:  [11.357635622288456, 11.829731813987397]\n",
        "iteration: "
       ]
      },
      {
       "output_type": "stream",
       "stream": "stdout",
       "text": [
        " 20 x0:  [ 10.948  11.532] xt:  [11.205522815603929, 11.619664463845064]\n",
        "iteration: "
       ]
      },
      {
       "output_type": "stream",
       "stream": "stdout",
       "text": [
        " 17 x0:  [ 10.988  12.298] xt:  [11.205606263122693, 11.620303882686354]\n",
        "iteration: "
       ]
      },
      {
       "output_type": "stream",
       "stream": "stdout",
       "text": [
        " 21 x0:  [ 10.96   11.392] xt:  [11.205566263374516, 11.619664339612816]\n",
        "iteration: "
       ]
      },
      {
       "output_type": "stream",
       "stream": "stdout",
       "text": [
        " 18 x0:  [ 11.656  11.346] xt:  [11.206222028441111, 11.619695824484747]\n",
        "iteration: "
       ]
      },
      {
       "output_type": "stream",
       "stream": "stdout",
       "text": [
        " 5 x0:  [ 11.178  12.062] xt:  [11.213617009714373, 11.674093339544816]\n",
        "iteration: "
       ]
      },
      {
       "output_type": "stream",
       "stream": "stdout",
       "text": [
        " 11 x0:  [ 11.368  11.56 ] xt:  [11.207996685742083, 11.619840502785161]\n",
        "iteration:  1 x0:  [ 11.264  11.724] xt:  [11.248207075646166, 11.689196709458759]\n",
        "iteration: "
       ]
      },
      {
       "output_type": "stream",
       "stream": "stdout",
       "text": [
        " 8 x0:  [ 11.554  11.576] xt:  [11.22185860452942, 11.621247575908233]\n",
        "iteration: "
       ]
      },
      {
       "output_type": "stream",
       "stream": "stdout",
       "text": [
        " 22 x0:  [ 10.974  11.114] xt:  [11.205536822130492, 11.619606077175504]\n",
        "iteration: "
       ]
      },
      {
       "output_type": "stream",
       "stream": "stdout",
       "text": [
        " 16 x0:  [ 11.12   11.634] xt:  [11.205527977790254, 11.619708467059491]\n",
        "iteration:  1 x0:  [ 11.51   12.052] xt:  [11.437182721744863, 11.932341815820173]\n",
        "iteration: "
       ]
      },
      {
       "output_type": "stream",
       "stream": "stdout",
       "text": [
        " 21 x0:  [ 10.95   11.402] xt:  [11.205561524750044, 11.619664133077361]\n",
        "iteration:  1 x0:  [ 11.864  12.406] xt:  [11.779953104934629, 12.301142687515592]\n",
        "iteration: "
       ]
      },
      {
       "output_type": "stream",
       "stream": "stdout",
       "text": [
        " 24 x0:  [ 11.198  10.854] xt:  [11.205628599905987, 11.61960362434716]\n",
        "iteration: "
       ]
      },
      {
       "output_type": "stream",
       "stream": "stdout",
       "text": [
        " 13 x0:  [ 11.65   11.496] xt:  [11.208939528154296, 11.619944349982406]\n",
        "iteration:  1 x0:  [ 11.248  11.722] xt:  [11.237344886958363, 11.687381736949233]\n",
        "iteration: "
       ]
      },
      {
       "output_type": "stream",
       "stream": "stdout",
       "text": [
        " 1 x0:  [ 11.602  11.888] xt:  [11.490076645774751, 11.817680992646654]\n",
        "iteration: "
       ]
      },
      {
       "output_type": "stream",
       "stream": "stdout",
       "text": [
        " 15 x0:  [ 11.424  11.454] xt:  [11.206320330589701, 11.619633691152247]\n",
        "iteration:  1 x0:  [ 11.312  11.718] xt:  [11.280165387952737, 11.686904273443101]\n",
        "iteration: "
       ]
      },
      {
       "output_type": "stream",
       "stream": "stdout",
       "text": [
        " 23 x0:  [ 10.736  11.68 ] xt:  [11.205553278087519, 11.619698225849111]\n",
        "iteration:  1 x0:  [ 11.56   11.798] xt:  [11.453861167661399, 11.750482215974097]\n",
        "iteration: "
       ]
      },
      {
       "output_type": "stream",
       "stream": "stdout",
       "text": [
        " 1 x0:  [ 10.028  12.268] xt:  [9.9626637340153312, 12.145502063674302]\n",
        "iteration: "
       ]
      },
      {
       "output_type": "stream",
       "stream": "stdout",
       "text": [
        " 29 x0:  [  9.282  11.976] xt:  [9.6015552934295982, 11.873084591045123]\n",
        "iteration: "
       ]
      },
      {
       "output_type": "stream",
       "stream": "stdout",
       "text": [
        " 32 x0:  [  9.178  11.53 ] xt:  [9.6015514331211875, 11.87308264048351]\n",
        "iteration:  1 x0:  [  9.954  12.398] xt:  [9.902022721424709, 12.248786776051048]\n",
        "iteration: "
       ]
      },
      {
       "output_type": "stream",
       "stream": "stdout",
       "text": [
        " 18 x0:  [  9.622  11.558] xt:  [9.6016822310231245, 11.872886116169298]\n",
        "iteration: "
       ]
      },
      {
       "output_type": "stream",
       "stream": "stdout",
       "text": [
        " 11 x0:  [  9.914  11.844] xt:  [9.6287694874437051, 11.873915208372869]\n",
        "iteration: "
       ]
      },
      {
       "output_type": "stream",
       "stream": "stdout",
       "text": [
        " 41 x0:  [  9.07   11.092] xt:  [9.6015056564087224, 11.873078879945442]\n",
        "iteration: "
       ]
      },
      {
       "output_type": "stream",
       "stream": "stdout",
       "text": [
        " 25 x0:  [ 10.578  11.354] xt:  [11.205510070524777, 11.619663951620534]\n",
        "iteration: "
       ]
      },
      {
       "output_type": "stream",
       "stream": "stdout",
       "text": [
        " 14 x0:  [  9.582  12.14 ] xt:  [9.6016172357047651, 11.873724704863427]\n",
        "iteration: "
       ]
      },
      {
       "output_type": "stream",
       "stream": "stdout",
       "text": [
        " 19 x0:  [  9.622  11.528] xt:  [9.6016637422234172, 11.872935976480084]\n",
        "iteration: "
       ]
      },
      {
       "output_type": "stream",
       "stream": "stdout",
       "text": [
        " 28 x0:  [  9.35  11.71] xt:  [9.6015003046070948, 11.873078456114547]\n",
        "iteration:  1 x0:  [ 10.234  11.974] xt:  [10.175989040832985, 11.925501588176761]\n",
        "iteration: "
       ]
      },
      {
       "output_type": "stream",
       "stream": "stdout",
       "text": [
        " 32 x0:  [  8.986  12.31 ] xt:  [9.6015556222949723, 11.873084886708025]\n",
        "iteration: "
       ]
      },
      {
       "output_type": "stream",
       "stream": "stdout",
       "text": [
        " 26 x0:  [  9.438  12.11 ] xt:  [9.6015581328183242, 11.873088092891935]\n",
        "iteration: "
       ]
      },
      {
       "output_type": "stream",
       "stream": "stdout",
       "text": [
        " 11 x0:  [  9.592  12.012] xt:  [9.6016784425910888, 11.874302638575962]\n",
        "iteration:  1 x0:  [  9.666  11.88 ] xt:  [9.6526264896789371, 11.878081983914129]\n",
        "iteration: "
       ]
      },
      {
       "output_type": "stream",
       "stream": "stdout",
       "text": [
        " 27 x0:  [  9.364  12.012] xt:  [9.6015046913803825, 11.873081871371472]\n",
        "iteration: "
       ]
      },
      {
       "output_type": "stream",
       "stream": "stdout",
       "text": [
        " 14 x0:  [  9.71   11.772] xt:  [9.6056458593711067, 11.873070871854262]\n",
        "iteration: "
       ]
      },
      {
       "output_type": "stream",
       "stream": "stdout",
       "text": [
        " 12 x0:  [  9.992  11.836] xt:  [9.6310003898849033, 11.87394284391624]\n",
        "iteration:  1 x0:  [  9.916  12.028] xt:  [9.8593226160361986, 11.973599014486666]\n",
        "iteration: "
       ]
      },
      {
       "output_type": "stream",
       "stream": "stdout",
       "text": [
        " 27 x0:  [  9.382  12.226] xt:  [9.6015368668908589, 11.873086516858638]\n",
        "iteration:  1 x0:  [  9.808  12.23 ] xt:  [9.7706652839807511, 12.11024890038542]\n",
        "iteration: "
       ]
      },
      {
       "output_type": "stream",
       "stream": "stdout",
       "text": [
        " 29 x0:  [  9.272  12.152] xt:  [9.6015538989036813, 11.873085358011464]\n",
        "iteration: "
       ]
      },
      {
       "output_type": "stream",
       "stream": "stdout",
       "text": [
        " 32 x0:  [  9.392  11.18 ] xt:  [9.6015427717662227, 11.87307893955826]\n",
        "iteration: "
       ]
      },
      {
       "output_type": "stream",
       "stream": "stdout",
       "text": [
        " 29 x0:  [  9.28   11.976] xt:  [9.6015534242688911, 11.873084450641674]\n",
        "iteration: "
       ]
      },
      {
       "output_type": "stream",
       "stream": "stdout",
       "text": [
        " 16 x0:  [  9.848  11.632] xt:  [9.608166125397231, 11.873151916749197]\n",
        "iteration: "
       ]
      },
      {
       "output_type": "stream",
       "stream": "stdout",
       "text": [
        " 30 x0:  [  9.322  11.514] xt:  [9.601540163097825, 11.873080930563402]\n",
        "iteration:  1 x0:  [  9.718  11.95 ] xt:  [9.6944228826372285, 11.92328889170116]\n",
        "iteration: "
       ]
      },
      {
       "output_type": "stream",
       "stream": "stdout",
       "text": [
        " 31 x0:  [  9.12  11.76] xt:  [9.6015214692444228, 11.873080970975176]\n",
        "iteration: "
       ]
      },
      {
       "output_type": "stream",
       "stream": "stdout",
       "text": [
        " 32 x0:  [  8.978  12.37 ] xt:  [9.601544821353615, 11.873084236671414]\n",
        "iteration:  1 x0:  [ 10.072  12.202] xt:  [10.002173188070087, 12.096026298295733]\n",
        "iteration: "
       ]
      },
      {
       "output_type": "stream",
       "stream": "stdout",
       "text": [
        " 12 x0:  [  9.966  11.822] xt:  [9.6282777632283825, 11.873819099798661]\n",
        "iteration: "
       ]
      },
      {
       "output_type": "stream",
       "stream": "stdout",
       "text": [
        " 25 x0:  [  9.506  11.648] xt:  [9.60152358327211, 11.873074946333185]\n",
        "iteration: "
       ]
      },
      {
       "output_type": "stream",
       "stream": "stdout",
       "text": [
        " 18 x0:  [  9.702  11.536] xt:  [9.602986266488907, 11.872956049531368]\n",
        "iteration: "
       ]
      },
      {
       "output_type": "stream",
       "stream": "stdout",
       "text": [
        " 25 x0:  [  9.45  11.96] xt:  [9.6014908552359568, 11.873081571271083]\n",
        "iteration:  1 x0:  [  9.916  11.962] xt:  [9.8599009516332234, 11.930247753006165]\n",
        "iteration: "
       ]
      },
      {
       "output_type": "stream",
       "stream": "stdout",
       "text": [
        " 17 x0:  [  9.96   11.538] xt:  [9.6108968143050628, 11.873234740659273]\n",
        "iteration: "
       ]
      },
      {
       "output_type": "stream",
       "stream": "stdout",
       "text": [
        " 32 x0:  [  9.014  11.744] xt:  [9.6015043895158048, 11.8730795808564]\n",
        "iteration: "
       ]
      },
      {
       "output_type": "stream",
       "stream": "stdout",
       "text": [
        " 32 x0:  [  9.024  11.846] xt:  [9.6015464078732222, 11.873083132211557]\n",
        "iteration: "
       ]
      },
      {
       "output_type": "stream",
       "stream": "stdout",
       "text": [
        " 21 x0:  [ 10.296  11.61 ] xt:  [9.6272329328702764, 11.873801804464255]\n",
        "iteration: "
       ]
      },
      {
       "output_type": "stream",
       "stream": "stdout",
       "text": [
        " 14 x0:  [  7.87   10.838] xt:  [8.1212938931633847, 10.846557436351363]\n",
        "iteration: "
       ]
      },
      {
       "output_type": "stream",
       "stream": "stdout",
       "text": [
        " 20 x0:  [  8.164  10.534] xt:  [8.1213596378405271, 10.84639094576959]\n",
        "iteration: "
       ]
      },
      {
       "output_type": "stream",
       "stream": "stdout",
       "text": [
        " 19 x0:  [  8.214  10.62 ] xt:  [8.1213604973099009, 10.846396127292365]\n",
        "iteration: "
       ]
      },
      {
       "output_type": "stream",
       "stream": "stdout",
       "text": [
        " 17 x0:  [  8.166  10.698] xt:  [8.1213619823827976, 10.846349239542302]\n",
        "iteration: "
       ]
      },
      {
       "output_type": "stream",
       "stream": "stdout",
       "text": [
        " 16 x0:  [  8.05   10.746] xt:  [8.1213541898645918, 10.846365601418555]\n",
        "iteration: "
       ]
      },
      {
       "output_type": "stream",
       "stream": "stdout",
       "text": [
        " 13 x0:  [  7.978  11.13 ] xt:  [8.1212665897367575, 10.848041979888514]\n",
        "iteration: "
       ]
      },
      {
       "output_type": "stream",
       "stream": "stdout",
       "text": [
        " 11 x0:  [  8.08   10.992] xt:  [8.1212739341254156, 10.84827823717071]\n",
        "iteration:  1 x0:  [  8.472  11.082] xt:  [8.3877743860182399, 11.035376036670449]\n",
        "iteration: "
       ]
      },
      {
       "output_type": "stream",
       "stream": "stdout",
       "text": [
        " 19 x0:  [  8.494  10.584] xt:  [8.1213691895554962, 10.846333285936693]\n",
        "iteration: "
       ]
      },
      {
       "output_type": "stream",
       "stream": "stdout",
       "text": [
        " 22 x0:  [  8.354  10.38 ] xt:  [8.1213600961988099, 10.846393404813089]\n",
        "iteration: "
       ]
      },
      {
       "output_type": "stream",
       "stream": "stdout",
       "text": [
        " 17 x0:  [  8.096  10.714] xt:  [8.1213583301581469, 10.846377868077427]\n",
        "iteration: "
       ]
      },
      {
       "output_type": "stream",
       "stream": "stdout",
       "text": [
        " 14 x0:  [  7.882  10.832] xt:  [8.1212975575500987, 10.846531382636348]\n",
        "iteration: "
       ]
      },
      {
       "output_type": "stream",
       "stream": "stdout",
       "text": [
        " 14 x0:  [  7.908  11.346] xt:  [8.1212674490287888, 10.848427097679059]\n",
        "iteration: "
       ]
      },
      {
       "output_type": "stream",
       "stream": "stdout",
       "text": [
        " 14 x0:  [  7.814  10.872] xt:  [8.1212754285033633, 10.846701943870377]\n",
        "iteration: "
       ]
      },
      {
       "output_type": "stream",
       "stream": "stdout",
       "text": [
        " 26 x0:  [  8.28   10.104] xt:  [8.1213596768592087, 10.84637882189635]\n",
        "iteration: "
       ]
      },
      {
       "output_type": "stream",
       "stream": "stdout",
       "text": [
        " 18 x0:  [  8.082  10.676] xt:  [8.1213582020533668, 10.846395348717449]\n",
        "iteration: "
       ]
      },
      {
       "output_type": "stream",
       "stream": "stdout",
       "text": [
        " 26 x0:  [  8.068  10.118] xt:  [8.1213593694978421, 10.846388220065238]\n",
        "iteration: "
       ]
      },
      {
       "output_type": "stream",
       "stream": "stdout",
       "text": [
        " 17 x0:  [  8.116  10.698] xt:  [8.1213596845654177, 10.846352667357518]\n",
        "iteration: "
       ]
      },
      {
       "output_type": "stream",
       "stream": "stdout",
       "text": [
        " 14 x0:  [  8.042  10.79 ] xt:  [8.1213403812087144, 10.846333695236947]\n",
        "iteration: "
       ]
      },
      {
       "output_type": "stream",
       "stream": "stdout",
       "text": [
        " 10 x0:  [  8.096  10.878] xt:  [8.1212778505723673, 10.84713725894086]\n",
        "iteration:  1 x0:  [  8.124  10.932] xt:  [8.123079970830176, 10.903347757036162]\n",
        "iteration: "
       ]
      },
      {
       "output_type": "stream",
       "stream": "stdout",
       "text": [
        " 1 x0:  [  8.632  11.124] xt:  [8.5558696846802444, 11.097125081090917]\n",
        "iteration: "
       ]
      },
      {
       "output_type": "stream",
       "stream": "stdout",
       "text": [
        " 17 x0:  [  8.27   10.716] xt:  [8.1213670392199759, 10.846369936198842]\n",
        "iteration: "
       ]
      },
      {
       "output_type": "stream",
       "stream": "stdout",
       "text": [
        " 26 x0:  [  7.622  10.148] xt:  [8.1213599039593696, 10.846348664615812]\n",
        "iteration: "
       ]
      },
      {
       "output_type": "stream",
       "stream": "stdout",
       "text": [
        " 2 x0:  [  8.198  11.398] xt:  [8.1865162236593978, 11.132421276581544]\n",
        "iteration:  1 x0:  [  8.582  11.064] xt:  [8.4926712819602201, 11.037853392052583]\n",
        "iteration: "
       ]
      },
      {
       "output_type": "stream",
       "stream": "stdout",
       "text": [
        " 13 x0:  [  7.942  11.076] xt:  [8.1212514062239052, 10.847773530279472]\n",
        "iteration: "
       ]
      },
      {
       "output_type": "stream",
       "stream": "stdout",
       "text": [
        " 19 x0:  [  8.004  10.574] xt:  [8.1213583444902575, 10.846361405901746]\n",
        "iteration:  1 x0:  [  8.504  11.378] xt:  [8.4780958135701443, 11.289920520506319]\n",
        "iteration: "
       ]
      },
      {
       "output_type": "stream",
       "stream": "stdout",
       "text": [
        " 4 x0:  [  8.118  11.012] xt:  [8.1214553244020529, 10.878817163383355]\n",
        "iteration: "
       ]
      },
      {
       "output_type": "stream",
       "stream": "stdout",
       "text": [
        " 14 x0:  [  7.874  11.296] xt:  [8.1212569774759942, 10.848217748310805]\n",
        "iteration: "
       ]
      },
      {
       "output_type": "stream",
       "stream": "stdout",
       "text": [
        " 15 x0:  [  7.668  10.924] xt:  [8.1212800783751007, 10.846823695994177]\n",
        "iteration: "
       ]
      },
      {
       "output_type": "stream",
       "stream": "stdout",
       "text": [
        " 17 x0:  [  7.966  10.72 ] xt:  [8.1213527447769156, 10.846393553130969]\n",
        "iteration: "
       ]
      },
      {
       "output_type": "stream",
       "stream": "stdout",
       "text": [
        " 13 x0:  [  7.94   10.996] xt:  [8.1212581718732775, 10.84737178949109]\n",
        "iteration: "
       ]
      },
      {
       "output_type": "stream",
       "stream": "stdout",
       "text": [
        " 13 x0:  [  7.988  11.228] xt:  [8.1212683702581998, 10.848579097792017]\n",
        "iteration:  1 x0:  [  8.164  11.112] xt:  [8.1521820680049828, 11.025779980833633]\n",
        "iteration: "
       ]
      },
      {
       "output_type": "stream",
       "stream": "stdout",
       "text": [
        " 15 x0:  [  8.386  10.772] xt:  [8.1214131045086635, 10.84633759046751]\n",
        "iteration:  1 x0:  [  8.248  10.994] xt:  [8.2010770143387965, 10.948551013279989]\n",
        "iteration: "
       ]
      },
      {
       "output_type": "stream",
       "stream": "stdout",
       "text": [
        " 17 x0:  [  8.286  10.734] xt:  [8.1213675436779074, 10.846396587035009]\n",
        "iteration: "
       ]
      },
      {
       "output_type": "stream",
       "stream": "stdout",
       "text": [
        " 22 x0:  [  8.224  10.316] xt:  [8.1213605783968887, 10.846346812296328]\n",
        "iteration: "
       ]
      },
      {
       "output_type": "stream",
       "stream": "stdout",
       "text": [
        " 22 x0:  [ 7.976  9.578] xt:  [8.0947753106737466, 9.0825251185118656]\n",
        "iteration: "
       ]
      },
      {
       "output_type": "stream",
       "stream": "stdout",
       "text": [
        " 19 x0:  [ 7.876  8.796] xt:  [8.0950284353143456, 9.0819849058316375]\n",
        "iteration: "
       ]
      },
      {
       "output_type": "stream",
       "stream": "stdout",
       "text": [
        " 18 x0:  [ 8.172  9.01 ] xt:  [8.0950522725115519, 9.081984411102404]\n",
        "iteration: "
       ]
      },
      {
       "output_type": "stream",
       "stream": "stdout",
       "text": [
        " 17 x0:  [ 8.068  9.202] xt:  [8.0947999504909181, 9.0824752793662888]\n",
        "iteration: "
       ]
      },
      {
       "output_type": "stream",
       "stream": "stdout",
       "text": [
        " 24 x0:  [ 8.416  8.654] xt:  [8.0950685335927446, 9.0819516275040897]\n",
        "iteration: "
       ]
      },
      {
       "output_type": "stream",
       "stream": "stdout",
       "text": [
        " 36 x0:  [ 8.71   8.458] xt:  [8.0950477694595246, 9.0819904878784765]\n",
        "iteration: "
       ]
      },
      {
       "output_type": "stream",
       "stream": "stdout",
       "text": [
        " 24 x0:  [ 8.056  8.434] xt:  [8.0950400781245921, 9.0819994072303327]\n",
        "iteration: "
       ]
      },
      {
       "output_type": "stream",
       "stream": "stdout",
       "text": [
        " 22 x0:  [ 7.304  9.266] xt:  [8.0947812472855052, 9.0824739689752327]\n",
        "iteration: "
       ]
      },
      {
       "output_type": "stream",
       "stream": "stdout",
       "text": [
        " 23 x0:  [ 8.118  8.608] xt:  [8.0950373950538257, 9.0820048052823594]\n",
        "iteration: "
       ]
      },
      {
       "output_type": "stream",
       "stream": "stdout",
       "text": [
        " 22 x0:  [ 7.616  9.446] xt:  [8.0947956645660142, 9.0824687992759099]\n",
        "iteration: "
       ]
      },
      {
       "output_type": "stream",
       "stream": "stdout",
       "text": [
        " 18 x0:  [ 8.092  8.956] xt:  [8.0950500034357642, 9.0819718744533589]\n",
        "iteration: "
       ]
      },
      {
       "output_type": "stream",
       "stream": "stdout",
       "text": [
        " 21 x0:  [ 8.368  8.968] xt:  [8.0950532864425764, 9.0819848233331335]\n",
        "iteration: "
       ]
      },
      {
       "output_type": "stream",
       "stream": "stdout",
       "text": [
        " 19 x0:  [ 8.022  9.334] xt:  [8.0947719071618458, 9.0825295724360551]\n",
        "iteration:  1 x0:  [ 8.32   9.062] xt:  [8.2423371261304865, 9.0540289937844651]\n",
        "iteration: "
       ]
      },
      {
       "output_type": "stream",
       "stream": "stdout",
       "text": [
        " 16 x0:  [ 7.832  8.952] xt:  [8.0948719814277244, 9.0821591946537978]\n",
        "iteration: "
       ]
      },
      {
       "output_type": "stream",
       "stream": "stdout",
       "text": [
        " 20 x0:  [ 7.704  8.672] xt:  [8.0950133856772624, 9.0820058664036853]\n",
        "iteration:  1 x0:  [ 8.236  9.108] xt:  [8.1824487998922457, 9.0926544056555887]\n",
        "iteration: "
       ]
      },
      {
       "output_type": "stream",
       "stream": "stdout",
       "text": [
        " 22 x0:  [ 8.37   8.904] xt:  [8.0950436164531432, 9.0819996977009971]\n",
        "iteration: "
       ]
      },
      {
       "output_type": "stream",
       "stream": "stdout",
       "text": [
        " 22 x0:  [ 8.352  8.896] xt:  [8.09504114045812, 9.0820038348384742]\n",
        "iteration: "
       ]
      },
      {
       "output_type": "stream",
       "stream": "stdout",
       "text": [
        " 17 x0:  [ 8.046  9.228] xt:  [8.0947546455307808, 9.0825628877125286]\n",
        "iteration: "
       ]
      },
      {
       "output_type": "stream",
       "stream": "stdout",
       "text": [
        " 22 x0:  [ 7.71   9.538] xt:  [8.0947660583468135, 9.0825342060338219]\n",
        "iteration: "
       ]
      },
      {
       "output_type": "stream",
       "stream": "stdout",
       "text": [
        " 27 x0:  [ 8.534  8.55 ] xt:  [8.0950484587889395, 9.0819889938078848]\n",
        "iteration: "
       ]
      },
      {
       "output_type": "stream",
       "stream": "stdout",
       "text": [
        " 17 x0:  [ 7.996  9.172] xt:  [8.0947889349223363, 9.0824722912369875]\n",
        "iteration: "
       ]
      },
      {
       "output_type": "stream",
       "stream": "stdout",
       "text": [
        " 17 x0:  [ 8.046  9.204] xt:  [8.0947836449894002, 9.0825016476816707]\n",
        "iteration:  1 x0:  [ 8.622  9.174] xt:  [8.4870440106909406, 9.1257229679265919]\n",
        "iteration: "
       ]
      },
      {
       "output_type": "stream",
       "stream": "stdout",
       "text": [
        " 16 x0:  [ 7.776  8.898] xt:  [8.0948846796823393, 9.0820825292229088]\n",
        "iteration: "
       ]
      },
      {
       "output_type": "stream",
       "stream": "stdout",
       "text": [
        " 18 x0:  [ 8.226  9.038] xt:  [8.0950612469482603, 9.0819782399596942]\n",
        "iteration: "
       ]
      },
      {
       "output_type": "stream",
       "stream": "stdout",
       "text": [
        " 18 x0:  [ 7.904  9.194] xt:  [8.09477877585595, 9.0824847211836754]\n",
        "iteration: "
       ]
      },
      {
       "output_type": "stream",
       "stream": "stdout",
       "text": [
        " 18 x0:  [ 7.874  8.856] xt:  [8.0950101387100251, 9.0819994547562128]\n",
        "iteration: "
       ]
      },
      {
       "output_type": "stream",
       "stream": "stdout",
       "text": [
        " 17 x0:  [ 7.992  8.952] xt:  [8.0950164496163168, 9.0819997961445189]\n",
        "iteration:  1 x0:  [ 8.262  9.468] xt:  [8.1934532281396617, 9.3865545578895446]\n",
        "iteration: "
       ]
      },
      {
       "output_type": "stream",
       "stream": "stdout",
       "text": [
        " 1 x0:  [ 8.088  9.294] xt:  [8.0827151122487368, 9.2357979693097878]\n",
        "iteration: "
       ]
      },
      {
       "output_type": "stream",
       "stream": "stdout",
       "text": [
        " 25 x0:  [ 8.034  9.792] xt:  [8.0947546224869189, 9.0825712152920239]\n",
        "iteration: "
       ]
      },
      {
       "output_type": "stream",
       "stream": "stdout",
       "text": [
        " 20 x0:  [ 8.352  9.016] xt:  [8.0950617971369283, 9.0819738870753408]\n",
        "iteration: "
       ]
      },
      {
       "output_type": "stream",
       "stream": "stdout",
       "text": [
        " 20 x0:  [ 7.85   9.334] xt:  [8.0947870831622524, 9.0824858585774582]\n",
        "iteration:  1 x0:  [ 8.404  9.366] xt:  [8.2956399636272913, 9.2944688754942089]\n",
        "iteration: "
       ]
      },
      {
       "output_type": "stream",
       "stream": "stdout",
       "text": [
        " 19 x0:  [ 7.892  8.808] xt:  [8.0950278367878443, 9.0819888853107855]\n",
        "iteration:  1 x0:  [ 8.202  9.232] xt:  [8.1552220232370196, 9.1847754839558498]\n",
        "iteration: "
       ]
      },
      {
       "output_type": "stream",
       "stream": "stdout",
       "text": [
        " 18 x0:  [ 7.668  9.026] xt:  [8.0947882960234558, 9.0823968987345829]\n",
        "iteration:  1 x0:  [ 8.242  9.308] xt:  [8.1793226867427489, 9.2437265551971883]\n",
        "iteration: "
       ]
      },
      {
       "output_type": "stream",
       "stream": "stdout",
       "text": [
        " 1 x0:  [ 9.432  8.61 ] xt:  [9.4169046246892094, 8.4816557272467961]\n",
        "iteration:  1 x0:  [ 10.066   8.19 ] xt:  [9.9894764039205945, 8.154829426357681]\n",
        "iteration: "
       ]
      },
      {
       "output_type": "stream",
       "stream": "stdout",
       "text": [
        " 19 x0:  [ 9.146  8.044] xt:  [9.4804563517508029, 7.9604479967257431]\n",
        "iteration: "
       ]
      },
      {
       "output_type": "stream",
       "stream": "stdout",
       "text": [
        " 17 x0:  [ 9.662  7.866] xt:  [9.4807596526342355, 7.9601522536287712]\n",
        "iteration: "
       ]
      },
      {
       "output_type": "stream",
       "stream": "stdout",
       "text": [
        " 16 x0:  [ 9.6    7.874] xt:  [9.4807751586249847, 7.9601325581673414]\n",
        "iteration: "
       ]
      },
      {
       "output_type": "stream",
       "stream": "stdout",
       "text": [
        " 28 x0:  [ 8.618  8.552] xt:  [8.0950644979761091, 9.0819597621568384]\n",
        "iteration: "
       ]
      },
      {
       "output_type": "stream",
       "stream": "stdout",
       "text": [
        " 17 x0:  [ 9.334  7.658] xt:  [9.4806872620227658, 7.9601762489980219]\n",
        "iteration: "
       ]
      },
      {
       "output_type": "stream",
       "stream": "stdout",
       "text": [
        " 15 x0:  [ 9.424  7.83 ] xt:  [9.4806859498310825, 7.9601686473771087]\n",
        "iteration: "
       ]
      },
      {
       "output_type": "stream",
       "stream": "stdout",
       "text": [
        " 23 x0:  [ 8.892  8.166] xt:  [9.4804702122028548, 7.9604394366404527]\n",
        "iteration: "
       ]
      },
      {
       "output_type": "stream",
       "stream": "stdout",
       "text": [
        " 16 x0:  [ 9.386  7.746] xt:  [9.4806945740479893, 7.9601620385369793]\n",
        "iteration:  1 x0:  [ 9.878  8.054] xt:  [9.7743554970862032, 8.0278126823629101]\n",
        "iteration: "
       ]
      },
      {
       "output_type": "stream",
       "stream": "stdout",
       "text": [
        " 14 x0:  [ 9.558  7.948] xt:  [9.4807908267774099, 7.9601437689216663]\n",
        "iteration: "
       ]
      },
      {
       "output_type": "stream",
       "stream": "stdout",
       "text": [
        " 18 x0:  [ 9.222  8.002] xt:  [9.4804694947984576, 7.9604310499614641]\n",
        "iteration:  1 x0:  [ 9.52   8.282] xt:  [9.4954669111103343, 8.1831337414536129]\n",
        "iteration: "
       ]
      },
      {
       "output_type": "stream",
       "stream": "stdout",
       "text": [
        " 17 x0:  [ 9.76   7.932] xt:  [9.480793303068161, 7.9601398572319448]\n",
        "iteration:  1 x0:  [ 9.568  8.052] xt:  [9.5335710815608827, 8.0162019113025202]\n",
        "iteration: "
       ]
      },
      {
       "output_type": "stream",
       "stream": "stdout",
       "text": [
        " 19 x0:  [ 9.736  7.552] xt:  [9.4807588119463766, 7.9601382776464451]\n",
        "iteration:  1 x0:  [ 9.584  8.478] xt:  [9.5487770649721284, 8.3536874308949756]\n",
        "iteration: "
       ]
      },
      {
       "output_type": "stream",
       "stream": "stdout",
       "text": [
        " 19 x0:  [ 9.358  8.242] xt:  [9.4804796509112368, 7.9604387208168061]\n",
        "iteration: "
       ]
      },
      {
       "output_type": "stream",
       "stream": "stdout",
       "text": [
        " 16 x0:  [ 9.404  7.79 ] xt:  [9.4806783983623895, 7.9601884102005682]\n",
        "iteration:  1 x0:  [ 9.458  8.54 ] xt:  [9.441073707074759, 8.4113409227138245]\n",
        "iteration: "
       ]
      },
      {
       "output_type": "stream",
       "stream": "stdout",
       "text": [
        " 17 x0:  [ 9.482  7.766] xt:  [9.4807106547842626, 7.9601755333457866]\n",
        "iteration: "
       ]
      },
      {
       "output_type": "stream",
       "stream": "stdout",
       "text": [
        " 22 x0:  [ 8.844  8.024] xt:  [9.4804451148829791, 7.9604622260096303]\n",
        "iteration: "
       ]
      },
      {
       "output_type": "stream",
       "stream": "stdout",
       "text": [
        " 21 x0:  [ 9.29   8.472] xt:  [9.4804473145720802, 7.960471421613275]\n",
        "iteration: "
       ]
      },
      {
       "output_type": "stream",
       "stream": "stdout",
       "text": [
        " 17 x0:  [ 9.274  7.566] xt:  [9.4807017046634545, 7.9601441345949437]\n",
        "iteration: "
       ]
      },
      {
       "output_type": "stream",
       "stream": "stdout",
       "text": [
        " 19 x0:  [ 9.11   8.014] xt:  [9.4804473624764185, 7.9604549289885416]\n",
        "iteration: "
       ]
      },
      {
       "output_type": "stream",
       "stream": "stdout",
       "text": [
        " 18 x0:  [ 9.542  7.688] xt:  [9.4807224136569879, 7.9601694882000915]\n",
        "iteration: "
       ]
      },
      {
       "output_type": "stream",
       "stream": "stdout",
       "text": [
        " 16 x0:  [ 9.432  8.122] xt:  [9.4804266341589454, 7.9605077479132706]\n",
        "iteration:  1 x0:  [ 9.786  8.066] xt:  [9.6942424946730661, 8.0298375115382719]\n",
        "iteration: "
       ]
      },
      {
       "output_type": "stream",
       "stream": "stdout",
       "text": [
        " 17 x0:  [ 9.382  7.664] xt:  [9.4807081859218396, 7.96015963049999]\n",
        "iteration: "
       ]
      },
      {
       "output_type": "stream",
       "stream": "stdout",
       "text": [
        " 18 x0:  [ 9.404  8.228] xt:  [9.480454917059955, 7.9604708457693834]\n",
        "iteration: "
       ]
      },
      {
       "output_type": "stream",
       "stream": "stdout",
       "text": [
        " 20 x0:  [ 9.146  8.158] xt:  [9.4804618100884372, 7.9604478495300661]\n",
        "iteration:  1 x0:  [ 9.622  8.004] xt:  [9.5702780466374602, 7.9842518608673014]\n",
        "iteration: "
       ]
      },
      {
       "output_type": "stream",
       "stream": "stdout",
       "text": [
        " 5 x0:  [ 10.286   7.892] xt:  [9.8391400539997846, 8.0034037460312195]\n",
        "iteration: "
       ]
      },
      {
       "output_type": "stream",
       "stream": "stdout",
       "text": [
        " 17 x0:  [ 9.43   7.676] xt:  [9.4807254091796764, 7.9601472338947321]\n",
        "iteration: "
       ]
      },
      {
       "output_type": "stream",
       "stream": "stdout",
       "text": [
        " 15 x0:  [ 9.44   8.058] xt:  [9.4804415206993138, 7.9604888633326372]\n",
        "iteration: "
       ]
      },
      {
       "output_type": "stream",
       "stream": "stdout",
       "text": [
        " 19 x0:  [ 9.788  7.684] xt:  [9.4807457274891114, 7.9601592980362064]\n",
        "iteration: "
       ]
      },
      {
       "output_type": "stream",
       "stream": "stdout",
       "text": [
        " 16 x0:  [ 9.586  7.91 ] xt:  [9.4807422457619808, 7.9601702249398771]\n",
        "iteration: "
       ]
      },
      {
       "output_type": "stream",
       "stream": "stdout",
       "text": [
        " 20 x0:  [ 9.694  7.448] xt:  [9.4807236801080936, 7.9601731543554459]\n",
        "iteration: "
       ]
      },
      {
       "output_type": "stream",
       "stream": "stdout",
       "text": [
        " 16 x0:  [ 9.576  7.866] xt:  [9.4807612539872981, 7.9601413059157275]\n",
        "iteration:  1 x0:  [ 11.442   8.688] xt:  [11.39692274321256, 8.609709296750891]\n",
        "iteration: "
       ]
      },
      {
       "output_type": "stream",
       "stream": "stdout",
       "text": [
        " 1 x0:  [ 11.466   8.558] xt:  [11.40161224981015, 8.5124473536150287]\n",
        "iteration: "
       ]
      },
      {
       "output_type": "stream",
       "stream": "stdout",
       "text": [
        " 24 x0:  [ 10.674   8.936] xt:  [11.260358330272121, 8.3995008240539288]\n",
        "iteration: "
       ]
      },
      {
       "output_type": "stream",
       "stream": "stdout",
       "text": [
        " 17 x0:  [ 11.23    8.126] xt:  [11.260458843012289, 8.3993702880085213]\n",
        "iteration:  1 x0:  [ 11.614   8.588] xt:  [11.508689940111232, 8.5492565033638162]\n",
        "iteration: "
       ]
      },
      {
       "output_type": "stream",
       "stream": "stdout",
       "text": [
        " 1 x0:  [ 11.59    8.496] xt:  [11.482897779269617, 8.4764348479321292]\n",
        "iteration: "
       ]
      },
      {
       "output_type": "stream",
       "stream": "stdout",
       "text": [
        " 21 x0:  [ 11.536   7.586] xt:  [11.260551613289323, 8.3993855981965684]\n",
        "iteration: "
       ]
      },
      {
       "output_type": "stream",
       "stream": "stdout",
       "text": [
        " 15 x0:  [ 11.638   8.266] xt:  [11.26112114837103, 8.3994108423404459]\n",
        "iteration: "
       ]
      },
      {
       "output_type": "stream",
       "stream": "stdout",
       "text": [
        " 15 x0:  [ 11.16   8.43] xt:  [11.260304392538247, 8.3994908602387639]\n",
        "iteration: "
       ]
      },
      {
       "output_type": "stream",
       "stream": "stdout",
       "text": [
        " 19 x0:  [ 10.904   8.532] xt:  [11.260312510897265, 8.399487962120098]\n",
        "iteration:  2 x0:  [ 11.284   8.742] xt:  [11.282713432951397, 8.5618697879403154]\n",
        "iteration: "
       ]
      },
      {
       "output_type": "stream",
       "stream": "stdout",
       "text": [
        " 16 x0:  [ 11.25    8.192] xt:  [11.26046780297809, 8.3993521180907127]\n",
        "iteration: "
       ]
      },
      {
       "output_type": "stream",
       "stream": "stdout",
       "text": [
        " 20 x0:  [ 10.84    8.218] xt:  [11.260338690963039, 8.3994467419037502]\n",
        "iteration:  1 x0:  [ 11.798   8.836] xt:  [11.696375187306099, 8.8103695661425334]\n",
        "iteration: "
       ]
      },
      {
       "output_type": "stream",
       "stream": "stdout",
       "text": [
        " 17 x0:  [ 11.51    8.094] xt:  [11.260664543328701, 8.399365496786638]\n",
        "iteration: "
       ]
      },
      {
       "output_type": "stream",
       "stream": "stdout",
       "text": [
        " 20 x0:  [ 10.932   7.796] xt:  [11.26034927044844, 8.3993837736030716]\n",
        "iteration: "
       ]
      },
      {
       "output_type": "stream",
       "stream": "stdout",
       "text": [
        " 16 x0:  [ 11.404   8.206] xt:  [11.260639925273834, 8.3993739089267727]\n",
        "iteration: "
       ]
      },
      {
       "output_type": "stream",
       "stream": "stdout",
       "text": [
        " 17 x0:  [ 11.088   8.326] xt:  [11.260339950713274, 8.3994382908682912]\n",
        "iteration: "
       ]
      },
      {
       "output_type": "stream",
       "stream": "stdout",
       "text": [
        " 16 x0:  [ 11.334   8.17 ] xt:  [11.260562116207939, 8.3993445528688575]\n",
        "iteration: "
       ]
      },
      {
       "output_type": "stream",
       "stream": "stdout",
       "text": [
        " 8 x0:  [ 11.272   8.394] xt:  [11.26088579353728, 8.3993709369128684]\n",
        "iteration:  2 x0:  [ 11.59    8.408] xt:  [11.402070018880488, 8.4120466436741559]\n",
        "iteration: "
       ]
      },
      {
       "output_type": "stream",
       "stream": "stdout",
       "text": [
        " 13 x0:  [ 11.212   8.516] xt:  [11.26032848920766, 8.3997514480430269]\n",
        "iteration: "
       ]
      },
      {
       "output_type": "stream",
       "stream": "stdout",
       "text": [
        " 18 x0:  [ 11.566   8.024] xt:  [11.260637231027479, 8.399384436396149]\n",
        "iteration: "
       ]
      },
      {
       "output_type": "stream",
       "stream": "stdout",
       "text": [
        " 7 x0:  [ 11.246   8.584] xt:  [11.260529813400284, 8.4072224860459919]\n",
        "iteration: "
       ]
      },
      {
       "output_type": "stream",
       "stream": "stdout",
       "text": [
        " 6 x0:  [ 11.252   8.566] xt:  [11.260813699752113, 8.4104857738224332]\n",
        "iteration: "
       ]
      },
      {
       "output_type": "stream",
       "stream": "stdout",
       "text": [
        " 20 x0:  [ 10.78    8.294] xt:  [11.26029421117879, 8.3994519797658143]\n",
        "iteration: "
       ]
      },
      {
       "output_type": "stream",
       "stream": "stdout",
       "text": [
        " 17 x0:  [ 11.04    8.322] xt:  [11.260285626438812, 8.3994328197651473]\n",
        "iteration: "
       ]
      },
      {
       "output_type": "stream",
       "stream": "stdout",
       "text": [
        " 19 x0:  [ 11.198   7.886] xt:  [11.26046178905883, 8.3993834009182802]\n",
        "iteration: "
       ]
      },
      {
       "output_type": "stream",
       "stream": "stdout",
       "text": [
        " 15 x0:  [ 11.168   8.262] xt:  [11.260302853103918, 8.3993345536700534]\n",
        "iteration: "
       ]
      },
      {
       "output_type": "stream",
       "stream": "stdout",
       "text": [
        " 18 x0:  [ 11.88   8.08] xt:  [11.260839138587164, 8.3993985488834237]\n",
        "iteration:  1 x0:  [ 11.356   8.586] xt:  [11.32888293019124, 8.5253096490984976]\n",
        "iteration: "
       ]
      },
      {
       "output_type": "stream",
       "stream": "stdout",
       "text": [
        " 15 x0:  [ 11.182   8.342] xt:  [11.260340694342302, 8.3994119533852629]\n",
        "iteration: "
       ]
      },
      {
       "output_type": "stream",
       "stream": "stdout",
       "text": [
        " 20 x0:  [ 10.836   8.664] xt:  [11.260314678731305, 8.3995008848519532]\n",
        "iteration:  1 x0:  [ 11.696   8.906] xt:  [11.628860874608339, 8.862000619978426]\n",
        "iteration: "
       ]
      },
      {
       "output_type": "stream",
       "stream": "stdout",
       "text": [
        " 15 x0:  [ 11.282   8.28 ] xt:  [11.260519698274742, 8.3993688185661846]\n",
        "iteration: "
       ]
      },
      {
       "output_type": "stream",
       "stream": "stdout",
       "text": [
        " 21 x0:  [ 10.718   8.534] xt:  [11.260315541806477, 8.3994788577053523]\n",
        "iteration: "
       ]
      },
      {
       "output_type": "stream",
       "stream": "stdout",
       "text": [
        " 25 x0:  [ 10.444   8.684] xt:  [11.260329466396138, 8.3994807767268949]\n",
        "iteration: "
       ]
      },
      {
       "output_type": "stream",
       "stream": "stdout",
       "text": [
        " 16 x0:  [ 11.124   8.618] xt:  [11.260325508890562, 8.39960591970266]\n",
        "iteration:  1 x0:  [ 11.392   8.94 ] xt:  [11.390480969565505, 8.8380166453649416]\n",
        "iteration: "
       ]
      },
      {
       "output_type": "stream",
       "stream": "stdout",
       "text": [
        " 15 x0:  [ 11.212   8.308] xt:  [11.260395641413544, 8.3993848558333752]\n",
        "iteration: "
       ]
      },
      {
       "output_type": "stream",
       "stream": "stdout",
       "text": [
        " 19 x0:  [ 16.674   9.638] xt:  [16.37336068798205, 9.8906204289937225]\n",
        "iteration: "
       ]
      },
      {
       "output_type": "stream",
       "stream": "stdout",
       "text": [
        " 9 x0:  [ 16.162  10.302] xt:  [16.374268644779626, 9.90654544041214]\n",
        "iteration:  1 x0:  [ 16.612  10.218] xt:  [16.528265091476083, 10.141335073037189]\n",
        "iteration: "
       ]
      },
      {
       "output_type": "stream",
       "stream": "stdout",
       "text": [
        " 19 x0:  [ 16.1     9.702] xt:  [16.37335714935989, 9.8906303739211605]\n",
        "iteration:  1 x0:  [ 16.404  10.072] xt:  [16.39511916251228, 10.019090909474562]\n",
        "iteration: "
       ]
      },
      {
       "output_type": "stream",
       "stream": "stdout",
       "text": [
        " 13 x0:  [ 15.93   10.106] xt:  [16.373358997554732, 9.8922122543049102]\n",
        "iteration: "
       ]
      },
      {
       "output_type": "stream",
       "stream": "stdout",
       "text": [
        " 13 x0:  [ 16.128   9.888] xt:  [16.373273206903079, 9.8905819425692858]\n",
        "iteration:  1 x0:  [ 16.41   10.188] xt:  [16.403224568549025, 10.105508515113229]\n",
        "iteration: "
       ]
      },
      {
       "output_type": "stream",
       "stream": "stdout",
       "text": [
        " 13 x0:  [ 15.982   9.92 ] xt:  [16.373225463812368, 9.8907302465180802]\n",
        "iteration: "
       ]
      },
      {
       "output_type": "stream",
       "stream": "stdout",
       "text": [
        " 10 x0:  [ 16.224  10.02 ] xt:  [16.373368278707467, 9.8934008650547334]\n",
        "iteration: "
       ]
      },
      {
       "output_type": "stream",
       "stream": "stdout",
       "text": [
        " 20 x0:  [ 16.296   9.458] xt:  [16.373352555015828, 9.8905793929716435]\n",
        "iteration:  1 x0:  [ 16.586  10.174] xt:  [16.508246461066058, 10.105213345772329]\n",
        "iteration: "
       ]
      },
      {
       "output_type": "stream",
       "stream": "stdout",
       "text": [
        " 5 x0:  [ 16.314  10.716] xt:  [16.395117587738735, 10.098503011702057]\n",
        "iteration: "
       ]
      },
      {
       "output_type": "stream",
       "stream": "stdout",
       "text": [
        " 20 x0:  [ 16.278   9.452] xt:  [16.373352011337367, 9.8905756691775899]\n",
        "iteration: "
       ]
      },
      {
       "output_type": "stream",
       "stream": "stdout",
       "text": [
        " 19 x0:  [ 16.622   9.652] xt:  [16.37336115608521, 9.8906287945944058]\n",
        "iteration: "
       ]
      },
      {
       "output_type": "stream",
       "stream": "stdout",
       "text": [
        " 20 x0:  [ 16.22    9.494] xt:  [16.373353805002616, 9.8905919835668925]\n",
        "iteration:  1 x0:  [ 16.626  10.162] xt:  [16.533131978212104, 10.098850447253474]\n",
        "iteration: "
       ]
      },
      {
       "output_type": "stream",
       "stream": "stdout",
       "text": [
        " 1 x0:  [ 16.982  10.596] xt:  [16.866930280555163, 10.505704466132993]\n",
        "iteration: "
       ]
      },
      {
       "output_type": "stream",
       "stream": "stdout",
       "text": [
        " 8 x0:  [ 16.27   10.128] xt:  [16.373981104230708, 9.9027177425534596]\n",
        "iteration: "
       ]
      },
      {
       "output_type": "stream",
       "stream": "stdout",
       "text": [
        " 18 x0:  [ 16.202   9.7  ] xt:  [16.37334974426291, 9.8905726017865732]\n",
        "iteration: "
       ]
      },
      {
       "output_type": "stream",
       "stream": "stdout",
       "text": [
        " 16 x0:  [ 16.532   9.776] xt:  [16.373359228953227, 9.8905651979682556]\n",
        "iteration: "
       ]
      },
      {
       "output_type": "stream",
       "stream": "stdout",
       "text": [
        " 16 x0:  [ 17.124   9.726] xt:  [16.373447838812396, 9.8905963246361637]\n",
        "iteration: "
       ]
      },
      {
       "output_type": "stream",
       "stream": "stdout",
       "text": [
        " 18 x0:  [ 16.47    9.698] xt:  [16.373356261924286, 9.8905952063238942]\n",
        "iteration: "
       ]
      },
      {
       "output_type": "stream",
       "stream": "stdout",
       "text": [
        " 11 x0:  [ 16.004  10.28 ] xt:  [16.373614007200658, 9.8975676239265979]\n",
        "iteration: "
       ]
      },
      {
       "output_type": "stream",
       "stream": "stdout",
       "text": [
        " 16 x0:  [ 16.366   9.796] xt:  [16.373351476334758, 9.8905691456413294]\n",
        "iteration: "
       ]
      },
      {
       "output_type": "stream",
       "stream": "stdout",
       "text": [
        " 20 x0:  [ 16.268   9.522] xt:  [16.373355943540229, 9.8906073883226568]\n",
        "iteration: "
       ]
      },
      {
       "output_type": "stream",
       "stream": "stdout",
       "text": [
        " 18 x0:  [ 16.13    9.748] xt:  [16.373353262313124, 9.8906096501375185]\n",
        "iteration:  1 x0:  [ 16.67   10.498] xt:  [16.594907592165768, 10.37715251183114]\n",
        "iteration: "
       ]
      },
      {
       "output_type": "stream",
       "stream": "stdout",
       "text": [
        " 1 x0:  [ 16.488  10.542] xt:  [16.471383832022045, 10.400410533667149]\n",
        "iteration:  1 x0:  [ 16.57  10.21] xt:  [16.500747613011175, 10.131891567440718]\n",
        "iteration:  1 x0:  [ 16.456  10.112] xt:  [16.426354899377838, 10.050629551447201]\n",
        "iteration: "
       ]
      },
      {
       "output_type": "stream",
       "stream": "stdout",
       "text": [
        " 1 x0:  [ 16.482   9.986] xt:  [16.435828430423115, 9.9601068318829693]\n",
        "iteration: "
       ]
      },
      {
       "output_type": "stream",
       "stream": "stdout",
       "text": [
        " 17 x0:  [ 16.584   9.754] xt:  [16.373362341327599, 9.8906075570791003]\n",
        "iteration: "
       ]
      },
      {
       "output_type": "stream",
       "stream": "stdout",
       "text": [
        " 12 x0:  [ 16.1    9.93] xt:  [16.373219435458054, 9.8909029348543598]\n",
        "iteration: "
       ]
      },
      {
       "output_type": "stream",
       "stream": "stdout",
       "text": [
        " 19 x0:  [ 16.226   9.67 ] xt:  [16.373356897810318, 9.8906200464878875]\n",
        "iteration: "
       ]
      },
      {
       "output_type": "stream",
       "stream": "stdout",
       "text": [
        " 19 x0:  [ 16.448   9.566] xt:  [16.373351871495238, 9.8905664367919481]\n",
        "iteration: "
       ]
      },
      {
       "output_type": "stream",
       "stream": "stdout",
       "text": [
        " 19 x0:  [ 16.572   9.624] xt:  [16.373358104108938, 9.8906081538325576]\n",
        "iteration: "
       ]
      },
      {
       "output_type": "stream",
       "stream": "stdout",
       "text": [
        " 21 x0:  [ 16.436   9.41 ] xt:  [16.373359205973038, 9.8906288552584041]\n",
        "iteration:  1 x0:  [ 16.502   9.98 ] xt:  [16.447051134186317, 9.9565641472006821]\n",
        "iteration:  1 x0:  [ 16.418   9.966]"
       ]
      },
      {
       "output_type": "stream",
       "stream": "stdout",
       "text": [
        " xt:  [16.399420509964319, 9.9438481307883535]\n",
        "iteration: "
       ]
      },
      {
       "output_type": "stream",
       "stream": "stdout",
       "text": [
        " 16 x0:  [ 14.362  14.644] xt:  [13.967550219934108, 14.952013069263355]\n",
        "iteration: "
       ]
      },
      {
       "output_type": "stream",
       "stream": "stdout",
       "text": [
        " 15 x0:  [ 14.138  14.63 ] xt:  [13.96751504044971, 14.951935416312843]\n",
        "iteration:  1 x0:  [ 14.064  15.072] xt:  [14.025325356499069, 15.024717151397988]\n",
        "iteration: "
       ]
      },
      {
       "output_type": "stream",
       "stream": "stdout",
       "text": [
        " 15 x0:  [ 13.692  14.958] xt:  [13.967249148917363, 14.952203732991523]\n",
        "iteration:  1 x0:  [ 14.238  15.296] xt:  [14.1428832871112, 15.176109574969193]\n",
        "iteration: "
       ]
      },
      {
       "output_type": "stream",
       "stream": "stdout",
       "text": [
        " 15 x0:  [ 13.73   15.128] xt:  [13.967249572094357, 14.952307575416848]\n",
        "iteration: "
       ]
      },
      {
       "output_type": "stream",
       "stream": "stdout",
       "text": [
        " 12 x0:  [ 13.952  14.868] xt:  [13.967393384510089, 14.951948819657291]\n",
        "iteration: "
       ]
      },
      {
       "output_type": "stream",
       "stream": "stdout",
       "text": [
        " 14 x0:  [ 13.986  14.77 ] xt:  [13.967441077983006, 14.951979794571548]\n",
        "iteration: "
       ]
      },
      {
       "output_type": "stream",
       "stream": "stdout",
       "text": [
        " 12 x0:  [ 13.916  14.996] xt:  [13.967273766047864, 14.952300503492662]\n",
        "iteration: "
       ]
      },
      {
       "output_type": "stream",
       "stream": "stdout",
       "text": [
        " 13 x0:  [ 13.874  14.954] xt:  [13.967273834691795, 14.952192217504068]\n",
        "iteration:  1 x0:  [ 14.168  15.276] xt:  [14.094594409179647, 15.158552538192637]\n",
        "iteration:  1 x0:  [ 14.278  15.152] xt:  [14.163151869313703, 15.079401682050747]\n",
        "iteration: "
       ]
      },
      {
       "output_type": "stream",
       "stream": "stdout",
       "text": [
        " 12 x0:  [ 14.098  14.9  ] xt:  [13.967706550970743, 14.952001701255364]\n",
        "iteration: "
       ]
      },
      {
       "output_type": "stream",
       "stream": "stdout",
       "text": [
        " 15 x0:  [ 13.764  15.212] xt:  [13.967257943440798, 14.952357228366028]\n",
        "iteration: "
       ]
      },
      {
       "output_type": "stream",
       "stream": "stdout",
       "text": [
        " 18 x0:  [ 13.948  14.218] xt:  [13.967423397749377, 14.951986873082506]\n",
        "iteration: "
       ]
      },
      {
       "output_type": "stream",
       "stream": "stdout",
       "text": [
        " 13 x0:  [ 14.13   14.838] xt:  [13.967640041597898, 14.951956884738543]\n",
        "iteration: "
       ]
      },
      {
       "output_type": "stream",
       "stream": "stdout",
       "text": [
        " 17 x0:  [ 13.362  14.932] xt:  [13.967234159250893, 14.952207112305958]\n",
        "iteration: "
       ]
      },
      {
       "output_type": "stream",
       "stream": "stdout",
       "text": [
        " 16 x0:  [ 13.546  14.844] xt:  [13.967253137616989, 14.952156579132824]\n",
        "iteration:  1 x0:  [ 14.13  15.11] xt:  [14.066144859109064, 15.048693361752072]\n",
        "iteration: "
       ]
      },
      {
       "output_type": "stream",
       "stream": "stdout",
       "text": [
        " 16 x0:  [ 13.816  14.602] xt:  [13.967375110136274, 14.952024241458943]\n",
        "iteration: "
       ]
      },
      {
       "output_type": "stream",
       "stream": "stdout",
       "text": [
        " 15 x0:  [ 14.386  14.686] xt:  [13.967652789552339, 14.951947581949051]\n",
        "iteration: "
       ]
      },
      {
       "output_type": "stream",
       "stream": "stdout",
       "text": [
        " 14 x0:  [ 13.786  14.726] xt:  [13.967274845372076, 14.951945604806673]\n",
        "iteration: "
       ]
      },
      {
       "output_type": "stream",
       "stream": "stdout",
       "text": [
        " 14 x0:  [ 14.204  14.822] xt:  [13.967610611663083, 14.952013541717632]\n",
        "iteration: "
       ]
      },
      {
       "output_type": "stream",
       "stream": "stdout",
       "text": [
        " 14 x0:  [ 13.856  15.206] xt:  [13.967264532404867, 14.95244151207732]\n",
        "iteration: "
       ]
      },
      {
       "output_type": "stream",
       "stream": "stdout",
       "text": [
        " 17 x0:  [ 14.074  14.384] xt:  [13.967448758029541, 14.951982249712566]\n",
        "iteration: "
       ]
      },
      {
       "output_type": "stream",
       "stream": "stdout",
       "text": [
        " 15 x0:  [ 13.68   14.988] xt:  [13.967236871719091, 14.95222533756975]\n",
        "iteration:  1 x0:  [ 14.204  14.976] xt:  [14.110981824683986, 14.966678436753631]\n",
        "iteration: "
       ]
      },
      {
       "output_type": "stream",
       "stream": "stdout",
       "text": [
        " 18 x0:  [ 13.388  15.39 ] xt:  [13.967258897044784, 14.952297027712008]\n",
        "iteration: "
       ]
      },
      {
       "output_type": "stream",
       "stream": "stdout",
       "text": [
        " 15 x0:  [ 13.708  15.048] xt:  [13.967247429479004, 14.952259576394068]\n",
        "iteration:  1 x0:  [ 14.114  15.366] xt:  [14.061725804007615, 15.222037707024066]\n",
        "iteration: "
       ]
      },
      {
       "output_type": "stream",
       "stream": "stdout",
       "text": [
        " 1 x0:  [ 14.4   15.04] xt:  [14.246926607758825, 15.010119080694952]\n",
        "iteration:  1 x0:  [ 14.194  15.04 ] xt:  [14.105222486157528, 15.006157930430243]\n",
        "iteration: "
       ]
      },
      {
       "output_type": "stream",
       "stream": "stdout",
       "text": [
        " 14 x0:  [ 13.888  15.436] xt:  [13.967235516491623, 14.952723680965629]\n",
        "iteration:  1 x0:  [ 13.958  15.322] xt:  [13.957466257407315, 15.188402037445998]\n",
        "iteration: "
       ]
      },
      {
       "output_type": "stream",
       "stream": "stdout",
       "text": [
        " 14 x0:  [ 13.922  14.802] xt:  [13.967385575182254, 14.952021579204573]\n",
        "iteration: "
       ]
      },
      {
       "output_type": "stream",
       "stream": "stdout",
       "text": [
        " 16 x0:  [ 13.652  14.602] xt:  [13.967313405844822, 14.952025578688607]\n",
        "iteration:  1 x0:  [ 14.294  14.996] xt:  [14.170057281551051, 14.979864000265557]\n",
        "iteration: "
       ]
      },
      {
       "output_type": "stream",
       "stream": "stdout",
       "text": [
        " 16 x0:  [ 13.81   14.526] xt:  [13.967375983260224, 14.951978369528938]\n",
        "iteration: "
       ]
      },
      {
       "output_type": "stream",
       "stream": "stdout",
       "text": [
        " 17 x0:  [ 13.408  15.34 ] xt:  [13.967191804043683, 14.952344875409443]\n",
        "iteration: "
       ]
      },
      {
       "output_type": "stream",
       "stream": "stdout",
       "text": [
        " 14 x0:  [ 13.834  14.778] xt:  [13.967313108330847, 14.952003445071725]\n",
        "iteration:  1 x0:  [  8.826  16.474] xt:  [8.749853687705631, 16.404414723706598]\n",
        "iteration: "
       ]
      },
      {
       "output_type": "stream",
       "stream": "stdout",
       "text": [
        " 14 x0:  [  8.33   16.488] xt:  [8.6306859912152731, 16.269007734967602]\n",
        "iteration: "
       ]
      },
      {
       "output_type": "stream",
       "stream": "stdout",
       "text": [
        " 13 x0:  [  8.468  16.378] xt:  [8.6306819799268624, 16.268945796941246]\n",
        "iteration: "
       ]
      },
      {
       "output_type": "stream",
       "stream": "stdout",
       "text": [
        " 16 x0:  [  8.904  15.846] xt:  [8.6307365581162205, 16.268557161703612]\n",
        "iteration:  1 x0:  [  8.662  16.354] xt:  [8.6506960998876696, 16.323003171064428]\n",
        "iteration:  1 x0:  [  8.684  16.776] xt:  [8.6704266074484995, 16.624868954578663]\n",
        "iteration: "
       ]
      },
      {
       "output_type": "stream",
       "stream": "stdout",
       "text": [
        " 16 x0:  [  8.33   16.066] xt:  [8.6306422360699493, 16.268599548619072]\n",
        "iteration:  1 x0:  [  8.904  16.402] xt:  [8.7973313857875581, 16.358723757151242]\n",
        "iteration:  1 x0:  [  8.778  16.486] xt:  [8.7211363644072399, 16.41118333169673]\n",
        "iteration: "
       ]
      },
      {
       "output_type": "stream",
       "stream": "stdout",
       "text": [
        " 1 x0:  [  8.81   16.458] xt:  [8.739673817661112, 16.393362206527595]\n",
        "iteration: "
       ]
      },
      {
       "output_type": "stream",
       "stream": "stdout",
       "text": [
        " 12 x0:  [  8.398  16.576] xt:  [8.6307389615994801, 16.269849966127651]\n",
        "iteration: "
       ]
      },
      {
       "output_type": "stream",
       "stream": "stdout",
       "text": [
        " 16 x0:  [  8.542  15.918] xt:  [8.6306651824457852, 16.268558865652526]\n",
        "iteration:  1 x0:  [  9.064  16.456] xt:  [8.9124992549624853, 16.400046881652937]\n",
        "iteration: "
       ]
      },
      {
       "output_type": "stream",
       "stream": "stdout",
       "text": [
        " 13 x0:  [  9.152  16.094] xt:  [8.6312695184618047, 16.268652413636119]\n",
        "iteration: "
       ]
      },
      {
       "output_type": "stream",
       "stream": "stdout",
       "text": [
        " 16 x0:  [  8.614  15.908] xt:  [8.6306808538719935, 16.268567586789171]\n",
        "iteration: "
       ]
      },
      {
       "output_type": "stream",
       "stream": "stdout",
       "text": [
        " 7 x0:  [  8.566  17.012] xt:  [8.6358457581936143, 16.315473305285469]\n",
        "iteration: "
       ]
      },
      {
       "output_type": "stream",
       "stream": "stdout",
       "text": [
        " 17 x0:  [  8.12  16.11] xt:  [8.6306460292443585, 16.268634535849973]\n",
        "iteration: "
       ]
      },
      {
       "output_type": "stream",
       "stream": "stdout",
       "text": [
        " 15 x0:  [  8.844  16.026] xt:  [8.6307648388200704, 16.268621330099052]\n",
        "iteration: "
       ]
      },
      {
       "output_type": "stream",
       "stream": "stdout",
       "text": [
        " 15 x0:  [  8.398  16.282] xt:  [8.6306783987592066, 16.26873424580285]\n",
        "iteration: "
       ]
      },
      {
       "output_type": "stream",
       "stream": "stdout",
       "text": [
        " 18 x0:  [  8.808  15.59 ] xt:  [8.6307052562956912, 16.268586661979626]\n",
        "iteration: "
       ]
      },
      {
       "output_type": "stream",
       "stream": "stdout",
       "text": [
        " 14 x0:  [  8.502  16.166] xt:  [8.6306324721444536, 16.268581159884302]\n",
        "iteration: "
       ]
      },
      {
       "output_type": "stream",
       "stream": "stdout",
       "text": [
        " 10 x0:  [  8.942  16.19 ] xt:  [8.6321293147439082, 16.26869865397747]\n",
        "iteration: "
       ]
      },
      {
       "output_type": "stream",
       "stream": "stdout",
       "text": [
        " 16 x0:  [  8.376  16.112] xt:  [8.6306672412770702, 16.268644869798962]\n",
        "iteration: "
       ]
      },
      {
       "output_type": "stream",
       "stream": "stdout",
       "text": [
        " 17 x0:  [  8.518  15.84 ] xt:  [8.6306825471747679, 16.268605390143406]\n",
        "iteration: "
       ]
      },
      {
       "output_type": "stream",
       "stream": "stdout",
       "text": [
        " 15 x0:  [  8.878  16.004] xt:  [8.6307716642510481, 16.268604003721144]\n",
        "iteration: "
       ]
      },
      {
       "output_type": "stream",
       "stream": "stdout",
       "text": [
        " 6 x0:  [  8.582  16.774] xt:  [8.6347018817554027, 16.306808951476714]\n",
        "iteration: "
       ]
      },
      {
       "output_type": "stream",
       "stream": "stdout",
       "text": [
        " 16 x0:  [  8.248  16.154] xt:  [8.6306373409796961, 16.268628658620905]\n",
        "iteration: "
       ]
      },
      {
       "output_type": "stream",
       "stream": "stdout",
       "text": [
        " 12 x0:  [  8.588  16.24 ] xt:  [8.6306587549909022, 16.268646264638896]\n",
        "iteration:  1 x0:  [  8.706  16.374] xt:  [8.6764777125771086, 16.336638793723587]\n",
        "iteration: "
       ]
      },
      {
       "output_type": "stream",
       "stream": "stdout",
       "text": [
        " 12 x0:  [  8.524  16.392] xt:  [8.6307271023389802, 16.269159630698645]\n",
        "iteration: "
       ]
      },
      {
       "output_type": "stream",
       "stream": "stdout",
       "text": [
        " 13 x0:  [  8.458  16.452] xt:  [8.6307309100879746, 16.269132795391567]\n",
        "iteration:  1 x0:  [  8.83  16.36] xt:  [8.7497800263463255, 16.330048578846633]\n",
        "iteration: "
       ]
      },
      {
       "output_type": "stream",
       "stream": "stdout",
       "text": [
        " 14 x0:  [  8.616  16.112] xt:  [8.6306775822719146, 16.268558516084955]\n",
        "iteration:  1 x0:  [  8.844  16.362] xt:  [8.7584541835730327, 16.331569954865586]\n",
        "iteration: "
       ]
      },
      {
       "output_type": "stream",
       "stream": "stdout",
       "text": [
        " 16 x0:  [  8.468  15.928] xt:  [8.6306477744021723, 16.268546665763093]\n",
        "iteration: "
       ]
      },
      {
       "output_type": "stream",
       "stream": "stdout",
       "text": [
        " 4 x0:  [  8.62   16.674] xt:  [8.6375381533502367, 16.340365965946436]\n",
        "iteration:  1 x0:  [  8.974  16.53 ] xt:  [8.8490691882487962, 16.44814236787067]\n",
        "iteration: "
       ]
      },
      {
       "output_type": "stream",
       "stream": "stdout",
       "text": [
        " 14 x0:  [  8.826  16.084] xt:  [8.6307931278527654, 16.268602017667281]\n",
        "iteration: "
       ]
      },
      {
       "output_type": "stream",
       "stream": "stdout",
       "text": [
        " 18 x0:  [  8.104  15.962] xt:  [8.6306675407857671, 16.268643216089544]\n",
        "iteration: "
       ]
      },
      {
       "output_type": "stream",
       "stream": "stdout",
       "text": [
        " 15 x0:  [  8.386  16.24 ] xt:  [8.6306588071935852, 16.268687569250766]\n",
        "iteration:  1 x0:  [  4.576  12.878] xt:  [4.4494240411494328, 12.860769366603778]\n",
        "iteration: "
       ]
      },
      {
       "output_type": "stream",
       "stream": "stdout",
       "text": [
        " 1 x0:  [  4.46  13.16] xt:  [4.3793027044466157, 13.062427109071791]\n",
        "iteration: "
       ]
      },
      {
       "output_type": "stream",
       "stream": "stdout",
       "text": [
        " 18 x0:  [  3.632  12.862] xt:  [4.2407211388498229, 12.808140113738061]\n",
        "iteration: "
       ]
      },
      {
       "output_type": "stream",
       "stream": "stdout",
       "text": [
        " 20 x0:  [  4.238  12.506] xt:  [4.2407564370290967, 12.808073433612112]\n",
        "iteration:  1 x0:  [  4.348  13.268] xt:  [4.3100812481759894, 13.14281778526759]\n",
        "iteration: "
       ]
      },
      {
       "output_type": "stream",
       "stream": "stdout",
       "text": [
        " 22 x0:  [  3.788  12.372] xt:  [4.240751435571628, 12.808070219722136]\n",
        "iteration: "
       ]
      },
      {
       "output_type": "stream",
       "stream": "stdout",
       "text": [
        " 14 x0:  [  4.19   12.772] xt:  [4.2407293297883282, 12.808023319067727]\n",
        "iteration: "
       ]
      },
      {
       "output_type": "stream",
       "stream": "stdout",
       "text": [
        " 18 x0:  [  3.86   12.706] xt:  [4.2407257090019881, 12.808012432730854]\n",
        "iteration: "
       ]
      },
      {
       "output_type": "stream",
       "stream": "stdout",
       "text": [
        " 12 x0:  [  3.978  13.308] xt:  [4.2411943932094687, 12.815109275394914]\n",
        "iteration:  1 x0:  [  4.336  12.854] xt:  [4.2962445787787962, 12.841112420429351]\n",
        "iteration: "
       ]
      },
      {
       "output_type": "stream",
       "stream": "stdout",
       "text": [
        " 6 x0:  [  4.218  13.03 ] xt:  [4.2421710809657407, 12.83267022217569]\n",
        "iteration:  1 x0:  [  4.25   13.002] xt:  [4.2487675919102497, 12.943141284686847]\n",
        "iteration: "
       ]
      },
      {
       "output_type": "stream",
       "stream": "stdout",
       "text": [
        " 1 x0:  [  4.334  13.06 ] xt:  [4.2980187999408628, 12.985477254991808]\n",
        "iteration: "
       ]
      },
      {
       "output_type": "stream",
       "stream": "stdout",
       "text": [
        " 19 x0:  [  4.654  12.566] xt:  [4.2407697777172393, 12.808060249744797]\n",
        "iteration: "
       ]
      },
      {
       "output_type": "stream",
       "stream": "stdout",
       "text": [
        " 9 x0:  [  4.38   12.792] xt:  [4.2417358127889822, 12.808183508474459]\n",
        "iteration: "
       ]
      },
      {
       "output_type": "stream",
       "stream": "stdout",
       "text": [
        " 14 x0:  [  3.968  13.016] xt:  [4.2407973369001004, 12.809310103039595]\n",
        "iteration: "
       ]
      },
      {
       "output_type": "stream",
       "stream": "stdout",
       "text": [
        " 19 x0:  [  4.614  12.526] xt:  [4.2407624739245282, 12.808017305575083]\n",
        "iteration: "
       ]
      },
      {
       "output_type": "stream",
       "stream": "stdout",
       "text": [
        " 18 x0:  [  3.95  12.67] xt:  [4.2407303990079317, 12.808001259345788]\n",
        "iteration: "
       ]
      },
      {
       "output_type": "stream",
       "stream": "stdout",
       "text": [
        " 18 x0:  [  4.038  12.67 ] xt:  [4.240740737923927, 12.808035432030254]\n",
        "iteration: "
       ]
      },
      {
       "output_type": "stream",
       "stream": "stdout",
       "text": [
        " 22 x0:  [  4.426  12.238] xt:  [4.2407579374796835, 12.808072798968974]\n",
        "iteration: "
       ]
      },
      {
       "output_type": "stream",
       "stream": "stdout",
       "text": [
        " 20 x0:  [  4.066  12.514] xt:  [4.2407504720680009, 12.8080553327879]\n",
        "iteration: "
       ]
      },
      {
       "output_type": "stream",
       "stream": "stdout",
       "text": [
        " 20 x0:  [  4.248  12.392] xt:  [4.2407449138112066, 12.807988667377741]\n",
        "iteration:  1 x0:  [  4.61  12.95] xt:  [4.4762269905146237, 12.914004459810471]\n",
        "iteration: "
       ]
      },
      {
       "output_type": "stream",
       "stream": "stdout",
       "text": [
        " 1 x0:  [  4.328  12.99 ] xt:  [4.2934305048599075, 12.935663798297389]\n",
        "iteration: "
       ]
      },
      {
       "output_type": "stream",
       "stream": "stdout",
       "text": [
        " 19 x0:  [  4.5    12.522] xt:  [4.2407576528276669, 12.808016825744518]\n",
        "iteration: "
       ]
      },
      {
       "output_type": "stream",
       "stream": "stdout",
       "text": [
        " 17 x0:  [  4.176  12.71 ] xt:  [4.2407504122134831, 12.808065675402155]\n",
        "iteration: "
       ]
      },
      {
       "output_type": "stream",
       "stream": "stdout",
       "text": [
        " 20 x0:  [  4.492  12.464] xt:  [4.2407587244981064, 12.808051880251586]\n",
        "iteration: "
       ]
      },
      {
       "output_type": "stream",
       "stream": "stdout",
       "text": [
        " 14 x0:  [  4.134  12.834] xt:  [4.2407466378793393, 12.808332917741508]\n",
        "iteration: "
       ]
      },
      {
       "output_type": "stream",
       "stream": "stdout",
       "text": [
        " 14 x0:  [  4.316  12.764] xt:  [4.240790037274432, 12.808071739563921]\n",
        "iteration: "
       ]
      },
      {
       "output_type": "stream",
       "stream": "stdout",
       "text": [
        " 23 x0:  [  4.454  12.084] xt:  [4.2407575983145014, 12.808072079644047]\n",
        "iteration: "
       ]
      },
      {
       "output_type": "stream",
       "stream": "stdout",
       "text": [
        " 14 x0:  [  4.052  12.934] xt:  [4.2407797701141714, 12.808855088996166]\n",
        "iteration:  1 x0:  [  4.26   13.118] xt:  [4.2553786199879893, 13.026875133881623]\n",
        "iteration: "
       ]
      },
      {
       "output_type": "stream",
       "stream": "stdout",
       "text": [
        " 11 x0:  [  4.058  13.718] xt:  [4.2424766762714867, 12.835666885641213]\n",
        "iteration: "
       ]
      },
      {
       "output_type": "stream",
       "stream": "stdout",
       "text": [
        " 18 x0:  [  4.24   12.626] xt:  [4.2407505774120038, 12.808028561618675]\n",
        "iteration: "
       ]
      },
      {
       "output_type": "stream",
       "stream": "stdout",
       "text": [
        " 22 x0:  [  3.838  12.232] xt:  [4.2407431266320339, 12.808011610222279]\n",
        "iteration: "
       ]
      },
      {
       "output_type": "stream",
       "stream": "stdout",
       "text": [
        " 9 x0:  [  4.128  13.4  ] xt:  [4.242327868593005, 12.833856409035478]\n",
        "iteration: "
       ]
      },
      {
       "output_type": "stream",
       "stream": "stdout",
       "text": [
        " 22 x0:  [  3.764  12.38 ] xt:  [4.2407508247946923, 12.808068100693273]\n",
        "iteration:  1 x0:  [  4.424  13.186] xt:  [4.3565918068300666, 13.080780171345403]\n",
        "iteration: "
       ]
      },
      {
       "output_type": "stream",
       "stream": "stdout",
       "text": [
        " 5 x0:  [  4.234  12.994] xt:  [4.2427521066291431, 12.837786005785574]\n",
        "iteration:  1 x0:  [  5.13   13.296] xt:  [5.0183982636925073, 13.245883927281936]\n",
        "iteration: "
       ]
      },
      {
       "output_type": "stream",
       "stream": "stdout",
       "text": [
        " 20 x0:  [ 3.9    6.742] xt:  [4.2031052480989031, 7.1099363654637697]\n",
        "iteration: "
       ]
      },
      {
       "output_type": "stream",
       "stream": "stdout",
       "text": [
        " 19 x0:  [ 3.994  7.206] xt:  [4.2031035931731848, 7.1099374573660201]\n",
        "iteration:  1 x0:  [ 4.278  7.222] xt:  [4.2527737727950283, 7.1690271419882086]\n",
        "iteration: "
       ]
      },
      {
       "output_type": "stream",
       "stream": "stdout",
       "text": [
        " 14 x0:  [ 4.172  6.848] xt:  [4.2030934613061808, 7.1099120633301931]\n",
        "iteration: "
       ]
      },
      {
       "output_type": "stream",
       "stream": "stdout",
       "text": [
        " 20 x0:  [ 3.882  6.894] xt:  [4.2031044509531235, 7.1099367453377686]\n",
        "iteration: "
       ]
      },
      {
       "output_type": "stream",
       "stream": "stdout",
       "text": [
        " 19 x0:  [ 3.936  6.994] xt:  [4.2030909425931364, 7.1099368232103224]\n",
        "iteration: "
       ]
      },
      {
       "output_type": "stream",
       "stream": "stdout",
       "text": [
        " 15 x0:  [ 4.162  6.87 ] xt:  [4.2031009001064206, 7.1099255288170493]\n",
        "iteration: "
       ]
      },
      {
       "output_type": "stream",
       "stream": "stdout",
       "text": [
        " 20 x0:  [ 3.762  7.1  ] xt:  [4.2030811761358517, 7.1099372670562691]\n",
        "iteration:  1 x0:  [ 4.256  7.612] xt:  [4.2461624617817977, 7.4365528020096514]\n",
        "iteration: "
       ]
      },
      {
       "output_type": "stream",
       "stream": "stdout",
       "text": [
        " 13 x0:  [ 4.55   6.822] xt:  [4.2047194763392524, 7.1098671827548356]\n",
        "iteration: "
       ]
      },
      {
       "output_type": "stream",
       "stream": "stdout",
       "text": [
        " 18 x0:  [ 4.062  6.984] xt:  [4.2031033953084078, 7.1099363550083057]\n",
        "iteration: "
       ]
      },
      {
       "output_type": "stream",
       "stream": "stdout",
       "text": [
        " 18 x0:  [ 4.026  7.23 ] xt:  [4.2030868683678539, 7.1099379787179586]\n",
        "iteration:  1 x0:  [ 4.364  7.184] xt:  [4.3105856282845636, 7.1495680003768713]\n",
        "iteration:  1 x0:  [ 4.292  7.208]"
       ]
      },
      {
       "output_type": "stream",
       "stream": "stdout",
       "text": [
        " xt:  [4.2619744238606296, 7.1616139526535143]\n",
        "iteration: "
       ]
      },
      {
       "output_type": "stream",
       "stream": "stdout",
       "text": [
        " 12 x0:  [ 4.288  6.91 ] xt:  [4.2036422042122448, 7.1098639209468928]\n",
        "iteration: "
       ]
      },
      {
       "output_type": "stream",
       "stream": "stdout",
       "text": [
        " 18 x0:  [ 4.018  7.062] xt:  [4.203086514431666, 7.1099369249795128]\n",
        "iteration: "
       ]
      },
      {
       "output_type": "stream",
       "stream": "stdout",
       "text": [
        " 18 x0:  [ 4.07   7.104] xt:  [4.2031057533906715, 7.1099370905544603]\n",
        "iteration:  1 x0:  [ 4.548  7.654] xt:  [4.4747138929948802, 7.4936577849790913]\n",
        "iteration: "
       ]
      },
      {
       "output_type": "stream",
       "stream": "stdout",
       "text": [
        " 9 x0:  [ 4.402  7.082] xt:  [4.2074456177356385, 7.1098614590218769]\n",
        "iteration: "
       ]
      },
      {
       "output_type": "stream",
       "stream": "stdout",
       "text": [
        " 21 x0:  [ 3.692  7.49 ] xt:  [4.2030829322399406, 7.1099378167213043]\n",
        "iteration:  1 x0:  [ 4.888  7.194] xt:  [4.7375586107768068, 7.1640362691978234]\n",
        "iteration:  1 x0:  [ 4.456  7.146] xt:  [4.3752962082061702, 7.1299070809936396]\n",
        "iteration: "
       ]
      },
      {
       "output_type": "stream",
       "stream": "stdout",
       "text": [
        " 1 x0:  [ 4.732  7.154] xt:  [4.5949994692849376, 7.1362557676052258]\n",
        "iteration: "
       ]
      },
      {
       "output_type": "stream",
       "stream": "stdout",
       "text": [
        " 17 x0:  [ 4.088  7.212] xt:  [4.2030868771130798, 7.1099384409629192]\n",
        "iteration: "
       ]
      },
      {
       "output_type": "stream",
       "stream": "stdout",
       "text": [
        " 12 x0:  [ 4.502  6.928] xt:  [4.2050743001372712, 7.1098605552810596]\n",
        "iteration: "
       ]
      },
      {
       "output_type": "stream",
       "stream": "stdout",
       "text": [
        " 23 x0:  [ 3.402  7.434] xt:  [4.2030921497699616, 7.1099374589077309]\n",
        "iteration: "
       ]
      },
      {
       "output_type": "stream",
       "stream": "stdout",
       "text": [
        " 14 x0:  [ 4.246  6.692] xt:  [4.2032821035168011, 7.1098892223212529]\n",
        "iteration: "
       ]
      },
      {
       "output_type": "stream",
       "stream": "stdout",
       "text": [
        " 15 x0:  [ 4.166  7.256] xt:  [4.2031019041195421, 7.1099439518651275]\n",
        "iteration: "
       ]
      },
      {
       "output_type": "stream",
       "stream": "stdout",
       "text": [
        " 14 x0:  [ 4.852  6.83 ] xt:  [4.2057941454875172, 7.1098824922743402]\n",
        "iteration:  1 x0:  [ 4.398  7.428] xt:  [4.3422595233679715, 7.2985870599225953]\n",
        "iteration: "
       ]
      },
      {
       "output_type": "stream",
       "stream": "stdout",
       "text": [
        " 12 x0:  [ 5.016  7.054] xt:  [4.2124630126423428, 7.1098903464384602]\n",
        "iteration: "
       ]
      },
      {
       "output_type": "stream",
       "stream": "stdout",
       "text": [
        " 13 x0:  [ 4.25  6.76] xt:  [4.2033522322388261, 7.1098647560830663]\n",
        "iteration: "
       ]
      },
      {
       "output_type": "stream",
       "stream": "stdout",
       "text": [
        " 21 x0:  [ 3.738  7.082] xt:  [4.2031045640553906, 7.1099371328810239]\n",
        "iteration:  1 x0:  [ 4.254  7.264] xt:  [4.2372567859089019, 7.1919150061989399]\n",
        "iteration: "
       ]
      },
      {
       "output_type": "stream",
       "stream": "stdout",
       "text": [
        " 16 x0:  [ 4.122  7.238] xt:  [4.2030798888274745, 7.1099402702655699]\n",
        "iteration: "
       ]
      },
      {
       "output_type": "stream",
       "stream": "stdout",
       "text": [
        " 20 x0:  [ 3.878  7.232] xt:  [4.2031014573247489, 7.1099373865890954]\n",
        "iteration:  1 x0:  [ 4.55  7.29] xt:  [4.4490814308294402, 7.2155192602736484]\n",
        "iteration: "
       ]
      },
      {
       "output_type": "stream",
       "stream": "stdout",
       "text": [
        " 18 x0:  [ 4.03   7.126] xt:  [4.2030903571270599, 7.109937300576334]\n",
        "iteration: "
       ]
      },
      {
       "output_type": "stream",
       "stream": "stdout",
       "text": [
        " 11 x0:  [ 4.412  7.022] xt:  [4.2050611675743585, 7.1098715828385295]\n",
        "iteration:  1 x0:  [ 4.276  7.244] xt:  [4.2517090055652593, 7.1810555282945341]\n",
        "iteration: "
       ]
      },
      {
       "output_type": "stream",
       "stream": "stdout",
       "text": [
        " 17 x0:  [ 8.376  3.788] xt:  [8.6486990827478802, 3.7532108093708665]\n",
        "iteration:  1 x0:  [ 8.81   3.864] xt:  [8.7508202877559231, 3.823645821504805]\n",
        "iteration: "
       ]
      },
      {
       "output_type": "stream",
       "stream": "stdout",
       "text": [
        " 20 x0:  [ 8.218  3.548] xt:  [8.6487267231283234, 3.7532169964837374]\n",
        "iteration: "
       ]
      },
      {
       "output_type": "stream",
       "stream": "stdout",
       "text": [
        " 18 x0:  [ 8.374  3.748] xt:  [8.6487281427489329, 3.7532241125328918]\n",
        "iteration: "
       ]
      },
      {
       "output_type": "stream",
       "stream": "stdout",
       "text": [
        " 18 x0:  [ 8.102  4.3  ] xt:  [8.6487119518658968, 3.7532827886550408]\n",
        "iteration: "
       ]
      },
      {
       "output_type": "stream",
       "stream": "stdout",
       "text": [
        " 16 x0:  [ 8.386  3.952] xt:  [8.6487099444575382, 3.7532534046480612]\n",
        "iteration: "
       ]
      },
      {
       "output_type": "stream",
       "stream": "stdout",
       "text": [
        " 18 x0:  [ 8.858  3.274] xt:  [8.6487688002287655, 3.7532192730160308]\n",
        "iteration: "
       ]
      },
      {
       "output_type": "stream",
       "stream": "stdout",
       "text": [
        " 15 x0:  [ 8.884  3.504] xt:  [8.6488825098117843, 3.7532456670881085]\n",
        "iteration: "
       ]
      },
      {
       "output_type": "stream",
       "stream": "stdout",
       "text": [
        " 20 x0:  [ 8.294  3.38 ] xt:  [8.6487180506774237, 3.7532073150188729]\n",
        "iteration: "
       ]
      },
      {
       "output_type": "stream",
       "stream": "stdout",
       "text": [
        " 21 x0:  [ 8.38   3.178] xt:  [8.6487349132453684, 3.7532181352602483]\n",
        "iteration:  1 x0:  [ 8.738  4.294] xt:  [8.7153290914629515, 4.1272152133651785]\n",
        "iteration:  1 x0:  [ 9.1   3.84]"
       ]
      },
      {
       "output_type": "stream",
       "stream": "stdout",
       "text": [
        " xt:  [8.9469423017557563, 3.8180559965317102]\n",
        "iteration: "
       ]
      },
      {
       "output_type": "stream",
       "stream": "stdout",
       "text": [
        " 9 x0:  [ 9.086  3.6  ] xt:  [8.6544590043306986, 3.754180577343516]\n",
        "iteration: "
       ]
      },
      {
       "output_type": "stream",
       "stream": "stdout",
       "text": [
        " 18 x0:  [ 8.616  3.45 ] xt:  [8.6487388332351838, 3.7532144338925546]\n",
        "iteration: "
       ]
      },
      {
       "output_type": "stream",
       "stream": "stdout",
       "text": [
        " 15 x0:  [ 8.624  3.698] xt:  [8.648748130375747, 3.7532247513186352]\n",
        "iteration: "
       ]
      },
      {
       "output_type": "stream",
       "stream": "stdout",
       "text": [
        " 7 x0:  [ 8.632  3.82 ] xt:  [8.649031805779245, 3.7549110686069165]\n",
        "iteration: "
       ]
      },
      {
       "output_type": "stream",
       "stream": "stdout",
       "text": [
        " 19 x0:  [ 8.286  3.704] xt:  [8.6487296902038029, 3.753222705155673]\n",
        "iteration: "
       ]
      },
      {
       "output_type": "stream",
       "stream": "stdout",
       "text": [
        " 14 x0:  [ 8.816  3.58 ] xt:  [8.6488969954457229, 3.753241298233315]\n",
        "iteration:  1 x0:  [ 8.722  3.854] xt:  [8.6966503639395434, 3.8151356076056921]\n",
        "iteration: "
       ]
      },
      {
       "output_type": "stream",
       "stream": "stdout",
       "text": [
        " 20 x0:  [ 8.298  3.378] xt:  [8.6487185315547386, 3.7532076108939214]\n",
        "iteration:  1 x0:  [ 9.014  4.034] xt:  [8.8931808347697245, 3.9405223478850426]\n",
        "iteration: "
       ]
      },
      {
       "output_type": "stream",
       "stream": "stdout",
       "text": [
        " 14 x0:  [ 8.87   3.554] xt:  [8.6489557660237804, 3.7532592484978942]\n",
        "iteration: "
       ]
      },
      {
       "output_type": "stream",
       "stream": "stdout",
       "text": [
        " 17 x0:  [ 8.562  3.662] xt:  [8.6487455752978288, 3.7532280908601567]\n",
        "iteration: "
       ]
      },
      {
       "output_type": "stream",
       "stream": "stdout",
       "text": [
        " 11 x0:  [ 8.6    3.828] xt:  [8.6487331552313016, 3.7534313292167871]\n",
        "iteration:  1 x0:  [ 8.94   3.836] xt:  [8.8328056959031311, 3.8109189053488755]\n",
        "iteration: "
       ]
      },
      {
       "output_type": "stream",
       "stream": "stdout",
       "text": [
        " 1 x0:  [ 8.768  4.32 ] xt:  [8.7370769563129631, 4.1510127771539507]\n",
        "iteration:  1 x0:  [ 8.838  3.926] xt:  [8.7702357059294265, 3.8619609515264313]\n",
        "iteration: "
       ]
      },
      {
       "output_type": "stream",
       "stream": "stdout",
       "text": [
        " 20 x0:  [ 8.288  3.466] xt:  [8.6487293058864338, 3.7532170936244151]\n",
        "iteration:  1 x0:  [ 8.652  3.782] xt:  [8.6517792416367403, 3.7703850518540514]\n",
        "iteration: "
       ]
      },
      {
       "output_type": "stream",
       "stream": "stdout",
       "text": [
        " 16 x0:  [ 8.376  3.956] xt:  [8.6487044736948473, 3.7532512699454359]\n",
        "iteration: "
       ]
      },
      {
       "output_type": "stream",
       "stream": "stdout",
       "text": [
        " 23 x0:  [ 7.724  3.414] xt:  [8.6487108371008325, 3.7532056434128087]\n",
        "iteration: "
       ]
      },
      {
       "output_type": "stream",
       "stream": "stdout",
       "text": [
        " 15 x0:  [ 8.374  4.136] xt:  [8.6487331236723612, 3.7533766842080505]\n",
        "iteration: "
       ]
      },
      {
       "output_type": "stream",
       "stream": "stdout",
       "text": [
        " 15 x0:  [ 8.6    3.712] xt:  [8.6487337553768242, 3.753219952868216]\n",
        "iteration:  1 x0:  [ 9.026  3.788] xt:  [8.8908055714312688, 3.783886340002133]\n",
        "iteration: "
       ]
      },
      {
       "output_type": "stream",
       "stream": "stdout",
       "text": [
        " 20 x0:  [ 8.534  3.252] xt:  [8.6487402724776139, 3.7532198478642043]\n",
        "iteration: "
       ]
      },
      {
       "output_type": "stream",
       "stream": "stdout",
       "text": [
        " 12 x0:  [ 8.874  3.602] xt:  [8.6493188969936678, 3.753312102764542]\n",
        "iteration:  1 x0:  [ 8.796  3.888] xt:  [8.7429054429019128, 3.8375626257686846]\n",
        "iteration: "
       ]
      },
      {
       "output_type": "stream",
       "stream": "stdout",
       "text": [
        " 8 x0:  [ 8.592  3.988] xt:  [8.6494338844167284, 3.7568973610950356]\n",
        "iteration:  1 x0:  [ 8.98   4.014] xt:  [8.8677618818507451, 3.9247199363734233]\n",
        "iteration: "
       ]
      },
      {
       "output_type": "stream",
       "stream": "stdout",
       "text": [
        " 12 x0:  [ 8.562  3.856] xt:  [8.6486808799098593, 3.7533644064607188]\n",
        "iteration: "
       ]
      },
      {
       "output_type": "stream",
       "stream": "stdout",
       "text": [
        " 26 x0:  [ 13.894   4.16 ] xt:  [14.130972213218264, 5.056183881421588]\n",
        "iteration:  1 x0:  [ 14.278   5.26 ] xt:  [14.220628326366889, 5.189928732382926]\n",
        "iteration: "
       ]
      },
      {
       "output_type": "stream",
       "stream": "stdout",
       "text": [
        " 22 x0:  [ 14.364   4.748] xt:  [14.130993215766804, 5.0561874602839909]\n",
        "iteration: "
       ]
      },
      {
       "output_type": "stream",
       "stream": "stdout",
       "text": [
        " 19 x0:  [ 14.108   4.918] xt:  [14.13097403849264, 5.0561854563018898]\n",
        "iteration: "
       ]
      },
      {
       "output_type": "stream",
       "stream": "stdout",
       "text": [
        " 18 x0:  [ 13.998   5.498] xt:  [14.130724691543346, 5.0567579652624666]\n",
        "iteration:  1 x0:  [ 14.4     5.296] xt:  [14.301678465246345, 5.2153268100705477]\n",
        "iteration: "
       ]
      },
      {
       "output_type": "stream",
       "stream": "stdout",
       "text": [
        " 1 x0:  [ 14.3     5.368] xt:  [14.234975382015962, 5.2649530921930703]\n",
        "iteration: "
       ]
      },
      {
       "output_type": "stream",
       "stream": "stdout",
       "text": [
        " 17 x0:  [ 13.958   5.35 ] xt:  [14.130670381283203, 5.0567817119421115]\n",
        "iteration: "
       ]
      },
      {
       "output_type": "stream",
       "stream": "stdout",
       "text": [
        " 17 x0:  [ 13.842   4.984] xt:  [14.130729659176843, 5.0563121808204299]\n",
        "iteration: "
       ]
      },
      {
       "output_type": "stream",
       "stream": "stdout",
       "text": [
        " 26 x0:  [ 13.85    4.246] xt:  [14.130966093116262, 5.056203240910337]\n",
        "iteration: "
       ]
      },
      {
       "output_type": "stream",
       "stream": "stdout",
       "text": [
        " 17 x0:  [ 13.978   5.356] xt:  [14.130685192102193, 5.0567774264175247]\n",
        "iteration:  1 x0:  [ 14.366   5.104] xt:  [14.278658195452916, 5.0839720448755177]\n",
        "iteration: "
       ]
      },
      {
       "output_type": "stream",
       "stream": "stdout",
       "text": [
        " 19 x0:  [ 14.272   4.94 ] xt:  [14.13101471436687, 5.0561676084014255]\n",
        "iteration:  1 x0:  [ 14.336   5.176] xt:  [14.2586380697817, 5.1327213741861266]\n",
        "iteration: "
       ]
      },
      {
       "output_type": "stream",
       "stream": "stdout",
       "text": [
        " 1 x0:  [ 14.744   5.248] xt:  [14.576100396246664, 5.1965923525872393]\n",
        "iteration:  1 x0:  [ 14.306   5.06 ] xt:  [14.241216452235967, 5.0552818516545575]\n",
        "iteration: "
       ]
      },
      {
       "output_type": "stream",
       "stream": "stdout",
       "text": [
        " 15 x0:  [ 13.986   5.05 ] xt:  [14.130697967373051, 5.0563999596417784]\n",
        "iteration:  1 x0:  [ 14.44   5.33] xt:  [14.330681895277943, 5.2406296988126622]\n",
        "iteration: "
       ]
      },
      {
       "output_type": "stream",
       "stream": "stdout",
       "text": [
        " 18 x0:  [ 14.004   4.92 ] xt:  [14.130931122113099, 5.0561762351454345]\n",
        "iteration: "
       ]
      },
      {
       "output_type": "stream",
       "stream": "stdout",
       "text": [
        " 23 x0:  [ 13.332   4.592] xt:  [14.130849214410784, 5.0562032498828877]\n",
        "iteration:  1 x0:  [ 14.218   5.544] xt:  [14.180886416839018, 5.3969709438161395]\n",
        "iteration: "
       ]
      },
      {
       "output_type": "stream",
       "stream": "stdout",
       "text": [
        " 21 x0:  [ 14.154   4.768] xt:  [14.130986264225848, 5.0561735679430919]\n",
        "iteration: "
       ]
      },
      {
       "output_type": "stream",
       "stream": "stdout",
       "text": [
        " 20 x0:  [ 13.468   4.92 ] xt:  [14.130705690933041, 5.0563341402713915]\n",
        "iteration: "
       ]
      },
      {
       "output_type": "stream",
       "stream": "stdout",
       "text": [
        " 20 x0:  [ 13.67    5.406] xt:  [14.130749076023948, 5.056551215558998]\n",
        "iteration: "
       ]
      },
      {
       "output_type": "stream",
       "stream": "stdout",
       "text": [
        " 19 x0:  [ 13.664   5.016] xt:  [14.130743695248929, 5.0563777141465165]\n",
        "iteration: "
       ]
      },
      {
       "output_type": "stream",
       "stream": "stdout",
       "text": [
        " 20 x0:  [ 14.12   4.87] xt:  [14.130977420339544, 5.0561878790047503]\n",
        "iteration: "
       ]
      },
      {
       "output_type": "stream",
       "stream": "stdout",
       "text": [
        " 24 x0:  [ 13.836   4.51 ] xt:  [14.130960077981102, 5.0562051022343484]\n",
        "iteration:  1 x0:  [ 14.204   5.064] xt:  [14.177282856636241, 5.0599944422801277]\n",
        "iteration: "
       ]
      },
      {
       "output_type": "stream",
       "stream": "stdout",
       "text": [
        " 16 x0:  [ 14.004   5.228] xt:  [14.130687895820168, 5.0567218739779447]\n",
        "iteration: "
       ]
      },
      {
       "output_type": "stream",
       "stream": "stdout",
       "text": [
        " 22 x0:  [ 13.266   4.858] xt:  [14.130752234886518, 5.0563116176161529]\n",
        "iteration: "
       ]
      },
      {
       "output_type": "stream",
       "stream": "stdout",
       "text": [
        " 19 x0:  [ 13.668   5.34 ] xt:  [14.130670532771843, 5.0566222290722136]\n",
        "iteration: "
       ]
      },
      {
       "output_type": "stream",
       "stream": "stdout",
       "text": [
        " 22 x0:  [ 14.528   4.812] xt:  [14.131000688179396, 5.0561913170481274]\n",
        "iteration: "
       ]
      },
      {
       "output_type": "stream",
       "stream": "stdout",
       "text": [
        " 23 x0:  [ 14.318   4.592] xt:  [14.130988403877382, 5.0561843435624088]\n",
        "iteration: "
       ]
      },
      {
       "output_type": "stream",
       "stream": "stdout",
       "text": [
        " 16 x0:  [ 14.018   5.182] xt:  [14.130736593928859, 5.0566178247322071]\n",
        "iteration: "
       ]
      },
      {
       "output_type": "stream",
       "stream": "stdout",
       "text": [
        " 21 x0:  [ 14.37    4.884] xt:  [14.130996767687227, 5.0561967720338741]\n",
        "iteration: "
       ]
      },
      {
       "output_type": "stream",
       "stream": "stdout",
       "text": [
        " 21 x0:  [ 14.198   4.804] xt:  [14.130986939019412, 5.0561841333071165]\n",
        "iteration: "
       ]
      },
      {
       "output_type": "stream",
       "stream": "stdout",
       "text": [
        " 23 x0:  [ 14.32   4.59] xt:  [14.13098868111785, 5.0561837571160488]\n",
        "iteration: "
       ]
      },
      {
       "output_type": "stream",
       "stream": "stdout",
       "text": [
        " 19 x0:  [ 13.636   5.218] xt:  [14.130679784005714, 5.0565446451933242]\n",
        "iteration: "
       ]
      },
      {
       "output_type": "stream",
       "stream": "stdout",
       "text": [
        " 23 x0:  [ 14.41    4.656] xt:  [14.130988316761492, 5.0561945166265394]\n",
        "iteration: "
       ]
      },
      {
       "output_type": "stream",
       "stream": "stdout",
       "text": [
        " 18 x0:  [ 14.02    5.614] xt:  [14.130684616502554, 5.0568858921039226]\n",
        "size of reduced SEPs: "
       ]
      },
      {
       "output_type": "stream",
       "stream": "stdout",
       "text": [
        " 91\n"
       ]
      },
      {
       "metadata": {},
       "output_type": "display_data",
       "png": "[encoded data removed]",
       "text": [
        "<matplotlib.figure.Figure at 0x779a390>"
       ]
      }
     ],
     "prompt_number": 18
    },
    {
     "cell_type": "code",
     "collapsed": false,
     "input": [
      "grid_x = [0 + 0.25 * i for i in range (80) ] \n",
      "grid_y = [20 - 0.25 * i for i in range (80) ] \n",
      "variances = [[0 for i in range (len(grid_x)) ] for j in range (len(grid_y))]\n",
      "\n",
      "for i in range (len(grid_y)):\n",
      "    for j in range (len(grid_x)):\n",
      "        variances[i][j] = varianceFunction([grid_x[j], grid_y[i]], data, invA)\n",
      "        \n",
      "heatmap = variances\n",
      "extent = [grid_x[0], grid_x[-1], grid_y[-1], grid_y[0]]\n",
      "\n",
      "plotHeatMap(heatmap, extent)"
     ],
     "language": "python",
     "metadata": {},
     "outputs": [
      {
       "metadata": {},
       "output_type": "display_data",
       "png": "[encoded data removed]",
       "text": [
        "<matplotlib.figure.Figure at 0x7815780>"
       ]
      }
     ],
     "prompt_number": 28
    },
    {
     "cell_type": "code",
     "collapsed": false,
     "input": [
      "# to determin the cut level\n",
      "maxVars = getMaxVariances(100)\n",
      "print \"max variances: \", maxVars"
     ],
     "language": "python",
     "metadata": {},
     "outputs": [
      {
       "output_type": "stream",
       "stream": "stdout",
       "text": [
        "max variances:  [0.76550733973896712, 0.72561117373054673, 0.7137779539180209, 0.68185158536603518, 0.67029289731244368, 0.66455926301081569, 0.6633932607480364, 0.65442288444450192, 0.65374556897738234, 0.64640578618078337, 0.63539899108567688, 0.63434762671919998, 0.63002892357425289, 0.6266724406992713, 0.61461281811137725, 0.60483498244154199, 0.60086723398613018, 0.59933293180891356, 0.59805603846927358, 0.59418897130889525, 0.58776687632998237, 0.58654910216773648, 0.58426136547012941, 0.57545409673873893, 0.57343504367782705, 0.57327230185023748, 0.573130866246361, 0.56803682968524816, 0.5631754059495836, 0.56217924748048986, 0.55392470401786342, 0.55043128528514784, 0.55024372882939987, 0.54755001052216923, 0.54652905283753417, 0.54541479601454446, 0.54410952047110306, 0.5421661285098518, 0.5406195850265525, 0.53742492846614931, 0.53109800350713221, 0.52902139521365943, 0.52726778462647095, 0.52149989879895653, 0.52014266622487038, 0.51764016426527737, 0.5150709163114533, 0.51474625625650972, 0.51158299364672222, 0.51138806332294251, 0.51113922960614455, 0.50874171461589957, 0.50767583942921046, 0.50632751082819805, 0.50231683382978698, 0.50153374425817132, 0.50107599876520825, 0.49599130755637022, 0.49477085164051493, 0.49183209030178876, 0.4914530864918869, 0.49087111116052906, 0.49045095142046702, 0.48978670350787668, 0.48880028800437714, 0.48754657054947104, 0.48743561645251732, 0.48718054756478657, 0.48576216542212303, 0.48567233874912863, 0.48458245418988843, 0.48084332562792853, 0.47965502308894592, 0.47889030520960707, 0.47848354984838659, 0.47710210750777948, 0.47654872412524563, 0.47459304492365584, 0.47297088890494388, 0.47276543632037837, 0.47210360366144966, 0.46839051574992452, 0.46794304338212644, 0.46662751626953669, 0.46611100032489372, 0.46503658379003121, 0.46468481577358256, 0.46310514536820202, 0.4625336655819714, 0.46149984821816659, 0.46116418606751231, 0.46029130444816035, 0.45826509208444866, 0.4571449983334186, 0.45661146574909472, 0.45641473193568327, 0.45604219767072562, 0.4522200788713896, 0.45213684001617438, 0.44969475358672772]\n"
       ]
      }
     ],
     "prompt_number": 19
    },
    {
     "cell_type": "code",
     "collapsed": false,
     "input": [
      "#get adjacency matrix\n",
      "A = getAdjacencyMatrix(sepList, maxVars[99], 20)\n",
      "sepsClusters = getSEPsClusters(A, sepList)\n",
      "print sepsClusters\n",
      "plotCluster(sepList[:,0],sepList[:,1],sepsClusters,\"Scatter Plot\")"
     ],
     "language": "python",
     "metadata": {},
     "outputs": [
      {
       "output_type": "stream",
       "stream": "stdout",
       "text": [
        "[1, 1, 1, 1, 1, 1, 2, 2, 2, 3, 2, 4, 5, 2, 6, 6, 6, 6, 7, 8, 8, 8, 8, 8, 8, 8, 9, 9, 9, 9, 9, 9, 10, 10, 10, 10, 10, 10, 11, 11, 11, 11, 11, 11, 12, 12, 12, 12, 12, 12, 12, 13, 13, 13, 14, 13, 13, 15, 15, 15, 15, 15, 16, 16, 16, 16, 17, 17, 17, 17, 17, 18, 19, 19, 19, 19, 19, 19, 19, 19, 20, 20, 20, 20, 20, 21, 21, 21, 21, 21, 21]\n"
       ]
      },
      {
       "metadata": {},
       "output_type": "display_data",
       "png": "[encoded data removed]",
       "text": [
        "<matplotlib.figure.Figure at 0x783d400>"
       ]
      }
     ],
     "prompt_number": 20
    },
    {
     "cell_type": "code",
     "collapsed": false,
     "input": [
      "#get clusters assignment\n",
      "results = getPointClusters(sepsClusters, sepIndexMap)\n",
      "plotCluster2(X,Y,results,\"Scatter Plot\")"
     ],
     "language": "python",
     "metadata": {},
     "outputs": [
      {
       "metadata": {},
       "output_type": "display_data",
       "png": "[encoded data removed]",
       "text": [
        "<matplotlib.figure.Figure at 0x77996d8>"
       ]
      }
     ],
     "prompt_number": 21
    },
    {
     "cell_type": "code",
     "collapsed": false,
     "input": [
      "plotCluster2(X,Y,clusters,\"Scatter Plot\")"
     ],
     "language": "python",
     "metadata": {},
     "outputs": [
      {
       "metadata": {},
       "output_type": "display_data",
       "png": "[encoded data removed]",
       "text": [
        "<matplotlib.figure.Figure at 0x92e9160>"
       ]
      }
     ],
     "prompt_number": 22
    },
    {
     "cell_type": "markdown",
     "metadata": {},
     "source": [
      "**increase the cut level**"
     ]
    },
    {
     "cell_type": "code",
     "collapsed": false,
     "input": [
      "#get adjacency matrix\n",
      "A1 = getAdjacencyMatrix(sepList, 0.8, 20)\n",
      "sepsClusters1 = getSEPsClusters(A1, sepList)\n",
      "print sepsClusters1\n",
      "plotCluster(sepList[:,0],sepList[:,1],sepsClusters1,\"Scatter Plot\")"
     ],
     "language": "python",
     "metadata": {},
     "outputs": [
      {
       "output_type": "stream",
       "stream": "stdout",
       "text": [
        "[1, 1, 1, 1, 1, 1, 1, 1, 1, 1, 1, 1, 1, 1, 1, 1, 1, 1, 1, 1, 1, 1, 1, 1, 1, 1, 1, 1, 1, 1, 1, 1, 1, 1, 1, 1, 1, 1, 1, 1, 1, 1, 1, 1, 1, 1, 1, 1, 1, 1, 1, 2, 2, 2, 2, 2, 2, 3, 3, 3, 3, 3, 4, 4, 4, 4, 5, 5, 5, 5, 5, 5, 6, 6, 6, 6, 6, 6, 6, 6, 7, 7, 7, 7, 7, 8, 8, 8, 8, 8, 8]\n"
       ]
      },
      {
       "metadata": {},
       "output_type": "display_data",
       "png": "[encoded data removed]",
       "text": [
        "<matplotlib.figure.Figure at 0x494f860>"
       ]
      }
     ],
     "prompt_number": 29
    },
    {
     "cell_type": "code",
     "collapsed": false,
     "input": [
      "#get clusters assignment\n",
      "results1 = getPointClusters(sepsClusters1, sepIndexMap)\n",
      "plotCluster(X,Y,results1,\"Scatter Plot\")"
     ],
     "language": "python",
     "metadata": {},
     "outputs": [
      {
       "metadata": {},
       "output_type": "display_data",
       "png": "[encoded data removed]",
       "text": [
        "<matplotlib.figure.Figure at 0x76a1748>"
       ]
      }
     ],
     "prompt_number": 33
    }
   ],
   "metadata": {}
  }
 ]
}