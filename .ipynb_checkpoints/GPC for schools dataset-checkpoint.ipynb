{
 "metadata": {
  "name": ""
 },
 "nbformat": 3,
 "nbformat_minor": 0,
 "worksheets": [
  {
   "cells": [
    {
     "cell_type": "code",
     "collapsed": false,
     "input": [
      "import math"
     ],
     "language": "python",
     "metadata": {},
     "outputs": [],
     "prompt_number": 85
    },
    {
     "cell_type": "code",
     "collapsed": false,
     "input": [
      "##convert coordinates\n",
      "# latitude    = 41.145556; // (\u03c6)\n",
      "# longitude   = -73.995;   // (\u03bb)\n",
      "# mapWidth    = 200;\n",
      "# mapHeight   = 100;\n",
      "def convertCoordinates(latitude, longitude, mapWidth, mapHeight):\n",
      "    x = (longitude + 180) * (mapWidth/360)\n",
      "    latRad = latitude * math.pi / 180\n",
      "    mercN = math.log(math.tan((math.pi/4) + (latRad /2 )))\n",
      "    y = (mapHeight/2)-(mapWidth*mercN/(2*math.pi))\n",
      "    return [x,y]"
     ],
     "language": "python",
     "metadata": {},
     "outputs": [],
     "prompt_number": 21
    },
    {
     "cell_type": "markdown",
     "metadata": {},
     "source": [
      "dlon = lon2 - lon1 \n",
      "\n",
      "dlat = lat2 - lat1 \n",
      "\n",
      "a = (sin(dlat/2))^2 + cos(lat1) * cos(lat2) * (sin(dlon/2))^2 \n",
      "\n",
      "c = 2 * atan2( sqrt(a), sqrt(1-a) ) \n",
      "\n",
      "d = R * c (where R is the radius of the Earth)"
     ]
    },
    {
     "cell_type": "code",
     "collapsed": false,
     "input": [
      "#calculate distance\n",
      "def deg2rad(deg):\n",
      "    return deg * (math.pi/180)\n",
      "\n",
      "def getDistance(lon1, lat1, lon2, lat2):\n",
      "    R = 6371\n",
      "    dlon = deg2rad(lon2 - lon1)\n",
      "    dlat = deg2rad(lat2 - lat1)\n",
      "    a = (math.sin(dlat/2))**2 + math.cos(deg2rad(lat1)) * math.cos(deg2rad(lat2)) * (math.sin(dlon/2))**2\n",
      "    c = 2 * math.atan2( math.sqrt(a), math.sqrt(1-a))\n",
      "    d = R * c\n",
      "    return d\n"
     ],
     "language": "python",
     "metadata": {},
     "outputs": [],
     "prompt_number": 82
    },
    {
     "cell_type": "code",
     "collapsed": false,
     "input": [
      "getDistance(-77.037852,38.898556,-77.043934,38.897147)"
     ],
     "language": "python",
     "metadata": {},
     "outputs": [
      {
       "metadata": {},
       "output_type": "pyout",
       "prompt_number": 67,
       "text": [
        "0.5491557912038084"
       ]
      }
     ],
     "prompt_number": 67
    },
    {
     "cell_type": "code",
     "collapsed": false,
     "input": [
      "import numpy as np\n",
      "from numpy import *\n",
      "import matplotlib\n",
      "import matplotlib.pyplot as plt\n",
      "import scipy\n",
      "import math\n",
      "from numpy import matrix\n",
      "\n",
      "#plot the scatter plot\n",
      "def plotScatter(X,Y,title,c):\n",
      "    fig = plt.figure()\n",
      "    ax = fig.add_subplot(111)\n",
      "    ax.plot(X,Y,c+'.')\n",
      "    ax.set_title(title)\n",
      "    plt.show()\n",
      "\n",
      "def plotCluster(X,Y,clusters,title):\n",
      "#    fig = plt.figure()\n",
      " #   ax = fig.add_subplot(111)\n",
      "    \n",
      "    colors = np.arange(len(clusters))\n",
      "    t = [colors[(int)(clusters[i])]  for i in range (len(clusters))]\n",
      "    plt.scatter(X, Y, c=t)\n",
      "    plt.show()\n",
      "    \n",
      "def plotCluster2(X,Y,clusters,title):\n",
      "    fig = plt.figure()\n",
      "    ax = fig.add_subplot(111)\n",
      "\n",
      "    colors = ['r','g','b','c','m','y']   \n",
      "    c = [colors[((int)(clusters[i])-1) % len(colors)]  + '.' for i in range (len(clusters))]\n",
      "    \n",
      "    for i in range (len(X)):\n",
      "        ax.plot(X[i],Y[i],c[i])\n",
      "    ax.set_title(title)\n",
      "    plt.show() \n",
      "\n",
      "def plotHeatMap(heatmap, extent):\n",
      "    plt.clf()\n",
      "    plt.imshow(heatmap, extent=extent)\n",
      "    plt.colorbar()\n",
      "    plt.show()\n",
      "    \n",
      "#init parameters for the model\n",
      "# need to be determined for different dataset\n",
      "# alpha = 1\n",
      "v0 = 1\n",
      "alpha = 1\n",
      "v1 = 0\n",
      "v2 = 1\n",
      "\n",
      "#Calculate Covariance Matrix C\n",
      "def kernelFunction(x1, x2):\n",
      "    c = 0.;\n",
      "    for i in range(len(x1)):\n",
      "        c = getDistance(x1[0],x1[1],x2[0],x2[1])\n",
      "#        c += l[i] * ((x1[i] - x2[i]) **2 )\n",
      "\n",
      "    c = v0 * math.exp(- 0.5 * alpha * c)+ v1\n",
      "    return c\n",
      "\n",
      "#calculate the whole covariance matrix \n",
      "def getCovarianceMatrix(data):\n",
      "    size = len(data[0,:])\n",
      "    C = [[ 0. for i in range (size)] for j in range (size)]\n",
      "    for i in range (size):\n",
      "        for j in range (size):\n",
      "            C[i][j] = kernelFunction(data[:,i], data[:,j])\n",
      "    return matrix(C)  \n",
      "\n",
      "\n",
      "#TODO check how to calculate the variance\n",
      "#calculate variance of dataset\n",
      "def getVariance(data):\n",
      "    return np.var(data[0,:]) + np.var(data[1,:])\n",
      "\n",
      "#calculate inversion of Matrix A\n",
      "def getInversionMatrix(data, C):\n",
      "    size = len(data[0,:])\n",
      "    var = getVariance(data)\n",
      "    return  (C + v2 *var * matrix(np.eye(size)) ).I \n",
      "\n",
      "#calcalate the variance for a given point x\n",
      "def varianceFunction(x, data, inv):\n",
      "    size = len(data[0,:])\n",
      "    k = matrix( [kernelFunction(x, data[:,i]) for i in range (size)]).T\n",
      "    result = kernelFunction(x,x) - k.T * inv * k\n",
      "    return result[0,0]\n",
      "\n",
      "\n",
      "\n",
      "def getMaxVariance():\n",
      "    maxVars = 0.\n",
      "    maxIndex = 0\n",
      "    for i in range (size):\n",
      "        if(i == 0):\n",
      "            maxVar = varianceFunction(data[:,i], data, invA)\n",
      "            maxIndex = 0\n",
      "        else:\n",
      "            tmp = varianceFunction(data[:,i], data, invA)\n",
      "            if(tmp > maxVar):\n",
      "                maxVar = tmp\n",
      "                maxIndex = i\n",
      "    return maxVar, data[:,maxIndex]\n",
      "\n",
      "def getMaxVariances(num):\n",
      "    maxVars = [ 0. for i in range (num)]\n",
      "    variances = array([varianceFunction(data[:,i], data, invA) for i in range(size)])\n",
      "    sorted_vars = sort(variances)\n",
      "    for i in range (num):\n",
      "        maxVars[i] = sorted_vars[-1-i]\n",
      "    \n",
      "    return maxVars\n",
      "\n",
      "#nabla_variance_function\n",
      "def nablaVarianceFunction(x, data, inv):\n",
      "    size = len(data[0,:])\n",
      "    k = matrix( [kernelFunction(x, data[:,i]) for i in range (size)]).T\n",
      "    nablaK_x1 = matrix([ - kernelFunction(x, data[:,i]) * (x[0] - data[0,i]) for i in range (size)]).T\n",
      "    nablaK_x2 = matrix([ - kernelFunction(x, data[:,i]) * (x[1] - data[1,i]) for i in range (size)]).T\n",
      "    delta_x1 =  nablaK_x1.T * inv * k + k.T * inv * nablaK_x1 \n",
      "    delta_x2 =  nablaK_x2.T * inv * k + k.T * inv * nablaK_x2\n",
      "    return [delta_x1[0,0], delta_x2[0,0]]\n",
      "\n",
      "#gradient descent iteration\n",
      "def gradientDescentIteration(x, data, inv, ita):\n",
      "    delta_x = nablaVarianceFunction(x,data,inv)\n",
      "    #print \"delta_x:\" , delta_x\n",
      "    return [ x[i] + ita * delta_x[i] for i in range (len(x))]\n",
      "\n",
      "def getEquilibriumPoint(x,data,inv,ita,maxIteration):\n",
      "    x_old = x\n",
      "    iteration = 1\n",
      "    for i in range(maxIteration):\n",
      "        x_new = gradientDescentIteration(x_old,data,inv,ita)\n",
      "        if( (x_new[0] - x_old[0])/x_old[0] < 0.0000001 and (x_new[1] - x_old[1])/x_old[1] < 0.0000001):\n",
      "            break\n",
      "        else:\n",
      "            x_old = x_new\n",
      "            iteration += 1\n",
      "    print \"iteration: \" , iteration, \"x0: \", x, \"xt: \", x_new\n",
      "    return x_new\n",
      "\n",
      "def isExistInList(sepList, point, min_accepted_covariance):\n",
      "    for i in range (len(sepList)):\n",
      "        covariance = kernelFunction(sepList[i], point)\n",
      "        if(covariance > min_accepted_covariance):\n",
      "            return i\n",
      "    return -1\n",
      "\n",
      "def reduceSEPs(seps, min_accepted_covariance):\n",
      "    sepList = []\n",
      "    sepIndexMap = {}\n",
      "    for i in range (len(seps)):\n",
      "        index = isExistInList(sepList, [seps[i,0],seps[i,1]], min_accepted_covariance)\n",
      "        if index == -1 :\n",
      "            index = len(sepList)\n",
      "            sepList.append([seps[i,0],seps[i,1]])\n",
      "        sepIndexMap[i] = index\n",
      "    return array(sepList), sepIndexMap\n",
      "\n",
      "\n",
      "\n",
      "def getAdjacencyMatrix(sepList, maxVar, pointsNumPerDistanceUnit, data, invA):\n",
      "    A = [[ -1 for i in range (len(sepList))] for j in range (len(sepList)) ]\n",
      "    for i in range (len(sepList)):\n",
      "        for j in range (len(sepList)):\n",
      "            if(i == j ):\n",
      "                A[i][j] = 1\n",
      "            elif( i < j ):\n",
      "                isConnected = True\n",
      "                delta = sepList[i] - sepList[j]\n",
      "                distance = getDistance(sepList[i,0], sepList[i,1], sepList[j,0], sepList[j,1])\n",
      "                pointsNum = pointsNumPerDistanceUnit * distance\n",
      "                for m in range ((int)(pointsNum)):\n",
      "                    testPoint = sepList[j] + (m+1) * delta/pointsNum\n",
      "                    testVar = varianceFunction(testPoint, data, invA)\n",
      "                    if(testVar > maxVar):\n",
      "                        isConnected = False\n",
      "                        break\n",
      "                if isConnected is True:\n",
      "                    A[i][j] = 1\n",
      "                else:\n",
      "                    A[i][j] = 0\n",
      "            elif (i > j ):\n",
      "                A[i][j] = A[j][i]\n",
      "    return array(A)\n",
      "\n",
      "def getSEPsClusters(adjacencyMatrix, sepList):\n",
      "    clusters = [ -1 for i in range (len(sepList))]\n",
      "    clusterIndex = 1\n",
      "    for i in range (len(sepList)):\n",
      "        isNewCluster = True;\n",
      "        clusterNo = clusterIndex;\n",
      "        for j in range ( len(sepList)):\n",
      "            if adjacencyMatrix[i][j] == 1 and clusters[j] != -1:\n",
      "                isNewCluster = False\n",
      "                clusterNo = clusters[j]\n",
      "                break\n",
      "        for j in range ( i , len(sepList)):\n",
      "            if adjacencyMatrix[i][j] == 1:\n",
      "                clusters[j] = clusterNo\n",
      "        if isNewCluster:\n",
      "            clusterIndex += 1\n",
      "        \n",
      "    return clusters    \n",
      "\n",
      "def getPointClusters(sepsClusters, sepIndexMap):\n",
      "    clusters = [-1 for i in range (len(sepIndexMap))]\n",
      "    for i in range (len(sepIndexMap)):\n",
      "        clusters[i] = sepsClusters[sepIndexMap[i]]\n",
      "    return clusters"
     ],
     "language": "python",
     "metadata": {},
     "outputs": [],
     "prompt_number": 200
    },
    {
     "cell_type": "markdown",
     "metadata": {},
     "source": [
      "##Schools Dataset"
     ]
    },
    {
     "cell_type": "code",
     "collapsed": false,
     "input": [
      "#init\n",
      "dataset = loadtxt(\"dataset\\school.txt\", skiprows=1)\n",
      "data = array([dataset[:,0], dataset[:,1]])\n",
      "size = len(data[0,:])\n",
      "# for i in range (size):\n",
      "#     point = convertCoordinates(dataset[i,1],dataset[i,0], 1000., 100.)\n",
      "#     data[0,i] = point[0]\n",
      "#     data[1,i] = point[1]\n",
      " \n",
      "\n",
      "X = data[0,:]\n",
      "Y = data[1,:]\n",
      "\n",
      "dimension = 2\n",
      "\n",
      "plotScatter(X,Y,\"Scatter Plot\", 'g')"
     ],
     "language": "python",
     "metadata": {},
     "outputs": [
      {
       "metadata": {},
       "output_type": "display_data",
       "png": "[encoded data removed]",
       "text": [
        "<matplotlib.figure.Figure at 0x7500a58>"
       ]
      }
     ],
     "prompt_number": 185
    },
    {
     "cell_type": "code",
     "collapsed": false,
     "input": [
      "#calculate Covariance Matrix\n",
      "alpha = 0.5\n",
      "C = getCovarianceMatrix(data)\n",
      "invA = getInversionMatrix(data, C)"
     ],
     "language": "python",
     "metadata": {},
     "outputs": [],
     "prompt_number": 201
    },
    {
     "cell_type": "code",
     "collapsed": false,
     "input": [
      "grid_x = [149. + 0.005 * i for i in range (40) ] \n",
      "grid_y = [-35. - 0.01 * i for i in range (50) ] \n",
      "variances = [[0 for i in range (len(grid_x)) ] for j in range (len(grid_y))]\n",
      "\n",
      "for i in range (len(grid_y)):\n",
      "    for j in range (len(grid_x)):\n",
      "        variances[i][j] = varianceFunction([grid_x[j], grid_y[i]], data, invA)\n",
      "        \n",
      "heatmap = variances\n",
      "extent = [grid_x[0], grid_x[-1], grid_y[-1], grid_y[0]]\n",
      "\n",
      "plotHeatMap(heatmap, extent)"
     ],
     "language": "python",
     "metadata": {},
     "outputs": [
      {
       "metadata": {},
       "output_type": "display_data",
       "png": "[encoded data removed]",
       "text": [
        "<matplotlib.figure.Figure at 0x75a2ef0>"
       ]
      }
     ],
     "prompt_number": 188
    },
    {
     "cell_type": "code",
     "collapsed": false,
     "input": [
      "print alpha"
     ],
     "language": "python",
     "metadata": {},
     "outputs": [
      {
       "output_type": "stream",
       "stream": "stdout",
       "text": [
        "0.5\n"
       ]
      }
     ],
     "prompt_number": 189
    },
    {
     "cell_type": "code",
     "collapsed": false,
     "input": [
      "#get SPEs\n",
      "SEPs = array([getEquilibriumPoint(data[:,i], data, invA, 1, 1000) for i in range (size) ])\n",
      "sepList, sepIndexMap = reduceSEPs(SEPs, 0.9)\n",
      "print \"size of reduced SEPs: \" , len(sepList)\n",
      "plotScatter(sepList[:,0],sepList[:,1],\"reduced SEPs Scatter Plot\" ,\"r\")"
     ],
     "language": "python",
     "metadata": {},
     "outputs": [
      {
       "output_type": "stream",
       "stream": "stdout",
       "text": [
        "iteration:  4 x0:  [ 149.076661  -35.254993] xt:  [149.07678245421366, -35.254898976625071]\n",
        "iteration: "
       ]
      },
      {
       "output_type": "stream",
       "stream": "stdout",
       "text": [
        " 21 x0:  [ 149.156836  -35.286717] xt:  [149.15646970337735, -35.287230773766098]\n",
        "iteration: "
       ]
      },
      {
       "output_type": "stream",
       "stream": "stdout",
       "text": [
        " 13 x0:  [ 149.081951  -35.327679] xt:  [149.08198139489051, -35.32800471579101]\n",
        "iteration:  1 x0:  [ 149.092732  -35.339376] xt:  [149.09272524326374, -35.339344649285408]\n",
        "iteration:  1 x0:  [ 149.148034  -35.33483 ] xt:  [149.14795326986919, -35.334821769180493]\n",
        "iteration: "
       ]
      },
      {
       "output_type": "stream",
       "stream": "stdout",
       "text": [
        " 18 x0:  [ 149.126375  -35.259648] xt:  [149.12634392123496, -35.259834686475536]\n",
        "iteration: "
       ]
      },
      {
       "output_type": "stream",
       "stream": "stdout",
       "text": [
        " 17 x0:  [ 149.041555  -35.240755] xt:  [149.04130906441529, -35.240983135533803]\n",
        "iteration: "
       ]
      },
      {
       "output_type": "stream",
       "stream": "stdout",
       "text": [
        " 11 x0:  [ 149.084391  -35.366936] xt:  [149.08485569830944, -35.366857016283546]\n",
        "iteration: "
       ]
      },
      {
       "output_type": "stream",
       "stream": "stdout",
       "text": [
        " 10 x0:  [ 149.128788  -35.338847] xt:  [149.12912407778325, -35.338816579321609]\n",
        "iteration: "
       ]
      },
      {
       "output_type": "stream",
       "stream": "stdout",
       "text": [
        " 105 x0:  [ 149.055559  -35.351057] xt:  [149.05469476682714, -35.355138225715208]\n",
        "iteration: "
       ]
      },
      {
       "output_type": "stream",
       "stream": "stdout",
       "text": [
        " 12 x0:  [ 149.154682  -35.24641 ] xt:  [149.15485044754578, -35.246536106599606]\n",
        "iteration: "
       ]
      },
      {
       "output_type": "stream",
       "stream": "stdout",
       "text": [
        " 51 x0:  [ 149.124674  -35.330919] xt:  [149.12475093938536, -35.332076960765164]\n",
        "iteration:  1 x0:  [ 149.115115  -35.31699 ] xt:  [149.11511888912358, -35.316938378288633]\n",
        "iteration: "
       ]
      },
      {
       "output_type": "stream",
       "stream": "stdout",
       "text": [
        " 116 x0:  [ 149.097963  -35.356475] xt:  [149.09757708586983, -35.35794726449452]\n",
        "iteration: "
       ]
      },
      {
       "output_type": "stream",
       "stream": "stdout",
       "text": [
        " 5 x0:  [ 149.138695  -35.253518] xt:  [149.13878868409864, -35.253523933852961]\n",
        "iteration:  2 x0:  [ 149.137037  -35.266525] xt:  [149.13699059626774, -35.266537917239937]\n",
        "iteration: "
       ]
      },
      {
       "output_type": "stream",
       "stream": "stdout",
       "text": [
        " 4 x0:  [ 149.14765   -35.323929] xt:  [149.14747755894561, -35.323997849224831]\n",
        "iteration: "
       ]
      },
      {
       "output_type": "stream",
       "stream": "stdout",
       "text": [
        " 13 x0:  [ 149.088697  -35.357959] xt:  [149.08896211673624, -35.358163909845729]\n",
        "iteration: "
       ]
      },
      {
       "output_type": "stream",
       "stream": "stdout",
       "text": [
        " 48 x0:  [ 149.144242  -35.32282 ] xt:  [149.14745131048539, -35.323988738206189]\n",
        "iteration:  3 x0:  [ 149.029638  -35.205121] xt:  [149.02972463598886, -35.205116197497702]\n",
        "iteration: "
       ]
      },
      {
       "output_type": "stream",
       "stream": "stdout",
       "text": [
        " 12 x0:  [ 149.049819  -35.333941] xt:  [149.05009720644588, -35.333540887739744]\n",
        "iteration:  1 x0:  [ 149.061289  -35.213525] xt:  [149.06127753863819, -35.213473303685085]\n",
        "iteration: "
       ]
      },
      {
       "output_type": "stream",
       "stream": "stdout",
       "text": [
        " 40 x0:  [ 149.040615  -35.223979] xt:  [149.0408042875311, -35.224381379100109]\n",
        "iteration:  2 x0:  [ 149.051977  -35.382449] xt:  [149.05202001939386, -35.382425039533672]\n",
        "iteration: "
       ]
      },
      {
       "output_type": "stream",
       "stream": "stdout",
       "text": [
        " 6 x0:  [ 149.080086  -35.394049] xt:  [149.08025636981429, -35.394106063568437]\n",
        "iteration:  1 x0:  [ 149.041696  -35.225664] xt:  [149.04166979528324, -35.225636610920823]\n",
        "iteration: "
       ]
      },
      {
       "output_type": "stream",
       "stream": "stdout",
       "text": [
        " 32 x0:  [ 149.12805   -35.248056] xt:  [149.12795079930098, -35.248773128143561]\n",
        "iteration: "
       ]
      },
      {
       "output_type": "stream",
       "stream": "stdout",
       "text": [
        " 5 x0:  [ 149.086051  -35.408265] xt:  [149.08620473434351, -35.408252618682269]\n",
        "iteration: "
       ]
      },
      {
       "output_type": "stream",
       "stream": "stdout",
       "text": [
        " 7 x0:  [ 149.058949  -35.327858] xt:  [149.05880892673122, -35.328062537775104]\n",
        "iteration: "
       ]
      },
      {
       "output_type": "stream",
       "stream": "stdout",
       "text": [
        " 5 x0:  [ 149.109707  -35.223474] xt:  [149.10975739093206, -35.223563246558619]\n",
        "iteration:  1 x0:  [ 149.089323  -35.243503] xt:  [149.08928776996973, -35.24349446420571]\n",
        "iteration: "
       ]
      },
      {
       "output_type": "stream",
       "stream": "stdout",
       "text": [
        " 2 x0:  [ 149.116552  -35.410301] xt:  [149.11651891601988, -35.41030913233535]\n",
        "iteration:  2 x0:  [ 149.139632  -35.273729] xt:  [149.13969664410064, -35.27368603497542]\n",
        "iteration: "
       ]
      },
      {
       "output_type": "stream",
       "stream": "stdout",
       "text": [
        " 1 x0:  [ 149.147097  -35.335969] xt:  [149.14706739245801, -35.335839330881967]\n",
        "iteration: "
       ]
      },
      {
       "output_type": "stream",
       "stream": "stdout",
       "text": [
        " 10 x0:  [ 149.119593  -35.440799] xt:  [149.11900919682782, -35.440926589479169]\n",
        "iteration: "
       ]
      },
      {
       "output_type": "stream",
       "stream": "stdout",
       "text": [
        " 5 x0:  [ 149.134385  -35.313804] xt:  [149.13422729884081, -35.313918773058518]\n",
        "iteration: "
       ]
      },
      {
       "output_type": "stream",
       "stream": "stdout",
       "text": [
        " 5 x0:  [ 149.033656  -35.334219] xt:  [149.03404661196154, -35.334296883851849]\n",
        "iteration:  1 x0:  [ 149.122047  -35.418155] xt:  [149.12203114716897, -35.418141191745853]\n",
        "iteration: "
       ]
      },
      {
       "output_type": "stream",
       "stream": "stdout",
       "text": [
        " 8 x0:  [ 149.095654  -35.403473] xt:  [149.09539259149102, -35.403518849190739]\n",
        "iteration: "
       ]
      },
      {
       "output_type": "stream",
       "stream": "stdout",
       "text": [
        " 107 x0:  [ 149.059794  -35.21254 ] xt:  [149.06088334813447, -35.213199959552895]\n",
        "iteration:  1 x0:  [ 149.154143  -35.248452] xt:  [149.15413671165487, -35.248378798558193]\n",
        "iteration:  1 x0:  [ 149.130653  -35.252379] xt:  [149.13062248009598, -35.252365648052077]\n",
        "iteration: "
       ]
      },
      {
       "output_type": "stream",
       "stream": "stdout",
       "text": [
        " 90 x0:  [ 149.094282  -35.323849] xt:  [149.09245446348942, -35.326542370094032]\n",
        "iteration: "
       ]
      },
      {
       "output_type": "stream",
       "stream": "stdout",
       "text": [
        " 10 x0:  [ 149.103234  -35.306948] xt:  [149.10355692977924, -35.307256082664466]\n",
        "iteration: "
       ]
      },
      {
       "output_type": "stream",
       "stream": "stdout",
       "text": [
        " 5 x0:  [ 149.147123  -35.278101] xt:  [149.14701595785164, -35.278180265485965]\n",
        "iteration:  1 x0:  [ 149.156099  -35.290271] xt:  [149.15601282770146, -35.290127928745065]\n",
        "iteration: "
       ]
      },
      {
       "output_type": "stream",
       "stream": "stdout",
       "text": [
        " 12 x0:  [ 149.122499  -35.264552] xt:  [149.12283512283571, -35.264497126796876]\n",
        "iteration:  1 x0:  [ 149.126081  -35.264995] xt:  [149.12605696431427, -35.264940391066432]\n",
        "iteration:  1 x0:  [ 149.146358  -35.255113] xt:  [149.14625983792351, -35.255048797202861]\n",
        "iteration: "
       ]
      },
      {
       "output_type": "stream",
       "stream": "stdout",
       "text": [
        " 12 x0:  [ 149.124974  -35.25148 ] xt:  [149.12542988763948, -35.251383270512505]\n",
        "iteration: "
       ]
      },
      {
       "output_type": "stream",
       "stream": "stdout",
       "text": [
        " 3 x0:  [ 149.126171  -35.315084] xt:  [149.12621557287824, -35.315111396886202]\n",
        "iteration:  1 x0:  [ 149.132893  -35.339741] xt:  [149.13286173785153, -35.339623991430834]\n",
        "iteration:  1 x0:  [ 149.150698  -35.329016] xt:  [149.15052703142118, -35.32901062914398]\n",
        "iteration: "
       ]
      },
      {
       "output_type": "stream",
       "stream": "stdout",
       "text": [
        " 1 x0:  [ 149.103287  -35.344681] xt:  [149.1032105108188, -35.344665011956543]\n",
        "iteration:  1 x0:  [ 149.093456  -35.332248] xt:  [149.09341953185202, -35.332245619010656]\n",
        "iteration: "
       ]
      },
      {
       "output_type": "stream",
       "stream": "stdout",
       "text": [
        " 4 x0:  [ 149.076243  -35.341633] xt:  [149.07633244756354, -35.341559598037826]\n",
        "iteration: "
       ]
      },
      {
       "output_type": "stream",
       "stream": "stdout",
       "text": [
        " 11 x0:  [ 149.088321  -35.34036 ] xt:  [149.08859696784128, -35.340228991175287]\n",
        "iteration:  1 x0:  [ 149.097655  -35.358505] xt:  [149.09757978915948, -35.358447342400638]\n",
        "iteration:  1 x0:  [ 149.089434  -35.363475] xt:  [149.08941374397585, -35.36347801442686]\n",
        "iteration: "
       ]
      },
      {
       "output_type": "stream",
       "stream": "stdout",
       "text": [
        " 1 x0:  [ 149.090949  -35.370046] xt:  [149.09091158368327, -35.369989306776091]\n",
        "iteration: "
       ]
      },
      {
       "output_type": "stream",
       "stream": "stdout",
       "text": [
        " 5 x0:  [ 149.043079  -35.356878] xt:  [149.04339565111781, -35.356817912592163]\n",
        "iteration:  1 x0:  [ 149.079914  -35.255999] xt:  [149.07981608778724, -35.255890015834829]\n",
        "iteration: "
       ]
      },
      {
       "output_type": "stream",
       "stream": "stdout",
       "text": [
        " 14 x0:  [ 149.039298  -35.246957] xt:  [149.03898140667027, -35.24707726638416]\n",
        "iteration: "
       ]
      },
      {
       "output_type": "stream",
       "stream": "stdout",
       "text": [
        " 17 x0:  [ 149.074517  -35.251302] xt:  [149.07467768431036, -35.251532650401167]\n",
        "iteration: "
       ]
      },
      {
       "output_type": "stream",
       "stream": "stdout",
       "text": [
        " 14 x0:  [ 149.031897  -35.244317] xt:  [149.03228097384377, -35.244454216674768]\n",
        "iteration: "
       ]
      },
      {
       "output_type": "stream",
       "stream": "stdout",
       "text": [
        " 8 x0:  [ 149.034593  -35.250284] xt:  [149.03497970656753, -35.249741291153462]\n",
        "iteration:  1 x0:  [ 149.059393  -35.250069] xt:  [149.05938623403418, -35.25004202108655]\n",
        "iteration:  1 x0:  [ 149.047137  -35.251826] xt:  [149.04713670233934, -35.251717667279891]\n",
        "iteration: "
       ]
      },
      {
       "output_type": "stream",
       "stream": "stdout",
       "text": [
        " 2 x0:  [ 149.036203  -35.198682] xt:  [149.03624205559029, -35.198713305084127]\n",
        "iteration: "
       ]
      },
      {
       "output_type": "stream",
       "stream": "stdout",
       "text": [
        " 9 x0:  [ 149.043375  -35.191795] xt:  [149.04318266699426, -35.192171511158776]\n",
        "iteration: "
       ]
      },
      {
       "output_type": "stream",
       "stream": "stdout",
       "text": [
        " 4 x0:  [ 149.024452  -35.232764] xt:  [149.02463671691029, -35.232641710227433]\n",
        "iteration: "
       ]
      },
      {
       "output_type": "stream",
       "stream": "stdout",
       "text": [
        " 3 x0:  [ 149.012022  -35.222654] xt:  [149.01221894532836, -35.22250978925409]\n",
        "iteration: "
       ]
      },
      {
       "output_type": "stream",
       "stream": "stdout",
       "text": [
        " 9 x0:  [ 149.034298  -35.220157] xt:  [149.03427328466222, -35.220311958242512]\n",
        "iteration: "
       ]
      },
      {
       "output_type": "stream",
       "stream": "stdout",
       "text": [
        " 7 x0:  [ 149.012349  -35.213112] xt:  [149.01252816393705, -35.213350045543194]\n",
        "iteration: "
       ]
      },
      {
       "output_type": "stream",
       "stream": "stdout",
       "text": [
        " 15 x0:  [ 149.055621  -35.208737] xt:  [149.05584792535464, -35.208992515397476]\n",
        "iteration: "
       ]
      },
      {
       "output_type": "stream",
       "stream": "stdout",
       "text": [
        " 6 x0:  [ 149.075906  -35.20707 ] xt:  [149.07580483130374, -35.207207409282013]\n",
        "iteration: "
       ]
      },
      {
       "output_type": "stream",
       "stream": "stdout",
       "text": [
        " 4 x0:  [ 149.094449  -35.213717] xt:  [149.09446146106998, -35.213774203527059]\n",
        "iteration: "
       ]
      },
      {
       "output_type": "stream",
       "stream": "stdout",
       "text": [
        " 5 x0:  [ 149.1012    -35.225083] xt:  [149.10136220659456, -35.225085457627863]\n",
        "iteration:  1 x0:  [ 149.11404   -35.224835] xt:  [149.11388637018678, -35.224822538508931]\n",
        "iteration:  1 x0:  [ 149.102261  -35.235115] xt:  [149.10224167270326, -35.235071722169565]\n",
        "iteration: "
       ]
      },
      {
       "output_type": "stream",
       "stream": "stdout",
       "text": [
        " 1 x0:  [ 149.066961  -35.213295] xt:  [149.06690276236083, -35.213259479290329]\n",
        "iteration: "
       ]
      },
      {
       "output_type": "stream",
       "stream": "stdout",
       "text": [
        " 5 x0:  [ 149.064261  -35.378318] xt:  [149.06415707972693, -35.378393438104929]\n",
        "iteration: "
       ]
      },
      {
       "output_type": "stream",
       "stream": "stdout",
       "text": [
        " 3 x0:  [ 149.063336  -35.394483] xt:  [149.06342860518708, -35.394415781869569]\n",
        "iteration:  2 x0:  [ 149.086363  -35.394992] xt:  [149.08635061564212, -35.395002606119498]\n",
        "iteration: "
       ]
      },
      {
       "output_type": "stream",
       "stream": "stdout",
       "text": [
        " 7 x0:  [ 149.095898  -35.393069] xt:  [149.09575798861883, -35.393163576546421]\n",
        "iteration: "
       ]
      },
      {
       "output_type": "stream",
       "stream": "stdout",
       "text": [
        " 17 x0:  [ 149.118175  -35.404286] xt:  [149.11793095669421, -35.40477468935125]\n",
        "iteration: "
       ]
      },
      {
       "output_type": "stream",
       "stream": "stdout",
       "text": [
        " 9 x0:  [ 149.110565  -35.413608] xt:  [149.11085569493164, -35.41350646864403]\n",
        "iteration:  1 x0:  [ 149.089411  -35.414879] xt:  [149.0894054435189, -35.414856840676919]\n",
        "iteration: "
       ]
      },
      {
       "output_type": "stream",
       "stream": "stdout",
       "text": [
        " 4 x0:  [ 149.113943  -35.428859] xt:  [149.11392874695957, -35.428884175104102]\n",
        "iteration: "
       ]
      },
      {
       "output_type": "stream",
       "stream": "stdout",
       "text": [
        " 38 x0:  [ 149.051068  -35.332247] xt:  [149.05075653045239, -35.332719920053876]\n",
        "iteration:  1 x0:  [ 149.090709  -35.439222] xt:  [149.09071871927145, -35.439186426871608]\n",
        "iteration: "
       ]
      },
      {
       "output_type": "stream",
       "stream": "stdout",
       "text": [
        " 38 x0:  [ 149.096766  -35.45791 ] xt:  [149.09526432316369, -35.460219767339787]\n",
        "iteration: "
       ]
      },
      {
       "output_type": "stream",
       "stream": "stdout",
       "text": [
        " 6 x0:  [ 149.074161  -35.239149] xt:  [149.07419948323243, -35.239279921317888]\n",
        "iteration: "
       ]
      },
      {
       "output_type": "stream",
       "stream": "stdout",
       "text": [
        " 4 x0:  [ 149.068195  -35.413803] xt:  [149.0684212428267, -35.41371942404858]\n",
        "iteration: "
       ]
      },
      {
       "output_type": "stream",
       "stream": "stdout",
       "text": [
        " 5 x0:  [ 149.109254  -35.438412] xt:  [149.1093956305734, -35.438398135806061]\n",
        "iteration: "
       ]
      },
      {
       "output_type": "stream",
       "stream": "stdout",
       "text": [
        " 25 x0:  [ 149.117635  -35.441052] xt:  [149.11838433513933, -35.440979102255781]\n",
        "iteration: "
       ]
      },
      {
       "output_type": "stream",
       "stream": "stdout",
       "text": [
        " 21 x0:  [ 149.15501   -35.238509] xt:  [149.15433919479048, -35.2391326809284]\n",
        "iteration:  1 x0:  [ 149.059719  -35.355017] xt:  [149.05961518657952, -35.35498032569069]\n",
        "iteration:  1 x0:  [ 149.052092  -35.226519] xt: "
       ]
      },
      {
       "output_type": "stream",
       "stream": "stdout",
       "text": [
        " [149.05202807177005, -35.226505016492837]\n",
        "iteration:  1 x0:  [ 149.135582  -35.419488] xt:  [149.135333320277, -35.419491526195287]\n",
        "iteration:  1 x0:  [ 149.089497  -35.428716] xt:  [149.08948285459908, -35.428712251344074]\n",
        "iteration: "
       ]
      },
      {
       "output_type": "stream",
       "stream": "stdout",
       "text": [
        " 17 x0:  [ 149.101809  -35.180246] xt:  [149.10151683089447, -35.180478017057567]\n",
        "iteration: "
       ]
      },
      {
       "output_type": "stream",
       "stream": "stdout",
       "text": [
        " 3 x0:  [ 149.120303  -35.1975  ] xt:  [149.12034573656092, -35.197345822185291]\n",
        "iteration: "
       ]
      },
      {
       "output_type": "stream",
       "stream": "stdout",
       "text": [
        " 7 x0:  [ 149.112366  -35.265224] xt:  [149.11271487569761, -35.26512978244736]\n",
        "iteration: "
       ]
      },
      {
       "output_type": "stream",
       "stream": "stdout",
       "text": [
        " 8 x0:  [ 149.05436   -35.355429] xt:  [149.05454011945383, -35.355239401272605]\n",
        "iteration:  1 x0:  [ 149.098449  -35.464883] xt:  [149.09837228922086, -35.464655380688612]\n",
        "iteration: "
       ]
      },
      {
       "output_type": "stream",
       "stream": "stdout",
       "text": [
        " 4 x0:  [ 149.079926  -35.331662] xt:  [149.08002633210157, -35.33158799101254]\n",
        "iteration:  1 x0:  [ 149.12396   -35.447667] xt:  [149.12377347202349, -35.447527145843623]\n",
        "iteration:  1 x0:  [ 149.092398  -35.326599] xt:  [149.09241205357009, -35.326593269494467]\n",
        "iteration: "
       ]
      },
      {
       "output_type": "stream",
       "stream": "stdout",
       "text": [
        " 9 x0:  [ 149.086978  -35.455517] xt:  [149.08752473113921, -35.455584808940145]\n",
        "iteration: "
       ]
      },
      {
       "output_type": "stream",
       "stream": "stdout",
       "text": [
        " 41 x0:  [ 149.09402   -35.337447] xt:  [149.09370228289097, -35.33780191416858]\n",
        "iteration:  1 x0:  [ 149.038363  -35.232767] xt:  [149.03835372755285, -35.232761446192825]\n",
        "iteration: "
       ]
      },
      {
       "output_type": "stream",
       "stream": "stdout",
       "text": [
        " 8 x0:  [ 149.082604  -35.431846] xt:  [149.08311099240277, -35.43175145369819]\n",
        "iteration: "
       ]
      },
      {
       "output_type": "stream",
       "stream": "stdout",
       "text": [
        " 4 x0:  [ 149.09507   -35.460389] xt:  [149.09524195708187, -35.460269634723687]\n",
        "iteration: "
       ]
      },
      {
       "output_type": "stream",
       "stream": "stdout",
       "text": [
        " 3 x0:  [ 149.111784  -35.169196] xt:  [149.11194713652355, -35.169274686584636]\n",
        "iteration: "
       ]
      },
      {
       "output_type": "stream",
       "stream": "stdout",
       "text": [
        " 12 x0:  [ 149.092808  -35.424911] xt:  [149.09264378594659, -35.425052620674272]\n",
        "iteration: "
       ]
      },
      {
       "output_type": "stream",
       "stream": "stdout",
       "text": [
        " 6 x0:  [ 149.142818  -35.253355] xt:  [149.14286875339016, -35.253429456010281]\n",
        "iteration: "
       ]
      },
      {
       "output_type": "stream",
       "stream": "stdout",
       "text": [
        " 22 x0:  [ 149.100262  -35.181275] xt:  [149.10136083848533, -35.180589165832231]\n",
        "iteration: "
       ]
      },
      {
       "output_type": "stream",
       "stream": "stdout",
       "text": [
        " 5 x0:  [ 149.123672  -35.188529] xt:  [149.1235768031934, -35.188620923716861]\n",
        "iteration: "
       ]
      },
      {
       "output_type": "stream",
       "stream": "stdout",
       "text": [
        " 4 x0:  [ 149.035968  -35.380778] xt:  [149.03631930557978, -35.380732323390284]\n",
        "iteration:  2 x0:  [ 149.107114  -35.378739] xt:  [149.10694389410133, -35.378751150851627]\n",
        "iteration: "
       ]
      },
      {
       "output_type": "stream",
       "stream": "stdout",
       "text": [
        " 2 x0:  [ 149.02911   -35.224913] xt:  [149.02913017475299, -35.224921381080328]\n",
        "iteration:  1 x0:  [ 149.123922  -35.166843] xt:  [149.12387424441124, -35.166761597409291]\n",
        "iteration:  1 x0:  [ 149.15938   -35.246571] xt:  [149.15910260863498, -35.246546673808261]\n",
        "iteration: "
       ]
      },
      {
       "output_type": "stream",
       "stream": "stdout",
       "text": [
        " 37 x0:  [ 149.125588  -35.16392 ] xt:  [149.12397397527192, -35.166599188730004]\n",
        "iteration: "
       ]
      },
      {
       "output_type": "stream",
       "stream": "stdout",
       "text": [
        " 33 x0:  [ 149.15037   -35.240588] xt:  [149.15156786447019, -35.240489141069965]\n",
        "iteration:  2 x0:  [ 149.1516423  -35.1975306] xt:  [149.15147136165606, -35.197533044703711]\n",
        "iteration: "
       ]
      },
      {
       "output_type": "stream",
       "stream": "stdout",
       "text": [
        " 6 x0:  [ 149.147091  -35.285316] xt:  [149.14740105294334, -35.285213352230471]\n",
        "iteration: "
       ]
      },
      {
       "output_type": "stream",
       "stream": "stdout",
       "text": [
        " 5 x0:  [ 149.110759  -35.312126] xt:  [149.1107640407692, -35.312186484384917]\n",
        "iteration: "
       ]
      },
      {
       "output_type": "stream",
       "stream": "stdout",
       "text": [
        " 10 x0:  [ 149.133153  -35.339388] xt:  [149.1329229064701, -35.339517459715374]\n",
        "iteration:  1 x0:  [ 149.090983  -35.405251] xt:  [149.09099053344855, -35.405251389959524]\n",
        "iteration: "
       ]
      },
      {
       "output_type": "stream",
       "stream": "stdout",
       "text": [
        " 3 x0:  [ 149.124691  -35.332344] xt:  [149.12475016691192, -35.332260336321653]\n",
        "size of reduced SEPs: "
       ]
      },
      {
       "output_type": "stream",
       "stream": "stdout",
       "text": [
        " 105\n"
       ]
      },
      {
       "metadata": {},
       "output_type": "display_data",
       "png": "[encoded data removed]",
       "text": [
        "<matplotlib.figure.Figure at 0x74ad160>"
       ]
      }
     ],
     "prompt_number": 190
    },
    {
     "cell_type": "code",
     "collapsed": false,
     "input": [
      "A = getAdjacencyMatrix(sepList, 0.20, 5, data, invA)\n",
      "sepsClusters = getSEPsClusters(A, sepList)\n",
      "print sepsClusters\n",
      "plotCluster(sepList[:,0],sepList[:,1],sepsClusters,\"Scatter Plot\")"
     ],
     "language": "python",
     "metadata": {},
     "outputs": [
      {
       "output_type": "stream",
       "stream": "stdout",
       "text": [
        "[1, 2, 3, 3, 4, 2, 1, 3, 4, 5, 2, 4, 4, 3, 2, 2, 4, 3, 6, 7, 1, 1, 8, 9, 2, 9, 7, 1, 1, 10, 2, 10, 4, 7, 10, 9, 2, 3, 4, 2, 2, 2, 4, 4, 3, 3, 3, 3, 3, 5, 1, 1, 1, 1, 1, 6, 6, 1, 1, 1, 1, 1, 1, 1, 1, 1, 1, 8, 9, 9, 9, 10, 10, 9, 10, 9, 11, 1, 12, 10, 2, 5, 1, 10, 9, 13, 14, 2, 11, 3, 10, 11, 1, 9, 13, 9, 14, 8, 15, 1, 13, 16, 2, 4, 9]\n"
       ]
      },
      {
       "metadata": {},
       "output_type": "display_data",
       "png": "[encoded data removed]",
       "text": [
        "<matplotlib.figure.Figure at 0x736df98>"
       ]
      }
     ],
     "prompt_number": 207
    },
    {
     "cell_type": "code",
     "collapsed": false,
     "input": [
      "#get clusters assignment\n",
      "results = getPointClusters(sepsClusters, sepIndexMap)\n",
      "plotCluster2(X,Y,results,\"Scatter Plot\")"
     ],
     "language": "python",
     "metadata": {},
     "outputs": [
      {
       "metadata": {},
       "output_type": "display_data",
       "png": "[encoded data removed]",
       "text": [
        "<matplotlib.figure.Figure at 0x759d6a0>"
       ]
      }
     ],
     "prompt_number": 208
    },
    {
     "cell_type": "code",
     "collapsed": false,
     "input": [
      "f=open('results\\\\schools_Var=0.20.txt','a')\n",
      "for i in range (len(results)):\n",
      "    print >> f, results[i]\n",
      "f.close()"
     ],
     "language": "python",
     "metadata": {},
     "outputs": [],
     "prompt_number": 209
    },
    {
     "cell_type": "code",
     "collapsed": false,
     "input": [
      "A = getAdjacencyMatrix(sepList, 0.30, 5, data, invA)\n",
      "sepsClusters = getSEPsClusters(A, sepList)\n",
      "print sepsClusters\n",
      "plotCluster(sepList[:,0],sepList[:,1],sepsClusters,\"Scatter Plot\")"
     ],
     "language": "python",
     "metadata": {},
     "outputs": []
    }
   ],
   "metadata": {}
  }
 ]
}