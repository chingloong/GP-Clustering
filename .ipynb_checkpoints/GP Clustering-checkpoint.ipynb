{
 "metadata": {
  "name": ""
 },
 "nbformat": 3,
 "nbformat_minor": 0,
 "worksheets": [
  {
   "cells": [
    {
     "cell_type": "markdown",
     "metadata": {},
     "source": [
      "#Algorithm Implementation"
     ]
    },
    {
     "cell_type": "code",
     "collapsed": false,
     "input": [
      "import numpy as np\n",
      "from numpy import *\n",
      "import matplotlib\n",
      "import matplotlib.pyplot as plt\n",
      "import scipy\n",
      "import math\n",
      "from numpy import matrix\n",
      "\n",
      "#plot the scatter plot\n",
      "def plotScatter(X,Y,title,c):\n",
      "    fig = plt.figure()\n",
      "    ax = fig.add_subplot(111)\n",
      "    ax.plot(X,Y,c+'.')\n",
      "    ax.set_title(title)\n",
      "    plt.show()\n",
      "\n",
      "def plotCluster(X,Y,clusters,title):\n",
      "#    fig = plt.figure()\n",
      " #   ax = fig.add_subplot(111)\n",
      "    \n",
      "    colors = np.arange(int(max(clusters)))\n",
      "    t = [colors[(int)(clusters[i]) - 1]  for i in range (len(clusters))]\n",
      "    plt.scatter(X, Y, c=t)\n",
      "    plt.title(title)\n",
      "    plt.show()\n",
      "    \n",
      "def plotCluster2(X,Y,clusters,title):\n",
      "    fig = plt.figure()\n",
      "    ax = fig.add_subplot(111)\n",
      "\n",
      "    colors = ['r','g','b','c','m','y']   \n",
      "    c = [colors[((int)(clusters[i])-1) % len(colors)]  + '.' for i in range (len(clusters))]\n",
      "    \n",
      "    for i in range (len(X)):\n",
      "        ax.plot(X[i],Y[i],c[i])\n",
      "    ax.set_title(title)\n",
      "    plt.show() \n",
      "\n",
      "def plotHeatMap(heatmap, extent):\n",
      "    plt.clf()\n",
      "    plt.imshow(heatmap, extent=extent)\n",
      "    plt.colorbar()\n",
      "    plt.show()\n",
      "    \n",
      "#init parameters for the model\n",
      "# need to be determined for different dataset\n",
      "# alpha = 1\n",
      "v0 = 1\n",
      "l =  [1. for i in range(2)]\n",
      "v1 = 0\n",
      "v2 = 1"
     ],
     "language": "python",
     "metadata": {},
     "outputs": [],
     "prompt_number": 3
    },
    {
     "cell_type": "markdown",
     "metadata": {},
     "source": [
      "##Step 1. Construct a variance function and compute the level value $r^* = max_{x_i} \\sigma ^2 (x_i) $"
     ]
    },
    {
     "cell_type": "code",
     "collapsed": false,
     "input": [
      "#Calculate Covariance Matrix C\n",
      "def kernelFunction(x1, x2):\n",
      "    c = 0.;\n",
      "    for i in range(len(x1)):\n",
      "        c += l[i] * ((x1[i] - x2[i]) **2 )\n",
      "\n",
      "    c = v0 * math.exp(- 0.5 * c)+ v1\n",
      "    return c\n",
      "\n",
      "#calculate the whole covariance matrix \n",
      "def getCovarianceMatrix(data):\n",
      "    size = len(data[0,:])\n",
      "    C = [[ 0. for i in range (size)] for j in range (size)]\n",
      "    for i in range (size):\n",
      "        for j in range (size):\n",
      "            C[i][j] = kernelFunction(data[:,i], data[:,j])\n",
      "    return matrix(C)  \n",
      "\n",
      "\n",
      "#TODO check how to calculate the variance\n",
      "#calculate variance of dataset\n",
      "def getVariance(data):\n",
      "    return np.var(data[0,:]) + np.var(data[1,:])\n",
      "\n",
      "#calculate inversion of Matrix A\n",
      "def getInversionMatrix(data, C):\n",
      "    size = len(data[0,:])\n",
      "    var = getVariance(data)\n",
      "    return  (C + v2 *var * matrix(np.eye(size)) ).I \n",
      "\n",
      "#calcalate the variance for a given point x\n",
      "def varianceFunction(x, data, inv):\n",
      "    size = len(data[0,:])\n",
      "    k = matrix( [kernelFunction(x, data[:,i]) for i in range (size)]).T\n",
      "    result = kernelFunction(x,x) - k.T * inv * k\n",
      "    return result[0,0]\n",
      "\n",
      "\n",
      "\n",
      "def getMaxVariance():\n",
      "    maxVars = 0.\n",
      "    maxIndex = 0\n",
      "    for i in range (size):\n",
      "        if(i == 0):\n",
      "            maxVar = varianceFunction(data[:,i], data, invA)\n",
      "            maxIndex = 0\n",
      "        else:\n",
      "            tmp = varianceFunction(data[:,i], data, invA)\n",
      "            if(tmp > maxVar):\n",
      "                maxVar = tmp\n",
      "                maxIndex = i\n",
      "    return maxVar, data[:,maxIndex]\n",
      "\n",
      "def getMaxVariances(num):\n",
      "    maxVars = [ 0. for i in range (num)]\n",
      "    variances = array([varianceFunction(data[:,i], data, invA) for i in range(size)])\n",
      "    sorted_vars = sort(variances)\n",
      "    for i in range (num):\n",
      "        maxVars[i] = sorted_vars[-1-i]\n",
      "    \n",
      "    return maxVars"
     ],
     "language": "python",
     "metadata": {},
     "outputs": [],
     "prompt_number": 3
    },
    {
     "cell_type": "markdown",
     "metadata": {},
     "source": [
      "##Step 2. Compute Stable Equilibrium Points"
     ]
    },
    {
     "cell_type": "code",
     "collapsed": false,
     "input": [
      "#nabla_variance_function\n",
      "def nablaVarianceFunction(x, data, inv):\n",
      "    size = len(data[0,:])\n",
      "    k = matrix( [kernelFunction(x, data[:,i]) for i in range (size)]).T\n",
      "    nablaK_x1 = matrix([ - kernelFunction(x, data[:,i]) * (x[0] - data[0,i]) for i in range (size)]).T\n",
      "    nablaK_x2 = matrix([ - kernelFunction(x, data[:,i]) * (x[1] - data[1,i]) for i in range (size)]).T\n",
      "    delta_x1 =  nablaK_x1.T * inv * k + k.T * inv * nablaK_x1 \n",
      "    delta_x2 =  nablaK_x2.T * inv * k + k.T * inv * nablaK_x2\n",
      "    return [delta_x1[0,0], delta_x2[0,0]]\n",
      "\n",
      "#gradient descent iteration\n",
      "def gradientDescentIteration(x, data, inv, ita):\n",
      "    delta_x = nablaVarianceFunction(x,data,inv)\n",
      "    #print \"delta_x:\" , delta_x\n",
      "    return [ x[i] + ita * delta_x[i] for i in range (len(x))]\n",
      "\n",
      "def getEquilibriumPoint(x,data,inv,ita,maxIteration):\n",
      "    x_old = x\n",
      "    iteration = 1\n",
      "    for i in range(maxIteration):\n",
      "        x_new = gradientDescentIteration(x_old,data,inv,ita)\n",
      "        if( (x_new[0] - x_old[0])/x_old[0] < 0.00001 and (x_new[1] - x_old[1])/x_old[1] < 0.00001):\n",
      "            break\n",
      "        else:\n",
      "            x_old = x_new\n",
      "            iteration += 1\n",
      "    print \"iteration: \" , iteration, \"x0: \", x, \"xt: \", x_new\n",
      "    return x_new\n",
      "\n",
      "def isExistInList(sepList, point, min_accepted_covariance):\n",
      "    for i in range (len(sepList)):\n",
      "        covariance = kernelFunction(sepList[i], point)\n",
      "        if(covariance > min_accepted_covariance):\n",
      "            return i\n",
      "    return -1\n",
      "\n",
      "def reduceSEPs(seps, min_accepted_covariance):\n",
      "    sepList = []\n",
      "    sepIndexMap = {}\n",
      "    for i in range (len(seps)):\n",
      "        index = isExistInList(sepList, [seps[i,0],seps[i,1]], min_accepted_covariance)\n",
      "        if index == -1 :\n",
      "            index = len(sepList)\n",
      "            sepList.append([seps[i,0],seps[i,1]])\n",
      "        sepIndexMap[i] = index\n",
      "    return array(sepList), sepIndexMap"
     ],
     "language": "python",
     "metadata": {},
     "outputs": [],
     "prompt_number": 4
    },
    {
     "cell_type": "markdown",
     "metadata": {},
     "source": [
      "##Step 3. Construct Adjacency Matrix A"
     ]
    },
    {
     "cell_type": "code",
     "collapsed": false,
     "input": [
      "def getGeometricDistance(x1, x2):\n",
      "    d = 0.\n",
      "    for i in range (len(x1)):\n",
      "        d += (x1[i] - x2[i])**2\n",
      "    return math.sqrt(d)\n",
      "\n",
      "def getAdjacencyMatrix(sepList, maxVar, pointsNumPerDistanceUnit, data, invA):\n",
      "    A = [[ -1 for i in range (len(sepList))] for j in range (len(sepList)) ]\n",
      "    for i in range (len(sepList)):\n",
      "        for j in range (len(sepList)):\n",
      "            if(i == j ):\n",
      "                A[i][j] = 1\n",
      "            elif( i < j ):\n",
      "                isConnected = True\n",
      "                delta = sepList[i] - sepList[j]\n",
      "                distance = getGeometricDistance(sepList[i], sepList[j])\n",
      "                pointsNum = pointsNumPerDistanceUnit * distance\n",
      "                for m in range ((int)(pointsNum)):\n",
      "                    testPoint = sepList[j] + (m+1) * delta/pointsNum\n",
      "                    testVar = varianceFunction(testPoint, data, invA)\n",
      "                    if(testVar > maxVar):\n",
      "                        isConnected = False\n",
      "                        break\n",
      "                if isConnected is True:\n",
      "                    A[i][j] = 1\n",
      "                else:\n",
      "                    A[i][j] = 0\n",
      "            elif (i > j ):\n",
      "                A[i][j] = A[j][i]\n",
      "    return array(A)"
     ],
     "language": "python",
     "metadata": {},
     "outputs": [],
     "prompt_number": 5
    },
    {
     "cell_type": "markdown",
     "metadata": {},
     "source": [
      "##Step 4. Assign cluster Labels to training data Points"
     ]
    },
    {
     "cell_type": "code",
     "collapsed": false,
     "input": [
      "def getSEPsClusters(adjacencyMatrix, sepList):\n",
      "    clusters = [ -1 for i in range (len(sepList))]\n",
      "    clusterIndex = 1\n",
      "    for i in range (len(sepList)):\n",
      "        isNewCluster = True;\n",
      "        clusterNo = clusterIndex;\n",
      "        for j in range ( len(sepList)):\n",
      "            if adjacencyMatrix[i][j] == 1 and clusters[j] != -1:\n",
      "                isNewCluster = False\n",
      "                clusterNo = clusters[j]\n",
      "                break\n",
      "        for j in range ( i , len(sepList)):\n",
      "            if adjacencyMatrix[i][j] == 1:\n",
      "                clusters[j] = clusterNo\n",
      "        if isNewCluster:\n",
      "            clusterIndex += 1\n",
      "        \n",
      "    return clusters    \n",
      "\n",
      "def getPointClusters(sepsClusters, sepIndexMap):\n",
      "    clusters = [-1 for i in range (len(sepIndexMap))]\n",
      "    for i in range (len(sepIndexMap)):\n",
      "        clusters[i] = sepsClusters[sepIndexMap[i]]\n",
      "    return clusters"
     ],
     "language": "python",
     "metadata": {},
     "outputs": [],
     "prompt_number": 6
    },
    {
     "cell_type": "markdown",
     "metadata": {},
     "source": [
      "##Alogorithm Evaluation"
     ]
    },
    {
     "cell_type": "markdown",
     "metadata": {},
     "source": [
      "$n_{r,c}$ -- the number of data points that belong to reference cluster r and are assigned to cluster c by a clustering algorithm\n",
      "\n",
      "$n$ -- the number of all the data points\n",
      "\n",
      "$n_r$ -- the number of the data points in the reference cluster r\n",
      "\n",
      "$n_c$ -- the number of the data points in the cluser c obtained by a clustering algorithm"
     ]
    },
    {
     "cell_type": "code",
     "collapsed": false,
     "input": [
      "# count n_{r,c}\n",
      "\n",
      "def getCountNrc(references, clusters, referencesNum, clustersNum):\n",
      "    size = len(clusters)\n",
      "    Nrc = [[0 for c in range(clustersNum)] for r in range(referencesNum) ]\n",
      "    for r in range (referencesNum):\n",
      "        for c in range (clustersNum):\n",
      "            for i in range (size):\n",
      "                if (references[i] -1 == r and clusters[i]-1 == c):\n",
      "                    Nrc[r][c] += 1\n",
      "    return Nrc"
     ],
     "language": "python",
     "metadata": {},
     "outputs": [],
     "prompt_number": 58
    },
    {
     "cell_type": "markdown",
     "metadata": {},
     "source": [
      "###1. Reference error rate RE"
     ]
    },
    {
     "cell_type": "markdown",
     "metadata": {},
     "source": [
      "$ RE = 1 - \\frac{\\sum_r {max_c n_{r,c}}}{n}$"
     ]
    },
    {
     "cell_type": "code",
     "collapsed": false,
     "input": [
      "def getRE(references, clusters, referencesNum, clustersNum, Nrc):\n",
      "    size = len(clusters)\n",
      "    sumTmp = 0.\n",
      "    for r in range (referencesNum):\n",
      "        maxTmp = 0.\n",
      "        for c in range (clustersNum):\n",
      "            if(maxTmp < Nrc[r][c]):\n",
      "                maxTmp = Nrc[r][c]\n",
      "        sumTmp += maxTmp\n",
      "    return 1 - sumTmp / size"
     ],
     "language": "python",
     "metadata": {},
     "outputs": [],
     "prompt_number": 35
    },
    {
     "cell_type": "markdown",
     "metadata": {},
     "source": [
      "###2. Cluster error"
     ]
    },
    {
     "cell_type": "markdown",
     "metadata": {},
     "source": [
      "$CE = 1 - \\frac{\\sum_c {max_r {n_{r,c}}}} {n}$"
     ]
    },
    {
     "cell_type": "code",
     "collapsed": false,
     "input": [
      "def getCE(references, clusters, referencesNum, clustersNum, Nrc):\n",
      "    size = len(clusters)\n",
      "    sumTmp = 0.\n",
      "    for c in range (clustersNum):\n",
      "        maxTmp = 0.\n",
      "        for r in range (referencesNum):\n",
      "            if(maxTmp < Nrc[r][c]):\n",
      "                maxTmp = Nrc[r][c]\n",
      "        sumTmp += maxTmp\n",
      "    return 1 - sumTmp / size"
     ],
     "language": "python",
     "metadata": {},
     "outputs": [],
     "prompt_number": 36
    },
    {
     "cell_type": "markdown",
     "metadata": {},
     "source": [
      "###3. F Score"
     ]
    },
    {
     "cell_type": "markdown",
     "metadata": {},
     "source": [
      "The FScore of the reference cluster r and cluster c is defined as:\n",
      "\n",
      "$F_{r,c} = \\frac {2 R_{r,c} P_{r,c}} {R_{r,c} + p_{r,c}}$ \n",
      "\n",
      "Where $R_{r,c} = \\frac {n_{r,c}}{n_c}$ represents Recall and $P_{r,c} = \\frac{n_{r,c}}{n_r}$ represents Precision"
     ]
    },
    {
     "cell_type": "markdown",
     "metadata": {},
     "source": [
      "The FScore of the reference cluster r is the maximum FScore value over all the clusters as\n",
      "\n",
      "$F_r = max_c F_{r,c}$"
     ]
    },
    {
     "cell_type": "markdown",
     "metadata": {},
     "source": [
      "The overall FScore is defined as\n",
      "\n",
      "\n",
      "$FScore = \\sum_r \\frac {n_r}{n} F_r$\n",
      "\n",
      "In general, the higher the FScore, the better the clustering result"
     ]
    },
    {
     "cell_type": "code",
     "collapsed": false,
     "input": [
      "def getFScore(references, clusters, referencesNum, clustersNum, Nrc):  \n",
      "    size = len(clusters)\n",
      "    \n",
      "    Nr = [0. for r in range (referencesNum)]\n",
      "    Nc = [0. for c in range (clustersNum)]\n",
      "   \n",
      "    for i in range (size):\n",
      "        Nr[int(references[i]) -1 ] += 1.\n",
      "        Nc[int(clusters[i]) - 1 ] += 1.\n",
      "\n",
      "\n",
      "    R = [[ float(Nrc[r][c]) / Nr[r] for c in range (clustersNum)] for r in range (referencesNum)]\n",
      "    P = [[ float(Nrc[r][c]) /Nc[c] for c in range (clustersNum)] for r in range (referencesNum)]\n",
      "    F = [[ 2*R[r][c] * P[r][c] / (R[r][c] + P[r][c] + 0.000000000000001) for c in range (clustersNum) ] for r in range (referencesNum)]\n",
      "#     print \"R\", array(R)\n",
      "#     print \"P\", array(P)\n",
      "#     print \"F\", array(F)\n",
      "    \n",
      "    Fr = [ 0. for r in range (referencesNum)]\n",
      "    \n",
      "    for r in range (referencesNum):\n",
      "        maxTmp = 0.\n",
      "        for c in range (clustersNum):\n",
      "            if(maxTmp < F[r][c]):\n",
      "                maxTmp = F[r][c]\n",
      "        Fr[r] = maxTmp\n",
      "\n",
      "#     print \"Fr\", array(Fr)\n",
      "    \n",
      "    sumTmp = 0.\n",
      "    \n",
      "\n",
      "    \n",
      "    for r in range (referencesNum):\n",
      "        sumTmp += Nr[r] / size * Fr[r]\n",
      "        \n",
      "    return sumTmp"
     ],
     "language": "python",
     "metadata": {},
     "outputs": [],
     "prompt_number": 82
    },
    {
     "cell_type": "markdown",
     "metadata": {},
     "source": [
      "##Test"
     ]
    },
    {
     "cell_type": "code",
     "collapsed": false,
     "input": [
      "# #init\n",
      "# dataset = loadtxt(\"dataset\\R15.txt\")\n",
      "# data = array([dataset[:,0], dataset[:,1]])\n",
      "# clusters = dataset[:,2]\n",
      "# size = len(clusters)\n",
      "\n",
      "# X = data[0,:]\n",
      "# Y = data[1,:]\n",
      "# dimension = 2\n",
      "# l = [2,2]\n",
      "# plotScatter(X,Y,\"Scatter Plot\", 'g')\n",
      "\n",
      "# #calculate Covariance Matrix\n",
      "# C = getCovarianceMatrix(data)\n",
      "# invA = getInversionMatrix(data, C)\n",
      "\n",
      "# grid_x = [0 + 0.25 * i for i in range (80) ] \n",
      "# grid_y = [20 - 0.25 * i for i in range (80) ] \n",
      "# variances = [[0 for i in range (len(grid_x)) ] for j in range (len(grid_y))]\n",
      "\n",
      "# for i in range (len(grid_y)):\n",
      "#     for j in range (len(grid_x)):\n",
      "#         variances[i][j] = varianceFunction([grid_x[j], grid_y[i]], data, invA)\n",
      "        \n",
      "# heatmap = variances\n",
      "# extent = [grid_x[0], grid_x[-1], grid_y[-1], grid_y[0]]\n",
      "\n",
      "# plotHeatMap(heatmap, extent)"
     ],
     "language": "python",
     "metadata": {},
     "outputs": [
      {
       "metadata": {},
       "output_type": "display_data",
       "png": "[encoded data removed]",
       "text": [
        "<matplotlib.figure.Figure at 0x768f390>"
       ]
      },
      {
       "metadata": {},
       "output_type": "display_data",
       "png": "[encoded data removed]",
       "text": [
        "<matplotlib.figure.Figure at 0x78c7be0>"
       ]
      }
     ],
     "prompt_number": 15
    },
    {
     "cell_type": "code",
     "collapsed": false,
     "input": [
      "# #get SPEs\n",
      "# SEPs = array([getEquilibriumPoint(data[:,i], data, invA, 0.5, 1000) for i in range (size) ])\n",
      "# sepList, sepIndexMap = reduceSEPs(SEPs, 0.99)\n",
      "# print \"size of reduced SEPs: \" , len(sepList)\n",
      "# plotScatter(sepList[:,0],sepList[:,1],\"reduced SEPs Scatter Plot\" ,\"r\")"
     ],
     "language": "python",
     "metadata": {},
     "outputs": [
      {
       "output_type": "stream",
       "stream": "stdout",
       "text": [
        "iteration:  23 x0:  [  9.802  10.132] xt:  [10.003746894793947, 10.058622208305497]\n",
        "iteration: "
       ]
      },
      {
       "output_type": "stream",
       "stream": "stdout",
       "text": [
        " 26 x0:  [ 10.35    9.768] xt:  [10.00437188195505, 10.058101969074135]\n",
        "iteration: "
       ]
      },
      {
       "output_type": "stream",
       "stream": "stdout",
       "text": [
        " 20 x0:  [ 10.098   9.988] xt:  [10.004428618360691, 10.058056616166395]\n",
        "iteration: "
       ]
      },
      {
       "output_type": "stream",
       "stream": "stdout",
       "text": [
        " 22 x0:  [ 9.73  9.91] xt:  [10.003783198116638, 10.058560610901239]\n",
        "iteration: "
       ]
      },
      {
       "output_type": "stream",
       "stream": "stdout",
       "text": [
        " 27 x0:  [  9.754  10.43 ] xt:  [10.003799075425007, 10.058588028058507]\n",
        "iteration: "
       ]
      },
      {
       "output_type": "stream",
       "stream": "stdout",
       "text": [
        " 18 x0:  [ 9.836  9.902] xt:  [10.003791745122324, 10.058442112417891]\n",
        "iteration: "
       ]
      },
      {
       "output_type": "stream",
       "stream": "stdout",
       "text": [
        " 24 x0:  [ 10.238   9.866] xt:  [10.004391976568153, 10.058085431370186]\n",
        "iteration: "
       ]
      },
      {
       "output_type": "stream",
       "stream": "stdout",
       "text": [
        " 25 x0:  [ 9.53   9.862] xt:  [10.00376854867087, 10.05858913885152]\n",
        "iteration: "
       ]
      },
      {
       "output_type": "stream",
       "stream": "stdout",
       "text": [
        " 24 x0:  [ 10.154   9.82 ] xt:  [10.004353314402042, 10.058113514370753]\n",
        "iteration: "
       ]
      },
      {
       "output_type": "stream",
       "stream": "stdout",
       "text": [
        " 31 x0:  [  9.336  10.456] xt:  [10.003787439879984, 10.058593526771732]\n",
        "iteration: "
       ]
      },
      {
       "output_type": "stream",
       "stream": "stdout",
       "text": [
        " 29 x0:  [  9.378  10.21 ] xt:  [10.003798652687085, 10.058581379717353]\n",
        "iteration: "
       ]
      },
      {
       "output_type": "stream",
       "stream": "stdout",
       "text": [
        " 26 x0:  [  9.712  10.264] xt:  [10.003798849380491, 10.058584161372851]\n",
        "iteration: "
       ]
      },
      {
       "output_type": "stream",
       "stream": "stdout",
       "text": [
        " 26 x0:  [  9.638  10.208] xt:  [10.003774075447756, 10.058602162110615]\n",
        "iteration: "
       ]
      },
      {
       "output_type": "stream",
       "stream": "stdout",
       "text": [
        " 26 x0:  [ 9.518  9.956] xt:  [10.003789470330798, 10.058580722444907]\n",
        "iteration: "
       ]
      },
      {
       "output_type": "stream",
       "stream": "stdout",
       "text": [
        " 24 x0:  [ 10.236   9.91 ] xt:  [10.004354683122452, 10.058118813975979]\n",
        "iteration: "
       ]
      },
      {
       "output_type": "stream",
       "stream": "stdout",
       "text": [
        " 28 x0:  [  9.4    10.086] xt:  [10.003788007452586, 10.058587693563243]\n",
        "iteration: "
       ]
      },
      {
       "output_type": "stream",
       "stream": "stdout",
       "text": [
        " 25 x0:  [ 10.196   9.746] xt:  [10.00436402750934, 10.058104583056551]\n",
        "iteration: "
       ]
      },
      {
       "output_type": "stream",
       "stream": "stdout",
       "text": [
        " 24 x0:  [ 10.138   9.828] xt:  [10.004332216180812, 10.058131215040664]\n",
        "iteration:  1 x0:  [ 10.062  10.26 ] xt:  [10.039018706768342, 10.204426427202845]\n",
        "iteration: "
       ]
      },
      {
       "output_type": "stream",
       "stream": "stdout",
       "text": [
        " 25 x0:  [ 10.394   9.984] xt:  [10.004358491261357, 10.058121852078676]\n",
        "iteration:  1 x0:  [ 10.284  10.348] xt:  [10.218037275033607, 10.283385757097671]\n",
        "iteration: "
       ]
      },
      {
       "output_type": "stream",
       "stream": "stdout",
       "text": [
        " 23 x0:  [ 9.706  9.978] xt:  [10.003755319839167, 10.058599405432771]\n",
        "iteration: "
       ]
      },
      {
       "output_type": "stream",
       "stream": "stdout",
       "text": [
        " 27 x0:  [  9.906  10.588] xt:  [10.003768047467613, 10.058622596519642]\n",
        "iteration: "
       ]
      },
      {
       "output_type": "stream",
       "stream": "stdout",
       "text": [
        " 33 x0:  [ 10.356   9.198] xt:  [10.004385112200019, 10.058086323714058]\n",
        "iteration: "
       ]
      },
      {
       "output_type": "stream",
       "stream": "stdout",
       "text": [
        " 23 x0:  [ 9.954  9.704] xt:  [10.004343016514783, 10.058102022176351]\n",
        "iteration: "
       ]
      },
      {
       "output_type": "stream",
       "stream": "stdout",
       "text": [
        " 26 x0:  [  9.796  10.378] xt:  [10.003787943192187, 10.05859797725167]\n",
        "iteration:  1 x0:  [ 10.386  10.608] xt:  [10.339792363683346, 10.554157136596391]\n",
        "iteration: "
       ]
      },
      {
       "output_type": "stream",
       "stream": "stdout",
       "text": [
        " 25 x0:  [ 10.41    9.912] xt:  [10.004417917462863, 10.058069568815741]\n",
        "iteration:  1 x0:  [ 10.172  10.598] xt:  [10.138036913702786, 10.520637536220313]\n",
        "iteration: "
       ]
      },
      {
       "output_type": "stream",
       "stream": "stdout",
       "text": [
        " 26 x0:  [ 10.286   9.712] xt:  [10.004366560888803, 10.058104265903435]\n",
        "iteration: "
       ]
      },
      {
       "output_type": "stream",
       "stream": "stdout",
       "text": [
        " 22 x0:  [  9.932  10.234] xt:  [10.003732968165998, 10.058652786464785]\n",
        "iteration: "
       ]
      },
      {
       "output_type": "stream",
       "stream": "stdout",
       "text": [
        " 24 x0:  [ 10.298   9.948] xt:  [10.004383715855461, 10.058098324373242]\n",
        "iteration: "
       ]
      },
      {
       "output_type": "stream",
       "stream": "stdout",
       "text": [
        " 25 x0:  [ 10.352   9.932] xt:  [10.004355430536625, 10.058121222515908]\n",
        "iteration: "
       ]
      },
      {
       "output_type": "stream",
       "stream": "stdout",
       "text": [
        " 25 x0:  [  9.848  10.328] xt:  [10.003788341730543, 10.058598779722459]\n",
        "iteration:  1 x0:  [ 10.514  10.498] xt:  [10.452982095550079, 10.454922914006632]\n",
        "iteration: "
       ]
      },
      {
       "output_type": "stream",
       "stream": "stdout",
       "text": [
        " 18 x0:  [ 9.944  9.934] xt:  [10.004198914784078, 10.058164097188314]\n",
        "iteration: "
       ]
      },
      {
       "output_type": "stream",
       "stream": "stdout",
       "text": [
        " 18 x0:  [  9.92   10.022] xt:  [10.003792960382698, 10.0585370032412]\n",
        "iteration: "
       ]
      },
      {
       "output_type": "stream",
       "stream": "stdout",
       "text": [
        " 27 x0:  [  9.908  10.606] xt:  [10.003751715470338, 10.05863752037544]\n",
        "iteration: "
       ]
      },
      {
       "output_type": "stream",
       "stream": "stdout",
       "text": [
        " 22 x0:  [ 10.182   9.99 ] xt:  [10.004390874387289, 10.058094183619689]\n",
        "iteration: "
       ]
      },
      {
       "output_type": "stream",
       "stream": "stdout",
       "text": [
        " 31 x0:  [ 10.256   9.25 ] xt:  [10.004370294859953, 10.05809830330128]\n",
        "iteration: "
       ]
      },
      {
       "output_type": "stream",
       "stream": "stdout",
       "text": [
        " 13 x0:  [ 12.04   10.028] xt:  [12.073878399737609, 9.9567018220444261]\n",
        "iteration:  1 x0:  [ 12.082  10.044] xt:  [12.080026291149734, 10.01714773701644]\n",
        "iteration: "
       ]
      },
      {
       "output_type": "stream",
       "stream": "stdout",
       "text": [
        " 1 x0:  [ 12.4    10.156] xt:  [12.307882457150987, 10.10510579423682]\n",
        "iteration: "
       ]
      },
      {
       "output_type": "stream",
       "stream": "stdout",
       "text": [
        " 16 x0:  [ 11.988   9.926] xt:  [12.073813920248172, 9.9560568864878363]\n",
        "iteration: "
       ]
      },
      {
       "output_type": "stream",
       "stream": "stdout",
       "text": [
        " 10 x0:  [ 12.34    9.918] xt:  [12.080165382287326, 9.9563907489400432]\n",
        "iteration:  1 x0:  [ 12.228   9.978] xt:  [12.179681002546571, 9.9731490905397617]\n",
        "iteration: "
       ]
      },
      {
       "output_type": "stream",
       "stream": "stdout",
       "text": [
        " 1 x0:  [ 12.348  10.488] xt:  [12.281360386671432, 10.395282165839609]\n",
        "iteration: "
       ]
      },
      {
       "output_type": "stream",
       "stream": "stdout",
       "text": [
        " 24 x0:  [ 12.044   9.358] xt:  [12.073980467863837, 9.9560265639183161]\n",
        "iteration: "
       ]
      },
      {
       "output_type": "stream",
       "stream": "stdout",
       "text": [
        " 20 x0:  [ 11.736  10.122] xt:  [12.073808818391107, 9.9562608781189095]\n",
        "iteration: "
       ]
      },
      {
       "output_type": "stream",
       "stream": "stdout",
       "text": [
        " 17 x0:  [ 12.35    9.798] xt:  [12.07448042331462, 9.9560502735579792]\n",
        "iteration: "
       ]
      },
      {
       "output_type": "stream",
       "stream": "stdout",
       "text": [
        " 27 x0:  [ 11.246  10.122] xt:  [12.073880859485767, 9.9561949824342459]\n",
        "iteration:  1 x0:  [ 12.276  10.99 ] xt:  [12.213199741613511, 10.937742682113475]\n",
        "iteration: "
       ]
      },
      {
       "output_type": "stream",
       "stream": "stdout",
       "text": [
        " 1 x0:  [ 12.374  10.018] xt:  [12.283930147723458, 10.003704077607999]\n",
        "iteration:  1 x0:  [ 12.53  10.  ] xt:  [12.405449089241401, 9.9944937432445062]\n",
        "iteration: "
       ]
      },
      {
       "output_type": "stream",
       "stream": "stdout",
       "text": [
        " 17 x0:  [ 12.27    9.792] xt:  [12.074331630667167, 9.9559999237309498]\n",
        "iteration:  1 x0:  [ 12.364  10.176] xt:  [12.281655035146638, 10.119050054784969]\n",
        "iteration: "
       ]
      },
      {
       "output_type": "stream",
       "stream": "stdout",
       "text": [
        " 1 x0:  [ 12.458  10.18 ] xt:  [12.353870161001142, 10.126333594346367]\n",
        "iteration: "
       ]
      },
      {
       "output_type": "stream",
       "stream": "stdout",
       "text": [
        " 20 x0:  [ 11.952   9.682] xt:  [12.073920526125663, 9.9559760068027163]\n",
        "iteration: "
       ]
      },
      {
       "output_type": "stream",
       "stream": "stdout",
       "text": [
        " 20 x0:  [ 11.772   9.924] xt:  [12.073838303144401, 9.9561124288565939]\n",
        "iteration: "
       ]
      },
      {
       "output_type": "stream",
       "stream": "stdout",
       "text": [
        " 23 x0:  [ 11.502  10.008] xt:  [12.073855152549127, 9.9561629982028812]\n",
        "iteration: "
       ]
      },
      {
       "output_type": "stream",
       "stream": "stdout",
       "text": [
        " 22 x0:  [ 12.134   9.482] xt:  [12.074008008941588, 9.9560136840647999]\n",
        "iteration: "
       ]
      },
      {
       "output_type": "stream",
       "stream": "stdout",
       "text": [
        " 22 x0:  [ 11.628  10.286] xt:  [12.073842684364859, 9.9563219619341403]\n",
        "iteration: "
       ]
      },
      {
       "output_type": "stream",
       "stream": "stdout",
       "text": [
        " 21 x0:  [ 12.064   9.616] xt:  [12.074000356250485, 9.9560249115110491]\n",
        "iteration: "
       ]
      },
      {
       "output_type": "stream",
       "stream": "stdout",
       "text": [
        " 19 x0:  [ 11.906   9.82 ] xt:  [12.073870927144457, 9.9560197840992153]\n",
        "iteration: "
       ]
      },
      {
       "output_type": "stream",
       "stream": "stdout",
       "text": [
        " 21 x0:  [ 11.736  10.29 ] xt:  [12.073868462213239, 9.9563630778293177]\n",
        "iteration:  1 x0:  [ 12.114  10.904] xt:  [12.067623687005652, 10.854942678495762]\n",
        "iteration: "
       ]
      },
      {
       "output_type": "stream",
       "stream": "stdout",
       "text": [
        " 22 x0:  [ 11.59    9.712] xt:  [12.073804219803284, 9.9560093734958155]\n",
        "iteration: "
       ]
      },
      {
       "output_type": "stream",
       "stream": "stdout",
       "text": [
        " 14 x0:  [ 12.648   9.814] xt:  [12.077491075790059, 9.9562019878338663]\n",
        "iteration:  1 x0:  [ 12.164  11.018] xt:  [12.103915916710866, 10.976563734273624]\n",
        "iteration: "
       ]
      },
      {
       "output_type": "stream",
       "stream": "stdout",
       "text": [
        " 17 x0:  [ 12.22    9.796] xt:  [12.074245415844592, 9.9559813566650668]\n",
        "iteration: "
       ]
      },
      {
       "output_type": "stream",
       "stream": "stdout",
       "text": [
        " 21 x0:  [ 11.846   9.634] xt:  [12.073884778866427, 9.9559744586415793]\n",
        "iteration: "
       ]
      },
      {
       "output_type": "stream",
       "stream": "stdout",
       "text": [
        " 19 x0:  [ 11.808  10.058] xt:  [12.073802098322036, 9.956229673110256]\n",
        "iteration: "
       ]
      },
      {
       "output_type": "stream",
       "stream": "stdout",
       "text": [
        " 17 x0:  [ 12.096   9.846] xt:  [12.074054357418769, 9.9560048980056131]\n",
        "iteration: "
       ]
      },
      {
       "output_type": "stream",
       "stream": "stdout",
       "text": [
        " 22 x0:  [ 11.594  10.078] xt:  [12.073849170308863, 9.9561961537615353]\n",
        "iteration: "
       ]
      },
      {
       "output_type": "stream",
       "stream": "stdout",
       "text": [
        " 8 x0:  [ 12.252   9.938] xt:  [12.082693722386715, 9.956497539185877]\n",
        "iteration: "
       ]
      },
      {
       "output_type": "stream",
       "stream": "stdout",
       "text": [
        " 20 x0:  [ 11.998   9.676] xt:  [12.073951660607479, 9.9559858859281416]\n",
        "iteration: "
       ]
      },
      {
       "output_type": "stream",
       "stream": "stdout",
       "text": [
        " 18 x0:  [ 11.894  10.012] xt:  [12.073828462504764, 9.9562049924317666]\n",
        "iteration: "
       ]
      },
      {
       "output_type": "stream",
       "stream": "stdout",
       "text": [
        " 8 x0:  [ 12.274   9.936] xt:  [12.083759959704242, 9.9565693982571606]\n",
        "iteration:  1 x0:  [ 12.176  10.364] xt:  [12.14665496679704, 10.273704053092271]\n",
        "iteration: "
       ]
      },
      {
       "output_type": "stream",
       "stream": "stdout",
       "text": [
        " 1 x0:  [ 12.104  10.388] xt:  [12.091500713648673, 10.297386476621853]\n",
        "iteration: "
       ]
      },
      {
       "output_type": "stream",
       "stream": "stdout",
       "text": [
        " 17 x0:  [ 11.372  11.466] xt:  [11.200705637679595, 11.61539131587041]\n",
        "iteration: "
       ]
      },
      {
       "output_type": "stream",
       "stream": "stdout",
       "text": [
        " 22 x0:  [ 10.94   11.482] xt:  [11.200116906590068, 11.615452711058103]\n",
        "iteration: "
       ]
      },
      {
       "output_type": "stream",
       "stream": "stdout",
       "text": [
        " 19 x0:  [ 11.084  11.554] xt:  [11.200108402384323, 11.615443781218076]\n",
        "iteration: "
       ]
      },
      {
       "output_type": "stream",
       "stream": "stdout",
       "text": [
        " 19 x0:  [ 11.232  11.374] xt:  [11.200275340927149, 11.61534804828057]\n",
        "iteration:  1 x0:  [ 11.22  11.64] xt:  [11.214554064789914, 11.632373634302445]\n",
        "iteration: "
       ]
      },
      {
       "output_type": "stream",
       "stream": "stdout",
       "text": [
        " 21 x0:  [ 10.962  11.75 ] xt:  [11.200114983194315, 11.615517637583695]\n",
        "iteration: "
       ]
      },
      {
       "output_type": "stream",
       "stream": "stdout",
       "text": [
        " 20 x0:  [ 11.014  11.746] xt:  [11.200119438487745, 11.615534317111965]\n",
        "iteration: "
       ]
      },
      {
       "output_type": "stream",
       "stream": "stdout",
       "text": [
        " 24 x0:  [ 11.524  10.982] xt:  [11.200425688544787, 11.615325261598914]\n",
        "iteration: "
       ]
      },
      {
       "output_type": "stream",
       "stream": "stdout",
       "text": [
        " 21 x0:  [ 11.012  11.364] xt:  [11.2000877641591, 11.615389718534104]\n",
        "iteration: "
       ]
      },
      {
       "output_type": "stream",
       "stream": "stdout",
       "text": [
        " 22 x0:  [ 11.2    11.062] xt:  [11.200210283120038, 11.615291628435084]\n",
        "iteration:  1 x0:  [ 11.626  11.894] xt:  [11.522441598935769, 11.829118526924621]\n",
        "iteration: "
       ]
      },
      {
       "output_type": "stream",
       "stream": "stdout",
       "text": [
        " 1 x0:  [ 11.23   11.728] xt:  [11.223157350311213, 11.691770566202315]\n",
        "iteration: "
       ]
      },
      {
       "output_type": "stream",
       "stream": "stdout",
       "text": [
        " 12 x0:  [ 11.144  11.91 ] xt:  [11.200259237039047, 11.618172264459194]\n",
        "iteration: "
       ]
      },
      {
       "output_type": "stream",
       "stream": "stdout",
       "text": [
        " 16 x0:  [ 11.106  11.868] xt:  [11.200124723418011, 11.615959266722278]\n",
        "iteration:  1 x0:  [ 11.53   11.918] xt:  [11.447818329195815, 11.840579635228352]\n",
        "iteration: "
       ]
      },
      {
       "output_type": "stream",
       "stream": "stdout",
       "text": [
        " 22 x0:  [ 11.21   11.114] xt:  [11.20023367504616, 11.615340045015488]\n",
        "iteration: "
       ]
      },
      {
       "output_type": "stream",
       "stream": "stdout",
       "text": [
        " 24 x0:  [ 10.746  11.702] xt:  [11.200073470369253, 11.61547933759806]\n",
        "iteration: "
       ]
      },
      {
       "output_type": "stream",
       "stream": "stdout",
       "text": [
        " 15 x0:  [ 11.154  11.692] xt:  [11.200139807494827, 11.615705830973562]\n",
        "iteration:  1 x0:  [ 11.412  11.924] xt:  [11.359893196895611, 11.837081593171783]\n",
        "iteration: "
       ]
      },
      {
       "output_type": "stream",
       "stream": "stdout",
       "text": [
        " 21 x0:  [ 10.948  11.532] xt:  [11.200058914373987, 11.615442241591182]\n",
        "iteration: "
       ]
      },
      {
       "output_type": "stream",
       "stream": "stdout",
       "text": [
        " 20 x0:  [ 10.988  12.298] xt:  [11.200122766684155, 11.615869776516588]\n",
        "iteration: "
       ]
      },
      {
       "output_type": "stream",
       "stream": "stdout",
       "text": [
        " 22 x0:  [ 10.96   11.392] xt:  [11.200115225271837, 11.615429888658005]\n",
        "iteration: "
       ]
      },
      {
       "output_type": "stream",
       "stream": "stdout",
       "text": [
        " 19 x0:  [ 11.656  11.346] xt:  [11.200994915390362, 11.615364791786151]\n",
        "iteration: "
       ]
      },
      {
       "output_type": "stream",
       "stream": "stdout",
       "text": [
        " 6 x0:  [ 11.178  12.062] xt:  [11.204484340776943, 11.661905337009067]\n",
        "iteration: "
       ]
      },
      {
       "output_type": "stream",
       "stream": "stdout",
       "text": [
        " 13 x0:  [ 11.368  11.56 ] xt:  [11.202018847942639, 11.615480499293399]\n",
        "iteration:  1 x0:  [ 11.264  11.724] xt:  [11.246935074904046, 11.689803273720381]\n",
        "iteration: "
       ]
      },
      {
       "output_type": "stream",
       "stream": "stdout",
       "text": [
        " 10 x0:  [ 11.554  11.576] xt:  [11.211129681890709, 11.616023498807031]\n",
        "iteration: "
       ]
      },
      {
       "output_type": "stream",
       "stream": "stdout",
       "text": [
        " 23 x0:  [ 10.974  11.114] xt:  [11.200098380501837, 11.61535707236939]\n",
        "iteration: "
       ]
      },
      {
       "output_type": "stream",
       "stream": "stdout",
       "text": [
        " 17 x0:  [ 11.12   11.634] xt:  [11.20008442381247, 11.615502547476581]\n",
        "iteration:  1 x0:  [ 11.51   12.052] xt:  [11.443674935555835, 11.946225538270642]\n",
        "iteration: "
       ]
      },
      {
       "output_type": "stream",
       "stream": "stdout",
       "text": [
        " 22 x0:  [ 10.95   11.402] xt:  [11.200108279850593, 11.615430640856243]\n",
        "iteration:  1 x0:  [ 11.864  12.406] xt:  [11.799710427941937, 12.325879231889509]\n",
        "iteration: "
       ]
      },
      {
       "output_type": "stream",
       "stream": "stdout",
       "text": [
        " 25 x0:  [ 11.198  10.854] xt:  [11.200233684185777, 11.615320253455131]\n",
        "iteration: "
       ]
      },
      {
       "output_type": "stream",
       "stream": "stdout",
       "text": [
        " 15 x0:  [ 11.65   11.496] xt:  [11.202877226844265, 11.615470058779691]\n",
        "iteration:  1 x0:  [ 11.248  11.722] xt:  [11.235687664347996, 11.688100542030629]\n",
        "iteration: "
       ]
      },
      {
       "output_type": "stream",
       "stream": "stdout",
       "text": [
        " 1 x0:  [ 11.602  11.888] xt:  [11.502425258655929, 11.822693356659306]\n",
        "iteration: "
       ]
      },
      {
       "output_type": "stream",
       "stream": "stdout",
       "text": [
        " 17 x0:  [ 11.424  11.454] xt:  [11.200848821531025, 11.615390566354321]\n",
        "iteration:  1 x0:  [ 11.312  11.718] xt:  [11.280282378763873, 11.686869277603726]\n",
        "iteration: "
       ]
      },
      {
       "output_type": "stream",
       "stream": "stdout",
       "text": [
        " 24 x0:  [ 10.736  11.68 ] xt:  [11.200060856852474, 11.61547422227741]\n",
        "iteration:  1 x0:  [ 11.56   11.798] xt:  [11.463803208245846, 11.751954606092708]\n",
        "iteration: "
       ]
      },
      {
       "output_type": "stream",
       "stream": "stdout",
       "text": [
        " 1 x0:  [ 10.028  12.268] xt:  [9.9717800835105592, 12.164458734065912]\n",
        "iteration: "
       ]
      },
      {
       "output_type": "stream",
       "stream": "stdout",
       "text": [
        " 30 x0:  [  9.282  11.976] xt:  [9.6049438261648561, 11.866581464675177]\n",
        "iteration: "
       ]
      },
      {
       "output_type": "stream",
       "stream": "stdout",
       "text": [
        " 33 x0:  [  9.178  11.53 ] xt:  [9.6049217864869636, 11.86657456486412]\n",
        "iteration:  1 x0:  [  9.954  12.398] xt:  [9.9092258234884145, 12.275396060577966]\n",
        "iteration: "
       ]
      },
      {
       "output_type": "stream",
       "stream": "stdout",
       "text": [
        " 20 x0:  [  9.622  11.558] xt:  [9.6051502617711382, 11.866361592867822]\n",
        "iteration: "
       ]
      },
      {
       "output_type": "stream",
       "stream": "stdout",
       "text": [
        " 12 x0:  [  9.914  11.844] xt:  [9.6297628193621261, 11.867047097061258]\n",
        "iteration: "
       ]
      },
      {
       "output_type": "stream",
       "stream": "stdout",
       "text": [
        " 45 x0:  [  9.07   11.092] xt:  [9.6049332564222301, 11.866575631398776]\n",
        "iteration: "
       ]
      },
      {
       "output_type": "stream",
       "stream": "stdout",
       "text": [
        " 27 x0:  [ 10.578  11.354] xt:  [11.200085991347345, 11.615458467159035]\n",
        "iteration: "
       ]
      },
      {
       "output_type": "stream",
       "stream": "stdout",
       "text": [
        " 15 x0:  [  9.582  12.14 ] xt:  [9.6049382456794348, 11.867535034881371]\n",
        "iteration: "
       ]
      },
      {
       "output_type": "stream",
       "stream": "stdout",
       "text": [
        " 21 x0:  [  9.622  11.528] xt:  [9.6051378889156531, 11.866409230003676]\n",
        "iteration: "
       ]
      },
      {
       "output_type": "stream",
       "stream": "stdout",
       "text": [
        " 29 x0:  [  9.35  11.71] xt:  [9.6048897920685778, 11.866571972786922]\n",
        "iteration:  1 x0:  [ 10.234  11.974] xt:  [10.185605676266203, 11.930489725363101]\n",
        "iteration: "
       ]
      },
      {
       "output_type": "stream",
       "stream": "stdout",
       "text": [
        " 33 x0:  [  8.986  12.31 ] xt:  [9.6049066687759854, 11.866580214215498]\n",
        "iteration: "
       ]
      },
      {
       "output_type": "stream",
       "stream": "stdout",
       "text": [
        " 27 x0:  [  9.438  12.11 ] xt:  [9.6049586381145797, 11.866591257032479]\n",
        "iteration: "
       ]
      },
      {
       "output_type": "stream",
       "stream": "stdout",
       "text": [
        " 13 x0:  [  9.592  12.012] xt:  [9.6049729182332868, 11.867653612594205]\n",
        "iteration:  1 x0:  [  9.666  11.88 ] xt:  [9.6538542337352027, 11.87610913017908]\n",
        "iteration: "
       ]
      },
      {
       "output_type": "stream",
       "stream": "stdout",
       "text": [
        " 28 x0:  [  9.364  12.012] xt:  [9.6048985399632478, 11.866581084054898]\n",
        "iteration: "
       ]
      },
      {
       "output_type": "stream",
       "stream": "stdout",
       "text": [
        " 16 x0:  [  9.71   11.772] xt:  [9.6079901998413728, 11.866509805341938]\n",
        "iteration: "
       ]
      },
      {
       "output_type": "stream",
       "stream": "stdout",
       "text": [
        " 14 x0:  [  9.992  11.836] xt:  [9.6270356383035622, 11.867050569425217]\n",
        "iteration:  1 x0:  [  9.916  12.028] xt:  [9.8643567573994151, 11.978086021910343]\n",
        "iteration: "
       ]
      },
      {
       "output_type": "stream",
       "stream": "stdout",
       "text": [
        " 28 x0:  [  9.382  12.226] xt:  [9.6049324064925568, 11.866590091583255]\n",
        "iteration:  1 x0:  [  9.808  12.23 ] xt:  [9.7739340369443664, 12.126170387694419]\n",
        "iteration: "
       ]
      },
      {
       "output_type": "stream",
       "stream": "stdout",
       "text": [
        " 30 x0:  [  9.272  12.152] xt:  [9.6049412531467073, 11.866584033735057]\n",
        "iteration: "
       ]
      },
      {
       "output_type": "stream",
       "stream": "stdout",
       "text": [
        " 33 x0:  [  9.392  11.18 ] xt:  [9.604913527704225, 11.866564172155339]\n",
        "iteration: "
       ]
      },
      {
       "output_type": "stream",
       "stream": "stdout",
       "text": [
        " 30 x0:  [  9.28   11.976] xt:  [9.6049416935331067, 11.866581310140523]\n",
        "iteration: "
       ]
      },
      {
       "output_type": "stream",
       "stream": "stdout",
       "text": [
        " 18 x0:  [  9.848  11.632] xt:  [9.6100978093081881, 11.866508049954225]\n",
        "iteration: "
       ]
      },
      {
       "output_type": "stream",
       "stream": "stdout",
       "text": [
        " 31 x0:  [  9.322  11.514] xt:  [9.604924030182417, 11.866572522743603]\n",
        "iteration:  1 x0:  [  9.718  11.95 ] xt:  [9.6960323229132026, 11.923882382468815]\n",
        "iteration: "
       ]
      },
      {
       "output_type": "stream",
       "stream": "stdout",
       "text": [
        " 32 x0:  [  9.12  11.76] xt:  [9.6048891000169991, 11.866574146981339]\n",
        "iteration: "
       ]
      },
      {
       "output_type": "stream",
       "stream": "stdout",
       "text": [
        " 33 x0:  [  8.978  12.37 ] xt:  [9.6048898970170651, 11.866579688516794]\n",
        "iteration:  1 x0:  [ 10.072  12.202] xt:  [10.012112664518273, 12.111231481791986]\n",
        "iteration: "
       ]
      },
      {
       "output_type": "stream",
       "stream": "stdout",
       "text": [
        " 14 x0:  [  9.966  11.822] xt:  [9.6248739468112188, 11.866961092591875]\n",
        "iteration: "
       ]
      },
      {
       "output_type": "stream",
       "stream": "stdout",
       "text": [
        " 26 x0:  [  9.506  11.648] xt:  [9.6049278394848656, 11.866563082149895]\n",
        "iteration: "
       ]
      },
      {
       "output_type": "stream",
       "stream": "stdout",
       "text": [
        " 20 x0:  [  9.702  11.536] xt:  [9.6061678641303185, 11.866400968533485]\n",
        "iteration: "
       ]
      },
      {
       "output_type": "stream",
       "stream": "stdout",
       "text": [
        " 26 x0:  [  9.45  11.96] xt:  [9.6048911699140369, 11.866582128523003]\n",
        "iteration:  1 x0:  [  9.916  11.962] xt:  [9.8646718029339073, 11.931574081869728]\n",
        "iteration: "
       ]
      },
      {
       "output_type": "stream",
       "stream": "stdout",
       "text": [
        " 20 x0:  [  9.96   11.538] xt:  [9.6110065419468356, 11.866597696040198]\n",
        "iteration: "
       ]
      },
      {
       "output_type": "stream",
       "stream": "stdout",
       "text": [
        " 34 x0:  [  9.014  11.744] xt:  [9.6049375411900471, 11.866577873173005]\n",
        "iteration: "
       ]
      },
      {
       "output_type": "stream",
       "stream": "stdout",
       "text": [
        " 33 x0:  [  9.024  11.846] xt:  [9.6049062968190242, 11.866576240711407]\n",
        "iteration: "
       ]
      },
      {
       "output_type": "stream",
       "stream": "stdout",
       "text": [
        " 25 x0:  [ 10.296  11.61 ] xt:  [9.6221817001560357, 11.866923730455094]\n",
        "iteration: "
       ]
      },
      {
       "output_type": "stream",
       "stream": "stdout",
       "text": [
        " 16 x0:  [  7.87   10.838] xt:  [8.1262037047940279, 10.843196840519942]\n",
        "iteration: "
       ]
      },
      {
       "output_type": "stream",
       "stream": "stdout",
       "text": [
        " 21 x0:  [  8.164  10.534] xt:  [8.126280008831797, 10.843026750765514]\n",
        "iteration: "
       ]
      },
      {
       "output_type": "stream",
       "stream": "stdout",
       "text": [
        " 20 x0:  [  8.214  10.62 ] xt:  [8.1262831763747201, 10.843039740656273]\n",
        "iteration: "
       ]
      },
      {
       "output_type": "stream",
       "stream": "stdout",
       "text": [
        " 18 x0:  [  8.166  10.698] xt:  [8.1262828234028728, 10.842998572925453]\n",
        "iteration: "
       ]
      },
      {
       "output_type": "stream",
       "stream": "stdout",
       "text": [
        " 17 x0:  [  8.05   10.746] xt:  [8.1262645615028202, 10.843013451194036]\n",
        "iteration: "
       ]
      },
      {
       "output_type": "stream",
       "stream": "stdout",
       "text": [
        " 14 x0:  [  7.978  11.13 ] xt:  [8.1261923554004998, 10.844785259893829]\n",
        "iteration: "
       ]
      },
      {
       "output_type": "stream",
       "stream": "stdout",
       "text": [
        " 12 x0:  [  8.08   10.992] xt:  [8.126223957475009, 10.844913007792769]\n",
        "iteration:  1 x0:  [  8.472  11.082] xt:  [8.3957598862695892, 11.037049756089235]\n",
        "iteration: "
       ]
      },
      {
       "output_type": "stream",
       "stream": "stdout",
       "text": [
        " 20 x0:  [  8.494  10.584] xt:  [8.1263030808612591, 10.842975708194407]\n",
        "iteration: "
       ]
      },
      {
       "output_type": "stream",
       "stream": "stdout",
       "text": [
        " 23 x0:  [  8.354  10.38 ] xt:  [8.1262820938837006, 10.843020250031298]\n",
        "iteration: "
       ]
      },
      {
       "output_type": "stream",
       "stream": "stdout",
       "text": [
        " 18 x0:  [  8.096  10.714] xt:  [8.1262754230646284, 10.843025254587735]\n",
        "iteration: "
       ]
      },
      {
       "output_type": "stream",
       "stream": "stdout",
       "text": [
        " 16 x0:  [  7.882  10.832] xt:  [8.1262073793148701, 10.843179380923273]\n",
        "iteration: "
       ]
      },
      {
       "output_type": "stream",
       "stream": "stdout",
       "text": [
        " 15 x0:  [  7.908  11.346] xt:  [8.1262024951316221, 10.845358547920764]\n",
        "iteration: "
       ]
      },
      {
       "output_type": "stream",
       "stream": "stdout",
       "text": [
        " 16 x0:  [  7.814  10.872] xt:  [8.1261856131354016, 10.843296338690308]\n",
        "iteration: "
       ]
      },
      {
       "output_type": "stream",
       "stream": "stdout",
       "text": [
        " 27 x0:  [  8.28   10.104] xt:  [8.1262783108508803, 10.842973397912585]\n",
        "iteration: "
       ]
      },
      {
       "output_type": "stream",
       "stream": "stdout",
       "text": [
        " 19 x0:  [  8.082  10.676] xt:  [8.1262761815700522, 10.843038802996444]\n",
        "iteration: "
       ]
      },
      {
       "output_type": "stream",
       "stream": "stdout",
       "text": [
        " 27 x0:  [  8.068  10.118] xt:  [8.1262779978032942, 10.842991002322252]\n",
        "iteration: "
       ]
      },
      {
       "output_type": "stream",
       "stream": "stdout",
       "text": [
        " 18 x0:  [  8.116  10.698] xt:  [8.1262770347159972, 10.842998906672712]\n",
        "iteration: "
       ]
      },
      {
       "output_type": "stream",
       "stream": "stdout",
       "text": [
        " 15 x0:  [  8.042  10.79 ] xt:  [8.1262355942705433, 10.842989608744999]\n",
        "iteration: "
       ]
      },
      {
       "output_type": "stream",
       "stream": "stdout",
       "text": [
        " 11 x0:  [  8.096  10.878] xt:  [8.1261797858317895, 10.843798143300752]\n",
        "iteration: "
       ]
      },
      {
       "output_type": "stream",
       "stream": "stdout",
       "text": [
        " 5 x0:  [  8.124  10.932] xt:  [8.126446905982549, 10.856955060431471]\n",
        "iteration:  1 x0:  [  8.632  11.124] xt:  [8.5615283681917305, 11.096384009796086]\n",
        "iteration: "
       ]
      },
      {
       "output_type": "stream",
       "stream": "stdout",
       "text": [
        " 18 x0:  [  8.27   10.716] xt:  [8.1262972721151616, 10.843028095232375]\n",
        "iteration: "
       ]
      },
      {
       "output_type": "stream",
       "stream": "stdout",
       "text": [
        " 28 x0:  [  7.622  10.148] xt:  [8.12627774270711, 10.843023241115041]\n",
        "iteration: "
       ]
      },
      {
       "output_type": "stream",
       "stream": "stdout",
       "text": [
        " 2 x0:  [  8.198  11.398] xt:  [8.1907624668607024, 11.160323354713356]\n",
        "iteration:  1 x0:  [  8.582  11.064] xt:  [8.5001877540687776, 11.037154004689661]\n",
        "iteration: "
       ]
      },
      {
       "output_type": "stream",
       "stream": "stdout",
       "text": [
        " 15 x0:  [  7.942  11.076] xt:  [8.1262065222981601, 10.844091156626781]\n",
        "iteration: "
       ]
      },
      {
       "output_type": "stream",
       "stream": "stdout",
       "text": [
        " 20 x0:  [  8.004  10.574] xt:  [8.126273040973917, 10.842992072103653]\n",
        "iteration:  1 x0:  [  8.504  11.378] xt:  [8.4783705515775303, 11.29931382972158]\n",
        "iteration: "
       ]
      },
      {
       "output_type": "stream",
       "stream": "stdout",
       "text": [
        " 6 x0:  [  8.118  11.012] xt:  [8.126499069660639, 10.861095275535039]\n",
        "iteration: "
       ]
      },
      {
       "output_type": "stream",
       "stream": "stdout",
       "text": [
        " 16 x0:  [  7.874  11.296] xt:  [8.1262207079108517, 10.844515274711824]\n",
        "iteration: "
       ]
      },
      {
       "output_type": "stream",
       "stream": "stdout",
       "text": [
        " 17 x0:  [  7.668  10.924] xt:  [8.126187151319435, 10.843392410732822]\n",
        "iteration: "
       ]
      },
      {
       "output_type": "stream",
       "stream": "stdout",
       "text": [
        " 18 x0:  [  7.966  10.72 ] xt:  [8.1262614429629458, 10.843033159692361]\n",
        "iteration: "
       ]
      },
      {
       "output_type": "stream",
       "stream": "stdout",
       "text": [
        " 15 x0:  [  7.94   10.996] xt:  [8.1262000104372518, 10.843788749053312]\n",
        "iteration: "
       ]
      },
      {
       "output_type": "stream",
       "stream": "stdout",
       "text": [
        " 14 x0:  [  7.988  11.228] xt:  [8.1262203985106449, 10.845399505208837]\n",
        "iteration:  1 x0:  [  8.164  11.112] xt:  [8.1556458601476471, 11.032173876144125]\n",
        "iteration: "
       ]
      },
      {
       "output_type": "stream",
       "stream": "stdout",
       "text": [
        " 16 x0:  [  8.386  10.772] xt:  [8.1263865068824117, 10.843032696004961]\n",
        "iteration: "
       ]
      },
      {
       "output_type": "stream",
       "stream": "stdout",
       "text": [
        " 1 x0:  [  8.248  10.994] xt:  [8.2077955436045293, 10.950711218874556]\n",
        "iteration: "
       ]
      },
      {
       "output_type": "stream",
       "stream": "stdout",
       "text": [
        " 17 x0:  [  8.286  10.734] xt:  [8.1263123984479328, 10.842989301473139]\n",
        "iteration: "
       ]
      },
      {
       "output_type": "stream",
       "stream": "stdout",
       "text": [
        " 24 x0:  [  8.224  10.316] xt:  [8.1262801101460234, 10.84303918727942]\n",
        "iteration: "
       ]
      },
      {
       "output_type": "stream",
       "stream": "stdout",
       "text": [
        " 23 x0:  [ 7.976  9.578] xt:  [8.0980329389087089, 9.0838980596335457]\n",
        "iteration: "
       ]
      },
      {
       "output_type": "stream",
       "stream": "stdout",
       "text": [
        " 20 x0:  [ 7.876  8.796] xt:  [8.0983172271462092, 9.0832464153006587]\n",
        "iteration: "
       ]
      },
      {
       "output_type": "stream",
       "stream": "stdout",
       "text": [
        " 19 x0:  [ 8.172  9.01 ] xt:  [8.0983487858572634, 9.0832684931615013]\n",
        "iteration: "
       ]
      },
      {
       "output_type": "stream",
       "stream": "stdout",
       "text": [
        " 18 x0:  [ 8.068  9.202] xt:  [8.0980810262275256, 9.0837948019845314]\n",
        "iteration: "
       ]
      },
      {
       "output_type": "stream",
       "stream": "stdout",
       "text": [
        " 26 x0:  [ 8.416  8.654] xt:  [8.0983440969455742, 9.0832730883733603]\n",
        "iteration: "
       ]
      },
      {
       "output_type": "stream",
       "stream": "stdout",
       "text": [
        " 38 x0:  [ 8.71   8.458] xt:  [8.0983526870934721, 9.0832590494090386]\n",
        "iteration: "
       ]
      },
      {
       "output_type": "stream",
       "stream": "stdout",
       "text": [
        " 25 x0:  [ 8.056  8.434] xt:  [8.0983546270866071, 9.0832414016162684]\n",
        "iteration: "
       ]
      },
      {
       "output_type": "stream",
       "stream": "stdout",
       "text": [
        " 24 x0:  [ 7.304  9.266] xt:  [8.0980683031104377, 9.0837618915448086]\n",
        "iteration: "
       ]
      },
      {
       "output_type": "stream",
       "stream": "stdout",
       "text": [
        " 24 x0:  [ 8.118  8.608] xt:  [8.0983449943140791, 9.0832612452386261]\n",
        "iteration: "
       ]
      },
      {
       "output_type": "stream",
       "stream": "stdout",
       "text": [
        " 23 x0:  [ 7.616  9.446] xt:  [8.0980424753809697, 9.0838438539043835]\n",
        "iteration: "
       ]
      },
      {
       "output_type": "stream",
       "stream": "stdout",
       "text": [
        " 19 x0:  [ 8.092  8.956] xt:  [8.0983429528583617, 9.083250328575204]\n",
        "iteration: "
       ]
      },
      {
       "output_type": "stream",
       "stream": "stdout",
       "text": [
        " 22 x0:  [ 8.368  8.968] xt:  [8.0983583876113769, 9.0832576586272502]\n",
        "iteration: "
       ]
      },
      {
       "output_type": "stream",
       "stream": "stdout",
       "text": [
        " 20 x0:  [ 8.022  9.334] xt:  [8.0980429019787827, 9.0838713299553291]\n",
        "iteration:  1 x0:  [ 8.32   9.062] xt:  [8.2502361345743456, 9.0566398546696973]\n",
        "iteration: "
       ]
      },
      {
       "output_type": "stream",
       "stream": "stdout",
       "text": [
        " 17 x0:  [ 7.832  8.952] xt:  [8.0981229707422457, 9.0834354803980233]\n",
        "iteration: "
       ]
      },
      {
       "output_type": "stream",
       "stream": "stdout",
       "text": [
        " 21 x0:  [ 7.704  8.672] xt:  [8.0983012813356545, 9.0832545155595579]\n",
        "iteration:  1 x0:  [ 8.236  9.108] xt:  [8.1882366554502699, 9.094993437617763]\n",
        "iteration: "
       ]
      },
      {
       "output_type": "stream",
       "stream": "stdout",
       "text": [
        " 23 x0:  [ 8.37   8.904] xt:  [8.0983486370885416, 9.0832696138677775]\n",
        "iteration: "
       ]
      },
      {
       "output_type": "stream",
       "stream": "stdout",
       "text": [
        " 23 x0:  [ 8.352  8.896] xt:  [8.0983456041519055, 9.0832741717044705]\n",
        "iteration: "
       ]
      },
      {
       "output_type": "stream",
       "stream": "stdout",
       "text": [
        " 18 x0:  [ 8.046  9.228] xt:  [8.098032696610959, 9.0838882779286116]\n",
        "iteration: "
       ]
      },
      {
       "output_type": "stream",
       "stream": "stdout",
       "text": [
        " 24 x0:  [ 7.71   9.538] xt:  [8.0980740773180866, 9.0837955579483953]\n",
        "iteration: "
       ]
      },
      {
       "output_type": "stream",
       "stream": "stdout",
       "text": [
        " 28 x0:  [ 8.534  8.55 ] xt:  [8.0983667845200458, 9.083232779639772]\n",
        "iteration: "
       ]
      },
      {
       "output_type": "stream",
       "stream": "stdout",
       "text": [
        " 18 x0:  [ 7.996  9.172] xt:  [8.0980631690026126, 9.0837898854103614]\n",
        "iteration: "
       ]
      },
      {
       "output_type": "stream",
       "stream": "stdout",
       "text": [
        " 18 x0:  [ 8.046  9.204] xt:  [8.0980623552346493, 9.083822542897936]\n",
        "iteration:  1 x0:  [ 8.622  9.174] xt:  [8.505101625394266, 9.1341079059913426]\n",
        "iteration: "
       ]
      },
      {
       "output_type": "stream",
       "stream": "stdout",
       "text": [
        " 17 x0:  [ 7.776  8.898] xt:  [8.0981259822353984, 9.0833449349606568]\n",
        "iteration: "
       ]
      },
      {
       "output_type": "stream",
       "stream": "stdout",
       "text": [
        " 19 x0:  [ 8.226  9.038] xt:  [8.0983608753168372, 9.0832643866042702]\n",
        "iteration: "
       ]
      },
      {
       "output_type": "stream",
       "stream": "stdout",
       "text": [
        " 19 x0:  [ 7.904  9.194] xt:  [8.0980449463916049, 9.0838120259928754]\n",
        "iteration: "
       ]
      },
      {
       "output_type": "stream",
       "stream": "stdout",
       "text": [
        " 19 x0:  [ 7.874  8.856] xt:  [8.098290460279296, 9.0832661946509443]\n",
        "iteration: "
       ]
      },
      {
       "output_type": "stream",
       "stream": "stdout",
       "text": [
        " 18 x0:  [ 7.992  8.952] xt:  [8.0982980115786471, 9.0832780513843989]\n",
        "iteration:  1 x0:  [ 8.262  9.468] xt:  [8.2035546017404322, 9.3932436991015607]\n",
        "iteration: "
       ]
      },
      {
       "output_type": "stream",
       "stream": "stdout",
       "text": [
        " 1 x0:  [ 8.088  9.294] xt:  [8.0850693977767563, 9.2398743069788551]\n",
        "iteration: "
       ]
      },
      {
       "output_type": "stream",
       "stream": "stdout",
       "text": [
        " 27 x0:  [ 8.034  9.792] xt:  [8.0980601496553533, 9.0838453705632478]\n",
        "iteration: "
       ]
      },
      {
       "output_type": "stream",
       "stream": "stdout",
       "text": [
        " 21 x0:  [ 8.352  9.016] xt:  [8.0983667809663267, 9.0832508857651799]\n",
        "iteration: "
       ]
      },
      {
       "output_type": "stream",
       "stream": "stdout",
       "text": [
        " 21 x0:  [ 7.85   9.334] xt:  [8.098048788355392, 9.0838336492742844]\n",
        "iteration:  1 x0:  [ 8.404  9.366] xt:  [8.3100538521392746, 9.3018676884757294]\n",
        "iteration: "
       ]
      },
      {
       "output_type": "stream",
       "stream": "stdout",
       "text": [
        " 20 x0:  [ 7.892  8.808] xt:  [8.0983169942069058, 9.0832523231659064]\n",
        "iteration:  1 x0:  [ 8.202  9.232] xt:  [8.1611465215437029, 9.1887822788910132]\n",
        "iteration: "
       ]
      },
      {
       "output_type": "stream",
       "stream": "stdout",
       "text": [
        " 20 x0:  [ 7.668  9.026] xt:  [8.0980965993627159, 9.0836471650556518]\n",
        "iteration:  1 x0:  [ 8.242  9.308] xt:  [8.1873988083471794, 9.2491255244417925]\n",
        "iteration:  1 x0:  [ 9.432  8.61 ] xt:  [9.419741514055282, 8.4984038168562162]\n",
        "iteration: "
       ]
      },
      {
       "output_type": "stream",
       "stream": "stdout",
       "text": [
        " 1 x0:  [ 10.066   8.19 ] xt:  [9.996229222846118, 8.1583766924413776]\n",
        "iteration: "
       ]
      },
      {
       "output_type": "stream",
       "stream": "stdout",
       "text": [
        " 21 x0:  [ 9.146  8.044] xt:  [9.4782738108284281, 7.9672234710983503]\n",
        "iteration: "
       ]
      },
      {
       "output_type": "stream",
       "stream": "stdout",
       "text": [
        " 18 x0:  [ 9.662  7.866] xt:  [9.4786145965882209, 7.9669348883221902]\n",
        "iteration: "
       ]
      },
      {
       "output_type": "stream",
       "stream": "stdout",
       "text": [
        " 18 x0:  [ 9.6    7.874] xt:  [9.4785623596809501, 7.9669719147940343]\n",
        "iteration: "
       ]
      },
      {
       "output_type": "stream",
       "stream": "stdout",
       "text": [
        " 30 x0:  [ 8.618  8.552] xt:  [8.0983487396734759, 9.0832659932965889]\n",
        "iteration: "
       ]
      },
      {
       "output_type": "stream",
       "stream": "stdout",
       "text": [
        " 18 x0:  [ 9.334  7.658] xt:  [9.4784843956752471, 7.9669542331478747]\n",
        "iteration: "
       ]
      },
      {
       "output_type": "stream",
       "stream": "stdout",
       "text": [
        " 16 x0:  [ 9.424  7.83 ] xt:  [9.4784836726128887, 7.9669516538491241]\n",
        "iteration: "
       ]
      },
      {
       "output_type": "stream",
       "stream": "stdout",
       "text": [
        " 24 x0:  [ 8.892  8.166] xt:  [9.4782130424325715, 7.9672840264587164]\n",
        "iteration: "
       ]
      },
      {
       "output_type": "stream",
       "stream": "stdout",
       "text": [
        " 17 x0:  [ 9.386  7.746] xt:  [9.4784917058621492, 7.9669415893414097]\n",
        "iteration:  1 x0:  [ 9.878  8.054] xt:  [9.7843155273354565, 8.0316726732167094]\n",
        "iteration: "
       ]
      },
      {
       "output_type": "stream",
       "stream": "stdout",
       "text": [
        " 15 x0:  [ 9.558  7.948] xt:  [9.4786469069640216, 7.9669340861468667]\n",
        "iteration: "
       ]
      },
      {
       "output_type": "stream",
       "stream": "stdout",
       "text": [
        " 19 x0:  [ 9.222  8.002] xt:  [9.4782266469512848, 7.9672545629306164]\n",
        "iteration:  1 x0:  [ 9.52   8.282] xt:  [9.4988256749033511, 8.1918611761288727]\n",
        "iteration: "
       ]
      },
      {
       "output_type": "stream",
       "stream": "stdout",
       "text": [
        " 18 x0:  [ 9.76   7.932] xt:  [9.4786728371541962, 7.9669217164714867]\n",
        "iteration:  1 x0:  [ 9.568  8.052] xt:  [9.5366032475672444, 8.0212102191893422]\n",
        "iteration: "
       ]
      },
      {
       "output_type": "stream",
       "stream": "stdout",
       "text": [
        " 21 x0:  [ 9.736  7.552] xt:  [9.4785645240016283, 7.9669565380241645]\n",
        "iteration:  1 x0:  [ 9.584  8.478] xt:  [9.5534926970745282, 8.3668998788524043]\n",
        "iteration: "
       ]
      },
      {
       "output_type": "stream",
       "stream": "stdout",
       "text": [
        " 20 x0:  [ 9.358  8.242] xt:  [9.4782508993396153, 7.9672696127727596]\n",
        "iteration: "
       ]
      },
      {
       "output_type": "stream",
       "stream": "stdout",
       "text": [
        " 17 x0:  [ 9.404  7.79 ] xt:  [9.4784767822247318, 7.9669742177495504]\n",
        "iteration:  1 x0:  [ 9.458  8.54 ] xt:  [9.4442223945430133, 8.4263345224810635]\n",
        "iteration: "
       ]
      },
      {
       "output_type": "stream",
       "stream": "stdout",
       "text": [
        " 18 x0:  [ 9.482  7.766] xt:  [9.4785310070753752, 7.9669596770028468]\n",
        "iteration: "
       ]
      },
      {
       "output_type": "stream",
       "stream": "stdout",
       "text": [
        " 24 x0:  [ 8.844  8.024] xt:  [9.4782531450848868, 7.9672443050975508]\n",
        "iteration: "
       ]
      },
      {
       "output_type": "stream",
       "stream": "stdout",
       "text": [
        " 23 x0:  [ 9.29   8.472] xt:  [9.4782651581568, 7.9672515380074236]\n",
        "iteration: "
       ]
      },
      {
       "output_type": "stream",
       "stream": "stdout",
       "text": [
        " 19 x0:  [ 9.274  7.566] xt:  [9.478475622565135, 7.9669711511706556]\n",
        "iteration: "
       ]
      },
      {
       "output_type": "stream",
       "stream": "stdout",
       "text": [
        " 21 x0:  [ 9.11   8.014] xt:  [9.4782644752934875, 7.9672288501861335]\n",
        "iteration: "
       ]
      },
      {
       "output_type": "stream",
       "stream": "stdout",
       "text": [
        " 19 x0:  [ 9.542  7.688] xt:  [9.4785558375130083, 7.9669470766316479]\n",
        "iteration: "
       ]
      },
      {
       "output_type": "stream",
       "stream": "stdout",
       "text": [
        " 17 x0:  [ 9.432  8.122] xt:  [9.4782141209617325, 7.9673259057664332]\n",
        "iteration:  1 x0:  [ 9.786  8.066] xt:  [9.7027463347404836, 8.0349461190107334]\n",
        "iteration: "
       ]
      },
      {
       "output_type": "stream",
       "stream": "stdout",
       "text": [
        " 18 x0:  [ 9.382  7.664] xt:  [9.4785159793467848, 7.9669352760606138]\n",
        "iteration: "
       ]
      },
      {
       "output_type": "stream",
       "stream": "stdout",
       "text": [
        " 19 x0:  [ 9.404  8.228] xt:  [9.4782308055028768, 7.9673002865079274]\n",
        "iteration: "
       ]
      },
      {
       "output_type": "stream",
       "stream": "stdout",
       "text": [
        " 21 x0:  [ 9.146  8.158] xt:  [9.4782153714717499, 7.9672825294442262]\n",
        "iteration:  1 x0:  [ 9.622  8.004] xt:  [9.5747721250564606, 7.9884447809933716]\n",
        "iteration: "
       ]
      },
      {
       "output_type": "stream",
       "stream": "stdout",
       "text": [
        " 5 x0:  [ 10.286   7.892] xt:  [9.896943126388468, 8.0017218666571122]\n",
        "iteration: "
       ]
      },
      {
       "output_type": "stream",
       "stream": "stdout",
       "text": [
        " 19 x0:  [ 9.43   7.676] xt:  [9.4785076464816846, 7.9669783405035526]\n",
        "iteration: "
       ]
      },
      {
       "output_type": "stream",
       "stream": "stdout",
       "text": [
        " 16 x0:  [ 9.44   8.058] xt:  [9.4782362425602003, 7.9672970407294814]\n",
        "iteration: "
       ]
      },
      {
       "output_type": "stream",
       "stream": "stdout",
       "text": [
        " 20 x0:  [ 9.788  7.684] xt:  [9.4786100513283813, 7.9669264879317758]\n",
        "iteration: "
       ]
      },
      {
       "output_type": "stream",
       "stream": "stdout",
       "text": [
        " 17 x0:  [ 9.586  7.91 ] xt:  [9.4785854595778343, 7.9669601293437164]\n",
        "iteration: "
       ]
      },
      {
       "output_type": "stream",
       "stream": "stdout",
       "text": [
        " 21 x0:  [ 9.694  7.448] xt:  [9.4785803802971458, 7.9669322331945063]\n",
        "iteration: "
       ]
      },
      {
       "output_type": "stream",
       "stream": "stdout",
       "text": [
        " 17 x0:  [ 9.576  7.866] xt:  [9.4786046857177162, 7.966925666253303]\n",
        "iteration:  1 x0:  [ 11.442   8.688] xt:  [11.399052450735063, 8.6179277488134556]\n",
        "iteration: "
       ]
      },
      {
       "output_type": "stream",
       "stream": "stdout",
       "text": [
        " 1 x0:  [ 11.466   8.558] xt:  [11.406245409264743, 8.5171430078175323]\n",
        "iteration: "
       ]
      },
      {
       "output_type": "stream",
       "stream": "stdout",
       "text": [
        " 25 x0:  [ 10.674   8.936] xt:  [11.257248146779412, 8.4030565713507688]\n",
        "iteration: "
       ]
      },
      {
       "output_type": "stream",
       "stream": "stdout",
       "text": [
        " 19 x0:  [ 11.23    8.126] xt:  [11.257414530707697, 8.4028972190659417]\n",
        "iteration:  1 x0:  [ 11.614   8.588] xt:  [11.51977299650051, 8.5526891063379153]\n",
        "iteration: "
       ]
      },
      {
       "output_type": "stream",
       "stream": "stdout",
       "text": [
        " 1 x0:  [ 11.59    8.496] xt:  [11.493927255826875, 8.4783335920571599]\n",
        "iteration: "
       ]
      },
      {
       "output_type": "stream",
       "stream": "stdout",
       "text": [
        " 23 x0:  [ 11.536   7.586] xt:  [11.257514484555509, 8.4028797162964945]\n",
        "iteration: "
       ]
      },
      {
       "output_type": "stream",
       "stream": "stdout",
       "text": [
        " 16 x0:  [ 11.638   8.266] xt:  [11.258268215654915, 8.4029092548779438]\n",
        "iteration: "
       ]
      },
      {
       "output_type": "stream",
       "stream": "stdout",
       "text": [
        " 16 x0:  [ 11.16   8.43] xt:  [11.257230099463154, 8.4030200688244658]\n",
        "iteration: "
       ]
      },
      {
       "output_type": "stream",
       "stream": "stdout",
       "text": [
        " 21 x0:  [ 10.904   8.532] xt:  [11.257286997866805, 8.4030161705498347]\n",
        "iteration:  1 x0:  [ 11.284   8.742] xt:  [11.283956490987606, 8.6524572656077066]\n",
        "iteration: "
       ]
      },
      {
       "output_type": "stream",
       "stream": "stdout",
       "text": [
        " 18 x0:  [ 11.25    8.192] xt:  [11.257424928977496, 8.4028852066310336]\n",
        "iteration: "
       ]
      },
      {
       "output_type": "stream",
       "stream": "stdout",
       "text": [
        " 21 x0:  [ 10.84    8.218] xt:  [11.257223349415987, 8.4029485031906539]\n",
        "iteration:  1 x0:  [ 11.798   8.836] xt:  [11.711548744837096, 8.8116857679371918]\n",
        "iteration: "
       ]
      },
      {
       "output_type": "stream",
       "stream": "stdout",
       "text": [
        " 19 x0:  [ 11.51    8.094] xt:  [11.257610391488607, 8.4028948781914536]\n",
        "iteration: "
       ]
      },
      {
       "output_type": "stream",
       "stream": "stdout",
       "text": [
        " 22 x0:  [ 10.932   7.796] xt:  [11.257288986380068, 8.4028867079296408]\n",
        "iteration: "
       ]
      },
      {
       "output_type": "stream",
       "stream": "stdout",
       "text": [
        " 17 x0:  [ 11.404   8.206] xt:  [11.257638036199857, 8.4028547466325563]\n",
        "iteration: "
       ]
      },
      {
       "output_type": "stream",
       "stream": "stdout",
       "text": [
        " 18 x0:  [ 11.088   8.326] xt:  [11.257250448576375, 8.4029436072383401]\n",
        "iteration: "
       ]
      },
      {
       "output_type": "stream",
       "stream": "stdout",
       "text": [
        " 18 x0:  [ 11.334   8.17 ] xt:  [11.257508122374539, 8.4028792922093043]\n",
        "iteration: "
       ]
      },
      {
       "output_type": "stream",
       "stream": "stdout",
       "text": [
        " 10 x0:  [ 11.272   8.394] xt:  [11.257758670859468, 8.4028925932712433]\n",
        "iteration: "
       ]
      },
      {
       "output_type": "stream",
       "stream": "stdout",
       "text": [
        " 3 x0:  [ 11.59    8.408] xt:  [11.365760924517124, 8.4119537415944787]\n",
        "iteration: "
       ]
      },
      {
       "output_type": "stream",
       "stream": "stdout",
       "text": [
        " 14 x0:  [ 11.212   8.516] xt:  [11.257286941683002, 8.4033388652059333]\n",
        "iteration: "
       ]
      },
      {
       "output_type": "stream",
       "stream": "stdout",
       "text": [
        " 19 x0:  [ 11.566   8.024] xt:  [11.257656345036784, 8.4028544988533849]\n",
        "iteration: "
       ]
      },
      {
       "output_type": "stream",
       "stream": "stdout",
       "text": [
        " 7 x0:  [ 11.246   8.584] xt:  [11.25765980062946, 8.4137414826843013]\n",
        "iteration: "
       ]
      },
      {
       "output_type": "stream",
       "stream": "stdout",
       "text": [
        " 5 x0:  [ 11.252   8.566] xt:  [11.258151984693484, 8.4248892297114679]\n",
        "iteration: "
       ]
      },
      {
       "output_type": "stream",
       "stream": "stdout",
       "text": [
        " 22 x0:  [ 10.78    8.294] xt:  [11.257256559835366, 8.4029731199230184]\n",
        "iteration: "
       ]
      },
      {
       "output_type": "stream",
       "stream": "stdout",
       "text": [
        " 19 x0:  [ 11.04    8.322] xt:  [11.257268298100387, 8.4029580444436025]\n",
        "iteration: "
       ]
      },
      {
       "output_type": "stream",
       "stream": "stdout",
       "text": [
        " 21 x0:  [ 11.198   7.886] xt:  [11.257410754154803, 8.4028978783191466]\n",
        "iteration: "
       ]
      },
      {
       "output_type": "stream",
       "stream": "stdout",
       "text": [
        " 17 x0:  [ 11.168   8.262] xt:  [11.257291357816577, 8.4028719237466056]\n",
        "iteration: "
       ]
      },
      {
       "output_type": "stream",
       "stream": "stdout",
       "text": [
        " 19 x0:  [ 11.88   8.08] xt:  [11.257992987599097, 8.4028729898906604]\n",
        "iteration:  1 x0:  [ 11.356   8.586] xt:  [11.329653058087494, 8.5317842615738346]\n",
        "iteration: "
       ]
      },
      {
       "output_type": "stream",
       "stream": "stdout",
       "text": [
        " 16 x0:  [ 11.182   8.342] xt:  [11.25726754198099, 8.4029113013448562]\n",
        "iteration: "
       ]
      },
      {
       "output_type": "stream",
       "stream": "stdout",
       "text": [
        " 22 x0:  [ 10.836   8.664] xt:  [11.257286744907331, 8.403032493467208]\n",
        "iteration:  1 x0:  [ 11.696   8.906] xt:  [11.636355298339032, 8.8665536835353596]\n",
        "iteration: "
       ]
      },
      {
       "output_type": "stream",
       "stream": "stdout",
       "text": [
        " 16 x0:  [ 11.282   8.28 ] xt:  [11.257481335540914, 8.4028533529240939]\n",
        "iteration: "
       ]
      },
      {
       "output_type": "stream",
       "stream": "stdout",
       "text": [
        " 23 x0:  [ 10.718   8.534] xt:  [11.257277088538821, 8.4030058133813679]\n",
        "iteration: "
       ]
      },
      {
       "output_type": "stream",
       "stream": "stdout",
       "text": [
        " 27 x0:  [ 10.444   8.684] xt:  [11.257259504177583, 8.4030086330097493]\n",
        "iteration: "
       ]
      },
      {
       "output_type": "stream",
       "stream": "stdout",
       "text": [
        " 17 x0:  [ 11.124   8.618] xt:  [11.257254826194266, 8.40319124968849]\n",
        "iteration:  1 x0:  [ 11.392   8.94 ] xt:  [11.386922469650681, 8.8511192291544205]\n",
        "iteration: "
       ]
      },
      {
       "output_type": "stream",
       "stream": "stdout",
       "text": [
        " 16 x0:  [ 11.212   8.308] xt:  [11.257331416856134, 8.4028744224420944]\n",
        "iteration: "
       ]
      },
      {
       "output_type": "stream",
       "stream": "stdout",
       "text": [
        " 19 x0:  [ 16.674   9.638] xt:  [16.374760713924712, 9.894317505827269]\n",
        "iteration: "
       ]
      },
      {
       "output_type": "stream",
       "stream": "stdout",
       "text": [
        " 12 x0:  [ 16.162  10.302] xt:  [16.375008074996465, 9.9004242779950697]\n",
        "iteration:  1 x0:  [ 16.612  10.218] xt:  [16.538058122896281, 10.143783295825228]\n",
        "iteration: "
       ]
      },
      {
       "output_type": "stream",
       "stream": "stdout",
       "text": [
        " 19 x0:  [ 16.1     9.702] xt:  [16.374735620809343, 9.8943283297652478]\n",
        "iteration:  1 x0:  [ 16.404  10.072] xt:  [16.395728659506119, 10.02100621466011]\n",
        "iteration: "
       ]
      },
      {
       "output_type": "stream",
       "stream": "stdout",
       "text": [
        " 15 x0:  [ 15.93   10.106] xt:  [16.374659072689624, 9.895344819162375]\n",
        "iteration: "
       ]
      },
      {
       "output_type": "stream",
       "stream": "stdout",
       "text": [
        " 14 x0:  [ 16.128   9.888] xt:  [16.374599166705771, 9.8943393678321581]\n",
        "iteration:  1 x0:  [ 16.41   10.188] xt:  [16.402865786346226, 10.108989586208107]\n",
        "iteration: "
       ]
      },
      {
       "output_type": "stream",
       "stream": "stdout",
       "text": [
        " 15 x0:  [ 15.982   9.92 ] xt:  [16.374603789851335, 9.8944689498253862]\n",
        "iteration: "
       ]
      },
      {
       "output_type": "stream",
       "stream": "stdout",
       "text": [
        " 12 x0:  [ 16.224  10.02 ] xt:  [16.374667938446038, 9.895893926967565]\n",
        "iteration: "
       ]
      },
      {
       "output_type": "stream",
       "stream": "stdout",
       "text": [
        " 21 x0:  [ 16.296   9.458] xt:  [16.374746750128171, 9.8943331170060329]\n",
        "iteration:  1 x0:  [ 16.586  10.174] xt:  [16.516878405207841, 10.106848057841139]\n",
        "iteration: "
       ]
      },
      {
       "output_type": "stream",
       "stream": "stdout",
       "text": [
        " 6 x0:  [ 16.314  10.716] xt:  [16.388148460123794, 10.075051627373217]\n",
        "iteration: "
       ]
      },
      {
       "output_type": "stream",
       "stream": "stdout",
       "text": [
        " 21 x0:  [ 16.278   9.452] xt:  [16.374745878048888, 9.8943286142055964]\n",
        "iteration: "
       ]
      },
      {
       "output_type": "stream",
       "stream": "stdout",
       "text": [
        " 19 x0:  [ 16.622   9.652] xt:  [16.374759228071177, 9.8943310096365984]\n",
        "iteration: "
       ]
      },
      {
       "output_type": "stream",
       "stream": "stdout",
       "text": [
        " 21 x0:  [ 16.22    9.494] xt:  [16.374747268173106, 9.8943466359812131]\n",
        "iteration:  1 x0:  [ 16.626  10.162] xt:  [16.543954475156099, 10.100061121014059]\n",
        "iteration: "
       ]
      },
      {
       "output_type": "stream",
       "stream": "stdout",
       "text": [
        " 1 x0:  [ 16.982  10.596] xt:  [16.894142155521415, 10.522779357916816]\n",
        "iteration: "
       ]
      },
      {
       "output_type": "stream",
       "stream": "stdout",
       "text": [
        " 10 x0:  [ 16.27   10.128] xt:  [16.374913971433351, 9.9006673072874953]\n",
        "iteration: "
       ]
      },
      {
       "output_type": "stream",
       "stream": "stdout",
       "text": [
        " 19 x0:  [ 16.202   9.7  ] xt:  [16.374742203706276, 9.894341920123928]\n",
        "iteration: "
       ]
      },
      {
       "output_type": "stream",
       "stream": "stdout",
       "text": [
        " 17 x0:  [ 16.532   9.776] xt:  [16.374768696710444, 9.8943438653315159]\n",
        "iteration: "
       ]
      },
      {
       "output_type": "stream",
       "stream": "stdout",
       "text": [
        " 18 x0:  [ 17.124   9.726] xt:  [16.374891475400851, 9.8943869810274414]\n",
        "iteration: "
       ]
      },
      {
       "output_type": "stream",
       "stream": "stdout",
       "text": [
        " 19 x0:  [ 16.47    9.698] xt:  [16.374756312545134, 9.8943668525763702]\n",
        "iteration: "
       ]
      },
      {
       "output_type": "stream",
       "stream": "stdout",
       "text": [
        " 14 x0:  [ 16.004  10.28 ] xt:  [16.374774604920486, 9.8971901193344962]\n",
        "iteration: "
       ]
      },
      {
       "output_type": "stream",
       "stream": "stdout",
       "text": [
        " 17 x0:  [ 16.366   9.796] xt:  [16.374749381153993, 9.8943481407940492]\n",
        "iteration: "
       ]
      },
      {
       "output_type": "stream",
       "stream": "stdout",
       "text": [
        " 21 x0:  [ 16.268   9.522] xt:  [16.374750364306461, 9.8943645774191324]\n",
        "iteration: "
       ]
      },
      {
       "output_type": "stream",
       "stream": "stdout",
       "text": [
        " 19 x0:  [ 16.13    9.748] xt:  [16.374743140383249, 9.8943748883775502]\n",
        "iteration:  1 x0:  [ 16.67   10.498] xt:  [16.60670307437822, 10.391923088734195]\n",
        "iteration: "
       ]
      },
      {
       "output_type": "stream",
       "stream": "stdout",
       "text": [
        " 1 x0:  [ 16.488  10.542] xt:  [16.471542977454412, 10.419236508335246]\n",
        "iteration:  1 x0:  [ 16.57  10.21] xt:  [16.508303719119862, 10.134386908873944]\n",
        "iteration: "
       ]
      },
      {
       "output_type": "stream",
       "stream": "stdout",
       "text": [
        " 1 x0:  [ 16.456  10.112] xt:  [16.428999631656396, 10.052409132244387]\n",
        "iteration:  1 x0:  [ 16.482   9.986] xt:  [16.440779250398784, 9.9609429786257522]\n",
        "iteration: "
       ]
      },
      {
       "output_type": "stream",
       "stream": "stdout",
       "text": [
        " 18 x0:  [ 16.584   9.754] xt:  [16.374769395550516, 9.8943793502247264]\n",
        "iteration: "
       ]
      },
      {
       "output_type": "stream",
       "stream": "stdout",
       "text": [
        " 14 x0:  [ 16.1    9.93] xt:  [16.374604535068215, 9.8945687294589586]\n",
        "iteration: "
       ]
      },
      {
       "output_type": "stream",
       "stream": "stdout",
       "text": [
        " 19 x0:  [ 16.226   9.67 ] xt:  [16.374740185290907, 9.8943181221551253]\n",
        "iteration: "
       ]
      },
      {
       "output_type": "stream",
       "stream": "stdout",
       "text": [
        " 20 x0:  [ 16.448   9.566] xt:  [16.374749737708484, 9.894331458425933]\n",
        "iteration: "
       ]
      },
      {
       "output_type": "stream",
       "stream": "stdout",
       "text": [
        " 20 x0:  [ 16.572   9.624] xt:  [16.374758349534812, 9.8943735254102698]\n",
        "iteration: "
       ]
      },
      {
       "output_type": "stream",
       "stream": "stdout",
       "text": [
        " 21 x0:  [ 16.436   9.41 ] xt:  [16.374746339134038, 9.8943113218968293]\n",
        "iteration:  1 x0:  [ 16.502   9.98 ] xt:  [16.452975886913766, 9.9572255427795628]\n",
        "iteration: "
       ]
      },
      {
       "output_type": "stream",
       "stream": "stdout",
       "text": [
        " 1 x0:  [ 16.418   9.966] xt:  [16.401579687946413, 9.9451225739291989]\n",
        "iteration: "
       ]
      },
      {
       "output_type": "stream",
       "stream": "stdout",
       "text": [
        " 17 x0:  [ 14.362  14.644] xt:  [13.966215003970399, 14.951583354743423]\n",
        "iteration: "
       ]
      },
      {
       "output_type": "stream",
       "stream": "stdout",
       "text": [
        " 17 x0:  [ 14.138  14.63 ] xt:  [13.966103072752713, 14.951607118692744]\n",
        "iteration: "
       ]
      },
      {
       "output_type": "stream",
       "stream": "stdout",
       "text": [
        " 1 x0:  [ 14.064  15.072] xt:  [14.027892011320819, 15.028258263768196]\n",
        "iteration: "
       ]
      },
      {
       "output_type": "stream",
       "stream": "stdout",
       "text": [
        " 16 x0:  [ 13.692  14.958] xt:  [13.965831931311381, 14.951812537977975]\n",
        "iteration:  1 x0:  [ 14.238  15.296] xt:  [14.155090818743828, 15.191828571966534]\n",
        "iteration: "
       ]
      },
      {
       "output_type": "stream",
       "stream": "stdout",
       "text": [
        " 16 x0:  [ 13.73   15.128] xt:  [13.965837157985707, 14.951935538730678]\n",
        "iteration: "
       ]
      },
      {
       "output_type": "stream",
       "stream": "stdout",
       "text": [
        " 13 x0:  [ 13.952  14.868] xt:  [13.966003000807182, 14.951556721048172]\n",
        "iteration: "
       ]
      },
      {
       "output_type": "stream",
       "stream": "stdout",
       "text": [
        " 15 x0:  [ 13.986  14.77 ] xt:  [13.96605523056343, 14.951572335237636]\n",
        "iteration: "
       ]
      },
      {
       "output_type": "stream",
       "stream": "stdout",
       "text": [
        " 12 x0:  [ 13.916  14.996] xt:  [13.965807845725219, 14.951985688064457]\n",
        "iteration: "
       ]
      },
      {
       "output_type": "stream",
       "stream": "stdout",
       "text": [
        " 13 x0:  [ 13.874  14.954] xt:  [13.965791813107927, 14.951810938870718]\n",
        "iteration:  1 x0:  [ 14.168  15.276] xt:  [14.102907672823168, 15.172479785059572]\n",
        "iteration: "
       ]
      },
      {
       "output_type": "stream",
       "stream": "stdout",
       "text": [
        " 1 x0:  [ 14.278  15.152] xt:  [14.176495632783283, 15.087602718277509]\n",
        "iteration: "
       ]
      },
      {
       "output_type": "stream",
       "stream": "stdout",
       "text": [
        " 12 x0:  [ 14.098  14.9  ] xt:  [13.966531443092544, 14.951517966121504]\n",
        "iteration: "
       ]
      },
      {
       "output_type": "stream",
       "stream": "stdout",
       "text": [
        " 16 x0:  [ 13.764  15.212] xt:  [13.965848256065518, 14.951997371801573]\n",
        "iteration: "
       ]
      },
      {
       "output_type": "stream",
       "stream": "stdout",
       "text": [
        " 20 x0:  [ 13.948  14.218] xt:  [13.966031280938981, 14.951613400189663]\n",
        "iteration: "
       ]
      },
      {
       "output_type": "stream",
       "stream": "stdout",
       "text": [
        " 14 x0:  [ 14.13   14.838] xt:  [13.966281269141216, 14.951555719057854]\n",
        "iteration: "
       ]
      },
      {
       "output_type": "stream",
       "stream": "stdout",
       "text": [
        " 18 x0:  [ 13.362  14.932] xt:  [13.965781746980399, 14.95181621714873]\n",
        "iteration: "
       ]
      },
      {
       "output_type": "stream",
       "stream": "stdout",
       "text": [
        " 17 x0:  [ 13.546  14.844] xt:  [13.965820962420107, 14.95175483538474]\n",
        "iteration:  1 x0:  [ 14.13  15.11] xt:  [14.07142800098878, 15.053988379334587]\n",
        "iteration: "
       ]
      },
      {
       "output_type": "stream",
       "stream": "stdout",
       "text": [
        " 17 x0:  [ 13.816  14.602] xt:  [13.965971969482361, 14.951603446877334]\n",
        "iteration: "
       ]
      },
      {
       "output_type": "stream",
       "stream": "stdout",
       "text": [
        " 17 x0:  [ 14.386  14.686] xt:  [13.966222733859118, 14.951608677517152]\n",
        "iteration: "
       ]
      },
      {
       "output_type": "stream",
       "stream": "stdout",
       "text": [
        " 15 x0:  [ 13.786  14.726] xt:  [13.96585820844667, 14.951528985290865]\n",
        "iteration: "
       ]
      },
      {
       "output_type": "stream",
       "stream": "stdout",
       "text": [
        " 15 x0:  [ 14.204  14.822] xt:  [13.966261855715919, 14.951607110943867]\n",
        "iteration: "
       ]
      },
      {
       "output_type": "stream",
       "stream": "stdout",
       "text": [
        " 14 x0:  [ 13.856  15.206] xt:  [13.965778930963536, 14.952260155633283]\n",
        "iteration: "
       ]
      },
      {
       "output_type": "stream",
       "stream": "stdout",
       "text": [
        " 18 x0:  [ 14.074  14.384] xt:  [13.966074730946714, 14.951533968740236]\n",
        "iteration: "
       ]
      },
      {
       "output_type": "stream",
       "stream": "stdout",
       "text": [
        " 16 x0:  [ 13.68   14.988] xt:  [13.965818247687166, 14.951837048621522]\n",
        "iteration:  1 x0:  [ 14.204  14.976] xt:  [14.119371822616985, 14.967239051733642]\n",
        "iteration: "
       ]
      },
      {
       "output_type": "stream",
       "stream": "stdout",
       "text": [
        " 19 x0:  [ 13.388  15.39 ] xt:  [13.965808256974517, 14.951957804519564]\n",
        "iteration: "
       ]
      },
      {
       "output_type": "stream",
       "stream": "stdout",
       "text": [
        " 16 x0:  [ 13.708  15.048] xt:  [13.965832791143187, 14.951877877948524]\n",
        "iteration:  1 x0:  [ 14.114  15.366] xt:  [14.068272544355672, 15.240928744274022]\n",
        "iteration: "
       ]
      },
      {
       "output_type": "stream",
       "stream": "stdout",
       "text": [
        " 1 x0:  [ 14.4   15.04] xt:  [14.267612895213954, 15.01365710745756]\n",
        "iteration:  1 x0:  [ 14.194  15.04 ] xt:  [14.113207422790124, 15.008980428072462]\n",
        "iteration: "
       ]
      },
      {
       "output_type": "stream",
       "stream": "stdout",
       "text": [
        " 15 x0:  [ 13.888  15.436] xt:  [13.965835844855167, 14.952443349241475]\n",
        "iteration:  1 x0:  [ 13.958  15.322] xt:  [13.957902013559005, 15.203533166011674]\n",
        "iteration: "
       ]
      },
      {
       "output_type": "stream",
       "stream": "stdout",
       "text": [
        " 15 x0:  [ 13.922  14.802] xt:  [13.965991053037534, 14.951617510933588]\n",
        "iteration: "
       ]
      },
      {
       "output_type": "stream",
       "stream": "stdout",
       "text": [
        " 17 x0:  [ 13.652  14.602] xt:  [13.96588888352095, 14.951598839844603]\n",
        "iteration:  1 x0:  [ 14.294  14.996] xt:  [14.183644604980664, 14.981236983722672]\n",
        "iteration: "
       ]
      },
      {
       "output_type": "stream",
       "stream": "stdout",
       "text": [
        " 17 x0:  [ 13.81   14.526] xt:  [13.965970587467133, 14.951545200507464]\n",
        "iteration: "
       ]
      },
      {
       "output_type": "stream",
       "stream": "stdout",
       "text": [
        " 19 x0:  [ 13.408  15.34 ] xt:  [13.965835112768357, 14.951927577730189]\n",
        "iteration: "
       ]
      },
      {
       "output_type": "stream",
       "stream": "stdout",
       "text": [
        " 15 x0:  [ 13.834  14.778] xt:  [13.965905990323133, 14.951595144813616]\n",
        "iteration:  1 x0:  [  8.826  16.474] xt:  [8.7575706176539772, 16.409316728046583]\n",
        "iteration: "
       ]
      },
      {
       "output_type": "stream",
       "stream": "stdout",
       "text": [
        " 16 x0:  [  8.33   16.488] xt:  [8.6305180730964857, 16.268664848342802]\n",
        "iteration: "
       ]
      },
      {
       "output_type": "stream",
       "stream": "stdout",
       "text": [
        " 14 x0:  [  8.468  16.378] xt:  [8.6304788519788307, 16.268674065133467]\n",
        "iteration: "
       ]
      },
      {
       "output_type": "stream",
       "stream": "stdout",
       "text": [
        " 17 x0:  [  8.904  15.846] xt:  [8.6306132061345622, 16.268240413099075]\n",
        "iteration:  1 x0:  [  8.662  16.354] xt:  [8.6511546016215135, 16.324405047758521]\n",
        "iteration: "
       ]
      },
      {
       "output_type": "stream",
       "stream": "stdout",
       "text": [
        " 1 x0:  [  8.684  16.776] xt:  [8.6720513866509297, 16.64333278000565]\n",
        "iteration: "
       ]
      },
      {
       "output_type": "stream",
       "stream": "stdout",
       "text": [
        " 17 x0:  [  8.33   16.066] xt:  [8.6304664930461552, 16.268318599444946]\n",
        "iteration:  1 x0:  [  8.904  16.402] xt:  [8.8086638932840682, 16.36175661346541]\n",
        "iteration:  1 x0:  [  8.778  16.486]"
       ]
      },
      {
       "output_type": "stream",
       "stream": "stdout",
       "text": [
        " xt:  [8.7264874536860741, 16.416203822979348]\n",
        "iteration:  1 x0:  [  8.81   16.458] xt:  [8.7464621037663939, 16.397596066134618]\n",
        "iteration: "
       ]
      },
      {
       "output_type": "stream",
       "stream": "stdout",
       "text": [
        " 15 x0:  [  8.398  16.576] xt:  [8.6305543397894642, 16.268940442861084]\n",
        "iteration: "
       ]
      },
      {
       "output_type": "stream",
       "stream": "stdout",
       "text": [
        " 17 x0:  [  8.542  15.918] xt:  [8.6305077302699988, 16.268264057945778]\n",
        "iteration:  1 x0:  [  9.064  16.456] xt:  [8.9339205864787701, 16.406710773267712]\n",
        "iteration: "
       ]
      },
      {
       "output_type": "stream",
       "stream": "stdout",
       "text": [
        " 14 x0:  [  9.152  16.094] xt:  [8.6313040586596248, 16.268303063140941]\n",
        "iteration: "
       ]
      },
      {
       "output_type": "stream",
       "stream": "stdout",
       "text": [
        " 17 x0:  [  8.614  15.908] xt:  [8.6305289616368519, 16.26827055124085]\n",
        "iteration: "
       ]
      },
      {
       "output_type": "stream",
       "stream": "stdout",
       "text": [
        " 8 x0:  [  8.566  17.012] xt:  [8.6336788124156385, 16.311724628914188]\n",
        "iteration: "
       ]
      },
      {
       "output_type": "stream",
       "stream": "stdout",
       "text": [
        " 19 x0:  [  8.12  16.11] xt:  [8.6305081528051062, 16.268406777862491]\n",
        "iteration: "
       ]
      },
      {
       "output_type": "stream",
       "stream": "stdout",
       "text": [
        " 16 x0:  [  8.844  16.026] xt:  [8.6306388301141137, 16.268323127795824]\n",
        "iteration: "
       ]
      },
      {
       "output_type": "stream",
       "stream": "stdout",
       "text": [
        " 16 x0:  [  8.398  16.282] xt:  [8.6304982011945253, 16.268465067235624]\n",
        "iteration: "
       ]
      },
      {
       "output_type": "stream",
       "stream": "stdout",
       "text": [
        " 19 x0:  [  8.808  15.59 ] xt:  [8.6305559025681813, 16.268246119309858]\n",
        "iteration: "
       ]
      },
      {
       "output_type": "stream",
       "stream": "stdout",
       "text": [
        " 15 x0:  [  8.502  16.166] xt:  [8.6304692244071397, 16.268316572573777]\n",
        "iteration: "
       ]
      },
      {
       "output_type": "stream",
       "stream": "stdout",
       "text": [
        " 12 x0:  [  8.942  16.19 ] xt:  [8.6315084501094397, 16.26841547092851]\n",
        "iteration: "
       ]
      },
      {
       "output_type": "stream",
       "stream": "stdout",
       "text": [
        " 17 x0:  [  8.376  16.112] xt:  [8.6304953312848109, 16.268365730509704]\n",
        "iteration: "
       ]
      },
      {
       "output_type": "stream",
       "stream": "stdout",
       "text": [
        " 18 x0:  [  8.518  15.84 ] xt:  [8.6305204765948371, 16.268302361871882]\n",
        "iteration: "
       ]
      },
      {
       "output_type": "stream",
       "stream": "stdout",
       "text": [
        " 16 x0:  [  8.878  16.004] xt:  [8.6306517175990471, 16.268302196115659]\n",
        "iteration: "
       ]
      },
      {
       "output_type": "stream",
       "stream": "stdout",
       "text": [
        " 7 x0:  [  8.582  16.774] xt:  [8.6327477967202952, 16.299873323882185]\n",
        "iteration: "
       ]
      },
      {
       "output_type": "stream",
       "stream": "stdout",
       "text": [
        " 18 x0:  [  8.248  16.154] xt:  [8.6305072913532861, 16.268409940542451]\n",
        "iteration: "
       ]
      },
      {
       "output_type": "stream",
       "stream": "stdout",
       "text": [
        " 13 x0:  [  8.588  16.24 ] xt:  [8.6305011114948744, 16.268385170561704]\n",
        "iteration:  1 x0:  [  8.706  16.374] xt:  [8.6785007945539032, 16.338313934982359]\n",
        "iteration: "
       ]
      },
      {
       "output_type": "stream",
       "stream": "stdout",
       "text": [
        " 13 x0:  [  8.524  16.392] xt:  [8.6305123482644568, 16.268863063819946]\n",
        "iteration: "
       ]
      },
      {
       "output_type": "stream",
       "stream": "stdout",
       "text": [
        " 14 x0:  [  8.458  16.452] xt:  [8.6305099178890892, 16.26885117713827]\n",
        "iteration:  1 x0:  [  8.83  16.36] xt:  [8.7570855993951646, 16.331431744558046]\n",
        "iteration: "
       ]
      },
      {
       "output_type": "stream",
       "stream": "stdout",
       "text": [
        " 15 x0:  [  8.616  16.112] xt:  [8.6305312527631894, 16.268283906094812]\n",
        "iteration:  1 x0:  [  8.844  16.362] xt:  [8.7664388923541292, 16.333054129869023]\n",
        "iteration: "
       ]
      },
      {
       "output_type": "stream",
       "stream": "stdout",
       "text": [
        " 17 x0:  [  8.468  15.928] xt:  [8.6304843063587793, 16.26825346548905]\n",
        "iteration: "
       ]
      },
      {
       "output_type": "stream",
       "stream": "stdout",
       "text": [
        " 5 x0:  [  8.62   16.674] xt:  [8.634950401283124, 16.322926540185641]\n",
        "iteration:  1 x0:  [  8.974  16.53 ] xt:  [8.8658788400841857, 16.456957471456541]\n",
        "iteration: "
       ]
      },
      {
       "output_type": "stream",
       "stream": "stdout",
       "text": [
        " 15 x0:  [  8.826  16.084] xt:  [8.6306753916258501, 16.268306948083509]\n",
        "iteration: "
       ]
      },
      {
       "output_type": "stream",
       "stream": "stdout",
       "text": [
        " 19 x0:  [  8.104  15.962] xt:  [8.6304791540073822, 16.26834185590252]\n",
        "iteration: "
       ]
      },
      {
       "output_type": "stream",
       "stream": "stdout",
       "text": [
        " 16 x0:  [  8.386  16.24 ] xt:  [8.6304798915262104, 16.268419612529915]\n",
        "iteration:  1 x0:  [  4.576  12.878] xt:  [4.4652195478063614, 12.861449513871104]\n",
        "iteration: "
       ]
      },
      {
       "output_type": "stream",
       "stream": "stdout",
       "text": [
        " 1 x0:  [  4.46  13.16] xt:  [4.3907402605824766, 13.071356516330969]\n",
        "iteration: "
       ]
      },
      {
       "output_type": "stream",
       "stream": "stdout",
       "text": [
        " 21 x0:  [  3.632  12.862] xt:  [4.24015502404926, 12.807232637132762]\n",
        "iteration: "
       ]
      },
      {
       "output_type": "stream",
       "stream": "stdout",
       "text": [
        " 20 x0:  [  4.238  12.506] xt:  [4.2401651940324365, 12.807016172386493]\n",
        "iteration:  1 x0:  [  4.348  13.268] xt:  [4.3161801312297055, 13.15625869250416]\n",
        "iteration: "
       ]
      },
      {
       "output_type": "stream",
       "stream": "stdout",
       "text": [
        " 22 x0:  [  3.788  12.372] xt:  [4.2401403129461759, 12.806986658482284]\n",
        "iteration: "
       ]
      },
      {
       "output_type": "stream",
       "stream": "stdout",
       "text": [
        " 15 x0:  [  4.19   12.772] xt:  [4.2401400337851136, 12.807078835686072]\n",
        "iteration: "
       ]
      },
      {
       "output_type": "stream",
       "stream": "stdout",
       "text": [
        " 20 x0:  [  3.86   12.706] xt:  [4.2401493076981227, 12.807123112068412]\n",
        "iteration: "
       ]
      },
      {
       "output_type": "stream",
       "stream": "stdout",
       "text": [
        " 15 x0:  [  3.978  13.308] xt:  [4.240303150764194, 12.810304655015701]\n",
        "iteration:  1 x0:  [  4.336  12.854] xt:  [4.3000514710904456, 12.841052287053289]\n",
        "iteration: "
       ]
      },
      {
       "output_type": "stream",
       "stream": "stdout",
       "text": [
        " 8 x0:  [  4.218  13.03 ] xt:  [4.240905911217606, 12.820568207692702]\n",
        "iteration:  1 x0:  [  4.25   13.002] xt:  [4.2483241473858513, 12.945618812726183]\n",
        "iteration: "
       ]
      },
      {
       "output_type": "stream",
       "stream": "stdout",
       "text": [
        " 1 x0:  [  4.334  13.06 ] xt:  [4.3020344992277639, 12.989643456005439]\n",
        "iteration: "
       ]
      },
      {
       "output_type": "stream",
       "stream": "stdout",
       "text": [
        " 19 x0:  [  4.654  12.566] xt:  [4.2402214974486743, 12.806996677470039]\n",
        "iteration: "
       ]
      },
      {
       "output_type": "stream",
       "stream": "stdout",
       "text": [
        " 9 x0:  [  4.38   12.792] xt:  [4.2420197074595789, 12.807154221573896]\n",
        "iteration: "
       ]
      },
      {
       "output_type": "stream",
       "stream": "stdout",
       "text": [
        " 17 x0:  [  3.968  13.016] xt:  [4.2401774186219683, 12.807732092821611]\n",
        "iteration: "
       ]
      },
      {
       "output_type": "stream",
       "stream": "stdout",
       "text": [
        " 20 x0:  [  4.614  12.526] xt:  [4.2402010304603195, 12.807041448150665]\n",
        "iteration: "
       ]
      },
      {
       "output_type": "stream",
       "stream": "stdout",
       "text": [
        " 19 x0:  [  3.95  12.67] xt:  [4.2401341892155928, 12.807044177858289]\n",
        "iteration: "
       ]
      },
      {
       "output_type": "stream",
       "stream": "stdout",
       "text": [
        " 18 x0:  [  4.038  12.67 ] xt:  [4.2401247394418791, 12.806985692303829]\n",
        "iteration: "
       ]
      },
      {
       "output_type": "stream",
       "stream": "stdout",
       "text": [
        " 22 x0:  [  4.426  12.238] xt:  [4.2401686835637058, 12.806985004891397]\n",
        "iteration: "
       ]
      },
      {
       "output_type": "stream",
       "stream": "stdout",
       "text": [
        " 20 x0:  [  4.066  12.514] xt:  [4.2401485647970967, 12.806992974660771]\n",
        "iteration: "
       ]
      },
      {
       "output_type": "stream",
       "stream": "stdout",
       "text": [
        " 21 x0:  [  4.248  12.392] xt:  [4.2401645674801856, 12.807009106620693]\n",
        "iteration:  1 x0:  [  4.61  12.95] xt:  [4.4939279252927387, 12.916386275597668]\n",
        "iteration: "
       ]
      },
      {
       "output_type": "stream",
       "stream": "stdout",
       "text": [
        " 1 x0:  [  4.328  12.99 ] xt:  [4.2969330032543525, 12.937883317191426]\n",
        "iteration: "
       ]
      },
      {
       "output_type": "stream",
       "stream": "stdout",
       "text": [
        " 20 x0:  [  4.5    12.522] xt:  [4.2401896303172908, 12.807043598212351]\n",
        "iteration: "
       ]
      },
      {
       "output_type": "stream",
       "stream": "stdout",
       "text": [
        " 17 x0:  [  4.176  12.71 ] xt:  [4.2401501466796194, 12.80702636398167]\n",
        "iteration: "
       ]
      },
      {
       "output_type": "stream",
       "stream": "stdout",
       "text": [
        " 21 x0:  [  4.492  12.464] xt:  [4.2401854217787083, 12.807071029848261]\n",
        "iteration: "
       ]
      },
      {
       "output_type": "stream",
       "stream": "stdout",
       "text": [
        " 16 x0:  [  4.134  12.834] xt:  [4.2401597301562388, 12.807323743643749]\n",
        "iteration: "
       ]
      },
      {
       "output_type": "stream",
       "stream": "stdout",
       "text": [
        " 14 x0:  [  4.316  12.764] xt:  [4.240259082911261, 12.80704156453192]\n",
        "iteration: "
       ]
      },
      {
       "output_type": "stream",
       "stream": "stdout",
       "text": [
        " 24 x0:  [  4.454  12.084] xt:  [4.2401746997503436, 12.807055476323763]\n",
        "iteration: "
       ]
      },
      {
       "output_type": "stream",
       "stream": "stdout",
       "text": [
        " 16 x0:  [  4.052  12.934] xt:  [4.2401612474226082, 12.807639772873516]\n",
        "iteration:  1 x0:  [  4.26   13.118] xt:  [4.255479617988879, 13.032846770152002]\n",
        "iteration: "
       ]
      },
      {
       "output_type": "stream",
       "stream": "stdout",
       "text": [
        " 14 x0:  [  4.058  13.718] xt:  [4.2409608733619359, 12.82158275873064]\n",
        "iteration: "
       ]
      },
      {
       "output_type": "stream",
       "stream": "stdout",
       "text": [
        " 19 x0:  [  4.24   12.626] xt:  [4.2401719521229531, 12.807063847168235]\n",
        "iteration: "
       ]
      },
      {
       "output_type": "stream",
       "stream": "stdout",
       "text": [
        " 23 x0:  [  3.838  12.232] xt:  [4.240149598319376, 12.807002411713238]\n",
        "iteration: "
       ]
      },
      {
       "output_type": "stream",
       "stream": "stdout",
       "text": [
        " 11 x0:  [  4.128  13.4  ] xt:  [4.2409168437179714, 12.823156659444489]\n",
        "iteration: "
       ]
      },
      {
       "output_type": "stream",
       "stream": "stdout",
       "text": [
        " 22 x0:  [  3.764  12.38 ] xt:  [4.2401382858350738, 12.806983144997242]\n",
        "iteration:  1 x0:  [  4.424  13.186] xt:  [4.3663287002257398, 13.090637466922139]\n",
        "iteration: "
       ]
      },
      {
       "output_type": "stream",
       "stream": "stdout",
       "text": [
        " 5 x0:  [  4.234  12.994] xt:  [4.2417088394753844, 12.839452720696823]\n",
        "iteration:  1 x0:  [  5.13   13.296] xt:  [5.0446937971789803, 13.257044070733041]\n",
        "iteration: "
       ]
      },
      {
       "output_type": "stream",
       "stream": "stdout",
       "text": [
        " 21 x0:  [ 3.9    6.742] xt:  [4.2049985651951758, 7.1104176455939134]\n",
        "iteration: "
       ]
      },
      {
       "output_type": "stream",
       "stream": "stdout",
       "text": [
        " 20 x0:  [ 3.994  7.206] xt:  [4.2050021555330179, 7.1104222003828097]\n",
        "iteration:  1 x0:  [ 4.278  7.222] xt:  [4.2543386717168374, 7.1750732626796507]\n",
        "iteration: "
       ]
      },
      {
       "output_type": "stream",
       "stream": "stdout",
       "text": [
        " 15 x0:  [ 4.172  6.848] xt:  [4.2049955167534625, 7.1103626838973675]\n",
        "iteration: "
       ]
      },
      {
       "output_type": "stream",
       "stream": "stdout",
       "text": [
        " 21 x0:  [ 3.882  6.894] xt:  [4.2049990292078778, 7.1104192911638524]\n",
        "iteration: "
       ]
      },
      {
       "output_type": "stream",
       "stream": "stdout",
       "text": [
        " 20 x0:  [ 3.936  6.994] xt:  [4.2049867914630559, 7.1104196360788814]\n",
        "iteration: "
       ]
      },
      {
       "output_type": "stream",
       "stream": "stdout",
       "text": [
        " 16 x0:  [ 4.162  6.87 ] xt:  [4.2050029434048337, 7.1103911612344417]\n",
        "iteration: "
       ]
      },
      {
       "output_type": "stream",
       "stream": "stdout",
       "text": [
        " 22 x0:  [ 3.762  7.1  ] xt:  [4.2050010505646558, 7.1104210135098329]\n",
        "iteration:  1 x0:  [ 4.256  7.612] xt:  [4.2461616908586715, 7.4632769250103923]\n",
        "iteration: "
       ]
      },
      {
       "output_type": "stream",
       "stream": "stdout",
       "text": [
        " 15 x0:  [ 4.55   6.822] xt:  [4.2060099085104197, 7.110335142070209]\n",
        "iteration: "
       ]
      },
      {
       "output_type": "stream",
       "stream": "stdout",
       "text": [
        " 19 x0:  [ 4.062  6.984] xt:  [4.2050032131393476, 7.110418244919213]\n",
        "iteration: "
       ]
      },
      {
       "output_type": "stream",
       "stream": "stdout",
       "text": [
        " 19 x0:  [ 4.026  7.23 ] xt:  [4.2049859020525258, 7.1104237621985762]\n",
        "iteration:  1 x0:  [ 4.364  7.184] xt:  [4.3133869662089275, 7.153548762556972]\n",
        "iteration: "
       ]
      },
      {
       "output_type": "stream",
       "stream": "stdout",
       "text": [
        " 1 x0:  [ 4.292  7.208] xt:  [4.2637487465950414, 7.1669064789485049]\n",
        "iteration: "
       ]
      },
      {
       "output_type": "stream",
       "stream": "stdout",
       "text": [
        " 14 x0:  [ 4.288  6.91 ] xt:  [4.2053419636171121, 7.1103421918408047]\n",
        "iteration: "
       ]
      },
      {
       "output_type": "stream",
       "stream": "stdout",
       "text": [
        " 19 x0:  [ 4.018  7.062] xt:  [4.2049852219548276, 7.1104200990494517]\n",
        "iteration: "
       ]
      },
      {
       "output_type": "stream",
       "stream": "stdout",
       "text": [
        " 18 x0:  [ 4.07   7.104] xt:  [4.2049788674684976, 7.1104209369295468]\n",
        "iteration:  1 x0:  [ 4.548  7.654] xt:  [4.4841679337930813, 7.5220616028429381]\n",
        "iteration: "
       ]
      },
      {
       "output_type": "stream",
       "stream": "stdout",
       "text": [
        " 11 x0:  [ 4.402  7.082] xt:  [4.2073562806547091, 7.1103512360632752]\n",
        "iteration: "
       ]
      },
      {
       "output_type": "stream",
       "stream": "stdout",
       "text": [
        " 23 x0:  [ 3.692  7.49 ] xt:  [4.2049992677048156, 7.1104226055763418]\n",
        "iteration:  1 x0:  [ 4.888  7.194] xt:  [4.7592305927910443, 7.1708992597947825]\n",
        "iteration: "
       ]
      },
      {
       "output_type": "stream",
       "stream": "stdout",
       "text": [
        " 1 x0:  [ 4.456  7.146] xt:  [4.3796687795460691, 7.1318776740514735]\n",
        "iteration:  1 x0:  [ 4.732  7.154] xt:  [4.6086427216937969, 7.1395962554223802]\n",
        "iteration: "
       ]
      },
      {
       "output_type": "stream",
       "stream": "stdout",
       "text": [
        " 18 x0:  [ 4.088  7.212] xt:  [4.204987924955935, 7.1104249192664168]\n",
        "iteration: "
       ]
      },
      {
       "output_type": "stream",
       "stream": "stdout",
       "text": [
        " 14 x0:  [ 4.502  6.928] xt:  [4.2061797760281507, 7.1103357581062472]\n",
        "iteration: "
       ]
      },
      {
       "output_type": "stream",
       "stream": "stdout",
       "text": [
        " 25 x0:  [ 3.402  7.434] xt:  [4.2049974755850847, 7.1104219315582045]\n",
        "iteration: "
       ]
      },
      {
       "output_type": "stream",
       "stream": "stdout",
       "text": [
        " 16 x0:  [ 4.246  6.692] xt:  [4.2051376387124302, 7.1103573195475693]\n",
        "iteration: "
       ]
      },
      {
       "output_type": "stream",
       "stream": "stdout",
       "text": [
        " 16 x0:  [ 4.166  7.256] xt:  [4.2050039063621663, 7.1104381418623914]\n",
        "iteration: "
       ]
      },
      {
       "output_type": "stream",
       "stream": "stdout",
       "text": [
        " 16 x0:  [ 4.852  6.83 ] xt:  [4.2067991709564199, 7.1103400705559539]\n",
        "iteration:  1 x0:  [ 4.398  7.428] xt:  [4.3460109705914691, 7.3156248867569298]\n",
        "iteration: "
       ]
      },
      {
       "output_type": "stream",
       "stream": "stdout",
       "text": [
        " 14 x0:  [ 5.016  7.054] xt:  [4.2112054179382472, 7.1103366989506922]\n",
        "iteration: "
       ]
      },
      {
       "output_type": "stream",
       "stream": "stdout",
       "text": [
        " 15 x0:  [ 4.25  6.76] xt:  [4.2051771621230172, 7.1103344152730887]\n",
        "iteration: "
       ]
      },
      {
       "output_type": "stream",
       "stream": "stdout",
       "text": [
        " 22 x0:  [ 3.738  7.082] xt:  [4.2049967189447131, 7.110420969802119]\n",
        "iteration:  1 x0:  [ 4.254  7.264] xt:  [4.2384093542155474, 7.200220529941415]\n",
        "iteration: "
       ]
      },
      {
       "output_type": "stream",
       "stream": "stdout",
       "text": [
        " 17 x0:  [ 4.122  7.238] xt:  [4.2049821156559268, 7.1104296317324316]\n",
        "iteration: "
       ]
      },
      {
       "output_type": "stream",
       "stream": "stdout",
       "text": [
        " 21 x0:  [ 3.878  7.232] xt:  [4.2049970937759671, 7.1104220275814809]\n",
        "iteration:  1 x0:  [ 4.55  7.29] xt:  [4.4564227394707085, 7.2257980812423588]\n",
        "iteration: "
       ]
      },
      {
       "output_type": "stream",
       "stream": "stdout",
       "text": [
        " 19 x0:  [ 4.03   7.126] xt:  [4.2049896575433872, 7.1104214327371809]\n",
        "iteration: "
       ]
      },
      {
       "output_type": "stream",
       "stream": "stdout",
       "text": [
        " 13 x0:  [ 4.412  7.022] xt:  [4.2061339152314137, 7.110354498699369]\n",
        "iteration:  1 x0:  [ 4.276  7.244] xt:  [4.2532117136039904, 7.1882619769189979]\n",
        "iteration: "
       ]
      },
      {
       "output_type": "stream",
       "stream": "stdout",
       "text": [
        " 18 x0:  [ 8.376  3.788] xt:  [8.646493990687981, 3.7521515048359686]\n",
        "iteration:  1 x0:  [ 8.81   3.864] xt:  [8.7546775938195527, 3.8264603241619501]\n",
        "iteration: "
       ]
      },
      {
       "output_type": "stream",
       "stream": "stdout",
       "text": [
        " 21 x0:  [ 8.218  3.548] xt:  [8.6465202403492842, 3.7521448771228703]\n",
        "iteration: "
       ]
      },
      {
       "output_type": "stream",
       "stream": "stdout",
       "text": [
        " 18 x0:  [ 8.374  3.748] xt:  [8.6464829452645535, 3.752138128732283]\n",
        "iteration: "
       ]
      },
      {
       "output_type": "stream",
       "stream": "stdout",
       "text": [
        " 19 x0:  [ 8.102  4.3  ] xt:  [8.6464620246441708, 3.7522669283221575]\n",
        "iteration: "
       ]
      },
      {
       "output_type": "stream",
       "stream": "stdout",
       "text": [
        " 17 x0:  [ 8.386  3.952] xt:  [8.6464958363342479, 3.7522110051167972]\n",
        "iteration: "
       ]
      },
      {
       "output_type": "stream",
       "stream": "stdout",
       "text": [
        " 20 x0:  [ 8.858  3.274] xt:  [8.6465890911112151, 3.7521569123143141]\n",
        "iteration: "
       ]
      },
      {
       "output_type": "stream",
       "stream": "stdout",
       "text": [
        " 17 x0:  [ 8.884  3.504] xt:  [8.6466762402021811, 3.7521691192275939]\n",
        "iteration: "
       ]
      },
      {
       "output_type": "stream",
       "stream": "stdout",
       "text": [
        " 22 x0:  [ 8.294  3.38 ] xt:  [8.646543190956903, 3.7521561335852547]\n",
        "iteration: "
       ]
      },
      {
       "output_type": "stream",
       "stream": "stdout",
       "text": [
        " 22 x0:  [ 8.38   3.178] xt:  [8.6465276521464123, 3.75213726955716]\n",
        "iteration:  1 x0:  [ 8.738  4.294] xt:  [8.7184024637894968, 4.1524461029075965]\n",
        "iteration: "
       ]
      },
      {
       "output_type": "stream",
       "stream": "stdout",
       "text": [
        " 1 x0:  [ 9.1   3.84] xt:  [8.9678086059325892, 3.819953105037162]\n",
        "iteration: "
       ]
      },
      {
       "output_type": "stream",
       "stream": "stdout",
       "text": [
        " 11 x0:  [ 9.086  3.6  ] xt:  [8.6502246029445331, 3.7525524252738425]\n",
        "iteration: "
       ]
      },
      {
       "output_type": "stream",
       "stream": "stdout",
       "text": [
        " 19 x0:  [ 8.616  3.45 ] xt:  [8.6465444997126504, 3.7521384958139028]\n",
        "iteration: "
       ]
      },
      {
       "output_type": "stream",
       "stream": "stdout",
       "text": [
        " 16 x0:  [ 8.624  3.698] xt:  [8.6465576040585752, 3.7521579580910545]\n",
        "iteration: "
       ]
      },
      {
       "output_type": "stream",
       "stream": "stdout",
       "text": [
        " 7 x0:  [ 8.632  3.82 ] xt:  [8.6467379475655068, 3.7546242267821883]\n",
        "iteration: "
       ]
      },
      {
       "output_type": "stream",
       "stream": "stdout",
       "text": [
        " 19 x0:  [ 8.286  3.704] xt:  [8.6464830587030246, 3.7521311089249929]\n",
        "iteration: "
       ]
      },
      {
       "output_type": "stream",
       "stream": "stdout",
       "text": [
        " 16 x0:  [ 8.816  3.58 ] xt:  [8.6466838424416999, 3.7521673867132574]\n",
        "iteration:  1 x0:  [ 8.722  3.854] xt:  [8.6972360741202976, 3.8177390490003411]\n",
        "iteration: "
       ]
      },
      {
       "output_type": "stream",
       "stream": "stdout",
       "text": [
        " 22 x0:  [ 8.298  3.378] xt:  [8.6465435880308075, 3.7521563360147798]\n",
        "iteration:  1 x0:  [ 9.014  4.034] xt:  [8.9091437407093146, 3.9531724699470399]\n",
        "iteration: "
       ]
      },
      {
       "output_type": "stream",
       "stream": "stdout",
       "text": [
        " 16 x0:  [ 8.87   3.554] xt:  [8.6467269652713021, 3.7521739025181535]\n",
        "iteration: "
       ]
      },
      {
       "output_type": "stream",
       "stream": "stdout",
       "text": [
        " 17 x0:  [ 8.562  3.662] xt:  [8.6465216420936688, 3.7521371760094224]\n",
        "iteration: "
       ]
      },
      {
       "output_type": "stream",
       "stream": "stdout",
       "text": [
        " 12 x0:  [ 8.6    3.828] xt:  [8.6465227698941156, 3.7524060332709146]\n",
        "iteration:  1 x0:  [ 8.94   3.836] xt:  [8.8432587673706244, 3.8124025964737842]\n",
        "iteration: "
       ]
      },
      {
       "output_type": "stream",
       "stream": "stdout",
       "text": [
        " 1 x0:  [ 8.768  4.32 ] xt:  [8.7417170792642871, 4.1778183438766945]\n",
        "iteration:  1 x0:  [ 8.838  3.926] xt:  [8.7754324277473188, 3.8676840503260204]\n",
        "iteration: "
       ]
      },
      {
       "output_type": "stream",
       "stream": "stdout",
       "text": [
        " 21 x0:  [ 8.288  3.466] xt:  [8.6465246233276538, 3.7521437392832242]\n",
        "iteration:  1 x0:  [ 8.652  3.782] xt:  [8.6508175447287634, 3.7709200774297442]\n",
        "iteration: "
       ]
      },
      {
       "output_type": "stream",
       "stream": "stdout",
       "text": [
        " 17 x0:  [ 8.376  3.956] xt:  [8.6464893987571418, 3.7522096623022883]\n",
        "iteration: "
       ]
      },
      {
       "output_type": "stream",
       "stream": "stdout",
       "text": [
        " 25 x0:  [ 7.724  3.414] xt:  [8.6465139518443568, 3.752141181831246]\n",
        "iteration: "
       ]
      },
      {
       "output_type": "stream",
       "stream": "stdout",
       "text": [
        " 16 x0:  [ 8.374  4.136] xt:  [8.6464946031748209, 3.7523809724547452]\n",
        "iteration: "
       ]
      },
      {
       "output_type": "stream",
       "stream": "stdout",
       "text": [
        " 16 x0:  [ 8.6    3.712] xt:  [8.6465417402868567, 3.7521558551046654]\n",
        "iteration:  1 x0:  [ 9.026  3.788] xt:  [8.9066383191566825, 3.7828931526628935]\n",
        "iteration: "
       ]
      },
      {
       "output_type": "stream",
       "stream": "stdout",
       "text": [
        " 21 x0:  [ 8.534  3.252] xt:  [8.6465392308052493, 3.7521412232674978]\n",
        "iteration: "
       ]
      },
      {
       "output_type": "stream",
       "stream": "stdout",
       "text": [
        " 14 x0:  [ 8.874  3.602] xt:  [8.6469670517989385, 3.7521863622907583]\n",
        "iteration:  1 x0:  [ 8.796  3.888] xt:  [8.7461641219217761, 3.8414420559881042]\n",
        "iteration: "
       ]
      },
      {
       "output_type": "stream",
       "stream": "stdout",
       "text": [
        " 9 x0:  [ 8.592  3.988] xt:  [8.6469295109079578, 3.755686261570343]\n",
        "iteration:  1 x0:  [ 8.98   4.014] xt:  [8.8814276076455005, 3.9359823614390446]\n",
        "iteration: "
       ]
      },
      {
       "output_type": "stream",
       "stream": "stdout",
       "text": [
        " 14 x0:  [ 8.562  3.856] xt:  [8.6465212484951319, 3.7522892896418223]\n",
        "iteration: "
       ]
      },
      {
       "output_type": "stream",
       "stream": "stdout",
       "text": [
        " 28 x0:  [ 13.894   4.16 ] xt:  [14.126377305500407, 5.0533434967829427]\n",
        "iteration:  1 x0:  [ 14.278   5.26 ] xt:  [14.226674582327407, 5.19630994193259]\n",
        "iteration: "
       ]
      },
      {
       "output_type": "stream",
       "stream": "stdout",
       "text": [
        " 23 x0:  [ 14.364   4.748] xt:  [14.126416541164883, 5.0533391312870677]\n",
        "iteration: "
       ]
      },
      {
       "output_type": "stream",
       "stream": "stdout",
       "text": [
        " 20 x0:  [ 14.108   4.918] xt:  [14.12638220738603, 5.0533429499228131]\n",
        "iteration: "
       ]
      },
      {
       "output_type": "stream",
       "stream": "stdout",
       "text": [
        " 18 x0:  [ 13.998   5.498] xt:  [14.126054456628347, 5.0541898048912559]\n",
        "iteration:  1 x0:  [ 14.4     5.296] xt:  [14.314641053055555, 5.2250019883324601]\n",
        "iteration: "
       ]
      },
      {
       "output_type": "stream",
       "stream": "stdout",
       "text": [
        " 1 x0:  [ 14.3     5.368] xt:  [14.243623411199767, 5.2768587912524971]\n",
        "iteration: "
       ]
      },
      {
       "output_type": "stream",
       "stream": "stdout",
       "text": [
        " 18 x0:  [ 13.958   5.35 ] xt:  [14.126090802033829, 5.0539460451612426]\n",
        "iteration: "
       ]
      },
      {
       "output_type": "stream",
       "stream": "stdout",
       "text": [
        " 18 x0:  [ 13.842   4.984] xt:  [14.126098387105989, 5.0534317967211209]\n",
        "iteration: "
       ]
      },
      {
       "output_type": "stream",
       "stream": "stdout",
       "text": [
        " 27 x0:  [ 13.85    4.246] xt:  [14.126374110743745, 5.0533341596757726]\n",
        "iteration: "
       ]
      },
      {
       "output_type": "stream",
       "stream": "stdout",
       "text": [
        " 18 x0:  [ 13.978   5.356] xt:  [14.126109516858959, 5.0539449580064311]\n",
        "iteration:  1 x0:  [ 14.366   5.104] xt:  [14.287474261864176, 5.0860243959441132]\n",
        "iteration: "
       ]
      },
      {
       "output_type": "stream",
       "stream": "stdout",
       "text": [
        " 20 x0:  [ 14.272   4.94 ] xt:  [14.126439806758187, 5.0533312130466834]\n",
        "iteration:  1 x0:  [ 14.336   5.176] xt:  [14.266494300940195, 5.1367216795470929]\n",
        "iteration: "
       ]
      },
      {
       "output_type": "stream",
       "stream": "stdout",
       "text": [
        " 1 x0:  [ 14.744   5.248] xt:  [14.608241251974036, 5.2058436871699243]\n",
        "iteration:  1 x0:  [ 14.306   5.06 ] xt:  [14.246392266155416, 5.0557136721581735]\n",
        "iteration: "
       ]
      },
      {
       "output_type": "stream",
       "stream": "stdout",
       "text": [
        " 16 x0:  [ 13.986   5.05 ] xt:  [14.126090865936387, 5.0535219304232104]\n",
        "iteration:  1 x0:  [ 14.44   5.33] xt:  [14.346376194567867, 5.2524568095144906]\n",
        "iteration: "
       ]
      },
      {
       "output_type": "stream",
       "stream": "stdout",
       "text": [
        " 19 x0:  [ 14.004   4.92 ] xt:  [14.126323360450348, 5.053326441784125]\n",
        "iteration: "
       ]
      },
      {
       "output_type": "stream",
       "stream": "stdout",
       "text": [
        " 25 x0:  [ 13.332   4.592] xt:  [14.126238076974627, 5.0533447509180398]\n",
        "iteration:  1 x0:  [ 14.218   5.544] xt:  [14.187635541917691, 5.418733975481099]\n",
        "iteration: "
       ]
      },
      {
       "output_type": "stream",
       "stream": "stdout",
       "text": [
        " 22 x0:  [ 14.154   4.768] xt:  [14.12639791824769, 5.0533268077975722]\n",
        "iteration: "
       ]
      },
      {
       "output_type": "stream",
       "stream": "stdout",
       "text": [
        " 22 x0:  [ 13.468   4.92 ] xt:  [14.126139985799933, 5.0534499769130843]\n",
        "iteration: "
       ]
      },
      {
       "output_type": "stream",
       "stream": "stdout",
       "text": [
        " 21 x0:  [ 13.67    5.406] xt:  [14.126123999113929, 5.0537310970705338]\n",
        "iteration: "
       ]
      },
      {
       "output_type": "stream",
       "stream": "stdout",
       "text": [
        " 20 x0:  [ 13.664   5.016] xt:  [14.126108147136673, 5.0535039813313416]\n",
        "iteration: "
       ]
      },
      {
       "output_type": "stream",
       "stream": "stdout",
       "text": [
        " 21 x0:  [ 14.12   4.87] xt:  [14.126387343064675, 5.0533440864954002]\n",
        "iteration: "
       ]
      },
      {
       "output_type": "stream",
       "stream": "stdout",
       "text": [
        " 25 x0:  [ 13.836   4.51 ] xt:  [14.126363507383102, 5.0533482387200381]\n",
        "iteration:  1 x0:  [ 14.204   5.064] xt:  [14.178032857478104, 5.0597454398792658]\n",
        "iteration: "
       ]
      },
      {
       "output_type": "stream",
       "stream": "stdout",
       "text": [
        " 17 x0:  [ 14.004   5.228] xt:  [14.126115295550177, 5.0538616157577003]\n",
        "iteration: "
       ]
      },
      {
       "output_type": "stream",
       "stream": "stdout",
       "text": [
        " 24 x0:  [ 13.266   4.858] xt:  [14.126151908519823, 5.0534367910909577]\n",
        "iteration: "
       ]
      },
      {
       "output_type": "stream",
       "stream": "stdout",
       "text": [
        " 21 x0:  [ 13.668   5.34 ] xt:  [14.126139969136155, 5.0536853501280818]\n",
        "iteration: "
       ]
      },
      {
       "output_type": "stream",
       "stream": "stdout",
       "text": [
        " 23 x0:  [ 14.528   4.812] xt:  [14.126433930685591, 5.0533429736659246]\n",
        "iteration: "
       ]
      },
      {
       "output_type": "stream",
       "stream": "stdout",
       "text": [
        " 24 x0:  [ 14.318   4.592] xt:  [14.126408605861213, 5.053329884136021]\n",
        "iteration: "
       ]
      },
      {
       "output_type": "stream",
       "stream": "stdout",
       "text": [
        " 16 x0:  [ 14.018   5.182] xt:  [14.126068343213063, 5.053893083114275]\n",
        "iteration: "
       ]
      },
      {
       "output_type": "stream",
       "stream": "stdout",
       "text": [
        " 21 x0:  [ 14.37    4.884] xt:  [14.126450074987087, 5.0533189811504364]\n",
        "iteration: "
       ]
      },
      {
       "output_type": "stream",
       "stream": "stdout",
       "text": [
        " 22 x0:  [ 14.198   4.804] xt:  [14.126401938111943, 5.05333901514497]\n",
        "iteration: "
       ]
      },
      {
       "output_type": "stream",
       "stream": "stdout",
       "text": [
        " 24 x0:  [ 14.32   4.59] xt:  [14.126408979654668, 5.0533291223061179]\n",
        "iteration: "
       ]
      },
      {
       "output_type": "stream",
       "stream": "stdout",
       "text": [
        " 21 x0:  [ 13.636   5.218] xt:  [14.126144836300053, 5.0536171289511058]\n",
        "iteration: "
       ]
      },
      {
       "output_type": "stream",
       "stream": "stdout",
       "text": [
        " 24 x0:  [ 14.41    4.656] xt:  [14.126412301149534, 5.0533421561242928]\n",
        "iteration: "
       ]
      },
      {
       "output_type": "stream",
       "stream": "stdout",
       "text": [
        " 19 x0:  [ 14.02    5.614] xt:  [14.126108090387572, 5.0541358232148603]\n",
        "size of reduced SEPs: "
       ]
      },
      {
       "output_type": "stream",
       "stream": "stdout",
       "text": [
        " 98\n"
       ]
      },
      {
       "metadata": {},
       "output_type": "display_data",
       "png": "[encoded data removed]",
       "text": [
        "<matplotlib.figure.Figure at 0x7884f60>"
       ]
      }
     ],
     "prompt_number": 16
    },
    {
     "cell_type": "code",
     "collapsed": false,
     "input": [
      "# #get adjacency matrix\n",
      "# A = getAdjacencyMatrix(sepList, 0.50, 5, data, invA)\n",
      "# sepsClusters = getSEPsClusters(A, sepList)\n",
      "# print sepsClusters\n",
      "# plotCluster(sepList[:,0],sepList[:,1],sepsClusters,\"Scatter Plot\")"
     ],
     "language": "python",
     "metadata": {},
     "outputs": [
      {
       "output_type": "stream",
       "stream": "stdout",
       "text": [
        "[1, 1, 1, 2, 1, 2, 3, 3, 3, 3, 4, 3, 3, 4, 4, 3, 5, 5, 5, 5, 6, 5, 7, 7, 7, 8, 7, 7, 7, 9, 9, 9, 9, 9, 9, 10, 10, 10, 10, 10, 10, 10, 11, 12, 11, 11, 11, 11, 12, 13, 13, 13, 13, 13, 14, 13, 13, 15, 15, 15, 16, 15, 15, 17, 17, 17, 17, 17, 17, 18, 18, 18, 18, 19, 19, 19, 19, 19, 20, 21, 21, 21, 21, 21, 21, 21, 21, 22, 22, 22, 22, 22, 23, 23, 23, 24, 23, 23]\n"
       ]
      },
      {
       "metadata": {},
       "output_type": "display_data",
       "png": "[encoded data removed]",
       "text": [
        "<matplotlib.figure.Figure at 0x768fcf8>"
       ]
      }
     ],
     "prompt_number": 19
    },
    {
     "cell_type": "code",
     "collapsed": false,
     "input": [
      "# #get clusters assignment\n",
      "# results = getPointClusters(sepsClusters, sepIndexMap)\n",
      "# plotCluster2(X,Y,results,\"Scatter Plot\")"
     ],
     "language": "python",
     "metadata": {},
     "outputs": [
      {
       "metadata": {},
       "output_type": "display_data",
       "png": "[encoded data removed]",
       "text": [
        "<matplotlib.figure.Figure at 0x7884b38>"
       ]
      }
     ],
     "prompt_number": 20
    },
    {
     "cell_type": "code",
     "collapsed": false,
     "input": [
      "# nrc =getCountNrc(clusters,results,int(max(clusters)),int(max(results)))"
     ],
     "language": "python",
     "metadata": {},
     "outputs": [],
     "prompt_number": 60
    },
    {
     "cell_type": "code",
     "collapsed": false,
     "input": [
      "# getRE(clusters,results,int(max(clusters)),int(max(results)),nrc)"
     ],
     "language": "python",
     "metadata": {},
     "outputs": [
      {
       "metadata": {},
       "output_type": "pyout",
       "prompt_number": 61,
       "text": [
        "0.026666666666666616"
       ]
      }
     ],
     "prompt_number": 61
    },
    {
     "cell_type": "code",
     "collapsed": false,
     "input": [
      "# getCE(clusters,results,int(max(clusters)),int(max(results)),nrc)"
     ],
     "language": "python",
     "metadata": {},
     "outputs": [
      {
       "metadata": {},
       "output_type": "pyout",
       "prompt_number": 62,
       "text": [
        "0.0033333333333332993"
       ]
      }
     ],
     "prompt_number": 62
    },
    {
     "cell_type": "code",
     "collapsed": false,
     "input": [
      "# getFScore(clusters,results,int(max(clusters)),int(max(results)),nrc)"
     ],
     "language": "python",
     "metadata": {},
     "outputs": [
      {
       "metadata": {},
       "output_type": "pyout",
       "prompt_number": 83,
       "text": [
        "0.9846556321732125"
       ]
      }
     ],
     "prompt_number": 83
    },
    {
     "cell_type": "code",
     "collapsed": false,
     "input": [
      "# #get adjacency matrix\n",
      "# A = getAdjacencyMatrix(sepList, 0.56, 5, data, invA)\n",
      "# sepsClusters = getSEPsClusters(A, sepList)\n",
      "# print sepsClusters\n",
      "# plotCluster(sepList[:,0],sepList[:,1],sepsClusters,\"Scatter Plot\")"
     ],
     "language": "python",
     "metadata": {},
     "outputs": [
      {
       "output_type": "stream",
       "stream": "stdout",
       "text": [
        "[1, 1, 1, 1, 1, 1, 2, 2, 2, 2, 3, 2, 2, 3, 3, 2, 4, 4, 4, 4, 5, 4, 4, 4, 4, 4, 4, 4, 4, 6, 6, 6, 6, 6, 6, 7, 7, 7, 7, 7, 7, 7, 8, 8, 8, 8, 8, 8, 8, 9, 9, 9, 9, 9, 9, 9, 9, 10, 10, 10, 11, 10, 10, 12, 12, 12, 12, 12, 12, 13, 13, 13, 13, 14, 14, 14, 14, 14, 15, 16, 16, 16, 16, 16, 16, 16, 16, 17, 17, 17, 17, 17, 18, 18, 18, 18, 18, 18]\n"
       ]
      },
      {
       "metadata": {},
       "output_type": "display_data",
       "png": "[encoded data removed]",
       "text": [
        "<matplotlib.figure.Figure at 0x7844cc0>"
       ]
      }
     ],
     "prompt_number": 84
    },
    {
     "cell_type": "code",
     "collapsed": false,
     "input": [
      "# #get clusters assignment\n",
      "# results = getPointClusters(sepsClusters, sepIndexMap)\n",
      "# plotCluster2(X,Y,results,\"Scatter Plot\")"
     ],
     "language": "python",
     "metadata": {},
     "outputs": [
      {
       "metadata": {},
       "output_type": "display_data",
       "png": "[encoded data removed]",
       "text": [
        "<matplotlib.figure.Figure at 0x78e91d0>"
       ]
      }
     ],
     "prompt_number": 85
    },
    {
     "cell_type": "code",
     "collapsed": false,
     "input": [
      "# nrc =getCountNrc(clusters,results,int(max(clusters)),int(max(results)))"
     ],
     "language": "python",
     "metadata": {},
     "outputs": [],
     "prompt_number": 86
    },
    {
     "cell_type": "code",
     "collapsed": false,
     "input": [
      "# getRE(clusters,results,int(max(clusters)),int(max(results)),nrc)"
     ],
     "language": "python",
     "metadata": {},
     "outputs": [
      {
       "metadata": {},
       "output_type": "pyout",
       "prompt_number": 87,
       "text": [
        "0.011666666666666714"
       ]
      }
     ],
     "prompt_number": 87
    },
    {
     "cell_type": "code",
     "collapsed": false,
     "input": [
      "# getCE(clusters,results,int(max(clusters)),int(max(results)),nrc)"
     ],
     "language": "python",
     "metadata": {},
     "outputs": [
      {
       "metadata": {},
       "output_type": "pyout",
       "prompt_number": 88,
       "text": [
        "0.06666666666666665"
       ]
      }
     ],
     "prompt_number": 88
    },
    {
     "cell_type": "code",
     "collapsed": false,
     "input": [
      "# getFScore(clusters,results,int(max(clusters)),int(max(results)),nrc)"
     ],
     "language": "python",
     "metadata": {},
     "outputs": [
      {
       "metadata": {},
       "output_type": "pyout",
       "prompt_number": 89,
       "text": [
        "0.9492299793946186"
       ]
      }
     ],
     "prompt_number": 89
    },
    {
     "cell_type": "code",
     "collapsed": false,
     "input": [],
     "language": "python",
     "metadata": {},
     "outputs": []
    }
   ],
   "metadata": {}
  }
 ]
}