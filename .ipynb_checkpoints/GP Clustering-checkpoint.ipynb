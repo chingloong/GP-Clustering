{
 "metadata": {
  "name": ""
 },
 "nbformat": 3,
 "nbformat_minor": 0,
 "worksheets": [
  {
   "cells": [
    {
     "cell_type": "markdown",
     "metadata": {},
     "source": [
      "#Algorithm Implementation"
     ]
    },
    {
     "cell_type": "code",
     "collapsed": false,
     "input": [
      "import numpy as np\n",
      "from numpy import *\n",
      "import matplotlib\n",
      "import matplotlib.pyplot as plt\n",
      "import scipy\n",
      "import math\n",
      "from numpy import matrix\n",
      "\n",
      "#plot the scatter plot\n",
      "def plotScatter(X,Y,title,c):\n",
      "    fig = plt.figure()\n",
      "    ax = fig.add_subplot(111)\n",
      "    ax.plot(X,Y,c+'.')\n",
      "    ax.set_title(title)\n",
      "    plt.show()\n",
      "\n",
      "def plotCluster(X,Y,clusters,title):\n",
      "#    fig = plt.figure()\n",
      " #   ax = fig.add_subplot(111)\n",
      "    \n",
      "    colors = np.arange(len(clusters))\n",
      "    t = [colors[(int)(clusters[i])]  for i in range (len(clusters))]\n",
      "    plt.scatter(X, Y, c=t)\n",
      "    plt.show()\n",
      "    \n",
      "def plotCluster2(X,Y,clusters,title):\n",
      "    fig = plt.figure()\n",
      "    ax = fig.add_subplot(111)\n",
      "\n",
      "    colors = ['r','g','b','c','m','y']   \n",
      "    c = [colors[((int)(clusters[i])-1) % len(colors)]  + '.' for i in range (len(clusters))]\n",
      "    \n",
      "    for i in range (len(X)):\n",
      "        ax.plot(X[i],Y[i],c[i])\n",
      "    ax.set_title(title)\n",
      "    plt.show() \n",
      "\n",
      "def plotHeatMap(heatmap, extent):\n",
      "    plt.clf()\n",
      "    plt.imshow(heatmap, extent=extent)\n",
      "    plt.colorbar()\n",
      "    plt.show()\n",
      "    \n",
      "#init parameters for the model\n",
      "# need to be determined for different dataset\n",
      "# alpha = 1\n",
      "v0 = 1\n",
      "l =  [1. for i in range(2)]\n",
      "v1 = 0\n",
      "v2 = 1"
     ],
     "language": "python",
     "metadata": {},
     "outputs": [],
     "prompt_number": 3
    },
    {
     "cell_type": "markdown",
     "metadata": {},
     "source": [
      "##Step 1. Construct a variance function and compute the level value $r^* = max_{x_i} \\sigma ^2 (x_i) $"
     ]
    },
    {
     "cell_type": "code",
     "collapsed": false,
     "input": [
      "#Calculate Covariance Matrix C\n",
      "def kernelFunction(x1, x2):\n",
      "    c = 0.;\n",
      "    for i in range(len(x1)):\n",
      "        c += l[i] * ((x1[i] - x2[i]) **2 )\n",
      "\n",
      "    c = v0 * math.exp(- 0.5 * c)+ v1\n",
      "    return c\n",
      "\n",
      "#calculate the whole covariance matrix \n",
      "def getCovarianceMatrix(data):\n",
      "    size = len(data[0,:])\n",
      "    C = [[ 0. for i in range (size)] for j in range (size)]\n",
      "    for i in range (size):\n",
      "        for j in range (size):\n",
      "            C[i][j] = kernelFunction(data[:,i], data[:,j])\n",
      "    return matrix(C)  \n",
      "\n",
      "\n",
      "#TODO check how to calculate the variance\n",
      "#calculate variance of dataset\n",
      "def getVariance(data):\n",
      "    return np.var(data[0,:]) + np.var(data[1,:])\n",
      "\n",
      "#calculate inversion of Matrix A\n",
      "def getInversionMatrix(data, C):\n",
      "    size = len(data[0,:])\n",
      "    var = getVariance(data)\n",
      "    return  (C + v2 *var * matrix(np.eye(size)) ).I \n",
      "\n",
      "#calcalate the variance for a given point x\n",
      "def varianceFunction(x, data, inv):\n",
      "    size = len(data[0,:])\n",
      "    k = matrix( [kernelFunction(x, data[:,i]) for i in range (size)]).T\n",
      "    result = kernelFunction(x,x) - k.T * inv * k\n",
      "    return result[0,0]\n",
      "\n",
      "\n",
      "\n",
      "def getMaxVariance():\n",
      "    maxVars = 0.\n",
      "    maxIndex = 0\n",
      "    for i in range (size):\n",
      "        if(i == 0):\n",
      "            maxVar = varianceFunction(data[:,i], data, invA)\n",
      "            maxIndex = 0\n",
      "        else:\n",
      "            tmp = varianceFunction(data[:,i], data, invA)\n",
      "            if(tmp > maxVar):\n",
      "                maxVar = tmp\n",
      "                maxIndex = i\n",
      "    return maxVar, data[:,maxIndex]\n",
      "\n",
      "def getMaxVariances(num):\n",
      "    maxVars = [ 0. for i in range (num)]\n",
      "    variances = array([varianceFunction(data[:,i], data, invA) for i in range(size)])\n",
      "    sorted_vars = sort(variances)\n",
      "    for i in range (num):\n",
      "        maxVars[i] = sorted_vars[-1-i]\n",
      "    \n",
      "    return maxVars"
     ],
     "language": "python",
     "metadata": {},
     "outputs": [],
     "prompt_number": 13
    },
    {
     "cell_type": "markdown",
     "metadata": {},
     "source": [
      "##Step 2. Compute Stable Equilibrium Points"
     ]
    },
    {
     "cell_type": "code",
     "collapsed": false,
     "input": [
      "#nabla_variance_function\n",
      "def nablaVarianceFunction(x, data, inv):\n",
      "    size = len(data[0,:])\n",
      "    k = matrix( [kernelFunction(x, data[:,i]) for i in range (size)]).T\n",
      "    nablaK_x1 = matrix([ - kernelFunction(x, data[:,i]) * (x[0] - data[0,i]) for i in range (size)]).T\n",
      "    nablaK_x2 = matrix([ - kernelFunction(x, data[:,i]) * (x[1] - data[1,i]) for i in range (size)]).T\n",
      "    delta_x1 =  nablaK_x1.T * inv * k + k.T * inv * nablaK_x1 \n",
      "    delta_x2 =  nablaK_x2.T * inv * k + k.T * inv * nablaK_x2\n",
      "    return [delta_x1[0,0], delta_x2[0,0]]\n",
      "\n",
      "#gradient descent iteration\n",
      "def gradientDescentIteration(x, data, inv, ita):\n",
      "    delta_x = nablaVarianceFunction(x,data,inv)\n",
      "    #print \"delta_x:\" , delta_x\n",
      "    return [ x[i] + ita * delta_x[i] for i in range (len(x))]\n",
      "\n",
      "def getEquilibriumPoint(x,data,inv,ita,maxIteration):\n",
      "    x_old = x\n",
      "    iteration = 1\n",
      "    for i in range(maxIteration):\n",
      "        x_new = gradientDescentIteration(x_old,data,inv,ita)\n",
      "        if( (x_new[0] - x_old[0])/x_old[0] < 0.00001 and (x_new[1] - x_old[1])/x_old[1] < 0.00001):\n",
      "            break\n",
      "        else:\n",
      "            x_old = x_new\n",
      "            iteration += 1\n",
      "    print \"iteration: \" , iteration, \"x0: \", x, \"xt: \", x_new\n",
      "    return x_new\n",
      "\n",
      "def isExistInList(sepList, point, min_accepted_covariance):\n",
      "    for i in range (len(sepList)):\n",
      "        covariance = kernelFunction(sepList[i], point)\n",
      "        if(covariance > min_accepted_covariance):\n",
      "            return i\n",
      "    return -1\n",
      "\n",
      "def reduceSEPs(seps, min_accepted_covariance):\n",
      "    sepList = []\n",
      "    sepIndexMap = {}\n",
      "    for i in range (len(seps)):\n",
      "        index = isExistInList(sepList, [seps[i,0],seps[i,1]], min_accepted_covariance)\n",
      "        if index == -1 :\n",
      "            index = len(sepList)\n",
      "            sepList.append([seps[i,0],seps[i,1]])\n",
      "        sepIndexMap[i] = index\n",
      "    return array(sepList), sepIndexMap"
     ],
     "language": "python",
     "metadata": {},
     "outputs": [],
     "prompt_number": 10
    },
    {
     "cell_type": "markdown",
     "metadata": {},
     "source": [
      "##Step 3. Construct Adjacency Matrix A"
     ]
    },
    {
     "cell_type": "code",
     "collapsed": false,
     "input": [
      "def getGeometricDistance(x1, x2):\n",
      "    d = 0.\n",
      "    for i in range (len(x1)):\n",
      "        d += (x1[i] - x2[i])**2\n",
      "    return math.sqrt(d)\n",
      "\n",
      "def getAdjacencyMatrix(sepList, maxVar, pointsNumPerDistanceUnit, data, invA):\n",
      "    A = [[ -1 for i in range (len(sepList))] for j in range (len(sepList)) ]\n",
      "    for i in range (len(sepList)):\n",
      "        for j in range (len(sepList)):\n",
      "            if(i == j ):\n",
      "                A[i][j] = 1\n",
      "            elif( i < j ):\n",
      "                isConnected = True\n",
      "                delta = sepList[i] - sepList[j]\n",
      "                distance = getGeometricDistance(sepList[i], sepList[j])\n",
      "                pointsNum = pointsNumPerDistanceUnit * distance\n",
      "                for m in range ((int)(pointsNum)):\n",
      "                    testPoint = sepList[j] + (m+1) * delta/pointsNum\n",
      "                    testVar = varianceFunction(testPoint, data, invA)\n",
      "                    if(testVar > maxVar):\n",
      "                        isConnected = False\n",
      "                        break\n",
      "                if isConnected is True:\n",
      "                    A[i][j] = 1\n",
      "                else:\n",
      "                    A[i][j] = 0\n",
      "            elif (i > j ):\n",
      "                A[i][j] = A[j][i]\n",
      "    return array(A)"
     ],
     "language": "python",
     "metadata": {},
     "outputs": [],
     "prompt_number": 11
    },
    {
     "cell_type": "markdown",
     "metadata": {},
     "source": [
      "##Step 4. Assign cluster Labels to training data Points"
     ]
    },
    {
     "cell_type": "code",
     "collapsed": false,
     "input": [
      "def getSEPsClusters(adjacencyMatrix, sepList):\n",
      "    clusters = [ -1 for i in range (len(sepList))]\n",
      "    clusterIndex = 1\n",
      "    for i in range (len(sepList)):\n",
      "        isNewCluster = True;\n",
      "        clusterNo = clusterIndex;\n",
      "        for j in range ( len(sepList)):\n",
      "            if adjacencyMatrix[i][j] == 1 and clusters[j] != -1:\n",
      "                isNewCluster = False\n",
      "                clusterNo = clusters[j]\n",
      "                break\n",
      "        for j in range ( i , len(sepList)):\n",
      "            if adjacencyMatrix[i][j] == 1:\n",
      "                clusters[j] = clusterNo\n",
      "        if isNewCluster:\n",
      "            clusterIndex += 1\n",
      "        \n",
      "    return clusters    \n",
      "\n",
      "def getPointClusters(sepsClusters, sepIndexMap):\n",
      "    clusters = [-1 for i in range (len(sepIndexMap))]\n",
      "    for i in range (len(sepIndexMap)):\n",
      "        clusters[i] = sepsClusters[sepIndexMap[i]]\n",
      "    return clusters"
     ],
     "language": "python",
     "metadata": {},
     "outputs": [],
     "prompt_number": 12
    },
    {
     "cell_type": "markdown",
     "metadata": {},
     "source": [
      "##Alogorithm Evaluation"
     ]
    },
    {
     "cell_type": "markdown",
     "metadata": {},
     "source": [
      "$n_{r,c}$ -- the number of data points that belong to reference cluster r and are assigned to cluster c by a clustering algorithm\n",
      "\n",
      "$n$ -- the number of all the data points\n",
      "\n",
      "$n_r$ -- the number of the data points in the reference cluster r\n",
      "\n",
      "$n_c$ -- the number of the data points in the cluser c obtained by a clustering algorithm"
     ]
    },
    {
     "cell_type": "code",
     "collapsed": false,
     "input": [
      "# count n_{r,c}\n",
      "\n",
      "def getCountNrc(references, clusters, referencesNum, clustersNum):\n",
      "    size = len(clusters)\n",
      "    Nrc = [[0 for c in range(clustersNum)] for r in range(referencesNum) ]\n",
      "    for r in range (referencesNum):\n",
      "        for c in range (clustersNum):\n",
      "            for i in range (size):\n",
      "                if (references[i] == r and clusters[i] == c):\n",
      "                    Nrc[r][c] += 1\n",
      "    return Nrc"
     ],
     "language": "python",
     "metadata": {},
     "outputs": [],
     "prompt_number": 5
    },
    {
     "cell_type": "markdown",
     "metadata": {},
     "source": [
      "###1. Reference error rate RE"
     ]
    },
    {
     "cell_type": "markdown",
     "metadata": {},
     "source": [
      "$ RE = 1 - \\frac{\\sum_r {max_c n_{r,c}}}{n}$"
     ]
    },
    {
     "cell_type": "code",
     "collapsed": false,
     "input": [
      "def getRE(references, clusters, referencesNum, clustersNum, Nrc):\n",
      "    size = len(clusters)\n",
      "    sumTmp = 0\n",
      "    for r in range (referenceNum):\n",
      "        maxTmp = 0\n",
      "        for c in range (clustersNum):\n",
      "            if(maxTmp < Nrc[r][c]):\n",
      "                maxTmp = Nrc[r][c]\n",
      "        sumTmp += maxTmp\n",
      "    return 1 - sumTmp / size"
     ],
     "language": "python",
     "metadata": {},
     "outputs": [],
     "prompt_number": 6
    },
    {
     "cell_type": "markdown",
     "metadata": {},
     "source": [
      "###2. Cluster error"
     ]
    },
    {
     "cell_type": "markdown",
     "metadata": {},
     "source": [
      "$CE = 1 - \\frac{\\sum_c {max_r {n_{r,c}}}} {n}$"
     ]
    },
    {
     "cell_type": "code",
     "collapsed": false,
     "input": [
      "def getCE(references, clusters, referencesNum, clustersNum, Nrc):\n",
      "    size = len(clusters)\n",
      "    sumTmp = 0\n",
      "    for c in range (clustersNum):\n",
      "        maxTmp = 0\n",
      "        for r in range (referencesNum):\n",
      "            if(maxTmp < Nrc[r][c]):\n",
      "                maxTmp = Nrc[r][c]\n",
      "        sumTmp += maxTmp\n",
      "    return 1 - sumTmp / size"
     ],
     "language": "python",
     "metadata": {},
     "outputs": [],
     "prompt_number": 8
    },
    {
     "cell_type": "markdown",
     "metadata": {},
     "source": [
      "###3. F Score"
     ]
    },
    {
     "cell_type": "markdown",
     "metadata": {},
     "source": [
      "The FScore of the reference cluster r and cluster c is defined as:\n",
      "\n",
      "$F_{r,c} = \\frac {2 R_{r,c} P_{r,c}} {R_{r,c} + p_{r,c}}$ \n",
      "\n",
      "Where $R_{r,c} = \\frac {n_{r,c}}{n_c}$ represents Recall and $P_{r,c} = \\frac{n_{r,c}}{n_r}$ represents Precision"
     ]
    },
    {
     "cell_type": "markdown",
     "metadata": {},
     "source": [
      "The FScore of the reference cluster r is the maximum FScore value over all the clusters as\n",
      "\n",
      "$F_r = max_c F_{r,c}$"
     ]
    },
    {
     "cell_type": "markdown",
     "metadata": {},
     "source": [
      "The overall FScore is defined as\n",
      "\n",
      "\n",
      "$FScore = \\sum_r \\frac {n_r}{n} F_r$\n",
      "\n",
      "In general, the higher the FScore, the better the clustering result"
     ]
    },
    {
     "cell_type": "code",
     "collapsed": false,
     "input": [
      "def getFScore(references, clusters, referencesNum, clustersNum, Nrc):  \n",
      "    size = len(clusters)\n",
      "    R = [[ Nrc[r][c] / clustersNum for c in range (clustersNum)] for r in range (referencesNum)]\n",
      "    P = [[ Nrc[r][c] /referencesNum for c in range (clustersNum)] for r in range (referencesNum)]\n",
      "    F = [[ 2*R[r][c] * P[r][c] / (R[r][c] + P[r][c]) for c in range (clustersNum) ] for r in range (referencesNum)]\n",
      "    \n",
      "    Fr = [ 0 for r in range (referencesNum)]\n",
      "    \n",
      "    for r in range (referencesNum):\n",
      "        maxTmp = 0\n",
      "        for c in range (clustersNum):\n",
      "            if(maxTmp < F[r][c]):\n",
      "                maxTmp = F[r][c]\n",
      "        Fr[r] = maxTmp\n",
      "    sumTmp = 0\n",
      "    \n",
      "    Nr = [0 for r in range (referencesNum)]\n",
      "    \n",
      "    for i in range (size):\n",
      "        Nr[references[i]] += 1\n",
      "    \n",
      "    for r in range (referencesNum):\n",
      "        sumTmp += Nr[r] / size * Fr[r]\n",
      "        \n",
      "    return sumTmp"
     ],
     "language": "python",
     "metadata": {},
     "outputs": [],
     "prompt_number": 12
    },
    {
     "cell_type": "code",
     "collapsed": false,
     "input": [],
     "language": "python",
     "metadata": {},
     "outputs": []
    }
   ],
   "metadata": {}
  }
 ]
}