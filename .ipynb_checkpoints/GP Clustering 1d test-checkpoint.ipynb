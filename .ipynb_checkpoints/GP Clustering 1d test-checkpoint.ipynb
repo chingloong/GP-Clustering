{
 "metadata": {
  "name": ""
 },
 "nbformat": 3,
 "nbformat_minor": 0,
 "worksheets": [
  {
   "cells": [
    {
     "cell_type": "code",
     "collapsed": false,
     "input": [
      "from numpy import *\n",
      "import numpy as np\n",
      "import matplotlib\n",
      "import matplotlib.pyplot as plt\n",
      "import scipy\n",
      "\n",
      "#data generator\n",
      "size =100\n",
      "\n",
      "mu1, sigma1 = 1, 0.02 # mean and standard deviation\n",
      "s1 = np.random.normal(mu1, sigma1, size/2)\n",
      "\n",
      "mu2, sigma2 = 4, 0.1 # mean and standard deviation\n",
      "s2 = np.random.normal(mu2, sigma2, size/2)\n",
      "\n",
      "data = [0 for i in range (size)] \n",
      "\n",
      "for i in range(size):\n",
      "    if(i < len(s1)):\n",
      "        data[i] = s1[i]\n",
      "    else:\n",
      "        data[i] = s2[i-len(s1)]\n",
      "\n",
      "print len(data)"
     ],
     "language": "python",
     "metadata": {},
     "outputs": [
      {
       "output_type": "stream",
       "stream": "stdout",
       "text": [
        "100\n"
       ]
      }
     ],
     "prompt_number": 647
    },
    {
     "cell_type": "code",
     "collapsed": false,
     "input": [
      "def plotScatter(X,title,c):\n",
      "    fig = plt.figure()\n",
      "    ax = fig.add_subplot(111)\n",
      "    ax.plot(X,[0 for i in range(size)],c+'.')\n",
      "    ax.set_title(title)\n",
      "    plt.show()\n",
      "    \n",
      "def plotLine(data,X,Y,title,c):\n",
      "    fig = plt.figure()\n",
      "    ax = fig.add_subplot(111)\n",
      "    ax.plot(X,Y,c+'-')\n",
      "    ax.plot(data,[0 for i in range(size)],\"r\"+'*')\n",
      "    ax.set_title(title)\n",
      "    plt.show()"
     ],
     "language": "python",
     "metadata": {},
     "outputs": [],
     "prompt_number": 648
    },
    {
     "cell_type": "code",
     "collapsed": false,
     "input": [
      "plotScatter(data,\"scatter plot\",\"r\");"
     ],
     "language": "python",
     "metadata": {},
     "outputs": [
      {
       "metadata": {},
       "output_type": "display_data",
       "png": "[encoded data removed]",
       "text": [
        "<matplotlib.figure.Figure at 0x50c4650>"
       ]
      }
     ],
     "prompt_number": 649
    },
    {
     "cell_type": "code",
     "collapsed": false,
     "input": [
      "#Calculate Covariance Matrix C\n",
      "def kernelFunction(x1, x2):\n",
      "    c = 0;\n",
      "    c += (x1 - x2) **2\n",
      "\n",
      "    c = math.exp(- 0.5 * c)\n",
      "    return c"
     ],
     "language": "python",
     "metadata": {},
     "outputs": [],
     "prompt_number": 650
    },
    {
     "cell_type": "code",
     "collapsed": false,
     "input": [
      "#test kernel function\n",
      "print(kernelFunction(4,3))"
     ],
     "language": "python",
     "metadata": {},
     "outputs": [
      {
       "output_type": "stream",
       "stream": "stdout",
       "text": [
        "0.606530659713\n"
       ]
      }
     ],
     "prompt_number": 651
    },
    {
     "cell_type": "code",
     "collapsed": false,
     "input": [
      "#calculate the whole covariance matrix \n",
      "def getCovarianceMatrix(data):\n",
      "    C = [[ 0 for i in range (size)] for j in range (size)]\n",
      "    for i in range (size):\n",
      "        for j in range (size):\n",
      "            C[i][j] = kernelFunction(data[i], data[j])\n",
      "    return matrix(C)"
     ],
     "language": "python",
     "metadata": {},
     "outputs": [],
     "prompt_number": 652
    },
    {
     "cell_type": "code",
     "collapsed": false,
     "input": [
      "C = getCovarianceMatrix(data)\n",
      "#print C"
     ],
     "language": "python",
     "metadata": {},
     "outputs": [],
     "prompt_number": 653
    },
    {
     "cell_type": "code",
     "collapsed": false,
     "input": [
      "#calculate matrix k for new data point x \n",
      "def getMatrix_k(x, data):\n",
      "    k = [ 0 for i in range (size) ]\n",
      "    for i in range (size):\n",
      "        k[i] = kernelFunction(x, data[i])\n",
      "    return matrix(k).T"
     ],
     "language": "python",
     "metadata": {},
     "outputs": [],
     "prompt_number": 621
    },
    {
     "cell_type": "code",
     "collapsed": false,
     "input": [
      "#test getMatrix_k\n",
      "k = getMatrix_k(0,data)\n",
      "#print(k)"
     ],
     "language": "python",
     "metadata": {},
     "outputs": [],
     "prompt_number": 622
    },
    {
     "cell_type": "code",
     "collapsed": false,
     "input": [
      "#calcalate the variance for a given point x\n",
      "def varianceFunction(x, data, C):\n",
      "    k = getMatrix_k(x,data)\n",
      "    result = kernelFunction(x,x) - k.T * C.I * k\n",
      "    return result[0,0]"
     ],
     "language": "python",
     "metadata": {},
     "outputs": [],
     "prompt_number": 623
    },
    {
     "cell_type": "code",
     "collapsed": false,
     "input": [
      "varianceFunction(1, data, C)"
     ],
     "language": "python",
     "metadata": {},
     "outputs": [
      {
       "metadata": {},
       "output_type": "pyout",
       "prompt_number": 624,
       "text": [
        "2.9217217534238671e-10"
       ]
      }
     ],
     "prompt_number": 624
    },
    {
     "cell_type": "code",
     "collapsed": false,
     "input": [
      "np.linalg.inv(C) * C"
     ],
     "language": "python",
     "metadata": {},
     "outputs": [
      {
       "metadata": {},
       "output_type": "pyout",
       "prompt_number": 625,
       "text": [
        "matrix([[  1.00000000e+00,   3.98885924e-11,   2.56363819e-11,\n",
        "           2.56079602e-11],\n",
        "        [ -3.86115584e-11,   1.00000000e+00,  -2.56079602e-11,\n",
        "          -2.56008548e-11],\n",
        "        [  8.32667268e-15,   1.07691633e-14,   1.00000000e+00,\n",
        "           0.00000000e+00],\n",
        "        [ -5.38458167e-15,  -2.05391260e-15,  -7.10542736e-15,\n",
        "           1.00000000e+00]])"
       ]
      }
     ],
     "prompt_number": 625
    },
    {
     "cell_type": "code",
     "collapsed": false,
     "input": [
      "grid = [0 + 0.1 * i for i in range (55) ]\n",
      "variances = [0 for i in range (55) ]\n",
      "for i in range (len(grid)):\n",
      "    variances[i] = varianceFunction(grid[i], data, C)\n",
      "\n",
      "plotLine(data,grid, variances , \"variance of the predictive value\" , \"g\")"
     ],
     "language": "python",
     "metadata": {},
     "outputs": [
      {
       "metadata": {},
       "output_type": "display_data",
       "png": "[encoded data removed]",
       "text": [
        "<matplotlib.figure.Figure at 0x50df2b0>"
       ]
      }
     ],
     "prompt_number": 632
    },
    {
     "cell_type": "code",
     "collapsed": false,
     "input": [
      "C.I * C"
     ],
     "language": "python",
     "metadata": {},
     "outputs": [
      {
       "metadata": {},
       "output_type": "pyout",
       "prompt_number": 633,
       "text": [
        "matrix([[  1.00000000e+00,   3.98885924e-11,   2.56363819e-11,\n",
        "           2.56079602e-11],\n",
        "        [ -3.86115584e-11,   1.00000000e+00,  -2.56079602e-11,\n",
        "          -2.56008548e-11],\n",
        "        [  8.32667268e-15,   1.07691633e-14,   1.00000000e+00,\n",
        "           0.00000000e+00],\n",
        "        [ -5.38458167e-15,  -2.05391260e-15,  -7.10542736e-15,\n",
        "           1.00000000e+00]])"
       ]
      }
     ],
     "prompt_number": 633
    },
    {
     "cell_type": "code",
     "collapsed": false,
     "input": [],
     "language": "python",
     "metadata": {},
     "outputs": [
      {
       "metadata": {},
       "output_type": "pyout",
       "prompt_number": 634,
       "text": [
        "matrix([[ 10038.25991346, -10037.91925842,     49.68916476,    -47.40908096],\n",
        "        [-10037.91925842,  10038.57918821,    -49.86510959,     47.5777292 ],\n",
        "        [    49.68916476,    -49.86510959,     58.77635475,    -58.26160403],\n",
        "        [   -47.40908096,     47.5777292 ,    -58.26160403,     58.75173607]])"
       ]
      }
     ],
     "prompt_number": 634
    },
    {
     "cell_type": "code",
     "collapsed": false,
     "input": [
      "eye(a.shape[0])"
     ],
     "language": "python",
     "metadata": {},
     "outputs": [
      {
       "metadata": {},
       "output_type": "pyout",
       "prompt_number": 638,
       "text": [
        "array([[ 1.,  0.,  0.,  0.],\n",
        "       [ 0.,  1.,  0.,  0.],\n",
        "       [ 0.,  0.,  1.,  0.],\n",
        "       [ 0.,  0.,  0.,  1.]])"
       ]
      }
     ],
     "prompt_number": 638
    },
    {
     "cell_type": "code",
     "collapsed": false,
     "input": [
      "a.shape"
     ],
     "language": "python",
     "metadata": {},
     "outputs": [
      {
       "metadata": {},
       "output_type": "pyout",
       "prompt_number": 639,
       "text": [
        "(4,)"
       ]
      }
     ],
     "prompt_number": 639
    },
    {
     "cell_type": "code",
     "collapsed": false,
     "input": [
      "a"
     ],
     "language": "python",
     "metadata": {},
     "outputs": [
      {
       "metadata": {},
       "output_type": "pyout",
       "prompt_number": 640,
       "text": [
        "array([1, 2, 3, 4])"
       ]
      }
     ],
     "prompt_number": 640
    },
    {
     "cell_type": "code",
     "collapsed": false,
     "input": [
      "from numpy.linalg import inv\n",
      "a = C\n",
      "ainv = a.I\n",
      "np.allclose(a * ainv, np.eye(100))"
     ],
     "language": "python",
     "metadata": {},
     "outputs": [
      {
       "metadata": {},
       "output_type": "pyout",
       "prompt_number": 654,
       "text": [
        "False"
       ]
      }
     ],
     "prompt_number": 654
    },
    {
     "cell_type": "code",
     "collapsed": false,
     "input": [],
     "language": "python",
     "metadata": {},
     "outputs": []
    }
   ],
   "metadata": {}
  }
 ]
}