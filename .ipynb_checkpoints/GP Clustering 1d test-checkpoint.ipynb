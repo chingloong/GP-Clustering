{
 "metadata": {
  "name": ""
 },
 "nbformat": 3,
 "nbformat_minor": 0,
 "worksheets": [
  {
   "cells": [
    {
     "cell_type": "code",
     "collapsed": false,
     "input": [
      "from numpy import *\n",
      "import numpy as np\n",
      "import matplotlib\n",
      "import matplotlib.pyplot as plt\n",
      "import scipy\n",
      "\n",
      "#data generator\n",
      "size = 300\n",
      "\n",
      "mu1, sigma1 = 1, 0.02 # mean and standard deviation\n",
      "s1 = np.random.normal(mu1, sigma1, size/3)\n",
      "\n",
      "mu2, sigma2 = 4, 0.1 # mean and standard deviation\n",
      "s2 = np.random.normal(mu2, sigma2, size/3)\n",
      "\n",
      "mu3, sigma3 = 2, 0.1 # mean and standard deviation\n",
      "s3 = np.random.normal(mu3, sigma3, size/6)\n",
      "\n",
      "mu4, sigma4 = 3, 0.1 # mean and standard deviation\n",
      "s4 = np.random.normal(mu4, sigma4, size/6)\n",
      "\n",
      "data =  np.concatenate((s1, s2 , s3 , s4)) \n",
      "\n",
      "\n",
      "print len(data)"
     ],
     "language": "python",
     "metadata": {},
     "outputs": [
      {
       "output_type": "stream",
       "stream": "stdout",
       "text": [
        "300\n"
       ]
      }
     ],
     "prompt_number": 1
    },
    {
     "cell_type": "code",
     "collapsed": false,
     "input": [
      "def plotScatter(X,title,c):\n",
      "    fig = plt.figure()\n",
      "    ax = fig.add_subplot(111)\n",
      "    ax.plot(X,[0 for i in range(size)],c+'.')\n",
      "    ax.set_title(title)\n",
      "    plt.show()\n",
      "    \n",
      "def plotLine(data,X,Y,title,c):\n",
      "    fig = plt.figure()\n",
      "    ax = fig.add_subplot(111)\n",
      "    ax.plot(X,Y,c+'-')\n",
      "    ax.plot(data,[0 for i in range(size)],\"r\"+'*')\n",
      "    ax.set_title(title)\n",
      "    plt.show()"
     ],
     "language": "python",
     "metadata": {},
     "outputs": [],
     "prompt_number": 2
    },
    {
     "cell_type": "code",
     "collapsed": false,
     "input": [
      "plotScatter(data,\"scatter plot\",\"r\");"
     ],
     "language": "python",
     "metadata": {},
     "outputs": [
      {
       "metadata": {},
       "output_type": "display_data",
       "png": "[encoded data removed]",
       "text": [
        "<matplotlib.figure.Figure at 0x7f90908>"
       ]
      }
     ],
     "prompt_number": 3
    },
    {
     "cell_type": "code",
     "collapsed": false,
     "input": [
      "#Calculate Covariance Matrix C\n",
      "def kernelFunction(x1, x2):\n",
      "    c = 0;\n",
      "    c += 10 * (x1 - x2) **2\n",
      "    c = math.exp(- 0.5 * c)\n",
      "    return c"
     ],
     "language": "python",
     "metadata": {},
     "outputs": [],
     "prompt_number": 4
    },
    {
     "cell_type": "code",
     "collapsed": false,
     "input": [
      "#test kernel function\n",
      "print(kernelFunction(4,3))"
     ],
     "language": "python",
     "metadata": {},
     "outputs": [
      {
       "output_type": "stream",
       "stream": "stdout",
       "text": [
        "0.00673794699909\n"
       ]
      }
     ],
     "prompt_number": 5
    },
    {
     "cell_type": "code",
     "collapsed": false,
     "input": [
      "#calculate the whole covariance matrix \n",
      "def getCovarianceMatrix(data):\n",
      "    C = [[ 0 for i in range (size)] for j in range (size)]\n",
      "    for i in range (size):\n",
      "        for j in range (size):\n",
      "            C[i][j] = kernelFunction(data[i], data[j])\n",
      "    return matrix(C)"
     ],
     "language": "python",
     "metadata": {},
     "outputs": [],
     "prompt_number": 6
    },
    {
     "cell_type": "code",
     "collapsed": false,
     "input": [
      "#calculate variance of dataset\n",
      "def getVariance(data):\n",
      "    return np.var(data)"
     ],
     "language": "python",
     "metadata": {},
     "outputs": [],
     "prompt_number": 7
    },
    {
     "cell_type": "code",
     "collapsed": false,
     "input": [
      "#calculate matrix k for new data point x \n",
      "def getMatrix_k(x, data):\n",
      "    k = [ 0 for i in range (size) ]\n",
      "    for i in range (size):\n",
      "        k[i] = kernelFunction(x, data[i])\n",
      "    return matrix(k).T"
     ],
     "language": "python",
     "metadata": {},
     "outputs": [],
     "prompt_number": 8
    },
    {
     "cell_type": "code",
     "collapsed": false,
     "input": [
      "#calculate inversion of Matrix A\n",
      "def getInversionMatrix(data, C):\n",
      "    var = getVariance(data)\n",
      "    return  (C + var * matrix(np.eye(size)) ).I \n"
     ],
     "language": "python",
     "metadata": {},
     "outputs": [],
     "prompt_number": 10
    },
    {
     "cell_type": "code",
     "collapsed": false,
     "input": [
      "#calcalate the variance for a given point x\n",
      "def varianceFunction(x, data, invA):\n",
      "    k = getMatrix_k(x,data)\n",
      "    result = kernelFunction(x,x) - k.T * invA * k #here add var*I to add noise te covariance matrix\n",
      "    return result[0,0] "
     ],
     "language": "python",
     "metadata": {},
     "outputs": [],
     "prompt_number": 11
    },
    {
     "cell_type": "code",
     "collapsed": false,
     "input": [
      "grid = [0 + 0.1 * i for i in range (55) ]\n",
      "variances = [0 for i in range (55) ]\n",
      "C = getCovarianceMatrix(data)\n",
      "invA = getInversionMatrix(data, C)\n",
      "for i in range (len(grid)):\n",
      "    variances[i] = varianceFunction(grid[i], data, invA)\n",
      "    \n",
      "plotLine(data,grid, variances , \"variance of the predictive value\" , \"g\")"
     ],
     "language": "python",
     "metadata": {},
     "outputs": [
      {
       "metadata": {},
       "output_type": "display_data",
       "png": "[encoded data removed]",
       "text": [
        "<matplotlib.figure.Figure at 0x8057278>"
       ]
      }
     ],
     "prompt_number": 13
    },
    {
     "cell_type": "code",
     "collapsed": false,
     "input": [
      "var = getVariance(data)\n",
      "a = (C + var * matrix(np.eye(size)) )"
     ],
     "language": "python",
     "metadata": {},
     "outputs": [],
     "prompt_number": 14
    },
    {
     "cell_type": "code",
     "collapsed": false,
     "input": [
      "a * invA"
     ],
     "language": "python",
     "metadata": {},
     "outputs": [
      {
       "metadata": {},
       "output_type": "pyout",
       "prompt_number": 15,
       "text": [
        "matrix([[  1.00000000e+00,  -4.63665835e-17,   1.74143198e-16, ...,\n",
        "           1.27054942e-21,  -5.08219768e-21,   0.00000000e+00],\n",
        "        [ -3.93970270e-16,   1.00000000e+00,  -4.77048956e-17, ...,\n",
        "          -1.27054942e-21,   8.47032947e-21,   3.38813179e-21],\n",
        "        [ -1.20268514e-16,   5.64462756e-16,   1.00000000e+00, ...,\n",
        "           1.27054942e-21,   1.01643954e-20,  -3.38813179e-21],\n",
        "        ..., \n",
        "        [  4.66529865e-22,   3.60650747e-22,  -2.54109884e-21, ...,\n",
        "           1.00000000e+00,  -2.05998413e-17,  -2.32723996e-16],\n",
        "        [ -5.92674909e-22,   8.48687308e-22,  -6.35274710e-22, ...,\n",
        "           2.49474920e-16,   1.00000000e+00,  -6.45100293e-18],\n",
        "        [  1.28647265e-21,   2.15480550e-21,  -5.47593566e-21, ...,\n",
        "           2.48824399e-17,  -2.50667542e-16,   1.00000000e+00]])"
       ]
      }
     ],
     "prompt_number": 15
    },
    {
     "cell_type": "code",
     "collapsed": false,
     "input": [],
     "language": "python",
     "metadata": {},
     "outputs": []
    }
   ],
   "metadata": {}
  }
 ]
}