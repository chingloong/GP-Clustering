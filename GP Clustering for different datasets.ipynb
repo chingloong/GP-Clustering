{
 "metadata": {
  "name": ""
 },
 "nbformat": 3,
 "nbformat_minor": 0,
 "worksheets": [
  {
   "cells": [
    {
     "cell_type": "markdown",
     "metadata": {},
     "source": [
      "#Algorithm Implementation\n"
     ]
    },
    {
     "cell_type": "code",
     "collapsed": false,
     "input": [
      "import numpy as np\n",
      "import matplotlib\n",
      "import matplotlib.pyplot as plt\n",
      "import scipy\n",
      "\n",
      "#plot the scatter plot\n",
      "def plotScatter(X,Y,title,c):\n",
      "    fig = plt.figure()\n",
      "    ax = fig.add_subplot(111)\n",
      "    ax.plot(X,Y,c+'.')\n",
      "    ax.set_title(title)\n",
      "    plt.show()\n",
      "\n",
      "def plotCluster(X,Y,clusters,title):\n",
      "#    fig = plt.figure()\n",
      " #   ax = fig.add_subplot(111)\n",
      "    \n",
      "    colors = np.arange(len(clusters))\n",
      "    t = [colors[(int)(clusters[i])]  for i in range (len(clusters))]\n",
      "    plt.scatter(X, Y, c=t)\n",
      "    plt.show()\n",
      "    \n",
      "def plotCluster2(X,Y,clusters,title):\n",
      "    fig = plt.figure()\n",
      "    ax = fig.add_subplot(111)\n",
      "\n",
      "    colors = ['r','g','b','c','m','y']   \n",
      "    c = [colors[((int)(clusters[i])-1) % len(colors)]  + '.' for i in range (len(clusters))]\n",
      "    \n",
      "    for i in range (len(X)):\n",
      "        ax.plot(X[i],Y[i],c[i])\n",
      "    ax.set_title(title)\n",
      "    plt.show() \n",
      "\n",
      "def plotHeatMap(heatmap, extent):\n",
      "    plt.clf()\n",
      "    plt.imshow(heatmap, extent=extent)\n",
      "    plt.colorbar()\n",
      "    plt.show()\n",
      "    \n",
      "#init parameters for the model\n",
      "# need to be determined for different dataset\n",
      "alpha = 1"
     ],
     "language": "python",
     "metadata": {},
     "outputs": [],
     "prompt_number": 1
    },
    {
     "cell_type": "markdown",
     "metadata": {},
     "source": [
      "##Step 1. Construct a variance function and compute the level value $r^* = max_{x_i} \\sigma ^2 (x_i) $"
     ]
    },
    {
     "cell_type": "code",
     "collapsed": false,
     "input": [
      "#Calculate Covariance Matrix C\n",
      "def kernelFunction(x1, x2):\n",
      "    c = 0.;\n",
      "    for i in range(len(x1)):\n",
      "        c += alpha * (x1[i] - x2[i]) **2\n",
      "\n",
      "    c = math.exp(- 0.5 * c)\n",
      "    return c\n",
      "\n",
      "#calculate the whole covariance matrix \n",
      "def getCovarianceMatrix(data):\n",
      "    size = len(data[0,:])\n",
      "    C = [[ 0. for i in range (size)] for j in range (size)]\n",
      "    for i in range (size):\n",
      "        for j in range (size):\n",
      "            C[i][j] = kernelFunction(data[:,i], data[:,j])\n",
      "    return matrix(C)  \n",
      "\n",
      "\n",
      "#TODO check how to calculate the variance\n",
      "#calculate variance of dataset\n",
      "def getVariance(data):\n",
      "    return np.var(data)\n",
      "\n",
      "#calculate inversion of Matrix A\n",
      "def getInversionMatrix(data, C):\n",
      "    size = len(data[0,:])\n",
      "    var = getVariance(data)\n",
      "    return  (C + var * matrix(np.eye(size)) ).I \n",
      "\n",
      "#calcalate the variance for a given point x\n",
      "def varianceFunction(x, data, inv):\n",
      "    size = len(data[0,:])\n",
      "    k = matrix( [kernelFunction(x, data[:,i]) for i in range (size)]).T\n",
      "    result = kernelFunction(x,x) - k.T * inv * k\n",
      "    return result[0,0]\n",
      "\n",
      "\n",
      "\n",
      "def getMaxVariance():\n",
      "    maxVars = 0.\n",
      "    maxIndex = 0\n",
      "    for i in range (size):\n",
      "        if(i == 0):\n",
      "            maxVar = varianceFunction(data[:,i], data, invA)\n",
      "            maxIndex = 0\n",
      "        else:\n",
      "            tmp = varianceFunction(data[:,i], data, invA)\n",
      "            if(tmp > maxVar):\n",
      "                maxVar = tmp\n",
      "                maxIndex = i\n",
      "    return maxVar, data[:,maxIndex]\n",
      "\n",
      "def getMaxVariances(num):\n",
      "    maxVars = [ 0. for i in range (num)]\n",
      "    variances = array([varianceFunction(data[:,i], data, invA) for i in range(size)])\n",
      "    sorted_vars = sort(variances)\n",
      "    for i in range (num):\n",
      "        maxVars[i] = sorted_vars[-1-i]\n",
      "    \n",
      "    return maxVars"
     ],
     "language": "python",
     "metadata": {},
     "outputs": [],
     "prompt_number": 2
    },
    {
     "cell_type": "markdown",
     "metadata": {},
     "source": [
      "##Step 2. Compute Stable Equilibrium Points\n"
     ]
    },
    {
     "cell_type": "code",
     "collapsed": false,
     "input": [
      "#nabla_variance_function\n",
      "def nablaVarianceFunction(x, data, inv):\n",
      "    size = len(data[0,:])\n",
      "    k = matrix( [kernelFunction(x, data[:,i]) for i in range (size)]).T\n",
      "    nablaK_x1 = matrix([ - kernelFunction(x, data[:,i]) * (x[0] - data[0,i]) for i in range (size)]).T\n",
      "    nablaK_x2 = matrix([ - kernelFunction(x, data[:,i]) * (x[1] - data[1,i]) for i in range (size)]).T\n",
      "    delta_x1 =  nablaK_x1.T * inv * k + k.T * inv * nablaK_x1 \n",
      "    delta_x2 =  nablaK_x2.T * inv * k + k.T * inv * nablaK_x2\n",
      "    return [delta_x1[0,0], delta_x2[0,0]]\n",
      "\n",
      "#gradient descent iteration\n",
      "def gradientDescentIteration(x, data, inv, ita):\n",
      "    delta_x = nablaVarianceFunction(x,data,inv)\n",
      "    #print \"delta_x:\" , delta_x\n",
      "    return [ x[i] + ita * delta_x[i] for i in range (len(x))]\n",
      "\n",
      "def getEquilibriumPoint(x,data,inv,ita,maxIteration):\n",
      "    x_old = x\n",
      "    iteration = 1\n",
      "    for i in range(maxIteration):\n",
      "        x_new = gradientDescentIteration(x_old,data,inv,ita)\n",
      "        if( (x_new[0] - x_old[0])/x_old[0] < 0.00001 and (x_new[1] - x_old[1])/x_old[1] < 0.00001):\n",
      "            break\n",
      "        else:\n",
      "            x_old = x_new\n",
      "            iteration += 1\n",
      "    print \"iteration: \" , iteration, \"x0: \", x, \"xt: \", x_new\n",
      "    return x_new\n",
      "\n",
      "def isExistInList(sepList, point, min_accepted_covariance):\n",
      "    for i in range (len(sepList)):\n",
      "        covariance = kernelFunction(sepList[i], point)\n",
      "        if(covariance > min_accepted_covariance):\n",
      "            return i\n",
      "    return -1\n",
      "\n",
      "def reduceSEPs(seps, min_accepted_covariance):\n",
      "    sepList = []\n",
      "    sepIndexMap = {}\n",
      "    for i in range (len(seps)):\n",
      "        index = isExistInList(sepList, [seps[i,0],seps[i,1]], min_accepted_covariance)\n",
      "        if index == -1 :\n",
      "            index = len(sepList)\n",
      "            sepList.append([seps[i,0],seps[i,1]])\n",
      "        sepIndexMap[i] = index\n",
      "    return array(sepList), sepIndexMap"
     ],
     "language": "python",
     "metadata": {},
     "outputs": [],
     "prompt_number": 3
    },
    {
     "cell_type": "markdown",
     "metadata": {},
     "source": [
      "##Step 3. Construct Adjacency Matrix A"
     ]
    },
    {
     "cell_type": "code",
     "collapsed": false,
     "input": [
      "def getGeometricDistance(x1, x2):\n",
      "    d = 0.\n",
      "    for i in range (len(x1)):\n",
      "        d += (x1[i] - x2[i])**2\n",
      "    return math.sqrt(d)\n",
      "\n",
      "def getAdjacencyMatrix(sepList, maxVar, pointsNumPerDistanceUnit):\n",
      "    A = [[ -1 for i in range (len(sepList))] for j in range (len(sepList)) ]\n",
      "    for i in range (len(sepList)):\n",
      "        for j in range (len(sepList)):\n",
      "            if(i == j ):\n",
      "                A[i][j] = 1\n",
      "            elif( i < j ):\n",
      "                isConnected = True\n",
      "                delta = sepList[i] - sepList[j]\n",
      "                distance = getGeometricDistance(sepList[i], sepList[j])\n",
      "                pointsNum = pointsNumPerDistanceUnit * distance\n",
      "                for m in range ((int)(pointsNum)):\n",
      "                    testPoint = sepList[j] + (m+1) * delta/pointsNum\n",
      "                    testVar = varianceFunction(testPoint, data, invA)\n",
      "                    if(testVar > maxVar):\n",
      "                        isConnected = False\n",
      "                        break\n",
      "                if isConnected is True:\n",
      "                    A[i][j] = 1\n",
      "                else:\n",
      "                    A[i][j] = 0\n",
      "            elif (i > j ):\n",
      "                A[i][j] = A[j][i]\n",
      "    return array(A)"
     ],
     "language": "python",
     "metadata": {},
     "outputs": [],
     "prompt_number": 4
    },
    {
     "cell_type": "markdown",
     "metadata": {},
     "source": [
      "##Step 4. Assign cluster Labels to training data Points"
     ]
    },
    {
     "cell_type": "code",
     "collapsed": false,
     "input": [
      "def getSEPsClusters(adjacencyMatrix, sepList):\n",
      "    clusters = [ -1 for i in range (len(sepList))]\n",
      "    clusterIndex = 1\n",
      "    for i in range (len(sepList)):\n",
      "        isNewCluster = True;\n",
      "        clusterNo = clusterIndex;\n",
      "        for j in range ( len(sepList)):\n",
      "            if adjacencyMatrix[i][j] == 1 and clusters[j] != -1:\n",
      "                isNewCluster = False\n",
      "                clusterNo = clusters[j]\n",
      "                break\n",
      "        for j in range ( i , len(sepList)):\n",
      "            if adjacencyMatrix[i][j] == 1:\n",
      "                clusters[j] = clusterNo\n",
      "        if isNewCluster:\n",
      "            clusterIndex += 1\n",
      "        \n",
      "    return clusters    \n",
      "\n",
      "def getPointClusters(sepsClusters, sepIndexMap):\n",
      "    clusters = [-1 for i in range (len(sepIndexMap))]\n",
      "    for i in range (len(sepIndexMap)):\n",
      "        clusters[i] = sepsClusters[sepIndexMap[i]]\n",
      "    return clusters"
     ],
     "language": "python",
     "metadata": {},
     "outputs": [],
     "prompt_number": 5
    },
    {
     "cell_type": "markdown",
     "metadata": {},
     "source": [
      "#Algorithm Test"
     ]
    },
    {
     "cell_type": "markdown",
     "metadata": {},
     "source": [
      "### 1. Test with Spiral Dataset"
     ]
    },
    {
     "cell_type": "code",
     "collapsed": false,
     "input": [
      "#init\n",
      "dataset = loadtxt(\"dataset\\spiral.txt\")\n",
      "data = array([dataset[:,0], dataset[:,1]])\n",
      "clusters = dataset[:,2]\n",
      "size = len(clusters)\n",
      "\n",
      "X = data[0,:]\n",
      "Y = data[1,:]\n",
      "dimension = 2\n",
      "alpha = 1\n",
      "plotScatter(X,Y,\"Scatter Plot\", 'g')"
     ],
     "language": "python",
     "metadata": {},
     "outputs": [
      {
       "metadata": {},
       "output_type": "display_data",
       "png": "[encoded data removed]",
       "text": [
        "<matplotlib.figure.Figure at 0x81d0b70>"
       ]
      }
     ],
     "prompt_number": 13
    },
    {
     "cell_type": "code",
     "collapsed": false,
     "input": [
      "#get Covariance Matrix\n",
      "C = getCovarianceMatrix(data)\n",
      "invA = getInversionMatrix(data, C)"
     ],
     "language": "python",
     "metadata": {},
     "outputs": [],
     "prompt_number": 14
    },
    {
     "cell_type": "code",
     "collapsed": false,
     "input": [
      "grid_x = [0 + 0.25 * i for i in range (140) ] \n",
      "grid_y = [35 - 0.25 * i for i in range (140) ] \n",
      "variances = [[0 for i in range (len(grid_x)) ] for j in range (len(grid_y))]\n",
      "\n",
      "for i in range (len(grid_y)):\n",
      "    for j in range (len(grid_x)):\n",
      "        variances[i][j] = varianceFunction([grid_x[j], grid_y[i]], data, invA)\n",
      "        \n",
      "heatmap = variances\n",
      "extent = [grid_x[0], grid_x[-1], grid_y[-1], grid_y[0]]\n",
      "\n",
      "plotHeatMap(heatmap, extent)"
     ],
     "language": "python",
     "metadata": {},
     "outputs": [
      {
       "metadata": {},
       "output_type": "display_data",
       "png": "[encoded data removed]",
       "text": [
        "<matplotlib.figure.Figure at 0x81ad588>"
       ]
      }
     ],
     "prompt_number": 15
    },
    {
     "cell_type": "code",
     "collapsed": false,
     "input": [
      "# to determin the cut level\n",
      "maxVars = getMaxVariances(100)\n",
      "print \"max variances: \", maxVars"
     ],
     "language": "python",
     "metadata": {},
     "outputs": [
      {
       "output_type": "stream",
       "stream": "stdout",
       "text": [
        "max variances:  [0.97490444899545936, 0.97411301339900247, 0.97406845750171667, 0.96797844548560041, 0.96668257275444025, 0.96637209365816867, 0.96606399595003767, 0.96605157260199914, 0.96577493717251905, 0.96554529691310709, 0.96548941049802928, 0.96534119519984474, 0.96523694209543454, 0.96515720761872537, 0.96510537437534016, 0.96493133713192136, 0.96488301755260764, 0.96485989372817693, 0.96465930203622885, 0.96465341479794198, 0.96455361801742279, 0.96447677940322618, 0.96438898965708675, 0.96429581669821651, 0.96418577313591003, 0.96405864833872434, 0.96399111868651988, 0.96399076553063379, 0.96398192794424831, 0.96395985074580026, 0.9639540036169113, 0.96355137561466297, 0.96346561622545879, 0.96339842517804719, 0.96332053142833174, 0.96314028943689123, 0.96310191078441887, 0.96309480097337485, 0.96299549668041995, 0.96273950589806379, 0.962727457492631, 0.96262281456432974, 0.96256917900217642, 0.9625381258096305, 0.96245480698489028, 0.96208970111850445, 0.96186219776760906, 0.9617556920058915, 0.96147967111607013, 0.9614321571548583, 0.96115195460300729, 0.96111022554211245, 0.96104592614913908, 0.96100238148787487, 0.9609759283826852, 0.96084290465211109, 0.96072861522310538, 0.96070171454464881, 0.96060425944652506, 0.96058361410618276, 0.9604334178218884, 0.96013685318993958, 0.95973171156955672, 0.95971477016537921, 0.95970471966544291, 0.95959275659028198, 0.95950650049325548, 0.95950506205962593, 0.95935615046696487, 0.95932966542255571, 0.95918955766384628, 0.95913788006455047, 0.95905970377609584, 0.95897876204835786, 0.95861669868835098, 0.95853741169116624, 0.95809154996549029, 0.95806499004892609, 0.95802502760200758, 0.95793870925841162, 0.95770460939768121, 0.95739568830254451, 0.95703425904572714, 0.95700242551570225, 0.95671797836867989, 0.95643892059583224, 0.95621970533273126, 0.956187296789617, 0.95612800804578379, 0.95611218169366641, 0.95610185128035696, 0.95595736807057818, 0.95587288144841542, 0.95586862356755919, 0.95576160223941398, 0.95576029479024327, 0.955615189154843, 0.95559676416769379, 0.95554436194779369, 0.95550600301004651]\n"
       ]
      }
     ],
     "prompt_number": 16
    },
    {
     "cell_type": "code",
     "collapsed": false,
     "input": [
      "#Get SEPs\n",
      "SEPs = array([getEquilibriumPoint(data[:,i], data, invA, 0.5, 10000) for i in range (size) ])\n",
      "sepList, sepIndexMap = reduceSEPs(SEPs, 0.99)\n",
      "print \"size of reduced SEPs: \" , len(sepList)\n",
      "plotScatter(sepList[:,0],sepList[:,1],\"reduced SEPs Scatter Plot\" ,\"r\")"
     ],
     "language": "python",
     "metadata": {},
     "outputs": [
      {
       "output_type": "stream",
       "stream": "stdout",
       "text": [
        "iteration:  1 x0:  [ 31.95   7.95] xt:  [31.94428683625468, 7.9453296250555798]\n",
        "iteration:  1 x0:  [ 31.15   7.3 ] xt:  [31.149332395836719, 7.298798034464598]\n",
        "iteration: "
       ]
      },
      {
       "output_type": "stream",
       "stream": "stdout",
       "text": [
        " 44 x0:  [ 30.45   6.65] xt:  [30.445361199463001, 6.6561731403732098]\n",
        "iteration: "
       ]
      },
      {
       "output_type": "stream",
       "stream": "stdout",
       "text": [
        " 39 x0:  [ 29.7   6. ] xt:  [29.663972057590204, 6.0166853660464641]\n",
        "iteration: "
       ]
      },
      {
       "output_type": "stream",
       "stream": "stdout",
       "text": [
        " 1249 x0:  [ 28.9    5.55] xt:  [29.33096388421065, 5.8061292945071958]\n",
        "iteration: "
       ]
      },
      {
       "output_type": "stream",
       "stream": "stdout",
       "text": [
        " 24 x0:  [ 28.05   5.  ] xt:  [28.035354598628899, 5.0045943471880703]\n",
        "iteration: "
       ]
      },
      {
       "output_type": "stream",
       "stream": "stdout",
       "text": [
        " 29 x0:  [ 27.2    4.55] xt:  [27.189651467672164, 4.5544783877672916]\n",
        "iteration: "
       ]
      },
      {
       "output_type": "stream",
       "stream": "stdout",
       "text": [
        " 2682 x0:  [ 26.35   4.15] xt:  [26.821773902245262, 4.3846091376151968]\n",
        "iteration:  1 x0:  [ 25.4    3.85] xt:  [25.398989311560683, 3.8497733971918144]\n",
        "iteration: "
       ]
      },
      {
       "output_type": "stream",
       "stream": "stdout",
       "text": [
        " 726 x0:  [ 24.6   3.6] xt:  [25.048242423212145, 3.741507481125895]\n",
        "iteration: "
       ]
      },
      {
       "output_type": "stream",
       "stream": "stdout",
       "text": [
        " 28 x0:  [ 23.6   3.3] xt:  [23.553429665976662, 3.3079514444625211]\n",
        "iteration: "
       ]
      },
      {
       "output_type": "stream",
       "stream": "stdout",
       "text": [
        " 88 x0:  [ 22.75   3.15] xt:  [22.752308778736921, 3.1671972122671725]\n",
        "iteration: "
       ]
      },
      {
       "output_type": "stream",
       "stream": "stdout",
       "text": [
        " 1500 x0:  [ 21.85   3.05] xt:  [22.664857452837332, 3.15534035381283]\n",
        "iteration:  1 x0:  [ 20.9   3. ] xt:  [20.89956263712233, 2.9996454950407023]\n",
        "iteration: "
       ]
      },
      {
       "output_type": "stream",
       "stream": "stdout",
       "text": [
        " 116 x0:  [ 20.    2.9] xt:  [19.987012234765153, 2.9526058352685145]\n",
        "iteration: "
       ]
      },
      {
       "output_type": "stream",
       "stream": "stdout",
       "text": [
        " 82 x0:  [ 19.1   3. ] xt:  [19.114955718117809, 3.0237705313174379]\n",
        "iteration:  1 x0:  [ 18.2   3.2] xt:  [18.199070970436672, 3.1989594540264501]\n",
        "iteration: "
       ]
      },
      {
       "output_type": "stream",
       "stream": "stdout",
       "text": [
        " 781 x0:  [ 17.3    3.25] xt:  [16.912102504167279, 3.3940330248393438]\n",
        "iteration: "
       ]
      },
      {
       "output_type": "stream",
       "stream": "stdout",
       "text": [
        " 610 x0:  [ 16.55   3.5 ] xt:  [16.806923095577773, 3.4201409459189605]\n",
        "iteration: "
       ]
      },
      {
       "output_type": "stream",
       "stream": "stdout",
       "text": [
        " 1492 x0:  [ 15.7   3.7] xt:  [16.806891033754447, 3.4201490819010387]\n",
        "iteration: "
       ]
      },
      {
       "output_type": "stream",
       "stream": "stdout",
       "text": [
        " 1138 x0:  [ 14.85   4.1 ] xt:  [14.162546362044367, 4.4054569152108716]\n",
        "iteration: "
       ]
      },
      {
       "output_type": "stream",
       "stream": "stdout",
       "text": [
        " 79 x0:  [ 14.15   4.4 ] xt:  [14.148755226039967, 4.4114687271453459]\n",
        "iteration: "
       ]
      },
      {
       "output_type": "stream",
       "stream": "stdout",
       "text": [
        " 2355 x0:  [ 13.4    4.75] xt:  [14.047272805878993, 4.459676991174474]\n",
        "iteration: "
       ]
      },
      {
       "output_type": "stream",
       "stream": "stdout",
       "text": [
        " 2998 x0:  [ 12.7   5.2] xt:  [11.533723562389641, 6.0976844566848909]\n",
        "iteration: "
       ]
      },
      {
       "output_type": "stream",
       "stream": "stdout",
       "text": [
        " 1893 x0:  [ 12.05   5.65] xt:  [11.533734012830646, 6.0976755753746144]\n",
        "iteration: "
       ]
      },
      {
       "output_type": "stream",
       "stream": "stdout",
       "text": [
        " 44 x0:  [ 11.45   6.15] xt:  [11.460541432618536, 6.1574576896109789]\n",
        "iteration: "
       ]
      },
      {
       "output_type": "stream",
       "stream": "stdout",
       "text": [
        " 1183 x0:  [ 10.9    6.65] xt:  [11.428454413208801, 6.1880625368223603]\n",
        "iteration: "
       ]
      },
      {
       "output_type": "stream",
       "stream": "stdout",
       "text": [
        " 1072 x0:  [ 10.3    7.25] xt:  [9.4806288218288355, 8.1991146023533901]\n",
        "iteration: "
       ]
      },
      {
       "output_type": "stream",
       "stream": "stdout",
       "text": [
        " 635 x0:  [ 9.7   7.85] xt:  [9.4805846998897216, 8.1991745149361801]\n",
        "iteration: "
       ]
      },
      {
       "output_type": "stream",
       "stream": "stdout",
       "text": [
        " 384 x0:  [ 9.35  8.35] xt:  [9.444715270569862, 8.2483378730701258]\n",
        "iteration: "
       ]
      },
      {
       "output_type": "stream",
       "stream": "stdout",
       "text": [
        " 39 x0:  [ 8.9   9.05] xt:  [8.9088593462994243, 9.0570953298835484]\n",
        "iteration: "
       ]
      },
      {
       "output_type": "stream",
       "stream": "stdout",
       "text": [
        " 2092 x0:  [ 8.55  9.65] xt:  [8.0287762686634352, 10.793730017824299]\n",
        "iteration: "
       ]
      },
      {
       "output_type": "stream",
       "stream": "stdout",
       "text": [
        " 1038 x0:  [  8.15  10.35] xt:  [8.0287723232760868, 10.79374101755845]\n",
        "iteration: "
       ]
      },
      {
       "output_type": "stream",
       "stream": "stdout",
       "text": [
        " 74 x0:  [  7.95  10.95] xt:  [7.9751105213742672, 10.946610572783245]\n",
        "iteration: "
       ]
      },
      {
       "output_type": "stream",
       "stream": "stdout",
       "text": [
        " 1516 x0:  [  7.75  11.7 ] xt:  [7.5498593252718988, 12.524538783829602]\n",
        "iteration: "
       ]
      },
      {
       "output_type": "stream",
       "stream": "stdout",
       "text": [
        " 681 x0:  [  7.55  12.35] xt:  [7.5498772884352299, 12.52444987058721]\n",
        "iteration: "
       ]
      },
      {
       "output_type": "stream",
       "stream": "stdout",
       "text": [
        " 44 x0:  [  7.45  13.  ] xt:  [7.4628254180193334, 13.006883931081278]\n",
        "iteration: "
       ]
      },
      {
       "output_type": "stream",
       "stream": "stdout",
       "text": [
        " 622 x0:  [  7.35  13.75] xt:  [7.3417844630254256, 14.262057544686275]\n",
        "iteration: "
       ]
      },
      {
       "output_type": "stream",
       "stream": "stdout",
       "text": [
        " 67 x0:  [  7.3   14.35] xt:  [7.3388345041002578, 14.332271751180988]\n",
        "iteration:  1 x0:  [  7.35  14.95] xt:  [7.3499876745975499, 14.94812743715417]\n",
        "iteration: "
       ]
      },
      {
       "output_type": "stream",
       "stream": "stdout",
       "text": [
        " 1234 x0:  [  7.35  15.75] xt:  [7.7021514189409057, 16.996817852374342]\n",
        "iteration: "
       ]
      },
      {
       "output_type": "stream",
       "stream": "stdout",
       "text": [
        " 932 x0:  [  7.55  16.35] xt:  [7.7021728208044093, 16.996900619061634]\n",
        "iteration: "
       ]
      },
      {
       "output_type": "stream",
       "stream": "stdout",
       "text": [
        " 204 x0:  [  7.7   16.95] xt:  [7.7021731707514238, 16.996901277387082]\n",
        "iteration: "
       ]
      },
      {
       "output_type": "stream",
       "stream": "stdout",
       "text": [
        " 44 x0:  [  7.8   17.55] xt:  [7.8386241936653036, 17.505821682492524]\n",
        "iteration: "
       ]
      },
      {
       "output_type": "stream",
       "stream": "stdout",
       "text": [
        " 28 x0:  [  8.05  18.15] xt:  [8.0604079083219418, 18.131566301807247]\n",
        "iteration: "
       ]
      },
      {
       "output_type": "stream",
       "stream": "stdout",
       "text": [
        " 1809 x0:  [  8.3   18.75] xt:  [8.9965528812799178, 19.878502878075079]\n",
        "iteration: "
       ]
      },
      {
       "output_type": "stream",
       "stream": "stdout",
       "text": [
        " 1088 x0:  [  8.65  19.3 ] xt:  [8.9966088883705311, 19.878585849134218]\n",
        "iteration: "
       ]
      },
      {
       "output_type": "stream",
       "stream": "stdout",
       "text": [
        " 318 x0:  [  8.9   19.85] xt:  [8.9965483875251309, 19.878496224287169]\n",
        "iteration:  1 x0:  [  9.3  20.3] xt:  [9.2995040124549178, 20.299089090113487]\n",
        "iteration: "
       ]
      },
      {
       "output_type": "stream",
       "stream": "stdout",
       "text": [
        " 23 x0:  [  9.65  20.8 ] xt:  [9.6677373675474652, 20.753768811545491]\n",
        "iteration: "
       ]
      },
      {
       "output_type": "stream",
       "stream": "stdout",
       "text": [
        " 1872 x0:  [ 10.2   21.25] xt:  [11.767690462563968, 22.554026146095612]\n",
        "iteration: "
       ]
      },
      {
       "output_type": "stream",
       "stream": "stdout",
       "text": [
        " 1111 x0:  [ 10.6   21.65] xt:  [11.767708432662012, 22.554037027657088]\n",
        "iteration: "
       ]
      },
      {
       "output_type": "stream",
       "stream": "stdout",
       "text": [
        " 763 x0:  [ 11.1   22.15] xt:  [11.767732687187292, 22.554051714534335]\n",
        "iteration: "
       ]
      },
      {
       "output_type": "stream",
       "stream": "stdout",
       "text": [
        " 514 x0:  [ 11.55  22.45] xt:  [11.767676689889967, 22.55401780617121]\n",
        "iteration: "
       ]
      },
      {
       "output_type": "stream",
       "stream": "stdout",
       "text": [
        " 16 x0:  [ 11.95  22.7 ] xt:  [11.955798303480092, 22.678982311757359]\n",
        "iteration: "
       ]
      },
      {
       "output_type": "stream",
       "stream": "stdout",
       "text": [
        " 768 x0:  [ 12.55  23.  ] xt:  [13.347411236336773, 23.306859543047903]\n",
        "iteration: "
       ]
      },
      {
       "output_type": "stream",
       "stream": "stdout",
       "text": [
        " 500 x0:  [ 13.05  23.2 ] xt:  [13.347449445751986, 23.306873061294869]\n",
        "iteration: "
       ]
      },
      {
       "output_type": "stream",
       "stream": "stdout",
       "text": [
        " 12 x0:  [ 13.45  23.4 ] xt:  [13.453939021536977, 23.370748485473975]\n",
        "iteration:  1 x0:  [ 14.    23.55] xt:  [13.99905857218857, 23.546720427391339]\n",
        "iteration: "
       ]
      },
      {
       "output_type": "stream",
       "stream": "stdout",
       "text": [
        " 12 x0:  [ 14.55  23.6 ] xt:  [14.540421432286937, 23.604656743553669]\n",
        "iteration: "
       ]
      },
      {
       "output_type": "stream",
       "stream": "stdout",
       "text": [
        " 1360 x0:  [ 15.1   23.75] xt:  [16.551147549543394, 23.784791202663175]\n",
        "iteration: "
       ]
      },
      {
       "output_type": "stream",
       "stream": "stdout",
       "text": [
        " 1026 x0:  [ 15.7   23.75] xt:  [16.551160614850541, 23.784790860679379]\n",
        "iteration: "
       ]
      },
      {
       "output_type": "stream",
       "stream": "stdout",
       "text": [
        " 772 x0:  [ 16.15  23.85] xt:  [16.551178526425009, 23.784790391811896]\n",
        "iteration:  1 x0:  [ 16.7  23.8] xt:  [16.699846774807096, 23.798731439666938]\n",
        "iteration:  1 x0:  [ 17.15  23.75] xt:  [17.150088472959339, 23.749955721340761]\n",
        "iteration: "
       ]
      },
      {
       "output_type": "stream",
       "stream": "stdout",
       "text": [
        " 1207 x0:  [ 17.75  23.75] xt:  [18.702601255092677, 23.450291274398442]\n",
        "iteration: "
       ]
      },
      {
       "output_type": "stream",
       "stream": "stdout",
       "text": [
        " 931 x0:  [ 18.2  23.6] xt:  [18.702637728874539, 23.450279830302161]\n",
        "iteration:  1 x0:  [ 18.65  23.5 ] xt:  [18.649668680852606, 23.497902688839638]\n",
        "iteration:  1 x0:  [ 19.1   23.35] xt:  [19.099660171453653, 23.34770437695035]\n",
        "iteration: "
       ]
      },
      {
       "output_type": "stream",
       "stream": "stdout",
       "text": [
        " 616 x0:  [ 19.6   23.15] xt:  [20.47584517542046, 22.614192594758535]\n",
        "iteration: "
       ]
      },
      {
       "output_type": "stream",
       "stream": "stdout",
       "text": [
        " 464 x0:  [ 20.    22.95] xt:  [20.475942909399279, 22.614125711296193]\n",
        "iteration:  1 x0:  [ 20.4  22.7] xt:  [20.399613318976822, 22.697756371533227]\n",
        "iteration:  1 x0:  [ 20.7   22.55] xt:  [20.696004630788078, 22.546051059687723]\n",
        "iteration: "
       ]
      },
      {
       "output_type": "stream",
       "stream": "stdout",
       "text": [
        " 563 x0:  [ 21.    22.15] xt:  [20.568160395312919, 22.549659092779418]\n",
        "iteration:  1 x0:  [ 21.45  21.95] xt:  [21.446800407391603, 21.943618015700494]\n",
        "iteration: "
       ]
      },
      {
       "output_type": "stream",
       "stream": "stdout",
       "text": [
        " 1606 x0:  [ 21.75  21.55] xt:  [23.128268100144158, 18.306824996996806]\n",
        "iteration: "
       ]
      },
      {
       "output_type": "stream",
       "stream": "stdout",
       "text": [
        " 1529 x0:  [ 22.    21.25] xt:  [23.128249490645178, 18.307299868681863]\n",
        "iteration:  1 x0:  [ 22.25  21.  ] xt:  [22.248793715671479, 20.994526295357897]\n",
        "iteration:  1 x0:  [ 22.5  20.7] xt:  [22.49443462808852, 20.69421491981986]\n",
        "iteration:  1 x0:  [ 22.65  20.35] xt:  [22.646030404476271, 20.34684448542702]\n",
        "iteration:  1 x0:  [ 22.75  20.05] xt:  [22.748181961519403, 20.048266138171829]\n",
        "iteration:  1 x0:  [ 22.9   19.65] xt:  [22.897987301320001, 19.647651284184384]\n",
        "iteration: "
       ]
      },
      {
       "output_type": "stream",
       "stream": "stdout",
       "text": [
        " 1 x0:  [ 23.    19.35] xt:  [22.997236859514498, 19.346407363698965]\n",
        "iteration:  1 x0:  [ 23.1  19. ] xt:  [23.095729102794746, 18.994558160217696]\n",
        "iteration:  1 x0:  [ 23.15  18.65] xt:  [23.146025162530758, 18.643686542077315]\n",
        "iteration:  1 x0:  [ 23.2   18.25] xt:  [23.193324870245259, 18.244625347300229]\n",
        "iteration:  1 x0:  [ 23.2   18.05] xt:  [23.192711335912097, 18.045868035814685]\n",
        "iteration:  1 x0:  [ 23.2  17.8] xt:  [23.190279510356223, 17.797422306792932]\n",
        "iteration: "
       ]
      },
      {
       "output_type": "stream",
       "stream": "stdout",
       "text": [
        " 1 x0:  [ 23.1   17.45] xt:  [23.093048654965902, 17.446179704533215]\n",
        "iteration:  1 x0:  [ 23.05  17.15] xt:  [23.038321989541728, 17.144050073276834]\n",
        "iteration:  1 x0:  [ 22.9  16.9] xt:  [22.892172980141897, 16.887665407691408]\n",
        "iteration:  1 x0:  [ 22.85  16.6 ] xt:  [22.83184008252881, 16.587827637051721]\n",
        "iteration:  1 x0:  [ 22.7  16.4] xt:  [22.685154507765105, 16.383971032079302]\n",
        "iteration:  1 x0:  [ 22.6  16.2] xt:  [22.58311900953581, 16.185305390649837]\n",
        "iteration: "
       ]
      },
      {
       "output_type": "stream",
       "stream": "stdout",
       "text": [
        " 1 x0:  [ 22.55  16.05] xt:  [22.528807373402241, 16.039796094675228]\n",
        "iteration:  1 x0:  [ 22.4   15.95] xt:  [22.38861993978664, 15.936241103758906]\n",
        "iteration:  1 x0:  [ 22.35  15.8 ] xt:  [22.334600491768072, 15.793830998690792]\n",
        "iteration:  1 x0:  [ 22.2   15.65] xt:  [22.192874105297619, 15.647246530195611]\n",
        "iteration: "
       ]
      },
      {
       "output_type": "stream",
       "stream": "stdout",
       "text": [
        " 11 x0:  [ 22.15  15.55] xt:  [22.111498380872209, 15.565958230534505]\n",
        "iteration: "
       ]
      },
      {
       "output_type": "stream",
       "stream": "stdout",
       "text": [
        " 71 x0:  [ 22.   15.4] xt:  [22.095636593317703, 15.555915912936953]\n",
        "iteration: "
       ]
      },
      {
       "output_type": "stream",
       "stream": "stdout",
       "text": [
        " 80 x0:  [ 21.9  15.3] xt:  [22.095634975617305, 15.555913990909588]\n",
        "iteration: "
       ]
      },
      {
       "output_type": "stream",
       "stream": "stdout",
       "text": [
        " 83 x0:  [ 21.85  15.25] xt:  [22.095635377235723, 15.555914492830153]\n",
        "iteration: "
       ]
      },
      {
       "output_type": "stream",
       "stream": "stdout",
       "text": [
        " 87 x0:  [ 21.75  15.15] xt:  [22.095568274319092, 15.555831653427784]\n",
        "iteration: "
       ]
      },
      {
       "output_type": "stream",
       "stream": "stdout",
       "text": [
        " 91 x0:  [ 21.65  15.05] xt:  [22.095628203892911, 15.555905641886836]\n",
        "iteration: "
       ]
      },
      {
       "output_type": "stream",
       "stream": "stdout",
       "text": [
        " 93 x0:  [ 21.55  15.  ] xt:  [22.095606013897385, 15.555878249611002]\n",
        "iteration: "
       ]
      },
      {
       "output_type": "stream",
       "stream": "stdout",
       "text": [
        " 95 x0:  [ 21.5  14.9] xt:  [22.095598187145644, 15.555868584429032]\n",
        "iteration: "
       ]
      },
      {
       "output_type": "stream",
       "stream": "stdout",
       "text": [
        " 3220 x0:  [ 19.35  31.65] xt:  [21.779373627982306, 30.998966234856209]\n",
        "iteration:  1 x0:  [ 20.35  31.45] xt:  [20.35013715031894, 31.448997343118247]\n",
        "iteration: "
       ]
      },
      {
       "output_type": "stream",
       "stream": "stdout",
       "text": [
        " 686 x0:  [ 21.35  31.1 ] xt:  [21.779322200809389, 30.998981466256414]\n",
        "iteration:  1 x0:  [ 22.25  30.9 ] xt:  [22.2488213326248, 30.898598922054045]\n",
        "iteration: "
       ]
      },
      {
       "output_type": "stream",
       "stream": "stdout",
       "text": [
        " 508 x0:  [ 23.2   30.45] xt:  [23.556011523307511, 30.261725341424647]\n",
        "iteration: "
       ]
      },
      {
       "output_type": "stream",
       "stream": "stdout",
       "text": [
        " 221 x0:  [ 23.95  30.05] xt:  [23.770789387614979, 30.155855170126188]\n",
        "iteration:  1 x0:  [ 24.9   29.65] xt:  [24.899418506613955, 29.647530177239716]\n",
        "iteration: "
       ]
      },
      {
       "output_type": "stream",
       "stream": "stdout",
       "text": [
        " 11 x0:  [ 25.6   29.05] xt:  [25.602408841615631, 29.053714210511835]\n",
        "iteration:  1 x0:  [ 26.35  28.5 ] xt:  [26.349695838119988, 28.500093725376733]\n",
        "iteration: "
       ]
      },
      {
       "output_type": "stream",
       "stream": "stdout",
       "text": [
        " 462 x0:  [ 27.15  27.9 ] xt:  [27.469305371702305, 27.575054792297529]\n",
        "iteration:  1 x0:  [ 27.75  27.35] xt:  [27.748126912394444, 27.349509652153209]\n",
        "iteration: "
       ]
      },
      {
       "output_type": "stream",
       "stream": "stdout",
       "text": [
        " 993 x0:  [ 28.3  26.6] xt:  [27.605946120545632, 27.437092844572064]\n",
        "iteration: "
       ]
      },
      {
       "output_type": "stream",
       "stream": "stdout",
       "text": [
        " 1064 x0:  [ 28.95  25.85] xt:  [29.653503122148823, 24.885930197198682]\n",
        "iteration:  1 x0:  [ 29.5   25.15] xt:  [29.499833399179074, 25.148659729982551]\n",
        "iteration:  1 x0:  [ 29.95  24.45] xt:  [29.949471547851836, 24.449640320493078]\n",
        "iteration:  1 x0:  [ 30.4  23.7] xt:  [30.397641931695951, 23.698611132182826]\n",
        "iteration: "
       ]
      },
      {
       "output_type": "stream",
       "stream": "stdout",
       "text": [
        " 303 x0:  [ 30.6  22.9] xt:  [30.593739124922532, 22.984058680171543]\n",
        "iteration: "
       ]
      },
      {
       "output_type": "stream",
       "stream": "stdout",
       "text": [
        " 10 x0:  [ 30.9  22.1] xt:  [30.903516640296544, 22.098594826472119]\n",
        "iteration:  1 x0:  [ 31.25  21.3 ] xt:  [31.247739367970919, 21.298370444149128]\n",
        "iteration: "
       ]
      },
      {
       "output_type": "stream",
       "stream": "stdout",
       "text": [
        " 608 x0:  [ 31.35  20.55] xt:  [31.307267399023424, 20.778533789114029]\n",
        "iteration:  1 x0:  [ 31.5  19.7] xt:  [31.499061552652414, 19.699227067698274]\n",
        "iteration: "
       ]
      },
      {
       "output_type": "stream",
       "stream": "stdout",
       "text": [
        " 8 x0:  [ 31.55  18.9 ] xt:  [31.552791393038532, 18.89412563785384]\n",
        "iteration: "
       ]
      },
      {
       "output_type": "stream",
       "stream": "stdout",
       "text": [
        " 592 x0:  [ 31.65  18.15] xt:  [31.596169039984265, 18.314522172677901]\n",
        "iteration: "
       ]
      },
      {
       "output_type": "stream",
       "stream": "stdout",
       "text": [
        " 2455 x0:  [ 31.6   17.35] xt:  [31.596167041193524, 18.314577101746988]\n",
        "iteration:  1 x0:  [ 31.45  16.55] xt:  [31.449582271460084, 16.549370898374971]\n",
        "iteration:  1 x0:  [ 31.3  15.8] xt:  [31.299645645525292, 15.799512104345803]\n",
        "iteration:  2 x0:  [ 31.15  15.05] xt:  [31.146657719632064, 15.050304779938202]\n",
        "iteration: "
       ]
      },
      {
       "output_type": "stream",
       "stream": "stdout",
       "text": [
        " 6 x0:  [ 30.9   14.35] xt:  [30.894823022276547, 14.351030576295738]\n",
        "iteration: "
       ]
      },
      {
       "output_type": "stream",
       "stream": "stdout",
       "text": [
        " 11 x0:  [ 30.6   13.65] xt:  [30.595388699842914, 13.65190405995274]\n",
        "iteration: "
       ]
      },
      {
       "output_type": "stream",
       "stream": "stdout",
       "text": [
        " 1956 x0:  [ 30.3  13. ] xt:  [30.510317892342986, 13.484808269288893]\n",
        "iteration:  5 x0:  [ 29.9  12.3] xt:  [29.892612368732788, 12.300926150637915]\n",
        "iteration: "
       ]
      },
      {
       "output_type": "stream",
       "stream": "stdout",
       "text": [
        " 631 x0:  [ 29.5   11.75] xt:  [29.579970009447322, 11.893895267357955]\n",
        "iteration: "
       ]
      },
      {
       "output_type": "stream",
       "stream": "stdout",
       "text": [
        " 5 x0:  [ 29.    11.15] xt:  [28.9963957035731, 11.150708771340653]\n",
        "iteration:  1 x0:  [ 28.5  10.6] xt:  [28.498616008127737, 10.599470408157952]\n",
        "iteration: "
       ]
      },
      {
       "output_type": "stream",
       "stream": "stdout",
       "text": [
        " 153 x0:  [ 28.   10.1] xt:  [28.01734465647009, 10.125527628585266]\n",
        "iteration: "
       ]
      },
      {
       "output_type": "stream",
       "stream": "stdout",
       "text": [
        " 770 x0:  [ 27.55   9.65] xt:  [28.017386800881596, 10.125574857143963]\n",
        "iteration: "
       ]
      },
      {
       "output_type": "stream",
       "stream": "stdout",
       "text": [
        " 25 x0:  [ 26.9   9.1] xt:  [26.848880418953076, 9.1184788056459158]\n",
        "iteration:  1 x0:  [ 26.25   8.8 ] xt:  [26.249292469412261, 8.7976370428047712]\n",
        "iteration: "
       ]
      },
      {
       "output_type": "stream",
       "stream": "stdout",
       "text": [
        " 10 x0:  [ 25.7   8.4] xt:  [25.691345410759574, 8.4018005356895493]\n",
        "iteration: "
       ]
      },
      {
       "output_type": "stream",
       "stream": "stdout",
       "text": [
        " 59 x0:  [ 25.15   8.05] xt:  [25.124240592646576, 8.0891366194366459]\n",
        "iteration: "
       ]
      },
      {
       "output_type": "stream",
       "stream": "stdout",
       "text": [
        " 400 x0:  [ 24.5    7.75] xt:  [24.593841134076506, 7.8553227730677886]\n",
        "iteration: "
       ]
      },
      {
       "output_type": "stream",
       "stream": "stdout",
       "text": [
        " 1085 x0:  [ 23.9    7.65] xt:  [24.593840024403615, 7.8553223461594754]\n",
        "iteration: "
       ]
      },
      {
       "output_type": "stream",
       "stream": "stdout",
       "text": [
        " 28 x0:  [ 23.15   7.4 ] xt:  [23.107748346821818, 7.4135638813990159]\n",
        "iteration:  1 x0:  [ 22.5   7.3] xt:  [22.498979619734431, 7.2986470962009973]\n",
        "iteration: "
       ]
      },
      {
       "output_type": "stream",
       "stream": "stdout",
       "text": [
        " 380 x0:  [ 21.9   7.1] xt:  [22.050709309978821, 7.1824964967528482]\n",
        "iteration: "
       ]
      },
      {
       "output_type": "stream",
       "stream": "stdout",
       "text": [
        " 1026 x0:  [ 21.25   7.05] xt:  [22.050563826935193, 7.1824686150431818]\n",
        "iteration: "
       ]
      },
      {
       "output_type": "stream",
       "stream": "stdout",
       "text": [
        " 29 x0:  [ 20.5   7. ] xt:  [20.442297970501127, 7.0068863489969955]\n",
        "iteration: "
       ]
      },
      {
       "output_type": "stream",
       "stream": "stdout",
       "text": [
        " 432 x0:  [ 19.9    6.95] xt:  [19.326499784305241, 7.0483141626042087]\n",
        "iteration: "
       ]
      },
      {
       "output_type": "stream",
       "stream": "stdout",
       "text": [
        " 47 x0:  [ 19.25   7.05] xt:  [19.233040953763581, 7.0582192096356211]\n",
        "iteration: "
       ]
      },
      {
       "output_type": "stream",
       "stream": "stdout",
       "text": [
        " 645 x0:  [ 18.75   7.1 ] xt:  [19.067752730291833, 7.0795016100225538]\n",
        "iteration: "
       ]
      },
      {
       "output_type": "stream",
       "stream": "stdout",
       "text": [
        " 50 x0:  [ 18.05   7.25] xt:  [18.046268244427985, 7.2622779706489835]\n",
        "iteration: "
       ]
      },
      {
       "output_type": "stream",
       "stream": "stdout",
       "text": [
        " 3371 x0:  [ 17.5    7.35] xt:  [15.246049225671225, 8.4468628986820296]\n",
        "iteration: "
       ]
      },
      {
       "output_type": "stream",
       "stream": "stdout",
       "text": [
        " 2215 x0:  [ 16.9   7.6] xt:  [15.246012428606907, 8.4468860969850859]\n",
        "iteration: "
       ]
      },
      {
       "output_type": "stream",
       "stream": "stdout",
       "text": [
        " 1772 x0:  [ 16.35   7.8 ] xt:  [15.246024857043581, 8.4468782616046081]\n",
        "iteration: "
       ]
      },
      {
       "output_type": "stream",
       "stream": "stdout",
       "text": [
        " 1396 x0:  [ 15.8    8.05] xt:  [15.246094530151066, 8.4468343370925449]\n",
        "iteration: "
       ]
      },
      {
       "output_type": "stream",
       "stream": "stdout",
       "text": [
        " 722 x0:  [ 15.4    8.35] xt:  [15.246085584455246, 8.4468399767736084]\n",
        "iteration:  1 x0:  [ 14.9   8.7] xt:  [14.899291299246594, 8.698631607701099]\n",
        "iteration: "
       ]
      },
      {
       "output_type": "stream",
       "stream": "stdout",
       "text": [
        " 55 x0:  [ 14.45   8.9 ] xt:  [14.486912534003077, 8.9450048216532974]\n",
        "iteration: "
       ]
      },
      {
       "output_type": "stream",
       "stream": "stdout",
       "text": [
        " 5569 x0:  [ 13.95   9.3 ] xt:  [11.575483513104587, 14.247681599641917]\n",
        "iteration: "
       ]
      },
      {
       "output_type": "stream",
       "stream": "stdout",
       "text": [
        " 4999 x0:  [ 13.6    9.65] xt:  [11.575484364823559, 14.247642951941868]\n",
        "iteration: "
       ]
      },
      {
       "output_type": "stream",
       "stream": "stdout",
       "text": [
        " 4472 x0:  [ 13.25  10.1 ] xt:  [11.575482797587023, 14.247714078903185]\n",
        "iteration: "
       ]
      },
      {
       "output_type": "stream",
       "stream": "stdout",
       "text": [
        " 4122 x0:  [ 12.95  10.55] xt:  [11.575482120579823, 14.247744820049954]\n",
        "iteration: "
       ]
      },
      {
       "output_type": "stream",
       "stream": "stdout",
       "text": [
        " 3871 x0:  [ 12.65  10.9 ] xt:  [11.57548411430934, 14.247654317713678]\n",
        "iteration: "
       ]
      },
      {
       "output_type": "stream",
       "stream": "stdout",
       "text": [
        " 3583 x0:  [ 12.35  11.4 ] xt:  [11.575482140685033, 14.247743906984446]\n",
        "iteration: "
       ]
      },
      {
       "output_type": "stream",
       "stream": "stdout",
       "text": [
        " 3353 x0:  [ 12.2   11.75] xt:  [11.575483403860643, 14.247686557817172]\n",
        "iteration: "
       ]
      },
      {
       "output_type": "stream",
       "stream": "stdout",
       "text": [
        " 2704 x0:  [ 11.95  12.2 ] xt:  [11.575483846978514, 14.247666447912893]\n",
        "iteration: "
       ]
      },
      {
       "output_type": "stream",
       "stream": "stdout",
       "text": [
        " 1176 x0:  [ 11.8   12.65] xt:  [11.575482417595337, 14.247731332148566]\n",
        "iteration: "
       ]
      },
      {
       "output_type": "stream",
       "stream": "stdout",
       "text": [
        " 645 x0:  [ 11.75  13.05] xt:  [11.575481508304691, 14.247772630240478]\n",
        "iteration: "
       ]
      },
      {
       "output_type": "stream",
       "stream": "stdout",
       "text": [
        " 438 x0:  [ 11.55  13.6 ] xt:  [11.575481742504815, 14.247761991682504]\n",
        "iteration: "
       ]
      },
      {
       "output_type": "stream",
       "stream": "stdout",
       "text": [
        " 316 x0:  [ 11.55  14.  ] xt:  [11.575481939354106, 14.247753050656797]\n",
        "iteration: "
       ]
      },
      {
       "output_type": "stream",
       "stream": "stdout",
       "text": [
        " 37 x0:  [ 11.55  14.35] xt:  [11.573094722373419, 14.326952671472304]\n",
        "iteration: "
       ]
      },
      {
       "output_type": "stream",
       "stream": "stdout",
       "text": [
        " 33 x0:  [ 11.55  14.7 ] xt:  [11.578770217936732, 14.62279378195648]\n",
        "iteration: "
       ]
      },
      {
       "output_type": "stream",
       "stream": "stdout",
       "text": [
        " 3115 x0:  [ 11.6   15.25] xt:  [13.570949975888977, 18.798226345497731]\n",
        "iteration: "
       ]
      },
      {
       "output_type": "stream",
       "stream": "stdout",
       "text": [
        " 2776 x0:  [ 11.65  15.7 ] xt:  [13.570900177902844, 18.798185873181563]\n",
        "iteration: "
       ]
      },
      {
       "output_type": "stream",
       "stream": "stdout",
       "text": [
        " 2658 x0:  [ 11.8   16.05] xt:  [13.570975335519918, 18.798246955631825]\n",
        "iteration: "
       ]
      },
      {
       "output_type": "stream",
       "stream": "stdout",
       "text": [
        " 2450 x0:  [ 11.85  16.5 ] xt:  [13.570969932242852, 18.79824256433394]\n",
        "iteration: "
       ]
      },
      {
       "output_type": "stream",
       "stream": "stdout",
       "text": [
        " 2185 x0:  [ 12.    16.75] xt:  [13.570967497384361, 18.798240585495854]\n",
        "iteration: "
       ]
      },
      {
       "output_type": "stream",
       "stream": "stdout",
       "text": [
        " 1763 x0:  [ 12.15  17.2 ] xt:  [13.57101829759679, 18.798281870911811]\n",
        "iteration: "
       ]
      },
      {
       "output_type": "stream",
       "stream": "stdout",
       "text": [
        " 1570 x0:  [ 12.3  17.6] xt:  [13.570929743401136, 18.798209902073296]\n",
        "iteration: "
       ]
      },
      {
       "output_type": "stream",
       "stream": "stdout",
       "text": [
        " 1434 x0:  [ 12.55  17.85] xt:  [13.571011169799002, 18.798276078203887]\n",
        "iteration: "
       ]
      },
      {
       "output_type": "stream",
       "stream": "stdout",
       "text": [
        " 1297 x0:  [ 12.8   18.05] xt:  [13.57101051742479, 18.798275548023192]\n",
        "iteration: "
       ]
      },
      {
       "output_type": "stream",
       "stream": "stdout",
       "text": [
        " 1059 x0:  [ 13.1  18.4] xt:  [13.570913813935853, 18.798196955697382]\n",
        "iteration: "
       ]
      },
      {
       "output_type": "stream",
       "stream": "stdout",
       "text": [
        " 841 x0:  [ 13.3  18.6] xt:  [13.570969329574851, 18.798242074538813]\n",
        "iteration: "
       ]
      },
      {
       "output_type": "stream",
       "stream": "stdout",
       "text": [
        " 59 x0:  [ 13.55  18.85] xt:  [13.590620181876368, 18.814435077030303]\n",
        "iteration: "
       ]
      },
      {
       "output_type": "stream",
       "stream": "stdout",
       "text": [
        " 764 x0:  [ 13.8   19.05] xt:  [15.290122002904235, 19.704195492471648]\n",
        "iteration: "
       ]
      },
      {
       "output_type": "stream",
       "stream": "stdout",
       "text": [
        " 521 x0:  [ 14.15  19.25] xt:  [15.290190841633608, 19.704213809083075]\n",
        "iteration: "
       ]
      },
      {
       "output_type": "stream",
       "stream": "stdout",
       "text": [
        " 442 x0:  [ 14.45  19.5 ] xt:  [15.290171145637087, 19.704208568505191]\n",
        "iteration: "
       ]
      },
      {
       "output_type": "stream",
       "stream": "stdout",
       "text": [
        " 372 x0:  [ 14.85  19.55] xt:  [15.290164938304269, 19.704206916877769]\n",
        "iteration: "
       ]
      },
      {
       "output_type": "stream",
       "stream": "stdout",
       "text": [
        " 320 x0:  [ 15.   19.7] xt:  [15.290124953779877, 19.704196277667563]\n",
        "iteration: "
       ]
      },
      {
       "output_type": "stream",
       "stream": "stdout",
       "text": [
        " 137 x0:  [ 15.25  19.7 ] xt:  [15.290103149866271, 19.704190479910288]\n",
        "iteration:  3 x0:  [ 15.55  19.85] xt:  [15.550808720046152, 19.827376717478728]\n",
        "iteration: "
       ]
      },
      {
       "output_type": "stream",
       "stream": "stdout",
       "text": [
        " 595 x0:  [ 15.95  19.9 ] xt:  [17.333046613922214, 19.786461318431446]\n",
        "iteration: "
       ]
      },
      {
       "output_type": "stream",
       "stream": "stdout",
       "text": [
        " 297 x0:  [ 16.2  19.9] xt:  [17.333143660878189, 19.786444856174356]\n",
        "iteration: "
       ]
      },
      {
       "output_type": "stream",
       "stream": "stdout",
       "text": [
        " 210 x0:  [ 16.55  19.9 ] xt:  [17.333012029501642, 19.786467184460502]\n",
        "iteration: "
       ]
      },
      {
       "output_type": "stream",
       "stream": "stdout",
       "text": [
        " 168 x0:  [ 16.85  19.9 ] xt:  [17.333149967406403, 19.786443786470894]\n",
        "iteration: "
       ]
      },
      {
       "output_type": "stream",
       "stream": "stdout",
       "text": [
        " 112 x0:  [ 17.2  19.9] xt:  [17.333119807455518, 19.786449076342517]\n",
        "iteration:  1 x0:  [ 17.4  19.8] xt:  [17.397634728223704, 19.797604373553501]\n",
        "iteration:  1 x0:  [ 17.65  19.75] xt:  [17.637398876676247, 19.749745232311223]\n",
        "iteration: "
       ]
      },
      {
       "output_type": "stream",
       "stream": "stdout",
       "text": [
        " 74 x0:  [ 17.8  19.7] xt:  [17.370624525802601, 19.779898123804298]\n",
        "iteration: "
       ]
      },
      {
       "output_type": "stream",
       "stream": "stdout",
       "text": [
        " 83 x0:  [ 18.   19.6] xt:  [17.370455288106427, 19.779923264856794]\n",
        "iteration: "
       ]
      },
      {
       "output_type": "stream",
       "stream": "stdout",
       "text": [
        " 89 x0:  [ 18.2   19.55] xt:  [17.370775394755459, 19.779866517232598]\n",
        "iteration: "
       ]
      },
      {
       "output_type": "stream",
       "stream": "stdout",
       "text": [
        " 802 x0:  [ 3.9  9.6] xt:  [3.4114607659327918, 11.184673680861188]\n",
        "iteration: "
       ]
      },
      {
       "output_type": "stream",
       "stream": "stdout",
       "text": [
        " 557 x0:  [  3.55  10.65] xt:  [3.4114693323726191, 11.184641607224483]\n",
        "iteration: "
       ]
      },
      {
       "output_type": "stream",
       "stream": "stdout",
       "text": [
        " 414 x0:  [  3.35  11.4 ] xt:  [3.4001026778221446, 11.22744971651913]\n",
        "iteration: "
       ]
      },
      {
       "output_type": "stream",
       "stream": "stdout",
       "text": [
        " 2262 x0:  [  3.1   12.35] xt:  [3.0950550372565995, 13.159002079641059]\n",
        "iteration:  1 x0:  [  3.1   13.25] xt:  [3.0996713951391421, 13.250018871510092]\n",
        "iteration: "
       ]
      },
      {
       "output_type": "stream",
       "stream": "stdout",
       "text": [
        " 58 x0:  [  3.05  14.15] xt:  [3.0532188179647179, 14.12292572156707]\n",
        "iteration: "
       ]
      },
      {
       "output_type": "stream",
       "stream": "stdout",
       "text": [
        " 1979 x0:  [  3.   15.1] xt:  [3.1320084015863334, 16.204596366927088]\n",
        "iteration: "
       ]
      },
      {
       "output_type": "stream",
       "stream": "stdout",
       "text": [
        " 684 x0:  [  3.1  16. ] xt:  [3.1320087584625687, 16.204599098354901]\n",
        "iteration: "
       ]
      },
      {
       "output_type": "stream",
       "stream": "stdout",
       "text": [
        " 51 x0:  [  3.2   16.85] xt:  [3.2212624731461492, 16.797637127594346]\n",
        "iteration:  1 x0:  [  3.45  17.75] xt:  [3.4498473654041564, 17.74942064494364]\n",
        "iteration: "
       ]
      },
      {
       "output_type": "stream",
       "stream": "stdout",
       "text": [
        " 1410 x0:  [  3.7  18.7] xt:  [4.1177513717255776, 19.80615335852168]\n",
        "iteration: "
       ]
      },
      {
       "output_type": "stream",
       "stream": "stdout",
       "text": [
        " 804 x0:  [  3.95  19.55] xt:  [4.1177607527118507, 19.806174169415229]\n",
        "iteration:  1 x0:  [  4.35  20.25] xt:  [4.3489101725114994, 20.249670898587286]\n",
        "iteration: "
       ]
      },
      {
       "output_type": "stream",
       "stream": "stdout",
       "text": [
        " 1453 x0:  [  4.7  21.1] xt:  [5.0583979818946299, 21.643307660662177]\n",
        "iteration:  1 x0:  [  5.15  21.8 ] xt:  [5.1499725234962712, 21.799594228993044]\n",
        "iteration:  1 x0:  [  5.6  22.5] xt:  [5.5997229449268859, 22.498279876001785]\n",
        "iteration: "
       ]
      },
      {
       "output_type": "stream",
       "stream": "stdout",
       "text": [
        " 1361 x0:  [  6.2  23.3] xt:  [6.9472988324594249, 24.011509896120582]\n",
        "iteration: "
       ]
      },
      {
       "output_type": "stream",
       "stream": "stdout",
       "text": [
        " 780 x0:  [  6.8   23.85] xt:  [6.9472844948600834, 24.011495985457632]\n",
        "iteration: "
       ]
      },
      {
       "output_type": "stream",
       "stream": "stdout",
       "text": [
        " 17 x0:  [  7.35  24.45] xt:  [7.3554067690791616, 24.422562151861996]\n",
        "iteration:  1 x0:  [  8.05  24.95] xt:  [8.0496126941991157, 24.949190113869207]\n",
        "iteration: "
       ]
      },
      {
       "output_type": "stream",
       "stream": "stdout",
       "text": [
        " 2221 x0:  [  8.8   25.45] xt:  [10.211773604510057, 26.359087608871022]\n",
        "iteration: "
       ]
      },
      {
       "output_type": "stream",
       "stream": "stdout",
       "text": [
        " 1401 x0:  [  9.5  26. ] xt:  [10.211800383876145, 26.359101840585968]\n",
        "iteration:  1 x0:  [ 10.2   26.35] xt:  [10.200076344284284, 26.350156139079697]\n",
        "iteration: "
       ]
      },
      {
       "output_type": "stream",
       "stream": "stdout",
       "text": [
        " 17 x0:  [ 10.9   26.75] xt:  [10.904717118789735, 26.723602280158193]\n",
        "iteration:  1 x0:  [ 11.7  27. ] xt:  [11.699796050465219, 26.999942317392353]\n",
        "iteration:  1 x0:  [ 12.45  27.25] xt:  [12.44938987907689, 27.250097113362159]\n",
        "iteration: "
       ]
      },
      {
       "output_type": "stream",
       "stream": "stdout",
       "text": [
        " 705 x0:  [ 13.3  27.6] xt:  [14.178083574811891, 27.650227379520061]\n",
        "iteration: "
       ]
      },
      {
       "output_type": "stream",
       "stream": "stdout",
       "text": [
        " 331 x0:  [ 14.05  27.6 ] xt:  [14.178172575863091, 27.650237777243035]\n",
        "iteration:  1 x0:  [ 14.7   27.75] xt:  [14.69806422125364, 27.747796867324634]\n",
        "iteration:  1 x0:  [ 15.55  27.75] xt:  [15.54966933978643, 27.749704596161596]\n",
        "iteration: "
       ]
      },
      {
       "output_type": "stream",
       "stream": "stdout",
       "text": [
        " 2437 x0:  [ 16.4   27.75] xt:  [18.051381237121916, 27.72086209410395]\n",
        "iteration: "
       ]
      },
      {
       "output_type": "stream",
       "stream": "stdout",
       "text": [
        " 1751 x0:  [ 17.1   27.75] xt:  [18.051426231053711, 27.720859493358834]\n",
        "iteration: "
       ]
      },
      {
       "output_type": "stream",
       "stream": "stdout",
       "text": [
        " 470 x0:  [ 17.9   27.75] xt:  [18.051383664450249, 27.720861953813216]\n",
        "iteration:  1 x0:  [ 18.55  27.7 ] xt:  [18.548781082817339, 27.699183141875533]\n",
        "iteration:  1 x0:  [ 19.35  27.6 ] xt:  [19.349636237954194, 27.597597670843506]\n",
        "iteration: "
       ]
      },
      {
       "output_type": "stream",
       "stream": "stdout",
       "text": [
        " 593 x0:  [ 20.1   27.35] xt:  [20.397553227401932, 27.216059080520196]\n",
        "iteration:  1 x0:  [ 20.7  27.1] xt:  [20.699596651117908, 27.100019388282206]\n",
        "iteration:  1 x0:  [ 21.45  26.8 ] xt:  [21.450079382132831, 26.798851498028114]\n",
        "iteration:  1 x0:  [ 22.05  26.5 ] xt:  [22.0492140214348, 26.499561528389219]\n",
        "iteration:  1 x0:  [ 22.7   26.15] xt:  [22.699062202465569, 26.14822777194318]\n",
        "iteration: "
       ]
      },
      {
       "output_type": "stream",
       "stream": "stdout",
       "text": [
        " 595 x0:  [ 23.35  25.65] xt:  [23.904326477410134, 25.179580089858867]\n",
        "iteration:  1 x0:  [ 23.8  25.3] xt:  [23.799962671829419, 25.29855714654942]\n",
        "iteration:  1 x0:  [ 24.3   24.85] xt:  [24.298994041534915, 24.849315238126973]\n",
        "iteration: "
       ]
      },
      {
       "output_type": "stream",
       "stream": "stdout",
       "text": [
        " 1459 x0:  [ 24.75  24.35] xt:  [25.468504937012653, 23.632945687108904]\n",
        "iteration:  1 x0:  [ 25.25  23.95] xt:  [25.248703726065983, 23.947726215031409]\n",
        "iteration:  1 x0:  [ 25.65  23.45] xt:  [25.648902447063481, 23.449202629966585]\n",
        "iteration:  1 x0:  [ 26.05  23.  ] xt:  [26.044826755943046, 22.997741682588789]\n",
        "iteration: "
       ]
      },
      {
       "output_type": "stream",
       "stream": "stdout",
       "text": [
        " 1617 x0:  [ 26.2  22.3] xt:  [27.048882759810954, 20.331935567191195]\n",
        "iteration:  1 x0:  [ 26.6  21.8] xt:  [26.597250517832357, 21.796748913846734]\n",
        "iteration: "
       ]
      },
      {
       "output_type": "stream",
       "stream": "stdout",
       "text": [
        " 858 x0:  [ 26.75  21.25] xt:  [27.048962903246402, 20.33161444362721]\n",
        "iteration:  1 x0:  [ 27.   20.7] xt:  [26.997612511182179, 20.698060691475835]\n",
        "iteration:  1 x0:  [ 27.15  20.15] xt:  [27.147033324341436, 20.148444917362845]\n",
        "iteration: "
       ]
      },
      {
       "output_type": "stream",
       "stream": "stdout",
       "text": [
        " 40 x0:  [ 27.15  19.6 ] xt:  [27.193227815527457, 19.611210902252751]\n",
        "iteration:  1 x0:  [ 27.35  19.1 ] xt:  [27.345812223160348, 19.099456899208192]\n",
        "iteration:  1 x0:  [ 27.35  18.45] xt:  [27.348926428097446, 18.449024143916422]\n",
        "iteration:  1 x0:  [ 27.4  18. ] xt:  [27.39558211292033, 17.99968538900951]\n",
        "iteration:  1 x0:  [ 27.3  17.4] xt:  [27.297073893465864, 17.399827537425807]\n",
        "iteration:  1 x0:  [ 27.15  16.9 ] xt:  [27.149964268760492, 16.899237849741159]\n",
        "iteration: "
       ]
      },
      {
       "output_type": "stream",
       "stream": "stdout",
       "text": [
        " 301 x0:  [ 27.   16.4] xt:  [27.053311854403702, 16.463343246388334]\n",
        "iteration: "
       ]
      },
      {
       "output_type": "stream",
       "stream": "stdout",
       "text": [
        " 1074 x0:  [ 27.   15.9] xt:  [27.053303979472311, 16.463309855446209]\n",
        "iteration:  1 x0:  [ 26.75  15.35] xt:  [26.747556888977307, 15.349484955232732]\n",
        "iteration:  1 x0:  [ 26.55  14.85] xt:  [26.545218770431941, 14.849646721017704]\n",
        "iteration: "
       ]
      },
      {
       "output_type": "stream",
       "stream": "stdout",
       "text": [
        " 6 x0:  [ 26.3   14.45] xt:  [26.279661814583765, 14.451829289815823]\n",
        "iteration: "
       ]
      },
      {
       "output_type": "stream",
       "stream": "stdout",
       "text": [
        " 20 x0:  [ 25.95  14.1 ] xt:  [25.964179921898896, 14.081372364405757]\n",
        "iteration: "
       ]
      },
      {
       "output_type": "stream",
       "stream": "stdout",
       "text": [
        " 18 x0:  [ 25.75  13.7 ] xt:  [25.708922241272695, 13.714586058961554]\n",
        "iteration:  1 x0:  [ 25.35  13.3 ] xt:  [25.347370063086451, 13.29856539111006]\n",
        "iteration: "
       ]
      },
      {
       "output_type": "stream",
       "stream": "stdout",
       "text": [
        " 7 x0:  [ 25.05  12.95] xt:  [25.028663443304556, 12.952721397174841]\n",
        "iteration: "
       ]
      },
      {
       "output_type": "stream",
       "stream": "stdout",
       "text": [
        " 132 x0:  [ 24.8  12.7] xt:  [24.795585631017062, 12.774612346370626]\n",
        "iteration: "
       ]
      },
      {
       "output_type": "stream",
       "stream": "stdout",
       "text": [
        " 408 x0:  [ 24.4   12.45] xt:  [24.795556634901718, 12.774592024138185]\n",
        "iteration: "
       ]
      },
      {
       "output_type": "stream",
       "stream": "stdout",
       "text": [
        " 547 x0:  [ 24.05  12.2 ] xt:  [24.79556428950913, 12.774598611743542]\n",
        "iteration: "
       ]
      },
      {
       "output_type": "stream",
       "stream": "stdout",
       "text": [
        " 21 x0:  [ 23.55  11.85] xt:  [23.523533277725235, 11.864335435338052]\n",
        "iteration: "
       ]
      },
      {
       "output_type": "stream",
       "stream": "stdout",
       "text": [
        " 14 x0:  [ 23.2   11.65] xt:  [23.169203337456278, 11.658338515688573]\n",
        "iteration: "
       ]
      },
      {
       "output_type": "stream",
       "stream": "stdout",
       "text": [
        " 23 x0:  [ 22.75  11.4 ] xt:  [22.683552185369773, 11.43121538427939]\n",
        "iteration:  1 x0:  [ 22.3  11.3] xt:  [22.297101726165604, 11.29913390150074]\n",
        "iteration: "
       ]
      },
      {
       "output_type": "stream",
       "stream": "stdout",
       "text": [
        " 24 x0:  [ 21.9  11.1] xt:  [21.793539907006856, 11.141642435379548]\n",
        "iteration: "
       ]
      },
      {
       "output_type": "stream",
       "stream": "stdout",
       "text": [
        " 17 x0:  [ 21.45  11.05] xt:  [21.385070976006119, 11.06256975200959]\n",
        "iteration: "
       ]
      },
      {
       "output_type": "stream",
       "stream": "stdout",
       "text": [
        " 24 x0:  [ 21.1  11. ] xt:  [21.03703402532059, 11.019338945309595]\n",
        "iteration: "
       ]
      },
      {
       "output_type": "stream",
       "stream": "stdout",
       "text": [
        " 41 x0:  [ 20.7   10.95] xt:  [20.658211356364713, 10.995118535539486]\n",
        "iteration: "
       ]
      },
      {
       "output_type": "stream",
       "stream": "stdout",
       "text": [
        " 42 x0:  [ 20.35  10.95] xt:  [20.340446074325801, 10.990971874145794]\n",
        "iteration: "
       ]
      },
      {
       "output_type": "stream",
       "stream": "stdout",
       "text": [
        " 25 x0:  [ 19.95  11.  ] xt:  [19.935113268234861, 11.006386132668393]\n",
        "iteration: "
       ]
      },
      {
       "output_type": "stream",
       "stream": "stdout",
       "text": [
        " 1132 x0:  [ 19.55  11.  ] xt:  [16.010530373874737, 13.272959655363488]\n",
        "iteration: "
       ]
      },
      {
       "output_type": "stream",
       "stream": "stdout",
       "text": [
        " 928 x0:  [ 19.15  11.05] xt:  [16.010527194635163, 13.272965738448928]\n",
        "iteration: "
       ]
      },
      {
       "output_type": "stream",
       "stream": "stdout",
       "text": [
        " 786 x0:  [ 18.85  11.1 ] xt:  [16.010523060301761, 13.272973649042788]\n",
        "iteration: "
       ]
      },
      {
       "output_type": "stream",
       "stream": "stdout",
       "text": [
        " 556 x0:  [ 18.45  11.25] xt:  [16.010536589389623, 13.272947762840293]\n",
        "iteration: "
       ]
      },
      {
       "output_type": "stream",
       "stream": "stdout",
       "text": [
        " 404 x0:  [ 18.15  11.35] xt:  [16.010503262624244, 13.273011530565515]\n",
        "iteration: "
       ]
      },
      {
       "output_type": "stream",
       "stream": "stdout",
       "text": [
        " 312 x0:  [ 17.85  11.5 ] xt:  [16.010537488995979, 13.272946041579949]\n",
        "iteration: "
       ]
      },
      {
       "output_type": "stream",
       "stream": "stdout",
       "text": [
        " 260 x0:  [ 17.5  11.7] xt:  [16.010542065789071, 13.272937284624721]\n",
        "iteration: "
       ]
      },
      {
       "output_type": "stream",
       "stream": "stdout",
       "text": [
        " 232 x0:  [ 17.2   11.95] xt:  [16.010508672578904, 13.273001178844153]\n",
        "iteration: "
       ]
      },
      {
       "output_type": "stream",
       "stream": "stdout",
       "text": [
        " 219 x0:  [ 17.    12.05] xt:  [16.01053918650797, 13.272942793655989]\n",
        "iteration: "
       ]
      },
      {
       "output_type": "stream",
       "stream": "stdout",
       "text": [
        " 204 x0:  [ 16.75  12.2 ] xt:  [16.010530339625856, 13.272959720894331]\n",
        "iteration: "
       ]
      },
      {
       "output_type": "stream",
       "stream": "stdout",
       "text": [
        " 195 x0:  [ 16.65  12.35] xt:  [16.010499929691889, 13.273017908043251]\n",
        "iteration: "
       ]
      },
      {
       "output_type": "stream",
       "stream": "stdout",
       "text": [
        " 183 x0:  [ 16.5  12.5] xt:  [16.010515606696053, 13.272987910852917]\n",
        "iteration: "
       ]
      },
      {
       "output_type": "stream",
       "stream": "stdout",
       "text": [
        " 168 x0:  [ 16.35  12.7 ] xt:  [16.010485591438005, 13.273045344359451]\n",
        "iteration: "
       ]
      },
      {
       "output_type": "stream",
       "stream": "stdout",
       "text": [
        " 155 x0:  [ 16.2  12.8] xt:  [16.010539991898284, 13.272941252670154]\n",
        "iteration: "
       ]
      },
      {
       "output_type": "stream",
       "stream": "stdout",
       "text": [
        " 141 x0:  [ 16.15  12.95] xt:  [16.010550817065095, 13.272920540671475]\n",
        "iteration: "
       ]
      },
      {
       "output_type": "stream",
       "stream": "stdout",
       "text": [
        " 112 x0:  [ 16.   13.1] xt:  [16.010491546624905, 13.273033947880073]\n",
        "iteration: "
       ]
      },
      {
       "output_type": "stream",
       "stream": "stdout",
       "text": [
        " 26 x0:  [ 15.95  13.25] xt:  [16.007124058429724, 13.277813635492627]\n",
        "iteration: "
       ]
      },
      {
       "output_type": "stream",
       "stream": "stdout",
       "text": [
        " 83 x0:  [ 15.9  13.4] xt:  [16.003516621486774, 13.286467372545367]\n",
        "iteration: "
       ]
      },
      {
       "output_type": "stream",
       "stream": "stdout",
       "text": [
        " 101 x0:  [ 15.8  13.5] xt:  [16.00356647808923, 13.2863707908107]\n",
        "iteration: "
       ]
      },
      {
       "output_type": "stream",
       "stream": "stdout",
       "text": [
        " 112 x0:  [ 15.8   13.65] xt:  [16.003584127988994, 13.286336586094428]\n",
        "iteration: "
       ]
      },
      {
       "output_type": "stream",
       "stream": "stdout",
       "text": [
        " 122 x0:  [ 15.75  13.85] xt:  [16.003469606388034, 13.286558591236044]\n",
        "iteration: "
       ]
      },
      {
       "output_type": "stream",
       "stream": "stdout",
       "text": [
        " 131 x0:  [ 15.65  14.05] xt:  [16.003604139218908, 13.286297798978129]\n",
        "iteration: "
       ]
      },
      {
       "output_type": "stream",
       "stream": "stdout",
       "text": [
        " 136 x0:  [ 15.65  14.25] xt:  [16.003535399805642, 13.286431042305386]\n",
        "iteration: "
       ]
      },
      {
       "output_type": "stream",
       "stream": "stdout",
       "text": [
        " 142 x0:  [ 15.65  14.5 ] xt:  [16.003552601590833, 13.286397697057962]\n",
        "iteration: "
       ]
      },
      {
       "output_type": "stream",
       "stream": "stdout",
       "text": [
        " 144 x0:  [ 15.65  14.6 ] xt:  [16.003519879044227, 13.28646112988867]\n",
        "size of reduced SEPs: "
       ]
      },
      {
       "output_type": "stream",
       "stream": "stdout",
       "text": [
        " 188\n"
       ]
      },
      {
       "metadata": {},
       "output_type": "display_data",
       "png": "[encoded data removed]",
       "text": [
        "<matplotlib.figure.Figure at 0x7f99518>"
       ]
      }
     ],
     "prompt_number": 18
    },
    {
     "cell_type": "code",
     "collapsed": false,
     "input": [
      "#get adjacency matrix\n",
      "A = getAdjacencyMatrix(sepList, 0.98, 5)\n",
      "sepsClusters = getSEPsClusters(A, sepList)\n",
      "print sepsClusters\n",
      "plotCluster(sepList[:,0],sepList[:,1],sepsClusters,\"Scatter Plot\")"
     ],
     "language": "python",
     "metadata": {},
     "outputs": [],
     "prompt_number": "*"
    },
    {
     "cell_type": "code",
     "collapsed": false,
     "input": [],
     "language": "python",
     "metadata": {},
     "outputs": []
    }
   ],
   "metadata": {}
  }
 ]
}