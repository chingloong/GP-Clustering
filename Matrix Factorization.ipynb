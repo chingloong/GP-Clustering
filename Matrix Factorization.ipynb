{
 "metadata": {
  "name": ""
 },
 "nbformat": 3,
 "nbformat_minor": 0,
 "worksheets": [
  {
   "cells": [
    {
     "cell_type": "code",
     "collapsed": false,
     "input": [
      "import numpy\n",
      "\n",
      "def matrix_factorization(R, P, Q, K, steps=5000, alpha=0.0002, beta=0.02):\n",
      "    Q = Q.T\n",
      "    for step in xrange(steps):\n",
      "        for i in xrange(len(R)):\n",
      "            for j in xrange(len(R[i])):\n",
      "                if R[i][j] > 0:\n",
      "                    eij = R[i][j] - numpy.dot(P[i,:],Q[:,j])\n",
      "                    for k in xrange(K):\n",
      "                        P[i][k] = P[i][k] + alpha * (2 * eij * Q[k][j] - beta * P[i][k])\n",
      "                        Q[k][j] = Q[k][j] + alpha * (2 * eij * P[i][k] - beta * Q[k][j])\n",
      "        eR = numpy.dot(P,Q)\n",
      "        e = 0\n",
      "        for i in xrange(len(R)):\n",
      "            for j in xrange(len(R[i])):\n",
      "                if R[i][j] > 0:\n",
      "                    e = e + pow(R[i][j] - numpy.dot(P[i,:],Q[:,j]), 2)\n",
      "                    for k in xrange(K):\n",
      "                        e = e + (beta/2) * (pow(P[i][k],2) + pow(Q[k][j],2))\n",
      "        if e < 0.001:\n",
      "            break\n",
      "    return P, Q.T\n"
     ],
     "language": "python",
     "metadata": {},
     "outputs": [],
     "prompt_number": 2
    },
    {
     "cell_type": "code",
     "collapsed": false,
     "input": [
      "R = [\n",
      "     [5,3,0,1],\n",
      "     [4,0,0,1],\n",
      "     [1,1,0,5],\n",
      "     [1,0,0,4],\n",
      "     [0,1,5,4],\n",
      "    ]\n",
      "\n",
      "R = numpy.array(R)\n",
      "\n",
      "N = len(R)\n",
      "M = len(R[0])\n",
      "K = 2\n",
      "\n",
      "P = numpy.random.rand(N,K)\n",
      "Q = numpy.random.rand(M,K)\n",
      "\n",
      "nP, nQ = matrix_factorization(R, P, Q, K)\n",
      "nR = numpy.dot(nP, nQ.T)\n"
     ],
     "language": "python",
     "metadata": {},
     "outputs": [],
     "prompt_number": 3
    },
    {
     "cell_type": "code",
     "collapsed": false,
     "input": [
      "print nR"
     ],
     "language": "python",
     "metadata": {},
     "outputs": [
      {
       "output_type": "stream",
       "stream": "stdout",
       "text": [
        "[[ 5.00723588  2.89894903  5.16584103  0.99677124]\n",
        " [ 3.95339878  2.29442573  4.23616848  0.99649584]\n",
        " [ 1.09467092  0.76051493  4.69672242  4.96191291]\n",
        " [ 0.95328378  0.65297573  3.82803106  3.9725331 ]\n",
        " [ 2.0940425   1.30913995  4.88445804  4.0394211 ]]\n"
       ]
      }
     ],
     "prompt_number": 7
    },
    {
     "cell_type": "code",
     "collapsed": false,
     "input": [
      "R = [\n",
      "     [2,0,4],\n",
      "     [0,1,0],\n",
      "    ]\n",
      "\n",
      "R = numpy.array(R)\n",
      "\n",
      "N = len(R)\n",
      "M = len(R[0])\n",
      "K = 2\n",
      "\n",
      "P = numpy.random.rand(N,K)\n",
      "Q = numpy.random.rand(M,K)\n",
      "\n",
      "nP, nQ = matrix_factorization(R, P, Q, K)\n",
      "nR = numpy.dot(nP, nQ.T)"
     ],
     "language": "python",
     "metadata": {},
     "outputs": [],
     "prompt_number": 8
    },
    {
     "cell_type": "code",
     "collapsed": false,
     "input": [
      "print nR"
     ],
     "language": "python",
     "metadata": {},
     "outputs": [
      {
       "output_type": "stream",
       "stream": "stdout",
       "text": [
        "[[ 1.99394505  1.99189187  3.98627861]\n",
        " [ 0.8313018   0.89834068  1.69004147]]\n"
       ]
      }
     ],
     "prompt_number": 9
    },
    {
     "cell_type": "code",
     "collapsed": false,
     "input": [
      "print nP"
     ],
     "language": "python",
     "metadata": {},
     "outputs": [
      {
       "output_type": "stream",
       "stream": "stdout",
       "text": [
        "[[ 1.48466481  1.45321198]\n",
        " [ 0.48433881  0.76656926]]\n"
       ]
      }
     ],
     "prompt_number": 10
    },
    {
     "cell_type": "code",
     "collapsed": false,
     "input": [
      "print nQ"
     ],
     "language": "python",
     "metadata": {},
     "outputs": [
      {
       "output_type": "stream",
       "stream": "stdout",
       "text": [
        "[[ 0.73791174  0.61821225]\n",
        " [ 0.50994335  0.84970186]\n",
        " [ 1.38115864  1.33202933]]\n"
       ]
      }
     ],
     "prompt_number": 11
    },
    {
     "cell_type": "code",
     "collapsed": false,
     "input": [],
     "language": "python",
     "metadata": {},
     "outputs": []
    }
   ],
   "metadata": {}
  }
 ]
}