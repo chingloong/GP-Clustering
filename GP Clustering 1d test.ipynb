{
 "metadata": {
  "name": ""
 },
 "nbformat": 3,
 "nbformat_minor": 0,
 "worksheets": [
  {
   "cells": [
    {
     "cell_type": "code",
     "collapsed": false,
     "input": [
      "from numpy import *\n",
      "import numpy as np\n",
      "import matplotlib\n",
      "import matplotlib.pyplot as plt\n",
      "import scipy\n",
      "\n",
      "#data generator\n",
      "size = 300\n",
      "\n",
      "mu1, sigma1 = 1, 0.02 # mean and standard deviation\n",
      "s1 = np.random.normal(mu1, sigma1, size/3)\n",
      "\n",
      "mu2, sigma2 = 4, 0.1 # mean and standard deviation\n",
      "s2 = np.random.normal(mu2, sigma2, size/3)\n",
      "\n",
      "mu3, sigma3 = 1.7, 0.1 # mean and standard deviation\n",
      "s3 = np.random.normal(mu3, sigma3, size/6)\n",
      "\n",
      "mu4, sigma4 = 3.2, 0.1 # mean and standard deviation\n",
      "s4 = np.random.normal(mu4, sigma4, size/6)\n",
      "\n",
      "data =  np.concatenate((s1, s2 , s3 , s4)) \n",
      "\n",
      "\n",
      "print len(data)"
     ],
     "language": "python",
     "metadata": {},
     "outputs": [
      {
       "output_type": "stream",
       "stream": "stdout",
       "text": [
        "300\n"
       ]
      }
     ],
     "prompt_number": 17
    },
    {
     "cell_type": "code",
     "collapsed": false,
     "input": [
      "def plotScatter(X,title,c):\n",
      "    fig = plt.figure()\n",
      "    ax = fig.add_subplot(111)\n",
      "    ax.plot(X,[0 for i in range(size)],c+'.')\n",
      "    ax.set_title(title)\n",
      "    plt.show()\n",
      "    \n",
      "def plotLine(data,X,Y,title,c):\n",
      "    fig = plt.figure()\n",
      "    ax = fig.add_subplot(111)\n",
      "    ax.plot(X,Y,c+'-')\n",
      "    ax.plot(data,[0 for i in range(size)],\"r\"+'*')\n",
      "    ax.set_title(title)\n",
      "    plt.show()"
     ],
     "language": "python",
     "metadata": {},
     "outputs": [],
     "prompt_number": 18
    },
    {
     "cell_type": "code",
     "collapsed": false,
     "input": [
      "plotScatter(data,\"scatter plot\",\"r\");"
     ],
     "language": "python",
     "metadata": {},
     "outputs": [
      {
       "metadata": {},
       "output_type": "display_data",
       "png": "[encoded data removed]",
       "text": [
        "<matplotlib.figure.Figure at 0x80635f8>"
       ]
      }
     ],
     "prompt_number": 19
    },
    {
     "cell_type": "code",
     "collapsed": false,
     "input": [
      "#Calculate Covariance Matrix C\n",
      "def kernelFunction(x1, x2):\n",
      "    c = 0;\n",
      "    c += 10 * (x1 - x2) **2\n",
      "    c = math.exp(- 0.5 * c)\n",
      "    return c"
     ],
     "language": "python",
     "metadata": {},
     "outputs": [],
     "prompt_number": 20
    },
    {
     "cell_type": "code",
     "collapsed": false,
     "input": [
      "#test kernel function\n",
      "print(kernelFunction(4,3))"
     ],
     "language": "python",
     "metadata": {},
     "outputs": [
      {
       "output_type": "stream",
       "stream": "stdout",
       "text": [
        "0.00673794699909\n"
       ]
      }
     ],
     "prompt_number": 21
    },
    {
     "cell_type": "code",
     "collapsed": false,
     "input": [
      "#calculate the whole covariance matrix \n",
      "def getCovarianceMatrix(data):\n",
      "    C = [[ 0 for i in range (size)] for j in range (size)]\n",
      "    for i in range (size):\n",
      "        for j in range (size):\n",
      "            C[i][j] = kernelFunction(data[i], data[j])\n",
      "    return matrix(C)"
     ],
     "language": "python",
     "metadata": {},
     "outputs": [],
     "prompt_number": 22
    },
    {
     "cell_type": "code",
     "collapsed": false,
     "input": [
      "#calculate variance of dataset\n",
      "def getVariance(data):\n",
      "    return np.var(data)"
     ],
     "language": "python",
     "metadata": {},
     "outputs": [],
     "prompt_number": 23
    },
    {
     "cell_type": "code",
     "collapsed": false,
     "input": [
      "#calculate matrix k for new data point x \n",
      "def getMatrix_k(x, data):\n",
      "    k = [ 0 for i in range (size) ]\n",
      "    for i in range (size):\n",
      "        k[i] = kernelFunction(x, data[i])\n",
      "    return matrix(k).T"
     ],
     "language": "python",
     "metadata": {},
     "outputs": [],
     "prompt_number": 24
    },
    {
     "cell_type": "code",
     "collapsed": false,
     "input": [
      "#test getMatrix_k\n",
      "k = getMatrix_k(0,data)\n"
     ],
     "language": "python",
     "metadata": {},
     "outputs": [],
     "prompt_number": 25
    },
    {
     "cell_type": "code",
     "collapsed": false,
     "input": [
      "#calculate inversion of Matrix A\n",
      "def getInversionMatrix(data, C):\n",
      "    var = getVariance(data)\n",
      "    return  (C + var * matrix(np.eye(size)) ).I \n"
     ],
     "language": "python",
     "metadata": {},
     "outputs": [],
     "prompt_number": 26
    },
    {
     "cell_type": "code",
     "collapsed": false,
     "input": [
      "#calcalate the variance for a given point x\n",
      "def varianceFunction(x, data, invA):\n",
      "    k = getMatrix_k(x,data)\n",
      "    result = kernelFunction(x,x) - k.T * invA * k #here add var*I to add noise te covariance matrix\n",
      "    return result[0,0] "
     ],
     "language": "python",
     "metadata": {},
     "outputs": [],
     "prompt_number": 27
    },
    {
     "cell_type": "code",
     "collapsed": false,
     "input": [
      "grid = [0 + 0.1 * i for i in range (55) ]\n",
      "variances = [0 for i in range (55) ]\n",
      "C = getCovarianceMatrix(data)\n",
      "invA = getInversionMatrix(data, C)\n",
      "for i in range (len(grid)):\n",
      "    variances[i] = varianceFunction(grid[i], data, invA)\n",
      "    \n",
      "plotLine(data,grid, variances , \"variance of the predictive value\" , \"g\")"
     ],
     "language": "python",
     "metadata": {},
     "outputs": [
      {
       "metadata": {},
       "output_type": "display_data",
       "png": "[encoded data removed]",
       "text": [
        "<matplotlib.figure.Figure at 0x805e278>"
       ]
      }
     ],
     "prompt_number": 28
    },
    {
     "cell_type": "code",
     "collapsed": false,
     "input": [
      "var = getVariance(data)\n",
      "a = (C + var * matrix(np.eye(size)) )"
     ],
     "language": "python",
     "metadata": {},
     "outputs": [],
     "prompt_number": 29
    },
    {
     "cell_type": "code",
     "collapsed": false,
     "input": [
      "a * invA"
     ],
     "language": "python",
     "metadata": {},
     "outputs": [
      {
       "metadata": {},
       "output_type": "pyout",
       "prompt_number": 30,
       "text": [
        "matrix([[  1.00000000e+00,   9.39867758e-18,  -3.59955121e-17, ...,\n",
        "          -1.69406589e-21,  -1.27054942e-21,   0.00000000e+00],\n",
        "        [ -3.02709247e-16,   1.00000000e+00,   2.90186711e-16, ...,\n",
        "           2.54109884e-21,  -2.96461532e-21,  -1.05879118e-22],\n",
        "        [ -1.60461922e-16,   1.26113041e-16,   1.00000000e+00, ...,\n",
        "          -8.47032947e-22,   1.27054942e-21,   0.00000000e+00],\n",
        "        ..., \n",
        "        [  1.12827436e-21,   7.96161340e-24,   2.19202862e-23, ...,\n",
        "           1.00000000e+00,  -1.56287743e-16,  -7.13405029e-17],\n",
        "        [  4.50647998e-21,  -4.75628852e-23,   9.61597462e-23, ...,\n",
        "           1.65666092e-16,   1.00000000e+00,  -1.27610596e-16],\n",
        "        [ -1.86611946e-21,   2.97785021e-23,  -1.73707929e-22, ...,\n",
        "           1.04083409e-17,  -7.80625564e-17,   1.00000000e+00]])"
       ]
      }
     ],
     "prompt_number": 30
    },
    {
     "cell_type": "code",
     "collapsed": false,
     "input": [
      "m = [[4,2],[2,4]]"
     ],
     "language": "python",
     "metadata": {},
     "outputs": [],
     "prompt_number": 13
    },
    {
     "cell_type": "code",
     "collapsed": false,
     "input": [
      "m = matrix(m).I"
     ],
     "language": "python",
     "metadata": {},
     "outputs": [],
     "prompt_number": 14
    },
    {
     "cell_type": "code",
     "collapsed": false,
     "input": [
      "print m"
     ],
     "language": "python",
     "metadata": {},
     "outputs": [
      {
       "output_type": "stream",
       "stream": "stdout",
       "text": [
        "[[ 0.33333333 -0.16666667]\n",
        " [-0.16666667  0.33333333]]\n"
       ]
      }
     ],
     "prompt_number": 15
    },
    {
     "cell_type": "code",
     "collapsed": false,
     "input": [
      "m.I"
     ],
     "language": "python",
     "metadata": {},
     "outputs": [
      {
       "metadata": {},
       "output_type": "pyout",
       "prompt_number": 11,
       "text": [
        "matrix([[ 2.,  1.],\n",
        "        [ 1.,  2.]])"
       ]
      }
     ],
     "prompt_number": 11
    },
    {
     "cell_type": "code",
     "collapsed": false,
     "input": [
      "matrix([[0.33,-1.67],[-1.67,0.33]]) * [[6],[6]]"
     ],
     "language": "python",
     "metadata": {},
     "outputs": [
      {
       "metadata": {},
       "output_type": "pyout",
       "prompt_number": 12,
       "text": [
        "matrix([[-8.04],\n",
        "        [-8.04]])"
       ]
      }
     ],
     "prompt_number": 12
    },
    {
     "cell_type": "code",
     "collapsed": false,
     "input": [],
     "language": "python",
     "metadata": {},
     "outputs": []
    }
   ],
   "metadata": {}
  }
 ]
}