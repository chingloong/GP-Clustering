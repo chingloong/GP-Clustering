{
 "metadata": {
  "name": ""
 },
 "nbformat": 3,
 "nbformat_minor": 0,
 "worksheets": [
  {
   "cells": [
    {
     "cell_type": "code",
     "collapsed": false,
     "input": [
      "from numpy import *\n",
      "import numpy as np\n",
      "import matplotlib\n",
      "import matplotlib.pyplot as plt\n",
      "import scipy\n",
      "\n",
      "#data generator\n",
      "size = 300\n",
      "\n",
      "mu1, sigma1 = 1, 0.02 # mean and standard deviation\n",
      "s1 = np.random.normal(mu1, sigma1, size/3)\n",
      "\n",
      "mu2, sigma2 = 4, 0.1 # mean and standard deviation\n",
      "s2 = np.random.normal(mu2, sigma2, size/3)\n",
      "\n",
      "mu3, sigma3 = 2.2, 0.15 # mean and standard deviation\n",
      "s3 = np.random.normal(mu3, sigma3, size/6)\n",
      "\n",
      "mu4, sigma4 = 2.8, 0.1 # mean and standard deviation\n",
      "s4 = np.random.normal(mu4, sigma4, size/6)\n",
      "\n",
      "data =  np.concatenate((s1, s2 , s3 , s4)) \n",
      "\n",
      "\n",
      "print len(data)"
     ],
     "language": "python",
     "metadata": {},
     "outputs": [
      {
       "output_type": "stream",
       "stream": "stdout",
       "text": [
        "300\n"
       ]
      }
     ],
     "prompt_number": 4
    },
    {
     "cell_type": "code",
     "collapsed": false,
     "input": [
      "def plotScatter(X,title,c):\n",
      "    fig = plt.figure()\n",
      "    ax = fig.add_subplot(111)\n",
      "    ax.plot(X,[0 for i in range(size)],c+'.')\n",
      "    ax.set_title(title)\n",
      "    plt.show()\n",
      "    \n",
      "def plotLine(data,X,Y,title,c):\n",
      "    fig = plt.figure()\n",
      "    ax = fig.add_subplot(111)\n",
      "    ax.plot(X,Y,c+'-')\n",
      "    ax.plot(data,[0 for i in range(size)],\"r\"+'*')\n",
      "    ax.set_title(title)\n",
      "    plt.show()"
     ],
     "language": "python",
     "metadata": {},
     "outputs": [],
     "prompt_number": 5
    },
    {
     "cell_type": "code",
     "collapsed": false,
     "input": [
      "plotScatter(data,\"scatter plot\",\"r\");"
     ],
     "language": "python",
     "metadata": {},
     "outputs": [
      {
       "metadata": {},
       "output_type": "display_data",
       "png": "[encoded data removed]",
       "text": [
        "<matplotlib.figure.Figure at 0x7690198>"
       ]
      }
     ],
     "prompt_number": 6
    },
    {
     "cell_type": "code",
     "collapsed": false,
     "input": [
      "alpha = 1\n",
      "#Calculate Covariance Matrix C\n",
      "def kernelFunction(x1, x2):\n",
      "    c = 0.\n",
      "    c += alpha * (x1 - x2) **2\n",
      "    c = math.exp(- 0.5 * c)\n",
      "    return c"
     ],
     "language": "python",
     "metadata": {},
     "outputs": [],
     "prompt_number": 45
    },
    {
     "cell_type": "code",
     "collapsed": false,
     "input": [
      "#test kernel function\n",
      "print(kernelFunction(4,3))"
     ],
     "language": "python",
     "metadata": {},
     "outputs": [
      {
       "output_type": "stream",
       "stream": "stdout",
       "text": [
        "0.606530659713\n"
       ]
      }
     ],
     "prompt_number": 8
    },
    {
     "cell_type": "code",
     "collapsed": false,
     "input": [
      "#calculate the whole covariance matrix \n",
      "def getCovarianceMatrix(data):\n",
      "    C = [[ 0 for i in range (size)] for j in range (size)]\n",
      "    for i in range (size):\n",
      "        for j in range (size):\n",
      "            C[i][j] = kernelFunction(data[i], data[j])\n",
      "    return matrix(C)"
     ],
     "language": "python",
     "metadata": {},
     "outputs": [],
     "prompt_number": 9
    },
    {
     "cell_type": "code",
     "collapsed": false,
     "input": [
      "#calculate variance of dataset\n",
      "def getVariance(data):\n",
      "    return np.var(data)"
     ],
     "language": "python",
     "metadata": {},
     "outputs": [],
     "prompt_number": 10
    },
    {
     "cell_type": "code",
     "collapsed": false,
     "input": [
      "#calculate matrix k for new data point x \n",
      "def getMatrix_k(x, data):\n",
      "    k = [ 0 for i in range (size) ]\n",
      "    for i in range (size):\n",
      "        k[i] = kernelFunction(x, data[i])\n",
      "    return matrix(k).T"
     ],
     "language": "python",
     "metadata": {},
     "outputs": [],
     "prompt_number": 11
    },
    {
     "cell_type": "code",
     "collapsed": false,
     "input": [
      "#test getMatrix_k\n",
      "k = getMatrix_k(0,data)\n"
     ],
     "language": "python",
     "metadata": {},
     "outputs": [],
     "prompt_number": 12
    },
    {
     "cell_type": "code",
     "collapsed": false,
     "input": [
      "#calculate inversion of Matrix A\n",
      "def getInversionMatrix(data, C):\n",
      "    var = getVariance(data)\n",
      "    return  (C + var * matrix(np.eye(size)) ).I \n"
     ],
     "language": "python",
     "metadata": {},
     "outputs": [],
     "prompt_number": 13
    },
    {
     "cell_type": "code",
     "collapsed": false,
     "input": [
      "#calcalate the variance for a given point x\n",
      "def varianceFunction(x, data, invA):\n",
      "    k = getMatrix_k(x,data)\n",
      "    result = kernelFunction(x,x) - k.T * invA * k #here add var*I to add noise te covariance matrix\n",
      "    return result[0,0] "
     ],
     "language": "python",
     "metadata": {},
     "outputs": [],
     "prompt_number": 14
    },
    {
     "cell_type": "code",
     "collapsed": false,
     "input": [
      "grid = [0 + 0.1 * i for i in range (55) ]\n",
      "variances = [0 for i in range (55) ]\n",
      "C = getCovarianceMatrix(data)\n",
      "invA = getInversionMatrix(data, C)\n",
      "for i in range (len(grid)):\n",
      "    variances[i] = varianceFunction(grid[i], data, invA)\n",
      "    \n",
      "plotLine(data,grid, variances , \"variance of the predictive value\" , \"g\")"
     ],
     "language": "python",
     "metadata": {},
     "outputs": [
      {
       "metadata": {},
       "output_type": "display_data",
       "png": "[encoded data removed]",
       "text": [
        "<matplotlib.figure.Figure at 0x7728ef0>"
       ]
      }
     ],
     "prompt_number": 15
    },
    {
     "cell_type": "code",
     "collapsed": false,
     "input": [
      "var = getVariance(data)\n",
      "a = (C + var * matrix(np.eye(size)) )"
     ],
     "language": "python",
     "metadata": {},
     "outputs": [],
     "prompt_number": 63
    },
    {
     "cell_type": "markdown",
     "metadata": {},
     "source": [
      "# Gradient Descent"
     ]
    },
    {
     "cell_type": "code",
     "collapsed": false,
     "input": [
      "#nabla_variance_function\n",
      "def getDeltaX(x, data, inv):\n",
      "    size = len(data)\n",
      "    k = matrix( [kernelFunction(x, data[i]) for i in range (size)]).T\n",
      "    nablaK = matrix([ (-kernelFunction(x, data[i]) * (x - data[i])) for i in range (size)]).T\n",
      "    delta_x =  nablaK.T * inv * k + k.T * inv * nablaK \n",
      "    return delta_x[0,0]\n",
      "\n",
      "#gradient descent iteration\n",
      "def gradientDescentIteration(x, data, inv, ita):\n",
      "    delta_x = getDeltaX(x,data,inv)\n",
      "    return ( x + ita * delta_x )\n",
      "\n",
      "def getEquilibriumPoint(x,data,inv,ita,maxIteration):\n",
      "    x_old = x\n",
      "    iteration = 1\n",
      "    for i in range(maxIteration):\n",
      "        x_new = gradientDescentIteration(x_old,data,inv,ita)\n",
      "        if( (x_new - x_old)/x_old < 0.00001):\n",
      "            break\n",
      "        else:\n",
      "            x_old = x_new\n",
      "            iteration += 1\n",
      "    print \"iteration: \" , iteration, \"x0: \", x, \"xt: \", x_new\n",
      "    return x_new,iteration"
     ],
     "language": "python",
     "metadata": {},
     "outputs": [],
     "prompt_number": 65
    },
    {
     "cell_type": "code",
     "collapsed": false,
     "input": [
      "C = getCovarianceMatrix(data)\n",
      "invA = getInversionMatrix(data, C)\n",
      "SEPs = array([getEquilibriumPoint(data[i], data, invA, 0.1, 1000) for i in range (size) ])"
     ],
     "language": "python",
     "metadata": {},
     "outputs": [
      {
       "output_type": "stream",
       "stream": "stdout",
       "text": [
        "iteration:  80 x0:  0.973841839434 xt:  1.02604988517\n",
        "iteration: "
       ]
      },
      {
       "output_type": "stream",
       "stream": "stdout",
       "text": [
        " 83 x0:  0.958862009343 xt:  1.02604956162\n",
        "iteration: "
       ]
      },
      {
       "output_type": "stream",
       "stream": "stdout",
       "text": [
        " 71 x0:  1.00155217224 xt:  1.02605456465\n",
        "iteration: "
       ]
      },
      {
       "output_type": "stream",
       "stream": "stdout",
       "text": [
        " 73 x0:  0.996944793149 xt:  1.02605266741\n",
        "iteration: "
       ]
      },
      {
       "output_type": "stream",
       "stream": "stdout",
       "text": [
        " 75 x0:  0.990307026992 xt:  1.02604690087\n",
        "iteration: "
       ]
      },
      {
       "output_type": "stream",
       "stream": "stdout",
       "text": [
        " 65 x0:  1.01048862684 xt:  1.02605339781\n",
        "iteration: "
       ]
      },
      {
       "output_type": "stream",
       "stream": "stdout",
       "text": [
        " 59 x0:  1.01570847041 xt:  1.02604714254\n",
        "iteration: "
       ]
      },
      {
       "output_type": "stream",
       "stream": "stdout",
       "text": [
        " 77 x0:  0.987109597504 xt:  1.02605571588\n",
        "iteration: "
       ]
      },
      {
       "output_type": "stream",
       "stream": "stdout",
       "text": [
        " 76 x0:  0.988446615628 xt:  1.02605043057\n",
        "iteration: "
       ]
      },
      {
       "output_type": "stream",
       "stream": "stdout",
       "text": [
        " 79 x0:  0.979637470151 xt:  1.0260540685\n",
        "iteration: "
       ]
      },
      {
       "output_type": "stream",
       "stream": "stdout",
       "text": [
        " 57 x0:  1.01724785703 xt:  1.026048286\n",
        "iteration: "
       ]
      },
      {
       "output_type": "stream",
       "stream": "stdout",
       "text": [
        " 76 x0:  0.98972788965 xt:  1.02605453093\n",
        "iteration: "
       ]
      },
      {
       "output_type": "stream",
       "stream": "stdout",
       "text": [
        " 61 x0:  1.01422480285 xt:  1.0260494952\n",
        "iteration: "
       ]
      },
      {
       "output_type": "stream",
       "stream": "stdout",
       "text": [
        " 81 x0:  0.970038915681 xt:  1.02605128484\n",
        "iteration: "
       ]
      },
      {
       "output_type": "stream",
       "stream": "stdout",
       "text": [
        " 82 x0:  0.964064600331 xt:  1.02604917593\n",
        "iteration: "
       ]
      },
      {
       "output_type": "stream",
       "stream": "stdout",
       "text": [
        " 70 x0:  1.00252836412 xt:  1.02605005409\n",
        "iteration: "
       ]
      },
      {
       "output_type": "stream",
       "stream": "stdout",
       "text": [
        " 80 x0:  0.976109378986 xt:  1.02605500095\n",
        "iteration: "
       ]
      },
      {
       "output_type": "stream",
       "stream": "stdout",
       "text": [
        " 75 x0:  0.992106137974 xt:  1.02605315075\n",
        "iteration: "
       ]
      },
      {
       "output_type": "stream",
       "stream": "stdout",
       "text": [
        " 67 x0:  1.00728975336 xt:  1.02604929599\n",
        "iteration: "
       ]
      },
      {
       "output_type": "stream",
       "stream": "stdout",
       "text": [
        " 65 x0:  1.00993739087 xt:  1.02604907773\n",
        "iteration: "
       ]
      },
      {
       "output_type": "stream",
       "stream": "stdout",
       "text": [
        " 73 x0:  0.997583321363 xt:  1.02605530076\n",
        "iteration: "
       ]
      },
      {
       "output_type": "stream",
       "stream": "stdout",
       "text": [
        " 63 x0:  1.01288048964 xt:  1.02605506949\n",
        "iteration: "
       ]
      },
      {
       "output_type": "stream",
       "stream": "stdout",
       "text": [
        " 73 x0:  0.99735656268 xt:  1.0260543648\n",
        "iteration: "
       ]
      },
      {
       "output_type": "stream",
       "stream": "stdout",
       "text": [
        " 70 x0:  1.00199103965 xt:  1.02604723378\n",
        "iteration: "
       ]
      },
      {
       "output_type": "stream",
       "stream": "stdout",
       "text": [
        " 61 x0:  1.01422466474 xt:  1.02604949372\n",
        "iteration: "
       ]
      },
      {
       "output_type": "stream",
       "stream": "stdout",
       "text": [
        " 64 x0:  1.01137531939 xt:  1.02605118118\n",
        "iteration: "
       ]
      },
      {
       "output_type": "stream",
       "stream": "stdout",
       "text": [
        " 45 x0:  1.02266362279 xt:  1.02605319829\n",
        "iteration: "
       ]
      },
      {
       "output_type": "stream",
       "stream": "stdout",
       "text": [
        " 75 x0:  0.99073477284 xt:  1.02604838274\n",
        "iteration: "
       ]
      },
      {
       "output_type": "stream",
       "stream": "stdout",
       "text": [
        " 69 x0:  1.00496957563 xt:  1.02605395656\n",
        "iteration: "
       ]
      },
      {
       "output_type": "stream",
       "stream": "stdout",
       "text": [
        " 68 x0:  1.00595569559 xt:  1.02605035661\n",
        "iteration: "
       ]
      },
      {
       "output_type": "stream",
       "stream": "stdout",
       "text": [
        " 52 x0:  1.01999520989 xt:  1.02604747044\n",
        "iteration: "
       ]
      },
      {
       "output_type": "stream",
       "stream": "stdout",
       "text": [
        " 76 x0:  0.989746747278 xt:  1.02605459144\n",
        "iteration: "
       ]
      },
      {
       "output_type": "stream",
       "stream": "stdout",
       "text": [
        " 72 x0:  0.998340923815 xt:  1.02604909976\n",
        "iteration: "
       ]
      },
      {
       "output_type": "stream",
       "stream": "stdout",
       "text": [
        " 65 x0:  1.01057791256 xt:  1.02605409849\n",
        "iteration: "
       ]
      },
      {
       "output_type": "stream",
       "stream": "stdout",
       "text": [
        " 53 x0:  1.01947493489 xt:  1.02604665671\n",
        "iteration: "
       ]
      },
      {
       "output_type": "stream",
       "stream": "stdout",
       "text": [
        " 74 x0:  0.994341813939 xt:  1.02605184044\n",
        "iteration:  1 x0:  1.04432866442 xt:  1.04308936172\n",
        "iteration: "
       ]
      },
      {
       "output_type": "stream",
       "stream": "stdout",
       "text": [
        " 70 x0:  1.00211750198 xt:  1.026047897\n",
        "iteration: "
       ]
      },
      {
       "output_type": "stream",
       "stream": "stdout",
       "text": [
        " 78 x0:  0.982307289716 xt:  1.02605154338\n",
        "iteration: "
       ]
      },
      {
       "output_type": "stream",
       "stream": "stdout",
       "text": [
        " 74 x0:  0.993423227944 xt:  1.02604836863\n",
        "iteration: "
       ]
      },
      {
       "output_type": "stream",
       "stream": "stdout",
       "text": [
        " 69 x0:  1.00514162383 xt:  1.02605493981\n",
        "iteration: "
       ]
      },
      {
       "output_type": "stream",
       "stream": "stdout",
       "text": [
        " 76 x0:  0.989816559956 xt:  1.02605481547\n",
        "iteration: "
       ]
      },
      {
       "output_type": "stream",
       "stream": "stdout",
       "text": [
        " 35 x0:  1.0244205673 xt:  1.02604704607\n",
        "iteration: "
       ]
      },
      {
       "output_type": "stream",
       "stream": "stdout",
       "text": [
        " 80 x0:  0.975697439059 xt:  1.02605406825\n",
        "iteration:  1 x0:  1.04136059039 xt:  1.04031742945\n",
        "iteration: "
       ]
      },
      {
       "output_type": "stream",
       "stream": "stdout",
       "text": [
        " 37 x0:  1.02424909476 xt:  1.02605413922\n",
        "iteration: "
       ]
      },
      {
       "output_type": "stream",
       "stream": "stdout",
       "text": [
        " 79 x0:  0.978150524333 xt:  1.02605040253\n",
        "iteration: "
       ]
      },
      {
       "output_type": "stream",
       "stream": "stdout",
       "text": [
        " 74 x0:  0.99350953047 xt:  1.02604869427\n",
        "iteration:  1 x0:  1.05674775287 xt:  1.05471569836\n",
        "iteration: "
       ]
      },
      {
       "output_type": "stream",
       "stream": "stdout",
       "text": [
        " 64 x0:  1.01139489608 xt:  1.02605134713\n",
        "iteration: "
       ]
      },
      {
       "output_type": "stream",
       "stream": "stdout",
       "text": [
        " 69 x0:  1.00383715835 xt:  1.02604750215\n",
        "iteration: "
       ]
      },
      {
       "output_type": "stream",
       "stream": "stdout",
       "text": [
        " 85 x0:  0.950750244944 xt:  1.02605576096\n",
        "iteration: "
       ]
      },
      {
       "output_type": "stream",
       "stream": "stdout",
       "text": [
        " 71 x0:  1.00056802483 xt:  1.02604978907\n",
        "iteration: "
       ]
      },
      {
       "output_type": "stream",
       "stream": "stdout",
       "text": [
        " 42 x0:  1.02337050377 xt:  1.02605347614\n",
        "iteration: "
       ]
      },
      {
       "output_type": "stream",
       "stream": "stdout",
       "text": [
        " 71 x0:  0.99996832434 xt:  1.02604688842\n",
        "iteration: "
       ]
      },
      {
       "output_type": "stream",
       "stream": "stdout",
       "text": [
        " 80 x0:  0.974103348823 xt:  1.02605047289\n",
        "iteration:  1 x0:  1.02950130224 xt:  1.02926741231\n",
        "iteration: "
       ]
      },
      {
       "output_type": "stream",
       "stream": "stdout",
       "text": [
        " 72 x0:  0.99797509421 xt:  1.02604746992\n",
        "iteration: "
       ]
      },
      {
       "output_type": "stream",
       "stream": "stdout",
       "text": [
        " 71 x0:  1.00130751179 xt:  1.02605337563\n",
        "iteration: "
       ]
      },
      {
       "output_type": "stream",
       "stream": "stdout",
       "text": [
        " 72 x0:  0.999393999898 xt:  1.02605380497\n",
        "iteration: "
       ]
      },
      {
       "output_type": "stream",
       "stream": "stdout",
       "text": [
        " 71 x0:  1.00080976774 xt:  1.02605096035\n",
        "iteration: "
       ]
      },
      {
       "output_type": "stream",
       "stream": "stdout",
       "text": [
        " 75 x0:  0.992326172098 xt:  1.02605391822\n",
        "iteration: "
       ]
      },
      {
       "output_type": "stream",
       "stream": "stdout",
       "text": [
        " 68 x0:  1.00589818784 xt:  1.02605000158\n",
        "iteration: "
       ]
      },
      {
       "output_type": "stream",
       "stream": "stdout",
       "text": [
        " 68 x0:  1.00610530999 xt:  1.02605128067\n",
        "iteration: "
       ]
      },
      {
       "output_type": "stream",
       "stream": "stdout",
       "text": [
        " 69 x0:  1.00520074599 xt:  1.02605527786\n",
        "iteration: "
       ]
      },
      {
       "output_type": "stream",
       "stream": "stdout",
       "text": [
        " 74 x0:  0.994334691218 xt:  1.02605181347\n",
        "iteration: "
       ]
      },
      {
       "output_type": "stream",
       "stream": "stdout",
       "text": [
        " 84 x0:  0.953053285951 xt:  1.02604977334\n",
        "iteration: "
       ]
      },
      {
       "output_type": "stream",
       "stream": "stdout",
       "text": [
        " 64 x0:  1.01190230583 xt:  1.02605565318\n",
        "iteration: "
       ]
      },
      {
       "output_type": "stream",
       "stream": "stdout",
       "text": [
        " 67 x0:  1.00725993133 xt:  1.02604909671\n",
        "iteration: "
       ]
      },
      {
       "output_type": "stream",
       "stream": "stdout",
       "text": [
        " 73 x0:  0.997656688106 xt:  1.02605560377\n",
        "iteration:  1 x0:  1.03543563111 xt:  1.03479168569\n",
        "iteration: "
       ]
      },
      {
       "output_type": "stream",
       "stream": "stdout",
       "text": [
        " 76 x0:  0.987684567823 xt:  1.02604800173\n",
        "iteration: "
       ]
      },
      {
       "output_type": "stream",
       "stream": "stdout",
       "text": [
        " 44 x0:  1.02276656411 xt:  1.02604745213\n",
        "iteration: "
       ]
      },
      {
       "output_type": "stream",
       "stream": "stdout",
       "text": [
        " 83 x0:  0.961897906273 xt:  1.02605475923\n",
        "iteration: "
       ]
      },
      {
       "output_type": "stream",
       "stream": "stdout",
       "text": [
        " 55 x0:  1.01881968731 xt:  1.02605386795\n",
        "iteration: "
       ]
      },
      {
       "output_type": "stream",
       "stream": "stdout",
       "text": [
        " 73 x0:  0.995587706501 xt:  1.02604709322\n",
        "iteration: "
       ]
      },
      {
       "output_type": "stream",
       "stream": "stdout",
       "text": [
        " 61 x0:  1.0146947953 xt:  1.02605452803\n",
        "iteration: "
       ]
      },
      {
       "output_type": "stream",
       "stream": "stdout",
       "text": [
        " 84 x0:  0.955251754101 xt:  1.02605319085\n",
        "iteration: "
       ]
      },
      {
       "output_type": "stream",
       "stream": "stdout",
       "text": [
        " 73 x0:  0.997676825314 xt:  1.02605568695\n",
        "iteration: "
       ]
      },
      {
       "output_type": "stream",
       "stream": "stdout",
       "text": [
        " 77 x0:  0.986587625645 xt:  1.0260541777\n",
        "iteration: "
       ]
      },
      {
       "output_type": "stream",
       "stream": "stdout",
       "text": [
        " 80 x0:  0.976359001641 xt:  1.02605556686\n",
        "iteration:  1 x0:  1.05476526333 xt:  1.05285672384\n",
        "iteration: "
       ]
      },
      {
       "output_type": "stream",
       "stream": "stdout",
       "text": [
        " 65 x0:  1.01024476682 xt:  1.02605148544\n",
        "iteration: "
       ]
      },
      {
       "output_type": "stream",
       "stream": "stdout",
       "text": [
        " 62 x0:  1.01339572545 xt:  1.02605057576\n",
        "iteration: "
       ]
      },
      {
       "output_type": "stream",
       "stream": "stdout",
       "text": [
        " 68 x0:  1.00599930575 xt:  1.0260506259\n",
        "iteration:  1 x0:  1.04091815375 xt:  1.03990445069\n",
        "iteration: "
       ]
      },
      {
       "output_type": "stream",
       "stream": "stdout",
       "text": [
        " 42 x0:  1.02337292343 xt:  1.02605358504\n",
        "iteration: "
       ]
      },
      {
       "output_type": "stream",
       "stream": "stdout",
       "text": [
        " 82 x0:  0.966266295009 xt:  1.02605330636\n",
        "iteration: "
       ]
      },
      {
       "output_type": "stream",
       "stream": "stdout",
       "text": [
        " 52 x0:  1.02001389696 xt:  1.02604786769\n",
        "iteration: "
       ]
      },
      {
       "output_type": "stream",
       "stream": "stdout",
       "text": [
        " 84 x0:  0.952583769292 xt:  1.02604904703\n",
        "iteration: "
       ]
      },
      {
       "output_type": "stream",
       "stream": "stdout",
       "text": [
        " 46 x0:  1.0222363486 xt:  1.02604797042\n",
        "iteration: "
       ]
      },
      {
       "output_type": "stream",
       "stream": "stdout",
       "text": [
        " 80 x0:  0.974713881575 xt:  1.0260518473\n",
        "iteration: "
       ]
      },
      {
       "output_type": "stream",
       "stream": "stdout",
       "text": [
        " 78 x0:  0.980993869483 xt:  1.02604802029\n",
        "iteration: "
       ]
      },
      {
       "output_type": "stream",
       "stream": "stdout",
       "text": [
        " 71 x0:  1.00072952233 xt:  1.02605057142\n",
        "iteration: "
       ]
      },
      {
       "output_type": "stream",
       "stream": "stdout",
       "text": [
        " 81 x0:  0.971204127109 xt:  1.02605368679\n",
        "iteration:  1 x0:  1.03324871454 xt:  1.03275469637\n",
        "iteration: "
       ]
      },
      {
       "output_type": "stream",
       "stream": "stdout",
       "text": [
        " 67 x0:  1.00823762187 xt:  1.0260556428\n",
        "iteration:  1 x0:  1.02618885764 xt:  1.02618827862\n",
        "iteration:  1 x0:  1.02635563579 xt:  1.02634323422\n",
        "iteration: "
       ]
      },
      {
       "output_type": "stream",
       "stream": "stdout",
       "text": [
        " 70 x0:  1.00188262976 xt:  1.02604666551\n",
        "iteration:  1 x0:  4.13764863212 xt:  4.12744909744\n",
        "iteration:  1 x0:  4.03921924226 xt:  4.03698543262\n",
        "iteration:  1 x0:  4.0766795262 xt:  4.07165499661\n",
        "iteration: "
       ]
      },
      {
       "output_type": "stream",
       "stream": "stdout",
       "text": [
        " 60 x0:  3.97976046458 xt:  4.00498446444\n",
        "iteration:  1 x0:  4.17200648902 xt:  4.15858322481\n",
        "iteration:  1 x0:  4.10030487928 xt:  4.09336381792\n",
        "iteration:  1 x0:  4.14377889961 xt:  4.13301927526\n",
        "iteration: "
       ]
      },
      {
       "output_type": "stream",
       "stream": "stdout",
       "text": [
        " 96 x0:  3.82622662168 xt:  4.00496940637\n",
        "iteration:  1 x0:  4.0164110608 xt:  4.01571984738\n",
        "iteration: "
       ]
      },
      {
       "output_type": "stream",
       "stream": "stdout",
       "text": [
        " 83 x0:  3.9098663554 xt:  4.00498753969\n",
        "iteration:  1 x0:  4.12910490666 xt:  4.11967446728\n",
        "iteration:  1 x0:  4.15885049047 xt:  4.14668552111\n",
        "iteration:  1 x0:  4.0821777096 xt:  4.0767176516\n",
        "iteration:  1 x0:  4.14853759142 xt:  4.13733854041\n",
        "iteration:  1 x0:  4.02103150229 xt:  4.02003762338\n",
        "iteration: "
       ]
      },
      {
       "output_type": "stream",
       "stream": "stdout",
       "text": [
        " 81 x0:  3.91827578519 xt:  4.00497871735\n",
        "iteration: "
       ]
      },
      {
       "output_type": "stream",
       "stream": "stdout",
       "text": [
        " 74 x0:  3.94390243915 xt:  4.00495475513\n",
        "iteration:  1 x0:  4.13907537658 xt:  4.1287460967\n",
        "iteration:  1 x0:  4.08442663195 xt:  4.07878657355\n",
        "iteration:  1 x0:  4.16041165233 xt:  4.14809887291\n",
        "iteration: "
       ]
      },
      {
       "output_type": "stream",
       "stream": "stdout",
       "text": [
        " 64 x0:  3.97122191781 xt:  4.00495702418\n",
        "iteration: "
       ]
      },
      {
       "output_type": "stream",
       "stream": "stdout",
       "text": [
        " 81 x0:  3.91611934854 xt:  4.00496127752\n",
        "iteration: "
       ]
      },
      {
       "output_type": "stream",
       "stream": "stdout",
       "text": [
        " 88 x0:  3.87888350096 xt:  4.00496360978\n",
        "iteration:  1 x0:  4.08189733485 xt:  4.07645964236\n",
        "iteration:  1 x0:  4.04795362332 xt:  4.04509723167\n",
        "iteration: "
       ]
      },
      {
       "output_type": "stream",
       "stream": "stdout",
       "text": [
        " 84 x0:  3.90433558014 xt:  4.00498407268\n",
        "iteration: "
       ]
      },
      {
       "output_type": "stream",
       "stream": "stdout",
       "text": [
        " 107 x0:  3.7440386599 xt:  4.00498657333\n",
        "iteration:  1 x0:  4.10417817951 xt:  4.09691188302\n",
        "iteration: "
       ]
      },
      {
       "output_type": "stream",
       "stream": "stdout",
       "text": [
        " 91 x0:  3.86157924879 xt:  4.00497289185\n",
        "iteration: "
       ]
      },
      {
       "output_type": "stream",
       "stream": "stdout",
       "text": [
        " 46 x0:  3.99470162913 xt:  4.00498209299\n",
        "iteration: "
       ]
      },
      {
       "output_type": "stream",
       "stream": "stdout",
       "text": [
        " 84 x0:  3.9044148162 xt:  4.00498463679\n",
        "iteration:  1 x0:  4.08958353075 xt:  4.08352669105\n",
        "iteration:  1 x0:  4.13378409063 xt:  4.12393411372\n",
        "iteration: "
       ]
      },
      {
       "output_type": "stream",
       "stream": "stdout",
       "text": [
        " 55 x0:  3.98668061214 xt:  4.00498742842\n",
        "iteration:  1 x0:  4.15321446381 xt:  4.14157965236\n",
        "iteration:  1 x0:  4.0695042702 xt:  4.0650383256\n",
        "iteration: "
       ]
      },
      {
       "output_type": "stream",
       "stream": "stdout",
       "text": [
        " 78 x0:  3.92922168301 xt:  4.00495996784\n",
        "iteration: "
       ]
      },
      {
       "output_type": "stream",
       "stream": "stdout",
       "text": [
        " 72 x0:  3.95114629493 xt:  4.00496257961\n",
        "iteration:  1 x0:  4.07710805531 xt:  4.07204981324\n",
        "iteration: "
       ]
      },
      {
       "output_type": "stream",
       "stream": "stdout",
       "text": [
        " 81 x0:  3.91952667285 xt:  4.00498874784\n",
        "iteration:  1 x0:  4.03692385622 xt:  4.03485076198\n",
        "iteration: "
       ]
      },
      {
       "output_type": "stream",
       "stream": "stdout",
       "text": [
        " 78 x0:  3.9311816852 xt:  4.00497799514\n",
        "iteration:  1 x0:  4.03592283743 xt:  4.03391945123\n",
        "iteration: "
       ]
      },
      {
       "output_type": "stream",
       "stream": "stdout",
       "text": [
        " 81 x0:  3.9173969363 xt:  4.00497163254\n",
        "iteration: "
       ]
      },
      {
       "output_type": "stream",
       "stream": "stdout",
       "text": [
        " 83 x0:  3.90741078467 xt:  4.00496930183\n",
        "iteration:  1 x0:  4.09128168567 xt:  4.08508638058\n",
        "iteration: "
       ]
      },
      {
       "output_type": "stream",
       "stream": "stdout",
       "text": [
        " 74 x0:  3.946313357 xt:  4.00498146376\n",
        "iteration: "
       ]
      },
      {
       "output_type": "stream",
       "stream": "stdout",
       "text": [
        " 89 x0:  3.87695790456 xt:  4.00498900699\n",
        "iteration: "
       ]
      },
      {
       "output_type": "stream",
       "stream": "stdout",
       "text": [
        " 75 x0:  3.94200630466 xt:  4.0049722581\n",
        "iteration:  1 x0:  4.02320568279 xt:  4.02206764283\n",
        "iteration: "
       ]
      },
      {
       "output_type": "stream",
       "stream": "stdout",
       "text": [
        " 70 x0:  3.9575477497 xt:  4.00496911284\n",
        "iteration:  1 x0:  4.1044508539 xt:  4.09716154694\n",
        "iteration: "
       ]
      },
      {
       "output_type": "stream",
       "stream": "stdout",
       "text": [
        " 81 x0:  3.91553582293 xt:  4.00495652582\n",
        "iteration:  1 x0:  4.1362005379 xt:  4.12613230908\n",
        "iteration:  1 x0:  4.11880839636 xt:  4.11028656558\n",
        "iteration: "
       ]
      },
      {
       "output_type": "stream",
       "stream": "stdout",
       "text": [
        " 79 x0:  3.92660737451 xt:  4.00497424331\n",
        "iteration:  1 x0:  4.01521861305 xt:  4.01460469297\n",
        "iteration:  1 x0:  4.14329823869 xt:  4.13258277493\n",
        "iteration: "
       ]
      },
      {
       "output_type": "stream",
       "stream": "stdout",
       "text": [
        " 77 x0:  3.93504175126 xt:  4.00497698537\n",
        "iteration: "
       ]
      },
      {
       "output_type": "stream",
       "stream": "stdout",
       "text": [
        " 93 x0:  3.84554858634 xt:  4.00495841655\n",
        "iteration:  1 x0:  4.0899119439 xt:  4.08382837277\n",
        "iteration:  1 x0:  4.07494412652 xt:  4.07005571702\n",
        "iteration: "
       ]
      },
      {
       "output_type": "stream",
       "stream": "stdout",
       "text": [
        " 74 x0:  3.9451279085 xt:  4.00496836872\n",
        "iteration:  1 x0:  4.0671659118 xt:  4.06287958634\n",
        "iteration:  1 x0:  4.13751466027 xt:  4.12732728962\n",
        "iteration:  1 x0:  4.05004163046 xt:  4.04703383693\n",
        "iteration:  1 x0:  4.01444957981 xt:  4.01388532911\n",
        "iteration:  1 x0:  4.0332621901 xt:  4.03144295853\n",
        "iteration: "
       ]
      },
      {
       "output_type": "stream",
       "stream": "stdout",
       "text": [
        " 72 x0:  3.9525134286 xt:  4.00497927369\n",
        "iteration:  1 x0:  4.15497115638 xt:  4.14317168509\n",
        "iteration:  1 x0:  4.10775176815 xt:  4.10018271706\n",
        "iteration: "
       ]
      },
      {
       "output_type": "stream",
       "stream": "stdout",
       "text": [
        " 74 x0:  3.94643890625 xt:  4.0049828464\n",
        "iteration:  1 x0:  4.10425397547 xt:  4.09698128421\n",
        "iteration: "
       ]
      },
      {
       "output_type": "stream",
       "stream": "stdout",
       "text": [
        " 51 x0:  3.99074211749 xt:  4.00498362326\n",
        "iteration:  1 x0:  4.10092035681 xt:  4.09392781828\n",
        "iteration: "
       ]
      },
      {
       "output_type": "stream",
       "stream": "stdout",
       "text": [
        " 94 x0:  3.8439485899 xt:  4.0049872338\n",
        "iteration: "
       ]
      },
      {
       "output_type": "stream",
       "stream": "stdout",
       "text": [
        " 89 x0:  3.87462920518 xt:  4.00497499223\n",
        "iteration: "
       ]
      },
      {
       "output_type": "stream",
       "stream": "stdout",
       "text": [
        " 53 x0:  3.98819075784 xt:  4.00496299021\n",
        "iteration:  1 x0:  4.07206220291 xt:  4.06739840661\n",
        "iteration: "
       ]
      },
      {
       "output_type": "stream",
       "stream": "stdout",
       "text": [
        " 50 x0:  3.99125486077 xt:  4.00496736085\n",
        "iteration:  1 x0:  4.14898720057 xt:  4.13774642437\n",
        "iteration: "
       ]
      },
      {
       "output_type": "stream",
       "stream": "stdout",
       "text": [
        " 63 x0:  3.97387600519 xt:  4.00496996524\n",
        "iteration: "
       ]
      },
      {
       "output_type": "stream",
       "stream": "stdout",
       "text": [
        " 64 x0:  3.97208746026 xt:  4.00497319559\n",
        "iteration:  1 x0:  4.16645895847 xt:  4.15356976669\n",
        "iteration:  1 x0:  4.05983476312 xt:  4.05610378129\n",
        "iteration: "
       ]
      },
      {
       "output_type": "stream",
       "stream": "stdout",
       "text": [
        " 62 x0:  3.97541536667 xt:  4.00496337471\n",
        "iteration:  1 x0:  4.07242541444 xt:  4.06773340901\n",
        "iteration:  1 x0:  4.02652829255 xt:  4.02516780175\n",
        "iteration: "
       ]
      },
      {
       "output_type": "stream",
       "stream": "stdout",
       "text": [
        " 59 x0:  3.98089960138 xt:  4.00497482517\n",
        "iteration:  1 x0:  4.16429596567 xt:  4.15161364347\n",
        "iteration:  1 x0:  4.06758546706 xt:  4.06326700186\n",
        "iteration:  1 x0:  4.03906719306 xt:  4.03684406688\n",
        "iteration:  1 x0:  4.10243968765 xt:  4.09531974594\n",
        "iteration: "
       ]
      },
      {
       "output_type": "stream",
       "stream": "stdout",
       "text": [
        " 94 x0:  3.84311862577 xt:  4.00498286745\n",
        "iteration:  1 x0:  4.01032424907 xt:  4.01002404381\n",
        "iteration: "
       ]
      },
      {
       "output_type": "stream",
       "stream": "stdout",
       "text": [
        " 91 x0:  3.85968055571 xt:  4.00496194185\n",
        "iteration:  1 x0:  4.02803613472 xt:  4.02657384111\n",
        "iteration: "
       ]
      },
      {
       "output_type": "stream",
       "stream": "stdout",
       "text": [
        " 62 x0:  3.97587595507 xt:  4.00497299255\n",
        "iteration:  1 x0:  4.1202459422 xt:  4.11159847688\n",
        "iteration:  1 x0:  4.15807273322 xt:  4.14598124741\n",
        "iteration: "
       ]
      },
      {
       "output_type": "stream",
       "stream": "stdout",
       "text": [
        " 342 x0:  2.26581599599 xt:  2.50885880683\n",
        "iteration: "
       ]
      },
      {
       "output_type": "stream",
       "stream": "stdout",
       "text": [
        " 404 x0:  1.96914046207 xt:  2.50884679299\n",
        "iteration: "
       ]
      },
      {
       "output_type": "stream",
       "stream": "stdout",
       "text": [
        " 327 x0:  2.3124017447 xt:  2.50885560681\n",
        "iteration: "
       ]
      },
      {
       "output_type": "stream",
       "stream": "stdout",
       "text": [
        " 360 x0:  2.19285486499 xt:  2.50883877854\n",
        "iteration: "
       ]
      },
      {
       "output_type": "stream",
       "stream": "stdout",
       "text": [
        " 337 x0:  2.28089199845 xt:  2.50884647176\n",
        "iteration: "
       ]
      },
      {
       "output_type": "stream",
       "stream": "stdout",
       "text": [
        " 363 x0:  2.18012779849 xt:  2.50884125287\n",
        "iteration: "
       ]
      },
      {
       "output_type": "stream",
       "stream": "stdout",
       "text": [
        " 311 x0:  2.35251718725 xt:  2.50884951641\n",
        "iteration: "
       ]
      },
      {
       "output_type": "stream",
       "stream": "stdout",
       "text": [
        " 383 x0:  2.08430388221 xt:  2.50885040978\n",
        "iteration: "
       ]
      },
      {
       "output_type": "stream",
       "stream": "stdout",
       "text": [
        " 380 x0:  2.1012602456 xt:  2.50885679633\n",
        "iteration: "
       ]
      },
      {
       "output_type": "stream",
       "stream": "stdout",
       "text": [
        " 368 x0:  2.16113807606 xt:  2.50886172716\n",
        "iteration: "
       ]
      },
      {
       "output_type": "stream",
       "stream": "stdout",
       "text": [
        " 341 x0:  2.26716711328 xt:  2.50884379665\n",
        "iteration: "
       ]
      },
      {
       "output_type": "stream",
       "stream": "stdout",
       "text": [
        " 363 x0:  2.18085218469 xt:  2.50884529461\n",
        "iteration: "
       ]
      },
      {
       "output_type": "stream",
       "stream": "stdout",
       "text": [
        " 255 x0:  2.4402134663 xt:  2.50884418752\n",
        "iteration: "
       ]
      },
      {
       "output_type": "stream",
       "stream": "stdout",
       "text": [
        " 362 x0:  2.18774275344 xt:  2.50885917916\n",
        "iteration: "
       ]
      },
      {
       "output_type": "stream",
       "stream": "stdout",
       "text": [
        " 376 x0:  2.12280148583 xt:  2.50886291928\n",
        "iteration: "
       ]
      },
      {
       "output_type": "stream",
       "stream": "stdout",
       "text": [
        " 360 x0:  2.19513234185 xt:  2.50885189654\n",
        "iteration:  1 x0:  2.56172864205 xt:  2.56098715254\n",
        "iteration: "
       ]
      },
      {
       "output_type": "stream",
       "stream": "stdout",
       "text": [
        " 326 x0:  2.31553835094 xt:  2.50885846434\n",
        "iteration: "
       ]
      },
      {
       "output_type": "stream",
       "stream": "stdout",
       "text": [
        " 360 x0:  2.19383696536 xt:  2.50884443844\n",
        "iteration: "
       ]
      },
      {
       "output_type": "stream",
       "stream": "stdout",
       "text": [
        " 426 x0:  1.85834270033 xt:  2.50885739126\n",
        "iteration: "
       ]
      },
      {
       "output_type": "stream",
       "stream": "stdout",
       "text": [
        " 363 x0:  2.18383188303 xt:  2.50886189162\n",
        "iteration: "
       ]
      },
      {
       "output_type": "stream",
       "stream": "stdout",
       "text": [
        " 302 x0:  2.37101553777 xt:  2.50884014419\n",
        "iteration: "
       ]
      },
      {
       "output_type": "stream",
       "stream": "stdout",
       "text": [
        " 352 x0:  2.22846000158 xt:  2.50885492687\n",
        "iteration: "
       ]
      },
      {
       "output_type": "stream",
       "stream": "stdout",
       "text": [
        " 254 x0:  2.44152736213 xt:  2.50885148534\n",
        "iteration: "
       ]
      },
      {
       "output_type": "stream",
       "stream": "stdout",
       "text": [
        " 356 x0:  2.21271792277 xt:  2.50885661665\n",
        "iteration: "
       ]
      },
      {
       "output_type": "stream",
       "stream": "stdout",
       "text": [
        " 393 x0:  2.03285094467 xt:  2.50886112123\n",
        "iteration: "
       ]
      },
      {
       "output_type": "stream",
       "stream": "stdout",
       "text": [
        " 357 x0:  2.20878683784 xt:  2.50885774226\n",
        "iteration: "
       ]
      },
      {
       "output_type": "stream",
       "stream": "stdout",
       "text": [
        " 321 x0:  2.32810324151 xt:  2.50884980738\n",
        "iteration: "
       ]
      },
      {
       "output_type": "stream",
       "stream": "stdout",
       "text": [
        " 396 x0:  2.01532956452 xt:  2.50885643552\n",
        "iteration: "
       ]
      },
      {
       "output_type": "stream",
       "stream": "stdout",
       "text": [
        " 380 x0:  2.09793302801 xt:  2.50884083051\n",
        "iteration: "
       ]
      },
      {
       "output_type": "stream",
       "stream": "stdout",
       "text": [
        " 371 x0:  2.14357738057 xt:  2.50884413086\n",
        "iteration: "
       ]
      },
      {
       "output_type": "stream",
       "stream": "stdout",
       "text": [
        " 315 x0:  2.34246007606 xt:  2.50884247782\n",
        "iteration: "
       ]
      },
      {
       "output_type": "stream",
       "stream": "stdout",
       "text": [
        " 378 x0:  2.11097283571 xt:  2.50885431099\n",
        "iteration: "
       ]
      },
      {
       "output_type": "stream",
       "stream": "stdout",
       "text": [
        " 372 x0:  2.14174127489 xt:  2.50885943089\n",
        "iteration: "
       ]
      },
      {
       "output_type": "stream",
       "stream": "stdout",
       "text": [
        " 343 x0:  2.26274500583 xt:  2.50886161998\n",
        "iteration: "
       ]
      },
      {
       "output_type": "stream",
       "stream": "stdout",
       "text": [
        " 373 x0:  2.13700235874 xt:  2.50885998942\n",
        "iteration: "
       ]
      },
      {
       "output_type": "stream",
       "stream": "stdout",
       "text": [
        " 332 x0:  2.29768766061 xt:  2.50885507898\n",
        "iteration: "
       ]
      },
      {
       "output_type": "stream",
       "stream": "stdout",
       "text": [
        " 389 x0:  2.05319862211 xt:  2.50885466316\n",
        "iteration: "
       ]
      },
      {
       "output_type": "stream",
       "stream": "stdout",
       "text": [
        " 474 x0:  1.71047328628 xt:  2.50886167008\n",
        "iteration: "
       ]
      },
      {
       "output_type": "stream",
       "stream": "stdout",
       "text": [
        " 385 x0:  2.07336755946 xt:  2.50884871518\n",
        "iteration: "
       ]
      },
      {
       "output_type": "stream",
       "stream": "stdout",
       "text": [
        " 367 x0:  2.16543381157 xt:  2.50885997027\n",
        "iteration: "
       ]
      },
      {
       "output_type": "stream",
       "stream": "stdout",
       "text": [
        " 385 x0:  2.07397536915 xt:  2.50885154411\n",
        "iteration: "
       ]
      },
      {
       "output_type": "stream",
       "stream": "stdout",
       "text": [
        " 403 x0:  1.97579198613 xt:  2.50885206566\n",
        "iteration: "
       ]
      },
      {
       "output_type": "stream",
       "stream": "stdout",
       "text": [
        " 310 x0:  2.35540621091 xt:  2.50885642145\n",
        "iteration: "
       ]
      },
      {
       "output_type": "stream",
       "stream": "stdout",
       "text": [
        " 406 x0:  1.96014884622 xt:  2.50885554477\n",
        "iteration: "
       ]
      },
      {
       "output_type": "stream",
       "stream": "stdout",
       "text": [
        " 359 x0:  2.19995695652 xt:  2.50885511599\n",
        "iteration: "
       ]
      },
      {
       "output_type": "stream",
       "stream": "stdout",
       "text": [
        " 382 x0:  2.09230270062 xt:  2.50886343932\n",
        "iteration: "
       ]
      },
      {
       "output_type": "stream",
       "stream": "stdout",
       "text": [
        " 294 x0:  2.38666285361 xt:  2.50884553035\n",
        "iteration: "
       ]
      },
      {
       "output_type": "stream",
       "stream": "stdout",
       "text": [
        " 321 x0:  2.3271569529 xt:  2.50884085983\n",
        "iteration: "
       ]
      },
      {
       "output_type": "stream",
       "stream": "stdout",
       "text": [
        " 397 x0:  2.01032364084 xt:  2.50885868367\n",
        "iteration:  1 x0:  2.76813779955 xt:  2.76456358125\n",
        "iteration:  1 x0:  2.74514041556 xt:  2.7418534118\n",
        "iteration:  1 x0:  2.81649726547 xt:  2.81236417719\n",
        "iteration:  1 x0:  2.72916010589 xt:  2.72607919286\n",
        "iteration:  1 x0:  2.80634467779 xt:  2.80232308957\n",
        "iteration:  1 x0:  2.63950449563 xt:  2.63764890095\n",
        "iteration:  1 x0:  2.70477591377 xt:  2.70201810382\n",
        "iteration:  1 x0:  2.86039382797 xt:  2.85582191574\n",
        "iteration:  1 x0:  2.78847737049 xt:  2.78465986969\n",
        "iteration:  1 x0:  2.79382802585 xt:  2.78994840748\n",
        "iteration:  1 x0:  2.79855287975 xt:  2.79461910759\n",
        "iteration:  1 x0:  2.87890230165 xt:  2.87416951954\n",
        "iteration: "
       ]
      },
      {
       "output_type": "stream",
       "stream": "stdout",
       "text": [
        " 1 x0:  2.73877581529 xt:  2.73557030267\n",
        "iteration:  1 x0:  2.68573715195 xt:  2.68323768368\n",
        "iteration:  1 x0:  2.69997594336 xt:  2.69728280889\n",
        "iteration:  1 x0:  2.77841963307 xt:  2.77472106836\n",
        "iteration:  1 x0:  2.96369991062 xt:  2.9584628687\n",
        "iteration:  1 x0:  2.69663720167 xt:  2.69398924179\n",
        "iteration:  1 x0:  2.89781342046 xt:  2.89293326108\n",
        "iteration:  1 x0:  2.65036081001 xt:  2.64835230118\n",
        "iteration:  1 x0:  2.66984794094 xt:  2.66756743654\n",
        "iteration:  1 x0:  2.79807375514 xt:  2.79414544395\n",
        "iteration:  1 x0:  2.87711461015 xt:  2.87239667228\n",
        "iteration:  1 x0:  2.71523790457 xt:  2.71234029937\n",
        "iteration:  1 x0:  2.79824713825 xt:  2.79431685007\n",
        "iteration: "
       ]
      },
      {
       "output_type": "stream",
       "stream": "stdout",
       "text": [
        " 1 x0:  2.6592205531 xt:  2.65708795608\n",
        "iteration:  1 x0:  2.82067346962 xt:  2.81649552239\n",
        "iteration:  1 x0:  2.81119224601 xt:  2.80711699595\n",
        "iteration:  1 x0:  2.83584379417 xt:  2.83150813449\n",
        "iteration:  1 x0:  2.95992051756 xt:  2.95469663643\n",
        "iteration:  1 x0:  2.86887136043 xt:  2.8642238173\n",
        "iteration:  1 x0:  2.81909622287 xt:  2.81493514699\n",
        "iteration:  1 x0:  3.04569563617 xt:  3.04042947752\n",
        "iteration:  1 x0:  2.85849796804 xt:  2.85394340426\n",
        "iteration:  1 x0:  2.81429614434 xt:  2.81018693941\n",
        "iteration:  1 x0:  2.91154400616 xt:  2.90656849546\n",
        "iteration:  1 x0:  2.70955200291 xt:  2.70673016874\n",
        "iteration:  1 x0:  2.8584538831 xt:  2.85389972458\n",
        "iteration: "
       ]
      },
      {
       "output_type": "stream",
       "stream": "stdout",
       "text": [
        " 1 x0:  2.80883824382 xt:  2.80478895703\n",
        "iteration:  1 x0:  2.81253250757 xt:  2.80844255653\n",
        "iteration:  1 x0:  3.01387827301 xt:  3.00856235982\n",
        "iteration:  1 x0:  2.84117674157 xt:  2.83678768984\n",
        "iteration:  1 x0:  2.69249899914 xt:  2.68990723654\n",
        "iteration:  1 x0:  2.75608801666 xt:  2.75266280887\n",
        "iteration:  1 x0:  2.60569946974 xt:  2.60432491937\n",
        "iteration:  1 x0:  2.81042124172 xt:  2.80635447543\n",
        "iteration:  1 x0:  2.90913515479 xt:  2.90417563095\n",
        "iteration:  1 x0:  2.80321977639 xt:  2.79923317947\n",
        "iteration:  1 x0:  2.58617538677 xt:  2.58508117821\n",
        "iteration:  1 x0:  2.91584585232 xt:  2.91084259642\n"
       ]
      }
     ],
     "prompt_number": 67
    },
    {
     "cell_type": "code",
     "collapsed": false,
     "input": [
      "compare = matrix( [ [SEPs[i,0], data[i]]  for i in range (size)])\n",
      "print compare"
     ],
     "language": "python",
     "metadata": {},
     "outputs": [
      {
       "output_type": "stream",
       "stream": "stdout",
       "text": [
        "[[ 1.02475978  0.97384184]\n",
        " [ 1.02475359  0.95886201]\n",
        " [ 1.02475607  1.00155217]\n",
        " [ 1.02475756  0.99694479]\n",
        " [ 1.02475776  0.99030703]\n",
        " [ 1.02475492  1.01048863]\n",
        " [ 1.02475872  1.01570847]\n",
        " [ 1.02475619  0.9871096 ]\n",
        " [ 1.02475151  0.98844662]\n",
        " [ 1.02475981  0.97963747]\n",
        " [ 1.0247578   1.01724786]\n",
        " [ 1.02475677  0.98972789]\n",
        " [ 1.02475667  1.0142248 ]\n",
        " [ 1.02475073  0.97003892]\n",
        " [ 1.0247537   0.9640646 ]\n",
        " [ 1.02475014  1.00252836]\n",
        " [ 1.02475616  0.97610938]\n",
        " [ 1.02475524  0.99210614]\n",
        " [ 1.02475302  1.00728975]\n",
        " [ 1.02475799  1.00993739]\n",
        " [ 1.02475686  0.99758332]\n",
        " [ 1.02475058  1.01288049]\n",
        " [ 1.02475637  0.99735656]\n",
        " [ 1.02476021  1.00199104]\n",
        " [ 1.02475665  1.01422466]\n",
        " [ 1.02475418  1.01137532]\n",
        " [ 1.02475211  1.02266362]\n",
        " [ 1.02475341  0.99073477]\n",
        " [ 1.02475667  1.00496958]\n",
        " [ 1.02475076  1.0059557 ]\n",
        " [ 1.02475645  1.01999521]\n",
        " [ 1.02475746  0.98974675]\n",
        " [ 1.02475248  0.99834092]\n",
        " [ 1.02475265  1.01057791]\n",
        " [ 1.02475441  1.01947493]\n",
        " [ 1.02475464  0.99434181]\n",
        " [ 1.04420473  1.04432866]\n",
        " [ 1.02475719  1.0021175 ]\n",
        " [ 1.02475584  0.98230729]\n",
        " [ 1.02475716  0.99342323]\n",
        " [ 1.02475766  1.00514162]\n",
        " [ 1.02476     0.98981656]\n",
        " [ 1.02475993  1.02442057]\n",
        " [ 1.0247557   0.97569744]\n",
        " [ 1.04125627  1.04136059]\n",
        " [ 1.02475979  1.02424909]\n",
        " [ 1.02475945  0.97815052]\n",
        " [ 1.02475052  0.99350953]\n",
        " [ 1.05654455  1.05674775]\n",
        " [ 1.02475602  1.0113949 ]\n",
        " [ 1.02475668  1.00383716]\n",
        " [ 1.02475357  0.95075024]\n",
        " [ 1.02475364  1.00056802]\n",
        " [ 1.02475544  1.0233705 ]\n",
        " [ 1.02475273  0.99996832]\n",
        " [ 1.0247561   0.97410335]\n",
        " [ 1.02947791  1.0295013 ]\n",
        " [ 1.02475517  0.99797509]\n",
        " [ 1.02475279  1.00130751]\n",
        " [ 1.02475384  0.999394  ]\n",
        " [ 1.02475636  1.00080977]\n",
        " [ 1.02475374  0.99232617]\n",
        " [ 1.02475704  1.00589819]\n",
        " [ 1.02475078  1.00610531]\n",
        " [ 1.02475134  1.00520075]\n",
        " [ 1.02475434  0.99433469]\n",
        " [ 1.0247515   0.95305329]\n",
        " [ 1.02475364  1.01190231]\n",
        " [ 1.02475085  1.00725993]\n",
        " [ 1.02475015  0.99765669]\n",
        " [ 1.03537124  1.03543563]\n",
        " [ 1.0247555   0.98768457]\n",
        " [ 1.02475359  1.02276656]\n",
        " [ 1.02475086  0.96189791]\n",
        " [ 1.02475527  1.01881969]\n",
        " [ 1.02475744  0.99558771]\n",
        " [ 1.02475161  1.0146948 ]\n",
        " [ 1.02475915  0.95525175]\n",
        " [ 1.02475111  0.99767683]\n",
        " [ 1.02475895  0.98658763]\n",
        " [ 1.02475248  0.976359  ]\n",
        " [ 1.05457441  1.05476526]\n",
        " [ 1.02475391  1.01024477]\n",
        " [ 1.02475474  1.01339573]\n",
        " [ 1.02475373  1.00599931]\n",
        " [ 1.04081678  1.04091815]\n",
        " [ 1.02475666  1.02337292]\n",
        " [ 1.02475898  0.9662663 ]\n",
        " [ 1.02475054  1.0200139 ]\n",
        " [ 1.02475369  0.95258377]\n",
        " [ 1.02475222  1.02223635]\n",
        " [ 1.02475101  0.97471388]\n",
        " [ 1.02475783  0.98099387]\n",
        " [ 1.02475206  1.00072952]\n",
        " [ 1.02475736  0.97120413]\n",
        " [ 1.03319931  1.03324871]\n",
        " [ 1.02475275  1.00823762]\n",
        " [ 1.0261888   1.02618886]\n",
        " [ 1.0263544   1.02635564]\n",
        " [ 1.02475412  1.00188263]\n",
        " [ 4.13662868  4.13764863]\n",
        " [ 4.03899586  4.03921924]\n",
        " [ 4.07617707  4.07667953]\n",
        " [ 3.99911673  3.97976046]\n",
        " [ 4.17066416  4.17200649]\n",
        " [ 4.09961077  4.10030488]\n",
        " [ 4.14270294  4.1437789 ]\n",
        " [ 3.99911352  3.82622662]\n",
        " [ 4.01634194  4.01641106]\n",
        " [ 3.99914098  3.90986636]\n",
        " [ 4.12816186  4.12910491]\n",
        " [ 4.15763399  4.15885049]\n",
        " [ 4.0816317   4.08217771]\n",
        " [ 4.14741769  4.14853759]\n",
        " [ 4.02093211  4.0210315 ]\n",
        " [ 3.99913803  3.91827579]\n",
        " [ 3.99913686  3.94390244]\n",
        " [ 4.13804245  4.13907538]\n",
        " [ 4.08386263  4.08442663]\n",
        " [ 4.15918037  4.16041165]\n",
        " [ 3.99913582  3.97122192]\n",
        " [ 3.99910938  3.91611935]\n",
        " [ 3.99912792  3.8788835 ]\n",
        " [ 4.08135357  4.08189733]\n",
        " [ 4.04766798  4.04795362]\n",
        " [ 3.99913548  3.90433558]\n",
        " [ 3.99912028  3.74403866]\n",
        " [ 4.10345155  4.10417818]\n",
        " [ 3.99913163  3.86157925]\n",
        " [ 3.99912285  3.99470163]\n",
        " [ 3.99914168  3.90441482]\n",
        " [ 4.08897785  4.08958353]\n",
        " [ 4.13279909  4.13378409]\n",
        " [ 3.99912329  3.98668061]\n",
        " [ 4.15205098  4.15321446]\n",
        " [ 4.06905768  4.06950427]\n",
        " [ 3.99911865  3.92922168]\n",
        " [ 3.99911829  3.95114629]\n",
        " [ 4.07660223  4.07710806]\n",
        " [ 3.99912933  3.91952667]\n",
        " [ 4.03671655  4.03692386]\n",
        " [ 3.99911383  3.93118169]\n",
        " [ 4.0357225   4.03592284]\n",
        " [ 3.99914061  3.91739694]\n",
        " [ 3.99914082  3.90741078]\n",
        " [ 4.09066216  4.09128169]\n",
        " [ 3.99910629  3.94631336]\n",
        " [ 3.99911909  3.8769579 ]\n",
        " [ 3.99911629  3.9420063 ]\n",
        " [ 4.02309188  4.02320568]\n",
        " [ 3.99912733  3.95754775]\n",
        " [ 4.10372192  4.10445085]\n",
        " [ 3.9991387   3.91553582]\n",
        " [ 4.13519372  4.13620054]\n",
        " [ 4.11795621  4.1188084 ]\n",
        " [ 3.99910471  3.92660737]\n",
        " [ 4.01515722  4.01521861]\n",
        " [ 4.14222669  4.14329824]\n",
        " [ 3.999111    3.93504175]\n",
        " [ 3.99912808  3.84554859]\n",
        " [ 4.08930359  4.08991194]\n",
        " [ 4.07445529  4.07494413]\n",
        " [ 3.99912274  3.94512791]\n",
        " [ 4.06673728  4.06716591]\n",
        " [ 4.13649592  4.13751466]\n",
        " [ 4.04974085  4.05004163]\n",
        " [ 4.01439315  4.01444958]\n",
        " [ 4.03308027  4.03326219]\n",
        " [ 3.99913992  3.95251343]\n",
        " [ 4.15379121  4.15497116]\n",
        " [ 4.10699486  4.10775177]\n",
        " [ 3.99912155  3.94643891]\n",
        " [ 4.10352671  4.10425398]\n",
        " [ 3.99912432  3.99074212]\n",
        " [ 4.1002211   4.10092036]\n",
        " [ 3.99911502  3.84394859]\n",
        " [ 3.99912487  3.87462921]\n",
        " [ 3.99911584  3.98819076]\n",
        " [ 4.07159582  4.0720622 ]\n",
        " [ 3.9991161   3.99125486]\n",
        " [ 4.14786312  4.1489872 ]\n",
        " [ 3.99912553  3.97387601]\n",
        " [ 3.99911074  3.97208746]\n",
        " [ 4.16517004  4.16645896]\n",
        " [ 4.05946166  4.05983476]\n",
        " [ 3.99910445  3.97541537]\n",
        " [ 4.07195621  4.07242541]\n",
        " [ 4.02639224  4.02652829]\n",
        " [ 3.99914018  3.9808996 ]\n",
        " [ 4.16302773  4.16429597]\n",
        " [ 4.06715362  4.06758547]\n",
        " [ 4.03884488  4.03906719]\n",
        " [ 4.10172769  4.10243969]\n",
        " [ 3.99910694  3.84311863]\n",
        " [ 4.01029423  4.01032425]\n",
        " [ 3.99913433  3.85968056]\n",
        " [ 4.02788991  4.02803613]\n",
        " [ 3.99912885  3.97587596]\n",
        " [ 4.1193812   4.12024594]\n",
        " [ 4.15686358  4.15807273]\n",
        " [ 2.45231599  2.265816  ]\n",
        " [ 2.36656738  1.96914046]\n",
        " [ 2.46366105  2.31240174]\n",
        " [ 2.43398229  2.19285486]\n",
        " [ 2.4560115   2.280892  ]\n",
        " [ 2.43068576  2.1801278 ]\n",
        " [ 2.47328489  2.35251719]\n",
        " [ 2.40438553  2.08430388]\n",
        " [ 2.40927615  2.10126025]\n",
        " [ 2.42569711  2.16113808]\n",
        " [ 2.45264824  2.26716711]\n",
        " [ 2.43087435  2.18085218]\n",
        " [ 2.49337996  2.44021347]\n",
        " [ 2.4326624   2.18774275]\n",
        " [ 2.41532204  2.12280149]\n",
        " [ 2.43456855  2.19513234]\n",
        " [ 2.56165449  2.56172864]\n",
        " [ 2.46441773  2.31553835]\n",
        " [ 2.43423523  2.19383697]\n",
        " [ 2.31477121  1.8583427 ]\n",
        " [ 2.43164885  2.18383188]\n",
        " [ 2.47768933  2.37101554]\n",
        " [ 2.4430351   2.22846   ]\n",
        " [ 2.49338072  2.44152736]\n",
        " [ 2.43906094  2.21271792]\n",
        " [ 2.38865691  2.03285094]\n",
        " [ 2.43806179  2.20878684]\n",
        " [ 2.46744125  2.32810324]\n",
        " [ 2.38292277  2.01532956]\n",
        " [ 2.4083262   2.09793303]\n",
        " [ 2.42099967  2.14357738]\n",
        " [ 2.47088225  2.34246008]\n",
        " [ 2.41202381  2.11097284]\n",
        " [ 2.4205034   2.14174127]\n",
        " [ 2.45155999  2.26274501]\n",
        " [ 2.41921777  2.13700236]\n",
        " [ 2.4601004   2.29768766]\n",
        " [ 2.39505641  2.05319862]\n",
        " [ 2.13472512  1.71047329]\n",
        " [ 2.40116192  2.07336756]\n",
        " [ 2.42683345  2.16543381]\n",
        " [ 2.4013426   2.07397537]\n",
        " [ 2.36905141  1.97579199]\n",
        " [ 2.47397398  2.35540621]\n",
        " [ 2.36312945  1.96014885]\n",
        " [ 2.435807    2.19995696]\n",
        " [ 2.40670811  2.0923027 ]\n",
        " [ 2.48140187  2.38666285]\n",
        " [ 2.46721395  2.32715695]\n",
        " [ 2.38124213  2.01032364]\n",
        " [ 2.76778038  2.7681378 ]\n",
        " [ 2.74481172  2.74514042]\n",
        " [ 2.81608396  2.81649727]\n",
        " [ 2.72885201  2.72916011]\n",
        " [ 2.80594252  2.80634468]\n",
        " [ 2.63931894  2.6395045 ]\n",
        " [ 2.70450013  2.70477591]\n",
        " [ 2.85993664  2.86039383]\n",
        " [ 2.78809562  2.78847737]\n",
        " [ 2.79344006  2.79382803]\n",
        " [ 2.7981595   2.79855288]\n",
        " [ 2.87842902  2.8789023 ]\n",
        " [ 2.73845526  2.73877582]\n",
        " [ 2.68548721  2.68573715]\n",
        " [ 2.69970663  2.69997594]\n",
        " [ 2.77804978  2.77841963]\n",
        " [ 2.96317621  2.96369991]\n",
        " [ 2.69637241  2.6966372 ]\n",
        " [ 2.8973254   2.89781342]\n",
        " [ 2.65015996  2.65036081]\n",
        " [ 2.66961989  2.66984794]\n",
        " [ 2.79768092  2.79807376]\n",
        " [ 2.87664282  2.87711461]\n",
        " [ 2.71494814  2.7152379 ]\n",
        " [ 2.79785411  2.79824714]\n",
        " [ 2.65900729  2.65922055]\n",
        " [ 2.82025567  2.82067347]\n",
        " [ 2.81078472  2.81119225]\n",
        " [ 2.83541023  2.83584379]\n",
        " [ 2.95939813  2.95992052]\n",
        " [ 2.86840661  2.86887136]\n",
        " [ 2.81868012  2.81909622]\n",
        " [ 3.04516902  3.04569564]\n",
        " [ 2.85804251  2.85849797]\n",
        " [ 2.81388522  2.81429614]\n",
        " [ 2.91104646  2.91154401]\n",
        " [ 2.70926982  2.709552  ]\n",
        " [ 2.85799847  2.85845388]\n",
        " [ 2.80843332  2.80883824]\n",
        " [ 2.81212351  2.81253251]\n",
        " [ 3.01334668  3.01387827]\n",
        " [ 2.84073784  2.84117674]\n",
        " [ 2.69223982  2.692499  ]\n",
        " [ 2.7557455   2.75608802]\n",
        " [ 2.60556201  2.60569947]\n",
        " [ 2.81001457  2.81042124]\n",
        " [ 2.9086392   2.90913515]\n",
        " [ 2.80282112  2.80321978]\n",
        " [ 2.58606597  2.58617539]\n",
        " [ 2.91534553  2.91584585]]\n"
       ]
      }
     ],
     "prompt_number": 61
    },
    {
     "cell_type": "code",
     "collapsed": false,
     "input": [
      "plotScatter(SEPs[:,0],\"SEPs plot\",\"r\");"
     ],
     "language": "python",
     "metadata": {},
     "outputs": [
      {
       "metadata": {},
       "output_type": "display_data",
       "png": "[encoded data removed]",
       "text": [
        "<matplotlib.figure.Figure at 0x7698518>"
       ]
      }
     ],
     "prompt_number": 58
    },
    {
     "cell_type": "code",
     "collapsed": false,
     "input": [
      "plotScatter(data,\"scatter plot\",\"r\");"
     ],
     "language": "python",
     "metadata": {},
     "outputs": [
      {
       "metadata": {},
       "output_type": "display_data",
       "png": "[encoded data removed]",
       "text": [
        "<matplotlib.figure.Figure at 0x78b7fd0>"
       ]
      }
     ],
     "prompt_number": 57
    },
    {
     "cell_type": "code",
     "collapsed": false,
     "input": [],
     "language": "python",
     "metadata": {},
     "outputs": []
    }
   ],
   "metadata": {}
  }
 ]
}