{
 "metadata": {
  "name": ""
 },
 "nbformat": 3,
 "nbformat_minor": 0,
 "worksheets": [
  {
   "cells": [
    {
     "cell_type": "markdown",
     "metadata": {},
     "source": [
      "$$ L(r^*) := {x : \\sigma^2(x) \\leq r^* } = C_1 \\cup ... \\cup C_p$$\n",
      "\n",
      "where $C_i, i = 1, ..., p $ are disjoint connected sets corresponding to different clusters"
     ]
    },
    {
     "cell_type": "markdown",
     "metadata": {},
     "source": [
      "$$\\frac{dx}{dt} = F(x) := - \\nabla \\sigma^2(x) $$"
     ]
    },
    {
     "cell_type": "markdown",
     "metadata": {},
     "source": [
      "$$\\{y: \\sigma^2(y) = r^*\\} $$\n"
     ]
    },
    {
     "cell_type": "markdown",
     "metadata": {},
     "source": [
      "$$A(s):=\\{x(0) \\in \\mathscr{R}^n : \\lim_{t \\to \\infty} x(t) = s \\} $$"
     ]
    },
    {
     "cell_type": "markdown",
     "metadata": {},
     "source": [
      "$$x(t)\uff1a \\mathscr{R} \\to \\mathscr{R^n}$$"
     ]
    },
    {
     "cell_type": "markdown",
     "metadata": {},
     "source": [
      "$$x(0) = x_0$$"
     ]
    },
    {
     "cell_type": "markdown",
     "metadata": {},
     "source": [
      "$$x \\in \\mathscr{R}^n$$"
     ]
    },
    {
     "cell_type": "markdown",
     "metadata": {},
     "source": [
      "$$\\{y: \\sigma^2(y) = r^*\\}$$"
     ]
    },
    {
     "cell_type": "markdown",
     "metadata": {},
     "source": [
      "$$A(s) := \\{ x(0) \\in \\mathscr{R^n} : \\lim_{r \\to \\infty} x(t) = s \\} $$"
     ]
    },
    {
     "cell_type": "markdown",
     "metadata": {},
     "source": []
    },
    {
     "cell_type": "code",
     "collapsed": false,
     "input": [],
     "language": "python",
     "metadata": {},
     "outputs": []
    }
   ],
   "metadata": {}
  }
 ]
}